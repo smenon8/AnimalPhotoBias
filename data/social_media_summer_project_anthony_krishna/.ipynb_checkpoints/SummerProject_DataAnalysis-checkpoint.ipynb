{
 "cells": [
  {
   "cell_type": "code",
   "execution_count": 11,
   "metadata": {
    "collapsed": false
   },
   "outputs": [
    {
     "data": {
      "text/plain": [
       "<module 'DataStructsHelperAPI' from '/Users/sreejithmenon/CodeBase/AWESOME/script/DataStructsHelperAPI.py'>"
      ]
     },
     "execution_count": 11,
     "metadata": {},
     "output_type": "execute_result"
    }
   ],
   "source": [
    "import json\n",
    "import importlib\n",
    "\n",
    "import DataStructsHelperAPI as DS\n",
    "importlib.reload(DS)"
   ]
  },
  {
   "cell_type": "code",
   "execution_count": 5,
   "metadata": {
    "collapsed": false
   },
   "outputs": [],
   "source": [
    "gid_aid_map = DS.json_loader(\"giraffe_gid_aid_map.json\") # all gid-aid\n",
    "aid_ftr_map = DS.json_loader(\"aid_details_map.json\") # all gid-ftrs\n",
    "\n",
    "flickr_gids = list(map(str, DS.json_loader(\"gid_filename_flickr.json\").values()))\n",
    "bing_gids = list(map(str, DS.json_loader(\"gid_filename_bing.json\").values()))\n",
    "\n"
   ]
  },
  {
   "cell_type": "code",
   "execution_count": 7,
   "metadata": {
    "collapsed": true
   },
   "outputs": [],
   "source": [
    "# this method will filter out the full_map to contain only the items contained in source_list\n",
    "def filter_by_src(source_list, full_map):\n",
    "    filtered_dict = {}\n",
    "    for key in full_map.keys():\n",
    "        if key in set(source_list):\n",
    "            filtered_dict[key] = full_map[key]\n",
    "            \n",
    "    return filtered_dict"
   ]
  },
  {
   "cell_type": "markdown",
   "metadata": {},
   "source": [
    "## Filter out Flickr/Bing data - For GID-AID"
   ]
  },
  {
   "cell_type": "code",
   "execution_count": 12,
   "metadata": {
    "collapsed": true
   },
   "outputs": [],
   "source": [
    "flickr_gid_aid_map = filter_by_src(flickr_gids, gid_aid_map)\n",
    "DS.json_dumper(flickr_gid_aid_map, \"flickr_giraffe_gid_aid_map_soc_m.json\")\n",
    "\n",
    "bing_gid_aid_map = filter_by_src(bing_gids, gid_aid_map)\n",
    "DS.json_dumper(bing_gid_aid_map, \"bing_giraffe_gid_aid_map_soc_m.json.json\")"
   ]
  },
  {
   "cell_type": "code",
   "execution_count": 18,
   "metadata": {
    "collapsed": false
   },
   "outputs": [
    {
     "name": "stdout",
     "output_type": "stream",
     "text": [
      "False\n",
      "698\n",
      "2\n"
     ]
    }
   ],
   "source": [
    "'''\n",
    "ideally, \n",
    "len(gid_aid_map) = len(flickr_gids) + len(bing_gids) -- violated\n",
    "no overlap between flickr and bing images -- violated\n",
    "''' \n",
    "\n",
    "print(len(gid_aid_map) == len(flickr_gids) + len(bing_gids))\n",
    "\n",
    "print(len(gid_aid_map) - (len(flickr_gids) + len(bing_gids))) \n",
    "# 698 images are neither from flickr nor bing, where is this coming from?\n",
    "\n",
    "print(len(set(flickr_gids).intersection(set(bing_gids)))) \n",
    "# should be 0, ideally\n",
    "# 2 images overlap? Why?"
   ]
  },
  {
   "cell_type": "markdown",
   "metadata": {},
   "source": [
    "## Filter out Flickr/Bing data - For AID-Features"
   ]
  },
  {
   "cell_type": "code",
   "execution_count": 25,
   "metadata": {
    "collapsed": false
   },
   "outputs": [],
   "source": [
    "flickr_aids = [str(aid) for aid_list in list(flickr_gid_aid_map.values()) for aid in aid_list[0]]\n",
    "bing_aids = [str(aid) for aid_list in list(bing_gid_aid_map.values()) for aid in aid_list[0]]"
   ]
  },
  {
   "cell_type": "code",
   "execution_count": 32,
   "metadata": {
    "collapsed": false
   },
   "outputs": [
    {
     "name": "stdout",
     "output_type": "stream",
     "text": [
      "2381\n",
      "1\n"
     ]
    }
   ],
   "source": [
    "flickr_aid_ftr_map = filter_by_src(flickr_aids, aid_ftr_map)\n",
    "print(len(flickr_aid_ftr_map))\n",
    "DS.json_dumper(flickr_gid_aid_map, \"flickr_giraffe_aid_ftr_map_soc_m.json\")\n",
    "\n",
    "bing_aid_ftr_map = filter_by_src(bing_aids, aid_ftr_map) # why is the length 1? \n",
    "print(len(bing_aid_ftr_map))\n",
    "DS.json_dumper(flickr_gid_aid_map, \"bing_giraffe_aid_ftr_map_soc_m.json\")"
   ]
  },
  {
   "cell_type": "code",
   "execution_count": 36,
   "metadata": {
    "collapsed": false
   },
   "outputs": [
    {
     "name": "stdout",
     "output_type": "stream",
     "text": [
      "False\n",
      "2\n"
     ]
    }
   ],
   "source": [
    "'''\n",
    "ideally, len(aid_ftr_map) = len(flickr_aids) + len(bing_aids) -- violated\n",
    "no overlap between flickr annotations and bing annotations\n",
    "'''\n",
    "\n",
    "print(len(aid_ftr_map) == len(flickr_aids) + len(bing_aids))\n",
    "print(len(set(flickr_aids).intersection(set(bing_aids))))"
   ]
  },
  {
   "cell_type": "code",
   "execution_count": 45,
   "metadata": {
    "collapsed": false
   },
   "outputs": [
    {
     "data": {
      "text/plain": [
       "(5013, 4307, 706, 4711)"
      ]
     },
     "execution_count": 45,
     "metadata": {},
     "output_type": "execute_result"
    }
   ],
   "source": [
    "# notice the discrepancy here -- this is possibly because features were not extracted for bing images at all. \n",
    "# maybe, identification didn't complete\n",
    "len(flickr_aids) + len(bing_aids), len(flickr_aids), len(bing_aids), len(aid_ftr_map)"
   ]
  },
  {
   "cell_type": "code",
   "execution_count": null,
   "metadata": {
    "collapsed": true
   },
   "outputs": [],
   "source": []
  }
 ],
 "metadata": {
  "kernelspec": {
   "display_name": "Python 3",
   "language": "python",
   "name": "python3"
  },
  "language_info": {
   "codemirror_mode": {
    "name": "ipython",
    "version": 3
   },
   "file_extension": ".py",
   "mimetype": "text/x-python",
   "name": "python",
   "nbconvert_exporter": "python",
   "pygments_lexer": "ipython3",
   "version": "3.5.2"
  }
 },
 "nbformat": 4,
 "nbformat_minor": 2
}
