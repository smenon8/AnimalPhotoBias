{
 "cells": [
  {
   "cell_type": "raw",
   "metadata": {
    "collapsed": true
   },
   "source": [
    "Script for counting the number of times an animal was photographed\n",
    "Author: Sreejith Menon\n",
    "Date: May 25 2016"
   ]
  },
  {
   "cell_type": "code",
   "execution_count": 95,
   "metadata": {
    "collapsed": false
   },
   "outputs": [
    {
     "data": {
      "text/plain": [
       "<module 'GetPropertiesAPI' from '/Users/sreejithmenon/Google Drive/PythonCode/AnimalPhotoBias/script/GetPropertiesAPI.py'>"
      ]
     },
     "execution_count": 95,
     "metadata": {},
     "output_type": "execute_result"
    }
   ],
   "source": [
    "import GetPropertiesAPI as GP\n",
    "from collections import Counter\n",
    "import pandas as pd\n",
    "import importlib\n",
    "importlib.reload(GP)"
   ]
  },
  {
   "cell_type": "code",
   "execution_count": 84,
   "metadata": {
    "collapsed": false
   },
   "outputs": [],
   "source": [
    "aid_list = []\n",
    "gidAidDict = {}\n",
    "for gid in range(1,500):\n",
    "    aid = GP.getAnnotID(gid)\n",
    "    aid_list.append(aid)\n",
    "    gidAidDict[gid] = aid\n",
    "    \n",
    "aid_list = list(filter(lambda x: x != None,aid_list))"
   ]
  },
  {
   "cell_type": "code",
   "execution_count": 85,
   "metadata": {
    "collapsed": false
   },
   "outputs": [],
   "source": [
    "aids = []\n",
    "for aid_l in aid_list:\n",
    "    for aid in aid_l:\n",
    "        aids.append(aid)"
   ]
  },
  {
   "cell_type": "code",
   "execution_count": 99,
   "metadata": {
    "collapsed": false
   },
   "outputs": [],
   "source": [
    "aidContribTupList = []\n",
    "for aid in aids:\n",
    "    contrib = GP.getImageFeature(aid,'image_contributor_tag')\n",
    "    aidContribTupList.append((aid,contrib[0]))"
   ]
  },
  {
   "cell_type": "code",
   "execution_count": 86,
   "metadata": {
    "collapsed": false
   },
   "outputs": [],
   "source": [
    "aidNidMap = {}\n",
    "aidNamesMap = {}\n",
    "aidNidTupList = [] # modified\n",
    "\n",
    "for aid in aids:\n",
    "    nid = GP.getImageFeature(aid,'nids')\n",
    "    aidNidMap[aid] = nid\n",
    "    aidNidTupList.append((aid,nid[0]))"
   ]
  },
  {
   "cell_type": "code",
   "execution_count": 87,
   "metadata": {
    "collapsed": false
   },
   "outputs": [],
   "source": [
    "nids = []\n",
    "for aid in aidNidMap.keys():\n",
    "    nids.append(aidNidMap[aid][0])"
   ]
  },
  {
   "cell_type": "code",
   "execution_count": 88,
   "metadata": {
    "collapsed": false
   },
   "outputs": [],
   "source": [
    "nids = list(filter(lambda x : x > 0,nids))"
   ]
  },
  {
   "cell_type": "code",
   "execution_count": 89,
   "metadata": {
    "collapsed": false
   },
   "outputs": [],
   "source": [
    "counter_nid,counter_name = Counter(nids),Counter(names)"
   ]
  },
  {
   "cell_type": "code",
   "execution_count": 90,
   "metadata": {
    "collapsed": false
   },
   "outputs": [],
   "source": [
    "gidAidDict\n",
    "aidGidTupList = [] # key : aid and value : gid # modified\n",
    "for gid in gidAidDict.keys():\n",
    "    if gidAidDict[gid] != None:\n",
    "        for aid in gidAidDict[gid]:\n",
    "            aidGidTupList.append((aid,gid))"
   ]
  },
  {
   "cell_type": "code",
   "execution_count": 91,
   "metadata": {
    "collapsed": false
   },
   "outputs": [],
   "source": [
    "aidGidDf = pd.DataFrame(aidGidTupList,columns = ['AID','GID']) \n",
    "aidNidDf = pd.DataFrame(aidNidTupList,columns = ['AID','NID']) \n",
    "aidContribDf = pd.DataFrame(aidContribTupList,columns = ['AID','CONTRIBUTOR'])\n",
    "aidNidDf = aidNidDf[(aidNidDf['NID']>0)]"
   ]
  },
  {
   "cell_type": "code",
   "execution_count": 92,
   "metadata": {
    "collapsed": false
   },
   "outputs": [],
   "source": [
    "aidGidNidDf = pd.merge(aidGidDf,aidNidDf,left_on = 'AID',right_on = 'AID')\n",
    "aidGidNidContribDf = pd.merge(aidGidNidDf,aidContribDf,left_on = 'AID',right_on = 'AID')"
   ]
  },
  {
   "cell_type": "code",
   "execution_count": 107,
   "metadata": {
    "collapsed": false
   },
   "outputs": [],
   "source": [
    "aidGidNidContribDf.to_csv('results.csv',index=False)"
   ]
  },
  {
   "cell_type": "code",
   "execution_count": null,
   "metadata": {
    "collapsed": true
   },
   "outputs": [],
   "source": []
  }
 ],
 "metadata": {
  "kernelspec": {
   "display_name": "Python 3",
   "language": "python",
   "name": "python3"
  },
  "language_info": {
   "codemirror_mode": {
    "name": "ipython",
    "version": 3
   },
   "file_extension": ".py",
   "mimetype": "text/x-python",
   "name": "python",
   "nbconvert_exporter": "python",
   "pygments_lexer": "ipython3",
   "version": "3.5.1"
  }
 },
 "nbformat": 4,
 "nbformat_minor": 0
}
