{
 "cells": [
  {
   "cell_type": "raw",
   "metadata": {
    "collapsed": true
   },
   "source": [
    "Script for counting the number of times an animal was photographed\n",
    "Author: Sreejith Menon\n",
    "Date: May 25 2016"
   ]
  },
  {
   "cell_type": "code",
   "execution_count": 34,
   "metadata": {
    "collapsed": true
   },
   "outputs": [],
   "source": [
    "import GetPropertiesAPI as GP\n",
    "from collections import Counter"
   ]
  },
  {
   "cell_type": "code",
   "execution_count": 35,
   "metadata": {
    "collapsed": true
   },
   "outputs": [],
   "source": [
    "aid_list = []\n",
    "for gid in range(1,1000):\n",
    "    aid_list.append(GP.getAnnotID(gid))\n",
    "    \n",
    "aid_list = list(filter(lambda x: x != None,aid_list))"
   ]
  },
  {
   "cell_type": "code",
   "execution_count": 36,
   "metadata": {
    "collapsed": false
   },
   "outputs": [],
   "source": [
    "aids = []\n",
    "for aid_l in aid_list:\n",
    "    for aid in aid_l:\n",
    "        aids.append(aid)"
   ]
  },
  {
   "cell_type": "code",
   "execution_count": 37,
   "metadata": {
    "collapsed": false
   },
   "outputs": [],
   "source": [
    "aidNidMap = {}\n",
    "aidNamesMap = {}\n",
    "\n",
    "for aid in aids:\n",
    "    nid = GP.getImageFeature(aid,'nids')\n",
    "    names = GP.getImageFeature(aid,'names')\n",
    "    aidNidMap[aid] = nid\n",
    "    aidNamesMap[aid] = names"
   ]
  },
  {
   "cell_type": "code",
   "execution_count": 38,
   "metadata": {
    "collapsed": false
   },
   "outputs": [],
   "source": [
    "nids = []\n",
    "names = []\n",
    "for aid in aidNidMap.keys():\n",
    "    nids.append(aidNidMap[aid][0])\n",
    "    names.append(aidNamesMap[aid][0])"
   ]
  },
  {
   "cell_type": "code",
   "execution_count": 39,
   "metadata": {
    "collapsed": false
   },
   "outputs": [],
   "source": [
    "nids = list(filter(lambda x : x > 0,nids))\n",
    "names = list(filter(lambda x : x != '____',names))"
   ]
  },
  {
   "cell_type": "code",
   "execution_count": 40,
   "metadata": {
    "collapsed": false
   },
   "outputs": [],
   "source": [
    "counter_nid,counter_name = Counter(nids),Counter(names)\n"
   ]
  }
 ],
 "metadata": {
  "kernelspec": {
   "display_name": "Python 3",
   "language": "python",
   "name": "python3"
  },
  "language_info": {
   "codemirror_mode": {
    "name": "ipython",
    "version": 3
   },
   "file_extension": ".py",
   "mimetype": "text/x-python",
   "name": "python",
   "nbconvert_exporter": "python",
   "pygments_lexer": "ipython3",
   "version": "3.5.1"
  }
 },
 "nbformat": 4,
 "nbformat_minor": 0
}
