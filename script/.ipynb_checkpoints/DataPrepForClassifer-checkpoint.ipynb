{
 "cells": [
  {
   "cell_type": "code",
   "execution_count": 1,
   "metadata": {
    "collapsed": true
   },
   "outputs": [],
   "source": [
    "import csv\n",
    "from ast import literal_eval\n",
    "import pandas as pd\n",
    "import json\n",
    "from collections import OrderedDict"
   ]
  },
  {
   "cell_type": "code",
   "execution_count": 2,
   "metadata": {
    "collapsed": false
   },
   "outputs": [],
   "source": [
    "def genHead(dataDict,ftr):\n",
    "    if ftr != 'tags':\n",
    "        ftrList = [data[gid][ftr].split(',') for gid in dataDict.keys()]\n",
    "    else:\n",
    "        ftrList = [literal_eval(data[gid][ftr]) for gid in dataDict.keys()]\n",
    "        \n",
    "    ftrList = {item for block in ftrList for item in block}\n",
    "    \n",
    "    return list(ftrList)"
   ]
  },
  {
   "cell_type": "code",
   "execution_count": 3,
   "metadata": {
    "collapsed": true
   },
   "outputs": [],
   "source": [
    "# Remove unwanted columns\n",
    "df = pd.DataFrame.from_csv(\"../FinalResults/ImgShrRnkListWithTags.csv\")\n",
    "cols = list(df.columns)\n",
    "df.drop('URL',1,inplace=True)\n",
    "df.drop('Album',1,inplace=True)\n",
    "df.drop('INDIVIDUAL_NAME',1,inplace=True)\n",
    "df.reset_index(inplace=True)\n",
    "df.to_csv(\"/tmp/test.csv\",index=False)"
   ]
  },
  {
   "cell_type": "code",
   "execution_count": 4,
   "metadata": {
    "collapsed": false
   },
   "outputs": [],
   "source": [
    "reader = csv.reader(open(\"/tmp/test.csv\",\"r\"))\n",
    "head = reader.__next__()\n",
    "data = {}\n",
    "for row in reader:\n",
    "    temp = {}\n",
    "    for i in range(1,len(row)):\n",
    "        temp[head[i]] = row[i] \n",
    "    data[row[0]] = temp\n",
    "    \n",
    "json.dump(data,open(\"/tmp/test.json\",\"w\"),indent=4)\n",
    "allAttribs = genHead(data,'SPECIES') + genHead(data,'SEX') + genHead(data,'AGE') + genHead(data,'QUALITY') + genHead(data,'VIEW_POINT') + genHead(data,'tags')"
   ]
  },
  {
   "cell_type": "code",
   "execution_count": 5,
   "metadata": {
    "collapsed": true
   },
   "outputs": [],
   "source": [
    "from collections import OrderedDict\n",
    "gidAttribDict = {}\n",
    "for gid in data.keys():\n",
    "    ftrDict = data[gid]\n",
    "    attribDict = OrderedDict.fromkeys(allAttribs,0)\n",
    "    \n",
    "    ftrs = ['SPECIES','SEX','AGE','QUALITY','VIEW_POINT']\n",
    "    \n",
    "    for ftr in ftrs:\n",
    "        spcs = ftrDict[ftr].split(',')\n",
    "        for itm in spcs:\n",
    "            attribDict[itm] = 1\n",
    "            \n",
    "    # logic for tgs\n",
    "    tgs = literal_eval(ftrDict['tags'])\n",
    "    for tag in tgs:\n",
    "        attribDict[tag] = 1\n",
    "        \n",
    "    attribDict['TARGET'] = 1 if float(ftrDict['Proportion'] ) > 50 else 0\n",
    "    \n",
    "    gidAttribDict[gid] = attribDict\n",
    "    \n",
    "json.dump(gidAttribDict,open(\"/tmp/gidAttribDict.json\",\"w\"),indent=4)\n",
    "\n",
    "pd.DataFrame(gidAttribDict).transpose().to_csv(\"/tmp/gidAttribDict.csv\")"
   ]
  },
  {
   "cell_type": "code",
   "execution_count": 58,
   "metadata": {
    "collapsed": false
   },
   "outputs": [
    {
     "name": "stdout",
     "output_type": "stream",
     "text": [
      "54.054054054054056\n"
     ]
    }
   ],
   "source": [
    "from sklearn.linear_model import LogisticRegression\n",
    "logistic = LogisticRegression()\n",
    "\n",
    "df = pd.DataFrame(gidAttribDict).transpose()\n",
    "df = df[allAttribs + [\"TARGET\"]]\n",
    "\n",
    "train_cols = df.columns[:len(allAttribs)]\n",
    "\n",
    "logistic.fit(df[train_cols].head(300),df['TARGET'].head(300))\n",
    "l = list(logistic.predict(df[train_cols].tail(851)))\n",
    "targs = list(df['TARGET'].tail(851))\n",
    "\n",
    "count = 0\n",
    "for i in range(len(l)):\n",
    "    if l[i] == targ[i]:\n",
    "        count += 1\n",
    "        \n",
    "print(count*100/851)\n",
    "print(logistic.predict_proba(df[train_cols].tail(851)))"
   ]
  },
  {
   "cell_type": "code",
   "execution_count": 59,
   "metadata": {
    "collapsed": false
   },
   "outputs": [
    {
     "data": {
      "text/plain": [
       "array([[ 0.71370674,  0.28629326],\n",
       "       [ 0.87982067,  0.12017933],\n",
       "       [ 0.71454933,  0.28545067],\n",
       "       ..., \n",
       "       [ 0.34925166,  0.65074834],\n",
       "       [ 0.32458583,  0.67541417],\n",
       "       [ 0.69055674,  0.30944326]])"
      ]
     },
     "execution_count": 59,
     "metadata": {},
     "output_type": "execute_result"
    }
   ],
   "source": [
    "logistic.predict_proba(df[train_cols].tail(851))"
   ]
  },
  {
   "cell_type": "code",
   "execution_count": null,
   "metadata": {
    "collapsed": true
   },
   "outputs": [],
   "source": []
  }
 ],
 "metadata": {
  "kernelspec": {
   "display_name": "Python 3",
   "language": "python",
   "name": "python3"
  },
  "language_info": {
   "codemirror_mode": {
    "name": "ipython",
    "version": 3
   },
   "file_extension": ".py",
   "mimetype": "text/x-python",
   "name": "python",
   "nbconvert_exporter": "python",
   "pygments_lexer": "ipython3",
   "version": "3.5.1"
  }
 },
 "nbformat": 4,
 "nbformat_minor": 0
}
