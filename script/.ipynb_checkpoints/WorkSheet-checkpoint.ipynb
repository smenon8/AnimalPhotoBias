{
 "cells": [
  {
   "cell_type": "raw",
   "metadata": {},
   "source": [
    "Processing data from .results files\n",
    "Author : Sreejith Menon\n",
    "Date : May 25 2016\n",
    "\n",
    "List of all dataframes\n",
    "resultsPerJobDf['GID','Album','Shared','Not Shared','Proportion'] \n",
    "aidGidDf['AID','GID']\n",
    "aidFeaturesDf['AID',[FEATURES]]\n",
    "rankListImgsDf['GID','Shared','Not Shared','Proportion']\n",
    "resultsAIDGIDDf['AID' + [resultsPerJobDf]]\n",
    "gidAidResultsFeaturesDf['GID','AID',[FEATURES],[resultsPerJobDf]]"
   ]
  },
  {
   "cell_type": "code",
   "execution_count": 1,
   "metadata": {
    "collapsed": false
   },
   "outputs": [],
   "source": [
    "import importlib\n",
    "import JobsMapResultsFilesToContainerObjs as ImageMap\n",
    "import pandas as pd\n",
    "import statistics as s\n",
    "import re\n",
    "\n",
    "gidAidMapFl = \"../data/experiment2_gid_aid_map.json\"\n",
    "aidFeatureMapFl = \"../data/experiment2_aid_features.json\"\n",
    "imgJobMap = \"../data/imageGID_job_map_expt2_corrected.csv\"\n",
    "# importlib.reload(ImageMap)"
   ]
  },
  {
   "cell_type": "code",
   "execution_count": 36,
   "metadata": {
    "collapsed": true
   },
   "outputs": [],
   "source": [
    "def getCountingLogicOld(gidAidMapFl,aidFeatureMapFl,feature):\n",
    "    featuresPerImg = ImageMap.extractImageFeaturesFromMap(gidAidMapFl,aidFeatureMapFl,feature)\n",
    "    \n",
    "    countLogic = {}\n",
    "    for gid in featuresPerImg.keys():\n",
    "        numInds = len(featuresPerImg[gid]) # number of individuals in a particular image\n",
    "        isHomogeneous = True # are all the individuals of the same species\n",
    "        firstEle = featuresPerImg[gid][0]\n",
    "        for species in featuresPerImg[gid]:\n",
    "            if species != firstEle:\n",
    "                isHomogeneous = False\n",
    "        if isHomogeneous:\n",
    "            countFor = firstEle\n",
    "        else:\n",
    "            countFor = None\n",
    "        \n",
    "        countLogic[gid] = [numInds,isHomogeneous,countFor]\n",
    "        \n",
    "    return countLogic"
   ]
  },
  {
   "cell_type": "code",
   "execution_count": 19,
   "metadata": {
    "collapsed": true
   },
   "outputs": [],
   "source": [
    "# independent of the results\n",
    "def getCountingLogic(gidAidMapFl,aidFeatureMapFl,feature):\n",
    "    featuresPerImg = ImageMap.extractImageFeaturesFromMap(gidAidMapFl,aidFeatureMapFl,feature)\n",
    "    \n",
    "    countLogic = {}\n",
    "    for gid in featuresPerImg.keys():\n",
    "        numInds = len(featuresPerImg[gid]) # number of individuals in a particular image\n",
    "        countFor = list(set(featuresPerImg[gid]))\n",
    "        countLogic[gid] = [numInds,countFor]\n",
    "        \n",
    "    return countLogic"
   ]
  },
  {
   "cell_type": "code",
   "execution_count": 2,
   "metadata": {
    "collapsed": false
   },
   "outputs": [],
   "source": [
    "'''\n",
    "resultsPerJobDf > Gives you shares/not shares per image per album (Python Object of .results file converted to DF)\n",
    "resultsPerJobDf['GID','Album','Shared','Not Shared','Proportion']\n",
    "'''\n",
    "imgAlbumDict = ImageMap.genImgAlbumDictFromMap(\"../data/imageGID_job_map_expt2_corrected.csv\")\n",
    "master = ImageMap.createResultDict(1,40)\n",
    "imgShareNotShareList,noResponse = ImageMap.imgShareCountsPerAlbum(imgAlbumDict,master)\n",
    "\n",
    "resultsPerJobDf = pd.DataFrame(imgShareNotShareList,columns = ['GID','Album','Shared','Not Shared','Proportion'])"
   ]
  },
  {
   "cell_type": "code",
   "execution_count": 3,
   "metadata": {
    "collapsed": true
   },
   "outputs": [],
   "source": [
    "'''\n",
    "Code for reading from json files into data frames\n",
    "aidGidDf['AID','GID']\n",
    "aidFeaturesDf['AID',[FEATURES]]\n",
    "'''\n",
    "aidGidDict = ImageMap.genAidGidTupListFromMap('../data/experiment2_gid_aid_map.json')\n",
    "aidGidDf= pd.DataFrame(aidGidDict,columns = ['AID','GID'])\n",
    "\n",
    "aidFeaturesDf = pd.DataFrame(ImageMap.genAidFeatureDictList('../data/experiment2_aid_features.json'))\n",
    "aidFeaturesDf['AID'] = aidFeaturesDf['AID'].astype('int32')"
   ]
  },
  {
   "cell_type": "code",
   "execution_count": 4,
   "metadata": {
    "collapsed": false
   },
   "outputs": [],
   "source": [
    "'''\n",
    "rankListImgsDf  > Gives you the results of number of times each image was shared overall\n",
    "rankListImgsDf['GID','Shared','Not Shared','Proportion']\n",
    "'''\n",
    "rankListImgsDf = resultsPerJobDf.groupby(['GID'])['Shared','Not Shared'].sum() \n",
    "rankListImgsDf['Total'] = rankListImgsDf['Shared'] + rankListImgsDf['Not Shared']\n",
    "rankListImgsDf['Proportion'] = rankListImgsDf['Shared'] * 100 / rankListImgsDf['Total']\n",
    "rankListImgsDf = rankListImgsDf.sort_values(by = ['Proportion'],ascending = False)\n",
    "rankListImgsDf.to_csv('../data/rankListImages.csv')"
   ]
  },
  {
   "cell_type": "code",
   "execution_count": 5,
   "metadata": {
    "collapsed": true
   },
   "outputs": [],
   "source": [
    "'''\n",
    "resultsAIDGIDDf > Merged data frame that add's AID info to the results data\n",
    "resultsAIDGIDDf['AID' + [resultsPerJobDf]]\n",
    "\n",
    "gidAidResultsFeaturesDf > A master data frame that has results data merged along with all the image features\n",
    "gidAidResultsFeaturesDf['GID','AID',[FEATURES],[resultsPerJobDf]]\n",
    "\n",
    "UNRELIABLE RESULTS\n",
    "'''\n",
    "resultsAIDGIDDf = pd.merge(aidGidDf,resultsPerJobDf,left_on='GID',right_on = 'GID')\n",
    "\n",
    "gidAidResultsFeaturesDf = pd.merge(resultsAIDGIDDf,aidFeaturesDf,left_on = 'AID',right_on = 'AID') # most important data frame with all the info\n",
    "gidAidResultsFeaturesDf.to_csv(\"../data/resultsFeaturesComb.csv\",index=False)"
   ]
  },
  {
   "cell_type": "code",
   "execution_count": null,
   "metadata": {
    "collapsed": true
   },
   "outputs": [],
   "source": [
    "# no. of individuals per image\n",
    "feature = 'SPECIES'\n",
    "countLogic = getCountingLogic(gidAidMapFl,aidFeatureMapFl,feature)\n",
    "imgAlbumDict = ImageMap.genImgAlbumDictFromMap(imgJobMap)\n",
    "master = ImageMap.createResultDict(1,40)\n",
    "imgShareNotShareList,noResponse = ImageMap.imgShareCountsPerAlbum(imgAlbumDict,master)\n",
    "\n",
    "totOfIndsPerImg = {}\n",
    "for key in countLogic:\n",
    "    totOfIndsPerImg[countLogic[key][0]] = totOfIndsPerImg.get(countLogic[key][0],0) + 1\n",
    "    \n",
    "# Rank list by number of images\n",
    "noOfIndsPerImgSharesRnkLst = {}\n",
    "noOfIndsPerImgNotSharesRnkLst = {}\n",
    "\n",
    "for tup in imgShareNotShareList:\n",
    "    if tup[0] in countLogic.keys():\n",
    "        noOfIndsPerImgSharesRnkLst[countLogic[tup[0]][0]] = noOfIndsPerImgSharesRnkLst.get(countLogic[tup[0]][0],0) + tup[2]\n",
    "        noOfIndsPerImgNotSharesRnkLst[countLogic[tup[0]][0]] = noOfIndsPerImgNotSharesRnkLst.get(countLogic[tup[0]][0],0) + tup[3]"
   ]
  }
 ],
 "metadata": {
  "kernelspec": {
   "display_name": "Python 3",
   "language": "python",
   "name": "python3"
  },
  "language_info": {
   "codemirror_mode": {
    "name": "ipython",
    "version": 3
   },
   "file_extension": ".py",
   "mimetype": "text/x-python",
   "name": "python",
   "nbconvert_exporter": "python",
   "pygments_lexer": "ipython3",
   "version": "3.5.1"
  }
 },
 "nbformat": 4,
 "nbformat_minor": 0
}
