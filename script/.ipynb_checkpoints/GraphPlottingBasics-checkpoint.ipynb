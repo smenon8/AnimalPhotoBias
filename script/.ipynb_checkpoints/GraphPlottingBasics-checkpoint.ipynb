{
 "cells": [
  {
   "cell_type": "code",
   "execution_count": 2,
   "metadata": {
    "collapsed": true
   },
   "outputs": [],
   "source": [
    "import matplotlib.pyplot as plt\n",
    "\n",
    "x1 = [1,2,3]\n",
    "y1 = [4,5,6]\n",
    "\n",
    "x2 = [1,2,3]\n",
    "y2 = [10,11,12]\n",
    "\n",
    "plt.xlabel(\"X-axis\")\n",
    "plt.ylabel(\"Y-axis\")\n",
    "plt.title(\"A test graph\")\n",
    "plt.plot(x1,y1,label = 'first line')\n",
    "plt.plot(x2,y2,label = 'second line')\n",
    "\n",
    "plt.legend()\n",
    "plt.show()"
   ]
  },
  {
   "cell_type": "code",
   "execution_count": 7,
   "metadata": {
    "collapsed": true
   },
   "outputs": [],
   "source": [
    "# bar charts\n",
    "\n",
    "x = [2,4,6,8,10]\n",
    "y = [7,9,8,1,2]\n",
    "\n",
    "x2 = [1,3,5,7,9]\n",
    "y2 = [4,1,2,9,6]\n",
    "\n",
    "plt.bar(x,y,label='Bar1',color='red')\n",
    "plt.bar(x2,y2,label='Bar2',color='k')\n",
    "plt.xlabel(\"X-axis\")\n",
    "plt.ylabel(\"Y-axis\")\n",
    "plt.title(\"A test graph\")\n",
    "plt.legend()\n",
    "plt.show()"
   ]
  },
  {
   "cell_type": "code",
   "execution_count": 10,
   "metadata": {
    "collapsed": false
   },
   "outputs": [],
   "source": [
    "# histograms - generally used to show distributions\n",
    "\n",
    "pop_ages = [21,46,76,45,23,91,9,17,15,14,16,18,99,12,34,45,56,67,78,12,34,13,15,26,19,98,95,82]\n",
    "ids = [x for x in range(len(pop_ages))]\n",
    "\n",
    "# x axis not needed in histogram\n",
    "\n",
    "bins = [0,10,20,30,40,50,60,70,80,90,100,110] #ranges of data\n",
    "\n",
    "plt.hist(pop_ages,bins,histtype='bar',rwidth=0.8)\n",
    "plt.xlabel(\"X-axis\")\n",
    "plt.ylabel(\"Y-axis\")\n",
    "plt.title(\"A test graph\")\n",
    "#plt.legend()\n",
    "plt.show()"
   ]
  },
  {
   "cell_type": "code",
   "execution_count": null,
   "metadata": {
    "collapsed": true
   },
   "outputs": [],
   "source": [
    "# scatter plot - used to show relationship between two types of variables\n",
    "x = [2,4,6,8,10]\n",
    "y = [7,9,8,1,2]\n",
    "\n",
    "plt.scatter(x,y,label='skitscat',color = 'k')\n",
    "\n",
    "plt.xlabel(\"X-axis\")\n",
    "plt.ylabel(\"Y-axis\")\n",
    "plt.title(\"A test graph\")\n",
    "plt.legend()\n",
    "plt.show()"
   ]
  }
 ],
 "metadata": {
  "kernelspec": {
   "display_name": "Python 3",
   "language": "python",
   "name": "python3"
  },
  "language_info": {
   "codemirror_mode": {
    "name": "ipython",
    "version": 3
   },
   "file_extension": ".py",
   "mimetype": "text/x-python",
   "name": "python",
   "nbconvert_exporter": "python",
   "pygments_lexer": "ipython3",
   "version": "3.5.1"
  }
 },
 "nbformat": 4,
 "nbformat_minor": 0
}
