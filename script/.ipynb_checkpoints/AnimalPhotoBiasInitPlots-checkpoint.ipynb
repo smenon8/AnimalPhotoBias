{
 "cells": [
  {
   "cell_type": "code",
   "execution_count": 110,
   "metadata": {
    "collapsed": false
   },
   "outputs": [
    {
     "data": {
      "text/plain": [
       "' Date : 05th November 2015\\n    Author : Sreejith Menon\\n'"
      ]
     },
     "execution_count": 110,
     "metadata": {},
     "output_type": "execute_result"
    }
   ],
   "source": [
    "\"\"\" Date : 05th November 2015\n",
    "    Author : Sreejith Menon\n",
    "\"\"\""
   ]
  },
  {
   "cell_type": "code",
   "execution_count": 111,
   "metadata": {
    "collapsed": false
   },
   "outputs": [],
   "source": [
    "import csv\n",
    "import matplotlib.pyplot as plt\n",
    "import numpy as np\n",
    "import operator\n",
    "#%matplotlib inline"
   ]
  },
  {
   "cell_type": "code",
   "execution_count": 112,
   "metadata": {
    "collapsed": true
   },
   "outputs": [],
   "source": [
    "def count_stat(input_dict):\n",
    "    count_stat_output = {}\n",
    "    count_stat_output_sorted = {}\n",
    "\n",
    "    for row in input_dict:\n",
    "        name = input_dict[row]\n",
    "        if name in count_stat_output.keys():\n",
    "            curr_count = count_stat_output[name]\n",
    "            count_stat_output[name] = curr_count + 1\n",
    "        else:\n",
    "            count_stat_output[name] = 1\n",
    "    #count_stat_output_sorted = sorted(count_stat_output.items(), key=operator.itemgetter(0))\n",
    "    return count_stat_output"
   ]
  },
  {
   "cell_type": "code",
   "execution_count": 113,
   "metadata": {
    "collapsed": true
   },
   "outputs": [],
   "source": [
    "def plot_hist_from_dict(dict,x,y,i):\n",
    "    dict_length = len(dict)\n",
    "\n",
    "    X = np.arange(dict_length)\n",
    "\n",
    "    Figure = plt.figure(i)\n",
    "    Axis = Figure.add_subplot(1,1,1)\n",
    "    \n",
    "    for i in range(0,dict_length):\n",
    "        Axis.bar(X[i], y[i], align='center',width=0.5)\n",
    "\n",
    "    Axis.set_xticks(X)\n",
    "    xtickNames = Axis.set_xticklabels(x)\n",
    "    plt.setp(x)\n",
    "    plt.xticks(rotation=20)\n",
    "    ymax = max(y) + 1\n",
    "    plt.ylim(0,ymax)"
   ]
  },
  {
   "cell_type": "code",
   "execution_count": 114,
   "metadata": {
    "collapsed": true
   },
   "outputs": [],
   "source": [
    "data_dict = csv.DictReader(open(\"../data/giraffe_masai.csv\",\"r\"))\n",
    "car_id_name = {}"
   ]
  },
  {
   "cell_type": "code",
   "execution_count": 115,
   "metadata": {
    "collapsed": false
   },
   "outputs": [],
   "source": [
    "# Filtering out NNP GZC car data\n",
    "for row in data_dict:\n",
    "    search_string = \"NNP GZC Car\"\n",
    "    index = row[\"image_contributor\"].find(search_string)\n",
    "\n",
    "    if index != -1:\n",
    "        annotation_id = int(row[\"annotation_id\"])\n",
    "        contributor = row[\"image_contributor\"].strip().split('<COMMA>')\n",
    "        car_name = contributor[0].strip()\n",
    "        car_id_name[annotation_id] = car_name\n",
    "           "
   ]
  },
  {
   "cell_type": "code",
   "execution_count": 116,
   "metadata": {
    "collapsed": false
   },
   "outputs": [],
   "source": [
    "# Gathering the counts per car. Make this a function.\n",
    "picture_counts_un = count_stat(car_id_name)\n",
    "x = []\n",
    "y = []\n",
    "for w in sorted(picture_counts_un, key=picture_counts_un.get, reverse=True):\n",
    "    x.append(w.strip(\"NNP GZC Car\"))\n",
    "    y.append(picture_counts_un[w])\n"
   ]
  },
  {
   "cell_type": "code",
   "execution_count": 117,
   "metadata": {
    "collapsed": false
   },
   "outputs": [
    {
     "name": "stdout",
     "output_type": "stream",
     "text": [
      "\n"
     ]
    }
   ],
   "source": [
    "plot_hist_from_dict(picture_counts,x,y,1)"
   ]
  },
  {
   "cell_type": "code",
   "execution_count": 118,
   "metadata": {
    "collapsed": false
   },
   "outputs": [],
   "source": [
    "# Gathering picture counts per person. Replace the list with dictionary\n",
    "uniq_per = {}\n",
    "data_dict = csv.DictReader(open(\"../data/giraffe_masai.csv\",\"r\"))\n",
    "for row in data_dict:\n",
    "    search_string = \"NNP GZC Car\"\n",
    "    index = row[\"image_contributor\"].find(search_string)\n",
    "    \n",
    "    if index != -1:\n",
    "        row_str = row[\"image_contributor\"].strip(\"NNP GZC Car\")\n",
    "        annotation_id = int(row[\"annotation_id\"])\n",
    "        uniq_per[annotation_id] = row_str.replace('<COMMA>','')  "
   ]
  },
  {
   "cell_type": "code",
   "execution_count": 119,
   "metadata": {
    "collapsed": false
   },
   "outputs": [],
   "source": [
    "picture_counts_1 = count_stat(uniq_per)\n",
    "x = []\n",
    "y = []\n",
    "for w in sorted(picture_counts_1, key=picture_counts_1.get, reverse=True):\n",
    "    x.append(w.strip(\"Person\"))\n",
    "    y.append(picture_counts_1[w])"
   ]
  },
  {
   "cell_type": "code",
   "execution_count": 120,
   "metadata": {
    "collapsed": false
   },
   "outputs": [
    {
     "name": "stdout",
     "output_type": "stream",
     "text": [
      "\n"
     ]
    }
   ],
   "source": [
    "plot_hist_from_dict(picture_counts_1,x,y,2)"
   ]
  },
  {
   "cell_type": "code",
   "execution_count": 121,
   "metadata": {
    "collapsed": true
   },
   "outputs": [],
   "source": [
    "plt.show()"
   ]
  },
  {
   "cell_type": "code",
   "execution_count": null,
   "metadata": {
    "collapsed": true
   },
   "outputs": [],
   "source": []
  }
 ],
 "metadata": {
  "kernelspec": {
   "display_name": "Python 3",
   "language": "python",
   "name": "python3"
  }
 },
 "nbformat": 4,
 "nbformat_minor": 0
}
