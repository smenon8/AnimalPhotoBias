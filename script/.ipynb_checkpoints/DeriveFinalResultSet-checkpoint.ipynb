{
 "cells": [
  {
   "cell_type": "code",
   "execution_count": 2,
   "metadata": {
    "collapsed": false
   },
   "outputs": [
    {
     "data": {
      "text/plain": [
       "<module 'GetPropertiesAPI' from '/Users/sreejithmenon/Google Drive/PythonCode/AnimalPhotoBias/script/GetPropertiesAPI.py'>"
      ]
     },
     "execution_count": 2,
     "metadata": {},
     "output_type": "execute_result"
    }
   ],
   "source": [
    "import importlib\n",
    "import JobsMapResultsFilesToContainerObjs as ImageMap\n",
    "import pandas as pd\n",
    "import statistics as s\n",
    "import re\n",
    "import GetPropertiesAPI as GP\n",
    "import matplotlib.pyplot as plt \n",
    "import csv\n",
    "gidAidMapFl = \"../data/experiment2_gid_aid_map.json\"\n",
    "aidFeatureMapFl = \"../data/experiment2_aid_features.json\"\n",
    "imgJobMap = \"../data/imageGID_job_map_expt2_corrected.csv\"\n",
    "importlib.reload(ImageMap)\n",
    "importlib.reload(GP)"
   ]
  },
  {
   "cell_type": "code",
   "execution_count": 3,
   "metadata": {
    "collapsed": true
   },
   "outputs": [],
   "source": [
    "def genTotCnts(ovrCnts):\n",
    "    dSum = {}\n",
    "    #dStddev = {}\n",
    "    for key in ovrCnts:\n",
    "        dSum[key] = sum(ovrCnts[key])\n",
    "        #dStddev[key] = s.stdev(ovrCnts[key])\n",
    "        \n",
    "    return dSum#,dStddev\n"
   ]
  },
  {
   "cell_type": "code",
   "execution_count": 4,
   "metadata": {
    "collapsed": false
   },
   "outputs": [],
   "source": [
    "def getShrProp(ovrAggCnts) :   \n",
    "    totCnt = genTotCnts(ovrAggCnts)\n",
    "\n",
    "    shareKeys = list(filter(lambda x : 'share' in x,totCnt.keys()))\n",
    "    totKeys = list(filter(lambda x : 'total' in x,totCnt.keys()))\n",
    "    shareKeys = sorted(shareKeys,key=lambda x: (x[:len(x)-1]))\n",
    "    totKeys = sorted(totKeys,key=lambda x: (x[:len(x)-1]))\n",
    "\n",
    "    lenKey = len(shareKeys[0])-1\n",
    "\n",
    "    propDict = {}\n",
    "    for i in range(len(shareKeys)):\n",
    "         propDict[shareKeys[i][:lenKey]] = totCnt[shareKeys[i]] * 100 / totCnt[totKeys[i]]\n",
    "            \n",
    "    return propDict"
   ]
  },
  {
   "cell_type": "code",
   "execution_count": 6,
   "metadata": {
    "collapsed": false
   },
   "outputs": [],
   "source": [
    "# verified\n",
    "def ovrallShrCntsByFtr(gidAidMapFl,aidFeatureMapFl,feature,imgJobMap,resSetStrt,resSetEnd):\n",
    "    countLogic = getCountingLogic(gidAidMapFl,aidFeatureMapFl,feature)\n",
    "    imgAlbumDict = ImageMap.genImgAlbumDictFromMap(imgJobMap)\n",
    "    master = ImageMap.createResultDict(resSetStrt,resSetEnd)\n",
    "    imgShareNotShareList,noResponse = ImageMap.imgShareCountsPerAlbum(imgAlbumDict,master)\n",
    "    \n",
    "    answerSet = {}\n",
    "    \n",
    "    for tup in imgShareNotShareList:\n",
    "        if tup[0] not in countLogic.keys(): # where the image has no associated annotation, tup[0] = GID\n",
    "            answerSet[('other' , 'share')] = answerSet.get(('other' , 'share'),[]) + [tup[2]]\n",
    "            answerSet[('other' , 'not_share')] = answerSet.get(('other' , 'not_share'),[]) + [tup[3]]\n",
    "            answerSet[('other', 'total')] = answerSet.get(('other' , 'total'),[]) + [tup[2] + tup[3]]\n",
    "        else: \n",
    "            logic = countLogic[tup[0]]\n",
    "            for countForEle in logic[1]:\n",
    "                varNameShare = (countForEle , \"share\")\n",
    "                varNameNotShare = (countForEle , \"not_share\")\n",
    "                varNameTot = (countForEle , \"total\")\n",
    "                answerSet[varNameShare] = answerSet.get(varNameShare,[]) + [tup[2]]\n",
    "                answerSet[varNameNotShare] = answerSet.get(varNameNotShare,[]) + [tup[3]]\n",
    "                answerSet[varNameTot] = answerSet.get(varNameTot,[]) + [tup[2] + tup[3]]\n",
    "                \n",
    "    return answerSet"
   ]
  },
  {
   "cell_type": "code",
   "execution_count": 7,
   "metadata": {
    "collapsed": true
   },
   "outputs": [],
   "source": [
    "def shrCntsByFtrPrAlbm(gidAidMapFl,aidFeatureMapFl,feature,imgJobMap,resSetStrt,resSetEnd):\n",
    "    countLogic = getCountingLogic(gidAidMapFl,aidFeatureMapFl,feature)\n",
    "    imgAlbumDict = ImageMap.genImgAlbumDictFromMap(imgJobMap)\n",
    "    master = ImageMap.createResultDict(resSetStrt,resSetEnd)\n",
    "    imgShareNotShareList,noResponse = ImageMap.imgShareCountsPerAlbum(imgAlbumDict,master)\n",
    "    \n",
    "    answerSet = {}\n",
    "    \n",
    "    for tup in imgShareNotShareList:\n",
    "        if tup[0] not in countLogic.keys(): # where the image has no associated annotation, tup[0] = GID\n",
    "            answerSet[('other' , 'share', tup[1])] = answerSet.get(('other' , 'share', tup[1]),[]) + [tup[2]]\n",
    "            answerSet[('other' , 'not_share', tup[1])] = answerSet.get(('other' , 'not_share', tup[1]),[]) + [tup[3]]\n",
    "            answerSet[('other', 'total', tup[1])] = answerSet.get(('other' , 'total', tup[1]),[]) + [tup[2] + tup[3]]\n",
    "        else: \n",
    "            logic = countLogic[tup[0]]\n",
    "            for countForEle in logic[1]:\n",
    "                varNameShare = (countForEle , tup[1], \"share\")\n",
    "                varNameNotShare = (countForEle , tup[1], \"not_share\")\n",
    "                varNameTot = (countForEle , tup[1], \"total\")\n",
    "                answerSet[varNameShare] = answerSet.get(varNameShare,[]) + [tup[2]]\n",
    "                answerSet[varNameNotShare] = answerSet.get(varNameNotShare,[]) + [tup[3]]\n",
    "                answerSet[varNameTot] = answerSet.get(varNameTot,[]) + [tup[2] + tup[3]]\n",
    "    return answerSet"
   ]
  },
  {
   "cell_type": "code",
   "execution_count": 8,
   "metadata": {
    "collapsed": false
   },
   "outputs": [],
   "source": [
    "def ovrallShrCntsByTwoFtrs(gidAidMapFl,aidFeatureMapFl,ftr1,ftr2,imgJobMap,resSetStrt,resSetEnd):\n",
    "    countLogic1 = getCountingLogic(gidAidMapFl,aidFeatureMapFl,ftr1)\n",
    "    countLogic2 = getCountingLogic(gidAidMapFl,aidFeatureMapFl,ftr2)\n",
    "\n",
    "    imgAlbumDict = ImageMap.genImgAlbumDictFromMap(imgJobMap)\n",
    "    master = ImageMap.createResultDict(resSetStrt,resSetEnd)\n",
    "    imgShareNotShareList,noResponse = ImageMap.imgShareCountsPerAlbum(imgAlbumDict,master)\n",
    "    \n",
    "    answerSet = {}\n",
    "    unEvnFtrsTups =[]\n",
    "    for tup in imgShareNotShareList:\n",
    "        if tup[0] not in countLogic1.keys(): # where the image has no associated annotation, tup[0] = GID\n",
    "            pass\n",
    "            answerSet[('other' , None,'share')] = answerSet.get(('other' ,None, 'share'),[]) + [tup[2]]\n",
    "            answerSet[('other' , None, 'not_share')] = answerSet.get(('other' , None, 'not_share'),[]) + [tup[3]]\n",
    "            answerSet[('other' , None, 'total')] = answerSet.get(('other' , None, 'total'),[]) + [tup[2]+tup[3]]\n",
    "        else: \n",
    "            logic1 = countLogic1[tup[0]]\n",
    "            logic2 = countLogic2[tup[0]]\n",
    "            for i in range(len(logic1[1])):\n",
    "                if len(logic1[1]) == len(logic2[1]): # there are two individuals with matching features\n",
    "                    varNameShare = (logic1[1][i] , logic2[1][i], \"share\")\n",
    "                    varNameNotShare = (logic1[1][i] , logic2[1][i], \"not_share\")\n",
    "                    varNameTot = (logic1[1][i] , logic2[1][i], \"total\")\n",
    "                # there are more logic1 features than logic2 features\n",
    "                elif len(logic1[1]) == 1 or len(logic2[1]) == 1: # one of the logic has just 1 feature\n",
    "                    if len(logic1[1]) == 1:\n",
    "                        varNameShare = (logic1[1][0] , logic2[1][i], \"share\")\n",
    "                        varNameNotShare = (logic1[1][0] , logic2[1][i], \"not_share\")\n",
    "                        varNameTot = (logic1[1][0] , logic2[1][i], \"total\")\n",
    "                    else:\n",
    "                        varNameShare = (logic1[1][i] , logic2[1][0], \"share\")\n",
    "                        varNameNotShare = (logic1[1][i] , logic2[1][0], \"not_share\")\n",
    "                        varNameTot = (logic1[1][i] , logic2[1][0], \"total\")\n",
    "                else: # uneven features in logic1 and logic2\n",
    "                      unEvnFtrsTups.append(tup)\n",
    "\n",
    "                answerSet[varNameShare] = answerSet.get(varNameShare,[]) + [tup[2]]\n",
    "                answerSet[varNameNotShare] = answerSet.get(varNameNotShare,[]) + [tup[3]]\n",
    "                answerSet[varNameTot] = answerSet.get(varNameTot,[]) + [tup[2] + tup[3]]\n",
    "                \n",
    "    # handling un-even features\n",
    "    unEvnFtrsTups = list(set(unEvnFtrsTups))\n",
    "    for tup in unEvnFtrsTups:\n",
    "        aidList = GP.getAnnotID(tup[0])\n",
    "        for aid in aidList:\n",
    "            feature1 = GP.getImageFeature(aid,GP.ftrNms[ftr1])\n",
    "            feature2 = GP.getImageFeature(aid,GP.ftrNms[ftr2])\n",
    "            if ftr2 == 'AGE':\n",
    "                feature2 = GP.getAgeFeatureReadableFmt(feature2)\n",
    "\n",
    "            varNameShare = (feature1[0],feature2[0],\"share\")\n",
    "            varNameNotShare = (feature1[0],feature2[0],\"not_share\")\n",
    "            varNameTot = (feature1[0],feature2[0],\"total\")\n",
    "            \n",
    "            answerSet[varNameShare] = answerSet.get(varNameShare,[]) + [tup[2]]\n",
    "            answerSet[varNameNotShare] = answerSet.get(varNameNotShare,[]) + [tup[3]]\n",
    "            answerSet[varNameTot] = answerSet.get(varNameTot,[]) + [tup[2] + tup[3]]\n",
    "            \n",
    "    return answerSet"
   ]
  },
  {
   "cell_type": "code",
   "execution_count": 95,
   "metadata": {
    "collapsed": false
   },
   "outputs": [],
   "source": [
    "'''\n",
    "resultsPerJobDf > Gives you shares/not shares per image per album (Python Object of .results file converted to DF)\n",
    "resultsPerJobDf['GID','Album','Shared','Not Shared','Proportion']\n",
    "'''\n",
    "imgAlbumDict = ImageMap.genImgAlbumDictFromMap(\"../data/imageGID_job_map_expt2_corrected.csv\")\n",
    "master = ImageMap.createResultDict(1,100)\n",
    "imgShareNotShareList,noResponse = ImageMap.imgShareCountsPerAlbum(imgAlbumDict,master)\n",
    "\n",
    "resultsPerJobDf = pd.DataFrame(imgShareNotShareList,columns = ['GID','Album','Shared','Not Shared','Proportion'])\n",
    "\n",
    "'''\n",
    "Code for reading from json files into data frames\n",
    "aidGidDf['AID','GID']\n",
    "aidFeaturesDf['AID',[FEATURES]]\n",
    "'''\n",
    "aidGidDict = ImageMap.genAidGidTupListFromMap('../data/experiment2_gid_aid_map.json')\n",
    "aidGidDf= pd.DataFrame(aidGidDict,columns = ['AID','GID'])\n",
    "\n",
    "aidFeaturesDf = pd.DataFrame(ImageMap.genAidFeatureDictList('../data/experiment2_aid_features.json'))\n",
    "aidFeaturesDf['AID'] = aidFeaturesDf['AID'].astype('int32')\n",
    "\n",
    "'''\n",
    "rankListImgsDf  > Gives you the results of number of times each image was shared overall\n",
    "rankListImgsDf['GID','Shared','Not Shared','Proportion']\n",
    "'''\n",
    "rankListImgsDf = resultsPerJobDf.groupby(['GID'])['Shared','Not Shared'].sum() \n",
    "rankListImgsDf['Total'] = rankListImgsDf['Shared'] + rankListImgsDf['Not Shared']\n",
    "rankListImgsDf['Proportion'] = rankListImgsDf['Shared'] * 100 / rankListImgsDf['Total']\n",
    "rankListImgsDf = rankListImgsDf.sort_values(by = ['Proportion'],ascending = False)\n",
    "rankListImgsDf.to_csv('../data/rankListImages.csv')\n",
    "\n",
    "'''\n",
    "resultsAIDGIDDf > Merged data frame that add's AID info to the results data\n",
    "resultsAIDGIDDf['AID' + [resultsPerJobDf]]\n",
    "\n",
    "gidAidResultsFeaturesDf > A master data frame that has results data merged along with all the image features\n",
    "gidAidResultsFeaturesDf['GID','AID',[FEATURES],[resultsPerJobDf]]\n",
    "\n",
    "'''\n",
    "resultsAIDGIDDf = pd.merge(aidGidDf,resultsPerJobDf,left_on='GID',right_on = 'GID',how=\"right\")\n",
    "\n",
    "gidAidResultsFeaturesDf = pd.merge(resultsAIDGIDDf,aidFeaturesDf,left_on = 'AID',right_on = 'AID') # most important data frame with all the info\n",
    "gidAidResultsFeaturesDf.to_csv(\"../data/resultsFeaturesComb.csv\",index=False)"
   ]
  },
  {
   "cell_type": "code",
   "execution_count": 18,
   "metadata": {
    "collapsed": false
   },
   "outputs": [
    {
     "name": "stdout",
     "output_type": "stream",
     "text": [
      "photo_album_57 Answer.1\n",
      "photo_album_85 Answer.1\n"
     ]
    }
   ],
   "source": [
    "# no. of individuals per image\n",
    "countLogic = getCountingLogic(gidAidMapFl,aidFeatureMapFl,\"SPECIES\")\n",
    "imgAlbumDict = ImageMap.genImgAlbumDictFromMap(imgJobMap)\n",
    "master = ImageMap.createResultDict(1,100)\n",
    "imgShareNotShareList,noResponse = ImageMap.imgShareCountsPerAlbum(imgAlbumDict,master)\n",
    "\n",
    "totOfIndsPerImg = {}\n",
    "for key in countLogic:\n",
    "    totOfIndsPerImg[countLogic[key][0]] = totOfIndsPerImg.get(countLogic[key][0],0) + 1\n",
    "    \n",
    "# Rank list by number of images\n",
    "noOfIndsPerImgSharesRnkLst = {}\n",
    "noOfIndsPerImgNotSharesRnkLst = {}\n",
    "\n",
    "for tup in imgShareNotShareList:\n",
    "    if tup[0] in countLogic.keys():\n",
    "        noOfIndsPerImgSharesRnkLst[countLogic[tup[0]][0]] = noOfIndsPerImgSharesRnkLst.get(countLogic[tup[0]][0],0) + tup[2]\n",
    "        noOfIndsPerImgNotSharesRnkLst[countLogic[tup[0]][0]] = noOfIndsPerImgNotSharesRnkLst.get(countLogic[tup[0]][0],0) + tup[3]"
   ]
  },
  {
   "cell_type": "code",
   "execution_count": null,
   "metadata": {
    "collapsed": true
   },
   "outputs": [],
   "source": []
  }
 ],
 "metadata": {
  "kernelspec": {
   "display_name": "Python 3",
   "language": "python",
   "name": "python3"
  },
  "language_info": {
   "codemirror_mode": {
    "name": "ipython",
    "version": 3
   },
   "file_extension": ".py",
   "mimetype": "text/x-python",
   "name": "python",
   "nbconvert_exporter": "python",
   "pygments_lexer": "ipython3",
   "version": "3.5.1"
  }
 },
 "nbformat": 4,
 "nbformat_minor": 0
}
