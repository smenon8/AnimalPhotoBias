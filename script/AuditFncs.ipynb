{
 "cells": [
  {
   "cell_type": "raw",
   "metadata": {},
   "source": [
    "Python functions for audit\n",
    "Verify if the script actually does the right job and there is no manual error introduced"
   ]
  },
  {
   "cell_type": "code",
   "execution_count": 85,
   "metadata": {
    "collapsed": false
   },
   "outputs": [
    {
     "data": {
      "text/plain": [
       "<module 'JobsMapResultsFilesToContainerObjs' from '/Users/sreejithmenon/Google Drive/PythonCode/AnimalPhotoBias/script/JobsMapResultsFilesToContainerObjs.py'>"
      ]
     },
     "execution_count": 85,
     "metadata": {},
     "output_type": "execute_result"
    }
   ],
   "source": [
    "import csv\n",
    "import json\n",
    "import JobsMapResultsFilesToContainerObjs as ImageMap\n",
    "import importlib\n",
    "importlib.reload(ImageMap)"
   ]
  },
  {
   "cell_type": "code",
   "execution_count": 6,
   "metadata": {
    "collapsed": true
   },
   "outputs": [],
   "source": [
    "jsonObj = json.load(open(\"../data/experiment2_gid_aid_features.json\"))"
   ]
  },
  {
   "cell_type": "code",
   "execution_count": 7,
   "metadata": {
    "collapsed": false
   },
   "outputs": [],
   "source": [
    "gidSpeciesList = []\n",
    "for gid in jsonObj.keys():\n",
    "    if jsonObj[gid] != None:\n",
    "        gidSpecies = {}\n",
    "        for dct in jsonObj[gid]:\n",
    "            for aid in dct.keys():\n",
    "                gidSpecies[gid] = gidSpecies.get(gid,[]) + [dct[aid][2][0]]\n",
    "        gidSpeciesList.append(gidSpecies)"
   ]
  },
  {
   "cell_type": "code",
   "execution_count": 12,
   "metadata": {
    "collapsed": false
   },
   "outputs": [
    {
     "name": "stdout",
     "output_type": "stream",
     "text": [
      "dict_keys(['1041'])\n",
      "dict_keys(['6962'])\n",
      "dict_keys(['6962'])\n",
      "dict_keys(['978'])\n",
      "dict_keys(['978'])\n",
      "dict_keys(['978'])\n",
      "dict_keys(['1332'])\n",
      "dict_keys(['1332'])\n",
      "dict_keys(['5470'])\n"
     ]
    }
   ],
   "source": [
    "for dct in gidSpeciesList:\n",
    "    for speciesLst in dct.values():\n",
    "        firstEle = speciesLst[0]\n",
    "        for ele in speciesLst:\n",
    "            if ele != firstEle:\n",
    "                print(dct.keys())"
   ]
  },
  {
   "cell_type": "code",
   "execution_count": 69,
   "metadata": {
    "collapsed": false
   },
   "outputs": [],
   "source": [
    "def extractImageFeaturesFromMap(gidAidMapFl,aidFtrMapFl,feature):    \n",
    "    aidFeatureDict = ImageMap.genAidFeatureDictDict(aidFtrMapFl)\n",
    "    \n",
    "    gidAidDict = ImageMap.genAidGidDictFromMap(gidAidMapFl)\n",
    "\n",
    "    gidFeatureLst = []\n",
    "    for gid in gidAidDict:\n",
    "        if gidAidJson[gid]!= None:\n",
    "            gidFtr = {}\n",
    "            for aid in gidAidJson[gid]:\n",
    "                gidFtr[gid] = gidFtr.get(gid,[]) + [aidFeatureDict[str(aid)][feature]]\n",
    "        gidFeatureLst.append(gidFtr)\n",
    "    \n",
    "    return gidFeatureLst"
   ]
  },
  {
   "cell_type": "code",
   "execution_count": 95,
   "metadata": {
    "collapsed": false
   },
   "outputs": [],
   "source": [
    "aidFeatureDict = ImageMap.genAidFeatureDictDict(\"../data/experiment2_aid_features.json\")\n",
    "gidAidJson = ImageMap.genAidGidDictFromMap(\"../data/experiment2_gid_aid_map.json\")\n",
    "\n",
    "featuresPerImg = ImageMap.extractImageFeaturesFromMap(\"../data/experiment2_gid_aid_map.json\",\"../data/experiment2_aid_features.json\",\"SPECIES\")"
   ]
  },
  {
   "cell_type": "code",
   "execution_count": 96,
   "metadata": {
    "collapsed": false
   },
   "outputs": [],
   "source": [
    "shareCountLogic = {}\n",
    "for gid in featuresPerImg.keys():\n",
    "    numInds = len(featuresPerImg[ele])\n",
    "    isHomogeneous = True\n",
    "    firstEle = featuresPerImg[ele][0]\n",
    "    for species in featuresPerImg[ele]:\n",
    "        if species != firstEle:\n",
    "            isHomogeneous = False\n",
    "    if isHomogeneous:\n",
    "        countFor = firstEle\n",
    "    else:\n",
    "        countFor = None\n",
    "    shareCountLogic[gid] = [numInds,isHomogeneous,countFor]"
   ]
  },
  {
   "cell_type": "code",
   "execution_count": 97,
   "metadata": {
    "collapsed": false
   },
   "outputs": [
    {
     "data": {
      "text/plain": [
       "[('1041', 2, False, None),\n",
       " ('1332', 6, False, None),\n",
       " ('6962', 4, False, None),\n",
       " ('978', 4, False, None),\n",
       " ('5470', 2, False, None)]"
      ]
     },
     "execution_count": 97,
     "metadata": {},
     "output_type": "execute_result"
    }
   ],
   "source": [
    "list(filter(lambda x: not x[2],l))"
   ]
  },
  {
   "cell_type": "code",
   "execution_count": null,
   "metadata": {
    "collapsed": true
   },
   "outputs": [],
   "source": []
  }
 ],
 "metadata": {
  "kernelspec": {
   "display_name": "Python 3",
   "language": "python",
   "name": "python3"
  },
  "language_info": {
   "codemirror_mode": {
    "name": "ipython",
    "version": 3
   },
   "file_extension": ".py",
   "mimetype": "text/x-python",
   "name": "python",
   "nbconvert_exporter": "python",
   "pygments_lexer": "ipython3",
   "version": "3.5.1"
  }
 },
 "nbformat": 4,
 "nbformat_minor": 0
}
