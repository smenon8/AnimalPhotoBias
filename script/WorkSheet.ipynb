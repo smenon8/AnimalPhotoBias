{
 "cells": [
  {
   "cell_type": "raw",
   "metadata": {},
   "source": [
    "Processing data from .results files\n",
    "Author : Sreejith Menon\n",
    "Date : May 25 2016\n",
    "\n",
    "List of all dataframes\n",
    "resultsPerJobDf['GID','Album','Shared','Not Shared','Proportion'] \n",
    "aidGidDf['AID','GID']\n",
    "aidFeaturesDf['AID',[FEATURES]]\n",
    "rankListImgsDf['GID','Shared','Not Shared','Proportion']\n",
    "resultsAIDGIDDf['AID' + [resultsPerJobDf]]\n",
    "gidAidResultsFeaturesDf['GID','AID',[FEATURES],[resultsPerJobDf]]"
   ]
  },
  {
   "cell_type": "code",
   "execution_count": 28,
   "metadata": {
    "collapsed": false
   },
   "outputs": [],
   "source": [
    "import importlib\n",
    "import JobsMapResultsFilesToContainerObjs as ImageMap\n",
    "import pandas as pd\n",
    "import statistics as s\n",
    "import re\n",
    "import json\n",
    "import DeriveFinalResultSet as drs\n",
    "import GetPropertiesAPI as GP\n",
    "import csv\n",
    "gidAidMapFl = \"../data/experiment2_gid_aid_map.json\"\n",
    "aidFeatureMapFl = \"../data/experiment2_aid_features.json\"\n",
    "imgJobMap = \"../data/imageGID_job_map_expt2_corrected.csv\"\n",
    "importlib.reload(ImageMap)\n",
    "pd.set_option('display.max_colwidth', -1)"
   ]
  },
  {
   "cell_type": "code",
   "execution_count": 100,
   "metadata": {
    "collapsed": false
   },
   "outputs": [],
   "source": [
    "from ast import literal_eval\n",
    "df = pd.DataFrame.from_csv(\"../FinalResults/ImgShrRnkListWithTags.csv\")\n",
    "cols = list(df.columns)\n",
    "df.drop('URL',1,inplace=True)\n",
    "df.drop('Album',1,inplace=True)\n",
    "df.drop('INDIVIDUAL_NAME',1,inplace=True)\n",
    "df.reset_index(inplace=True)\n",
    "df.to_csv(\"/tmp/test.csv\",index=False)"
   ]
  },
  {
   "cell_type": "code",
   "execution_count": 138,
   "metadata": {
    "collapsed": false
   },
   "outputs": [],
   "source": [
    "reader = csv.reader(open(\"/tmp/test.csv\",\"r\"))\n",
    "head = reader.__next__()\n",
    "data = {}\n",
    "for row in reader:\n",
    "    temp = {}\n",
    "    for i in range(1,len(row)):\n",
    "        temp[head[i]] = row[i] \n",
    "    data[row[0]] = temp\n",
    "    \n",
    "json.dump(data,open(\"/tmp/test.json\",\"w\"),indent=4)"
   ]
  },
  {
   "cell_type": "code",
   "execution_count": 139,
   "metadata": {
    "collapsed": false
   },
   "outputs": [],
   "source": [
    "def genHead(dataDict,ftr):\n",
    "    if ftr != 'tags':\n",
    "        ftrList = [data[gid][ftr].split(',') for gid in dataDict.keys()]\n",
    "    else:\n",
    "        ftrList = [literal_eval(data[gid][ftr]) for gid in dataDict.keys()]\n",
    "        \n",
    "    ftrList = {item for block in ftrList for item in block}\n",
    "    \n",
    "    return list(ftrList)"
   ]
  },
  {
   "cell_type": "code",
   "execution_count": 165,
   "metadata": {
    "collapsed": false
   },
   "outputs": [],
   "source": [
    "allAttribs = genHead(data,'SPECIES') + genHead(data,'SEX') + genHead(data,'AGE') + genHead(data,'QUALITY') + genHead(data,'VIEW_POINT') + genHead(data,'tags')"
   ]
  },
  {
   "cell_type": "code",
   "execution_count": 162,
   "metadata": {
    "collapsed": false
   },
   "outputs": [],
   "source": [
    "from collections import OrderedDict\n",
    "gidAttribDict = {}\n",
    "for gid in data.keys():\n",
    "    ftrDict = data[gid]\n",
    "    attribDict = OrderedDict.fromkeys(allAttribs,0)\n",
    "    \n",
    "    ftrs = ['SPECIES','SEX','AGE','QUALITY','VIEW_POINT']\n",
    "    \n",
    "    for ftr in ftrs:\n",
    "        spcs = ftrDict[ftr].split(',')\n",
    "        for itm in spcs:\n",
    "            attribDict[itm] = 1\n",
    "            \n",
    "    # logic for tgs\n",
    "    tgs = literal_eval(ftrDict['tags'])\n",
    "    for tag in tgs:\n",
    "        attribDict[tag] = 1\n",
    "    \n",
    "    gidAttribDict[gid] = attribDict\n",
    "    \n",
    "json.dump(gidAttribDict,open(\"/tmp/gidAttribDict.json\",\"w\"),indent=4)\n",
    "\n",
    "pd.DataFrame(gidAttribDict).transpose().to_csv(\"/tmp/gidAttribDict.csv\")"
   ]
  },
  {
   "cell_type": "code",
   "execution_count": 164,
   "metadata": {
    "collapsed": false
   },
   "outputs": [],
   "source": []
  },
  {
   "cell_type": "code",
   "execution_count": 123,
   "metadata": {
    "collapsed": false
   },
   "outputs": [
    {
     "data": {
      "text/plain": [
       "['zebra',\n",
       " 'grass',\n",
       " 'outdoor',\n",
       " 'sky',\n",
       " 'field',\n",
       " 'animal',\n",
       " 'tree',\n",
       " 'mammal',\n",
       " 'standing',\n",
       " 'group',\n",
       " 'grassy',\n",
       " 'tall']"
      ]
     },
     "execution_count": 123,
     "metadata": {},
     "output_type": "execute_result"
    }
   ],
   "source": [
    "\n",
    "\n",
    "literal_eval(l)"
   ]
  },
  {
   "cell_type": "code",
   "execution_count": null,
   "metadata": {
    "collapsed": true
   },
   "outputs": [],
   "source": []
  }
 ],
 "metadata": {
  "kernelspec": {
   "display_name": "Python 3",
   "language": "python",
   "name": "python3"
  },
  "language_info": {
   "codemirror_mode": {
    "name": "ipython",
    "version": 3
   },
   "file_extension": ".py",
   "mimetype": "text/x-python",
   "name": "python",
   "nbconvert_exporter": "python",
   "pygments_lexer": "ipython3",
   "version": "3.5.1"
  }
 },
 "nbformat": 4,
 "nbformat_minor": 0
}
