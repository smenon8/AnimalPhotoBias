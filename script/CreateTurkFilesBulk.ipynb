{
 "cells": [
  {
   "cell_type": "markdown",
   "metadata": {
    "collapsed": false
   },
   "source": [
    "### Script for creating the m-turk files in bulk\n",
    "\n",
    "There are 58 unique contributors and each contributor has a contiguous set of image contributions\n",
    "\n",
    "Get contributed images per user:\n",
    "http://pachy.cs.uic.edu:5000/api/contributor/gids/?contrib_rowid_list=[1]\n",
    "\n",
    "Get all contributor IDs\n",
    "http://pachy.cs.uic.edu:5000/api/contributor/valid_rowids/"
   ]
  },
  {
   "cell_type": "code",
   "execution_count": null,
   "metadata": {
    "collapsed": false
   },
   "outputs": [],
   "source": [
    "import csv\n",
    "import GetPropertiesAPI as GP\n",
    "import GenerateMTurkFileAPI as GM\n",
    "import importlib\n",
    "import random\n",
    "\n",
    "# un-comment if there are any changes made to API\n",
    "importlib.reload(GP) \n",
    "importlib.reload(GM) "
   ]
  },
  {
   "cell_type": "code",
   "execution_count": null,
   "metadata": {
    "collapsed": false
   },
   "outputs": [],
   "source": [
    "contributorImages = {}\n",
    "for contributor in range(1,59):\n",
    "     contributorImages[contributor] = CB.getContributorGID(contributor)\n",
    "\n",
    "# Contributors with 0 images\n",
    "contributorImages.pop(52)\n",
    "contributorImages.pop(57)\n",
    "contributorImages.pop(8)\n",
    "contributorImages.pop(11)\n",
    "contributorImages.pop(17)\n",
    "contributorImages.pop(32)\n",
    "contributorImages.pop(34)\n",
    "contributorImages.pop(41)\n",
    "\n",
    "contributors = list(contributorImages.keys())\n",
    "\n",
    "selectedImgContributors = []\n",
    "for i in range(100):\n",
    "    selectedImgContributors.append(contributors[random.randrange(0,50)])"
   ]
  },
  {
   "cell_type": "code",
   "execution_count": null,
   "metadata": {
    "collapsed": false
   },
   "outputs": [],
   "source": [
    "argToAPI = []\n",
    "for index in selectedImgContributors:\n",
    "    imgList = contributorImages[index]\n",
    "    print(len(imgList))\n",
    "    minGID = min(imgList)\n",
    "    maxGID = max(imgList)\n",
    "    argToAPI.append([index,minGID,maxGID])"
   ]
  },
  {
   "cell_type": "code",
   "execution_count": null,
   "metadata": {
    "collapsed": false
   },
   "outputs": [],
   "source": [
    "jobImageMap= {}"
   ]
  },
  {
   "cell_type": "code",
   "execution_count": null,
   "metadata": {
    "collapsed": false
   },
   "outputs": [],
   "source": [
    "for i in range(0,100):\n",
    "    flName = str(\"photo_album_%d.question\" %(i+1))\n",
    "    tup = argToAPI[i]\n",
    "    slctdImgs = GM.generateMTurkFile(tup[1],tup[2],str(\"/tmp/files/\" + flName))\n",
    "    jobImageMap[flName] = slctdImgs\n",
    "    i += 1\n",
    "    print(flName)"
   ]
  },
  {
   "cell_type": "code",
   "execution_count": null,
   "metadata": {
    "collapsed": false
   },
   "outputs": [],
   "source": [
    "len(jobImageMap.keys())"
   ]
  },
  {
   "cell_type": "code",
   "execution_count": null,
   "metadata": {
    "collapsed": true
   },
   "outputs": [],
   "source": []
  }
 ],
 "metadata": {
  "kernelspec": {
   "display_name": "Python 3",
   "language": "python",
   "name": "python3"
  },
  "language_info": {
   "codemirror_mode": {
    "name": "ipython",
    "version": 3
   },
   "file_extension": ".py",
   "mimetype": "text/x-python",
   "name": "python",
   "nbconvert_exporter": "python",
   "pygments_lexer": "ipython3",
   "version": "3.5.1"
  }
 },
 "nbformat": 4,
 "nbformat_minor": 0
}
