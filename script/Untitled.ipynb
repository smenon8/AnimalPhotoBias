{
 "cells": [
  {
   "cell_type": "raw",
   "metadata": {},
   "source": [
    "Processing data from .results files"
   ]
  },
  {
   "cell_type": "code",
   "execution_count": 75,
   "metadata": {
    "collapsed": false
   },
   "outputs": [],
   "source": [
    "import re"
   ]
  },
  {
   "cell_type": "code",
   "execution_count": null,
   "metadata": {
    "collapsed": true
   },
   "outputs": [],
   "source": [
    "# Part 1: Building the results dictionary (all the fields of interest for all the available jobs)\n",
    "def \n",
    "    masterList = {}\n",
    "\n",
    "    for i in range(1,45):    \n",
    "        inFL = \"../results/photo_album_\" + str(i) + \".results\"\n",
    "        inFLList = []\n",
    "        with open(inFL,\"r\") as inp:\n",
    "            for line in inp:\n",
    "                inFLList.append(line)\n",
    "\n",
    "        resultList = []\n",
    "        header = inFLList[0].split(\"\\t\")\n",
    "        for line in inFLList[1:]:\n",
    "            resultList.append(line.split(\"\\t\"))\n",
    "\n",
    "        resultDict = {}\n",
    "        for i in range(0,len(resultList)):\n",
    "            for j in range(0,len(header)):\n",
    "                resultDict[header[j]] = resultDict.get(header[j],[]) + [resultList[i][j]]\n",
    "\n",
    "        keysOfInterest = list(filter(lambda x: re.search(\"Answer\",x),resultDict.keys()))\n",
    "        newDict = {}\n",
    "        for key in keysOfInterest:\n",
    "            newDict[key] = resultDict[key]\n",
    "\n",
    "        masterList[inFL] = newDict\n",
    "        \n",
    "        return masterList"
   ]
  }
 ],
 "metadata": {
  "kernelspec": {
   "display_name": "Python 3",
   "language": "python",
   "name": "python3"
  },
  "language_info": {
   "codemirror_mode": {
    "name": "ipython",
    "version": 3
   },
   "file_extension": ".py",
   "mimetype": "text/x-python",
   "name": "python",
   "nbconvert_exporter": "python",
   "pygments_lexer": "ipython3",
   "version": "3.5.1"
  }
 },
 "nbformat": 4,
 "nbformat_minor": 0
}
