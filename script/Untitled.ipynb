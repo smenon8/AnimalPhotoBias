{
 "cells": [
  {
   "cell_type": "code",
   "execution_count": 24,
   "metadata": {
    "collapsed": false
   },
   "outputs": [
    {
     "name": "stdout",
     "output_type": "stream",
     "text": [
      "{'status': {'cache': -1, 'code': 200, 'message': '', 'success': True}, 'response': [{'score_list': [186.84233390623817], 'dauuid_list': [{'__UUID__': '588487f2-71fe-4d30-849e-3eb002f4dad8'}], 'qaid': 13386, 'daid_list': [13416], 'qauuid': {'__UUID__': '4ed2f9c0-9df5-4b6e-bd9b-79f955425d8a'}}]}\n",
      "[186.84233390623817]\n"
     ]
    }
   ],
   "source": [
    "import requests\n",
    "\n",
    "baseurl = 'http://pachy.cs.uic.edu:5000'\n",
    "data = {\n",
    "    'qaid_list' : [13386], \n",
    "    'daid_list' : [13416],\n",
    "}\n",
    "resp = requests.get(baseurl + '/api/query/chip/dict/simple/', data=data)\n",
    "print(resp.json())\n",
    "print(resp.json()['response'][0]['score_list'])"
   ]
  },
  {
   "cell_type": "code",
   "execution_count": 4,
   "metadata": {
    "collapsed": false
   },
   "outputs": [
    {
     "data": {
      "text/plain": [
       "<module 'GetPropertiesAPI' from '/Users/sreejithmenon/Google Drive/PythonCode/AnimalPhotoBias/script/GetPropertiesAPI.py'>"
      ]
     },
     "execution_count": 4,
     "metadata": {},
     "output_type": "execute_result"
    }
   ],
   "source": [
    "import GetPropertiesAPI as gp\n",
    "import importlib \n",
    "importlib.reload(gp)"
   ]
  },
  {
   "cell_type": "code",
   "execution_count": 10,
   "metadata": {
    "collapsed": false
   },
   "outputs": [
    {
     "name": "stdout",
     "output_type": "stream",
     "text": [
      "Trying: 'http://131.193.42.62:5000/api/query/chip/dict/simple/'\n",
      "    with data = {'daid_list': '[13386,13416,13425,13399,13423]', 'qaid_list': '[13386]'}\n",
      "{'status': {'cache': -1, 'code': 200, 'message': '', 'success': True}, 'response': [{'score_list': [152.2654378522763, 38.86609731843398, 4.966679446543004, 3.9056627317911827], 'dauuid_list': [{'__UUID__': '588487f2-71fe-4d30-849e-3eb002f4dad8'}, {'__UUID__': '54a04fb6-e495-4174-920b-e6669b2b8991'}, {'__UUID__': '68ea5e56-2887-4597-99c4-79cd57f9b087'}, {'__UUID__': '7cfac6bc-379a-4859-a5c8-b21b06d2fe3d'}], 'qaid': 13386, 'daid_list': [13416, 13425, 13399, 13423], 'qauuid': {'__UUID__': '4ed2f9c0-9df5-4b6e-bd9b-79f955425d8a'}}]}\n"
     ]
    }
   ],
   "source": [
    "import requests\n",
    "domain = 'http://131.193.42.62:5000'\n",
    "data = {\n",
    "    'qaid_list' : '[13386]',\n",
    "    'daid_list' : '[13386,13416,13425,13399,13423]',\n",
    "}\n",
    "url = '%s/api/query/chip/dict/simple/' % (domain, )\n",
    "print('Trying: %r' % (url, ))\n",
    "print('    with data = %r' % (data, ))\n",
    "resp = requests.get(url, data=data)\n",
    "print(resp.json())"
   ]
  },
  {
   "cell_type": "code",
   "execution_count": null,
   "metadata": {
    "collapsed": true
   },
   "outputs": [],
   "source": []
  }
 ],
 "metadata": {
  "kernelspec": {
   "display_name": "Python 3",
   "language": "python",
   "name": "python3"
  },
  "language_info": {
   "codemirror_mode": {
    "name": "ipython",
    "version": 3
   },
   "file_extension": ".py",
   "mimetype": "text/x-python",
   "name": "python",
   "nbconvert_exporter": "python",
   "pygments_lexer": "ipython3",
   "version": "3.5.1"
  }
 },
 "nbformat": 4,
 "nbformat_minor": 0
}
