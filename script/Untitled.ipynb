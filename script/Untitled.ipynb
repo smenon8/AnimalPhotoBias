{
 "cells": [
  {
   "cell_type": "code",
   "execution_count": 5,
   "metadata": {
    "collapsed": true
   },
   "outputs": [],
   "source": [
    "import csv\n",
    "import BuildConsolidatedFeaturesFile as Features\n",
    "import importlib\n",
    "import GetPropertiesAPI as GP\n",
    "importlib.reload(Features)\n",
    "importlib.reload(GP) \n",
    "\n",
    "def generateUniqueImageListFromMap(mapFlName):\n",
    "\treader = csv.reader(open(mapFlName,\"r\"))\n",
    "\thead = reader.__next__()\n",
    "\tdata = []\n",
    "\tfor row in reader:\n",
    "\t    data.append(row)\n",
    "\n",
    "\timages = []\n",
    "\tfor row in data:\n",
    "\t\timages += row[1:len(row)-1]\n",
    "\n",
    "\tuniqueImgs = list(set(images))\n",
    "\n",
    "\treturn uniqueImgs"
   ]
  },
  {
   "cell_type": "code",
   "execution_count": 6,
   "metadata": {
    "collapsed": true
   },
   "outputs": [],
   "source": [
    "allUniqImgs = generateUniqueImageListFromMap(\"../data/imageGID_job_map_expt2_corrected.csv\")\n",
    "\n",
    "# buildFeatureFl(allUniqImgs,\"../data/experiment2.csv\",False)\n",
    "inp = allUniqImgs\n",
    "outFL = \"../data/experiment2.csv\"\n",
    "allGID = inp "
   ]
  },
  {
   "cell_type": "code",
   "execution_count": 7,
   "metadata": {
    "collapsed": true
   },
   "outputs": [],
   "source": [
    "# Extracting all annotation ID's\n",
    "GidAidMap = {}\n",
    "for gid in allGID:\n",
    "    aid = GP.getAnnotID(int(gid))\n",
    "    GidAidMap[gid] = [aid]"
   ]
  },
  {
   "cell_type": "code",
   "execution_count": 10,
   "metadata": {
    "collapsed": false
   },
   "outputs": [],
   "source": [
    "aidList = []\n",
    "for gid in GidAidMap.keys():\n",
    "    for aid in filter(lambda x: x != None,GidAidMap[gid]):\n",
    "        aidList = aidList + aid"
   ]
  },
  {
   "cell_type": "code",
   "execution_count": 12,
   "metadata": {
    "collapsed": false
   },
   "outputs": [],
   "source": [
    "features = {}\n",
    "for aid in aidList:\n",
    "    spec_text = GP.getImageFeature(aid,\"species_texts\")\n",
    "    features[aid] = [spec_text]\n",
    "    sex_text = GP.getImageFeature(aid,\"sex_texts\")\n",
    "    features[aid].append(sex_text)\n",
    "    est_age = GP.getImageFeature(aid,\"age_months_est\")\n",
    "    features[aid].append(est_age)\n",
    "    exemplar = GP.getImageFeature(aid,\"exemplar_flags\")\n",
    "    features[aid].append(exemplar)\n",
    "    qual_text = GP.getImageFeature(aid,\"quality_texts\")\n",
    "    features[aid].append(qual_text)\n",
    "    yaw_text = GP.getImageFeature(aid,\"yaw_texts\")\n",
    "    features[aid].append(yaw_text)"
   ]
  },
  {
   "cell_type": "code",
   "execution_count": null,
   "metadata": {
    "collapsed": true
   },
   "outputs": [],
   "source": []
  }
 ],
 "metadata": {
  "kernelspec": {
   "display_name": "Python 3",
   "language": "python",
   "name": "python3"
  },
  "language_info": {
   "codemirror_mode": {
    "name": "ipython",
    "version": 3
   },
   "file_extension": ".py",
   "mimetype": "text/x-python",
   "name": "python",
   "nbconvert_exporter": "python",
   "pygments_lexer": "ipython3",
   "version": "3.5.1"
  }
 },
 "nbformat": 4,
 "nbformat_minor": 0
}
