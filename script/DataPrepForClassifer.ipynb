{
 "cells": [
  {
   "cell_type": "code",
   "execution_count": 5,
   "metadata": {
    "collapsed": false
   },
   "outputs": [],
   "source": [
    "import ClassiferHelperAPI as CH\n",
    "import importlib\n",
    "import pandas as pd\n",
    "import csv\n",
    "import json\n",
    "importlib.reload(CH)\n",
    "import numpy as np\n",
    "import matplotlib.pyplot as plt\n",
    "from sklearn import metrics"
   ]
  },
  {
   "cell_type": "code",
   "execution_count": 2,
   "metadata": {
    "collapsed": false
   },
   "outputs": [],
   "source": [
    "# Remove unwanted columns\n",
    "df = pd.DataFrame.from_csv(\"../FinalResults/ImgShrRnkListWithTags.csv\")\n",
    "cols = list(df.columns)\n",
    "df.drop('URL',1,inplace=True)\n",
    "df.drop('Album',1,inplace=True)\n",
    "# df.drop('INDIVIDUAL_NAME',1,inplace=True)\n",
    "df.reset_index(inplace=True)\n",
    "df = df.iloc[np.random.permutation(len(df))]\n",
    "df.to_csv(\"/tmp/test.csv\",index=False)"
   ]
  },
  {
   "cell_type": "code",
   "execution_count": 3,
   "metadata": {
    "collapsed": false
   },
   "outputs": [],
   "source": [
    "reader = csv.reader(open(\"/tmp/test.csv\",\"r\"))\n",
    "head = reader.__next__()\n",
    "data = {}\n",
    "for row in reader:\n",
    "    temp = {}\n",
    "    for i in range(1,len(row)):\n",
    "        temp[head[i]] = row[i] \n",
    "    data[row[0]] = temp\n",
    "    \n",
    "json.dump(data,open(\"/tmp/test.json\",\"w\"),indent=4)\n",
    "allAttribs = CH.genHead(data,'SPECIES') + CH.genHead(data,'SEX') + CH.genHead(data,'AGE') + CH.genHead(data,'QUALITY') + CH.genHead(data,'VIEW_POINT') + CH.genHead(data,'tags')"
   ]
  },
  {
   "cell_type": "code",
   "execution_count": 19,
   "metadata": {
    "collapsed": false
   },
   "outputs": [],
   "source": [
    "def getAccuracyDict(thres):    \n",
    "    importlib.reload(CH)\n",
    "    accuracy_dict  = {}\n",
    "    for i in np.arange(0.1,1,0.1):\n",
    "        temp = {}\n",
    "        temp[\"Linear\"] = CH.buildRegrModel(data,allAttribs,i,thres,False)\n",
    "        temp[\"Logistic\"] = CH.buildRegrModel(data,allAttribs,i,thres)\n",
    "\n",
    "        accuracy_dict[i*100] = temp\n",
    "        \n",
    "    return accuracy_dict\n"
   ]
  },
  {
   "cell_type": "code",
   "execution_count": 23,
   "metadata": {
    "collapsed": false
   },
   "outputs": [
    {
     "data": {
      "text/plain": [
       "10    85.521236\n",
       "20    85.124864\n",
       "30    86.600496\n",
       "40    87.554269\n",
       "50    87.673611\n",
       "60    87.201735\n",
       "70    88.150289\n",
       "80    87.445887\n",
       "90    86.206897\n",
       "Name: Logistic, dtype: float64"
      ]
     },
     "execution_count": 23,
     "metadata": {},
     "output_type": "execute_result"
    }
   ],
   "source": [
    "# THRESHOLD = 5\n",
    "df1 = pd.DataFrame(getAccuracyDict(5)).transpose() \n",
    "\n",
    "df1.Logistic"
   ]
  },
  {
   "cell_type": "code",
   "execution_count": 6,
   "metadata": {
    "collapsed": false
   },
   "outputs": [
    {
     "data": {
      "text/html": [
       "<div>\n",
       "<table border=\"1\" class=\"dataframe\">\n",
       "  <thead>\n",
       "    <tr style=\"text-align: right;\">\n",
       "      <th></th>\n",
       "      <th>Linear</th>\n",
       "      <th>Logistic</th>\n",
       "    </tr>\n",
       "  </thead>\n",
       "  <tbody>\n",
       "    <tr>\n",
       "      <th>10</th>\n",
       "      <td>20.366795</td>\n",
       "      <td>55.212355</td>\n",
       "    </tr>\n",
       "    <tr>\n",
       "      <th>20</th>\n",
       "      <td>22.366992</td>\n",
       "      <td>58.523344</td>\n",
       "    </tr>\n",
       "    <tr>\n",
       "      <th>30</th>\n",
       "      <td>26.426799</td>\n",
       "      <td>56.327543</td>\n",
       "    </tr>\n",
       "    <tr>\n",
       "      <th>40</th>\n",
       "      <td>23.444284</td>\n",
       "      <td>58.610709</td>\n",
       "    </tr>\n",
       "    <tr>\n",
       "      <th>50</th>\n",
       "      <td>27.256944</td>\n",
       "      <td>58.333333</td>\n",
       "    </tr>\n",
       "    <tr>\n",
       "      <th>60</th>\n",
       "      <td>31.236443</td>\n",
       "      <td>60.737527</td>\n",
       "    </tr>\n",
       "    <tr>\n",
       "      <th>70</th>\n",
       "      <td>29.768786</td>\n",
       "      <td>58.670520</td>\n",
       "    </tr>\n",
       "    <tr>\n",
       "      <th>80</th>\n",
       "      <td>32.900433</td>\n",
       "      <td>58.441558</td>\n",
       "    </tr>\n",
       "    <tr>\n",
       "      <th>90</th>\n",
       "      <td>27.586207</td>\n",
       "      <td>65.517241</td>\n",
       "    </tr>\n",
       "  </tbody>\n",
       "</table>\n",
       "</div>"
      ],
      "text/plain": [
       "       Linear   Logistic\n",
       "10  20.366795  55.212355\n",
       "20  22.366992  58.523344\n",
       "30  26.426799  56.327543\n",
       "40  23.444284  58.610709\n",
       "50  27.256944  58.333333\n",
       "60  31.236443  60.737527\n",
       "70  29.768786  58.670520\n",
       "80  32.900433  58.441558\n",
       "90  27.586207  65.517241"
      ]
     },
     "execution_count": 6,
     "metadata": {},
     "output_type": "execute_result"
    }
   ],
   "source": [
    "# THRESHOLD = 10\n",
    "df2 = pd.DataFrame(getAccuracyDict(10)).transpose() \n",
    "df2.plot()\n",
    "df2"
   ]
  },
  {
   "cell_type": "code",
   "execution_count": 7,
   "metadata": {
    "collapsed": false
   },
   "outputs": [
    {
     "data": {
      "text/html": [
       "<div>\n",
       "<table border=\"1\" class=\"dataframe\">\n",
       "  <thead>\n",
       "    <tr style=\"text-align: right;\">\n",
       "      <th></th>\n",
       "      <th>Linear</th>\n",
       "      <th>Logistic</th>\n",
       "    </tr>\n",
       "  </thead>\n",
       "  <tbody>\n",
       "    <tr>\n",
       "      <th>10</th>\n",
       "      <td>32.046332</td>\n",
       "      <td>55.212355</td>\n",
       "    </tr>\n",
       "    <tr>\n",
       "      <th>20</th>\n",
       "      <td>33.550489</td>\n",
       "      <td>58.523344</td>\n",
       "    </tr>\n",
       "    <tr>\n",
       "      <th>30</th>\n",
       "      <td>40.694789</td>\n",
       "      <td>56.327543</td>\n",
       "    </tr>\n",
       "    <tr>\n",
       "      <th>40</th>\n",
       "      <td>34.732272</td>\n",
       "      <td>58.610709</td>\n",
       "    </tr>\n",
       "    <tr>\n",
       "      <th>50</th>\n",
       "      <td>40.625000</td>\n",
       "      <td>58.333333</td>\n",
       "    </tr>\n",
       "    <tr>\n",
       "      <th>60</th>\n",
       "      <td>42.299349</td>\n",
       "      <td>60.737527</td>\n",
       "    </tr>\n",
       "    <tr>\n",
       "      <th>70</th>\n",
       "      <td>43.641618</td>\n",
       "      <td>58.670520</td>\n",
       "    </tr>\n",
       "    <tr>\n",
       "      <th>80</th>\n",
       "      <td>42.424242</td>\n",
       "      <td>58.441558</td>\n",
       "    </tr>\n",
       "    <tr>\n",
       "      <th>90</th>\n",
       "      <td>42.241379</td>\n",
       "      <td>65.517241</td>\n",
       "    </tr>\n",
       "  </tbody>\n",
       "</table>\n",
       "</div>"
      ],
      "text/plain": [
       "       Linear   Logistic\n",
       "10  32.046332  55.212355\n",
       "20  33.550489  58.523344\n",
       "30  40.694789  56.327543\n",
       "40  34.732272  58.610709\n",
       "50  40.625000  58.333333\n",
       "60  42.299349  60.737527\n",
       "70  43.641618  58.670520\n",
       "80  42.424242  58.441558\n",
       "90  42.241379  65.517241"
      ]
     },
     "execution_count": 7,
     "metadata": {},
     "output_type": "execute_result"
    }
   ],
   "source": [
    "# THRESHOLD = 15\n",
    "df3 = pd.DataFrame(getAccuracyDict(15)).transpose() \n",
    "df3.plot()\n",
    "df3"
   ]
  },
  {
   "cell_type": "code",
   "execution_count": 8,
   "metadata": {
    "collapsed": false,
    "scrolled": false
   },
   "outputs": [
    {
     "data": {
      "text/html": [
       "<div>\n",
       "<table border=\"1\" class=\"dataframe\">\n",
       "  <thead>\n",
       "    <tr style=\"text-align: right;\">\n",
       "      <th></th>\n",
       "      <th>Linear</th>\n",
       "      <th>Logistic</th>\n",
       "    </tr>\n",
       "  </thead>\n",
       "  <tbody>\n",
       "    <tr>\n",
       "      <th>10</th>\n",
       "      <td>42.567568</td>\n",
       "      <td>55.212355</td>\n",
       "    </tr>\n",
       "    <tr>\n",
       "      <th>20</th>\n",
       "      <td>43.865364</td>\n",
       "      <td>58.523344</td>\n",
       "    </tr>\n",
       "    <tr>\n",
       "      <th>30</th>\n",
       "      <td>50.372208</td>\n",
       "      <td>56.327543</td>\n",
       "    </tr>\n",
       "    <tr>\n",
       "      <th>40</th>\n",
       "      <td>46.743849</td>\n",
       "      <td>58.610709</td>\n",
       "    </tr>\n",
       "    <tr>\n",
       "      <th>50</th>\n",
       "      <td>54.687500</td>\n",
       "      <td>58.333333</td>\n",
       "    </tr>\n",
       "    <tr>\n",
       "      <th>60</th>\n",
       "      <td>57.700651</td>\n",
       "      <td>60.737527</td>\n",
       "    </tr>\n",
       "    <tr>\n",
       "      <th>70</th>\n",
       "      <td>55.202312</td>\n",
       "      <td>58.670520</td>\n",
       "    </tr>\n",
       "    <tr>\n",
       "      <th>80</th>\n",
       "      <td>53.246753</td>\n",
       "      <td>58.441558</td>\n",
       "    </tr>\n",
       "    <tr>\n",
       "      <th>90</th>\n",
       "      <td>54.310345</td>\n",
       "      <td>65.517241</td>\n",
       "    </tr>\n",
       "  </tbody>\n",
       "</table>\n",
       "</div>"
      ],
      "text/plain": [
       "       Linear   Logistic\n",
       "10  42.567568  55.212355\n",
       "20  43.865364  58.523344\n",
       "30  50.372208  56.327543\n",
       "40  46.743849  58.610709\n",
       "50  54.687500  58.333333\n",
       "60  57.700651  60.737527\n",
       "70  55.202312  58.670520\n",
       "80  53.246753  58.441558\n",
       "90  54.310345  65.517241"
      ]
     },
     "execution_count": 8,
     "metadata": {},
     "output_type": "execute_result"
    }
   ],
   "source": [
    "# THRESHOLD = 20\n",
    "df4 = pd.DataFrame(getAccuracyDict(20)).transpose() \n",
    "df4.plot()\n",
    "df4"
   ]
  },
  {
   "cell_type": "code",
   "execution_count": 9,
   "metadata": {
    "collapsed": false,
    "scrolled": true
   },
   "outputs": [
    {
     "data": {
      "text/html": [
       "<div>\n",
       "<table border=\"1\" class=\"dataframe\">\n",
       "  <thead>\n",
       "    <tr style=\"text-align: right;\">\n",
       "      <th></th>\n",
       "      <th>Linear</th>\n",
       "      <th>Logistic</th>\n",
       "    </tr>\n",
       "  </thead>\n",
       "  <tbody>\n",
       "    <tr>\n",
       "      <th>10</th>\n",
       "      <td>50.482625</td>\n",
       "      <td>55.212355</td>\n",
       "    </tr>\n",
       "    <tr>\n",
       "      <th>20</th>\n",
       "      <td>52.768730</td>\n",
       "      <td>58.523344</td>\n",
       "    </tr>\n",
       "    <tr>\n",
       "      <th>30</th>\n",
       "      <td>61.786600</td>\n",
       "      <td>56.327543</td>\n",
       "    </tr>\n",
       "    <tr>\n",
       "      <th>40</th>\n",
       "      <td>58.321274</td>\n",
       "      <td>58.610709</td>\n",
       "    </tr>\n",
       "    <tr>\n",
       "      <th>50</th>\n",
       "      <td>64.756944</td>\n",
       "      <td>58.333333</td>\n",
       "    </tr>\n",
       "    <tr>\n",
       "      <th>60</th>\n",
       "      <td>66.377440</td>\n",
       "      <td>60.737527</td>\n",
       "    </tr>\n",
       "    <tr>\n",
       "      <th>70</th>\n",
       "      <td>68.208092</td>\n",
       "      <td>58.670520</td>\n",
       "    </tr>\n",
       "    <tr>\n",
       "      <th>80</th>\n",
       "      <td>64.935065</td>\n",
       "      <td>58.441558</td>\n",
       "    </tr>\n",
       "    <tr>\n",
       "      <th>90</th>\n",
       "      <td>64.655172</td>\n",
       "      <td>65.517241</td>\n",
       "    </tr>\n",
       "  </tbody>\n",
       "</table>\n",
       "</div>"
      ],
      "text/plain": [
       "       Linear   Logistic\n",
       "10  50.482625  55.212355\n",
       "20  52.768730  58.523344\n",
       "30  61.786600  56.327543\n",
       "40  58.321274  58.610709\n",
       "50  64.756944  58.333333\n",
       "60  66.377440  60.737527\n",
       "70  68.208092  58.670520\n",
       "80  64.935065  58.441558\n",
       "90  64.655172  65.517241"
      ]
     },
     "execution_count": 9,
     "metadata": {},
     "output_type": "execute_result"
    }
   ],
   "source": [
    "# THRESHOLD = 25\n",
    "df5 = pd.DataFrame(getAccuracyDict(25)).transpose() \n",
    "df5.plot()\n",
    "df5"
   ]
  },
  {
   "cell_type": "code",
   "execution_count": 10,
   "metadata": {
    "collapsed": false
   },
   "outputs": [],
   "source": [
    "df1.plot()\n",
    "plt.title(\"Threshold = 5\")\n",
    "plt.xlabel(\"Train-Test Split Percentage\")\n",
    "plt.ylabel(\"Accuracy\")\n",
    "df2.plot()\n",
    "plt.title(\"Threshold = 10\")\n",
    "plt.xlabel(\"Train-Test Split Percentage\")\n",
    "plt.ylabel(\"Accuracy\")\n",
    "df3.plot()\n",
    "plt.title(\"Threshold = 15\")\n",
    "plt.xlabel(\"Train-Test Split Percentage\")\n",
    "plt.ylabel(\"Accuracy\")\n",
    "df4.plot()\n",
    "plt.title(\"Threshold = 20\")\n",
    "plt.xlabel(\"Train-Test Split Percentage\")\n",
    "plt.ylabel(\"Accuracy\")\n",
    "df5.plot()\n",
    "plt.title(\"Threshold = 25\")\n",
    "plt.xlabel(\"Train-Test Split Percentage\")\n",
    "plt.ylabel(\"Accuracy\")\n",
    "plt.show()"
   ]
  },
  {
   "cell_type": "code",
   "execution_count": 5,
   "metadata": {
    "collapsed": false
   },
   "outputs": [],
   "source": [
    "from sklearn.linear_model import LogisticRegression, LinearRegression\n",
    "gidAttribDict = CH.createDataFlDict(data,allAttribs)\n",
    "splitProp = 0.5\n",
    "nTrain = int(len(gidAttribDict.keys()) * splitProp)\n",
    "nTest = len(gidAttribDict.keys()) - int(len(gidAttribDict.keys()) * splitProp)\n",
    "\n",
    "df = pd.DataFrame(gidAttribDict).transpose()\n",
    "df = df[allAttribs + [\"TARGET\"]] # Rearranging the order of the columns\n",
    "\n",
    "attributes = df.columns[:len(allAttribs)] # all attributes\n",
    "\n",
    "train_x = df[attributes].head(nTrain)\n",
    "train_y = df['TARGET'].head(nTrain)\n",
    "regr = LogisticRegression()\n",
    "regr.fit(train_x,train_y)\n",
    "\n",
    "test_x = df[attributes].tail(nTest)\n",
    "test_y =df['TARGET'].tail(nTest) \n",
    "test_y = list(test_y)\n",
    "\n",
    "predictions = regr.predict(test_x)\n",
    "predictions = list(predictions)"
   ]
  },
  {
   "cell_type": "code",
   "execution_count": 14,
   "metadata": {
    "collapsed": false
   },
   "outputs": [
    {
     "name": "stdout",
     "output_type": "stream",
     "text": [
      "0.706817626953\n"
     ]
    }
   ],
   "source": [
    "from sklearn import metrics\n",
    "#from ggplot import *\n",
    "\n",
    "preds = regr.predict_proba(test_x)[:,1]\n",
    "\n",
    "fpr, tpr, _ = metrics.roc_curve(test_y, preds)\n",
    "auc = metrics.auc(fpr,tpr)\n",
    "print(auc)\n",
    "df = pd.DataFrame(dict(fpr=fpr, tpr=tpr))\n",
    "# ggplot(df, aes(x='fpr', y='tpr')) +\\\n",
    "#     geom_line() +\\\n",
    "#     geom_abline(linetype='dashed')"
   ]
  },
  {
   "cell_type": "code",
   "execution_count": 15,
   "metadata": {
    "collapsed": false
   },
   "outputs": [],
   "source": [
    "plt.plot(fpr,tpr)\n",
    "plt.plot([0,0.5,1],[0,0.5,1])\n",
    "plt.show()"
   ]
  },
  {
   "cell_type": "code",
   "execution_count": 6,
   "metadata": {
    "collapsed": false
   },
   "outputs": [
    {
     "name": "stdout",
     "output_type": "stream",
     "text": [
      "AUC for train-test split of 10.000000 percent = 0.634999\n",
      "AUC for train-test split of 20.000000 percent = 0.673990\n",
      "AUC for train-test split of 30.000000 percent = 0.640692\n",
      "AUC for train-test split of 40.000000 percent = 0.657440\n",
      "AUC for train-test split of 50.000000 percent = 0.706818\n",
      "AUC for train-test split of 60.000000 percent = 0.701304\n",
      "AUC for train-test split of 70.000000 percent = 0.715686\n",
      "AUC for train-test split of 80.000000 percent = 0.722041\n",
      "AUC for train-test split of 90.000000 percent = 0.805000\n"
     ]
    }
   ],
   "source": [
    "aucDict = {}\n",
    "for i in np.arange(0.1,1,0.1):\n",
    "    test_x, test_y, preds, _ = CH.buildRegrModel(data,allAttribs,i)\n",
    "    fpr, tpr, _ = metrics.roc_curve(test_y, preds)\n",
    "    auc = metrics.auc(fpr,tpr)\n",
    "    title = str(\"AUC for train-test split of %f percent = %f\" %(i*100,auc))\n",
    "    plt.plot(fpr,tpr,label=int(i*100))\n",
    "    plt.title(\"ROC Curve\")\n",
    "    plt.xlabel(\"False Positive Rate\")\n",
    "    plt.ylabel(\"True Positive Rate\")\n",
    "    aucDict[int(i*100)] = auc\n",
    "    print(title)"
   ]
  },
  {
   "cell_type": "code",
   "execution_count": 7,
   "metadata": {
    "collapsed": false
   },
   "outputs": [],
   "source": [
    "plt.plot([0,0.5,1],[0,0.5,1])\n",
    "plt.legend()\n",
    "plt.show()"
   ]
  },
  {
   "cell_type": "code",
   "execution_count": 52,
   "metadata": {
    "collapsed": false,
    "scrolled": true
   },
   "outputs": [
    {
     "data": {
      "text/html": [
       "<div>\n",
       "<table border=\"1\" class=\"dataframe\">\n",
       "  <thead>\n",
       "    <tr style=\"text-align: right;\">\n",
       "      <th></th>\n",
       "      <th>Split Percent</th>\n",
       "      <th>AUC</th>\n",
       "    </tr>\n",
       "  </thead>\n",
       "  <tbody>\n",
       "    <tr>\n",
       "      <th>0</th>\n",
       "      <td>10</td>\n",
       "      <td>0.634999</td>\n",
       "    </tr>\n",
       "    <tr>\n",
       "      <th>1</th>\n",
       "      <td>20</td>\n",
       "      <td>0.673990</td>\n",
       "    </tr>\n",
       "    <tr>\n",
       "      <th>2</th>\n",
       "      <td>30</td>\n",
       "      <td>0.640692</td>\n",
       "    </tr>\n",
       "    <tr>\n",
       "      <th>3</th>\n",
       "      <td>40</td>\n",
       "      <td>0.657440</td>\n",
       "    </tr>\n",
       "    <tr>\n",
       "      <th>4</th>\n",
       "      <td>50</td>\n",
       "      <td>0.706818</td>\n",
       "    </tr>\n",
       "    <tr>\n",
       "      <th>5</th>\n",
       "      <td>60</td>\n",
       "      <td>0.701304</td>\n",
       "    </tr>\n",
       "    <tr>\n",
       "      <th>6</th>\n",
       "      <td>70</td>\n",
       "      <td>0.715686</td>\n",
       "    </tr>\n",
       "    <tr>\n",
       "      <th>7</th>\n",
       "      <td>80</td>\n",
       "      <td>0.722041</td>\n",
       "    </tr>\n",
       "    <tr>\n",
       "      <th>8</th>\n",
       "      <td>90</td>\n",
       "      <td>0.805000</td>\n",
       "    </tr>\n",
       "  </tbody>\n",
       "</table>\n",
       "</div>"
      ],
      "text/plain": [
       "   Split Percent       AUC\n",
       "0             10  0.634999\n",
       "1             20  0.673990\n",
       "2             30  0.640692\n",
       "3             40  0.657440\n",
       "4             50  0.706818\n",
       "5             60  0.701304\n",
       "6             70  0.715686\n",
       "7             80  0.722041\n",
       "8             90  0.805000"
      ]
     },
     "execution_count": 52,
     "metadata": {},
     "output_type": "execute_result"
    }
   ],
   "source": [
    "df = pd.DataFrame(aucDict,index=['AUC']).transpose()\n",
    "df.reset_index(inplace=True)\n",
    "df.columns = ['Split Percent','AUC']\n",
    "df"
   ]
  },
  {
   "cell_type": "code",
   "execution_count": null,
   "metadata": {
    "collapsed": true
   },
   "outputs": [],
   "source": []
  }
 ],
 "metadata": {
  "kernelspec": {
   "display_name": "Python 3",
   "language": "python",
   "name": "python3"
  },
  "language_info": {
   "codemirror_mode": {
    "name": "ipython",
    "version": 3
   },
   "file_extension": ".py",
   "mimetype": "text/x-python",
   "name": "python",
   "nbconvert_exporter": "python",
   "pygments_lexer": "ipython3",
   "version": "3.5.1"
  }
 },
 "nbformat": 4,
 "nbformat_minor": 0
}
