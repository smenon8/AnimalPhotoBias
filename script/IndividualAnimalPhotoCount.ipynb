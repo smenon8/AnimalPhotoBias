{
 "cells": [
  {
   "cell_type": "raw",
   "metadata": {
    "collapsed": true
   },
   "source": [
    "Script for counting the number of times an animal was photographed\n",
    "Author: Sreejith Menon\n",
    "Date: May 25 2016"
   ]
  },
  {
   "cell_type": "code",
   "execution_count": 42,
   "metadata": {
    "collapsed": true
   },
   "outputs": [],
   "source": [
    "import GetPropertiesAPI as GP\n",
    "from collections import Counter"
   ]
  },
  {
   "cell_type": "code",
   "execution_count": 44,
   "metadata": {
    "collapsed": false
   },
   "outputs": [],
   "source": [
    "aid_list = []\n",
    "for gid in range(1,10):\n",
    "    aid_list.append(GP.getAnnotID(gid))\n",
    "    \n",
    "aid_list = list(filter(lambda x: x != None,aid_list))"
   ]
  },
  {
   "cell_type": "code",
   "execution_count": 45,
   "metadata": {
    "collapsed": false
   },
   "outputs": [],
   "source": [
    "aids = []\n",
    "for aid_l in aid_list:\n",
    "    for aid in aid_l:\n",
    "        aids.append(aid)"
   ]
  },
  {
   "cell_type": "code",
   "execution_count": 46,
   "metadata": {
    "collapsed": false
   },
   "outputs": [],
   "source": [
    "aidNidMap = {}\n",
    "aidNamesMap = {}\n",
    "\n",
    "for aid in aids:\n",
    "    nid = GP.getImageFeature(aid,'nids')\n",
    "    names = GP.getImageFeature(aid,'names')\n",
    "    aidNidMap[aid] = nid\n",
    "    aidNamesMap[aid] = names"
   ]
  },
  {
   "cell_type": "code",
   "execution_count": 47,
   "metadata": {
    "collapsed": false
   },
   "outputs": [],
   "source": [
    "nids = []\n",
    "names = []\n",
    "for aid in aidNidMap.keys():\n",
    "    nids.append(aidNidMap[aid][0])\n",
    "    names.append(aidNamesMap[aid][0])"
   ]
  },
  {
   "cell_type": "code",
   "execution_count": 48,
   "metadata": {
    "collapsed": false
   },
   "outputs": [],
   "source": [
    "nids = list(filter(lambda x : x > 0,nids))\n",
    "names = list(filter(lambda x : x != '____',names))"
   ]
  },
  {
   "cell_type": "code",
   "execution_count": 49,
   "metadata": {
    "collapsed": false
   },
   "outputs": [],
   "source": [
    "counter_nid,counter_name = Counter(nids),Counter(names)\n"
   ]
  },
  {
   "cell_type": "code",
   "execution_count": 50,
   "metadata": {
    "collapsed": false
   },
   "outputs": [
    {
     "data": {
      "text/plain": [
       "{9332: [-9332],\n",
       " 13385: [1834],\n",
       " 13386: [-13386],\n",
       " 13390: [1836],\n",
       " 13399: [-13399],\n",
       " 13416: [-13416],\n",
       " 13423: [1834],\n",
       " 13425: [-13425],\n",
       " 13453: [1834]}"
      ]
     },
     "execution_count": 50,
     "metadata": {},
     "output_type": "execute_result"
    }
   ],
   "source": [
    "aidNidMap"
   ]
  },
  {
   "cell_type": "code",
   "execution_count": null,
   "metadata": {
    "collapsed": true
   },
   "outputs": [],
   "source": []
  }
 ],
 "metadata": {
  "kernelspec": {
   "display_name": "Python 3",
   "language": "python",
   "name": "python3"
  },
  "language_info": {
   "codemirror_mode": {
    "name": "ipython",
    "version": 3
   },
   "file_extension": ".py",
   "mimetype": "text/x-python",
   "name": "python",
   "nbconvert_exporter": "python",
   "pygments_lexer": "ipython3",
   "version": "3.5.1"
  }
 },
 "nbformat": 4,
 "nbformat_minor": 0
}
