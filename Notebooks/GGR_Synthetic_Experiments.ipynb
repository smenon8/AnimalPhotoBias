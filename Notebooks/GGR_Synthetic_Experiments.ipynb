{
 "cells": [
  {
   "cell_type": "code",
   "execution_count": null,
   "metadata": {
    "collapsed": true
   },
   "outputs": [],
   "source": []
  },
  {
   "cell_type": "code",
   "execution_count": 223,
   "metadata": {
    "collapsed": false
   },
   "outputs": [
    {
     "data": {
      "text/plain": [
       "<module 'JobsMapResultsFilesToContainerObjs' from '/Users/sreejithmenon/Google Drive/CodeBase/AWESOME/script/JobsMapResultsFilesToContainerObjs.py'>"
      ]
     },
     "execution_count": 223,
     "metadata": {},
     "output_type": "execute_result"
    }
   ],
   "source": [
    "import json, pandas as pd,re\n",
    "import DeriveFinalResultSet as DRS\n",
    "import cufflinks as cf # this is necessary to link pandas to plotly\n",
    "cf.go_online()\n",
    "from plotly.offline import download_plotlyjs, init_notebook_mode, plot, iplot\n",
    "import plotly.plotly as py\n",
    "import ClassiferHelperAPI as CH, PopulationEstimatorAPI as PE\n",
    "import importlib, re\n",
    "importlib.reload(CH)\n",
    "importlib.reload(DRS)\n",
    "importlib.reload(PE)\n",
    "import MarkRecapHelper as MR\n",
    "importlib.reload(MR)\n",
    "import JobsMapResultsFilesToContainerObjs as ImageMap\n",
    "importlib.reload(ImageMap)"
   ]
  },
  {
   "cell_type": "code",
   "execution_count": 164,
   "metadata": {
    "collapsed": false
   },
   "outputs": [],
   "source": [
    "inExifFl,inGidAidMapFl,inAidFtrFl = \"../data/ggr_gid_uuid_exif_ftr_map.json\",\"../data/ggr_uuid_annot_uuid_map.json\",\"../data/ggr_annot_uuid_ftr_map.json\"\n"
   ]
  },
  {
   "cell_type": "code",
   "execution_count": 88,
   "metadata": {
    "collapsed": false
   },
   "outputs": [],
   "source": [
    "df = CH.construct_feature_vctr_fl(\"../data/GZC_exifs_beauty_full.json\", None, \n",
    "                            \"../data/full_gid_aid_map.json\",\n",
    "                            \"../data/full_aid_features.json\",\n",
    "                            \"../feature_files/GZC_FEATURE_VECTOR.csv\",\n",
    "                            ['arousal', 'contrast', 'dominance', 'pleasure', 'symmetry', \n",
    "                               'height', 'width',\n",
    "                               'hsv_itten_std_h', 'hsv_itten_std_s', 'hsv_itten_std_v', \n",
    "                               'lat', 'long',\n",
    "                               'orientation', \n",
    "                               'day', 'hour',\n",
    "                               'has_zebra'])"
   ]
  },
  {
   "cell_type": "code",
   "execution_count": 78,
   "metadata": {
    "collapsed": false
   },
   "outputs": [],
   "source": [
    "df = CH.construct_feature_vctr_fl(\"../data/GGR_bty_exif_combined.json\", \n",
    "                                  None, \n",
    "                            \"../data/ggr_uuid_annot_uuid_map.json\",\n",
    "                            \"../data/ggr_annot_uuid_ftr_map.json\",\n",
    "                            \"../feature_files/GGR_FEATURE_VECTOR.csv\",\n",
    "                            ['arousal', 'contrast', 'dominance', 'pleasure', 'symmetry', \n",
    "                               'height', 'width',\n",
    "                               'hsv_itten_std_h', 'hsv_itten_std_s', 'hsv_itten_std_v', \n",
    "                               'lat', 'long',\n",
    "                               'orientation', \n",
    "                               'day', 'hour',\n",
    "                               'has_zebra'])"
   ]
  },
  {
   "cell_type": "code",
   "execution_count": 173,
   "metadata": {
    "collapsed": false
   },
   "outputs": [
    {
     "name": "stdout",
     "output_type": "stream",
     "text": [
      "Starting to run elastic_net on test data\n",
      "Attribute Selection Method : beauty\n",
      "Number of outliers identified: 0\n",
      "22440 22440\n",
      "Starting population estimation experiments\n",
      "Population estimation experiments complete\n"
     ]
    },
    {
     "data": {
      "text/html": [
       "<div>\n",
       "<table border=\"1\" class=\"dataframe\">\n",
       "  <thead>\n",
       "    <tr style=\"text-align: right;\">\n",
       "      <th></th>\n",
       "      <th>zebras</th>\n",
       "      <th>Randomized_zebras</th>\n",
       "    </tr>\n",
       "    <tr>\n",
       "      <th>num_images</th>\n",
       "      <th></th>\n",
       "      <th></th>\n",
       "    </tr>\n",
       "  </thead>\n",
       "  <tbody>\n",
       "    <tr>\n",
       "      <th>20</th>\n",
       "      <td>5168.000000</td>\n",
       "      <td>3337.666667</td>\n",
       "    </tr>\n",
       "    <tr>\n",
       "      <th>21</th>\n",
       "      <td>5565.000000</td>\n",
       "      <td>3337.666667</td>\n",
       "    </tr>\n",
       "    <tr>\n",
       "      <th>22</th>\n",
       "      <td>5728.333333</td>\n",
       "      <td>3337.666667</td>\n",
       "    </tr>\n",
       "    <tr>\n",
       "      <th>23</th>\n",
       "      <td>4599.000000</td>\n",
       "      <td>3337.666667</td>\n",
       "    </tr>\n",
       "    <tr>\n",
       "      <th>24</th>\n",
       "      <td>3337.666667</td>\n",
       "      <td>3337.666667</td>\n",
       "    </tr>\n",
       "    <tr>\n",
       "      <th>25</th>\n",
       "      <td>3484.000000</td>\n",
       "      <td>3337.666667</td>\n",
       "    </tr>\n",
       "    <tr>\n",
       "      <th>26</th>\n",
       "      <td>3288.000000</td>\n",
       "      <td>3337.666667</td>\n",
       "    </tr>\n",
       "    <tr>\n",
       "      <th>27</th>\n",
       "      <td>3415.428571</td>\n",
       "      <td>3337.666667</td>\n",
       "    </tr>\n",
       "    <tr>\n",
       "      <th>28</th>\n",
       "      <td>3501.428571</td>\n",
       "      <td>3337.666667</td>\n",
       "    </tr>\n",
       "    <tr>\n",
       "      <th>29</th>\n",
       "      <td>3670.857143</td>\n",
       "      <td>3337.666667</td>\n",
       "    </tr>\n",
       "    <tr>\n",
       "      <th>30</th>\n",
       "      <td>3746.285714</td>\n",
       "      <td>3337.666667</td>\n",
       "    </tr>\n",
       "  </tbody>\n",
       "</table>\n",
       "</div>"
      ],
      "text/plain": [
       "                 zebras  Randomized_zebras\n",
       "num_images                                \n",
       "20          5168.000000        3337.666667\n",
       "21          5565.000000        3337.666667\n",
       "22          5728.333333        3337.666667\n",
       "23          4599.000000        3337.666667\n",
       "24          3337.666667        3337.666667\n",
       "25          3484.000000        3337.666667\n",
       "26          3288.000000        3337.666667\n",
       "27          3415.428571        3337.666667\n",
       "28          3501.428571        3337.666667\n",
       "29          3670.857143        3337.666667\n",
       "30          3746.285714        3337.666667"
      ]
     },
     "execution_count": 173,
     "metadata": {},
     "output_type": "execute_result"
    }
   ],
   "source": [
    "PE.runSyntheticExpts(False, ['elastic_net'], ['beauty'], range(20,31), regrArgs)"
   ]
  },
  {
   "cell_type": "code",
   "execution_count": 224,
   "metadata": {
    "collapsed": false
   },
   "outputs": [
    {
     "name": "stdout",
     "output_type": "stream",
     "text": [
      "Starting to run ada_boost on test data\n",
      "Attribute Selection Method : beauty\n",
      "Starting population estimation experiments\n",
      "mode is GZC\n",
      "1053\n",
      "mode is GZC\n",
      "mode is GZC\n",
      "mode is GZC\n",
      "mode is GZC\n",
      "mode is GZC\n",
      "mode is GZC\n",
      "1099\n",
      "mode is GZC\n",
      "mode is GZC\n",
      "mode is GZC\n",
      "mode is GZC\n",
      "mode is GZC\n",
      "mode is GZC\n",
      "1145\n",
      "mode is GZC\n",
      "mode is GZC\n",
      "mode is GZC\n",
      "mode is GZC\n",
      "mode is GZC\n",
      "mode is GZC\n",
      "1191\n",
      "mode is GZC\n",
      "mode is GZC\n",
      "mode is GZC\n",
      "mode is GZC\n",
      "mode is GZC\n",
      "mode is GZC\n",
      "1237\n",
      "mode is GZC\n",
      "mode is GZC\n",
      "mode is GZC\n",
      "mode is GZC\n",
      "mode is GZC\n",
      "mode is GZC\n",
      "1283\n",
      "mode is GZC\n",
      "mode is GZC\n",
      "mode is GZC\n",
      "mode is GZC\n",
      "mode is GZC\n",
      "mode is GZC\n",
      "1328\n",
      "mode is GZC\n",
      "mode is GZC\n",
      "mode is GZC\n",
      "mode is GZC\n",
      "mode is GZC\n",
      "mode is GZC\n",
      "1372\n",
      "mode is GZC\n",
      "mode is GZC\n",
      "mode is GZC\n",
      "mode is GZC\n",
      "mode is GZC\n",
      "mode is GZC\n",
      "1415\n",
      "mode is GZC\n",
      "mode is GZC\n",
      "mode is GZC\n",
      "mode is GZC\n",
      "mode is GZC\n",
      "mode is GZC\n",
      "1457\n",
      "mode is GZC\n",
      "mode is GZC\n",
      "mode is GZC\n",
      "mode is GZC\n",
      "mode is GZC\n",
      "mode is GZC\n",
      "1499\n",
      "mode is GZC\n",
      "mode is GZC\n",
      "mode is GZC\n",
      "mode is GZC\n",
      "mode is GZC\n",
      "Population estimation experiments complete\n",
      "mode is GZC\n",
      "1277\n",
      "mode is GZC\n",
      "mode is GZC\n",
      "mode is GZC\n",
      "mode is GZC\n",
      "mode is GZC\n"
     ]
    },
    {
     "data": {
      "text/html": [
       "<div>\n",
       "<table border=\"1\" class=\"dataframe\">\n",
       "  <thead>\n",
       "    <tr style=\"text-align: right;\">\n",
       "      <th></th>\n",
       "      <th>all</th>\n",
       "      <th>giraffes</th>\n",
       "      <th>zebras</th>\n",
       "      <th>zebra_confidence</th>\n",
       "      <th>Randomized_giraffe</th>\n",
       "      <th>Randomized_all</th>\n",
       "      <th>Randomized_zebras</th>\n",
       "    </tr>\n",
       "    <tr>\n",
       "      <th>num_images</th>\n",
       "      <th></th>\n",
       "      <th></th>\n",
       "      <th></th>\n",
       "      <th></th>\n",
       "      <th></th>\n",
       "      <th></th>\n",
       "      <th></th>\n",
       "    </tr>\n",
       "  </thead>\n",
       "  <tbody>\n",
       "    <tr>\n",
       "      <th>20</th>\n",
       "      <td>3300.266667</td>\n",
       "      <td>228.0</td>\n",
       "      <td>5649.773351</td>\n",
       "      <td>3074.000000</td>\n",
       "      <td>315.0</td>\n",
       "      <td>3068.0</td>\n",
       "      <td>2799.857143</td>\n",
       "    </tr>\n",
       "    <tr>\n",
       "      <th>21</th>\n",
       "      <td>2789.473684</td>\n",
       "      <td>232.0</td>\n",
       "      <td>4636.304495</td>\n",
       "      <td>2562.000000</td>\n",
       "      <td>315.0</td>\n",
       "      <td>3068.0</td>\n",
       "      <td>2799.857143</td>\n",
       "    </tr>\n",
       "    <tr>\n",
       "      <th>22</th>\n",
       "      <td>2711.428571</td>\n",
       "      <td>240.0</td>\n",
       "      <td>4455.376728</td>\n",
       "      <td>2476.500000</td>\n",
       "      <td>315.0</td>\n",
       "      <td>3068.0</td>\n",
       "      <td>2799.857143</td>\n",
       "    </tr>\n",
       "    <tr>\n",
       "      <th>23</th>\n",
       "      <td>2808.500000</td>\n",
       "      <td>244.0</td>\n",
       "      <td>4616.942338</td>\n",
       "      <td>2565.142857</td>\n",
       "      <td>315.0</td>\n",
       "      <td>3068.0</td>\n",
       "      <td>2799.857143</td>\n",
       "    </tr>\n",
       "    <tr>\n",
       "      <th>24</th>\n",
       "      <td>2880.000000</td>\n",
       "      <td>248.0</td>\n",
       "      <td>4731.515687</td>\n",
       "      <td>2627.727273</td>\n",
       "      <td>315.0</td>\n",
       "      <td>3068.0</td>\n",
       "      <td>2799.857143</td>\n",
       "    </tr>\n",
       "    <tr>\n",
       "      <th>25</th>\n",
       "      <td>2916.833333</td>\n",
       "      <td>320.0</td>\n",
       "      <td>4758.198261</td>\n",
       "      <td>2648.347826</td>\n",
       "      <td>315.0</td>\n",
       "      <td>3068.0</td>\n",
       "      <td>2799.857143</td>\n",
       "    </tr>\n",
       "    <tr>\n",
       "      <th>26</th>\n",
       "      <td>2987.600000</td>\n",
       "      <td>330.0</td>\n",
       "      <td>4861.425426</td>\n",
       "      <td>2706.250000</td>\n",
       "      <td>315.0</td>\n",
       "      <td>3068.0</td>\n",
       "      <td>2799.857143</td>\n",
       "    </tr>\n",
       "    <tr>\n",
       "      <th>27</th>\n",
       "      <td>2982.000000</td>\n",
       "      <td>330.0</td>\n",
       "      <td>4847.298092</td>\n",
       "      <td>2705.600000</td>\n",
       "      <td>315.0</td>\n",
       "      <td>3068.0</td>\n",
       "      <td>2799.857143</td>\n",
       "    </tr>\n",
       "    <tr>\n",
       "      <th>28</th>\n",
       "      <td>2872.214286</td>\n",
       "      <td>335.0</td>\n",
       "      <td>4629.343115</td>\n",
       "      <td>2600.888889</td>\n",
       "      <td>315.0</td>\n",
       "      <td>3068.0</td>\n",
       "      <td>2799.857143</td>\n",
       "    </tr>\n",
       "    <tr>\n",
       "      <th>29</th>\n",
       "      <td>2852.500000</td>\n",
       "      <td>335.0</td>\n",
       "      <td>4586.382909</td>\n",
       "      <td>2587.862069</td>\n",
       "      <td>315.0</td>\n",
       "      <td>3068.0</td>\n",
       "      <td>2799.857143</td>\n",
       "    </tr>\n",
       "    <tr>\n",
       "      <th>30</th>\n",
       "      <td>2954.800000</td>\n",
       "      <td>340.0</td>\n",
       "      <td>4761.925960</td>\n",
       "      <td>2681.379310</td>\n",
       "      <td>315.0</td>\n",
       "      <td>3068.0</td>\n",
       "      <td>2799.857143</td>\n",
       "    </tr>\n",
       "  </tbody>\n",
       "</table>\n",
       "</div>"
      ],
      "text/plain": [
       "                    all  giraffes       zebras  zebra_confidence  \\\n",
       "num_images                                                         \n",
       "20          3300.266667     228.0  5649.773351       3074.000000   \n",
       "21          2789.473684     232.0  4636.304495       2562.000000   \n",
       "22          2711.428571     240.0  4455.376728       2476.500000   \n",
       "23          2808.500000     244.0  4616.942338       2565.142857   \n",
       "24          2880.000000     248.0  4731.515687       2627.727273   \n",
       "25          2916.833333     320.0  4758.198261       2648.347826   \n",
       "26          2987.600000     330.0  4861.425426       2706.250000   \n",
       "27          2982.000000     330.0  4847.298092       2705.600000   \n",
       "28          2872.214286     335.0  4629.343115       2600.888889   \n",
       "29          2852.500000     335.0  4586.382909       2587.862069   \n",
       "30          2954.800000     340.0  4761.925960       2681.379310   \n",
       "\n",
       "            Randomized_giraffe  Randomized_all  Randomized_zebras  \n",
       "num_images                                                         \n",
       "20                       315.0          3068.0        2799.857143  \n",
       "21                       315.0          3068.0        2799.857143  \n",
       "22                       315.0          3068.0        2799.857143  \n",
       "23                       315.0          3068.0        2799.857143  \n",
       "24                       315.0          3068.0        2799.857143  \n",
       "25                       315.0          3068.0        2799.857143  \n",
       "26                       315.0          3068.0        2799.857143  \n",
       "27                       315.0          3068.0        2799.857143  \n",
       "28                       315.0          3068.0        2799.857143  \n",
       "29                       315.0          3068.0        2799.857143  \n",
       "30                       315.0          3068.0        2799.857143  "
      ]
     },
     "execution_count": 224,
     "metadata": {},
     "output_type": "execute_result"
    }
   ],
   "source": [
    "PE.runSyntheticExpts(True, ['ada_boost'], ['beauty'], range(20,31), clfArgs)"
   ]
  },
  {
   "cell_type": "code",
   "execution_count": 221,
   "metadata": {
    "collapsed": false
   },
   "outputs": [
    {
     "name": "stdout",
     "output_type": "stream",
     "text": [
      "Starting to run logistic on test data\n",
      "Attribute Selection Method : beauty\n",
      "Starting population estimation experiments\n",
      "mode is GZC\n",
      "1283\n",
      "mode is GZC\n",
      "0\n"
     ]
    },
    {
     "name": "stderr",
     "output_type": "stream",
     "text": [
      "/Users/sreejithmenon/Google Drive/CodeBase/AWESOME/script/MarkRecapHelper.py:94: UserWarning:\n",
      "\n",
      "There are no recaptures for this case.\n",
      "\n"
     ]
    },
    {
     "name": "stdout",
     "output_type": "stream",
     "text": [
      "mode is GZC\n",
      "mode is GZC\n",
      "0\n",
      "mode is GZC\n",
      "mode is GZC\n",
      "0\n",
      "Population estimation experiments complete\n",
      "mode is GZC\n",
      "1283\n",
      "mode is GZC\n",
      "0\n",
      "mode is GZC\n",
      "mode is GZC\n",
      "0\n",
      "mode is GZC\n",
      "mode is GZC\n",
      "0\n"
     ]
    },
    {
     "data": {
      "text/html": [
       "<div>\n",
       "<table border=\"1\" class=\"dataframe\">\n",
       "  <thead>\n",
       "    <tr style=\"text-align: right;\">\n",
       "      <th></th>\n",
       "      <th>all</th>\n",
       "      <th>giraffes</th>\n",
       "      <th>zebras</th>\n",
       "      <th>zebra_confidence</th>\n",
       "      <th>Randomized_giraffe</th>\n",
       "      <th>Randomized_all</th>\n",
       "      <th>Randomized_zebras</th>\n",
       "    </tr>\n",
       "    <tr>\n",
       "      <th>num_images</th>\n",
       "      <th></th>\n",
       "      <th></th>\n",
       "      <th></th>\n",
       "      <th></th>\n",
       "      <th></th>\n",
       "      <th></th>\n",
       "      <th></th>\n",
       "    </tr>\n",
       "  </thead>\n",
       "  <tbody>\n",
       "    <tr>\n",
       "      <th>25</th>\n",
       "      <td>NaN</td>\n",
       "      <td>NaN</td>\n",
       "      <td>0.0</td>\n",
       "      <td>NaN</td>\n",
       "      <td>None</td>\n",
       "      <td>None</td>\n",
       "      <td>None</td>\n",
       "    </tr>\n",
       "  </tbody>\n",
       "</table>\n",
       "</div>"
      ],
      "text/plain": [
       "            all  giraffes  zebras  zebra_confidence Randomized_giraffe  \\\n",
       "num_images                                                               \n",
       "25          NaN       NaN     0.0               NaN               None   \n",
       "\n",
       "           Randomized_all Randomized_zebras  \n",
       "num_images                                   \n",
       "25                   None              None  "
      ]
     },
     "execution_count": 221,
     "metadata": {},
     "output_type": "execute_result"
    }
   ],
   "source": [
    "PE.runSyntheticExpts(True, ['logistic'], ['beauty'], range(25,26), clfArgs)"
   ]
  },
  {
   "cell_type": "code",
   "execution_count": 169,
   "metadata": {
    "collapsed": true
   },
   "outputs": [],
   "source": [
    "clfArgs = {'dummy' : {'strategy' : 'most_frequent'},\n",
    "            'bayesian' : {'fit_prior' : True},\n",
    "            'logistic' : {'penalty' : 'l2'},\n",
    "            'svm' : {'kernel' : 'rbf','probability' : True},\n",
    "            'dtree' : {'criterion' : 'entropy'},\n",
    "            'random_forests' : {'n_estimators' : 10 },\n",
    "            'ada_boost' : {'n_estimators' : 50 }}\n",
    "\n",
    "regrArgs = {'linear' : {'fit_intercept' : True},\n",
    "            'ridge' : {'fit_intercept' : True},\n",
    "            'lasso' : {'fit_intercept' : True},\n",
    "            'elastic_net' : {'fit_intercept' : True},\n",
    "            'svr' : {'fit_intercept' : True},\n",
    "            'dtree_regressor' : {'fit_intercept' : True}}"
   ]
  },
  {
   "cell_type": "code",
   "execution_count": 131,
   "metadata": {
    "collapsed": false
   },
   "outputs": [],
   "source": [
    "contrib_extractor = lambda x : re.findall(r'GGR,([0-9]+,[A-Z]),.*', x)[0]\n",
    "with open(inExifFl, \"r\") as exif_fl:\n",
    "    exif_obj = json.load(exif_fl)\n",
    "gidContribDct = {gid_uuid : [contrib_extractor(exif_obj[gid_uuid]['contributor'])] for gid_uuid in exif_obj.keys()} "
   ]
  },
  {
   "cell_type": "code",
   "execution_count": 132,
   "metadata": {
    "collapsed": false
   },
   "outputs": [
    {
     "data": {
      "text/plain": [
       "'7,A'"
      ]
     },
     "execution_count": 132,
     "metadata": {},
     "output_type": "execute_result"
    }
   ],
   "source": [
    "contrib_extractor(exif_obj['a7c6379f-ab06-b409-9836-3f696c73e86e']['contributor'])"
   ]
  },
  {
   "cell_type": "code",
   "execution_count": 228,
   "metadata": {
    "collapsed": false
   },
   "outputs": [
    {
     "name": "stdout",
     "output_type": "stream",
     "text": [
      "Mode mismatch\n"
     ]
    },
    {
     "ename": "SystemExit",
     "evalue": "-2",
     "output_type": "error",
     "traceback": [
      "An exception has occurred, use %tb to see the full traceback.\n",
      "\u001b[0;31mSystemExit\u001b[0m\u001b[0;31m:\u001b[0m -2\n"
     ]
    },
    {
     "name": "stderr",
     "output_type": "stream",
     "text": [
      "To exit: use 'exit', 'quit', or Ctrl-D.\n"
     ]
    }
   ],
   "source": [
    "try:\n",
    "    assert MR.MODE == MODE\n",
    "except AssertionError as e:\n",
    "    print(\"Mode mismatch\")\n",
    "    sys.exit(-2)"
   ]
  },
  {
   "cell_type": "code",
   "execution_count": 227,
   "metadata": {
    "collapsed": false
   },
   "outputs": [],
   "source": [
    "MODE = 'blah'\n",
    "import sys"
   ]
  },
  {
   "cell_type": "code",
   "execution_count": 208,
   "metadata": {
    "collapsed": false
   },
   "outputs": [],
   "source": [
    "if len(a[0]):\n",
    "    lasdas"
   ]
  },
  {
   "cell_type": "code",
   "execution_count": null,
   "metadata": {
    "collapsed": true
   },
   "outputs": [],
   "source": []
  }
 ],
 "metadata": {
  "kernelspec": {
   "display_name": "Python 3",
   "language": "python",
   "name": "python3"
  },
  "language_info": {
   "codemirror_mode": {
    "name": "ipython",
    "version": 3
   },
   "file_extension": ".py",
   "mimetype": "text/x-python",
   "name": "python",
   "nbconvert_exporter": "python",
   "pygments_lexer": "ipython3",
   "version": "3.5.2"
  }
 },
 "nbformat": 4,
 "nbformat_minor": 0
}
