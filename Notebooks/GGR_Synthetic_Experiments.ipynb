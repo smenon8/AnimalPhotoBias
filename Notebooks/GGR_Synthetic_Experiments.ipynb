{
 "cells": [
  {
   "cell_type": "code",
   "execution_count": null,
   "metadata": {
    "collapsed": true
   },
   "outputs": [],
   "source": []
  },
  {
   "cell_type": "code",
   "execution_count": 133,
   "metadata": {
    "collapsed": false
   },
   "outputs": [
    {
     "data": {
      "text/plain": [
       "<module 'PopulationEstimatorAPI' from '/Users/sreejithmenon/Google Drive/CodeBase/AWESOME/script/PopulationEstimatorAPI.py'>"
      ]
     },
     "execution_count": 133,
     "metadata": {},
     "output_type": "execute_result"
    }
   ],
   "source": [
    "import json, pandas as pd,re\n",
    "import DeriveFinalResultSet as DRS\n",
    "import cufflinks as cf # this is necessary to link pandas to plotly\n",
    "cf.go_online()\n",
    "from plotly.offline import download_plotlyjs, init_notebook_mode, plot, iplot\n",
    "import plotly.plotly as py\n",
    "import ClassiferHelperAPI as CH, PopulationEstimatorAPI as PE\n",
    "import importlib, re\n",
    "importlib.reload(CH)\n",
    "importlib.reload(DRS)\n",
    "importlib.reload(PE)"
   ]
  },
  {
   "cell_type": "code",
   "execution_count": 19,
   "metadata": {
    "collapsed": false
   },
   "outputs": [],
   "source": [
    "inExifFl,inGidAidMapFl,inAidFtrFl = \"../data/ggr_gid_uuid_exif_ftr_map.json\",\"../data/ggr_uuid_annot_uuid_map.json\",\"../data/ggr_annot_uuid_ftr_map.json\"\n"
   ]
  },
  {
   "cell_type": "code",
   "execution_count": 88,
   "metadata": {
    "collapsed": false
   },
   "outputs": [],
   "source": [
    "df = CH.construct_feature_vctr_fl(\"../data/GZC_exifs_beauty_full.json\", None, \n",
    "                            \"../data/full_gid_aid_map.json\",\n",
    "                            \"../data/full_aid_features.json\",\n",
    "                            \"../feature_files/GZC_FEATURE_VECTOR.csv\",\n",
    "                            ['arousal', 'contrast', 'dominance', 'pleasure', 'symmetry', \n",
    "                               'height', 'width',\n",
    "                               'hsv_itten_std_h', 'hsv_itten_std_s', 'hsv_itten_std_v', \n",
    "                               'lat', 'long',\n",
    "                               'orientation', \n",
    "                               'day', 'hour',\n",
    "                               'has_zebra'])"
   ]
  },
  {
   "cell_type": "code",
   "execution_count": 78,
   "metadata": {
    "collapsed": false
   },
   "outputs": [],
   "source": [
    "df = CH.construct_feature_vctr_fl(\"../data/GGR_bty_exif_combined.json\", \n",
    "                                  None, \n",
    "                            \"../data/ggr_uuid_annot_uuid_map.json\",\n",
    "                            \"../data/ggr_annot_uuid_ftr_map.json\",\n",
    "                            \"../feature_files/GGR_FEATURE_VECTOR.csv\",\n",
    "                            ['arousal', 'contrast', 'dominance', 'pleasure', 'symmetry', \n",
    "                               'height', 'width',\n",
    "                               'hsv_itten_std_h', 'hsv_itten_std_s', 'hsv_itten_std_v', \n",
    "                               'lat', 'long',\n",
    "                               'orientation', \n",
    "                               'day', 'hour',\n",
    "                               'has_zebra'])"
   ]
  },
  {
   "cell_type": "code",
   "execution_count": 134,
   "metadata": {
    "collapsed": false
   },
   "outputs": [
    {
     "name": "stdout",
     "output_type": "stream",
     "text": [
      "Starting to run logistic on test data\n",
      "Attribute Selection Method : beauty\n",
      "Starting population estimation experiments\n",
      "<_io.TextIOWrapper name='../data/ggr_gid_uuid_exif_ftr_map.json' mode='r' encoding='UTF-8'>\n"
     ]
    },
    {
     "ename": "KeyError",
     "evalue": "'NID'",
     "output_type": "error",
     "traceback": [
      "\u001b[0;31m---------------------------------------------------------------------------\u001b[0m",
      "\u001b[0;31mKeyError\u001b[0m                                  Traceback (most recent call last)",
      "\u001b[0;32m<ipython-input-134-aecf7f63a96f>\u001b[0m in \u001b[0;36m<module>\u001b[0;34m()\u001b[0m\n\u001b[0;32m----> 1\u001b[0;31m \u001b[0mPE\u001b[0m\u001b[0;34m.\u001b[0m\u001b[0mrunSyntheticExpts\u001b[0m\u001b[0;34m(\u001b[0m\u001b[0;32mTrue\u001b[0m\u001b[0;34m,\u001b[0m \u001b[0;34m[\u001b[0m\u001b[0;34m'logistic'\u001b[0m\u001b[0;34m]\u001b[0m\u001b[0;34m,\u001b[0m \u001b[0;34m[\u001b[0m\u001b[0;34m'beauty'\u001b[0m\u001b[0;34m]\u001b[0m\u001b[0;34m,\u001b[0m \u001b[0mrange\u001b[0m\u001b[0;34m(\u001b[0m\u001b[0;36m20\u001b[0m\u001b[0;34m,\u001b[0m\u001b[0;36m25\u001b[0m\u001b[0;34m)\u001b[0m\u001b[0;34m,\u001b[0m \u001b[0mclfArgs\u001b[0m\u001b[0;34m)\u001b[0m\u001b[0;34m\u001b[0m\u001b[0m\n\u001b[0m",
      "\u001b[0;32m/Users/sreejithmenon/Google Drive/CodeBase/AWESOME/script/PopulationEstimatorAPI.py\u001b[0m in \u001b[0;36mrunSyntheticExpts\u001b[0;34m(isClf, methTypes, attribTypes, krange, methArgs, thresholdMeth, randomShare)\u001b[0m\n\u001b[1;32m    282\u001b[0m             \u001b[0mprint\u001b[0m\u001b[0;34m(\u001b[0m\u001b[0;34m\"Starting population estimation experiments\"\u001b[0m\u001b[0;34m)\u001b[0m\u001b[0;34m\u001b[0m\u001b[0m\n\u001b[1;32m    283\u001b[0m \u001b[0;34m\u001b[0m\u001b[0m\n\u001b[0;32m--> 284\u001b[0;31m             \u001b[0mfixedK\u001b[0m \u001b[0;34m=\u001b[0m \u001b[0;34m{\u001b[0m\u001b[0mk\u001b[0m \u001b[0;34m:\u001b[0m \u001b[0msharesMethod\u001b[0m\u001b[0;34m(\u001b[0m\u001b[0mpredictions\u001b[0m\u001b[0;34m,\u001b[0m\u001b[0minExifFl\u001b[0m\u001b[0;34m,\u001b[0m\u001b[0minGidAidMapFl\u001b[0m\u001b[0;34m,\u001b[0m\u001b[0minAidFtrFl\u001b[0m\u001b[0;34m,\u001b[0m\u001b[0;32mlambda\u001b[0m \u001b[0;34m:\u001b[0m \u001b[0mk\u001b[0m\u001b[0;34m,\u001b[0m\u001b[0mrandomShare\u001b[0m\u001b[0;34m=\u001b[0m\u001b[0mrandomShare\u001b[0m\u001b[0;34m)\u001b[0m \u001b[0;32mfor\u001b[0m \u001b[0mk\u001b[0m \u001b[0;32min\u001b[0m \u001b[0mkrange\u001b[0m\u001b[0;34m}\u001b[0m\u001b[0;34m\u001b[0m\u001b[0m\n\u001b[0m\u001b[1;32m    285\u001b[0m             \u001b[0mprint\u001b[0m\u001b[0;34m(\u001b[0m\u001b[0;34m\"Population estimation experiments complete\"\u001b[0m\u001b[0;34m)\u001b[0m\u001b[0;34m\u001b[0m\u001b[0m\n\u001b[1;32m    286\u001b[0m \u001b[0;34m\u001b[0m\u001b[0m\n",
      "\u001b[0;32m/Users/sreejithmenon/Google Drive/CodeBase/AWESOME/script/PopulationEstimatorAPI.py\u001b[0m in \u001b[0;36m<dictcomp>\u001b[0;34m(.0)\u001b[0m\n\u001b[1;32m    282\u001b[0m             \u001b[0mprint\u001b[0m\u001b[0;34m(\u001b[0m\u001b[0;34m\"Starting population estimation experiments\"\u001b[0m\u001b[0;34m)\u001b[0m\u001b[0;34m\u001b[0m\u001b[0m\n\u001b[1;32m    283\u001b[0m \u001b[0;34m\u001b[0m\u001b[0m\n\u001b[0;32m--> 284\u001b[0;31m             \u001b[0mfixedK\u001b[0m \u001b[0;34m=\u001b[0m \u001b[0;34m{\u001b[0m\u001b[0mk\u001b[0m \u001b[0;34m:\u001b[0m \u001b[0msharesMethod\u001b[0m\u001b[0;34m(\u001b[0m\u001b[0mpredictions\u001b[0m\u001b[0;34m,\u001b[0m\u001b[0minExifFl\u001b[0m\u001b[0;34m,\u001b[0m\u001b[0minGidAidMapFl\u001b[0m\u001b[0;34m,\u001b[0m\u001b[0minAidFtrFl\u001b[0m\u001b[0;34m,\u001b[0m\u001b[0;32mlambda\u001b[0m \u001b[0;34m:\u001b[0m \u001b[0mk\u001b[0m\u001b[0;34m,\u001b[0m\u001b[0mrandomShare\u001b[0m\u001b[0;34m=\u001b[0m\u001b[0mrandomShare\u001b[0m\u001b[0;34m)\u001b[0m \u001b[0;32mfor\u001b[0m \u001b[0mk\u001b[0m \u001b[0;32min\u001b[0m \u001b[0mkrange\u001b[0m\u001b[0;34m}\u001b[0m\u001b[0;34m\u001b[0m\u001b[0m\n\u001b[0m\u001b[1;32m    285\u001b[0m             \u001b[0mprint\u001b[0m\u001b[0;34m(\u001b[0m\u001b[0;34m\"Population estimation experiments complete\"\u001b[0m\u001b[0;34m)\u001b[0m\u001b[0;34m\u001b[0m\u001b[0m\n\u001b[1;32m    286\u001b[0m \u001b[0;34m\u001b[0m\u001b[0m\n",
      "\u001b[0;32m/Users/sreejithmenon/Google Drive/CodeBase/AWESOME/script/PopulationEstimatorAPI.py\u001b[0m in \u001b[0;36mkSharesPerContributor\u001b[0;34m(prediction_probabs, inExifFl, inGidAidMapFl, inAidFtrFl, genk, randomShare)\u001b[0m\n\u001b[1;32m    202\u001b[0m     \u001b[0mpredictions_k\u001b[0m \u001b[0;34m=\u001b[0m \u001b[0;34m{\u001b[0m\u001b[0mgid\u001b[0m \u001b[0;34m:\u001b[0m \u001b[0;36m1\u001b[0m \u001b[0;32mfor\u001b[0m \u001b[0mcontrib\u001b[0m \u001b[0;32min\u001b[0m \u001b[0msdCardSorted\u001b[0m\u001b[0;34m.\u001b[0m\u001b[0mkeys\u001b[0m\u001b[0;34m(\u001b[0m\u001b[0;34m)\u001b[0m \u001b[0;32mfor\u001b[0m \u001b[0mgid\u001b[0m \u001b[0;32min\u001b[0m \u001b[0msdCardSorted\u001b[0m\u001b[0;34m[\u001b[0m\u001b[0mcontrib\u001b[0m\u001b[0;34m]\u001b[0m\u001b[0;34m[\u001b[0m\u001b[0;34m:\u001b[0m\u001b[0mgenk\u001b[0m\u001b[0;34m(\u001b[0m\u001b[0;34m)\u001b[0m\u001b[0;34m]\u001b[0m\u001b[0;34m}\u001b[0m\u001b[0;34m\u001b[0m\u001b[0m\n\u001b[1;32m    203\u001b[0m \u001b[0;34m\u001b[0m\u001b[0m\n\u001b[0;32m--> 204\u001b[0;31m     \u001b[0;32mreturn\u001b[0m \u001b[0mestimatePopulation\u001b[0m\u001b[0;34m(\u001b[0m\u001b[0mpredictions_k\u001b[0m\u001b[0;34m,\u001b[0m\u001b[0minExifFl\u001b[0m\u001b[0;34m,\u001b[0m\u001b[0minGidAidMapFl\u001b[0m\u001b[0;34m,\u001b[0m\u001b[0minAidFtrFl\u001b[0m\u001b[0;34m)\u001b[0m\u001b[0;34m\u001b[0m\u001b[0m\n\u001b[0m\u001b[1;32m    205\u001b[0m \u001b[0;34m\u001b[0m\u001b[0m\n\u001b[1;32m    206\u001b[0m \u001b[0;32mdef\u001b[0m \u001b[0mshareAbvThreshold\u001b[0m\u001b[0;34m(\u001b[0m\u001b[0mprediction_probabs\u001b[0m\u001b[0;34m,\u001b[0m\u001b[0minExifFl\u001b[0m\u001b[0;34m,\u001b[0m\u001b[0minGidAidMapFl\u001b[0m\u001b[0;34m,\u001b[0m\u001b[0minAidFtrFl\u001b[0m\u001b[0;34m,\u001b[0m\u001b[0mthreshold\u001b[0m\u001b[0;34m,\u001b[0m\u001b[0mrandomShare\u001b[0m\u001b[0;34m=\u001b[0m\u001b[0;32mNone\u001b[0m\u001b[0;34m)\u001b[0m\u001b[0;34m:\u001b[0m\u001b[0;34m\u001b[0m\u001b[0m\n",
      "\u001b[0;32m/Users/sreejithmenon/Google Drive/CodeBase/AWESOME/script/PopulationEstimatorAPI.py\u001b[0m in \u001b[0;36mestimatePopulation\u001b[0;34m(prediction_results, inExifFl, inGidAidMapFl, inAidFtrFl)\u001b[0m\n\u001b[1;32m    102\u001b[0m                     \u001b[0;34m\"/tmp/PredictionResults.csv\"\u001b[0m\u001b[0;34m,\u001b[0m\u001b[0;34m\u001b[0m\u001b[0m\n\u001b[1;32m    103\u001b[0m                     \u001b[0mdays\u001b[0m\u001b[0;34m,\u001b[0m\u001b[0;34m\u001b[0m\u001b[0m\n\u001b[0;32m--> 104\u001b[0;31m                     shareData='classifier')\n\u001b[0m\u001b[1;32m    105\u001b[0m     \u001b[0mmarks_all\u001b[0m\u001b[0;34m,\u001b[0m\u001b[0mrecaptures_all\u001b[0m\u001b[0;34m,\u001b[0m\u001b[0mpopulation_all\u001b[0m \u001b[0;34m=\u001b[0m \u001b[0mMR\u001b[0m\u001b[0;34m.\u001b[0m\u001b[0mapplyMarkRecap\u001b[0m\u001b[0;34m(\u001b[0m\u001b[0mnidMarkRecapSet\u001b[0m\u001b[0;34m)\u001b[0m\u001b[0;34m\u001b[0m\u001b[0m\n\u001b[1;32m    106\u001b[0m \u001b[0;34m\u001b[0m\u001b[0m\n",
      "\u001b[0;32m/Users/sreejithmenon/Google Drive/CodeBase/AWESOME/script/MarkRecapHelper.py\u001b[0m in \u001b[0;36mgenNidMarkRecapDict\u001b[0;34m(inExifFl, inGidAidMapFl, inAidFtrFl, gidPropMapFl, daysDict, filterBySpecies, shareData, probabThreshold)\u001b[0m\n\u001b[1;32m     47\u001b[0m \u001b[0;34m\u001b[0m\u001b[0m\n\u001b[1;32m     48\u001b[0m \u001b[0;34m\u001b[0m\u001b[0m\n\u001b[0;32m---> 49\u001b[0;31m         \u001b[0mgid_list\u001b[0m \u001b[0;34m=\u001b[0m \u001b[0mgid_filter_logic\u001b[0m\u001b[0;34m(\u001b[0m\u001b[0minExifFl\u001b[0m\u001b[0;34m,\u001b[0m \u001b[0minGidAidMapFl\u001b[0m\u001b[0;34m,\u001b[0m \u001b[0minAidFtrFl\u001b[0m\u001b[0;34m)\u001b[0m \u001b[0;31m# -- not needed always\u001b[0m\u001b[0;34m\u001b[0m\u001b[0m\n\u001b[0m\u001b[1;32m     50\u001b[0m \u001b[0;34m\u001b[0m\u001b[0m\n\u001b[1;32m     51\u001b[0m         \u001b[0;31m# filter out only the GIDs that were taken on either of the days specified in the days dictionary\u001b[0m\u001b[0;34m\u001b[0m\u001b[0;34m\u001b[0m\u001b[0m\n",
      "\u001b[0;32m/Users/sreejithmenon/Google Drive/CodeBase/AWESOME/script/MarkRecapHelper.py\u001b[0m in \u001b[0;36mgid_filter_logic\u001b[0;34m(inExifFl, inGidAidMapFl, inAidFtrFl)\u001b[0m\n\u001b[1;32m     18\u001b[0m         \u001b[0mgids_zoo\u001b[0m \u001b[0;34m=\u001b[0m \u001b[0mlist\u001b[0m\u001b[0;34m(\u001b[0m\u001b[0mset\u001b[0m\u001b[0;34m(\u001b[0m\u001b[0mgids_geo_tagged\u001b[0m\u001b[0;34m)\u001b[0m \u001b[0;34m-\u001b[0m \u001b[0mset\u001b[0m\u001b[0;34m(\u001b[0m\u001b[0mgids_nairobi\u001b[0m\u001b[0;34m)\u001b[0m\u001b[0;34m)\u001b[0m\u001b[0;34m\u001b[0m\u001b[0m\n\u001b[1;32m     19\u001b[0m \u001b[0;34m\u001b[0m\u001b[0m\n\u001b[0;32m---> 20\u001b[0;31m         \u001b[0mgid_nid\u001b[0m \u001b[0;34m=\u001b[0m \u001b[0mDRS\u001b[0m\u001b[0;34m.\u001b[0m\u001b[0mgetCountingLogic\u001b[0m\u001b[0;34m(\u001b[0m\u001b[0minGidAidMapFl\u001b[0m\u001b[0;34m,\u001b[0m\u001b[0minAidFtrFl\u001b[0m\u001b[0;34m,\u001b[0m\u001b[0;34m\"NID\"\u001b[0m\u001b[0;34m,\u001b[0m\u001b[0;32mFalse\u001b[0m\u001b[0;34m)\u001b[0m\u001b[0;34m\u001b[0m\u001b[0m\n\u001b[0m\u001b[1;32m     21\u001b[0m         \u001b[0mnid_gid\u001b[0m \u001b[0;34m=\u001b[0m \u001b[0mDS\u001b[0m\u001b[0;34m.\u001b[0m\u001b[0mflipKeyValue\u001b[0m\u001b[0;34m(\u001b[0m\u001b[0mgid_nid\u001b[0m\u001b[0;34m)\u001b[0m\u001b[0;34m\u001b[0m\u001b[0m\n\u001b[1;32m     22\u001b[0m \u001b[0;34m\u001b[0m\u001b[0m\n",
      "\u001b[0;32m/Users/sreejithmenon/Google Drive/CodeBase/AWESOME/script/DeriveFinalResultSet.py\u001b[0m in \u001b[0;36mgetCountingLogic\u001b[0;34m(gidAidMapFl, aidFeatureMapFl, feature, withNumInds, mode)\u001b[0m\n\u001b[1;32m     62\u001b[0m \u001b[0;31m# In that case, the share counts have to be added to both zebra and giraffe.\u001b[0m\u001b[0;34m\u001b[0m\u001b[0;34m\u001b[0m\u001b[0m\n\u001b[1;32m     63\u001b[0m \u001b[0;32mdef\u001b[0m \u001b[0mgetCountingLogic\u001b[0m\u001b[0;34m(\u001b[0m\u001b[0mgidAidMapFl\u001b[0m\u001b[0;34m,\u001b[0m\u001b[0maidFeatureMapFl\u001b[0m\u001b[0;34m,\u001b[0m\u001b[0mfeature\u001b[0m\u001b[0;34m,\u001b[0m\u001b[0mwithNumInds\u001b[0m\u001b[0;34m=\u001b[0m\u001b[0;32mTrue\u001b[0m\u001b[0;34m,\u001b[0m \u001b[0mmode\u001b[0m\u001b[0;34m=\u001b[0m\u001b[0;34m\"GGR\"\u001b[0m\u001b[0;34m)\u001b[0m\u001b[0;34m:\u001b[0m\u001b[0;34m\u001b[0m\u001b[0m\n\u001b[0;32m---> 64\u001b[0;31m     \u001b[0mfeaturesPerImg\u001b[0m \u001b[0;34m=\u001b[0m \u001b[0mImageMap\u001b[0m\u001b[0;34m.\u001b[0m\u001b[0mextractImageFeaturesFromMap\u001b[0m\u001b[0;34m(\u001b[0m\u001b[0mgidAidMapFl\u001b[0m\u001b[0;34m,\u001b[0m\u001b[0maidFeatureMapFl\u001b[0m\u001b[0;34m,\u001b[0m\u001b[0mfeature\u001b[0m\u001b[0;34m,\u001b[0m \u001b[0mmode\u001b[0m\u001b[0;34m=\u001b[0m\u001b[0mmode\u001b[0m\u001b[0;34m)\u001b[0m\u001b[0;34m\u001b[0m\u001b[0m\n\u001b[0m\u001b[1;32m     65\u001b[0m \u001b[0;34m\u001b[0m\u001b[0m\n\u001b[1;32m     66\u001b[0m     \u001b[0mcountLogic\u001b[0m \u001b[0;34m=\u001b[0m \u001b[0;34m{\u001b[0m\u001b[0;34m}\u001b[0m\u001b[0;34m\u001b[0m\u001b[0m\n",
      "\u001b[0;32m/Users/sreejithmenon/Google Drive/CodeBase/AWESOME/script/JobsMapResultsFilesToContainerObjs.py\u001b[0m in \u001b[0;36mextractImageFeaturesFromMap\u001b[0;34m(gidAidMapFl, aidFtrMapFl, feature, mode)\u001b[0m\n\u001b[1;32m    176\u001b[0m         \u001b[0;32mif\u001b[0m \u001b[0mgidAidDict\u001b[0m\u001b[0;34m[\u001b[0m\u001b[0mgid\u001b[0m\u001b[0;34m]\u001b[0m\u001b[0;34m!=\u001b[0m \u001b[0;32mNone\u001b[0m\u001b[0;34m:\u001b[0m\u001b[0;34m\u001b[0m\u001b[0m\n\u001b[1;32m    177\u001b[0m             \u001b[0;32mfor\u001b[0m \u001b[0maid\u001b[0m \u001b[0;32min\u001b[0m \u001b[0mgidAidDict\u001b[0m\u001b[0;34m[\u001b[0m\u001b[0mgid\u001b[0m\u001b[0;34m]\u001b[0m\u001b[0;34m:\u001b[0m\u001b[0;34m\u001b[0m\u001b[0m\n\u001b[0;32m--> 178\u001b[0;31m                 \u001b[0mgidFtr\u001b[0m\u001b[0;34m[\u001b[0m\u001b[0mgid\u001b[0m\u001b[0;34m]\u001b[0m \u001b[0;34m=\u001b[0m \u001b[0mgidFtr\u001b[0m\u001b[0;34m.\u001b[0m\u001b[0mget\u001b[0m\u001b[0;34m(\u001b[0m\u001b[0mgid\u001b[0m\u001b[0;34m,\u001b[0m\u001b[0;34m[\u001b[0m\u001b[0;34m]\u001b[0m\u001b[0;34m)\u001b[0m \u001b[0;34m+\u001b[0m \u001b[0;34m[\u001b[0m\u001b[0maidFeatureDict\u001b[0m\u001b[0;34m[\u001b[0m\u001b[0mstr\u001b[0m\u001b[0;34m(\u001b[0m\u001b[0maid\u001b[0m\u001b[0;34m)\u001b[0m\u001b[0;34m]\u001b[0m\u001b[0;34m[\u001b[0m\u001b[0mfeature\u001b[0m\u001b[0;34m]\u001b[0m\u001b[0;34m]\u001b[0m\u001b[0;34m\u001b[0m\u001b[0m\n\u001b[0m\u001b[1;32m    179\u001b[0m \u001b[0;34m\u001b[0m\u001b[0m\n\u001b[1;32m    180\u001b[0m     \u001b[0;32mreturn\u001b[0m \u001b[0mgidFtr\u001b[0m\u001b[0;34m\u001b[0m\u001b[0m\n",
      "\u001b[0;31mKeyError\u001b[0m: 'NID'"
     ]
    }
   ],
   "source": [
    "PE.runSyntheticExpts(True, ['logistic'], ['beauty'], range(20,25), clfArgs)"
   ]
  },
  {
   "cell_type": "code",
   "execution_count": 85,
   "metadata": {
    "collapsed": true
   },
   "outputs": [],
   "source": [
    "clfArgs = {'dummy' : {'strategy' : 'most_frequent'},\n",
    "            'bayesian' : {'fit_prior' : True},\n",
    "            'logistic' : {'penalty' : 'l2'},\n",
    "            'svm' : {'kernel' : 'rbf','probability' : True},\n",
    "            'dtree' : {'criterion' : 'entropy'},\n",
    "            'random_forests' : {'n_estimators' : 10 },\n",
    "            'ada_boost' : {'n_estimators' : 50 }}"
   ]
  },
  {
   "cell_type": "code",
   "execution_count": 131,
   "metadata": {
    "collapsed": false
   },
   "outputs": [],
   "source": [
    "contrib_extractor = lambda x : re.findall(r'GGR,([0-9]+,[A-Z]),.*', x)[0]\n",
    "with open(inExifFl, \"r\") as exif_fl:\n",
    "    exif_obj = json.load(exif_fl)\n",
    "gidContribDct = {gid_uuid : [contrib_extractor(exif_obj[gid_uuid]['contributor'])] for gid_uuid in exif_obj.keys()} "
   ]
  },
  {
   "cell_type": "code",
   "execution_count": 132,
   "metadata": {
    "collapsed": false
   },
   "outputs": [
    {
     "data": {
      "text/plain": [
       "'7,A'"
      ]
     },
     "execution_count": 132,
     "metadata": {},
     "output_type": "execute_result"
    }
   ],
   "source": [
    "contrib_extractor(exif_obj['a7c6379f-ab06-b409-9836-3f696c73e86e']['contributor'])"
   ]
  },
  {
   "cell_type": "code",
   "execution_count": null,
   "metadata": {
    "collapsed": true
   },
   "outputs": [],
   "source": []
  }
 ],
 "metadata": {
  "kernelspec": {
   "display_name": "Python 3",
   "language": "python",
   "name": "python3"
  },
  "language_info": {
   "codemirror_mode": {
    "name": "ipython",
    "version": 3
   },
   "file_extension": ".py",
   "mimetype": "text/x-python",
   "name": "python",
   "nbconvert_exporter": "python",
   "pygments_lexer": "ipython3",
   "version": "3.5.2"
  }
 },
 "nbformat": 4,
 "nbformat_minor": 0
}
