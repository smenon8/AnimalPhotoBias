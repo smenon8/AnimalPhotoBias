{
 "cells": [
  {
   "cell_type": "markdown",
   "metadata": {},
   "source": [
    "### Notebook name: MarkRecaptureSim.ipynb\n",
    "#### Author: Sreejith Menon (smenon8@uic.edu)\n",
    "\n",
    "#### Mark Recapture Simulation Notebook\n",
    "\n",
    "Recognize individuals that appeared on day 1 and then on day 2\n",
    "Individuals that appear on day 1 are **marks**.    \n",
    "If the same individuals appear on day 2 then these are **recaptures**"
   ]
  },
  {
   "cell_type": "code",
   "execution_count": 71,
   "metadata": {
    "collapsed": false
   },
   "outputs": [
    {
     "data": {
      "text/plain": [
       "<module 'BuildConsolidatedFeaturesFile' from '/Users/sreejithmenon/Google Drive/Project/AnimalPhotoBias/script/BuildConsolidatedFeaturesFile.py'>"
      ]
     },
     "execution_count": 71,
     "metadata": {},
     "output_type": "execute_result"
    }
   ],
   "source": [
    "import json\n",
    "from datetime import datetime\n",
    "import DataStructsHelperAPI as DS\n",
    "import importlib\n",
    "importlib.reload(DS)\n",
    "import GetPropertiesAPI as GP\n",
    "import BuildConsolidatedFeaturesFile as BCF\n",
    "importlib.reload(BCF)"
   ]
  },
  {
   "cell_type": "code",
   "execution_count": 61,
   "metadata": {
    "collapsed": true
   },
   "outputs": [],
   "source": [
    "with open(\"../data/imgs_exif_data_full.json\",\"r\") as inpFl:\n",
    "    jsonObj = json.load(inpFl)"
   ]
  },
  {
   "cell_type": "code",
   "execution_count": 63,
   "metadata": {
    "collapsed": false
   },
   "outputs": [],
   "source": [
    "imgDateDict = {gid : DS.getDateFromStr(jsonObj[gid]['datetime'],'%Y-%m-%d %H:%M:%S','%Y-%m-%d') for gid in jsonObj.keys()}"
   ]
  },
  {
   "cell_type": "code",
   "execution_count": 8,
   "metadata": {
    "collapsed": false
   },
   "outputs": [],
   "source": [
    "days = {'2015-03-01' : 1,\n",
    "        '2015-03-02' : 2}\n",
    "\n",
    "filteredGid = filter(lambda x : imgDateDict[x] in days.keys(),imgDateDict.keys())\n",
    "\n",
    "gidsDayNum = { gid : days[imgDateDict[gid]] for gid in filteredGid } "
   ]
  },
  {
   "cell_type": "code",
   "execution_count": 78,
   "metadata": {
    "collapsed": false
   },
   "outputs": [],
   "source": [
    "with open(\"../data/experiment2_gid_aid_map.json\",\"r\") as inpJson:\n",
    "    gidAidMap = json.load(inpJson)\n",
    "    \n",
    "gidAidOfInterest = { gid : gidAidMap[gid][0] for gid in sharedGid if len(gidAidMap[gid][0]) != 0}"
   ]
  },
  {
   "cell_type": "code",
   "execution_count": 86,
   "metadata": {
    "collapsed": false
   },
   "outputs": [],
   "source": [
    "with open(\"../data/experiment2_aid_features.json\",\"r\") as inpJson:\n",
    "    aidFtr = json.load(inpJson)\n",
    "    \n",
    "gidNid = { gid : [aidFtr[str(aid)][0] for aid in gidAidOfInterest[gid]] for gid in gidAidOfInterest.keys()}"
   ]
  },
  {
   "cell_type": "code",
   "execution_count": 87,
   "metadata": {
    "collapsed": false
   },
   "outputs": [
    {
     "data": {
      "text/plain": [
       "{'1000': [1646],\n",
       " '1005': [-15604],\n",
       " '1041': [-9448, -15613],\n",
       " '1045': [-15601],\n",
       " '1060': [-9516, -9517],\n",
       " '1061': [234],\n",
       " '1062': [234, -9440],\n",
       " '1073': [1643],\n",
       " '1094': [-9406],\n",
       " '1099': [-9415],\n",
       " '1238': [1675],\n",
       " '1281': [273],\n",
       " '1315': [135],\n",
       " '1316': [-9710],\n",
       " '1323': [995, 1375, 2178, 1386],\n",
       " '1330': [1713, -12310],\n",
       " '1331': [1376, 1689, 1708, 1714, 1709, 1688, -12251],\n",
       " '1332': [-9681, -9682, -9683, -9684, -12393, -12394],\n",
       " '1333': [-9690, -9691, -9692],\n",
       " '146': [1826],\n",
       " '15': [-9325],\n",
       " '1510': [839, 860, 1573],\n",
       " '1523': [1976, 1539],\n",
       " '1532': [1548],\n",
       " '1579': [1971],\n",
       " '1595': [1566],\n",
       " '1664': [1697, 1715],\n",
       " '1731': [157, -9236],\n",
       " '1732': [157],\n",
       " '1741': [622],\n",
       " '1745': [-9251, -9252],\n",
       " '1766': [1628, 1518],\n",
       " '1859': [1512],\n",
       " '1860': [650],\n",
       " '1869': [1971],\n",
       " '1874': [1560],\n",
       " '1899': [683, 1566],\n",
       " '1952': [1715],\n",
       " '1971': [1495, 1499, 865],\n",
       " '1992': [2182, 1508, 1921],\n",
       " '2120': [-9208, -9209],\n",
       " '2151': [628],\n",
       " '223': [-9230],\n",
       " '2311': [2169],\n",
       " '2320': [1511],\n",
       " '2322': [1515],\n",
       " '2330': [1971],\n",
       " '2416': [1555, 1489],\n",
       " '242': [2181],\n",
       " '2457': [1500, 1540, 2165],\n",
       " '2491': [1567],\n",
       " '2556': [-16902],\n",
       " '2559': [1885, -17086],\n",
       " '26': [-13458],\n",
       " '2695': [1941],\n",
       " '273': [1210],\n",
       " '2762': [1989, 1910, -17078],\n",
       " '2841': [1939],\n",
       " '2870': [1935],\n",
       " '2976': [-16911, 1937, -16913],\n",
       " '3069': [504],\n",
       " '3086': [33],\n",
       " '3088': [8],\n",
       " '3089': [8],\n",
       " '3091': [8],\n",
       " '312': [51],\n",
       " '3121': [92, 42],\n",
       " '3122': [92, 42],\n",
       " '3131': [55],\n",
       " '3136': [55, -9085],\n",
       " '3151': [1178, 1262],\n",
       " '3165': [-9074],\n",
       " '3202': [340],\n",
       " '3226': [1159],\n",
       " '3248': [1204],\n",
       " '3253': [1138, 1145],\n",
       " '3260': [1154, 1143],\n",
       " '3261': [1154, 1143, 1261],\n",
       " '3274': [1174],\n",
       " '3288': [1177],\n",
       " '3289': [487],\n",
       " '329': [1278],\n",
       " '3293': [-9133],\n",
       " '331': [1688],\n",
       " '3316': [77],\n",
       " '3334': [1136],\n",
       " '3336': [23],\n",
       " '3337': [114],\n",
       " '3343': [105],\n",
       " '3349': [1237],\n",
       " '3398': [1156],\n",
       " '34': [-13429],\n",
       " '3434': [1170],\n",
       " '3437': [1170],\n",
       " '3451': [1135, 354],\n",
       " '346': [172],\n",
       " '351': [-9167],\n",
       " '355': [-13303],\n",
       " '356': [1763],\n",
       " '358': [1764],\n",
       " '3609': [1867],\n",
       " '3628': [-17910],\n",
       " '363': [-13314],\n",
       " '366': [995, 1027],\n",
       " '370': [23],\n",
       " '385': [-13322],\n",
       " '386': [1757],\n",
       " '3875': [674],\n",
       " '389': [-13270],\n",
       " '390': [984],\n",
       " '393': [-13289],\n",
       " '4': [-13399],\n",
       " '4062': [-18608],\n",
       " '4259': [-18055],\n",
       " '4279': [-18200, -18201, -18202],\n",
       " '450': [1179, -16149],\n",
       " '4587': [-18309, -18310, -18311, -18312, 1887, -18314],\n",
       " '461': [-15943, 1175],\n",
       " '462': [1837],\n",
       " '469': [-15418],\n",
       " '4814': [273],\n",
       " '4819': [273],\n",
       " '4821': [-17965],\n",
       " '4901': [1131, 1121],\n",
       " '4902': [1985],\n",
       " '499': [60],\n",
       " '4995': [1661],\n",
       " '4997': [768],\n",
       " '5005': [1744],\n",
       " '5011': [455],\n",
       " '5017': [-9559],\n",
       " '5019': [169],\n",
       " '5022': [167],\n",
       " '509': [132],\n",
       " '5131': [-9645],\n",
       " '5142': [-14488, 2125],\n",
       " '516': [-9341],\n",
       " '5209': [2098, -16028],\n",
       " '5228': [-16240],\n",
       " '5239': [124],\n",
       " '533': [-15392],\n",
       " '5345': [543],\n",
       " '5385': [-9909],\n",
       " '542': [-16020, -16021],\n",
       " '546': [-16167, -16168, -16169, -16170],\n",
       " '5460': [23],\n",
       " '550': [-15401],\n",
       " '551': [-15415],\n",
       " '5574': [100],\n",
       " '5666': [2139],\n",
       " '5712': [-9271],\n",
       " '5713': [253],\n",
       " '579': [-16078, -16079],\n",
       " '583': [1838, -15975, -15976, -15977, -15978],\n",
       " '586': [-9347, -9348, -9349],\n",
       " '591': [-15981, -15982],\n",
       " '6': [1834],\n",
       " '607': [1843],\n",
       " '6124': [207],\n",
       " '6139': [1785],\n",
       " '616': [-9399],\n",
       " '6197': [721],\n",
       " '6198': [718],\n",
       " '6220': [1433, 1107],\n",
       " '630': [-15417],\n",
       " '641': [-9371],\n",
       " '643': [-9344],\n",
       " '6430': [2068],\n",
       " '6471': [-17440],\n",
       " '6616': [-17363],\n",
       " '6653': [2053],\n",
       " '6663': [-17783, -17784],\n",
       " '6686': [2084],\n",
       " '6698': [2015],\n",
       " '6734': [2059],\n",
       " '6788': [-10048],\n",
       " '6962': [-9594, -9595, 1148, 1299],\n",
       " '7276': [-9319],\n",
       " '7282': [-9307],\n",
       " '7301': [1814],\n",
       " '7410': [1548, -16420],\n",
       " '77': [-13434],\n",
       " '7748': [-9253],\n",
       " '7749': [-9246],\n",
       " '7768': [792],\n",
       " '7776': [1364, 1366],\n",
       " '787': [1558],\n",
       " '799': [2169, -14168],\n",
       " '82': [-13397],\n",
       " '826': [1655, 1651],\n",
       " '876': [1648],\n",
       " '877': [1658],\n",
       " '878': [1658],\n",
       " '889': [1649],\n",
       " '896': [-9432, -9433],\n",
       " '897': [234],\n",
       " '900': [234, -9422],\n",
       " '912': [234],\n",
       " '913': [234, -9479],\n",
       " '927': [-9418, -9419],\n",
       " '956': [1657, -15578],\n",
       " '980': [-9531]}"
      ]
     },
     "execution_count": 87,
     "metadata": {},
     "output_type": "execute_result"
    }
   ],
   "source": [
    "gidNid"
   ]
  },
  {
   "cell_type": "code",
   "execution_count": null,
   "metadata": {
    "collapsed": true
   },
   "outputs": [],
   "source": []
  }
 ],
 "metadata": {
  "kernelspec": {
   "display_name": "Python 3",
   "language": "python",
   "name": "python3"
  },
  "language_info": {
   "codemirror_mode": {
    "name": "ipython",
    "version": 3
   },
   "file_extension": ".py",
   "mimetype": "text/x-python",
   "name": "python",
   "nbconvert_exporter": "python",
   "pygments_lexer": "ipython3",
   "version": "3.5.2"
  }
 },
 "nbformat": 4,
 "nbformat_minor": 0
}
