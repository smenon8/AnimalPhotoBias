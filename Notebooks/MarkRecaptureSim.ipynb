{
 "cells": [
  {
   "cell_type": "markdown",
   "metadata": {},
   "source": [
    "### Notebook name: MarkRecaptureSim.ipynb\n",
    "#### Author: Sreejith Menon (smenon8@uic.edu)\n",
    "\n",
    "#### Mark Recapture Simulation Notebook\n",
    "\n",
    "Recognize individuals that appeared on day 1 and then on day 2\n",
    "Individuals that appear on day 1 are **marks**.    \n",
    "If the same individuals appear on day 2 then these are **recaptures**\n",
    "\n",
    "*Appeared means the individuals who were photographed on day 1 as well as day 2*\n",
    "\n",
    "To change the behavior of the script only change the values of the dictionary days. Changing days dict can filter out the images to the days the images were clicked. \n",
    "\n",
    "The first level calculations are based on what pictures were clicked and by applying the Pertersen-Lincoln Index calculations\n",
    "\n",
    "The second level calculations will filter out only the images that were shared (only highly shared images with proportion >= 80)."
   ]
  },
  {
   "cell_type": "code",
   "execution_count": 59,
   "metadata": {
    "collapsed": false
   },
   "outputs": [],
   "source": [
    "import json\n",
    "from datetime import datetime\n",
    "import DataStructsHelperAPI as DS\n",
    "import JobsMapResultsFilesToContainerObjs as J\n",
    "import importlib\n",
    "importlib.reload(J)\n",
    "import pandas as pd\n",
    "import cufflinks as cf # this is necessary to link pandas to plotly\n",
    "cf.go_online()\n",
    "from plotly.offline import download_plotlyjs, init_notebook_mode, plot, iplot\n",
    "import MarkRecapHelper as MR\n",
    "import importlib\n",
    "importlib.reload(MR)\n",
    "import DeriveFinalResultSet as DRS\n",
    "from collections import Counter"
   ]
  },
  {
   "cell_type": "code",
   "execution_count": null,
   "metadata": {
    "collapsed": true
   },
   "outputs": [],
   "source": [
    "days = {'2015-02-18' : '2015-02-18',\n",
    " '2015-02-19' : '2015-02-19',\n",
    " '2015-02-20' : '2015-02-20',\n",
    " '2015-02-25' : '2015-02-25',\n",
    " '2015-02-26' : '2015-02-26',\n",
    " '2015-03-01' : '2015-03-01',\n",
    " '2015-03-02' : '2015-03-02'}\n",
    "\n",
    "nidMarkRecapSet = MR.genNidMarkRecapDict(\"../data/imgs_exif_data_full.json\",\"../data/full_gid_aid_map.json\",\"../data/full_aid_features.json\",days)"
   ]
  },
  {
   "cell_type": "markdown",
   "metadata": {},
   "source": [
    "#### Visualizations on how pictures were taken.\n",
    "Visualizations on how individuals were identified across different days of the Great Zebra Count (GZC) rally. There are visuals which show how many individuals were identified on the first day, how many individuals were seen only on that day and how many individuals were first seen on that day."
   ]
  },
  {
   "cell_type": "code",
   "execution_count": null,
   "metadata": {
    "collapsed": false
   },
   "outputs": [],
   "source": [
    "# How many individuals were identified on each day, \n",
    "# i.e. how many different individuals did we see each day?\n",
    "\n",
    "indsPerDay = {}\n",
    "for nid in nidMarkRecapSet:\n",
    "    for day in nidMarkRecapSet[nid]:\n",
    "        indsPerDay[day] = indsPerDay.get(day,0) + 1\n",
    "        \n",
    "df1 = pd.DataFrame(indsPerDay,index=['IndsIdentified']).transpose()\n",
    "\n",
    "fig1 = df1.iplot(kind='bar',filename='Individuals seen per day',title='Individuals seen per day')\n",
    "iframe1 = fig1.embed_code"
   ]
  },
  {
   "cell_type": "code",
   "execution_count": null,
   "metadata": {
    "collapsed": false
   },
   "outputs": [],
   "source": [
    "# How many individuals did we see only on that day, \n",
    "# i.e. how many individuals were only seen that day and not any other day.\n",
    "\n",
    "uniqIndsPerDay = {}\n",
    "for nid in nidMarkRecapSet:\n",
    "    if len(nidMarkRecapSet[nid]) == 1:\n",
    "        uniqIndsPerDay[nidMarkRecapSet[nid][0]] = uniqIndsPerDay.get(nidMarkRecapSet[nid][0],0) + 1\n",
    "        \n",
    "df2 = pd.DataFrame(uniqIndsPerDay,index=['IndsIdentifiedOnlyOnce']).transpose()\n",
    "\n",
    "fig2 = df2.iplot(kind='bar',filename='Individuals seen only that day',title='Individuals seen only that day')\n",
    "iframe2 = fig2.embed_code"
   ]
  },
  {
   "cell_type": "code",
   "execution_count": null,
   "metadata": {
    "collapsed": false
   },
   "outputs": [],
   "source": [
    "# How many individuals were first seen on that day, i.e. the unique number of animals that were identified on that day.\n",
    "# The total number of individuals across all the days is indeed equal to all the unique individuals in the database. We have 1997 identified individuals.\n",
    "indsSeenFirst = {}\n",
    "for nid in nidMarkRecapSet:\n",
    "    indsSeenFirst[min(nidMarkRecapSet[nid])] = indsSeenFirst.get(min(nidMarkRecapSet[nid]),0) + 1\n",
    "    \n",
    "df3 = pd.DataFrame(indsSeenFirst,index=['FirstTimeInds']).transpose()\n",
    "\n",
    "fig3 = df3.iplot(kind='bar',filename='Individuals first seen on that day',title='Individuals first seen on that day')\n",
    "iframe3 = fig3.embed_code"
   ]
  },
  {
   "cell_type": "code",
   "execution_count": null,
   "metadata": {
    "collapsed": false
   },
   "outputs": [],
   "source": [
    "df1['IndsIdentifiedOnlyOnce'] = df2['IndsIdentifiedOnlyOnce']\n",
    "df1['FirstTimeInds'] = df3['FirstTimeInds']\n",
    "\n",
    "df1.columns = ['Total inds seen today','Inds seen only today','Inds first seen today']\n",
    "fig4 = df1.iplot(kind='bar',filename='Distribution of sightings',title='Distribution of sightings')\n",
    "iframe4 = fig4.embed_code"
   ]
  },
  {
   "cell_type": "markdown",
   "metadata": {},
   "source": [
    "### Actual Mark-Recapture Calculations\n",
    "\n",
    "#### The below snippets only consider photos clicked and _NOT_ shared data."
   ]
  },
  {
   "cell_type": "code",
   "execution_count": 4,
   "metadata": {
    "collapsed": true
   },
   "outputs": [],
   "source": [
    "days = {'2015-03-01' : 1,\n",
    "        '2015-03-02' : 2 }"
   ]
  },
  {
   "cell_type": "code",
   "execution_count": 15,
   "metadata": {
    "collapsed": false
   },
   "outputs": [
    {
     "name": "stdout",
     "output_type": "stream",
     "text": [
      "Population of all animals = 3620.930233\n"
     ]
    },
    {
     "data": {
      "text/plain": [
       "(1038, 129)"
      ]
     },
     "execution_count": 15,
     "metadata": {},
     "output_type": "execute_result"
    }
   ],
   "source": [
    "# Entire population estimate (includes giraffes and zebras)\n",
    "nidMarkRecapSet = MR.genNidMarkRecapDict(\"../data/imgs_exif_data_full.json\",\"../data/full_gid_aid_map.json\",\"../data/full_aid_features.json\",\"../FinalResults/rankListImages_expt2.csv\",days,shareData=None)\n",
    "marks,recaptures,population = MR.applyMarkRecap(nidMarkRecapSet)\n",
    "print(\"Population of all animals = %f\" %population)\n",
    "marks,recaptures"
   ]
  },
  {
   "cell_type": "code",
   "execution_count": 16,
   "metadata": {
    "collapsed": false
   },
   "outputs": [
    {
     "name": "stdout",
     "output_type": "stream",
     "text": [
      "Population of zebras = 3468.352941\n"
     ]
    },
    {
     "data": {
      "text/plain": [
       "(951, 119)"
      ]
     },
     "execution_count": 16,
     "metadata": {},
     "output_type": "execute_result"
    }
   ],
   "source": [
    "nidMarkRecapSet_Zebras = MR.genNidMarkRecapDict(\"../data/imgs_exif_data_full.json\",\"../data/full_gid_aid_map.json\",\"../data/full_aid_features.json\",\"../FinalResults/rankListImages_expt2.csv\",days,'zebra_plains',shareData=None)\n",
    "marks,recaptures,population = MR.applyMarkRecap(nidMarkRecapSet_Zebras)\n",
    "print(\"Population of zebras = %f\" %population)\n",
    "marks,recaptures"
   ]
  },
  {
   "cell_type": "code",
   "execution_count": 17,
   "metadata": {
    "collapsed": false
   },
   "outputs": [
    {
     "name": "stdout",
     "output_type": "stream",
     "text": [
      "Population of giraffes = 176.800000\n"
     ]
    },
    {
     "data": {
      "text/plain": [
       "(104, 10)"
      ]
     },
     "execution_count": 17,
     "metadata": {},
     "output_type": "execute_result"
    }
   ],
   "source": [
    "nidMarkRecapSet_Giraffes = MR.genNidMarkRecapDict(\"../data/imgs_exif_data_full.json\",\"../data/full_gid_aid_map.json\",\"../data/full_aid_features.json\",\"../FinalResults/rankListImages_expt2.csv\",days,'giraffe_masai',shareData=None)\n",
    "marks,recaptures,population = MR.applyMarkRecap(nidMarkRecapSet_Giraffes)\n",
    "print(\"Population of giraffes = %f\" %population)\n",
    "marks,recaptures"
   ]
  },
  {
   "cell_type": "markdown",
   "metadata": {
    "collapsed": true
   },
   "source": [
    "#### The below snippets consider the share data"
   ]
  },
  {
   "cell_type": "code",
   "execution_count": 25,
   "metadata": {
    "collapsed": false
   },
   "outputs": [
    {
     "name": "stdout",
     "output_type": "stream",
     "text": [
      "Population of all animals = 2709.000000\n"
     ]
    },
    {
     "data": {
      "text/plain": [
       "(104, 10)"
      ]
     },
     "execution_count": 25,
     "metadata": {},
     "output_type": "execute_result"
    }
   ],
   "source": [
    "nidMarkRecapSet_share = MR.genNidMarkRecapDict(\"../data/imgs_exif_data_full.json\",\n",
    "                       \"../data/full_gid_aid_map.json\",\n",
    "                       \"../data/full_aid_features.json\",\n",
    "                       \"../FinalResults/rankListImages_expt2.csv\",\n",
    "                       days,\n",
    "                       None,\n",
    "                       shareData='proportion')\n",
    "mark,recapture,population = MR.applyMarkRecap(nidMarkRecapSet_share)\n",
    "print(\"Population of all animals = %f\" %population)\n",
    "marks,recaptures"
   ]
  },
  {
   "cell_type": "code",
   "execution_count": 26,
   "metadata": {
    "collapsed": false
   },
   "outputs": [
    {
     "name": "stdout",
     "output_type": "stream",
     "text": [
      "Population of zebras = 0.000000\n"
     ]
    },
    {
     "name": "stderr",
     "output_type": "stream",
     "text": [
      "/Users/sreejithmenon/Google Drive/Project/AnimalPhotoBias/script/MarkRecapHelper.py:58: UserWarning:\n",
      "\n",
      "There are no recaptures for this case.\n",
      "\n"
     ]
    },
    {
     "data": {
      "text/plain": [
       "(104, 10)"
      ]
     },
     "execution_count": 26,
     "metadata": {},
     "output_type": "execute_result"
    }
   ],
   "source": [
    "nidMarkRecapSet_share = MR.genNidMarkRecapDict(\"../data/imgs_exif_data_full.json\",\n",
    "                       \"../data/full_gid_aid_map.json\",\n",
    "                       \"../data/full_aid_features.json\",\n",
    "                       \"../FinalResults/rankListImages_expt2.csv\",\n",
    "                       days,\n",
    "                       'zebra_plains',\n",
    "                       shareData='proportion')\n",
    "mark,recapture,population = MR.applyMarkRecap(nidMarkRecapSet_share)\n",
    "print(\"Population of zebras = %f\" %population)\n",
    "marks,recaptures"
   ]
  },
  {
   "cell_type": "code",
   "execution_count": 27,
   "metadata": {
    "collapsed": false
   },
   "outputs": [
    {
     "name": "stdout",
     "output_type": "stream",
     "text": [
      "Population of giraffes = 69.000000\n"
     ]
    },
    {
     "data": {
      "text/plain": [
       "(104, 10)"
      ]
     },
     "execution_count": 27,
     "metadata": {},
     "output_type": "execute_result"
    }
   ],
   "source": [
    "nidMarkRecapSet_share = MR.genNidMarkRecapDict(\"../data/imgs_exif_data_full.json\",\n",
    "                       \"../data/full_gid_aid_map.json\",\n",
    "                       \"../data/full_aid_features.json\",\n",
    "                       \"../FinalResults/rankListImages_expt2.csv\",\n",
    "                       days,\n",
    "                       'giraffe_masai',\n",
    "                       shareData='proportion')\n",
    "mark,recapture,population = MR.applyMarkRecap(nidMarkRecapSet_share)\n",
    "print(\"Population of giraffes = %f\" %population)\n",
    "marks,recaptures"
   ]
  },
  {
   "cell_type": "code",
   "execution_count": 79,
   "metadata": {
    "collapsed": false
   },
   "outputs": [
    {
     "name": "stderr",
     "output_type": "stream",
     "text": [
      "/Users/sreejithmenon/Google Drive/CodeBase/AWESOME/script/MarkRecapHelper.py:102: UserWarning:\n",
      "\n",
      "There are no recaptures for this case.\n",
      "\n"
     ]
    },
    {
     "name": "stdout",
     "output_type": "stream",
     "text": [
      "Estimate for the year : 2004 & 2005\n",
      "Number of marks : 2\n",
      "Number of recaptures : 0\n",
      "Estimated population : 0.000000\n",
      "\n",
      "Estimate for the year : 2005 & 2006\n",
      "Number of marks : 4\n",
      "Number of recaptures : 0\n",
      "Estimated population : 0.000000\n",
      "\n",
      "Estimate for the year : 2007 & 2006\n",
      "Number of marks : 1\n",
      "Number of recaptures : 0\n",
      "Estimated population : 0.000000\n",
      "\n",
      "Estimate for the year : 2008 & 2007\n",
      "Number of marks : 3\n",
      "Number of recaptures : 0\n",
      "Estimated population : 0.000000\n",
      "\n",
      "Estimate for the year : 2008 & 2009\n",
      "Number of marks : 3\n",
      "Number of recaptures : 1\n",
      "Estimated population : 30.000000\n",
      "\n",
      "Estimate for the year : 2010 & 2009\n",
      "Number of marks : 10\n",
      "Number of recaptures : 0\n",
      "Estimated population : 0.000000\n",
      "\n",
      "Estimate for the year : 2010 & 2011\n",
      "Number of marks : 14\n",
      "Number of recaptures : 1\n",
      "Estimated population : 154.000000\n",
      "\n",
      "Estimate for the year : 2015 & 2014\n",
      "Number of marks : 19\n",
      "Number of recaptures : 2\n",
      "Estimated population : 817.000000\n",
      "\n",
      "Estimate for the year : 2015 & 2016\n",
      "Number of marks : 86\n",
      "Number of recaptures : 18\n",
      "Estimated population : 1667.444444\n",
      "\n",
      "Estimate for the year : 2017 & 2016\n",
      "Number of marks : 349\n",
      "Number of recaptures : 77\n",
      "Estimated population : 3363.090909\n",
      "\n"
     ]
    }
   ],
   "source": [
    "days = [{'2004' : 1, '2005' : 2 },{'2005' : 1, '2006' : 2 }, {'2006' : 1, '2007' : 2 }, {'2007' : 1, '2008' : 2 }, {'2008' : 1, '2009' : 2 }, {'2009' : 1, '2010' : 2 }, {'2010' : 1, '2011' : 2 }, {'2014' : 1, '2015' : 2 }, {'2015' : 1, '2016' : 2}, {'2016' : 1, '2017' : 2}] \n",
    "for i in range(len(days)):\n",
    "    nidMarkRecapSet = MR.genNidMarkRecapDict(\"/tmp/gir_new_exif.json\",\n",
    "                                         \"../data/Flickr_IBEIS_Ftrs_gid_aid_map.json\",\n",
    "                                         \"../data/Flickr_IBEIS_Giraffe_Ftrs_aid_features.json\",\n",
    "                                         \"../FinalResults/rankListImages_expt2.csv\", # this is useless\n",
    "                                         days[i],\n",
    "                                         shareData='other',\n",
    "                                        filterBySpecies='giraffe_reticulated')\n",
    "    marks, recaps, population, confidence = MR.applyMarkRecap(nidMarkRecapSet)\n",
    "      \n",
    "    print(\"Estimate for the year : \"  + ' & '.join(list(days[i].keys())))\n",
    "    print(\"Number of marks : %i\" %marks)\n",
    "    print(\"Number of recaptures : %i\" %recaps)\n",
    "    print(\"Estimated population : %f\" %population)\n",
    "    print()"
   ]
  },
  {
   "cell_type": "code",
   "execution_count": 3,
   "metadata": {
    "collapsed": false
   },
   "outputs": [
    {
     "name": "stdout",
     "output_type": "stream",
     "text": [
      "Number of unique individuals identified : 1355\n"
     ]
    }
   ],
   "source": [
    "inGidAidMapFl, inAidFtrFl = \"../data/Flickr_IBEIS_Ftrs_gid_aid_map.json\", \"../data/Flickr_IBEIS_Ftrs_aid_features.json\",\n",
    "\n",
    "gidNid = DRS.getCountingLogic(inGidAidMapFl,inAidFtrFl,\"NID\",False)\n",
    "flickr_nids = list(gidNid.values())\n",
    "flickr_nids = [item for sublist in flickr_nids for item in sublist]\n",
    "\n",
    "print(\"Number of unique individuals identified : %i\" %len(set(flickr_nids)))"
   ]
  },
  {
   "cell_type": "code",
   "execution_count": 14,
   "metadata": {
    "collapsed": false
   },
   "outputs": [],
   "source": [
    "occurence = Counter(flickr_nids)"
   ]
  },
  {
   "cell_type": "code",
   "execution_count": 2,
   "metadata": {
    "collapsed": false
   },
   "outputs": [],
   "source": [
    "inExifFl = \"../data/Flickr_EXIF_full.json\"\n",
    "with open(inExifFl, \"r\") as fl:\n",
    "    obj = json.load(fl)"
   ]
  },
  {
   "cell_type": "code",
   "execution_count": 19,
   "metadata": {
    "collapsed": false
   },
   "outputs": [],
   "source": [
    "'''\n",
    "lat in between -1.50278 and 1.504953\n",
    "long in between 35.174045 and 38.192836\n",
    "'''\n",
    "\n",
    "gids_geoTagged = [gid for gid in obj.keys() if int(gid) < 1702 and obj[gid]['lat'] != 0 ]\n",
    "gids_nairobi = [gid for gid in obj.keys() if int(gid) <1702 and obj[gid]['lat'] >= -1.50278 and obj[gid]['lat'] <= 1.504953 and obj[gid]['long'] >= 35.174045 and obj[gid]['long'] <= 38.192836 ]\n",
    "gids_zoo = list(set(gids_geoTagged) - set(gids_nairobi))"
   ]
  },
  {
   "cell_type": "code",
   "execution_count": 6,
   "metadata": {
    "collapsed": false
   },
   "outputs": [],
   "source": [
    "import DeriveFinalResultSet as DRS, DataStructsHelperAPI as DS"
   ]
  },
  {
   "cell_type": "code",
   "execution_count": 4,
   "metadata": {
    "collapsed": false
   },
   "outputs": [],
   "source": [
    "inGidAidMapFl, inAidFtrFl = \"../data/Flickr_IBEIS_Ftrs_gid_aid_map.json\", \"../data/Flickr_IBEIS_Ftrs_aid_features.json\",\n",
    "\n",
    "gidNid = DRS.getCountingLogic(inGidAidMapFl,inAidFtrFl,\"NID\",False)"
   ]
  },
  {
   "cell_type": "code",
   "execution_count": 25,
   "metadata": {
    "collapsed": false
   },
   "outputs": [],
   "source": [
    "locs = []\n",
    "for gid in gidNid.keys():\n",
    "    if gid in gids:\n",
    "        for nid in gidNid[gid]:\n",
    "            locs.append((obj[gid]['lat'], obj[gid]['long']))"
   ]
  },
  {
   "cell_type": "code",
   "execution_count": 10,
   "metadata": {
    "collapsed": false
   },
   "outputs": [],
   "source": [
    "nid_gid = DS.flipKeyValue(gidNid)"
   ]
  },
  {
   "cell_type": "code",
   "execution_count": 22,
   "metadata": {
    "collapsed": false
   },
   "outputs": [],
   "source": [
    "nids_zoo = []\n",
    "\n",
    "for gid in gidNid.keys():\n",
    "    if gid in gids_zoo:\n",
    "        nids_zoo.extend(gidNid[gid])"
   ]
  },
  {
   "cell_type": "code",
   "execution_count": 26,
   "metadata": {
    "collapsed": false
   },
   "outputs": [
    {
     "data": {
      "text/plain": [
       "(604, 631)"
      ]
     },
     "execution_count": 26,
     "metadata": {},
     "output_type": "execute_result"
    }
   ],
   "source": [
    "len(gids_zoo), len(nids_zoo)"
   ]
  },
  {
   "cell_type": "code",
   "execution_count": 32,
   "metadata": {
    "collapsed": true
   },
   "outputs": [],
   "source": [
    "# removing all nids that are in zoos, with it you will also remove the other occurences of images in which that individual occurs.\n",
    "nids_only_wild_gid =  {nid : nid_gid[nid] for nid in nid_gid.keys() if nid not in nids_zoo}\n",
    "nids_zoo_wild_gid = {nid : nid_gid[nid] for nid in nid_gid.keys() if nid in nids_zoo}"
   ]
  },
  {
   "cell_type": "code",
   "execution_count": 34,
   "metadata": {
    "collapsed": false
   },
   "outputs": [
    {
     "data": {
      "text/plain": [
       "(901, 454)"
      ]
     },
     "execution_count": 34,
     "metadata": {},
     "output_type": "execute_result"
    }
   ],
   "source": [
    "len(list(nids_only_wild_gid.values())), len(nids_zoo_wild_gid.values())"
   ]
  },
  {
   "cell_type": "code",
   "execution_count": 39,
   "metadata": {
    "collapsed": false
   },
   "outputs": [
    {
     "data": {
      "text/plain": [
       "869"
      ]
     },
     "execution_count": 39,
     "metadata": {},
     "output_type": "execute_result"
    }
   ],
   "source": [
    "len({gid for sublist in list(nids_only_wild_gid.values()) for gid in sublist})"
   ]
  },
  {
   "cell_type": "code",
   "execution_count": 40,
   "metadata": {
    "collapsed": false
   },
   "outputs": [
    {
     "data": {
      "text/plain": [
       "812"
      ]
     },
     "execution_count": 40,
     "metadata": {},
     "output_type": "execute_result"
    }
   ],
   "source": [
    "len({gid for sublist in list(nids_zoo_wild_gid.values()) for gid in sublist})"
   ]
  },
  {
   "cell_type": "code",
   "execution_count": 42,
   "metadata": {
    "collapsed": false
   },
   "outputs": [
    {
     "data": {
      "text/plain": [
       "1701"
      ]
     },
     "execution_count": 42,
     "metadata": {},
     "output_type": "execute_result"
    }
   ],
   "source": [
    "max(list(map(int, list(gidNid.keys()))))"
   ]
  },
  {
   "cell_type": "code",
   "execution_count": 45,
   "metadata": {
    "collapsed": false
   },
   "outputs": [
    {
     "data": {
      "text/plain": [
       "['126']"
      ]
     },
     "execution_count": 45,
     "metadata": {},
     "output_type": "execute_result"
    }
   ],
   "source": [
    "gidNid['110']"
   ]
  },
  {
   "cell_type": "code",
   "execution_count": 47,
   "metadata": {
    "collapsed": true
   },
   "outputs": [],
   "source": [
    "l =[12,12,12,12,12]\n",
    "l.extend([1,2,3])"
   ]
  },
  {
   "cell_type": "code",
   "execution_count": 21,
   "metadata": {
    "collapsed": false
   },
   "outputs": [
    {
     "name": "stdout",
     "output_type": "stream",
     "text": [
      "a = 5\n"
     ]
    }
   ],
   "source": [
    "a = 5\n",
    "\n",
    "print(\"a = %d\" %a)"
   ]
  },
  {
   "cell_type": "code",
   "execution_count": 51,
   "metadata": {
    "collapsed": false
   },
   "outputs": [
    {
     "name": "stdout",
     "output_type": "stream",
     "text": [
      "len(gidsDayNumFull) = 8\n",
      "len(gidNid) = 1578\n",
      "len(gidSpecies) = 1578\n",
      "len(gidsDayNum) = 0\n"
     ]
    },
    {
     "data": {
      "text/plain": [
       "{}"
      ]
     },
     "execution_count": 51,
     "metadata": {},
     "output_type": "execute_result"
    }
   ],
   "source": [
    "MR.genNidMarkRecapDict(\"../data/Flickr_Giraffe_EXIF.json\",\n",
    "                                         \"../data/Flickr_IBEIS_Ftrs_gid_aid_map.json\",\n",
    "                                         \"../data/Flickr_IBEIS_Giraffe_Ftrs_aid_features.json\",\n",
    "                                         \"../FinalResults/rankListImages_expt2.csv\", # this is useless\n",
    "                                         days[i],\n",
    "                                         shareData='other',\n",
    "                                        filterBySpecies='giraffe_reticulated')"
   ]
  },
  {
   "cell_type": "code",
   "execution_count": 38,
   "metadata": {
    "collapsed": false
   },
   "outputs": [
    {
     "data": {
      "text/plain": [
       "{'545': ['giraffe_reticulated'],\n",
       " '1007': ['giraffe_reticulated'],\n",
       " '896': ['giraffe_reticulated'],\n",
       " '1534': ['antelope'],\n",
       " '1149': ['giraffe_reticulated'],\n",
       " '255': ['giraffe_reticulated'],\n",
       " '1689': ['giraffe_reticulated'],\n",
       " '193': ['giraffe_reticulated'],\n",
       " '1076': ['sheep_domestic'],\n",
       " '1588': ['giraffe_reticulated'],\n",
       " '157': ['giraffe_reticulated'],\n",
       " '486': ['giraffe_reticulated'],\n",
       " '1197': ['giraffe_reticulated'],\n",
       " '200': ['giraffe_reticulated'],\n",
       " '369': ['giraffe_reticulated'],\n",
       " '1147': ['giraffe_reticulated', 'person'],\n",
       " '1281': ['giraffe_reticulated', 'person'],\n",
       " '1055': ['giraffe_reticulated'],\n",
       " '449': ['giraffe_reticulated'],\n",
       " '966': ['giraffe_reticulated'],\n",
       " '427': ['giraffe_reticulated'],\n",
       " '28': ['giraffe_reticulated'],\n",
       " '146': ['giraffe_reticulated', 'hippopotamus'],\n",
       " '1293': ['giraffe_reticulated'],\n",
       " '837': ['person'],\n",
       " '1336': ['giraffe_reticulated'],\n",
       " '1145': ['giraffe_reticulated'],\n",
       " '1417': ['person'],\n",
       " '783': ['giraffe_reticulated'],\n",
       " '1482': ['elephant_savannah'],\n",
       " '440': ['giraffe_reticulated'],\n",
       " '1208': ['giraffe_reticulated'],\n",
       " '32': ['giraffe_reticulated'],\n",
       " '1507': ['giraffe_reticulated'],\n",
       " '1156': ['giraffe_reticulated', 'person'],\n",
       " '1438': ['giraffe_reticulated', 'person'],\n",
       " '13': ['giraffe_reticulated'],\n",
       " '1081': ['giraffe_reticulated'],\n",
       " '1393': ['person'],\n",
       " '1224': ['giraffe_reticulated'],\n",
       " '174': ['person'],\n",
       " '318': ['giraffe_reticulated'],\n",
       " '1651': ['giraffe_reticulated'],\n",
       " '1422': ['giraffe_reticulated'],\n",
       " '1474': ['giraffe_reticulated'],\n",
       " '976': ['giraffe_reticulated'],\n",
       " '225': ['zebra_plains'],\n",
       " '216': ['giraffe_reticulated'],\n",
       " '620': ['giraffe_reticulated'],\n",
       " '455': ['giraffe_reticulated'],\n",
       " '29': ['giraffe_reticulated'],\n",
       " '852': ['giraffe_reticulated'],\n",
       " '388': ['giraffe_reticulated'],\n",
       " '688': ['giraffe_reticulated'],\n",
       " '1564': ['giraffe_reticulated'],\n",
       " '327': ['giraffe_masai'],\n",
       " '105': ['zebra_plains'],\n",
       " '66': ['giraffe_reticulated'],\n",
       " '45': ['giraffe_reticulated'],\n",
       " '1423': ['giraffe_reticulated'],\n",
       " '858': ['giraffe_reticulated'],\n",
       " '253': ['giraffe_reticulated'],\n",
       " '31': ['giraffe_reticulated'],\n",
       " '1405': ['giraffe_reticulated'],\n",
       " '807': ['giraffe_reticulated'],\n",
       " '971': ['giraffe_reticulated'],\n",
       " '423': ['giraffe_reticulated', 'elephant_savannah'],\n",
       " '605': ['person'],\n",
       " '1305': ['giraffe_reticulated'],\n",
       " '420': ['giraffe_reticulated', 'person'],\n",
       " '967': ['giraffe_reticulated'],\n",
       " '1486': ['giraffe_reticulated'],\n",
       " '621': ['giraffe_reticulated'],\n",
       " '219': ['giraffe_reticulated'],\n",
       " '1198': ['giraffe_reticulated'],\n",
       " '1546': ['giraffe_reticulated'],\n",
       " '476': ['giraffe_reticulated'],\n",
       " '149': ['person'],\n",
       " '888': ['giraffe_reticulated', 'person'],\n",
       " '491': ['giraffe_reticulated'],\n",
       " '1306': ['giraffe_reticulated'],\n",
       " '109': ['giraffe_reticulated'],\n",
       " '1284': ['giraffe_reticulated'],\n",
       " '446': ['giraffe_reticulated'],\n",
       " '1158': ['hippopotamus'],\n",
       " '861': ['person'],\n",
       " '1049': ['zebra_plains'],\n",
       " '329': ['giraffe_reticulated'],\n",
       " '774': ['cow_domestic'],\n",
       " '1227': ['giraffe_reticulated'],\n",
       " '894': ['giraffe_reticulated'],\n",
       " '362': ['giraffe_reticulated'],\n",
       " '307': ['giraffe_reticulated'],\n",
       " '435': ['giraffe_reticulated'],\n",
       " '441': ['giraffe_reticulated'],\n",
       " '1461': ['giraffe_reticulated'],\n",
       " '194': ['person'],\n",
       " '1181': ['giraffe_reticulated'],\n",
       " '1073': ['giraffe_reticulated', 'zebra_plains'],\n",
       " '1436': ['giraffe_reticulated'],\n",
       " '1618': ['giraffe_reticulated'],\n",
       " '990': ['person'],\n",
       " '138': ['cow_domestic'],\n",
       " '1431': ['giraffe_reticulated'],\n",
       " '1343': ['giraffe_reticulated'],\n",
       " '1592': ['giraffe_reticulated'],\n",
       " '84': ['giraffe_reticulated'],\n",
       " '593': ['giraffe_reticulated'],\n",
       " '1690': ['giraffe_reticulated'],\n",
       " '1365': ['giraffe_reticulated', 'giraffe_masai'],\n",
       " '904': ['giraffe_reticulated'],\n",
       " '1221': ['person'],\n",
       " '1466': ['giraffe_reticulated'],\n",
       " '1322': ['person'],\n",
       " '1655': ['giraffe_reticulated'],\n",
       " '650': ['antelope'],\n",
       " '534': ['giraffe_reticulated'],\n",
       " '963': ['giraffe_reticulated'],\n",
       " '245': ['giraffe_reticulated'],\n",
       " '1355': ['giraffe_reticulated'],\n",
       " '1649': ['giraffe_reticulated', 'zebra_plains'],\n",
       " '224': ['zebra_plains'],\n",
       " '1496': ['giraffe_reticulated'],\n",
       " '16': ['giraffe_reticulated'],\n",
       " '1358': ['giraffe_reticulated'],\n",
       " '1231': ['giraffe_reticulated'],\n",
       " '1427': ['zebra_plains'],\n",
       " '151': ['giraffe_reticulated'],\n",
       " '396': ['lion'],\n",
       " '931': ['giraffe_reticulated'],\n",
       " '847': ['person'],\n",
       " '736': ['giraffe_reticulated'],\n",
       " '1519': ['giraffe_reticulated'],\n",
       " '900': ['giraffe_reticulated'],\n",
       " '263': ['giraffe_reticulated'],\n",
       " '723': ['giraffe_masai'],\n",
       " '61': ['giraffe_reticulated'],\n",
       " '592': ['giraffe_reticulated'],\n",
       " '939': ['zebra_plains'],\n",
       " '1089': ['giraffe_reticulated'],\n",
       " '479': ['giraffe_reticulated'],\n",
       " '26': ['giraffe_reticulated'],\n",
       " '1434': ['giraffe_reticulated'],\n",
       " '1510': ['giraffe_reticulated'],\n",
       " '676': ['giraffe_reticulated'],\n",
       " '1425': ['giraffe_reticulated'],\n",
       " '1195': ['giraffe_reticulated'],\n",
       " '1400': ['giraffe_reticulated'],\n",
       " '391': ['giraffe_reticulated'],\n",
       " '1481': ['giraffe_reticulated', 'elephant_savannah'],\n",
       " '798': ['giraffe_reticulated'],\n",
       " '1528': ['person'],\n",
       " '220': ['giraffe_reticulated'],\n",
       " '777': ['giraffe_reticulated', 'person'],\n",
       " '125': ['giraffe_reticulated'],\n",
       " '910': ['giraffe_reticulated'],\n",
       " '813': ['giraffe_reticulated'],\n",
       " '1536': ['giraffe_reticulated'],\n",
       " '1290': ['giraffe_reticulated'],\n",
       " '501': ['giraffe_reticulated', 'elephant_savannah'],\n",
       " '745': ['giraffe_reticulated'],\n",
       " '838': ['giraffe_reticulated'],\n",
       " '909': ['giraffe_reticulated'],\n",
       " '1094': ['zebra_plains'],\n",
       " '210': ['giraffe_reticulated'],\n",
       " '1661': ['person'],\n",
       " '556': ['giraffe_reticulated'],\n",
       " '564': ['giraffe_reticulated'],\n",
       " '1682': ['giraffe_reticulated'],\n",
       " '755': ['giraffe_reticulated'],\n",
       " '130': ['zebra_plains'],\n",
       " '770': ['person'],\n",
       " '601': ['giraffe_reticulated'],\n",
       " '1144': ['giraffe_reticulated'],\n",
       " '1467': ['giraffe_reticulated', 'person'],\n",
       " '935': ['giraffe_reticulated'],\n",
       " '674': ['giraffe_reticulated'],\n",
       " '1685': ['giraffe_reticulated'],\n",
       " '17': ['person'],\n",
       " '313': ['zebra_grevys'],\n",
       " '740': ['zebra_plains'],\n",
       " '39': ['giraffe_reticulated'],\n",
       " '1518': ['giraffe_reticulated', 'cow_domestic'],\n",
       " '834': ['person'],\n",
       " '77': ['giraffe_reticulated'],\n",
       " '90': ['lion'],\n",
       " '495': ['giraffe_reticulated'],\n",
       " '189': ['person'],\n",
       " '301': ['giraffe_reticulated'],\n",
       " '1506': ['person'],\n",
       " '242': ['giraffe_reticulated'],\n",
       " '325': ['giraffe_reticulated'],\n",
       " '1554': ['giraffe_reticulated'],\n",
       " '1312': ['person'],\n",
       " '1268': ['giraffe_reticulated'],\n",
       " '1292': ['giraffe_reticulated'],\n",
       " '44': ['giraffe_reticulated'],\n",
       " '1247': ['giraffe_reticulated'],\n",
       " '322': ['giraffe_reticulated'],\n",
       " '241': ['giraffe_reticulated'],\n",
       " '856': ['giraffe_reticulated'],\n",
       " '116': ['giraffe_reticulated'],\n",
       " '78': ['giraffe_reticulated'],\n",
       " '113': ['giraffe_reticulated'],\n",
       " '1589': ['giraffe_reticulated'],\n",
       " '757': ['cow_domestic'],\n",
       " '1609': ['giraffe_reticulated'],\n",
       " '160': ['giraffe_reticulated'],\n",
       " '1233': ['giraffe_reticulated'],\n",
       " '869': ['giraffe_reticulated'],\n",
       " '865': ['person'],\n",
       " '666': ['giraffe_reticulated', 'person'],\n",
       " '390': ['giraffe_reticulated'],\n",
       " '602': ['giraffe_reticulated'],\n",
       " '610': ['giraffe_reticulated'],\n",
       " '548': ['giraffe_reticulated'],\n",
       " '1370': ['giraffe_reticulated'],\n",
       " '754': ['giraffe_reticulated'],\n",
       " '1021': ['giraffe_reticulated'],\n",
       " '312': ['giraffe_reticulated'],\n",
       " '1072': ['giraffe_reticulated'],\n",
       " '1667': ['giraffe_reticulated'],\n",
       " '507': ['giraffe_reticulated'],\n",
       " '1346': ['giraffe_reticulated'],\n",
       " '199': ['giraffe_reticulated', 'zebra_plains'],\n",
       " '480': ['giraffe_reticulated'],\n",
       " '211': ['giraffe_reticulated'],\n",
       " '207': ['giraffe_reticulated'],\n",
       " '1074': ['giraffe_reticulated', 'zebra_plains'],\n",
       " '5': ['giraffe_reticulated'],\n",
       " '550': ['giraffe_reticulated'],\n",
       " '1036': ['zebra_plains'],\n",
       " '669': ['giraffe_reticulated', 'person'],\n",
       " '1280': ['person'],\n",
       " '1125': ['giraffe_reticulated'],\n",
       " '973': ['giraffe_reticulated'],\n",
       " '400': ['zebra_plains'],\n",
       " '932': ['giraffe_reticulated'],\n",
       " '155': ['giraffe_reticulated'],\n",
       " '917': ['giraffe_reticulated'],\n",
       " '385': ['giraffe_masai'],\n",
       " '1044': ['person'],\n",
       " '727': ['giraffe_reticulated'],\n",
       " '866': ['giraffe_reticulated'],\n",
       " '591': ['giraffe_reticulated'],\n",
       " '702': ['giraffe_reticulated', 'cow_domestic'],\n",
       " '1262': ['giraffe_reticulated', 'sheep_domestic'],\n",
       " '734': ['giraffe_masai'],\n",
       " '765': ['giraffe_reticulated'],\n",
       " '271': ['giraffe_reticulated'],\n",
       " '1352': ['giraffe_reticulated'],\n",
       " '1673': ['giraffe_reticulated'],\n",
       " '1205': ['giraffe_reticulated'],\n",
       " '1590': ['giraffe_reticulated'],\n",
       " '201': ['giraffe_reticulated'],\n",
       " '943': ['giraffe_reticulated'],\n",
       " '948': ['giraffe_reticulated'],\n",
       " '1372': ['person'],\n",
       " '713': ['giraffe_reticulated'],\n",
       " '614': ['giraffe_reticulated', 'person'],\n",
       " '1367': ['giraffe_reticulated'],\n",
       " '367': ['giraffe_reticulated'],\n",
       " '286': ['giraffe_masai'],\n",
       " '230': ['giraffe_reticulated'],\n",
       " '1500': ['giraffe_reticulated'],\n",
       " '15': ['giraffe_reticulated'],\n",
       " '1392': ['cow_domestic', 'giraffe_reticulated'],\n",
       " '1485': ['giraffe_reticulated'],\n",
       " '474': ['giraffe_reticulated'],\n",
       " '276': ['giraffe_reticulated'],\n",
       " '323': ['giraffe_reticulated'],\n",
       " '1409': ['giraffe_reticulated'],\n",
       " '363': ['giraffe_reticulated', 'giraffe_masai'],\n",
       " '347': ['giraffe_reticulated'],\n",
       " '954': ['giraffe_reticulated'],\n",
       " '1396': ['person'],\n",
       " '828': ['person'],\n",
       " '450': ['giraffe_reticulated'],\n",
       " '100': ['giraffe_reticulated'],\n",
       " '484': ['zebra_plains'],\n",
       " '185': ['giraffe_reticulated'],\n",
       " '658': ['giraffe_reticulated'],\n",
       " '1138': ['giraffe_reticulated'],\n",
       " '114': ['giraffe_reticulated'],\n",
       " '539': ['giraffe_reticulated'],\n",
       " '1229': ['giraffe_reticulated'],\n",
       " '173': ['giraffe_reticulated'],\n",
       " '7': ['giraffe_reticulated'],\n",
       " '1184': ['person'],\n",
       " '656': ['giraffe_reticulated'],\n",
       " '237': ['giraffe_reticulated'],\n",
       " '1523': ['giraffe_reticulated'],\n",
       " '395': ['person'],\n",
       " '721': ['antelope'],\n",
       " '1470': ['cow_domestic', 'giraffe_reticulated'],\n",
       " '1114': ['giraffe_reticulated'],\n",
       " '48': ['giraffe_reticulated'],\n",
       " '103': ['giraffe_reticulated'],\n",
       " '1058': ['person'],\n",
       " '111': ['giraffe_reticulated'],\n",
       " '821': ['giraffe_reticulated', 'zebra_plains'],\n",
       " '1282': ['giraffe_reticulated'],\n",
       " '588': ['giraffe_reticulated'],\n",
       " '958': ['giraffe_reticulated'],\n",
       " '392': ['giraffe_reticulated'],\n",
       " '311': ['giraffe_reticulated'],\n",
       " '582': ['giraffe_reticulated', 'giraffe_masai'],\n",
       " '512': ['giraffe_reticulated'],\n",
       " '541': ['giraffe_reticulated'],\n",
       " '533': ['giraffe_reticulated'],\n",
       " '1520': ['giraffe_reticulated', 'person'],\n",
       " '846': ['person'],\n",
       " '687': ['giraffe_reticulated'],\n",
       " '763': ['person'],\n",
       " '1666': ['zebra_plains'],\n",
       " '195': ['person'],\n",
       " '1525': ['giraffe_reticulated'],\n",
       " '1412': ['person'],\n",
       " '1340': ['giraffe_reticulated'],\n",
       " '887': ['person'],\n",
       " '359': ['giraffe_reticulated', 'zebra_plains'],\n",
       " '250': ['giraffe_reticulated'],\n",
       " '1011': ['giraffe_reticulated'],\n",
       " '1544': ['giraffe_reticulated'],\n",
       " '1155': ['person'],\n",
       " '410': ['giraffe_reticulated'],\n",
       " '580': ['giraffe_reticulated'],\n",
       " '41': ['giraffe_reticulated'],\n",
       " '1428': ['giraffe_reticulated', 'giraffe_masai'],\n",
       " '1143': ['giraffe_reticulated'],\n",
       " '728': ['giraffe_reticulated'],\n",
       " '893': ['giraffe_reticulated'],\n",
       " '660': ['giraffe_reticulated'],\n",
       " '1271': ['giraffe_reticulated', 'giraffe_masai'],\n",
       " '1112': ['giraffe_reticulated', 'person'],\n",
       " '812': ['giraffe_reticulated'],\n",
       " '1533': ['person'],\n",
       " '941': ['giraffe_reticulated'],\n",
       " '1004': ['sheep_domestic', 'giraffe_reticulated'],\n",
       " '619': ['giraffe_reticulated'],\n",
       " '965': ['giraffe_reticulated'],\n",
       " '937': ['giraffe_reticulated'],\n",
       " '665': ['person'],\n",
       " '987': ['giraffe_reticulated'],\n",
       " '384': ['giraffe_reticulated'],\n",
       " '122': ['giraffe_reticulated'],\n",
       " '1310': ['giraffe_reticulated'],\n",
       " '1418': ['giraffe_reticulated'],\n",
       " '546': ['giraffe_reticulated'],\n",
       " '1630': ['giraffe_reticulated'],\n",
       " '1307': ['giraffe_reticulated'],\n",
       " '951': ['giraffe_reticulated'],\n",
       " '288': ['giraffe_reticulated'],\n",
       " '1139': ['giraffe_reticulated'],\n",
       " '1318': ['giraffe_reticulated'],\n",
       " '1003': ['sheep_domestic'],\n",
       " '949': ['giraffe_reticulated'],\n",
       " '430': ['giraffe_reticulated'],\n",
       " '505': ['giraffe_reticulated'],\n",
       " '500': ['giraffe_reticulated'],\n",
       " '465': ['giraffe_reticulated'],\n",
       " '162': ['giraffe_reticulated'],\n",
       " '98': ['giraffe_reticulated'],\n",
       " '460': ['giraffe_reticulated'],\n",
       " '124': ['giraffe_reticulated'],\n",
       " '1452': ['giraffe_reticulated'],\n",
       " '123': ['giraffe_reticulated'],\n",
       " '1083': ['giraffe_reticulated'],\n",
       " '643': ['giraffe_reticulated'],\n",
       " '701': ['giraffe_reticulated'],\n",
       " '1566': ['giraffe_reticulated'],\n",
       " '1560': ['elephant_savannah'],\n",
       " '404': ['giraffe_reticulated'],\n",
       " '979': ['lion'],\n",
       " '624': ['person'],\n",
       " '901': ['giraffe_reticulated'],\n",
       " '468': ['giraffe_reticulated'],\n",
       " '789': ['giraffe_reticulated', 'zebra_plains'],\n",
       " '1031': ['giraffe_reticulated'],\n",
       " '1330': ['giraffe_reticulated', 'zebra_plains'],\n",
       " '178': ['giraffe_reticulated'],\n",
       " '487': ['giraffe_reticulated', 'giraffe_masai'],\n",
       " '298': ['giraffe_reticulated'],\n",
       " '349': ['giraffe_reticulated'],\n",
       " '370': ['person'],\n",
       " '1171': ['giraffe_reticulated'],\n",
       " '372': ['giraffe_reticulated'],\n",
       " '375': ['giraffe_reticulated'],\n",
       " '1515': ['elephant_savannah'],\n",
       " '682': ['giraffe_reticulated'],\n",
       " '464': ['giraffe_reticulated'],\n",
       " '1373': ['giraffe_reticulated'],\n",
       " '1129': ['giraffe_reticulated'],\n",
       " '1608': ['giraffe_reticulated'],\n",
       " '1398': ['giraffe_reticulated'],\n",
       " '946': ['giraffe_reticulated'],\n",
       " '1054': ['giraffe_reticulated'],\n",
       " '1267': ['giraffe_reticulated'],\n",
       " '164': ['giraffe_reticulated'],\n",
       " '1556': ['giraffe_reticulated'],\n",
       " '851': ['giraffe_reticulated', 'person'],\n",
       " '1527': ['giraffe_reticulated'],\n",
       " '1263': ['giraffe_reticulated'],\n",
       " '1575': ['giraffe_reticulated'],\n",
       " '1698': ['giraffe_reticulated'],\n",
       " '1572': ['giraffe_reticulated'],\n",
       " '1315': ['person'],\n",
       " '1190': ['giraffe_reticulated'],\n",
       " '626': ['giraffe_reticulated'],\n",
       " '1360': ['giraffe_reticulated'],\n",
       " '1202': ['giraffe_reticulated'],\n",
       " '1555': ['giraffe_reticulated'],\n",
       " '1569': ['giraffe_reticulated'],\n",
       " '796': ['person'],\n",
       " '635': ['giraffe_reticulated'],\n",
       " '722': ['giraffe_reticulated'],\n",
       " '93': ['giraffe_reticulated'],\n",
       " '756': ['giraffe_reticulated'],\n",
       " '1211': ['giraffe_reticulated'],\n",
       " '490': ['giraffe_reticulated'],\n",
       " '159': ['giraffe_reticulated'],\n",
       " '1530': ['person'],\n",
       " '510': ['person'],\n",
       " '215': ['giraffe_reticulated'],\n",
       " '912': ['giraffe_reticulated'],\n",
       " '1601': ['giraffe_reticulated'],\n",
       " '83': ['giraffe_reticulated'],\n",
       " '226': ['zebra_plains'],\n",
       " '50': ['giraffe_reticulated'],\n",
       " '462': ['giraffe_reticulated'],\n",
       " '1026': ['person'],\n",
       " '1581': ['giraffe_reticulated'],\n",
       " '244': ['giraffe_reticulated', 'person'],\n",
       " '277': ['giraffe_reticulated'],\n",
       " '714': ['giraffe_reticulated'],\n",
       " '231': ['person'],\n",
       " '89': ['giraffe_masai', 'elephant_savannah'],\n",
       " '717': ['person'],\n",
       " '1148': ['giraffe_reticulated'],\n",
       " '531': ['giraffe_reticulated'],\n",
       " '428': ['giraffe_reticulated', 'person'],\n",
       " '1213': ['giraffe_reticulated', 'zebra_plains'],\n",
       " '172': ['giraffe_reticulated'],\n",
       " '1024': ['giraffe_reticulated'],\n",
       " '18': ['giraffe_reticulated'],\n",
       " '791': ['giraffe_reticulated'],\n",
       " '544': ['giraffe_reticulated'],\n",
       " '689': ['giraffe_reticulated'],\n",
       " '801': ['giraffe_reticulated'],\n",
       " '1111': ['giraffe_reticulated'],\n",
       " '1043': ['giraffe_reticulated'],\n",
       " '617': ['giraffe_reticulated'],\n",
       " '1604': ['giraffe_reticulated'],\n",
       " '1692': ['person'],\n",
       " '368': ['giraffe_reticulated'],\n",
       " '908': ['giraffe_reticulated'],\n",
       " '794': ['giraffe_reticulated'],\n",
       " '785': ['person'],\n",
       " '126': ['zebra_plains'],\n",
       " '629': ['giraffe_reticulated'],\n",
       " '1413': ['giraffe_reticulated', 'person'],\n",
       " '1636': ['giraffe_reticulated'],\n",
       " '287': ['giraffe_reticulated'],\n",
       " '452': ['giraffe_reticulated'],\n",
       " '1632': ['giraffe_reticulated'],\n",
       " '826': ['giraffe_reticulated'],\n",
       " '764': ['giraffe_reticulated', 'person'],\n",
       " '530': ['giraffe_reticulated'],\n",
       " '249': ['cow_domestic'],\n",
       " '1380': ['giraffe_reticulated'],\n",
       " '1437': ['giraffe_masai'],\n",
       " '97': ['giraffe_reticulated', 'person'],\n",
       " '1517': ['giraffe_reticulated'],\n",
       " '882': ['giraffe_reticulated', 'person'],\n",
       " '499': ['elephant_savannah'],\n",
       " '458': ['giraffe_reticulated'],\n",
       " '1297': ['giraffe_reticulated'],\n",
       " '519': ['giraffe_reticulated'],\n",
       " '119': ['giraffe_reticulated'],\n",
       " '87': ['giraffe_reticulated'],\n",
       " '1668': ['giraffe_reticulated'],\n",
       " '751': ['giraffe_reticulated'],\n",
       " '23': ['giraffe_reticulated', 'person'],\n",
       " '295': ['giraffe_reticulated'],\n",
       " '926': ['giraffe_reticulated'],\n",
       " '94': ['person'],\n",
       " '1383': ['giraffe_reticulated'],\n",
       " '587': ['giraffe_reticulated', 'person'],\n",
       " '1050': ['zebra_plains'],\n",
       " '259': ['zebra_plains'],\n",
       " '386': ['giraffe_reticulated', 'giraffe_masai'],\n",
       " '444': ['giraffe_reticulated'],\n",
       " '411': ['giraffe_reticulated', 'elephant_savannah'],\n",
       " '283': ['giraffe_reticulated'],\n",
       " '831': ['zebra_plains'],\n",
       " '252': ['giraffe_reticulated'],\n",
       " '1509': ['giraffe_reticulated'],\n",
       " '58': ['giraffe_reticulated'],\n",
       " '1222': ['giraffe_reticulated'],\n",
       " '348': ['giraffe_reticulated'],\n",
       " '1488': ['person'],\n",
       " '716': ['person'],\n",
       " '1680': ['person'],\n",
       " '1212': ['zebra_plains'],\n",
       " '1529': ['giraffe_reticulated'],\n",
       " '1319': ['person'],\n",
       " '73': ['giraffe_reticulated'],\n",
       " '561': ['giraffe_reticulated'],\n",
       " '1168': ['giraffe_reticulated'],\n",
       " '1246': ['giraffe_reticulated'],\n",
       " '644': ['giraffe_reticulated'],\n",
       " '202': ['giraffe_reticulated'],\n",
       " '270': ['giraffe_reticulated'],\n",
       " '2': ['giraffe_reticulated'],\n",
       " '892': ['giraffe_reticulated'],\n",
       " '1377': ['person'],\n",
       " '511': ['giraffe_reticulated'],\n",
       " '175': ['giraffe_reticulated'],\n",
       " '594': ['cow_domestic'],\n",
       " '1598': ['giraffe_reticulated'],\n",
       " '1469': ['giraffe_reticulated'],\n",
       " '457': ['giraffe_reticulated'],\n",
       " '685': ['giraffe_reticulated'],\n",
       " '1134': ['giraffe_reticulated'],\n",
       " '681': ['giraffe_reticulated', 'person'],\n",
       " '1116': ['giraffe_reticulated'],\n",
       " '49': ['giraffe_reticulated'],\n",
       " '22': ['giraffe_reticulated'],\n",
       " '1012': ['giraffe_reticulated'],\n",
       " '1700': ['giraffe_reticulated'],\n",
       " '72': ['giraffe_reticulated'],\n",
       " '1085': ['person'],\n",
       " '88': ['elephant_savannah'],\n",
       " '1009': ['giraffe_reticulated'],\n",
       " '1327': ['zebra_plains'],\n",
       " '1338': ['giraffe_reticulated'],\n",
       " '1368': ['giraffe_reticulated'],\n",
       " '654': ['giraffe_reticulated'],\n",
       " '1333': ['giraffe_reticulated'],\n",
       " '1594': ['giraffe_reticulated'],\n",
       " '569': ['giraffe_reticulated'],\n",
       " '69': ['zebra_plains'],\n",
       " '907': ['giraffe_reticulated'],\n",
       " '962': ['giraffe_reticulated'],\n",
       " '293': ['giraffe_reticulated'],\n",
       " '463': ['giraffe_reticulated'],\n",
       " '1371': ['giraffe_reticulated'],\n",
       " '1568': ['giraffe_reticulated'],\n",
       " '553': ['giraffe_reticulated'],\n",
       " '59': ['person'],\n",
       " '824': ['giraffe_reticulated'],\n",
       " '517': ['giraffe_reticulated'],\n",
       " '1275': ['whale_shark'],\n",
       " '442': ['giraffe_reticulated'],\n",
       " '790': ['giraffe_reticulated'],\n",
       " '158': ['giraffe_reticulated'],\n",
       " '1483': ['elephant_savannah'],\n",
       " '1464': ['zebra_plains'],\n",
       " '1032': ['giraffe_reticulated'],\n",
       " '426': ['giraffe_reticulated'],\n",
       " '182': ['giraffe_reticulated'],\n",
       " '1029': ['giraffe_reticulated'],\n",
       " '377': ['giraffe_reticulated'],\n",
       " '1356': ['giraffe_reticulated'],\n",
       " '1549': ['giraffe_reticulated'],\n",
       " '1522': ['giraffe_reticulated'],\n",
       " '671': ['giraffe_reticulated'],\n",
       " '690': ['giraffe_reticulated'],\n",
       " '1399': ['giraffe_masai'],\n",
       " '373': ['giraffe_reticulated'],\n",
       " '144': ['giraffe_reticulated'],\n",
       " '551': ['giraffe_reticulated'],\n",
       " '753': ['giraffe_reticulated'],\n",
       " '1622': ['giraffe_reticulated'],\n",
       " '577': ['giraffe_reticulated'],\n",
       " '691': ['giraffe_reticulated'],\n",
       " '1302': ['giraffe_reticulated'],\n",
       " '1492': ['giraffe_reticulated'],\n",
       " '1664': ['giraffe_reticulated'],\n",
       " '437': ['giraffe_reticulated'],\n",
       " '1603': ['giraffe_reticulated'],\n",
       " '1028': ['giraffe_reticulated'],\n",
       " '950': ['giraffe_reticulated'],\n",
       " '1548': ['giraffe_reticulated'],\n",
       " '466': ['giraffe_reticulated'],\n",
       " '1162': ['giraffe_reticulated'],\n",
       " '1217': ['giraffe_reticulated'],\n",
       " '62': ['giraffe_reticulated'],\n",
       " '1416': ['giraffe_reticulated'],\n",
       " '639': ['giraffe_reticulated'],\n",
       " '636': ['antelope'],\n",
       " '306': ['giraffe_reticulated'],\n",
       " '481': ['giraffe_reticulated'],\n",
       " '536': ['giraffe_reticulated'],\n",
       " '1270': ['giraffe_reticulated'],\n",
       " '1166': ['giraffe_reticulated'],\n",
       " '419': ['giraffe_reticulated'],\n",
       " '1056': ['person'],\n",
       " '844': ['lion'],\n",
       " '1248': ['person'],\n",
       " '355': ['person'],\n",
       " '305': ['giraffe_reticulated'],\n",
       " '1499': ['giraffe_reticulated'],\n",
       " '1065': ['giraffe_reticulated'],\n",
       " '1285': ['giraffe_reticulated'],\n",
       " '1110': ['giraffe_reticulated'],\n",
       " '1136': ['giraffe_reticulated'],\n",
       " '299': ['giraffe_reticulated'],\n",
       " '1497': ['giraffe_reticulated'],\n",
       " '1379': ['giraffe_reticulated'],\n",
       " '1439': ['giraffe_reticulated'],\n",
       " '284': ['person'],\n",
       " '53': ['person'],\n",
       " '285': ['giraffe_reticulated'],\n",
       " '913': ['giraffe_reticulated'],\n",
       " '934': ['giraffe_reticulated'],\n",
       " '1615': ['giraffe_reticulated'],\n",
       " '646': ['giraffe_masai'],\n",
       " '34': ['giraffe_masai'],\n",
       " '1471': ['giraffe_reticulated'],\n",
       " '361': ['giraffe_reticulated'],\n",
       " '998': ['giraffe_reticulated'],\n",
       " '472': ['person'],\n",
       " '1167': ['giraffe_reticulated'],\n",
       " '1052': ['giraffe_reticulated'],\n",
       " '243': ['giraffe_reticulated'],\n",
       " '574': ['giraffe_reticulated'],\n",
       " '1541': ['giraffe_reticulated'],\n",
       " '885': ['giraffe_reticulated'],\n",
       " '436': ['giraffe_reticulated'],\n",
       " '875': ['giraffe_reticulated'],\n",
       " '1582': ['giraffe_reticulated'],\n",
       " '1177': ['giraffe_reticulated'],\n",
       " '150': ['giraffe_reticulated'],\n",
       " '1611': ['giraffe_reticulated'],\n",
       " '1240': ['giraffe_reticulated'],\n",
       " '1463': ['giraffe_reticulated'],\n",
       " '843': ['giraffe_reticulated'],\n",
       " '1018': ['giraffe_reticulated'],\n",
       " '1701': ['giraffe_reticulated'],\n",
       " '403': ['zebra_plains'],\n",
       " '918': ['giraffe_reticulated'],\n",
       " '558': ['giraffe_reticulated'],\n",
       " '532': ['giraffe_reticulated'],\n",
       " '849': ['giraffe_reticulated'],\n",
       " '1084': ['person'],\n",
       " '684': ['giraffe_reticulated'],\n",
       " '999': ['giraffe_reticulated'],\n",
       " '203': ['giraffe_reticulated'],\n",
       " '1223': ['giraffe_reticulated'],\n",
       " '1653': ['giraffe_reticulated'],\n",
       " '1137': ['giraffe_reticulated'],\n",
       " '1374': ['giraffe_reticulated'],\n",
       " '1098': ['giraffe_reticulated'],\n",
       " '760': ['giraffe_reticulated'],\n",
       " '40': ['giraffe_reticulated'],\n",
       " '1513': ['giraffe_reticulated'],\n",
       " '529': ['giraffe_reticulated', 'lion'],\n",
       " '1101': ['giraffe_reticulated', 'antelope'],\n",
       " '509': ['giraffe_reticulated'],\n",
       " '526': ['giraffe_reticulated'],\n",
       " '1130': ['giraffe_reticulated'],\n",
       " '1122': ['giraffe_reticulated'],\n",
       " '1545': ['giraffe_reticulated'],\n",
       " '71': ['giraffe_reticulated'],\n",
       " '596': ['giraffe_reticulated'],\n",
       " '364': ['giraffe_reticulated'],\n",
       " '1215': ['giraffe_reticulated'],\n",
       " '1256': ['giraffe_reticulated'],\n",
       " '1487': ['giraffe_reticulated'],\n",
       " '677': ['giraffe_reticulated'],\n",
       " '345': ['giraffe_reticulated'],\n",
       " '747': ['giraffe_reticulated'],\n",
       " '1639': ['giraffe_reticulated', 'zebra_plains'],\n",
       " '451': ['giraffe_reticulated'],\n",
       " '1620': ['giraffe_reticulated'],\n",
       " '357': ['giraffe_reticulated'],\n",
       " '238': ['giraffe_reticulated'],\n",
       " '1591': ['giraffe_reticulated', 'person'],\n",
       " '535': ['giraffe_reticulated'],\n",
       " '1096': ['giraffe_reticulated'],\n",
       " '1335': ['giraffe_reticulated'],\n",
       " '1241': ['giraffe_reticulated', 'zebra_plains', 'whale_shark', 'person'],\n",
       " '738': ['giraffe_reticulated'],\n",
       " '724': ['giraffe_reticulated'],\n",
       " '502': ['elephant_savannah'],\n",
       " '1465': ['giraffe_reticulated'],\n",
       " '924': ['giraffe_reticulated'],\n",
       " '802': ['giraffe_reticulated'],\n",
       " '1426': ['zebra_plains'],\n",
       " '1597': ['giraffe_reticulated'],\n",
       " '1640': ['giraffe_reticulated'],\n",
       " '936': ['giraffe_reticulated'],\n",
       " '664': ['person'],\n",
       " '218': ['giraffe_reticulated'],\n",
       " '421': ['giraffe_reticulated'],\n",
       " '766': ['person'],\n",
       " '675': ['giraffe_reticulated'],\n",
       " '1105': ['giraffe_reticulated'],\n",
       " '47': ['antelope'],\n",
       " '1665': ['zebra_plains'],\n",
       " '1684': ['giraffe_reticulated'],\n",
       " '1232': ['giraffe_reticulated'],\n",
       " '877': ['giraffe_reticulated', 'lion'],\n",
       " '208': ['giraffe_reticulated'],\n",
       " '1543': ['giraffe_reticulated'],\n",
       " '275': ['giraffe_reticulated'],\n",
       " '527': ['giraffe_reticulated'],\n",
       " '64': ['giraffe_reticulated'],\n",
       " '1490': ['giraffe_reticulated'],\n",
       " '1402': ['giraffe_reticulated'],\n",
       " '1688': ['giraffe_reticulated'],\n",
       " '859': ['giraffe_reticulated'],\n",
       " '518': ['giraffe_reticulated'],\n",
       " '1390': ['giraffe_reticulated'],\n",
       " '92': ['person'],\n",
       " '1254': ['giraffe_reticulated', 'person'],\n",
       " '881': ['giraffe_reticulated'],\n",
       " '213': ['giraffe_reticulated'],\n",
       " '1289': ['elephant_savannah'],\n",
       " '1511': ['giraffe_reticulated'],\n",
       " '496': ['giraffe_reticulated'],\n",
       " '191': ['giraffe_reticulated'],\n",
       " '1002': ['giraffe_reticulated'],\n",
       " '227': ['giraffe_reticulated'],\n",
       " '1563': ['person'],\n",
       " '1325': ['giraffe_reticulated'],\n",
       " '1616': ['giraffe_reticulated'],\n",
       " '1621': ['giraffe_reticulated'],\n",
       " '12': ['giraffe_masai'],\n",
       " '1547': ['giraffe_reticulated'],\n",
       " '1672': ['giraffe_reticulated'],\n",
       " '829': ['person'],\n",
       " '883': ['giraffe_reticulated'],\n",
       " '1266': ['giraffe_reticulated'],\n",
       " '1424': ['giraffe_reticulated'],\n",
       " '1115': ['giraffe_reticulated'],\n",
       " '297': ['giraffe_reticulated', 'zebra_plains'],\n",
       " '1187': ['giraffe_reticulated', 'person'],\n",
       " '1309': ['giraffe_reticulated'],\n",
       " '1613': ['giraffe_reticulated'],\n",
       " '260': ['giraffe_reticulated'],\n",
       " '1342': ['giraffe_reticulated'],\n",
       " '354': ['giraffe_reticulated'],\n",
       " '1642': ['giraffe_reticulated'],\n",
       " '1406': ['giraffe_reticulated'],\n",
       " '692': ['giraffe_reticulated'],\n",
       " '733': ['giraffe_reticulated'],\n",
       " '1079': ['giraffe_reticulated'],\n",
       " '1020': ['giraffe_reticulated'],\n",
       " '246': ['giraffe_reticulated'],\n",
       " '659': ['zebra_plains'],\n",
       " '679': ['giraffe_reticulated'],\n",
       " '38': ['giraffe_reticulated'],\n",
       " '726': ['giraffe_reticulated'],\n",
       " '1475': ['person'],\n",
       " '1478': ['giraffe_reticulated'],\n",
       " '731': ['giraffe_reticulated'],\n",
       " '615': ['person'],\n",
       " '508': ['giraffe_reticulated'],\n",
       " '1017': ['giraffe_reticulated'],\n",
       " '112': ['giraffe_reticulated'],\n",
       " '248': ['giraffe_reticulated'],\n",
       " '585': ['giraffe_reticulated'],\n",
       " '177': ['giraffe_reticulated'],\n",
       " '1602': ['giraffe_reticulated'],\n",
       " '264': ['giraffe_reticulated'],\n",
       " '4': ['giraffe_reticulated'],\n",
       " '1362': ['giraffe_reticulated'],\n",
       " '524': ['giraffe_reticulated'],\n",
       " '443': ['giraffe_reticulated'],\n",
       " '1671': ['giraffe_reticulated', 'person'],\n",
       " '382': ['giraffe_reticulated'],\n",
       " '335': ['lion'],\n",
       " '1244': ['giraffe_reticulated'],\n",
       " '1033': ['giraffe_reticulated'],\n",
       " '1675': ['giraffe_reticulated'],\n",
       " '975': ['giraffe_reticulated'],\n",
       " '1165': ['person'],\n",
       " '1686': ['giraffe_reticulated'],\n",
       " '742': ['giraffe_reticulated'],\n",
       " '342': ['person'],\n",
       " '1441': ['giraffe_reticulated'],\n",
       " '1183': ['giraffe_reticulated'],\n",
       " '1173': ['giraffe_reticulated'],\n",
       " '1345': ['giraffe_reticulated', 'hippopotamus'],\n",
       " '525': ['giraffe_reticulated'],\n",
       " '233': ['giraffe_reticulated', 'person'],\n",
       " '453': ['giraffe_reticulated'],\n",
       " '1586': ['person'],\n",
       " '338': ['giraffe_reticulated'],\n",
       " '1446': ['giraffe_reticulated'],\n",
       " '820': ['giraffe_reticulated'],\n",
       " '1624': ['giraffe_reticulated'],\n",
       " '1170': ['giraffe_reticulated'],\n",
       " '686': ['giraffe_reticulated'],\n",
       " '1242': ['giraffe_reticulated'],\n",
       " '622': ['giraffe_reticulated'],\n",
       " '719': ['giraffe_reticulated'],\n",
       " '1337': ['giraffe_reticulated'],\n",
       " '222': ['giraffe_reticulated'],\n",
       " '232': ['giraffe_reticulated'],\n",
       " '1344': ['giraffe_reticulated'],\n",
       " '1652': ['giraffe_reticulated'],\n",
       " '1257': ['giraffe_reticulated'],\n",
       " '1339': ['giraffe_reticulated'],\n",
       " '387': ['giraffe_reticulated'],\n",
       " '715': ['giraffe_reticulated'],\n",
       " '128': ['giraffe_reticulated'],\n",
       " '1207': ['giraffe_reticulated'],\n",
       " '947': ['giraffe_reticulated', 'person'],\n",
       " '1303': ['giraffe_reticulated'],\n",
       " '814': ['giraffe_reticulated', 'elephant_savannah'],\n",
       " '1381': ['giraffe_reticulated'],\n",
       " '1172': ['giraffe_reticulated'],\n",
       " '1128': ['giraffe_reticulated'],\n",
       " '1512': ['giraffe_reticulated'],\n",
       " '761': ['giraffe_reticulated'],\n",
       " '1291': ['giraffe_reticulated'],\n",
       " '1093': ['giraffe_reticulated'],\n",
       " '1542': ['giraffe_reticulated'],\n",
       " '647': ['giraffe_reticulated', 'antelope'],\n",
       " '1078': ['giraffe_reticulated'],\n",
       " '1539': ['giraffe_reticulated', 'giraffe_masai'],\n",
       " '915': ['giraffe_reticulated'],\n",
       " '257': ['giraffe_reticulated'],\n",
       " '1066': ['giraffe_reticulated'],\n",
       " '344': ['giraffe_reticulated'],\n",
       " '1521': ['giraffe_reticulated'],\n",
       " '383': ['giraffe_reticulated'],\n",
       " '1186': ['giraffe_reticulated'],\n",
       " '1326': ['zebra_plains'],\n",
       " '266': ['giraffe_reticulated'],\n",
       " '1580': ['giraffe_reticulated'],\n",
       " '827': ['giraffe_reticulated'],\n",
       " '140': ['giraffe_reticulated', 'person'],\n",
       " '1638': ['zebra_plains'],\n",
       " '1070': ['giraffe_reticulated'],\n",
       " '1236': ['giraffe_reticulated'],\n",
       " '521': ['giraffe_reticulated'],\n",
       " '488': ['giraffe_reticulated'],\n",
       " '1599': ['giraffe_reticulated'],\n",
       " '642': ['giraffe_reticulated'],\n",
       " '1264': ['giraffe_reticulated'],\n",
       " '102': ['giraffe_reticulated'],\n",
       " '800': ['giraffe_reticulated'],\n",
       " '379': ['giraffe_reticulated'],\n",
       " '1200': ['giraffe_reticulated', 'person'],\n",
       " '1157': ['hippopotamus'],\n",
       " '1255': ['giraffe_reticulated', 'lion'],\n",
       " '815': ['giraffe_reticulated'],\n",
       " '1540': ['giraffe_reticulated'],\n",
       " '1075': ['sheep_domestic'],\n",
       " '1696': ['giraffe_reticulated'],\n",
       " '6': ['giraffe_reticulated'],\n",
       " '720': ['giraffe_reticulated'],\n",
       " '1131': ['giraffe_reticulated'],\n",
       " '1458': ['person'],\n",
       " '1278': ['sheep_domestic', 'giraffe_reticulated'],\n",
       " '1631': ['giraffe_reticulated'],\n",
       " '1034': ['giraffe_reticulated'],\n",
       " '308': ['giraffe_reticulated'],\n",
       " '36': ['giraffe_reticulated'],\n",
       " '1654': ['giraffe_reticulated'],\n",
       " '632': ['giraffe_reticulated'],\n",
       " '598': ['giraffe_reticulated'],\n",
       " '1456': ['giraffe_reticulated'],\n",
       " '1679': ['giraffe_reticulated'],\n",
       " '418': ['giraffe_reticulated'],\n",
       " '254': ['giraffe_reticulated'],\n",
       " '652': ['giraffe_reticulated'],\n",
       " '75': ['giraffe_reticulated'],\n",
       " '198': ['zebra_plains'],\n",
       " '478': ['giraffe_reticulated'],\n",
       " '778': ['giraffe_reticulated'],\n",
       " '696': ['giraffe_reticulated'],\n",
       " '3': ['giraffe_reticulated'],\n",
       " '609': ['giraffe_reticulated', 'zebra_plains'],\n",
       " '1635': ['giraffe_reticulated'],\n",
       " '1350': ['giraffe_reticulated'],\n",
       " '752': ['giraffe_reticulated'],\n",
       " '1397': ['giraffe_reticulated'],\n",
       " '412': ['giraffe_reticulated', 'lion'],\n",
       " '988': ['giraffe_reticulated'],\n",
       " '1092': ['person'],\n",
       " '840': ['giraffe_reticulated', 'giraffe_masai'],\n",
       " '1694': ['giraffe_reticulated'],\n",
       " '1634': ['giraffe_reticulated'],\n",
       " '581': ['giraffe_reticulated'],\n",
       " '891': ['zebra_plains'],\n",
       " '1480': ['giraffe_reticulated'],\n",
       " '132': ['giraffe_reticulated'],\n",
       " '1526': ['giraffe_reticulated'],\n",
       " '352': ['person'],\n",
       " '703': ['giraffe_reticulated'],\n",
       " '340': ['giraffe_reticulated'],\n",
       " '1059': ['person'],\n",
       " '351': ['giraffe_reticulated'],\n",
       " '1120': ['giraffe_reticulated'],\n",
       " '1623': ['zebra_plains'],\n",
       " '981': ['giraffe_reticulated'],\n",
       " '190': ['giraffe_reticulated', 'person'],\n",
       " '1657': ['giraffe_reticulated'],\n",
       " '1443': ['zebra_plains'],\n",
       " '422': ['giraffe_reticulated'],\n",
       " '788': ['cow_domestic', 'giraffe_reticulated'],\n",
       " '310': ['giraffe_reticulated'],\n",
       " '1476': ['giraffe_reticulated'],\n",
       " '905': ['giraffe_reticulated'],\n",
       " '668': ['person'],\n",
       " '262': ['giraffe_reticulated', 'lion'],\n",
       " '750': ['giraffe_reticulated'],\n",
       " '1553': ['giraffe_reticulated', 'person'],\n",
       " '498': ['giraffe_reticulated'],\n",
       " '850': ['giraffe_reticulated'],\n",
       " '1067': ['elephant_savannah'],\n",
       " '1614': ['giraffe_reticulated'],\n",
       " '1300': ['giraffe_reticulated'],\n",
       " '897': ['giraffe_reticulated'],\n",
       " '1169': ['giraffe_reticulated'],\n",
       " '1419': ['person'],\n",
       " '903': ['giraffe_reticulated'],\n",
       " '425': ['giraffe_reticulated'],\n",
       " '1697': ['giraffe_reticulated'],\n",
       " '1041': ['giraffe_reticulated'],\n",
       " '65': ['giraffe_reticulated'],\n",
       " '953': ['giraffe_reticulated'],\n",
       " '1494': ['giraffe_reticulated'],\n",
       " '471': ['person'],\n",
       " '1347': ['giraffe_reticulated'],\n",
       " '537': ['zebra_plains'],\n",
       " '1643': ['giraffe_reticulated'],\n",
       " '1201': ['giraffe_reticulated'],\n",
       " '328': ['giraffe_masai'],\n",
       " '1410': ['giraffe_reticulated'],\n",
       " '793': ['giraffe_reticulated'],\n",
       " '1353': ['giraffe_reticulated'],\n",
       " '762': ['person'],\n",
       " '992': ['giraffe_reticulated'],\n",
       " '641': ['giraffe_reticulated'],\n",
       " '773': ['giraffe_reticulated', 'cow_domestic'],\n",
       " '1450': ['giraffe_reticulated'],\n",
       " '1430': ['giraffe_reticulated'],\n",
       " '397': ['giraffe_reticulated'],\n",
       " '1552': ['giraffe_reticulated'],\n",
       " '1196': ['giraffe_reticulated'],\n",
       " '612': ['giraffe_reticulated'],\n",
       " '1606': ['giraffe_reticulated'],\n",
       " '1274': ['giraffe_reticulated'],\n",
       " '343': ['giraffe_reticulated'],\n",
       " '331': ['giraffe_reticulated'],\n",
       " '520': ['giraffe_reticulated'],\n",
       " '523': ['giraffe_reticulated'],\n",
       " '916': ['person'],\n",
       " '712': ['giraffe_reticulated'],\n",
       " '1637': ['zebra_plains'],\n",
       " '1102': ['giraffe_reticulated'],\n",
       " '559': ['giraffe_reticulated'],\n",
       " '832': ['giraffe_reticulated'],\n",
       " '1567': ['zebra_plains'],\n",
       " '1408': ['giraffe_reticulated'],\n",
       " '590': ['giraffe_reticulated'],\n",
       " '1677': ['giraffe_reticulated'],\n",
       " '1048': ['zebra_plains'],\n",
       " '697': ['giraffe_reticulated'],\n",
       " '895': ['giraffe_reticulated'],\n",
       " '767': ['person'],\n",
       " '272': ['giraffe_reticulated'],\n",
       " '1199': ['giraffe_reticulated'],\n",
       " '54': ['giraffe_reticulated'],\n",
       " '608': ['giraffe_reticulated'],\n",
       " '1313': ['giraffe_reticulated'],\n",
       " '1391': ['cow_domestic'],\n",
       " '168': ['giraffe_reticulated', 'cow_domestic'],\n",
       " '542': ['person'],\n",
       " '906': ['elephant_savannah'],\n",
       " '1154': ['giraffe_reticulated'],\n",
       " '1214': ['giraffe_reticulated', 'cow_domestic'],\n",
       " '110': ['giraffe_reticulated'],\n",
       " '1562': ['person'],\n",
       " '106': ['giraffe_reticulated'],\n",
       " '1298': ['giraffe_reticulated', 'person'],\n",
       " '1099': ['giraffe_reticulated'],\n",
       " '1484': ['giraffe_reticulated'],\n",
       " '406': ['giraffe_reticulated'],\n",
       " '282': ['person'],\n",
       " '1687': ['giraffe_reticulated'],\n",
       " '864': ['giraffe_reticulated', 'person'],\n",
       " '776': ['giraffe_reticulated'],\n",
       " '389': ['giraffe_reticulated'],\n",
       " '759': ['giraffe_reticulated'],\n",
       " '316': ['giraffe_reticulated', 'person'],\n",
       " '1660': ['person'],\n",
       " '637': ['giraffe_reticulated'],\n",
       " '1617': ['giraffe_reticulated'],\n",
       " '407': ['giraffe_reticulated'],\n",
       " '606': ['giraffe_reticulated'],\n",
       " '1133': ['giraffe_reticulated'],\n",
       " '540': ['giraffe_reticulated'],\n",
       " '1062': ['giraffe_reticulated'],\n",
       " ...}"
      ]
     },
     "execution_count": 38,
     "metadata": {},
     "output_type": "execute_result"
    }
   ],
   "source": [
    "gidSpecies"
   ]
  },
  {
   "cell_type": "code",
   "execution_count": 39,
   "metadata": {
    "collapsed": false
   },
   "outputs": [
    {
     "data": {
      "text/plain": [
       "{}"
      ]
     },
     "execution_count": 39,
     "metadata": {},
     "output_type": "execute_result"
    }
   ],
   "source": [
    "{ gid : gidsDayNumFull[gid] for gid in gidsDayNumFull  if gid in gidSpecies.keys() and 'giraffe_reticulated' in gidSpecies[gid]}"
   ]
  },
  {
   "cell_type": "code",
   "execution_count": 40,
   "metadata": {
    "collapsed": false
   },
   "outputs": [
    {
     "data": {
      "text/plain": [
       "{'31325167554_50dcf46b08_b.jpg': 1,\n",
       " '31410380563_7b21d51976_b.jpg': 2,\n",
       " '31435627103_3baa07701b_b.jpg': 2,\n",
       " '31622270824_930c70272d_b.jpg': 2,\n",
       " '31669894663_2d3804ee53_b.jpg': 2,\n",
       " '31669912293_29ca97e4b5_b.jpg': 2,\n",
       " '31860106504_608853398e_b.jpg': 2,\n",
       " '31881646104_6767c68df8_b.jpg': 2,\n",
       " '31881671454_3b47082fa1_b.jpg': 2,\n",
       " '31881683674_6589d7c633_b.jpg': 2,\n",
       " '31883260634_bf612c188f_b.jpg': 1,\n",
       " '31911293893_74ba6ac648_b.jpg': 2,\n",
       " '31911322493_3bccb446b3_b.jpg': 2,\n",
       " '31949179554_265efb9b82_b.jpg': 2,\n",
       " '31973749343_d04d3e19a2_b.jpg': 2,\n",
       " '32007239804_02e86f9899_b.jpg': 2,\n",
       " '32014184784_7c5c685453_b.jpg': 1,\n",
       " '32035548133_bce158d6aa_b.jpg': 2,\n",
       " '32035552573_bbe6917211_b.jpg': 2,\n",
       " '32099329851_16f20a62be_b.jpg': 1,\n",
       " '32101316850_c20df3f91e_b.jpg': 2,\n",
       " '32124857834_4bc05e773a_b.jpg': 1,\n",
       " '32126767961_d1cd986806_b.jpg': 2,\n",
       " '32153397332_6a60b5bfb6_b.jpg': 2,\n",
       " '32158257164_6112a60827_b.jpg': 2,\n",
       " '32198398543_d0061b955f_b.jpg': 2,\n",
       " '32207637846_ca2c5e0a42_b.jpg': 2,\n",
       " '32216052234_0213697e96_b.jpg': 2,\n",
       " '32224991851_673f6f8705_b.jpg': 2,\n",
       " '32230431733_ff0994a8ce_b.jpg': 1,\n",
       " '32245766055_00bec3faea_b.jpg': 2,\n",
       " '32266935706_bd5ff7698b_b.jpg': 2,\n",
       " '32344956590_4e4f4582c4_b.jpg': 2,\n",
       " '32346615950_316197c4aa_b.jpg': 1,\n",
       " '32346675110_faf6c1de97_b.jpg': 1,\n",
       " '32380823514_b46046d17e_b.jpg': 2,\n",
       " '32393127301_7da2de9264_b.jpg': 2,\n",
       " '32410330753_3eda903df5_b.jpg': 2,\n",
       " '32412114080_4186c3ac5e_b.jpg': 2,\n",
       " '32412114710_300e9461c7_b.jpg': 2,\n",
       " '32427297965_272290598a_b.jpg': 2,\n",
       " '32430951230_d355dd30c8_b.jpg': 2,\n",
       " '32437007280_1988591fe2_b.jpg': 2,\n",
       " '32437007530_ea5b313a28_b.jpg': 2,\n",
       " '32437007850_b0b11fed6c_b.jpg': 2,\n",
       " '32437007960_4bcf84e39b_b.jpg': 2,\n",
       " '32468179200_79ee6d12cf_b.jpg': 2,\n",
       " '32469352400_0ca92ed9a2_b.jpg': 2,\n",
       " '32469402280_fba8a039c5_b.jpg': 2,\n",
       " '32469420500_5f74daba08_b.jpg': 2,\n",
       " '32486329742_ac58c06d38_b.jpg': 2,\n",
       " '32573316102_ca4c2890f8_b.jpg': 2,\n",
       " '32601680471_88eeaf7b3b_b.jpg': 2,\n",
       " '32601691521_7f11523ac8_b.jpg': 2,\n",
       " '32602951281_d59e741f7c_b.jpg': 1,\n",
       " '32620092974_a2221fb933_b.jpg': 1,\n",
       " '32658230122_82b05a7b2f_b.jpg': 2,\n",
       " '32658230422_47fc131fd6_b.jpg': 2,\n",
       " '32658230552_08565c850e_b.jpg': 2,\n",
       " '32658241492_f91e455027_b.jpg': 2,\n",
       " '32658241882_cff87c4d30_b.jpg': 2,\n",
       " '32666783613_fb47cbce0c_b.jpg': 2,\n",
       " '32679241431_c02d6094d9_b.jpg': 1,\n",
       " '32681371204_ff25899746_b.jpg': 2,\n",
       " '32685431056_48ddd57ac2_b.jpg': 1,\n",
       " '32685459106_929e0db417_b.jpg': 1,\n",
       " '32685505256_e350e23823_b.jpg': 1,\n",
       " '32685545116_b4390ea501_b.jpg': 1,\n",
       " '32688246701_4d29eca60e_b.jpg': 2,\n",
       " '32688246781_5507de971b_b.jpg': 2,\n",
       " '32688247031_c9f5b64f07_b.jpg': 2,\n",
       " '32688247131_3b66e919e0_b.jpg': 2,\n",
       " '32688247241_f03bce7631_b.jpg': 2,\n",
       " '32688281941_b9ebf128d0_b.jpg': 2,\n",
       " '32688287071_7731e19bb2_b.jpg': 2,\n",
       " '32688287211_760b8dab78_b.jpg': 2,\n",
       " '32688287411_7928edd588_b.jpg': 2,\n",
       " '32688288221_f62a7f5010_b.jpg': 2,\n",
       " '32688288521_07b2baf442_b.jpg': 2,\n",
       " '32688288531_536775a9b2_b.jpg': 2,\n",
       " '32688288541_a3831470a5_b.jpg': 2,\n",
       " '32688288771_e612b56115_b.jpg': 2,\n",
       " '32688289011_d2f702b80b_b.jpg': 2,\n",
       " '32688289191_693eb888bc_b.jpg': 2,\n",
       " '32688289381_89ffe58fcb_b.jpg': 2,\n",
       " '32688289651_cbb9f9d44c_b.jpg': 2,\n",
       " '32688289971_31e3285323_b.jpg': 2,\n",
       " '32696702292_ef262eab6e_b.jpg': 2,\n",
       " '32696706942_1ce5bc9018_b.jpg': 2,\n",
       " '32726625521_1c75bbd37e_b.jpg': 2,\n",
       " '32726799462_f74024c878_b.jpg': 1,\n",
       " '32740098752_b0f60b2bd5_b.jpg': 2,\n",
       " '32751785266_2d290ed567_b.jpg': 2,\n",
       " '32770686074_4fdfb73bc7_b.jpg': 2,\n",
       " '32770803526_121171f243_b.jpg': 2,\n",
       " '32770803856_0bfbdbdbaf_b.jpg': 2,\n",
       " '32770804026_4d44d5da01_b.jpg': 2,\n",
       " '32776926236_d258bb626b_b.jpg': 2,\n",
       " '32776926766_f80f2287b5_b.jpg': 2,\n",
       " '32790783231_4250bff2a1_b.jpg': 1,\n",
       " '32799395003_67ef228e71_b.jpg': 2,\n",
       " '32809371346_668e44b83e_b.jpg': 2,\n",
       " '32809435016_3c9d5a1e26_b.jpg': 2,\n",
       " '32811490325_598e9de39b_b.jpg': 2,\n",
       " '32811490425_126499bdb6_b.jpg': 2,\n",
       " '32811490535_a6c2908430_b.jpg': 2,\n",
       " '32811490675_9874255d7a_b.jpg': 2,\n",
       " '32817608775_578b102ff2_b.jpg': 2,\n",
       " '32817609275_1065fb29a4_b.jpg': 2,\n",
       " '32842244720_aa0ef84325_b.jpg': 2,\n",
       " '32848121282_796e25e0d5_b.jpg': 2,\n",
       " '32850225675_40f8304217_b.jpg': 2,\n",
       " '32850290235_668d561f91_b.jpg': 2,\n",
       " '32882670465_d6fb20e23f_b.jpg': 2,\n",
       " '32882886356_27f1fa1ee5_b.jpg': 2,\n",
       " '32925369821_e6f6517997_b.jpg': 2,\n",
       " '32938357490_5d3c4cc996_b.jpg': 2,\n",
       " '33000287710_42a9889c64_b.jpg': 1,\n",
       " '33000304780_623425e8c2_b.jpg': 1,\n",
       " '33007593146_c942989316_b.jpg': 2,\n",
       " '33057119650_3ae3a52e45_b.jpg': 2,\n",
       " '33096959661_e46e4f3068_b.jpg': 2,\n",
       " '33106752720_df07b4cac7_b.jpg': 1,\n",
       " '33172842860_c6c1f2f21d_b.jpg': 1,\n",
       " '33244914176_1c20452ba0_b.jpg': 2,\n",
       " '33254952811_2a7fda42c6_b.jpg': 2,\n",
       " '33255365191_a26304a50c_b.jpg': 1,\n",
       " '33304309490_6357e8f387_b.jpg': 1,\n",
       " '33343426096_c436edd01c_b.jpg': 2,\n",
       " '33351105071_28bde2f73e_b.jpg': 2,\n",
       " '33384305116_d0870f1d03_b.jpg': 1,\n",
       " '33387068980_25e9c20ffe_b.jpg': 2,\n",
       " '33396666051_885817a5a7_b.jpg': 2,\n",
       " '33420249685_b31eca8fb2_b.jpg': 2,\n",
       " '33438412816_09a2f9c4dd_b.jpg': 2,\n",
       " '33471690706_5cb8ecb9c7_b.jpg': 2,\n",
       " '33480874085_87baee810d_b.jpg': 2,\n",
       " '33559052711_250ffae3d3_b.jpg': 1,\n",
       " '33605282111_84e3a924f7_b.jpg': 2,\n",
       " '33687075461_e10f4ff448_b.jpg': 2,\n",
       " '33722099876_c1602e18f7_b.jpg': 1,\n",
       " '33754322506_1d72d78957_b.jpg': 2}"
      ]
     },
     "execution_count": 40,
     "metadata": {},
     "output_type": "execute_result"
    }
   ],
   "source": [
    "gidsDayNumFull"
   ]
  },
  {
   "cell_type": "code",
   "execution_count": 41,
   "metadata": {
    "collapsed": true
   },
   "outputs": [],
   "source": [
    "gir_exif= DS.json_loader(\"../data/Flickr_Giraffe_EXIF.json\")\n",
    "gid_fl = DS.json_loader(\"../data/Flickr_Giraffes_imgs_gid_flnm_map.json\")"
   ]
  },
  {
   "cell_type": "code",
   "execution_count": 43,
   "metadata": {
    "collapsed": false
   },
   "outputs": [],
   "source": [
    "fl_gid = DS.flipKeyValue(gid_fl)\n",
    "\n",
    "new_exif = {}\n",
    "for fl in gir_exif.keys():\n",
    "    new_exif[fl_gid[fl]] = gir_exif[fl]"
   ]
  },
  {
   "cell_type": "code",
   "execution_count": 46,
   "metadata": {
    "collapsed": false
   },
   "outputs": [],
   "source": [
    "with open(\"/tmp/gir_new_exif.json\", \"w\") as fl:\n",
    "    json.dump(new_exif, fl, indent=4)"
   ]
  },
  {
   "cell_type": "code",
   "execution_count": 64,
   "metadata": {
    "collapsed": false
   },
   "outputs": [],
   "source": [
    "df = pd.DataFrame(new_exif).transpose()"
   ]
  },
  {
   "cell_type": "code",
   "execution_count": 69,
   "metadata": {
    "collapsed": false
   },
   "outputs": [],
   "source": [
    "df['date'] = pd.to_datetime(df['date'])"
   ]
  },
  {
   "cell_type": "code",
   "execution_count": 73,
   "metadata": {
    "collapsed": false
   },
   "outputs": [],
   "source": [
    "df['year'] = df.date.apply(lambda x : x.year)"
   ]
  },
  {
   "cell_type": "code",
   "execution_count": 98,
   "metadata": {
    "collapsed": false,
    "scrolled": true
   },
   "outputs": [],
   "source": [
    "year_num = dict(df.groupby('year').count()['date'])"
   ]
  },
  {
   "cell_type": "code",
   "execution_count": 99,
   "metadata": {
    "collapsed": false
   },
   "outputs": [],
   "source": [
    "year_num = [(key,year_num[key]) for key in year_num.keys()]\n",
    "\n",
    "X = [year_num[i][0] for i in range(len(year_num)) if year_num[i][0] > 1999]\n",
    "Y = [year_num[i][1] for i in range(len(year_num)) if year_num[i][0] > 1999]"
   ]
  },
  {
   "cell_type": "code",
   "execution_count": 102,
   "metadata": {
    "collapsed": false
   },
   "outputs": [
    {
     "data": {
      "application/vnd.plotly.v1+json": {
       "data": [
        {
         "type": "bar",
         "x": [
          2000,
          2001,
          2003,
          2004,
          2005,
          2006,
          2007,
          2008,
          2009,
          2010,
          2011,
          2012,
          2013,
          2014,
          2015,
          2016,
          2017
         ],
         "y": [
          1,
          1,
          12,
          2,
          6,
          2,
          5,
          4,
          11,
          16,
          21,
          16,
          43,
          26,
          116,
          631,
          1396
         ]
        }
       ],
       "layout": {
        "annotations": [
         {
          "showarrow": false,
          "text": "1",
          "x": 2000,
          "xanchor": "center",
          "y": 1,
          "yanchor": "bottom"
         },
         {
          "showarrow": false,
          "text": "1",
          "x": 2001,
          "xanchor": "center",
          "y": 1,
          "yanchor": "bottom"
         },
         {
          "showarrow": false,
          "text": "12",
          "x": 2003,
          "xanchor": "center",
          "y": 12,
          "yanchor": "bottom"
         },
         {
          "showarrow": false,
          "text": "2",
          "x": 2004,
          "xanchor": "center",
          "y": 2,
          "yanchor": "bottom"
         },
         {
          "showarrow": false,
          "text": "6",
          "x": 2005,
          "xanchor": "center",
          "y": 6,
          "yanchor": "bottom"
         },
         {
          "showarrow": false,
          "text": "2",
          "x": 2006,
          "xanchor": "center",
          "y": 2,
          "yanchor": "bottom"
         },
         {
          "showarrow": false,
          "text": "5",
          "x": 2007,
          "xanchor": "center",
          "y": 5,
          "yanchor": "bottom"
         },
         {
          "showarrow": false,
          "text": "4",
          "x": 2008,
          "xanchor": "center",
          "y": 4,
          "yanchor": "bottom"
         },
         {
          "showarrow": false,
          "text": "11",
          "x": 2009,
          "xanchor": "center",
          "y": 11,
          "yanchor": "bottom"
         },
         {
          "showarrow": false,
          "text": "16",
          "x": 2010,
          "xanchor": "center",
          "y": 16,
          "yanchor": "bottom"
         },
         {
          "showarrow": false,
          "text": "21",
          "x": 2011,
          "xanchor": "center",
          "y": 21,
          "yanchor": "bottom"
         },
         {
          "showarrow": false,
          "text": "16",
          "x": 2012,
          "xanchor": "center",
          "y": 16,
          "yanchor": "bottom"
         },
         {
          "showarrow": false,
          "text": "43",
          "x": 2013,
          "xanchor": "center",
          "y": 43,
          "yanchor": "bottom"
         },
         {
          "showarrow": false,
          "text": "26",
          "x": 2014,
          "xanchor": "center",
          "y": 26,
          "yanchor": "bottom"
         },
         {
          "showarrow": false,
          "text": "116",
          "x": 2015,
          "xanchor": "center",
          "y": 116,
          "yanchor": "bottom"
         },
         {
          "showarrow": false,
          "text": "631",
          "x": 2016,
          "xanchor": "center",
          "y": 631,
          "yanchor": "bottom"
         },
         {
          "showarrow": false,
          "text": "1396",
          "x": 2017,
          "xanchor": "center",
          "y": 1396,
          "yanchor": "bottom"
         }
        ]
       }
      },
      "text/html": [
       "<div id=\"a4bc3bfa-beff-4ce3-ac00-520915b0cf96\" style=\"height: 525px; width: 100%;\" class=\"plotly-graph-div\"></div><script type=\"text/javascript\">require([\"plotly\"], function(Plotly) { window.PLOTLYENV=window.PLOTLYENV || {};window.PLOTLYENV.BASE_URL=\"https://plot.ly\";Plotly.newPlot(\"a4bc3bfa-beff-4ce3-ac00-520915b0cf96\", [{\"y\": [1, 1, 12, 2, 6, 2, 5, 4, 11, 16, 21, 16, 43, 26, 116, 631, 1396], \"type\": \"bar\", \"x\": [2000, 2001, 2003, 2004, 2005, 2006, 2007, 2008, 2009, 2010, 2011, 2012, 2013, 2014, 2015, 2016, 2017]}], {\"annotations\": [{\"yanchor\": \"bottom\", \"xanchor\": \"center\", \"y\": 1, \"x\": 2000, \"showarrow\": false, \"text\": \"1\"}, {\"yanchor\": \"bottom\", \"xanchor\": \"center\", \"y\": 1, \"x\": 2001, \"showarrow\": false, \"text\": \"1\"}, {\"yanchor\": \"bottom\", \"xanchor\": \"center\", \"y\": 12, \"x\": 2003, \"showarrow\": false, \"text\": \"12\"}, {\"yanchor\": \"bottom\", \"xanchor\": \"center\", \"y\": 2, \"x\": 2004, \"showarrow\": false, \"text\": \"2\"}, {\"yanchor\": \"bottom\", \"xanchor\": \"center\", \"y\": 6, \"x\": 2005, \"showarrow\": false, \"text\": \"6\"}, {\"yanchor\": \"bottom\", \"xanchor\": \"center\", \"y\": 2, \"x\": 2006, \"showarrow\": false, \"text\": \"2\"}, {\"yanchor\": \"bottom\", \"xanchor\": \"center\", \"y\": 5, \"x\": 2007, \"showarrow\": false, \"text\": \"5\"}, {\"yanchor\": \"bottom\", \"xanchor\": \"center\", \"y\": 4, \"x\": 2008, \"showarrow\": false, \"text\": \"4\"}, {\"yanchor\": \"bottom\", \"xanchor\": \"center\", \"y\": 11, \"x\": 2009, \"showarrow\": false, \"text\": \"11\"}, {\"yanchor\": \"bottom\", \"xanchor\": \"center\", \"y\": 16, \"x\": 2010, \"showarrow\": false, \"text\": \"16\"}, {\"yanchor\": \"bottom\", \"xanchor\": \"center\", \"y\": 21, \"x\": 2011, \"showarrow\": false, \"text\": \"21\"}, {\"yanchor\": \"bottom\", \"xanchor\": \"center\", \"y\": 16, \"x\": 2012, \"showarrow\": false, \"text\": \"16\"}, {\"yanchor\": \"bottom\", \"xanchor\": \"center\", \"y\": 43, \"x\": 2013, \"showarrow\": false, \"text\": \"43\"}, {\"yanchor\": \"bottom\", \"xanchor\": \"center\", \"y\": 26, \"x\": 2014, \"showarrow\": false, \"text\": \"26\"}, {\"yanchor\": \"bottom\", \"xanchor\": \"center\", \"y\": 116, \"x\": 2015, \"showarrow\": false, \"text\": \"116\"}, {\"yanchor\": \"bottom\", \"xanchor\": \"center\", \"y\": 631, \"x\": 2016, \"showarrow\": false, \"text\": \"631\"}, {\"yanchor\": \"bottom\", \"xanchor\": \"center\", \"y\": 1396, \"x\": 2017, \"showarrow\": false, \"text\": \"1396\"}]}, {\"linkText\": \"Export to plot.ly\", \"showLink\": true})});</script>"
      ],
      "text/vnd.plotly.v1+html": [
       "<div id=\"a4bc3bfa-beff-4ce3-ac00-520915b0cf96\" style=\"height: 525px; width: 100%;\" class=\"plotly-graph-div\"></div><script type=\"text/javascript\">require([\"plotly\"], function(Plotly) { window.PLOTLYENV=window.PLOTLYENV || {};window.PLOTLYENV.BASE_URL=\"https://plot.ly\";Plotly.newPlot(\"a4bc3bfa-beff-4ce3-ac00-520915b0cf96\", [{\"y\": [1, 1, 12, 2, 6, 2, 5, 4, 11, 16, 21, 16, 43, 26, 116, 631, 1396], \"type\": \"bar\", \"x\": [2000, 2001, 2003, 2004, 2005, 2006, 2007, 2008, 2009, 2010, 2011, 2012, 2013, 2014, 2015, 2016, 2017]}], {\"annotations\": [{\"yanchor\": \"bottom\", \"xanchor\": \"center\", \"y\": 1, \"x\": 2000, \"showarrow\": false, \"text\": \"1\"}, {\"yanchor\": \"bottom\", \"xanchor\": \"center\", \"y\": 1, \"x\": 2001, \"showarrow\": false, \"text\": \"1\"}, {\"yanchor\": \"bottom\", \"xanchor\": \"center\", \"y\": 12, \"x\": 2003, \"showarrow\": false, \"text\": \"12\"}, {\"yanchor\": \"bottom\", \"xanchor\": \"center\", \"y\": 2, \"x\": 2004, \"showarrow\": false, \"text\": \"2\"}, {\"yanchor\": \"bottom\", \"xanchor\": \"center\", \"y\": 6, \"x\": 2005, \"showarrow\": false, \"text\": \"6\"}, {\"yanchor\": \"bottom\", \"xanchor\": \"center\", \"y\": 2, \"x\": 2006, \"showarrow\": false, \"text\": \"2\"}, {\"yanchor\": \"bottom\", \"xanchor\": \"center\", \"y\": 5, \"x\": 2007, \"showarrow\": false, \"text\": \"5\"}, {\"yanchor\": \"bottom\", \"xanchor\": \"center\", \"y\": 4, \"x\": 2008, \"showarrow\": false, \"text\": \"4\"}, {\"yanchor\": \"bottom\", \"xanchor\": \"center\", \"y\": 11, \"x\": 2009, \"showarrow\": false, \"text\": \"11\"}, {\"yanchor\": \"bottom\", \"xanchor\": \"center\", \"y\": 16, \"x\": 2010, \"showarrow\": false, \"text\": \"16\"}, {\"yanchor\": \"bottom\", \"xanchor\": \"center\", \"y\": 21, \"x\": 2011, \"showarrow\": false, \"text\": \"21\"}, {\"yanchor\": \"bottom\", \"xanchor\": \"center\", \"y\": 16, \"x\": 2012, \"showarrow\": false, \"text\": \"16\"}, {\"yanchor\": \"bottom\", \"xanchor\": \"center\", \"y\": 43, \"x\": 2013, \"showarrow\": false, \"text\": \"43\"}, {\"yanchor\": \"bottom\", \"xanchor\": \"center\", \"y\": 26, \"x\": 2014, \"showarrow\": false, \"text\": \"26\"}, {\"yanchor\": \"bottom\", \"xanchor\": \"center\", \"y\": 116, \"x\": 2015, \"showarrow\": false, \"text\": \"116\"}, {\"yanchor\": \"bottom\", \"xanchor\": \"center\", \"y\": 631, \"x\": 2016, \"showarrow\": false, \"text\": \"631\"}, {\"yanchor\": \"bottom\", \"xanchor\": \"center\", \"y\": 1396, \"x\": 2017, \"showarrow\": false, \"text\": \"1396\"}]}, {\"linkText\": \"Export to plot.ly\", \"showLink\": true})});</script>"
      ]
     },
     "metadata": {},
     "output_type": "display_data"
    }
   ],
   "source": [
    "import plotly.graph_objs as go\n",
    "\n",
    "data = [go.Bar(\n",
    "            x=X,\n",
    "            y=Y\n",
    "    )]\n",
    "layout = go.Layout(\n",
    "    annotations=[\n",
    "        dict(x=xi,y=yi,\n",
    "             text=str(yi),\n",
    "             xanchor='center',\n",
    "             yanchor='bottom',\n",
    "             showarrow=False,\n",
    "        ) for xi, yi in zip(X, Y)]\n",
    ")\n",
    "fig = go.Figure(data=data, layout=layout)\n",
    "iplot(fig, filename='basic-bar')"
   ]
  },
  {
   "cell_type": "code",
   "execution_count": 92,
   "metadata": {
    "collapsed": false
   },
   "outputs": [
    {
     "data": {
      "text/plain": [
       "4"
      ]
     },
     "execution_count": 92,
     "metadata": {},
     "output_type": "execute_result"
    }
   ],
   "source": [
    "year_num[0][1]"
   ]
  },
  {
   "cell_type": "code",
   "execution_count": null,
   "metadata": {
    "collapsed": true
   },
   "outputs": [],
   "source": []
  }
 ],
 "metadata": {
  "kernelspec": {
   "display_name": "Python 3",
   "language": "python",
   "name": "python3"
  },
  "language_info": {
   "codemirror_mode": {
    "name": "ipython",
    "version": 3
   },
   "file_extension": ".py",
   "mimetype": "text/x-python",
   "name": "python",
   "nbconvert_exporter": "python",
   "pygments_lexer": "ipython3",
   "version": "3.5.2"
  }
 },
 "nbformat": 4,
 "nbformat_minor": 0
}
