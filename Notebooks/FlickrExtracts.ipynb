{
 "cells": [
  {
   "cell_type": "code",
   "execution_count": 1,
   "metadata": {
    "collapsed": false
   },
   "outputs": [],
   "source": [
    "import UploadAndDetectIBEIS as api\n",
    "import importlib\n",
    "import json\n",
    "import flickrapi as f\n",
    "import uuid"
   ]
  },
  {
   "cell_type": "code",
   "execution_count": 35,
   "metadata": {
    "collapsed": false
   },
   "outputs": [],
   "source": [
    "flickrKeyFl = \"/Users/sreejithmenon/Google Drive/Project/flickr_key.json\"\n",
    "with open(flickrKeyFl,\"r\") as keyFl:\n",
    "    jsonObj = json.load(keyFl)\n",
    "\n",
    "flickrObj = f.FlickrAPI(jsonObj['flickr_key'], jsonObj['flickr_secret_key'],format='json')"
   ]
  },
  {
   "cell_type": "code",
   "execution_count": 66,
   "metadata": {
    "collapsed": false
   },
   "outputs": [],
   "source": [
    "photosJson = json.loads(flickrObj.photos.search(tags=[\"giraffe\",\"zebra\"],text=\"masai\",privacy_filter=1).decode(encoding='utf-8'))"
   ]
  },
  {
   "cell_type": "code",
   "execution_count": 60,
   "metadata": {
    "collapsed": false
   },
   "outputs": [],
   "source": [
    "with open(\"/tmp/photosJson.json\",\"w\") as p:\n",
    "    json.dump(photosJson,p,indent=4)"
   ]
  },
  {
   "cell_type": "code",
   "execution_count": null,
   "metadata": {
    "collapsed": true
   },
   "outputs": [],
   "source": [
    "'''\n",
    "https://farm{farm-id}.staticflickr.com/{server-id}/{id}_{secret}_b.jpg\n",
    "https://farm9.staticflickr.com/8711/29764035496_68260b46d7_b.jpg\n",
    "'''"
   ]
  },
  {
   "cell_type": "code",
   "execution_count": 47,
   "metadata": {
    "collapsed": false
   },
   "outputs": [
    {
     "data": {
      "text/plain": [
       "('local-filename.jpg', <http.client.HTTPMessage at 0x10707ee80>)"
      ]
     },
     "execution_count": 47,
     "metadata": {},
     "output_type": "execute_result"
    }
   ],
   "source": []
  },
  {
   "cell_type": "code",
   "execution_count": 67,
   "metadata": {
    "collapsed": false
   },
   "outputs": [],
   "source": [
    "photos = photosJson['photos']['photo']\n",
    "urlList = []\n",
    "for i in range(len(photos)):\n",
    "    dct = photos[i]\n",
    "    url = 'https://farm%s.staticflickr.com/%s/%s_%s_b.jpg' %(str(dct['farm']),dct['server'],dct['id'],dct['secret'])\n",
    "    urlList.append(url)"
   ]
  },
  {
   "cell_type": "code",
   "execution_count": 69,
   "metadata": {
    "collapsed": true
   },
   "outputs": [],
   "source": [
    "for i in range(len(urlList)):\n",
    "      urllib.request.urlretrieve(urlList[i], \"/tmp/%d.jpg\" %i)"
   ]
  },
  {
   "cell_type": "code",
   "execution_count": 68,
   "metadata": {
    "collapsed": false
   },
   "outputs": [
    {
     "data": {
      "text/plain": [
       "100"
      ]
     },
     "execution_count": 68,
     "metadata": {},
     "output_type": "execute_result"
    }
   ],
   "source": [
    "len(urlList)"
   ]
  },
  {
   "cell_type": "code",
   "execution_count": 78,
   "metadata": {
    "collapsed": false
   },
   "outputs": [
    {
     "name": "stdout",
     "output_type": "stream",
     "text": [
      "Image gid         = 4\n",
      "Image UUID        = UUID('870dbb12-9bb5-5583-ef09-ff24c069d19f')\n"
     ]
    }
   ],
   "source": [
    "gid = api.upload('4.jpg')\n",
    "\n",
    "# Get image UUID\n",
    "\n",
    "data_dict = {\n",
    "        'gid_list': [gid],\n",
    "    }\n",
    "image_uuid_list = api.get('api/image/uuid', data_dict)\n",
    "image_uuid_dict = image_uuid_list[0]\n",
    "image_uuid = uuid.UUID(image_uuid_dict['__UUID__'])\n",
    "print('Image gid         = %r' % (gid, ))\n",
    "print('Image UUID        = %r' % (image_uuid, ))"
   ]
  },
  {
   "cell_type": "code",
   "execution_count": 79,
   "metadata": {
    "collapsed": false
   },
   "outputs": [
    {
     "name": "stdout",
     "output_type": "stream",
     "text": [
      "\n",
      "Annot aid_list    = [12]\n",
      "      bboxes      = [[135, 27, 670, 702]]\n",
      "      thetas      = [0.0]\n",
      "      species     = ['zebra_plains']\n",
      "      confidences = [0.8517599105834961]\n",
      "      notes       = ['cnnyolodetect']\n"
     ]
    }
   ],
   "source": [
    "data_dict = {\n",
    "        'gid_list': [gid],\n",
    "    }\n",
    "aids_list = api.get('api/detect/cnn/yolo', data_dict)\n",
    "aid_list = aids_list[0]\n",
    "print('\\nAnnot aid_list    = %r' % (aid_list, ))\n",
    "api.check_annot_metadata(aid_list)"
   ]
  },
  {
   "cell_type": "code",
   "execution_count": 14,
   "metadata": {
    "collapsed": false
   },
   "outputs": [
    {
     "name": "stdout",
     "output_type": "stream",
     "text": [
      "!!! FAILED REQUEST !!!\n",
      "\t URL      = 'http://pachy.cs.uic.edu:5001/api/name/'\n",
      "\t METHOD   = <function get at 0x1043f6510>\n",
      "\t RESPONSE = {\"status\": {\"cache\": -1, \"message\": \"API error, Python Exception thrown: <!!! EXCEPTION !!!>\\nTraceback (most recent call last):\\n  File \\u001b[36;01m\\\"/opt/ibeis/ibeis/ibeis/control/controller_inject.py\\\"\\u001b[39;49;00m, line \\u001b[34;01m306\\u001b[39;49;00m, in translate_ibeis_webcall\\n    output = func(ibs=ibs, **kwargs)\\n\\u001b[31;01mTypeError\\u001b[39;49;00m: get_valid_nids() got an unexpected keyword argument 'nid_list'\\n\\n[!translate_ibeis_webcall] Error in translate_ibeis_webcall\\nExpected Function Definition: get_valid_nids(ibs, imgsetid=None, filter_empty=False, min_pername=None)\\nReceived Function Definition: get_valid_nids(<IBEISController(PZ_MTEST) at 0x6f6e750>, nid_list=[1, 2])\\nkwargs = {'nid_list': [1, 2]}\\nargs = ()\\nflask.request.args = ImmutableMultiDict([])\\nflask.request.form = ImmutableMultiDict([('nid_list', u'[1, 2]')])\\n<type 'exceptions.TypeError'>: get_valid_nids() got an unexpected keyword argument 'nid_list'\\n</!!! EXCEPTION !!!>\", \"code\": 500, \"success\": false}, \"response\": \"Traceback (most recent call last):\\n  File \\\"/opt/ibeis/ibeis/ibeis/control/controller_inject.py\\\", line 577, in translated_call\\n    resp_tup = translate_ibeis_webcall(func, **kwargs)\\n  File \\\"/opt/ibeis/ibeis/ibeis/control/controller_inject.py\\\", line 322, in translate_ibeis_webcall\\n    raise Exception(error_msg)\\nException: <!!! EXCEPTION !!!>\\nTraceback (most recent call last):\\n  File \\u001b[36;01m\\\"/opt/ibeis/ibeis/ibeis/control/controller_inject.py\\\"\\u001b[39;49;00m, line \\u001b[34;01m306\\u001b[39;49;00m, in translate_ibeis_webcall\\n    output = func(ibs=ibs, **kwargs)\\n\\u001b[31;01mTypeError\\u001b[39;49;00m: get_valid_nids() got an unexpected keyword argument 'nid_list'\\n\\n[!translate_ibeis_webcall] Error in translate_ibeis_webcall\\nExpected Function Definition: get_valid_nids(ibs, imgsetid=None, filter_empty=False, min_pername=None)\\nReceived Function Definition: get_valid_nids(<IBEISController(PZ_MTEST) at 0x6f6e750>, nid_list=[1, 2])\\nkwargs = {'nid_list': [1, 2]}\\nargs = ()\\nflask.request.args = ImmutableMultiDict([])\\nflask.request.form = ImmutableMultiDict([('nid_list', u'[1, 2]')])\\n<type 'exceptions.TypeError'>: get_valid_nids() got an unexpected keyword argument 'nid_list'\\n</!!! EXCEPTION !!!>\\n\"}\n"
     ]
    },
    {
     "ename": "AssertionError",
     "evalue": "",
     "output_type": "error",
     "traceback": [
      "\u001b[0;31m---------------------------------------------------------------------------\u001b[0m",
      "\u001b[0;31mAssertionError\u001b[0m                            Traceback (most recent call last)",
      "\u001b[0;32m<ipython-input-14-c27ec3615228>\u001b[0m in \u001b[0;36m<module>\u001b[0;34m()\u001b[0m\n\u001b[1;32m      3\u001b[0m     }\n\u001b[1;32m      4\u001b[0m \u001b[0;34m\u001b[0m\u001b[0m\n\u001b[0;32m----> 5\u001b[0;31m \u001b[0mapi\u001b[0m\u001b[0;34m.\u001b[0m\u001b[0mget\u001b[0m\u001b[0;34m(\u001b[0m\u001b[0;34m'api/name'\u001b[0m\u001b[0;34m,\u001b[0m \u001b[0mdata_dict\u001b[0m\u001b[0;34m)\u001b[0m\u001b[0;34m\u001b[0m\u001b[0m\n\u001b[0m",
      "\u001b[0;32m/Users/sreejithmenon/Google Drive/CodeBase/AWESOME/script/UploadAndDetectIBEIS.py\u001b[0m in \u001b[0;36mget\u001b[0;34m(*args, **kwargs)\u001b[0m\n\u001b[1;32m     71\u001b[0m \u001b[0;34m\u001b[0m\u001b[0m\n\u001b[1;32m     72\u001b[0m \u001b[0;32mdef\u001b[0m \u001b[0mget\u001b[0m\u001b[0;34m(\u001b[0m\u001b[0;34m*\u001b[0m\u001b[0margs\u001b[0m\u001b[0;34m,\u001b[0m \u001b[0;34m**\u001b[0m\u001b[0mkwargs\u001b[0m\u001b[0;34m)\u001b[0m\u001b[0;34m:\u001b[0m\u001b[0;34m\u001b[0m\u001b[0m\n\u001b[0;32m---> 73\u001b[0;31m     \u001b[0;32mreturn\u001b[0m \u001b[0m_request\u001b[0m\u001b[0;34m(\u001b[0m\u001b[0mrequests\u001b[0m\u001b[0;34m.\u001b[0m\u001b[0mget\u001b[0m\u001b[0;34m,\u001b[0m \u001b[0;34m*\u001b[0m\u001b[0margs\u001b[0m\u001b[0;34m,\u001b[0m \u001b[0;34m**\u001b[0m\u001b[0mkwargs\u001b[0m\u001b[0;34m)\u001b[0m\u001b[0;34m\u001b[0m\u001b[0m\n\u001b[0m\u001b[1;32m     74\u001b[0m \u001b[0;34m\u001b[0m\u001b[0m\n\u001b[1;32m     75\u001b[0m \u001b[0;34m\u001b[0m\u001b[0m\n",
      "\u001b[0;32m/Users/sreejithmenon/Google Drive/CodeBase/AWESOME/script/UploadAndDetectIBEIS.py\u001b[0m in \u001b[0;36m_request\u001b[0;34m(function, signature, data_dict, skip_json)\u001b[0m\n\u001b[1;32m     66\u001b[0m         \u001b[0mprint\u001b[0m\u001b[0;34m(\u001b[0m\u001b[0;34m'\\t RESPONSE = %s'\u001b[0m \u001b[0;34m%\u001b[0m \u001b[0;34m(\u001b[0m\u001b[0mresponse\u001b[0m\u001b[0;34m.\u001b[0m\u001b[0mtext\u001b[0m\u001b[0;34m,\u001b[0m \u001b[0;34m)\u001b[0m\u001b[0;34m)\u001b[0m\u001b[0;34m\u001b[0m\u001b[0m\n\u001b[1;32m     67\u001b[0m     \u001b[0mresponse_dict\u001b[0m \u001b[0;34m=\u001b[0m \u001b[0mresponse\u001b[0m\u001b[0;34m.\u001b[0m\u001b[0mjson\u001b[0m\u001b[0;34m(\u001b[0m\u001b[0;34m)\u001b[0m\u001b[0;34m\u001b[0m\u001b[0m\n\u001b[0;32m---> 68\u001b[0;31m     \u001b[0;32massert\u001b[0m \u001b[0mresponse_dict\u001b[0m\u001b[0;34m[\u001b[0m\u001b[0;34m'status'\u001b[0m\u001b[0;34m]\u001b[0m\u001b[0;34m[\u001b[0m\u001b[0;34m'success'\u001b[0m\u001b[0;34m]\u001b[0m\u001b[0;34m\u001b[0m\u001b[0m\n\u001b[0m\u001b[1;32m     69\u001b[0m     \u001b[0;32mreturn\u001b[0m \u001b[0mresponse_dict\u001b[0m\u001b[0;34m[\u001b[0m\u001b[0;34m'response'\u001b[0m\u001b[0;34m]\u001b[0m\u001b[0;34m\u001b[0m\u001b[0m\n\u001b[1;32m     70\u001b[0m \u001b[0;34m\u001b[0m\u001b[0m\n",
      "\u001b[0;31mAssertionError\u001b[0m: "
     ]
    }
   ],
   "source": [
    "data_dict = {\n",
    "        'nid_list': [1,2],\n",
    "    }\n",
    "\n",
    "api.get('api/name', data_dict)"
   ]
  },
  {
   "cell_type": "code",
   "execution_count": null,
   "metadata": {
    "collapsed": true
   },
   "outputs": [],
   "source": []
  }
 ],
 "metadata": {
  "kernelspec": {
   "display_name": "Python 3",
   "language": "python",
   "name": "python3"
  },
  "language_info": {
   "codemirror_mode": {
    "name": "ipython",
    "version": 3
   },
   "file_extension": ".py",
   "mimetype": "text/x-python",
   "name": "python",
   "nbconvert_exporter": "python",
   "pygments_lexer": "ipython3",
   "version": "3.5.2"
  }
 },
 "nbformat": 4,
 "nbformat_minor": 0
}
