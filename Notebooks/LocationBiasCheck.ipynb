{
 "cells": [
  {
   "cell_type": "code",
   "execution_count": 1,
   "metadata": {
    "collapsed": false
   },
   "outputs": [],
   "source": [
    "import GetPropertiesAPI as GP\n",
    "import importlib\n",
    "importlib.reload(GP)\n",
    "import csv\n",
    "import json\n",
    "import pandas as pd\n",
    "import folium\n",
    "from folium.plugins import MarkerCluster"
   ]
  },
  {
   "cell_type": "code",
   "execution_count": 27,
   "metadata": {
    "collapsed": false
   },
   "outputs": [],
   "source": [
    "with open(\"../data/all_imgs_expt2.csv\",\"r\") as allImgs:\n",
    "    gids = [row[0] for row in csv.reader(allImgs)]\n",
    "\n",
    "gids = list(map(lambda x : int(x),gids))\n",
    "datetimes = GP.getExifData(gids,'unixtime')\n",
    "lats = GP.getExifData(gids,'lat')\n",
    "longs = GP.getExifData(gids,'lon')"
   ]
  },
  {
   "cell_type": "code",
   "execution_count": 35,
   "metadata": {
    "collapsed": false
   },
   "outputs": [],
   "source": [
    "imgProps = {gids[i] : {'datetime' : GP.getUnixTimeReadableFmt(datetimes[i]),\n",
    "                      'lat' : lats[i],\n",
    "                      'long' : longs[i]} \n",
    "           for i in range(0,len(gids))}\n",
    "\n",
    "with open(\"../data/imgs_exif_data.json\",\"w\") as outFl:\n",
    "    json.dump(imgProps,outFl,indent=4)"
   ]
  },
  {
   "cell_type": "code",
   "execution_count": 2,
   "metadata": {
    "collapsed": true
   },
   "outputs": [],
   "source": [
    "with open(\"../data/imgs_exif_data.json\",\"r\") as inFl:\n",
    "    imgProps = json.load(inFl)"
   ]
  },
  {
   "cell_type": "code",
   "execution_count": 3,
   "metadata": {
    "collapsed": false
   },
   "outputs": [],
   "source": [
    "gidExifDf = pd.DataFrame(imgProps).transpose()\n",
    "gidExifDf.reset_index(inplace=True)\n",
    "gidExifDf.columns = ['GID','datetime','lat','long']\n",
    "gidExifDf[['GID']] = gidExifDf[['GID']].apply(pd.to_numeric)"
   ]
  },
  {
   "cell_type": "code",
   "execution_count": 4,
   "metadata": {
    "collapsed": false
   },
   "outputs": [],
   "source": [
    "with open(\"../FinalResults/rankListImages_expt2.csv\",\"r\") as inFl:\n",
    "    gidResultsDf = pd.DataFrame.from_csv(inFl)\n",
    "    \n",
    "gidResultsDf.reset_index(inplace=True)"
   ]
  },
  {
   "cell_type": "code",
   "execution_count": 5,
   "metadata": {
    "collapsed": false
   },
   "outputs": [],
   "source": [
    "df = pd.merge(gidExifDf,gidResultsDf,left_on='GID',right_on='GID')"
   ]
  },
  {
   "cell_type": "code",
   "execution_count": 6,
   "metadata": {
    "collapsed": false
   },
   "outputs": [],
   "source": [
    "d = df.to_dict()['Proportion']\n",
    "bin_shr = {}\n",
    "for key in d.keys():\n",
    "    if d[key] <= 20:\n",
    "        bin_shr[key] = 0\n",
    "    elif d[key] >= 80:\n",
    "        bin_shr[key] = 1\n",
    "        \n",
    "D = df.to_dict()\n",
    "D['bin_shr'] = bin_shr\n",
    "df = pd.DataFrame.from_dict(D)\n",
    "\n",
    "unshared = df[(df['bin_shr'] == 0)]\n",
    "unshared = unshared[['lat','long']]\n",
    "\n",
    "shared = df[(df['bin_shr'] == 1)]\n",
    "shared = shared[['lat','long']]"
   ]
  },
  {
   "cell_type": "code",
   "execution_count": 8,
   "metadata": {
    "collapsed": false
   },
   "outputs": [],
   "source": [
    "shared_lats = list(shared['lat'])\n",
    "shared_longs = list(shared['long'])\n",
    "\n",
    "map_loc = folium.Map(location=[-1.35137,36.8003],tiles='Stamen Terrain',zoom_start=12)\n",
    "\n",
    "for i in range(0,len(shared_lats)):\n",
    "    folium.Marker([shared_lats[i],shared_longs[i]],\n",
    "              icon=folium.Icon(color='green',icon='info-sign')\n",
    "              ).add_to(map_loc)\n",
    "\n",
    "unshared_lats = list(unshared['lat'])\n",
    "unshared_longs = list(unshared['long'])\n",
    "\n",
    "for i in range(0,len(unshared_lats)):\n",
    "    folium.Marker([unshared_lats[i],unshared_longs[i]],\n",
    "              icon=folium.Icon(color='red',icon='info-sign')\n",
    "              ).add_to(map_loc)\n",
    "    \n",
    "map_loc.save(outfile='../FinalResults/ClickLocations.html')"
   ]
  },
  {
   "cell_type": "code",
   "execution_count": 9,
   "metadata": {
    "collapsed": false
   },
   "outputs": [],
   "source": [
    "cluster_map = folium.Map(location=[-1.35137,36.8003],tiles='Stamen Terrain',zoom_start=11)\n",
    "marker_cluster = folium.MarkerCluster(\"Shares\").add_to(cluster_map)\n",
    "marker_cluster2 = folium.MarkerCluster(\"Not Shares\").add_to(cluster_map)\n",
    "\n",
    "\n",
    "for i in range(0,len(shared_lats)):\n",
    "    folium.Marker([shared_lats[i],shared_longs[i]],\n",
    "                  icon=folium.Icon(color='green',icon='info-sign'),\n",
    "                  popup=\"Shared\"\n",
    "                 ).add_to(marker_cluster)\n",
    "\n",
    "for i in range(0,len(unshared_lats)):\n",
    "    folium.Marker([unshared_lats[i],unshared_longs[i]],\n",
    "                 icon=folium.Icon(color='red',icon='info-sign'),\n",
    "                  popup=\"Not Shared\"\n",
    "                 ).add_to(marker_cluster)\n",
    "    \n",
    "cluster_map.save(outfile='../FinalResults/ShareNoShareLocationClusters.html')"
   ]
  },
  {
   "cell_type": "code",
   "execution_count": 122,
   "metadata": {
    "collapsed": false
   },
   "outputs": [],
   "source": []
  },
  {
   "cell_type": "code",
   "execution_count": null,
   "metadata": {
    "collapsed": true
   },
   "outputs": [],
   "source": []
  }
 ],
 "metadata": {
  "kernelspec": {
   "display_name": "Python 3",
   "language": "python",
   "name": "python3"
  },
  "language_info": {
   "codemirror_mode": {
    "name": "ipython",
    "version": 3
   },
   "file_extension": ".py",
   "mimetype": "text/x-python",
   "name": "python",
   "nbconvert_exporter": "python",
   "pygments_lexer": "ipython3",
   "version": "3.5.2"
  }
 },
 "nbformat": 4,
 "nbformat_minor": 0
}
