{
 "cells": [
  {
   "cell_type": "code",
   "execution_count": 1,
   "metadata": {
    "collapsed": false
   },
   "outputs": [],
   "source": [
    "import GetPropertiesAPI as GP\n",
    "import BuildConsolidatedFeaturesFile as BCF\n",
    "import importlib\n",
    "importlib.reload(GP)\n",
    "importlib.reload(BCF)\n",
    "import csv\n",
    "import json\n",
    "import pandas as pd\n",
    "import folium\n",
    "from folium.plugins import MarkerCluster\n",
    "from folium import plugins\n",
    "import statistics as s"
   ]
  },
  {
   "cell_type": "code",
   "execution_count": 2,
   "metadata": {
    "collapsed": false
   },
   "outputs": [
    {
     "ename": "TypeError",
     "evalue": "int() argument must be a string, a bytes-like object or a number, not 'NoneType'",
     "output_type": "error",
     "traceback": [
      "\u001b[0;31m---------------------------------------------------------------------------\u001b[0m",
      "\u001b[0;31mTypeError\u001b[0m                                 Traceback (most recent call last)",
      "\u001b[0;32m<ipython-input-2-15f2555573ab>\u001b[0m in \u001b[0;36m<module>\u001b[0;34m()\u001b[0m\n\u001b[0;32m----> 1\u001b[0;31m \u001b[0mBCF\u001b[0m\u001b[0;34m.\u001b[0m\u001b[0mbuildExifFeatureFl\u001b[0m\u001b[0;34m(\u001b[0m\u001b[0;34m\"../data/all_imgs_expt2.csv\"\u001b[0m\u001b[0;34m,\u001b[0m\u001b[0;34m\"../data/imgs_exif_data_expt2.json\"\u001b[0m\u001b[0;34m)\u001b[0m\u001b[0;34m\u001b[0m\u001b[0m\n\u001b[0m",
      "\u001b[0;32m/Users/sreejithmenon/Google Drive/CodeBase/AWESOME/script/BuildConsolidatedFeaturesFile.py\u001b[0m in \u001b[0;36mbuildExifFeatureFl\u001b[0;34m(inp, outFL, isInpFl)\u001b[0m\n\u001b[1;32m     84\u001b[0m                       \u001b[0;34m'size'\u001b[0m \u001b[0;34m:\u001b[0m \u001b[0msize\u001b[0m\u001b[0;34m[\u001b[0m\u001b[0mi\u001b[0m\u001b[0;34m]\u001b[0m\u001b[0;34m\u001b[0m\u001b[0m\n\u001b[1;32m     85\u001b[0m                       } \n\u001b[0;32m---> 86\u001b[0;31m            for i in range(0,len(gids))}\n\u001b[0m\u001b[1;32m     87\u001b[0m \u001b[0;34m\u001b[0m\u001b[0m\n\u001b[1;32m     88\u001b[0m         \u001b[0;32mwith\u001b[0m \u001b[0mopen\u001b[0m\u001b[0;34m(\u001b[0m\u001b[0moutFL\u001b[0m\u001b[0;34m,\u001b[0m\u001b[0;34m\"w\"\u001b[0m\u001b[0;34m)\u001b[0m \u001b[0;32mas\u001b[0m \u001b[0moutFl\u001b[0m\u001b[0;34m:\u001b[0m\u001b[0;34m\u001b[0m\u001b[0m\n",
      "\u001b[0;32m/Users/sreejithmenon/Google Drive/CodeBase/AWESOME/script/BuildConsolidatedFeaturesFile.py\u001b[0m in \u001b[0;36m<dictcomp>\u001b[0;34m(.0)\u001b[0m\n\u001b[1;32m     84\u001b[0m                       \u001b[0;34m'size'\u001b[0m \u001b[0;34m:\u001b[0m \u001b[0msize\u001b[0m\u001b[0;34m[\u001b[0m\u001b[0mi\u001b[0m\u001b[0;34m]\u001b[0m\u001b[0;34m\u001b[0m\u001b[0m\n\u001b[1;32m     85\u001b[0m                       } \n\u001b[0;32m---> 86\u001b[0;31m            for i in range(0,len(gids))}\n\u001b[0m\u001b[1;32m     87\u001b[0m \u001b[0;34m\u001b[0m\u001b[0m\n\u001b[1;32m     88\u001b[0m         \u001b[0;32mwith\u001b[0m \u001b[0mopen\u001b[0m\u001b[0;34m(\u001b[0m\u001b[0moutFL\u001b[0m\u001b[0;34m,\u001b[0m\u001b[0;34m\"w\"\u001b[0m\u001b[0;34m)\u001b[0m \u001b[0;32mas\u001b[0m \u001b[0moutFl\u001b[0m\u001b[0;34m:\u001b[0m\u001b[0;34m\u001b[0m\u001b[0m\n",
      "\u001b[0;32m/Users/sreejithmenon/Google Drive/CodeBase/AWESOME/script/GetPropertiesAPI.py\u001b[0m in \u001b[0;36mgetUnixTimeReadableFmt\u001b[0;34m(unixtm)\u001b[0m\n\u001b[1;32m     74\u001b[0m \u001b[0;31m# Modified to take into consideration daylight saving changes (now uses utcfromtimestamp method)\u001b[0m\u001b[0;34m\u001b[0m\u001b[0;34m\u001b[0m\u001b[0m\n\u001b[1;32m     75\u001b[0m \u001b[0;32mdef\u001b[0m \u001b[0mgetUnixTimeReadableFmt\u001b[0m\u001b[0;34m(\u001b[0m\u001b[0munixtm\u001b[0m\u001b[0;34m)\u001b[0m\u001b[0;34m:\u001b[0m\u001b[0;34m\u001b[0m\u001b[0m\n\u001b[0;32m---> 76\u001b[0;31m     \u001b[0;32mreturn\u001b[0m \u001b[0mdatetime\u001b[0m\u001b[0;34m.\u001b[0m\u001b[0mdatetime\u001b[0m\u001b[0;34m.\u001b[0m\u001b[0mutcfromtimestamp\u001b[0m\u001b[0;34m(\u001b[0m\u001b[0mint\u001b[0m\u001b[0;34m(\u001b[0m\u001b[0munixtm\u001b[0m\u001b[0;34m)\u001b[0m\u001b[0;34m)\u001b[0m\u001b[0;34m.\u001b[0m\u001b[0mstrftime\u001b[0m\u001b[0;34m(\u001b[0m\u001b[0;34m'%Y-%m-%d %H:%M:%S'\u001b[0m\u001b[0;34m)\u001b[0m\u001b[0;34m\u001b[0m\u001b[0m\n\u001b[0m\u001b[1;32m     77\u001b[0m \u001b[0;34m\u001b[0m\u001b[0m\n\u001b[1;32m     78\u001b[0m \u001b[0;31m# Method for executing GET request for the GGR dataset\u001b[0m\u001b[0;34m\u001b[0m\u001b[0;34m\u001b[0m\u001b[0m\n",
      "\u001b[0;31mTypeError\u001b[0m: int() argument must be a string, a bytes-like object or a number, not 'NoneType'"
     ]
    }
   ],
   "source": [
    "BCF.buildExifFeatureFl(\"../data/all_imgs_expt2.csv\",\"../data/imgs_exif_data_expt2.json\")"
   ]
  },
  {
   "cell_type": "code",
   "execution_count": null,
   "metadata": {
    "collapsed": false
   },
   "outputs": [],
   "source": [
    "with open(\"../data/ggr_gid_uuid_exif_ftr_map.json\",\"r\") as inFl:\n",
    "    imgProps = json.load(inFl)"
   ]
  },
  {
   "cell_type": "code",
   "execution_count": null,
   "metadata": {
    "collapsed": false
   },
   "outputs": [],
   "source": [
    "gidExifDf = pd.DataFrame(imgProps).transpose()\n",
    "gidExifDf.reset_index(inplace=True)\n",
    "gidExifDf.columns = ['GID',\"contributor\", 'datetime', 'lat','long' ]\n",
    "# gidExifDf[['GID']] = gidExifDf[['GID']].apply(pd.to_numeric)"
   ]
  },
  {
   "cell_type": "code",
   "execution_count": null,
   "metadata": {
    "collapsed": false
   },
   "outputs": [],
   "source": [
    "with open(\"../FinalResults/rankListImages_expt2.csv\",\"r\") as inFl:\n",
    "    gidResultsDf = pd.DataFrame.from_csv(inFl)\n",
    "    \n",
    "gidResultsDf.reset_index(inplace=True)"
   ]
  },
  {
   "cell_type": "code",
   "execution_count": null,
   "metadata": {
    "collapsed": false
   },
   "outputs": [],
   "source": [
    "df = pd.merge(gidExifDf,gidResultsDf,left_on='GID',right_on='GID')"
   ]
  },
  {
   "cell_type": "code",
   "execution_count": 7,
   "metadata": {
    "collapsed": false
   },
   "outputs": [],
   "source": [
    "d = df.to_dict()['Proportion']\n",
    "bin_shr = {}\n",
    "for key in d.keys():\n",
    "    if d[key] <= 20:\n",
    "        bin_shr[key] = 0\n",
    "    elif d[key] >= 80:\n",
    "        bin_shr[key] = 1\n",
    "        \n",
    "D = df.to_dict()\n",
    "D['bin_shr'] = bin_shr\n",
    "df = pd.DataFrame.from_dict(D)\n",
    "\n",
    "unshared = df[(df['bin_shr'] == 0)]\n",
    "unshared = unshared[['lat','long']]\n",
    "\n",
    "shared = df[(df['bin_shr'] == 1)]\n",
    "shared = shared[['lat','long']]"
   ]
  },
  {
   "cell_type": "code",
   "execution_count": 35,
   "metadata": {
    "collapsed": false
   },
   "outputs": [],
   "source": [
    "shared_lats = list(shared['lat'])\n",
    "shared_longs = list(shared['long'])\n",
    "\n",
    "map_loc = folium.Map(location=[-1.369212, 36.848628],tiles='Stamen Terrain',zoom_start=12)\n",
    "\n",
    "for i in range(0,len(shared_lats)):\n",
    "    folium.Marker([shared_lats[i],shared_longs[i]],\n",
    "              icon=folium.Icon(color='green',icon='info-sign')\n",
    "              ).add_to(map_loc)\n",
    "\n",
    "unshared_lats = list(unshared['lat'])\n",
    "unshared_longs = list(unshared['long'])\n",
    "\n",
    "for i in range(0,len(unshared_lats)):\n",
    "    folium.Marker([unshared_lats[i],unshared_longs[i]],\n",
    "              icon=folium.Icon(color='red',icon='info-sign')\n",
    "              ).add_to(map_loc)\n",
    "    \n",
    "\n",
    "map_loc.save(outfile='../FinalResults/ClickLocations.html')"
   ]
  },
  {
   "cell_type": "code",
   "execution_count": 34,
   "metadata": {
    "collapsed": false
   },
   "outputs": [],
   "source": [
    "# Shared Data Clusters\n",
    "cluster_map = folium.Map(location=[-1.369212, 36.848628],tiles='Stamen Terrain',zoom_start=11)\n",
    "marker_cluster = folium.MarkerCluster(\"Shares\").add_to(cluster_map)\n",
    "\n",
    "for i in range(0,len(shared_lats)):\n",
    "    folium.Marker([shared_lats[i],shared_longs[i]],\n",
    "                  icon=folium.Icon(color='green',icon='info-sign'),\n",
    "                  popup=\"Shared\"\n",
    "                 ).add_to(marker_cluster)\n",
    "    \n",
    "cluster_map.save(outfile='../FinalResults/ShareLocationClusters.html')\n",
    "\n",
    "# Not Shared Data Clusters\n",
    "cluster_map2 = folium.Map(location=[-1.369212, 36.848628],tiles='Stamen Terrain',zoom_start=11)\n",
    "marker_cluster2 = folium.MarkerCluster(\"Not Shares\").add_to(cluster_map2)\n",
    "for i in range(0,len(unshared_lats)):\n",
    "    folium.Marker([unshared_lats[i],unshared_longs[i]],\n",
    "                 icon=folium.Icon(color='red',icon='info-sign'),\n",
    "                  popup=\"Not Shared\"\n",
    "                 ).add_to(marker_cluster2)\n",
    "    \n",
    "\n",
    "cluster_map2.save(outfile='../FinalResults/NotShareLocationClusters.html')"
   ]
  },
  {
   "cell_type": "code",
   "execution_count": 8,
   "metadata": {
    "collapsed": false
   },
   "outputs": [],
   "source": [
    "a,b = list(shared.lat),list(shared.long)\n",
    "c,d = list(unshared.lat),list(unshared.long)\n",
    "locs_shared = [[a[i],b[i]] for i in range(len(a))]\n",
    "locs_unshared = [[c[i],d[i]] for i in range(len(c))]"
   ]
  },
  {
   "cell_type": "code",
   "execution_count": 32,
   "metadata": {
    "collapsed": false
   },
   "outputs": [],
   "source": [
    "heatmap_map = folium.Map(location=[-1.369212, 36.848628],tiles='Stamen Terrain', zoom_start=12)\n",
    "hm = plugins.HeatMap(locs_shared)\n",
    "heatmap_map.add_children(hm)\n",
    "\n",
    "heatmap_map.save(\"../FinalResults/heatMap_Shared.html\")"
   ]
  },
  {
   "cell_type": "code",
   "execution_count": 33,
   "metadata": {
    "collapsed": false
   },
   "outputs": [],
   "source": [
    "heatmap_map = folium.Map(location=[-1.369212, 36.848628],tiles='Stamen Terrain', zoom_start=12)\n",
    "hm = plugins.HeatMap(locs_unshared)\n",
    "heatmap_map.add_children(hm)\n",
    "\n",
    "heatmap_map.save(\"../FinalResults/heatMap_NotShared.html\")"
   ]
  },
  {
   "cell_type": "code",
   "execution_count": 9,
   "metadata": {
    "collapsed": false
   },
   "outputs": [
    {
     "data": {
      "text/html": [
       "<div>\n",
       "<table border=\"1\" class=\"dataframe\">\n",
       "  <thead>\n",
       "    <tr style=\"text-align: right;\">\n",
       "      <th></th>\n",
       "      <th>GID</th>\n",
       "      <th>contributor</th>\n",
       "      <th>datetime</th>\n",
       "      <th>lat</th>\n",
       "      <th>long</th>\n",
       "    </tr>\n",
       "  </thead>\n",
       "  <tbody>\n",
       "    <tr>\n",
       "      <th>0</th>\n",
       "      <td>00035379-6f25-15e1-b984-7a915ae80a2a</td>\n",
       "      <td>GGR,50,A,00220</td>\n",
       "      <td>2016-01-30 14:23:39</td>\n",
       "      <td>0.456715</td>\n",
       "      <td>36.7774</td>\n",
       "    </tr>\n",
       "    <tr>\n",
       "      <th>1</th>\n",
       "      <td>0004a0fc-157d-a44e-9fc0-8ef61a7c756c</td>\n",
       "      <td>GGR,75,D,01268</td>\n",
       "      <td>2016-02-01 10:14:15</td>\n",
       "      <td>-1</td>\n",
       "      <td>-1</td>\n",
       "    </tr>\n",
       "    <tr>\n",
       "      <th>2</th>\n",
       "      <td>0004b3f7-6fe7-4fd3-4dcb-bd180b6da607</td>\n",
       "      <td>GGR,113,A,00123</td>\n",
       "      <td>2016-01-30 13:06:01</td>\n",
       "      <td>0.677527</td>\n",
       "      <td>36.6032</td>\n",
       "    </tr>\n",
       "    <tr>\n",
       "      <th>3</th>\n",
       "      <td>0006f0c6-1dfe-a73c-ec62-a613ce1a1ea7</td>\n",
       "      <td>GGR,20,A,00151</td>\n",
       "      <td>2016-01-31 15:59:07</td>\n",
       "      <td>0.29773</td>\n",
       "      <td>36.934</td>\n",
       "    </tr>\n",
       "    <tr>\n",
       "      <th>4</th>\n",
       "      <td>00074c81-95b2-1d8e-f428-decf62881e8c</td>\n",
       "      <td>GGR,15,A,00242</td>\n",
       "      <td>2016-01-30 09:47:02</td>\n",
       "      <td>0.44139</td>\n",
       "      <td>36.9364</td>\n",
       "    </tr>\n",
       "  </tbody>\n",
       "</table>\n",
       "</div>"
      ],
      "text/plain": [
       "                                    GID      contributor             datetime  \\\n",
       "0  00035379-6f25-15e1-b984-7a915ae80a2a   GGR,50,A,00220  2016-01-30 14:23:39   \n",
       "1  0004a0fc-157d-a44e-9fc0-8ef61a7c756c   GGR,75,D,01268  2016-02-01 10:14:15   \n",
       "2  0004b3f7-6fe7-4fd3-4dcb-bd180b6da607  GGR,113,A,00123  2016-01-30 13:06:01   \n",
       "3  0006f0c6-1dfe-a73c-ec62-a613ce1a1ea7   GGR,20,A,00151  2016-01-31 15:59:07   \n",
       "4  00074c81-95b2-1d8e-f428-decf62881e8c   GGR,15,A,00242  2016-01-30 09:47:02   \n",
       "\n",
       "        lat     long  \n",
       "0  0.456715  36.7774  \n",
       "1        -1       -1  \n",
       "2  0.677527  36.6032  \n",
       "3   0.29773   36.934  \n",
       "4   0.44139  36.9364  "
      ]
     },
     "execution_count": 9,
     "metadata": {},
     "output_type": "execute_result"
    }
   ],
   "source": [
    "gidExifDf.head()"
   ]
  },
  {
   "cell_type": "code",
   "execution_count": 17,
   "metadata": {
    "collapsed": false
   },
   "outputs": [],
   "source": [
    "lat_long = [(lats[i], longs[i]) for i in range(len(gidExifDf)) if lats[i] != -1 and longs[i] != -1]"
   ]
  },
  {
   "cell_type": "code",
   "execution_count": 22,
   "metadata": {
    "collapsed": false
   },
   "outputs": [],
   "source": [
    "heatmap_map = folium.Map(location=[-1.369212, 36.848628],tiles='Stamen Terrain', zoom_start=12)\n",
    "hm = plugins.HeatMap(lat_long)\n",
    "heatmap_map.add_children(hm)\n",
    "\n",
    "heatmap_map.save(\"/tmp/heatMap_GGR.html\")"
   ]
  },
  {
   "cell_type": "code",
   "execution_count": null,
   "metadata": {
    "collapsed": true
   },
   "outputs": [],
   "source": []
  }
 ],
 "metadata": {
  "kernelspec": {
   "display_name": "Python 3",
   "language": "python",
   "name": "python3"
  },
  "language_info": {
   "codemirror_mode": {
    "name": "ipython",
    "version": 3
   },
   "file_extension": ".py",
   "mimetype": "text/x-python",
   "name": "python",
   "nbconvert_exporter": "python",
   "pygments_lexer": "ipython3",
   "version": "3.5.2"
  }
 },
 "nbformat": 4,
 "nbformat_minor": 0
}
