{
 "cells": [
  {
   "cell_type": "markdown",
   "metadata": {},
   "source": [
    "image analysis running on the server \"lev\", sharing the basic same data.  presently, the IA port is not exposed, but in interest of time, i am making a \"pass-through\" access to the IA api via a WB api call.  (this is ultimately the model we want to use in production, so that wildbook can handle security and other issues, but as you will see, i have kind of done a very generic hack version of the same concept.)   this consists of a small wb api \"wrapper\" call around the call you actually wish to be making of the IA data.  perhaps examples would demonstrate best:\n",
    "\n",
    "IA call:  /api/annot/image/contributor/tag/json/?annot_uuid_list=[{\"__UUID__\":\"8b595dc0-9c5a-4caf-9703-9f8ff017e824\"}]\n",
    "becomes: http://lev.cs.rpi.edu:8080/ggr/ia?passthru=/api/annot/image/contributor/tag/json/&arg=annot_uuid_list%3D[{%22__UUID__%22:%228b595dc0-9c5a-4caf-9703-9f8ff017e824%22}]\n",
    "\n",
    "IA call:  /api/annot/age/months/json/?annot_uuid_list=[{\"__UUID__\":\"8b595dc0-9c5a-4caf-9703-9f8ff017e824\"}]\n",
    "becomes:  http://lev.cs.rpi.edu:8080/ggr/ia?passthru=/api/annot/age/months/json/&arg=annot_uuid_list%3D[{%22__UUID__%22:%228b595dc0-9c5a-4caf-9703-9f8ff017e824%22}]\n",
    "\n",
    "in other words, you pass two parameters, passthru and arg, which are just uri-encoded strings that represent the two sides of the \"?\" in the original call.  (note that arg is optional.)  the two examples above are \"live\", in the sense that you can click them and should get the json results as expected.\n",
    "\n",
    "this should, technically, get you to any existing IA api call (provided i had jason p turn on all the right ones)... at least the ones that use GET.  if you need any POST queries, let me know and i can pass those through as well."
   ]
  },
  {
   "cell_type": "code",
   "execution_count": 79,
   "metadata": {
    "collapsed": true
   },
   "outputs": [],
   "source": [
    "import requests\n",
    "import urllib\n",
    "from collections import OrderedDict"
   ]
  },
  {
   "cell_type": "code",
   "execution_count": null,
   "metadata": {
    "collapsed": true
   },
   "outputs": [],
   "source": [
    "## /api/annot/image/contributor/tag/json/?annot_uuid_list=[{\"__UUID__\":\"8b595dc0-9c5a-4caf-9703-9f8ff017e824\"}]\n",
    "\n",
    "DOMAIN = 'http://lev.cs.rpi.edu:8080/ggr//ia'\n",
    "\n",
    "param = urllib.parse.quote('annot_uuid_list=') + '[{' + urllib.parse.quote('\"__UUID__\"') + ':' +urllib.parse.quote('\"8b595dc0-9c5a-4caf-9703-9f8ff017e824\"') + '}]'\n",
    "# param = urllib.parse.urlencode(param) "
   ]
  },
  {
   "cell_type": "code",
   "execution_count": 262,
   "metadata": {
    "collapsed": false
   },
   "outputs": [],
   "source": [
    "payload = OrderedDict([('passthru', u'/apaaaai///annot/age/months/json/'), \n",
    "                ('asdasarg', param)]) \n",
    "response = requests.get(baseurl , \n",
    "                        params = payload \n",
    "                        )"
   ]
  },
  {
   "cell_type": "code",
   "execution_count": 258,
   "metadata": {
    "collapsed": false
   },
   "outputs": [
    {
     "data": {
      "text/plain": [
       "'/ggr/ia?passthru=%2Fapaaaai%2F%2F%2Fannot%2Fage%2Fmonths%2Fjson%2F&asdasarg=annot_uuid_list%253D%5B%7B%2522__UUID__%2522%3A%25228b595dc0-9c5a-4caf-9703-9f8ff017e824%2522%7D%5D'"
      ]
     },
     "execution_count": 258,
     "metadata": {},
     "output_type": "execute_result"
    }
   ],
   "source": [
    "response.request.path_url"
   ]
  },
  {
   "cell_type": "code",
   "execution_count": 277,
   "metadata": {
    "collapsed": false
   },
   "outputs": [],
   "source": [
    "url = DOMAIN + '?passthru=' + '/api/annot/age/months/json/' + '&arg=' + ggr_form_arg(\"8b595dc0-9c5a-4caf-9703-9f8ff017e824\")"
   ]
  },
  {
   "cell_type": "code",
   "execution_count": 279,
   "metadata": {
    "collapsed": false
   },
   "outputs": [],
   "source": [
    "res = requests.get(url)\n"
   ]
  },
  {
   "cell_type": "code",
   "execution_count": 280,
   "metadata": {
    "collapsed": false
   },
   "outputs": [
    {
     "data": {
      "text/plain": [
       "{'results': [[6, 11]], 'success': True}"
      ]
     },
     "execution_count": 280,
     "metadata": {},
     "output_type": "execute_result"
    }
   ],
   "source": [
    "res.json()"
   ]
  },
  {
   "cell_type": "code",
   "execution_count": 251,
   "metadata": {
    "collapsed": true
   },
   "outputs": [],
   "source": [
    "assert response.ok"
   ]
  },
  {
   "cell_type": "code",
   "execution_count": 267,
   "metadata": {
    "collapsed": false
   },
   "outputs": [
    {
     "data": {
      "text/plain": [
       "'\"abcd\"'"
      ]
     },
     "execution_count": 267,
     "metadata": {},
     "output_type": "execute_result"
    }
   ],
   "source": [
    "s = \"abcd\"\n",
    "\n",
    "'\\\"%s\\\"' %s"
   ]
  },
  {
   "cell_type": "code",
   "execution_count": 275,
   "metadata": {
    "collapsed": false
   },
   "outputs": [],
   "source": [
    "ggr_form_arg = lambda x : urllib.parse.quote('annot_uuid_list=') + '[{' + urllib.parse.quote('\"__UUID__\"') + ':' + urllib.parse.quote('\\\"%s\\\"' %x) + '}]'"
   ]
  },
  {
   "cell_type": "code",
   "execution_count": null,
   "metadata": {
    "collapsed": true
   },
   "outputs": [],
   "source": []
  },
  {
   "cell_type": "code",
   "execution_count": 1,
   "metadata": {
    "collapsed": false
   },
   "outputs": [
    {
     "data": {
      "text/plain": [
       "<module 'GetPropertiesAPI' from '/Users/sreejithmenon/Google Drive/CodeBase/AWESOME/script/GetPropertiesAPI.py'>"
      ]
     },
     "execution_count": 1,
     "metadata": {},
     "output_type": "execute_result"
    }
   ],
   "source": [
    "import UploadAndDetectIBEIS as UD, uuid\n",
    "import requests, json, datetime, urllib, importlib\n",
    "importlib.reload(UD)\n",
    "\n",
    "import GetPropertiesAPI as GP\n",
    "importlib.reload(GP)"
   ]
  },
  {
   "cell_type": "code",
   "execution_count": null,
   "metadata": {
    "collapsed": true
   },
   "outputs": [],
   "source": [
    "data_dict = {\n",
    "        'gid_list': [1],\n",
    "    }\n",
    "image_uuid_list = UD.get('api/image/uuid', data_dict)\n",
    "image_uuid_dict = image_uuid_list[0]\n",
    "image_uuid = uuid.UUID(image_uuid_dict['__UUID__'])\n",
    "\n",
    "data_dict = {\n",
    "    'query_annot_uuid_list' : [1],\n",
    "    'query_annot_name_list' : [image_uuid]\n",
    "    \n",
    "}\n",
    "res = requests.get('http://pachy.cs.uic.edu:5000/api/engine/query/graph/', data = data_dict)\n",
    "res.json()"
   ]
  },
  {
   "cell_type": "code",
   "execution_count": 190,
   "metadata": {
    "collapsed": false
   },
   "outputs": [
    {
     "name": "stdout",
     "output_type": "stream",
     "text": [
      "http://pachy.cs.uic.edu:5001/api/annot/uuid/\n",
      "{'response': [{'__UUID__': '2637b5e7-2a41-4aea-9dbd-dfe186cc8c8c'}], 'status': {'cache': -1, 'code': 200, 'message': '', 'success': True}}\n"
     ]
    },
    {
     "data": {
      "text/plain": [
       "[{'__UUID__': '2637b5e7-2a41-4aea-9dbd-dfe186cc8c8c'}]"
      ]
     },
     "execution_count": 190,
     "metadata": {},
     "output_type": "execute_result"
    }
   ],
   "source": [
    "data_dict = {\n",
    "        'aid_list': [1],\n",
    "    }\n",
    "image_uuid_list = UD.get('api/annot/uuid', data_dict)\n",
    "image_uuid_list"
   ]
  },
  {
   "cell_type": "code",
   "execution_count": 93,
   "metadata": {
    "collapsed": false
   },
   "outputs": [
    {
     "name": "stdout",
     "output_type": "stream",
     "text": [
      "{'response': [{'__UUID__': '2637b5e7-2a41-4aea-9dbd-dfe186cc8c8c'}], 'status': {'cache': -1, 'code': 200, 'message': '', 'success': True}}\n",
      "{'response': [{'__UUID__': '4abaab8a-8ff3-4142-acbb-226fcac615f1'}], 'status': {'cache': -1, 'code': 200, 'message': '', 'success': True}}\n"
     ]
    }
   ],
   "source": [
    "res = requests.get('http://pachy.cs.uic.edu:5001/api/annot/uuid/', \n",
    "                   data = dict(aid_list=['1']))\n",
    "\n",
    "\n",
    "print(res.json())\n",
    "\n",
    "res = requests.get('http://pachy.cs.uic.edu:5000/api/annot/uuid/', \n",
    "                   data = dict(aid_list=['15441']))\n",
    "\n",
    "\n",
    "print(res.json())"
   ]
  },
  {
   "cell_type": "code",
   "execution_count": 149,
   "metadata": {
    "collapsed": true
   },
   "outputs": [],
   "source": [
    "url = \"http://pachy.cs.uic.edu:5001/api/engine/query/graph/\"\n",
    "data_dict = {\n",
    "    'query_annot_uuid_list' : json.dumps([{'__UUID__': '2637b5e7-2a41-4aea-9dbd-dfe186cc8c8c'}]),\n",
    "}\n",
    "response = requests.request('POST', url, data=data_dict)"
   ]
  },
  {
   "cell_type": "code",
   "execution_count": 152,
   "metadata": {
    "collapsed": false
   },
   "outputs": [
    {
     "data": {
      "text/plain": [
       "{'response': 'jobid-1713',\n",
       " 'status': {'cache': -1, 'code': 200, 'message': '', 'success': True}}"
      ]
     },
     "execution_count": 152,
     "metadata": {},
     "output_type": "execute_result"
    }
   ],
   "source": [
    "response.json()"
   ]
  },
  {
   "cell_type": "code",
   "execution_count": 161,
   "metadata": {
    "collapsed": false
   },
   "outputs": [
    {
     "data": {
      "text/plain": [
       "{'annot_uuid_list': [{'__UUID__': '50911e26-59ec-477e-adc7-20eac7208cb3'},\n",
       "  {'__UUID__': '2637b5e7-2a41-4aea-9dbd-dfe186cc8c8c'},\n",
       "  {'__UUID__': '814abf6d-9237-45b5-a389-2b8031eb7572'}],\n",
       " 'error_flag_list': [['merge'], ['merge'], ['merge']],\n",
       " 'exemplar_flag_list': [False, True, False],\n",
       " 'new_name_list': ['NEWNAME_1', 'NEWNAME_1', 'NEWNAME_1'],\n",
       " 'orig_name_list': ['NEWNAME_-1796', 'NEWNAME_-1', 'NEWNAME_-1353']}"
      ]
     },
     "execution_count": 161,
     "metadata": {},
     "output_type": "execute_result"
    }
   ],
   "source": [
    "d['json_result']['inference_dict']['cluster_dict']"
   ]
  },
  {
   "cell_type": "code",
   "execution_count": 163,
   "metadata": {
    "collapsed": false
   },
   "outputs": [
    {
     "data": {
      "text/plain": [
       "{'confidence_list': [0.9374784921383149,\n",
       "  0.9999999942117608,\n",
       "  0.9999999999999716,\n",
       "  1.0],\n",
       " 'review_pair_list': [{'annot_uuid_1': {'__UUID__': '2637b5e7-2a41-4aea-9dbd-dfe186cc8c8c'},\n",
       "   'annot_uuid_2': {'__UUID__': '843e805c-3df9-4b1a-b2b3-6e363aa1f92e'},\n",
       "   'annot_uuid_key': {'__UUID__': '2637b5e7-2a41-4aea-9dbd-dfe186cc8c8c'},\n",
       "   'prior_matching_state': {'p_match': 0.9841173649380682,\n",
       "    'p_nomatch': 0.01588263506193177,\n",
       "    'p_notcomp': 0.0}},\n",
       "  {'annot_uuid_1': {'__UUID__': '2637b5e7-2a41-4aea-9dbd-dfe186cc8c8c'},\n",
       "   'annot_uuid_2': {'__UUID__': '7b8b2967-beab-4399-b572-d70faeda7b33'},\n",
       "   'annot_uuid_key': {'__UUID__': '2637b5e7-2a41-4aea-9dbd-dfe186cc8c8c'},\n",
       "   'prior_matching_state': {'p_match': 0.9999999985529402,\n",
       "    'p_nomatch': 1.4470598053151207e-09,\n",
       "    'p_notcomp': 0.0}},\n",
       "  {'annot_uuid_1': {'__UUID__': '2637b5e7-2a41-4aea-9dbd-dfe186cc8c8c'},\n",
       "   'annot_uuid_2': {'__UUID__': '50911e26-59ec-477e-adc7-20eac7208cb3'},\n",
       "   'annot_uuid_key': {'__UUID__': '2637b5e7-2a41-4aea-9dbd-dfe186cc8c8c'},\n",
       "   'prior_matching_state': {'p_match': 0.9999999999999929,\n",
       "    'p_nomatch': 7.105427357601002e-15,\n",
       "    'p_notcomp': 0.0}},\n",
       "  {'annot_uuid_1': {'__UUID__': '2637b5e7-2a41-4aea-9dbd-dfe186cc8c8c'},\n",
       "   'annot_uuid_2': {'__UUID__': '814abf6d-9237-45b5-a389-2b8031eb7572'},\n",
       "   'annot_uuid_key': {'__UUID__': '2637b5e7-2a41-4aea-9dbd-dfe186cc8c8c'},\n",
       "   'prior_matching_state': {'p_match': 1.0,\n",
       "    'p_nomatch': 0.0,\n",
       "    'p_notcomp': 0.0}}]}"
      ]
     },
     "execution_count": 163,
     "metadata": {},
     "output_type": "execute_result"
    }
   ],
   "source": [
    "d['json_result']['inference_dict']['annot_pair_dict']"
   ]
  },
  {
   "cell_type": "code",
   "execution_count": 244,
   "metadata": {
    "collapsed": false
   },
   "outputs": [],
   "source": [
    "data_dict = {\n",
    "    \"aid_list\" : ['5'],\n",
    "    \"name_list\" : ['2']\n",
    "}\n",
    "d = UD.put(\"api/annot/name\", data_dict)"
   ]
  },
  {
   "cell_type": "code",
   "execution_count": 223,
   "metadata": {
    "collapsed": false
   },
   "outputs": [],
   "source": [
    "def run_id_pipeline(aid): # ID'ing task for each annotation\n",
    "    # step 1: get annot_uuid\n",
    "    data_dict = {\n",
    "        'aid_list': [aid],\n",
    "    }\n",
    "    annot_uuid_list = UD.get('api/annot/uuid', data_dict)\n",
    "\n",
    "    # step 2: for the given annot UUID run the detection against all the available annots\n",
    "    data_dict = {\n",
    "        'query_annot_uuid_list' : json.dumps([annot_uuid_list[0]])\n",
    "    }\n",
    "    response = requests.request('POST', url, data=data_dict)\n",
    "\n",
    "    try:\n",
    "        assert response.json()['status']['success']\n",
    "    except AssertionError:\n",
    "        print(\"RUN_ID_PIPELINE failed for annotation_id %i\" %aid)\n",
    "\n",
    "    jobid_str = response.json()['response']\n",
    "\n",
    "    while not UD.check_job_status(jobid_str):\n",
    "        print(\"Waiting..\")\n",
    "        time.sleep(5)\n",
    "\n",
    "    # step 3: Job execution must have successfully completed at this point and now we extract the needed information\n",
    "    data_dict = {\n",
    "        'jobid' : jobid_str\n",
    "    }\n",
    "\n",
    "    result = UD.get(\"api/engine/job/result\", data_dict)['json_result']['inference_dict']['cluster_dict']\n",
    "\n",
    "\n",
    "    return result"
   ]
  },
  {
   "cell_type": "code",
   "execution_count": 224,
   "metadata": {
    "collapsed": false
   },
   "outputs": [
    {
     "name": "stdout",
     "output_type": "stream",
     "text": [
      "Waiting..\n"
     ]
    }
   ],
   "source": [
    "r = run_id_pipeline(1)"
   ]
  },
  {
   "cell_type": "code",
   "execution_count": 200,
   "metadata": {
    "collapsed": false
   },
   "outputs": [
    {
     "data": {
      "text/plain": [
       "'[{\"__UUID__\": \"2637b5e7-2a41-4aea-9dbd-dfe186cc8c8c\"}]'"
      ]
     },
     "execution_count": 200,
     "metadata": {},
     "output_type": "execute_result"
    }
   ],
   "source": [
    "json.dumps([{'__UUID__': '2637b5e7-2a41-4aea-9dbd-dfe186cc8c8c'}])"
   ]
  },
  {
   "cell_type": "code",
   "execution_count": 227,
   "metadata": {
    "collapsed": false
   },
   "outputs": [
    {
     "data": {
      "text/plain": [
       "['NEWNAME_-1796', '1', 'NEWNAME_-1353']"
      ]
     },
     "execution_count": 227,
     "metadata": {},
     "output_type": "execute_result"
    }
   ],
   "source": [
    "r['orig_name_list']"
   ]
  },
  {
   "cell_type": "code",
   "execution_count": 208,
   "metadata": {
    "collapsed": false
   },
   "outputs": [],
   "source": [
    "req_status = r.json()['status']['success']"
   ]
  },
  {
   "cell_type": "code",
   "execution_count": 216,
   "metadata": {
    "collapsed": false
   },
   "outputs": [],
   "source": [
    "time.sleep(5)"
   ]
  },
  {
   "cell_type": "code",
   "execution_count": 215,
   "metadata": {
    "collapsed": true
   },
   "outputs": [],
   "source": [
    "import time"
   ]
  },
  {
   "cell_type": "code",
   "execution_count": 43,
   "metadata": {
    "collapsed": false
   },
   "outputs": [],
   "source": [
    "data_dict = {\n",
    "    'name_rowid_list' : [1]\n",
    "}\n",
    "\n",
    "\n",
    "UD.delete('api/name', data_dict)"
   ]
  },
  {
   "cell_type": "code",
   "execution_count": 40,
   "metadata": {
    "collapsed": false
   },
   "outputs": [],
   "source": [
    "def run_id_pipeline(gidRange):\n",
    "    gid_aid_map = {}\n",
    "\n",
    "    for gid in gidRange:\n",
    "        aid = GP.getAnnotID(int(gid))\n",
    "        gid_aid_map[gid] = [aid][0]\n",
    "\n",
    "    aid_list = [item for sublist in gid_aid_map.values() for item in sublist if len(sublist) > 0] # flatten out the list of lists, exclude ones with no annotation\n",
    "\n",
    "    len(aid_list)\n",
    "    for aid in aid_list:\n",
    "        print(\"Running ID detection for aid %s\" %aid)"
   ]
  },
  {
   "cell_type": "code",
   "execution_count": 41,
   "metadata": {
    "collapsed": false
   },
   "outputs": [
    {
     "name": "stdout",
     "output_type": "stream",
     "text": [
      "Running ID detection for aid 2047\n"
     ]
    }
   ],
   "source": [
    "run_id_pipeline(range(1,1702))"
   ]
  },
  {
   "cell_type": "code",
   "execution_count": 12,
   "metadata": {
    "collapsed": false
   },
   "outputs": [],
   "source": [
    "with open(\"../data/fileURLS_old.dat\", \"r\") as old:\n",
    "    old_l = old.read().split(\"\\n\")\n",
    "    \n",
    "with open(\"../data/fileURLS.dat\", \"r\") as new:\n",
    "    new_l = new.read().split(\"\\n\")"
   ]
  },
  {
   "cell_type": "code",
   "execution_count": 17,
   "metadata": {
    "collapsed": false
   },
   "outputs": [],
   "source": [
    "new_l = list(set(new_l) - set(old_l))\n",
    "\n",
    "\n",
    "with open(\"../data/fileURLs.dat\", \"w\") as new:\n",
    "    new.write(\"\\n\".join(new_l))"
   ]
  },
  {
   "cell_type": "code",
   "execution_count": 42,
   "metadata": {
    "collapsed": false
   },
   "outputs": [
    {
     "data": {
      "text/plain": [
       "2047"
      ]
     },
     "execution_count": 42,
     "metadata": {},
     "output_type": "execute_result"
    }
   ],
   "source": [
    "GP.getAnnotID(int(gid))[0]"
   ]
  },
  {
   "cell_type": "markdown",
   "metadata": {},
   "source": [
    "### Extracting GID-AID map and then UUID : AID map "
   ]
  },
  {
   "cell_type": "code",
   "execution_count": 19,
   "metadata": {
    "collapsed": false
   },
   "outputs": [],
   "source": [
    "allGID = list(range(1,1702))\n",
    "\n",
    "GidAidMap = {}\n",
    "for gid in allGID:\n",
    "    aid = GP.getAnnotID(int(gid))\n",
    "    GidAidMap[gid] = [aid][0]"
   ]
  },
  {
   "cell_type": "code",
   "execution_count": 22,
   "metadata": {
    "collapsed": false
   },
   "outputs": [],
   "source": [
    "GidAidMap = {gid : GidAidMap[gid][0] for gid in GidAidMap.keys()}"
   ]
  },
  {
   "cell_type": "code",
   "execution_count": 28,
   "metadata": {
    "collapsed": false
   },
   "outputs": [],
   "source": [
    "aid_list = [item for sublist in GidAidMap.values() for item in sublist if len(sublist) > 0]\n",
    "\n",
    "UUID = GP.getImageFeature(aid_list, \"uuid\")"
   ]
  },
  {
   "cell_type": "code",
   "execution_count": 34,
   "metadata": {
    "collapsed": false
   },
   "outputs": [],
   "source": [
    "uuid_aid_map = {UUID[i][\"__UUID__\"] : aid_list[i] for i in range(len(UUID))}"
   ]
  },
  {
   "cell_type": "code",
   "execution_count": 31,
   "metadata": {
    "collapsed": false
   },
   "outputs": [
    {
     "data": {
      "text/plain": [
       "(2047, 2047)"
      ]
     },
     "execution_count": 31,
     "metadata": {},
     "output_type": "execute_result"
    }
   ],
   "source": [
    "len(UUID), len(aid_list)"
   ]
  },
  {
   "cell_type": "code",
   "execution_count": 36,
   "metadata": {
    "collapsed": false
   },
   "outputs": [],
   "source": [
    "with open(\"Flick_UUID_AID_map.json\", \"w\") as mapFl:\n",
    "    json.dump(uuid_aid_map, mapFl, indent=4)"
   ]
  },
  {
   "cell_type": "code",
   "execution_count": 46,
   "metadata": {
    "collapsed": true
   },
   "outputs": [],
   "source": [
    "def run_id_detection(aid): # ID'ing task for each annotation\n",
    "    # step 1: get annot_uuid -- this can be done offline too\n",
    "    data_dict = {\n",
    "        'aid_list': [aid],\n",
    "    }\n",
    "    annot_uuid_list = UD.get('api/annot/uuid', data_dict)\n",
    "\n",
    "    # step 2: for the given annot UUID run the detection against all the available annots\n",
    "    url = \"http://pachy.cs.uic.edu:5001/api/engine/query/graph/\"\n",
    "    data_dict = {\n",
    "        'query_annot_uuid_list' : json.dumps([annot_uuid_list[0]])\n",
    "    }\n",
    "    response = requests.request('POST', url, data=data_dict)\n",
    "\n",
    "    print(\"Query submitted..!\")\n",
    "\n",
    "    try:\n",
    "        assert response.json()['status']['success']\n",
    "    except AssertionError:\n",
    "        print(\"RUN_ID_PIPELINE failed for annotation_id %i\" %aid)\n",
    "\n",
    "    jobid_str = response.json()['response']\n",
    "    print(\"Job ID: %s\" %jobid_str)\n",
    "\n",
    "    error_time = 300\n",
    "    start = 0\n",
    "    while not UD.check_job_status(jobid_str) and start < error_time:\n",
    "        print(\"Waiting for job completion..!\")\n",
    "        start += 5\n",
    "        time.sleep(5)\n",
    "\n",
    "    try:\n",
    "        assert check_job_status(jobid_str)\n",
    "    except AssertionError:\n",
    "        print(\"RUN_ID_PIPELINE failed for annotation_id %i\" %aid)\n",
    "\n",
    "    print(\"Query complete..!\")\n",
    "\n",
    "    # step 3: Job execution must have successfully completed at this point and now we extract the needed information\n",
    "    data_dict = {\n",
    "        'jobid' : jobid_str\n",
    "    }\n",
    "\n",
    "    result = get(\"api/engine/job/result\", data_dict)['json_result']['inference_dict']['cluster_dict']\n",
    "    return result\n",
    "    with open(\"../data/Flick_UUID_AID_map.json\", \"r\") as uuid_aid_map_json:\n",
    "        uuid_aid_map = json.load(uuid_aid_map_json)\n",
    "\n",
    "    # check if there is a previously assigned name, if no name is assigned just assign the new_name_\"n\"\n",
    "    name = None\n",
    "    for i in range(len(result['orig_name_list'])):\n",
    "        if 'NEWNAME' not in result['orig_name_list'][i]:\n",
    "            # this i has been previously assigned a name\n",
    "            name = result['orig_name_list'][i]\n",
    "\n",
    "    if name == None:\n",
    "        name = re.findall(r'NEWNAME_(\\d+)', result['new_name_list'][0])[0]\n",
    "\n",
    "    # make the final assignment\n",
    "    for annot_uuid_dict in result['annot_uuid_list']:\n",
    "        aid = uuid_aid_map[annot_uuid_dict[\"__UUID__\"]]\n",
    "\n",
    "        data_dict = {\n",
    "            \"aid_list\" : [aid],\n",
    "            \"name_list\" : [name]\n",
    "        }\n",
    "\n",
    "        r = put(\"api/annot/name\", data_dict)\n",
    "    \n",
    "    print(\"IDing complete for AID %s \\n\" %aid)\n",
    "    return 0"
   ]
  },
  {
   "cell_type": "code",
   "execution_count": 47,
   "metadata": {
    "collapsed": false
   },
   "outputs": [
    {
     "name": "stdout",
     "output_type": "stream",
     "text": [
      "Query submitted..!\n",
      "Job ID: jobid-1735\n"
     ]
    },
    {
     "ename": "NameError",
     "evalue": "name 'check_job_status' is not defined",
     "output_type": "error",
     "traceback": [
      "\u001b[0;31m---------------------------------------------------------------------------\u001b[0m",
      "\u001b[0;31mNameError\u001b[0m                                 Traceback (most recent call last)",
      "\u001b[0;32m<ipython-input-47-eb749a6364a7>\u001b[0m in \u001b[0;36m<module>\u001b[0;34m()\u001b[0m\n\u001b[0;32m----> 1\u001b[0;31m \u001b[0mrun_id_detection\u001b[0m\u001b[0;34m(\u001b[0m\u001b[0;36m6\u001b[0m\u001b[0;34m)\u001b[0m\u001b[0;34m\u001b[0m\u001b[0m\n\u001b[0m",
      "\u001b[0;32m<ipython-input-46-45511c3ebd99>\u001b[0m in \u001b[0;36mrun_id_detection\u001b[0;34m(aid)\u001b[0m\n\u001b[1;32m     25\u001b[0m     \u001b[0merror_time\u001b[0m \u001b[0;34m=\u001b[0m \u001b[0;36m300\u001b[0m\u001b[0;34m\u001b[0m\u001b[0m\n\u001b[1;32m     26\u001b[0m     \u001b[0mstart\u001b[0m \u001b[0;34m=\u001b[0m \u001b[0;36m0\u001b[0m\u001b[0;34m\u001b[0m\u001b[0m\n\u001b[0;32m---> 27\u001b[0;31m     \u001b[0;32mwhile\u001b[0m \u001b[0;32mnot\u001b[0m \u001b[0mcheck_job_status\u001b[0m\u001b[0;34m(\u001b[0m\u001b[0mjobid_str\u001b[0m\u001b[0;34m)\u001b[0m \u001b[0;32mand\u001b[0m \u001b[0mstart\u001b[0m \u001b[0;34m<\u001b[0m \u001b[0merror_time\u001b[0m\u001b[0;34m:\u001b[0m\u001b[0;34m\u001b[0m\u001b[0m\n\u001b[0m\u001b[1;32m     28\u001b[0m         \u001b[0mprint\u001b[0m\u001b[0;34m(\u001b[0m\u001b[0;34m\"Waiting for job completion..!\"\u001b[0m\u001b[0;34m)\u001b[0m\u001b[0;34m\u001b[0m\u001b[0m\n\u001b[1;32m     29\u001b[0m         \u001b[0mstart\u001b[0m \u001b[0;34m+=\u001b[0m \u001b[0;36m5\u001b[0m\u001b[0;34m\u001b[0m\u001b[0m\n",
      "\u001b[0;31mNameError\u001b[0m: name 'check_job_status' is not defined"
     ]
    }
   ],
   "source": [
    "run_id_detection(6)"
   ]
  },
  {
   "cell_type": "code",
   "execution_count": 49,
   "metadata": {
    "collapsed": false
   },
   "outputs": [],
   "source": [
    "data_dict = {\n",
    "        'jobid' : 'jobid-1735'\n",
    "}\n",
    "\n",
    "result = UD.get(\"api/engine/job/result\", data_dict)['json_result']['inference_dict']['cluster_dict']\n"
   ]
  },
  {
   "cell_type": "code",
   "execution_count": 50,
   "metadata": {
    "collapsed": false
   },
   "outputs": [
    {
     "data": {
      "text/plain": [
       "{'annot_uuid_list': [{'__UUID__': '0fcfd22d-4e1d-437e-8629-366ec6ce1342'}],\n",
       " 'error_flag_list': [[]],\n",
       " 'exemplar_flag_list': [True],\n",
       " 'new_name_list': ['NEWNAME_-6'],\n",
       " 'orig_name_list': ['NEWNAME_-6']}"
      ]
     },
     "execution_count": 50,
     "metadata": {},
     "output_type": "execute_result"
    }
   ],
   "source": [
    "result"
   ]
  },
  {
   "cell_type": "code",
   "execution_count": 55,
   "metadata": {
    "collapsed": false
   },
   "outputs": [],
   "source": [
    "for i in range(len(result['orig_name_list'])):\n",
    "    if 'NEWNAME' not in result['orig_name_list'][i]:\n",
    "     # this i has been previously assigned a name\n",
    "        name = result['orig_name_list'][i]\n",
    "        \n",
    "import re"
   ]
  },
  {
   "cell_type": "code",
   "execution_count": 57,
   "metadata": {
    "collapsed": false
   },
   "outputs": [
    {
     "ename": "TypeError",
     "evalue": "expected string or bytes-like object",
     "output_type": "error",
     "traceback": [
      "\u001b[0;31m---------------------------------------------------------------------------\u001b[0m",
      "\u001b[0;31mTypeError\u001b[0m                                 Traceback (most recent call last)",
      "\u001b[0;32m<ipython-input-57-72502e86d388>\u001b[0m in \u001b[0;36m<module>\u001b[0;34m()\u001b[0m\n\u001b[0;32m----> 1\u001b[0;31m \u001b[0mname\u001b[0m \u001b[0;34m=\u001b[0m \u001b[0mre\u001b[0m\u001b[0;34m.\u001b[0m\u001b[0mfindall\u001b[0m\u001b[0;34m(\u001b[0m\u001b[0;34mr'NEWNAME_(\\d+)'\u001b[0m\u001b[0;34m,\u001b[0m \u001b[0mresult\u001b[0m\u001b[0;34m[\u001b[0m\u001b[0;34m'new_name_list'\u001b[0m\u001b[0;34m]\u001b[0m\u001b[0;34m)\u001b[0m\u001b[0;34m[\u001b[0m\u001b[0;36m0\u001b[0m\u001b[0;34m]\u001b[0m\u001b[0;34m\u001b[0m\u001b[0m\n\u001b[0m",
      "\u001b[0;32m/Users/sreejithmenon/anaconda/lib/python3.5/re.py\u001b[0m in \u001b[0;36mfindall\u001b[0;34m(pattern, string, flags)\u001b[0m\n\u001b[1;32m    211\u001b[0m \u001b[0;34m\u001b[0m\u001b[0m\n\u001b[1;32m    212\u001b[0m     Empty matches are included in the result.\"\"\"\n\u001b[0;32m--> 213\u001b[0;31m     \u001b[0;32mreturn\u001b[0m \u001b[0m_compile\u001b[0m\u001b[0;34m(\u001b[0m\u001b[0mpattern\u001b[0m\u001b[0;34m,\u001b[0m \u001b[0mflags\u001b[0m\u001b[0;34m)\u001b[0m\u001b[0;34m.\u001b[0m\u001b[0mfindall\u001b[0m\u001b[0;34m(\u001b[0m\u001b[0mstring\u001b[0m\u001b[0;34m)\u001b[0m\u001b[0;34m\u001b[0m\u001b[0m\n\u001b[0m\u001b[1;32m    214\u001b[0m \u001b[0;34m\u001b[0m\u001b[0m\n\u001b[1;32m    215\u001b[0m \u001b[0;32mdef\u001b[0m \u001b[0mfinditer\u001b[0m\u001b[0;34m(\u001b[0m\u001b[0mpattern\u001b[0m\u001b[0;34m,\u001b[0m \u001b[0mstring\u001b[0m\u001b[0;34m,\u001b[0m \u001b[0mflags\u001b[0m\u001b[0;34m=\u001b[0m\u001b[0;36m0\u001b[0m\u001b[0;34m)\u001b[0m\u001b[0;34m:\u001b[0m\u001b[0;34m\u001b[0m\u001b[0m\n",
      "\u001b[0;31mTypeError\u001b[0m: expected string or bytes-like object"
     ]
    }
   ],
   "source": [
    "name = re.findall(r'NEWNAME_(\\d+)', result['new_name_list'])[0]"
   ]
  },
  {
   "cell_type": "code",
   "execution_count": 59,
   "metadata": {
    "collapsed": false
   },
   "outputs": [
    {
     "data": {
      "text/plain": [
       "'NEWNAME_-6'"
      ]
     },
     "execution_count": 59,
     "metadata": {},
     "output_type": "execute_result"
    }
   ],
   "source": [
    "result['new_name_list'][0]"
   ]
  },
  {
   "cell_type": "code",
   "execution_count": 60,
   "metadata": {
    "collapsed": false
   },
   "outputs": [
    {
     "data": {
      "text/plain": [
       "[]"
      ]
     },
     "execution_count": 60,
     "metadata": {},
     "output_type": "execute_result"
    }
   ],
   "source": [
    "re.findall(r'NEWNAME_(\\d+)', 'NEWNAME_-6')"
   ]
  },
  {
   "cell_type": "code",
   "execution_count": 62,
   "metadata": {
    "collapsed": false
   },
   "outputs": [],
   "source": [
    "import os"
   ]
  },
  {
   "cell_type": "code",
   "execution_count": 63,
   "metadata": {
    "collapsed": false
   },
   "outputs": [
    {
     "data": {
      "text/plain": [
       "'filname.txt'"
      ]
     },
     "execution_count": 63,
     "metadata": {},
     "output_type": "execute_result"
    }
   ],
   "source": [
    "os.path.basename('filname.txt')"
   ]
  },
  {
   "cell_type": "code",
   "execution_count": null,
   "metadata": {
    "collapsed": true
   },
   "outputs": [],
   "source": []
  }
 ],
 "metadata": {
  "kernelspec": {
   "display_name": "Python 3",
   "language": "python",
   "name": "python3"
  },
  "language_info": {
   "codemirror_mode": {
    "name": "ipython",
    "version": 3
   },
   "file_extension": ".py",
   "mimetype": "text/x-python",
   "name": "python",
   "nbconvert_exporter": "python",
   "pygments_lexer": "ipython3",
   "version": "3.5.2"
  }
 },
 "nbformat": 4,
 "nbformat_minor": 0
}
