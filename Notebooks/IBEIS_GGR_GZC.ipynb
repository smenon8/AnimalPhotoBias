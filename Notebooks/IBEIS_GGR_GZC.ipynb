{
 "cells": [
  {
   "cell_type": "markdown",
   "metadata": {},
   "source": [
    "image analysis running on the server \"lev\", sharing the basic same data.  presently, the IA port is not exposed, but in interest of time, i am making a \"pass-through\" access to the IA api via a WB api call.  (this is ultimately the model we want to use in production, so that wildbook can handle security and other issues, but as you will see, i have kind of done a very generic hack version of the same concept.)   this consists of a small wb api \"wrapper\" call around the call you actually wish to be making of the IA data.  perhaps examples would demonstrate best:\n",
    "\n",
    "IA call:  /api/annot/image/contributor/tag/json/?annot_uuid_list=[{\"__UUID__\":\"8b595dc0-9c5a-4caf-9703-9f8ff017e824\"}]\n",
    "becomes: http://lev.cs.rpi.edu:8080/ggr/ia?passthru=/api/annot/image/contributor/tag/json/&arg=annot_uuid_list%3D[{%22__UUID__%22:%228b595dc0-9c5a-4caf-9703-9f8ff017e824%22}]\n",
    "\n",
    "IA call:  /api/annot/age/months/json/?annot_uuid_list=[{\"__UUID__\":\"8b595dc0-9c5a-4caf-9703-9f8ff017e824\"}]\n",
    "becomes:  http://lev.cs.rpi.edu:8080/ggr/ia?passthru=/api/annot/age/months/json/&arg=annot_uuid_list%3D[{%22__UUID__%22:%228b595dc0-9c5a-4caf-9703-9f8ff017e824%22}]\n",
    "\n",
    "in other words, you pass two parameters, passthru and arg, which are just uri-encoded strings that represent the two sides of the \"?\" in the original call.  (note that arg is optional.)  the two examples above are \"live\", in the sense that you can click them and should get the json results as expected.\n",
    "\n",
    "this should, technically, get you to any existing IA api call (provided i had jason p turn on all the right ones)... at least the ones that use GET.  if you need any POST queries, let me know and i can pass those through as well."
   ]
  },
  {
   "cell_type": "code",
   "execution_count": 1,
   "metadata": {
    "collapsed": true
   },
   "outputs": [],
   "source": [
    "import requests\n",
    "import urllib\n",
    "import GetPropertiesAPI as GP\n",
    "from collections import OrderedDict\n",
    "import importlib\n",
    "importlib.reload(GP)\n",
    "DOMAIN = 'http://lev.cs.rpi.edu:8080/ggr/ia'"
   ]
  },
  {
   "cell_type": "code",
   "execution_count": null,
   "metadata": {
    "collapsed": true
   },
   "outputs": [],
   "source": [
    "## /api/annot/image/contributor/tag/json/?annot_uuid_list=[{\"__UUID__\":\"8b595dc0-9c5a-4caf-9703-9f8ff017e824\"}]\n",
    "\n",
    "\n",
    "param = urllib.parse.quote('annot_uuid_list=') + '[{' + urllib.parse.quote('\"__UUID__\"') + ':' +urllib.parse.quote('\"8b595dc0-9c5a-4caf-9703-9f8ff017e824\"') + '}]'\n",
    "# param = urllib.parse.urlencode(param) "
   ]
  },
  {
   "cell_type": "code",
   "execution_count": null,
   "metadata": {
    "collapsed": false
   },
   "outputs": [],
   "source": [
    "payload = OrderedDict([('passthru', u'/api/annot/age/months/json/'), \n",
    "                ('asdasarg', param)]) \n",
    "response = requests.get(DOMAIN , \n",
    "                        params = payload \n",
    "                        )"
   ]
  },
  {
   "cell_type": "code",
   "execution_count": 8,
   "metadata": {
    "collapsed": false
   },
   "outputs": [],
   "source": [
    "url = DOMAIN + '?passthru=' +\"/api/annot/age/months/json\" + '&arg=' + GP.ggr_annot_form_arg('3f814994-216c-4015-9af3-f286481414c0')"
   ]
  },
  {
   "cell_type": "code",
   "execution_count": 9,
   "metadata": {
    "collapsed": false
   },
   "outputs": [],
   "source": [
    "res = requests.get(url)\n",
    "# \"/api/annot/age/months/json\" - age\n",
    "# \"/api/annot/sex/json/\" - sex\n",
    "# \"/api/annot/name/rowid/json/\" - NID\n",
    "# "
   ]
  },
  {
   "cell_type": "code",
   "execution_count": 10,
   "metadata": {
    "collapsed": false
   },
   "outputs": [
    {
     "data": {
      "text/plain": [
       "{'results': [[None, 2]], 'success': True}"
      ]
     },
     "execution_count": 10,
     "metadata": {},
     "output_type": "execute_result"
    }
   ],
   "source": [
    "res.json()"
   ]
  },
  {
   "cell_type": "code",
   "execution_count": null,
   "metadata": {
    "collapsed": true
   },
   "outputs": [],
   "source": [
    "url = DOMAIN + '?passthru=' +\"/api/annot/age/months/json/\" + '&arg=' + ggxr_form_arg(\"8b595dc0-9c5a-4caf-9703-9f8ff017e824\")"
   ]
  },
  {
   "cell_type": "code",
   "execution_count": null,
   "metadata": {
    "collapsed": false
   },
   "outputs": [],
   "source": [
    "s = \"abcd\"\n",
    "\n",
    "'\\\"%s\\\"' %s"
   ]
  },
  {
   "cell_type": "code",
   "execution_count": null,
   "metadata": {
    "collapsed": false
   },
   "outputs": [],
   "source": [
    "ggr_form_arg = lambda x : urllib.parse.quote('annot_uuid_list=') + '[{' + urllib.parse.quote('\"__UUID__\"') + ':' + urllib.parse.quote('\\\"%s\\\"' %x) + '}]'"
   ]
  },
  {
   "cell_type": "code",
   "execution_count": null,
   "metadata": {
    "collapsed": true
   },
   "outputs": [],
   "source": [
    "ggr_image_form_arg = lambda x : urllib.parse.quote('image_uuid_list=') + '[{' + urllib.parse.quote('\"__UUID__\"') + ':' + urllib.parse.quote('\\\"%s\\\"' %x) + '}]'"
   ]
  },
  {
   "cell_type": "code",
   "execution_count": 48,
   "metadata": {
    "collapsed": false
   },
   "outputs": [
    {
     "data": {
      "text/plain": [
       "<module 'GetPropertiesAPI' from '/Users/sreejithmenon/Google Drive/CodeBase/AWESOME/script/GetPropertiesAPI.py'>"
      ]
     },
     "execution_count": 48,
     "metadata": {},
     "output_type": "execute_result"
    }
   ],
   "source": [
    "import UploadAndDetectIBEIS as UD, uuid\n",
    "import requests, json, datetime, urllib, importlib\n",
    "importlib.reload(UD)\n",
    "\n",
    "import GetPropertiesAPI as GP\n",
    "importlib.reload(GP)"
   ]
  },
  {
   "cell_type": "code",
   "execution_count": null,
   "metadata": {
    "collapsed": true
   },
   "outputs": [],
   "source": [
    "data_dict = {\n",
    "        'gid_list': [1],\n",
    "    }\n",
    "image_uuid_list = UD.get('api/image/uuid', data_dict)\n",
    "image_uuid_dict = image_uuid_list[0]\n",
    "image_uuid = uuid.UUID(image_uuid_dict['__UUID__'])\n",
    "\n",
    "data_dict = {\n",
    "    'query_annot_uuid_list' : [1],\n",
    "    'query_annot_name_list' : [image_uuid]\n",
    "    \n",
    "}\n",
    "res = requests.get('http://pachy.cs.uic.edu:5000/api/engine/query/graph/', data = data_dict)\n",
    "res.json()"
   ]
  },
  {
   "cell_type": "code",
   "execution_count": null,
   "metadata": {
    "collapsed": false
   },
   "outputs": [],
   "source": [
    "data_dict = {\n",
    "        'aid_list': [1],\n",
    "    }\n",
    "image_uuid_list = UD.get('api/annot/uuid', data_dict)\n",
    "image_uuid_list"
   ]
  },
  {
   "cell_type": "code",
   "execution_count": null,
   "metadata": {
    "collapsed": false
   },
   "outputs": [],
   "source": [
    "res = requests.get('http://pachy.cs.uic.edu:5001/api/annot/uuid/', \n",
    "                   data = dict(aid_list=['1']))\n",
    "\n",
    "\n",
    "print(res.json())\n",
    "\n",
    "res = requests.get('http://pachy.cs.uic.edu:5000/api/annot/uuid/', \n",
    "                   data = dict(aid_list=['15441']))\n",
    "\n",
    "\n",
    "print(res.json())"
   ]
  },
  {
   "cell_type": "code",
   "execution_count": null,
   "metadata": {
    "collapsed": true
   },
   "outputs": [],
   "source": [
    "url = \"http://pachy.cs.uic.edu:5001/api/engine/query/graph/\"\n",
    "data_dict = {\n",
    "    'query_annot_uuid_list' : json.dumps([{'__UUID__': '2637b5e7-2a41-4aea-9dbd-dfe186cc8c8c'}]),\n",
    "}\n",
    "response = requests.request('POST', url, data=data_dict)"
   ]
  },
  {
   "cell_type": "code",
   "execution_count": null,
   "metadata": {
    "collapsed": false
   },
   "outputs": [],
   "source": [
    "response.json()"
   ]
  },
  {
   "cell_type": "code",
   "execution_count": null,
   "metadata": {
    "collapsed": false
   },
   "outputs": [],
   "source": [
    "d['json_result']['inference_dict']['cluster_dict']"
   ]
  },
  {
   "cell_type": "code",
   "execution_count": null,
   "metadata": {
    "collapsed": false
   },
   "outputs": [],
   "source": [
    "d['json_result']['inference_dict']['annot_pair_dict']"
   ]
  },
  {
   "cell_type": "code",
   "execution_count": null,
   "metadata": {
    "collapsed": false
   },
   "outputs": [],
   "source": [
    "re.findall(r'NEWNAME_(\\d+)', 'NEWNAME_-6')"
   ]
  },
  {
   "cell_type": "code",
   "execution_count": 16,
   "metadata": {
    "collapsed": false
   },
   "outputs": [],
   "source": [
    "import os, json, re"
   ]
  },
  {
   "cell_type": "code",
   "execution_count": null,
   "metadata": {
    "collapsed": true
   },
   "outputs": [],
   "source": [
    "data_dict = {\n",
    "        'gid_list': list(range(1702, 1792)),\n",
    "    }\n",
    "\n",
    "UD.delete('api/image',data_dict)"
   ]
  },
  {
   "cell_type": "code",
   "execution_count": 33,
   "metadata": {
    "collapsed": false
   },
   "outputs": [],
   "source": [
    "with open(\"../data/beauty_ggr.json\", \"r\") as bty_ggr_fl:\n",
    "    bty_ggr= json.load(bty_ggr_fl)\n",
    "    \n",
    "keys = list(bty_ggr.keys())"
   ]
  },
  {
   "cell_type": "code",
   "execution_count": 55,
   "metadata": {
    "collapsed": false
   },
   "outputs": [],
   "source": [
    "import BuildConsolidatedFeaturesFile as BCF\n",
    "import importlib\n",
    "importlib.reload(BCF)\n",
    "import urllib"
   ]
  },
  {
   "cell_type": "code",
   "execution_count": 58,
   "metadata": {
    "collapsed": false
   },
   "outputs": [],
   "source": [
    "uuid_annot_map = BCF.build_feature_file_ggr(None, \"/tmp/test\")"
   ]
  },
  {
   "cell_type": "code",
   "execution_count": 17,
   "metadata": {
    "collapsed": false
   },
   "outputs": [],
   "source": [
    "aid_uuid_list = [item for sublist in list(uuid_annot_map.values()) for item in sublist if item]"
   ]
  },
  {
   "cell_type": "code",
   "execution_count": 18,
   "metadata": {
    "collapsed": false
   },
   "outputs": [
    {
     "data": {
      "text/plain": [
       "['9849a3a0-a8de-4c0a-b5db-4fa690a3578e',\n",
       " '146eab19-1ac4-46b0-90d0-72d4471fce76',\n",
       " '046bd8aa-8f77-4ae4-8048-04d86063879a',\n",
       " 'ae0730b9-816f-45fb-ba5d-c45b2fdd79fe',\n",
       " 'e41701a3-cb30-4739-bbeb-c35f46f40719',\n",
       " '48ad9ae8-43f2-499b-8755-b7e155212f61',\n",
       " 'd66d3dcf-11fd-4a3d-8522-f39e9eb0934b',\n",
       " 'b40ccf2a-3744-4e12-9a38-bab7311a5a19',\n",
       " 'fd7d18ba-a66a-4e79-8daa-58e0790b6e99',\n",
       " 'c47b15cb-3f18-4305-85b5-0d7fe67e02cc',\n",
       " 'e62eaa9c-6e6c-4ee6-ad64-5ea64a179d6f',\n",
       " '34d11736-9ed7-45c8-aa5c-e82103901130']"
      ]
     },
     "execution_count": 18,
     "metadata": {},
     "output_type": "execute_result"
    }
   ],
   "source": [
    "aid_uuid_list"
   ]
  },
  {
   "cell_type": "code",
   "execution_count": 22,
   "metadata": {
    "collapsed": true
   },
   "outputs": [],
   "source": [
    "ggr_image_form_arg = lambda x : urllib.parse.quote('image_uuid_list=') + '[{' + urllib.parse.quote('\"__UUID__\"') + ':' + urllib.parse.quote('\\\"%s\\\"' %x) + '}' + ',{' + urllib.parse.quote('\"__UUID__\"') + ':' + urllib.parse.quote('\\\"%s\\\"' %x) + '}]'"
   ]
  },
  {
   "cell_type": "code",
   "execution_count": 49,
   "metadata": {
    "collapsed": false
   },
   "outputs": [
    {
     "data": {
      "text/plain": [
       "'image_uuid_list%3D[{%22__UUID__%22:%229849a3a0-a8de-4c0a-b5db-4fa690a3578e%22}]'"
      ]
     },
     "execution_count": 49,
     "metadata": {},
     "output_type": "execute_result"
    }
   ],
   "source": [
    "GP.ggr_image_form_arg('9849a3a0-a8de-4c0a-b5db-4fa690a3578e')"
   ]
  },
  {
   "cell_type": "code",
   "execution_count": 27,
   "metadata": {
    "collapsed": true
   },
   "outputs": [],
   "source": [
    "ggr_image_form_arg = lambda x : urllib.parse.quote('image_uuid_list=') + '[{' + urllib.parse.quote('\"__UUID__\"') + ':' + urllib.parse.quote('\\\"%s\\\"' %x) + '}]'"
   ]
  },
  {
   "cell_type": "code",
   "execution_count": 46,
   "metadata": {
    "collapsed": false
   },
   "outputs": [],
   "source": [
    "ggr_image_form_arg('9849a3a0-a8de-4c0a-b5db-4fa690a3578e')\n",
    "\n",
    "data = json.dumps({\n",
    "\"passthru\" : \"/api/image/annot/uuid\", \n",
    "\"arg\" : {\n",
    "    'image_uuid_list' : json.dumps([{\"__UUID__\" : \"9849a3a0-a8de-4c0a-b5db-4fa690a3578e\" }])\n",
    "}\n",
    "})\n",
    "req = requests.request(\"GET\", url=DOMAIN, data=data)"
   ]
  },
  {
   "cell_type": "code",
   "execution_count": 16,
   "metadata": {
    "collapsed": false
   },
   "outputs": [],
   "source": [
    "ggr_contrib_form_arg = lambda x : urllib.parse.quote('contributor_tag_list=') + '[' + urllib.parse.quote('\\\"%s\\\"' %x) + ']'"
   ]
  },
  {
   "cell_type": "code",
   "execution_count": 14,
   "metadata": {
    "collapsed": false
   },
   "outputs": [
    {
     "data": {
      "text/plain": [
       "{'results': ['GGR,100,A,00000'], 'success': True}"
      ]
     },
     "execution_count": 14,
     "metadata": {},
     "output_type": "execute_result"
    }
   ],
   "source": [
    "import json\n",
    "\n",
    "DOMAIN + \"?passthru=/api/contributor/gids/unixtime/?gid_list=\"+ json.dumps([1])\n",
    "\n",
    "GP.ggr_get(\"/api/image/note/?gid_list=[1]\")\n"
   ]
  },
  {
   "cell_type": "code",
   "execution_count": 18,
   "metadata": {
    "collapsed": false
   },
   "outputs": [
    {
     "data": {
      "text/plain": [
       "'contributor_tag_list%3D[%22GGR%2C100%2CA%2C00000%22]'"
      ]
     },
     "execution_count": 18,
     "metadata": {},
     "output_type": "execute_result"
    }
   ],
   "source": [
    "# GGR.get(\"/api/contributor/gids/unixtime\")\n",
    "\n",
    "\n",
    "ggr_contrib_form_arg(\"GGR,100,A,00000\")\n"
   ]
  },
  {
   "cell_type": "code",
   "execution_count": 19,
   "metadata": {
    "collapsed": false
   },
   "outputs": [
    {
     "data": {
      "text/plain": [
       "'annot_uuid_list%3D[{%22__UUID__%22:%22blah%22}]'"
      ]
     },
     "execution_count": 19,
     "metadata": {},
     "output_type": "execute_result"
    }
   ],
   "source": [
    "GP.ggr_annot_form_arg('blah')"
   ]
  },
  {
   "cell_type": "code",
   "execution_count": 22,
   "metadata": {
    "collapsed": false
   },
   "outputs": [],
   "source": [
    "url = DOMAIN + \"?passthru=\" + \"/api/contributor/gids/unixtime\" + \"&arg=\" + \"contributor_tag_list%3D[%22GGR%2C100%2CA%2C00000%22]\""
   ]
  },
  {
   "cell_type": "code",
   "execution_count": 23,
   "metadata": {
    "collapsed": false
   },
   "outputs": [
    {
     "data": {
      "text/plain": [
       "'http://lev.cs.rpi.edu:8080/ggr/ia?passthru=/api/contributor/gids/unixtime&arg=contributor_tag_list%3D[%22GGR%2C100%2CA%2C00000%22]'"
      ]
     },
     "execution_count": 23,
     "metadata": {},
     "output_type": "execute_result"
    }
   ],
   "source": [
    "url"
   ]
  },
  {
   "cell_type": "code",
   "execution_count": 24,
   "metadata": {
    "collapsed": false
   },
   "outputs": [
    {
     "data": {
      "text/plain": [
       "{'exception': 'java.lang.RuntimeException: Failed : HTTP error code : 500',\n",
       " 'success': False}"
      ]
     },
     "execution_count": 24,
     "metadata": {},
     "output_type": "execute_result"
    }
   ],
   "source": [
    "# 45775b50-cb67-51d0-a6a6-3dd88f4fbde2\n",
    "\n",
    "GP.ggr_get(\"/api/image/lon\", GP.ggr_image_form_arg(\"45775b50-cb67-51d0-a6a6-3dd88f4fbde2\"))"
   ]
  },
  {
   "cell_type": "code",
   "execution_count": 34,
   "metadata": {
    "collapsed": false
   },
   "outputs": [],
   "source": [
    "import re\n",
    "\n",
    "keys = [re.findall(r'(.*).jpg', key)[0] for key in keys]\n",
    "\n",
    "key_dash = keys[:10]"
   ]
  },
  {
   "cell_type": "code",
   "execution_count": 43,
   "metadata": {
    "collapsed": false
   },
   "outputs": [],
   "source": [
    "uuid_gid_map = {GP.ggr_get(\"/api/image/uuid/?gid_list=[%i]\" %gid)['results'][0][\"__UUID__\"] : gid for gid in range(1,11)}"
   ]
  },
  {
   "cell_type": "code",
   "execution_count": 40,
   "metadata": {
    "collapsed": false
   },
   "outputs": [
    {
     "name": "stdout",
     "output_type": "stream",
     "text": [
      "5ee9cb4b-b4fa-bec5-cca0-31c341d58730\n",
      "c861876f-66f4-fec7-f9b5-a97314ba3647\n",
      "01e3b8d2-a80d-547d-8897-ebb900e00595\n",
      "85f7c1c4-77fc-8b53-83c3-56bbda156da4\n",
      "f834d0d9-0fd5-c222-2419-eebb5deb090b\n",
      "36fc39fa-d931-536a-6a70-4aab322b906c\n",
      "ca0e8c7d-8758-160a-f089-8df3c208db85\n",
      "e1f85f87-6f9c-c4d0-330d-f82b81e8ab8e\n",
      "f611b15d-1e8c-a500-e8ab-d75322da209e\n",
      "f42ca8c2-f653-0f54-0653-3514e6ea1e1b\n"
     ]
    }
   ],
   "source": [
    "for i in range(1,11):\n",
    "    print(GP.ggr_get(\"/api/image/uuid/?gid_list=[%i]\" %i)['results'][0][\"__UUID__\"])"
   ]
  },
  {
   "cell_type": "code",
   "execution_count": 52,
   "metadata": {
    "collapsed": false
   },
   "outputs": [
    {
     "data": {
      "text/plain": [
       "{'01e3b8d2-a80d-547d-8897-ebb900e00595': 3,\n",
       " '36fc39fa-d931-536a-6a70-4aab322b906c': 6,\n",
       " '5ee9cb4b-b4fa-bec5-cca0-31c341d58730': 1,\n",
       " '85f7c1c4-77fc-8b53-83c3-56bbda156da4': 4,\n",
       " 'c861876f-66f4-fec7-f9b5-a97314ba3647': 2,\n",
       " 'ca0e8c7d-8758-160a-f089-8df3c208db85': 7,\n",
       " 'e1f85f87-6f9c-c4d0-330d-f82b81e8ab8e': 8,\n",
       " 'f42ca8c2-f653-0f54-0653-3514e6ea1e1b': 10,\n",
       " 'f611b15d-1e8c-a500-e8ab-d75322da209e': 9,\n",
       " 'f834d0d9-0fd5-c222-2419-eebb5deb090b': 5}"
      ]
     },
     "execution_count": 52,
     "metadata": {},
     "output_type": "execute_result"
    }
   ],
   "source": [
    "with open(\"/tmp/uuid_gid_map.json\", \"w\") as fl:\n",
    "    json.dump(uuid_gid_map, fl, indent=4)\n",
    "\n",
    "\n",
    "uuid_gid_map"
   ]
  },
  {
   "cell_type": "code",
   "execution_count": 45,
   "metadata": {
    "collapsed": true
   },
   "outputs": [],
   "source": [
    "ggr_gid_form_arg = lambda x : urllib.parse.quote('gid_list=') + '[' + urllib.parse.quote('\\\"%s\\\"' %x)  + ']'"
   ]
  },
  {
   "cell_type": "code",
   "execution_count": 47,
   "metadata": {
    "collapsed": false
   },
   "outputs": [
    {
     "data": {
      "text/plain": [
       "'gid_list%3D[%221%22]'"
      ]
     },
     "execution_count": 47,
     "metadata": {},
     "output_type": "execute_result"
    }
   ],
   "source": [
    "ggr_gid_form_arg(\"1\")"
   ]
  },
  {
   "cell_type": "code",
   "execution_count": 49,
   "metadata": {
    "collapsed": true
   },
   "outputs": [],
   "source": [
    "lat = GP.ggr_get(\"/api/image/lat\", GP.ggr_gid_form_arg(1))"
   ]
  },
  {
   "cell_type": "code",
   "execution_count": 50,
   "metadata": {
    "collapsed": false
   },
   "outputs": [
    {
     "data": {
      "text/plain": [
       "{'results': [0.27842], 'success': True}"
      ]
     },
     "execution_count": 50,
     "metadata": {},
     "output_type": "execute_result"
    }
   ],
   "source": [
    "lat"
   ]
  },
  {
   "cell_type": "code",
   "execution_count": 56,
   "metadata": {
    "collapsed": false
   },
   "outputs": [
    {
     "data": {
      "text/plain": [
       "{'01e3b8d2-a80d-547d-8897-ebb900e00595': {'contributor': 'GGR,100,A,00002',\n",
       "  'datetime': '2016-01-30 15:32:40',\n",
       "  'lat': 0.38781333333333334,\n",
       "  'long': 36.88988833333333},\n",
       " '36fc39fa-d931-536a-6a70-4aab322b906c': {'contributor': 'GGR,100,A,00005',\n",
       "  'datetime': '2016-01-31 11:25:13',\n",
       "  'lat': 0.35139666666666663,\n",
       "  'long': 36.895986666666666},\n",
       " '5ee9cb4b-b4fa-bec5-cca0-31c341d58730': {'contributor': 'GGR,100,A,00000',\n",
       "  'datetime': '2016-01-30 10:38:31',\n",
       "  'lat': 0.27842,\n",
       "  'long': 36.88954833333333},\n",
       " '85f7c1c4-77fc-8b53-83c3-56bbda156da4': {'contributor': 'GGR,100,A,00003',\n",
       "  'datetime': '2016-01-30 10:29:13',\n",
       "  'lat': 0.28178333333333333,\n",
       "  'long': 36.89237},\n",
       " 'c861876f-66f4-fec7-f9b5-a97314ba3647': {'contributor': 'GGR,100,A,00001',\n",
       "  'datetime': '2016-01-31 14:42:57',\n",
       "  'lat': 0.5015083333333333,\n",
       "  'long': 36.84978},\n",
       " 'ca0e8c7d-8758-160a-f089-8df3c208db85': {'contributor': 'GGR,100,A,00006',\n",
       "  'datetime': '2016-01-30 10:29:07',\n",
       "  'lat': 0.28182166666666664,\n",
       "  'long': 36.892361666666666},\n",
       " 'e1f85f87-6f9c-c4d0-330d-f82b81e8ab8e': {'contributor': 'GGR,100,A,00007',\n",
       "  'datetime': '2016-01-30 16:41:17',\n",
       "  'lat': 0.3955466666666667,\n",
       "  'long': 36.91585833333333},\n",
       " 'f42ca8c2-f653-0f54-0653-3514e6ea1e1b': {'contributor': 'GGR,100,A,00009',\n",
       "  'datetime': '2016-01-30 08:59:21',\n",
       "  'lat': 0.28859833333333335,\n",
       "  'long': 36.901804999999996},\n",
       " 'f611b15d-1e8c-a500-e8ab-d75322da209e': {'contributor': 'GGR,100,A,00008',\n",
       "  'datetime': '2016-01-30 10:41:45',\n",
       "  'lat': 0.27841,\n",
       "  'long': 36.88957},\n",
       " 'f834d0d9-0fd5-c222-2419-eebb5deb090b': {'contributor': 'GGR,100,A,00004',\n",
       "  'datetime': '2016-01-30 15:03:37',\n",
       "  'lat': 0.3864666666666667,\n",
       "  'long': 36.89369}}"
      ]
     },
     "execution_count": 56,
     "metadata": {},
     "output_type": "execute_result"
    }
   ],
   "source": [
    "BCF.build_exif_ftrs_fl_ggr(\"/tmp/uuid_gid_map.json\", \"/tmp/test.json\")"
   ]
  },
  {
   "cell_type": "code",
   "execution_count": 57,
   "metadata": {
    "collapsed": false
   },
   "outputs": [
    {
     "data": {
      "text/plain": [
       "37433"
      ]
     },
     "execution_count": 57,
     "metadata": {},
     "output_type": "execute_result"
    }
   ],
   "source": [
    "len(keys)"
   ]
  },
  {
   "cell_type": "code",
   "execution_count": 58,
   "metadata": {
    "collapsed": false
   },
   "outputs": [
    {
     "data": {
      "text/plain": [
       "'01e3b8d2-a80d-547d-8897-ebb900e00595'"
      ]
     },
     "execution_count": 58,
     "metadata": {},
     "output_type": "execute_result"
    }
   ],
   "source": [
    "str(u'01e3b8d2-a80d-547d-8897-ebb900e00595')"
   ]
  },
  {
   "cell_type": "code",
   "execution_count": 59,
   "metadata": {
    "collapsed": false
   },
   "outputs": [
    {
     "data": {
      "text/plain": [
       "{'results': [[]], 'success': True}"
      ]
     },
     "execution_count": 59,
     "metadata": {},
     "output_type": "execute_result"
    }
   ],
   "source": [
    "GP.ggr_get(\"/api/image/annot/uuid/json\", GP.ggr_image_form_arg(\"c6d2bfe6-629b-dcf3-4329-987968a833ee\"))"
   ]
  },
  {
   "cell_type": "code",
   "execution_count": 60,
   "metadata": {
    "collapsed": true
   },
   "outputs": [],
   "source": [
    "with open(\"../data/uuid_gid_map.json\", \"r\") as fl:\n",
    "    lst = list(json.load(fl).keys())\n",
    "    \n",
    "    \n",
    "with open(\"../data/ggr_uuid_list.dat\", \"w\") as f2:\n",
    "    f2.write(\"\\n\".join(lst))"
   ]
  },
  {
   "cell_type": "code",
   "execution_count": null,
   "metadata": {
    "collapsed": true
   },
   "outputs": [],
   "source": []
  }
 ],
 "metadata": {
  "kernelspec": {
   "display_name": "Python 3",
   "language": "python",
   "name": "python3"
  },
  "language_info": {
   "codemirror_mode": {
    "name": "ipython",
    "version": 3
   },
   "file_extension": ".py",
   "mimetype": "text/x-python",
   "name": "python",
   "nbconvert_exporter": "python",
   "pygments_lexer": "ipython3",
   "version": "3.5.2"
  }
 },
 "nbformat": 4,
 "nbformat_minor": 0
}
