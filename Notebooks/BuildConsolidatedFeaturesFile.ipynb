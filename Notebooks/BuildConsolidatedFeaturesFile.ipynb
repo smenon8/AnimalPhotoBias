{
 "cells": [
  {
   "cell_type": "markdown",
   "metadata": {
    "collapsed": false
   },
   "source": [
    "Notebook Name: BuildConsolidatedFeaturesFile.ipynb\n",
    "\n",
    "Created date : Sunday, 27th March\n",
    "\n",
    "Author : Sreejith Menon\n",
    "\n",
    "Description : \n",
    "buildFeatureFl(input file,output file)\n",
    "Reads from a consolidated HIT results csv file (input file). \n",
    "\n",
    "Extracts the below features from the IBEIS dataset:\n",
    "1. species_texts\n",
    "2. sex_texts\n",
    "3. age_months_est\n",
    "4. exemplar_flags\n",
    "5. quality_texts\n",
    "\n",
    "Consolidated HIT results contain number of shares and not shares per image in the mechanical turk jobs.\n",
    "Expects an input file in the following format:\n",
    "[GID,SHARE,NOT_SHARE,TOTAL]\n"
   ]
  },
  {
   "cell_type": "code",
   "execution_count": 1,
   "metadata": {
    "collapsed": false
   },
   "outputs": [
    {
     "data": {
      "text/plain": [
       "<module 'GetPropertiesAPI' from '/Users/sreejithmenon/Google Drive/CodeBase/AWESOME/script/GetPropertiesAPI.py'>"
      ]
     },
     "execution_count": 1,
     "metadata": {},
     "output_type": "execute_result"
    }
   ],
   "source": [
    "import csv\n",
    "import GetPropertiesAPI as GP\n",
    "import importlib\n",
    "importlib.reload(GP) # un-comment if there are any changes made to API"
   ]
  },
  {
   "cell_type": "markdown",
   "metadata": {
    "collapsed": false
   },
   "source": [
    "Logic for reading data from the consolidatedHITResults file"
   ]
  },
  {
   "cell_type": "code",
   "execution_count": 5,
   "metadata": {
    "collapsed": false
   },
   "outputs": [],
   "source": [
    "def buildFeatureFl(inFL,outFL):    \n",
    "    reader = csv.reader(open(inFL,\"r\"))\n",
    "    head = reader.__next__()\n",
    "\n",
    "    data = {}\n",
    "    for row in reader:\n",
    "        data[row[0]] = row[1:]\n",
    "\n",
    "    # Extracts all the annotation ID's from IBEIS\n",
    "    aidList = []\n",
    "    for gid in data.keys():\n",
    "        aid = GP.getAnnotID(int(gid))\n",
    "        data[gid].append(aid)\n",
    "\n",
    "    # Extracts all feature info based on annotation ID's from IBEIS\n",
    "    for gid in data.keys():\n",
    "        if data[gid][3] != None:\n",
    "            aid = data[gid][3]\n",
    "            spec_text = GP.getImageFeature(aid,\"species_texts\")\n",
    "            data[gid].append(spec_text)\n",
    "            sex_text = GP.getImageFeature(aid,\"sex_texts\")\n",
    "            data[gid].append(sex_text)\n",
    "            est_age = GP.getImageFeature(aid,\"age_months_est\")\n",
    "            data[gid].append(est_age)\n",
    "            exemplar = GP.getImageFeature(aid,\"exemplar_flags\")\n",
    "            data[gid].append(exemplar)\n",
    "            qual_text = GP.getImageFeature(aid,\"quality_texts\")\n",
    "            data[gid].append(qual_text)\n",
    "        else:\n",
    "            data[gid].append('NULL')\n",
    "            data[gid].append('NULL')\n",
    "            data[gid].append('NULL')\n",
    "            data[gid].append('NULL')\n",
    "            data[gid].append('NULL')\n",
    "\n",
    "    # Write all the extracted info to a CSV file\n",
    "    head += ['ANNOTATION_ID','SPECIES','SEX','AGE_MONTHS','EXEMPLAR_FLAG','IMAGE_QUALITY']\n",
    "    writeFL = open(outFL,\"w\")\n",
    "    writer = csv.writer(writeFL)\n",
    "    writer.writerow(head)\n",
    "    for row in data.keys():\n",
    "        writer.writerow([row] + data[row])\n",
    "    writeFL.close()"
   ]
  },
  {
   "cell_type": "code",
   "execution_count": 6,
   "metadata": {
    "collapsed": false
   },
   "outputs": [],
   "source": [
    "def __main__():\n",
    "    buildFeatureFl(\"../data/consolidatedHITResults.csv\",\"../data/consolidatedHITResultsWithInfo1.csv\")\n",
    "    \n",
    "if __name__ == __main__:\n",
    "    __main__()"
   ]
  },
  {
   "cell_type": "code",
   "execution_count": 3,
   "metadata": {
    "collapsed": false
   },
   "outputs": [
    {
     "data": {
      "text/plain": [
       "[6679, 6680, 6681, 6682]"
      ]
     },
     "execution_count": 3,
     "metadata": {},
     "output_type": "execute_result"
    }
   ],
   "source": [
    "GP.getAnnotID(5381)"
   ]
  },
  {
   "cell_type": "code",
   "execution_count": 4,
   "metadata": {
    "collapsed": true
   },
   "outputs": [],
   "source": [
    "gid_aid_map = {}\n",
    "for gid in range(1,5384):\n",
    "    gid_aid_map[gid] = GP.getAnnotID(gid)"
   ]
  },
  {
   "cell_type": "code",
   "execution_count": 6,
   "metadata": {
    "collapsed": false
   },
   "outputs": [],
   "source": [
    "import json"
   ]
  },
  {
   "cell_type": "code",
   "execution_count": 7,
   "metadata": {
    "collapsed": true
   },
   "outputs": [],
   "source": [
    "with open(\"../data/flickr_zebra_gid_aid_map.json\",\"w\") as fl:\n",
    "    json.dump(gid_aid_map, fl, indent=4)"
   ]
  },
  {
   "cell_type": "code",
   "execution_count": 11,
   "metadata": {
    "collapsed": false
   },
   "outputs": [],
   "source": [
    "list(gid_aid_map.values())\n",
    "\n",
    "\n",
    "aids = [aid for lst in list(gid_aid_map.values()) for aid in lst if len(lst)]"
   ]
  },
  {
   "cell_type": "code",
   "execution_count": 17,
   "metadata": {
    "collapsed": false
   },
   "outputs": [],
   "source": [
    "aid_species_map = {aids[i] : features[i] for i in range(len(aids))}"
   ]
  },
  {
   "cell_type": "code",
   "execution_count": 15,
   "metadata": {
    "collapsed": true
   },
   "outputs": [],
   "source": [
    "features = GP.getImageFeature(aids, 'species/text')"
   ]
  },
  {
   "cell_type": "code",
   "execution_count": 19,
   "metadata": {
    "collapsed": false
   },
   "outputs": [],
   "source": [
    "with open(\"../data/flickr_zebra_aid_species_map.json\", \"w\") as fl:\n",
    "    json.dump(aid_species_map, fl, indent = 4)"
   ]
  },
  {
   "cell_type": "code",
   "execution_count": 20,
   "metadata": {
    "collapsed": true
   },
   "outputs": [],
   "source": [
    "import UploadAndDetectIBEIS as UD"
   ]
  },
  {
   "cell_type": "code",
   "execution_count": 21,
   "metadata": {
    "collapsed": false
   },
   "outputs": [
    {
     "data": {
      "text/plain": [
       "False"
      ]
     },
     "execution_count": 21,
     "metadata": {},
     "output_type": "execute_result"
    }
   ],
   "source": [
    "UD.check_job_status('jobid-5388')"
   ]
  },
  {
   "cell_type": "code",
   "execution_count": 33,
   "metadata": {
    "collapsed": false
   },
   "outputs": [],
   "source": [
    "data_dict = {\n",
    "        'jobid': 'jobid-5388',\n",
    "    }\n",
    "response = UD.get('api/engine/job/status', data_dict)"
   ]
  },
  {
   "cell_type": "code",
   "execution_count": 34,
   "metadata": {
    "collapsed": false
   },
   "outputs": [
    {
     "data": {
      "text/plain": [
       "{'jobid': 'jobid-5388', 'jobstatus': 'unknown', 'status': 'ok'}"
      ]
     },
     "execution_count": 34,
     "metadata": {},
     "output_type": "execute_result"
    }
   ],
   "source": [
    "response"
   ]
  },
  {
   "cell_type": "code",
   "execution_count": null,
   "metadata": {
    "collapsed": true
   },
   "outputs": [],
   "source": []
  }
 ],
 "metadata": {
  "kernelspec": {
   "display_name": "Python 3",
   "language": "python",
   "name": "python3"
  },
  "language_info": {
   "codemirror_mode": {
    "name": "ipython",
    "version": 3
   },
   "file_extension": ".py",
   "mimetype": "text/x-python",
   "name": "python",
   "nbconvert_exporter": "python",
   "pygments_lexer": "ipython3",
   "version": "3.5.2"
  }
 },
 "nbformat": 4,
 "nbformat_minor": 0
}
