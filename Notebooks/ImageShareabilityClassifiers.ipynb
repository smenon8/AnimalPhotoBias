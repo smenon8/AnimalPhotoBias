{
 "cells": [
  {
   "cell_type": "code",
   "execution_count": 7,
   "metadata": {
    "collapsed": false
   },
   "outputs": [],
   "source": [
    "import ClassiferHelperAPI as CH\n",
    "import importlib\n",
    "import numpy as np\n",
    "import pandas as pd\n",
    "importlib.reload(CH)\n",
    "from ast import literal_eval\n",
    "import plotly.plotly as py\n",
    "import htmltag as HT\n",
    "import cufflinks as cf # this is necessary to link pandas to plotly\n",
    "cf.go_online()\n",
    "from plotly.offline import download_plotlyjs, init_notebook_mode, plot, iplot"
   ]
  },
  {
   "cell_type": "markdown",
   "metadata": {},
   "source": [
    "### Training the classifier and computing the performance metrics"
   ]
  },
  {
   "cell_type": "code",
   "execution_count": 17,
   "metadata": {
    "collapsed": false
   },
   "outputs": [],
   "source": [
    "hasSparse = False\n",
    "\n",
    "if hasSparse:\n",
    "    data= CH.getMasterData(\"../FinalResults/ImgShrRnkListWithTags.csv\")\n",
    "    ftrList = ['SPECIES','SEX','AGE','QUALITY','VIEW_POINT','INDIVIDUAL_NAME','CONTRIBUTOR','tags']\n",
    "    allAttribs = CH.genAttribsHead(data,ftrList)\n",
    "else:\n",
    "    data= CH.getMasterData(\"../FinalResults/ImgShrRnkListWithTags.csv\")\n",
    "    ftrList = ['SPECIES','SEX','AGE','QUALITY','VIEW_POINT','tags']\n",
    "    allAttribs = CH.genAttribsHead(data,ftrList)"
   ]
  },
  {
   "cell_type": "code",
   "execution_count": 18,
   "metadata": {
    "collapsed": false
   },
   "outputs": [
    {
     "name": "stdout",
     "output_type": "stream",
     "text": [
      "Warning: F-score ill-defined because of no valid predictions (F-score set to 0)\n"
     ]
    }
   ],
   "source": [
    "methods = ['logistic','svm','dtree','random_forests']\n",
    "\n",
    "classifiers = []\n",
    "for method in methods:\n",
    "    for i in np.arange(0.1,1,0.1):\n",
    "        clfObj = CH.buildBinClassifier(data,allAttribs,i,80,method,hasSparse,True)\n",
    "        clfObj.runClf()\n",
    "        classifiers.append(clfObj)"
   ]
  },
  {
   "cell_type": "code",
   "execution_count": 19,
   "metadata": {
    "collapsed": true
   },
   "outputs": [],
   "source": [
    "printableClfs = []\n",
    "\n",
    "for clf in classifiers:\n",
    "    printableClfs.append(dict(literal_eval(clf.__str__())))\n",
    "    \n",
    "df = pd.DataFrame(printableClfs)\n",
    "df = df[['methodName','splitPercent','accScore','precision','recall','f1Score','auc','sqerr']]\n",
    "df.columns = ['Classifier','Train-Test Split','Accuracy','Precision','Recall','F1 score','AUC','Squared Error']\n",
    "df.to_csv(\"../ClassifierResults/extrmClfMetrics_NoSparse.csv\",index=False)"
   ]
  },
  {
   "cell_type": "code",
   "execution_count": 21,
   "metadata": {
    "collapsed": false
   },
   "outputs": [],
   "source": [
    "# Will take up valuable Plot.ly plots per day. Limited to 50 plots per day.\n",
    "# changes to file name important\n",
    "iFrameBlock = []\n",
    "for i in np.arange(0.1,1,0.1):\n",
    "    df1 = df[(df['Train-Test Split']==i)]\n",
    "    df1.index = df1['Classifier']\n",
    "    df1 = df1[['Accuracy','Precision','Recall','F1 score','AUC','Squared Error']].transpose()\n",
    "    fig = df1.iplot(kind='bar',filename=str('Train-Test_Split_Ratio_NoSparse %f' %i),title=str('Train-Test Split Ratio: %f' %i))\n",
    "    iFrameBlock.append(fig.embed_code)\n",
    "\n",
    "with open(\"../ClassifierResults/performanceComparisonsNoSparse.html\",\"w\") as perf:\n",
    "    perf.write(HT.h1(\"Performance Comparisons of Classifiers without Sparse Attributes.\"))\n",
    "    for row in iFrameBlock:\n",
    "        perf.write(HT.HTML(row))"
   ]
  },
  {
   "cell_type": "markdown",
   "metadata": {},
   "source": [
    "### Calculating weights of features in the classifiers"
   ]
  },
  {
   "cell_type": "code",
   "execution_count": null,
   "metadata": {
    "collapsed": false
   },
   "outputs": [],
   "source": [
    "clfWeights = []\n",
    "for clf in classifiers:\n",
    "    clfAttribs = list(clf.test_x.columns)\n",
    "    if clf.methodName == 'logistic':\n",
    "        clfAttribWgts = list(clf.clfObj.coef_[0])\n",
    "    elif clf.methodName == 'dtree' or clf.methodName == 'random_forests':\n",
    "        clfAttribWgts = list(clf.clfObj.feature_importances_)\n",
    "    else:\n",
    "        continue\n",
    "        \n",
    "        \n",
    "    attribWgt = {clfAttribs[i] : clfAttribWgts[i] for i in range(len(clfAttribs))}\n",
    "    attribWgt['Method'] = clf.methodName\n",
    "    attribWgt['Split_Percent'] = clf.splitPercent\n",
    "        \n",
    "    clfWeights.append(attribWgt)"
   ]
  },
  {
   "cell_type": "code",
   "execution_count": null,
   "metadata": {
    "collapsed": false
   },
   "outputs": [],
   "source": [
    "clfDf = pd.DataFrame(clfWeights)\n",
    "clfDf"
   ]
  },
  {
   "cell_type": "code",
   "execution_count": null,
   "metadata": {
    "collapsed": false
   },
   "outputs": [],
   "source": [
    "indDF = clfDf[(clfDf['Method']=='logistic')]\n",
    "indDF.index = indDF['Split_Percent']\n",
    "indDF.drop('Method',1,inplace=True)  \n",
    "indDF.transpose().to_csv(\"../ClassifierResults/LogisiticWeights.csv\")\n",
    "\n",
    "indDF = clfDf[(clfDf['Method']=='dtree')]\n",
    "indDF.index = indDF['Split_Percent']\n",
    "indDF.drop('Method',1,inplace=True)  \n",
    "indDF.transpose().to_csv(\"../ClassifierResults/DecisionTreeWeights.csv\")\n",
    "\n",
    "indDF = clfDf[(clfDf['Method']=='random_forests')]\n",
    "indDF.index = indDF['Split_Percent']\n",
    "indDF.drop('Method',1,inplace=True)  \n",
    "indDF.transpose().to_csv(\"../ClassifierResults/RandomForestsWeights.csv\")"
   ]
  },
  {
   "cell_type": "code",
   "execution_count": null,
   "metadata": {
    "collapsed": false
   },
   "outputs": [],
   "source": [
    "fig"
   ]
  },
  {
   "cell_type": "code",
   "execution_count": null,
   "metadata": {
    "collapsed": true
   },
   "outputs": [],
   "source": []
  }
 ],
 "metadata": {
  "kernelspec": {
   "display_name": "Python 3",
   "language": "python",
   "name": "python3"
  },
  "language_info": {
   "codemirror_mode": {
    "name": "ipython",
    "version": 3
   },
   "file_extension": ".py",
   "mimetype": "text/x-python",
   "name": "python",
   "nbconvert_exporter": "python",
   "pygments_lexer": "ipython3",
   "version": "3.5.1"
  }
 },
 "nbformat": 4,
 "nbformat_minor": 0
}
