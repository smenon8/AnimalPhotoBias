{
 "cells": [
  {
   "cell_type": "code",
   "execution_count": null,
   "metadata": {
    "collapsed": false
   },
   "outputs": [],
   "source": [
    "import DeriveFinalResultSet as DRS\n",
    "import DataStructsHelperAPI as DS\n",
    "import importlib\n",
    "importlib.reload(DS)\n",
    "import pandas as pd\n",
    "import cufflinks as cf # this is necessary to link pandas to plotly\n",
    "cf.go_online()\n",
    "import plotly.graph_objs as go\n",
    "import numpy as np\n",
    "from plotly.offline import download_plotlyjs, init_notebook_mode, plot, iplot\n",
    "gidAidMapFl = \"../data/full_gid_aid_map.json\"\n",
    "aidFeatureMapFl = \"../data/full_aid_features.json\"\n",
    "\n",
    "layout = go.Layout(\n",
    "    title=\"Number of images taken (X)\",\n",
    "    titlefont = dict(size=15),\n",
    "    xaxis=dict(\n",
    "        title=\"Contributors\",\n",
    "        titlefont = dict(\n",
    "        size=15),\n",
    "        showticklabels=True,\n",
    "        tickangle=35,\n",
    "        tickfont=dict(\n",
    "        size=9,\n",
    "        color='black')\n",
    "        ),\n",
    "    yaxis=dict(\n",
    "        title=\"Number of contributors who took X images\",\n",
    "        titlefont = dict(\n",
    "        size=15),\n",
    "        showticklabels=True,\n",
    "        tickfont=dict(\n",
    "        size=9,\n",
    "        color='black')\n",
    "        )\n",
    "    )\n"
   ]
  },
  {
   "cell_type": "code",
   "execution_count": null,
   "metadata": {
    "collapsed": false
   },
   "outputs": [],
   "source": [
    "d = DRS.getCountingLogic(gidAidMapFl,aidFeatureMapFl,\"CONTRIBUTOR\",withNumInds=False)\n",
    "contribImgDct = DS.flipKeyValue(d)"
   ]
  },
  {
   "cell_type": "code",
   "execution_count": null,
   "metadata": {
    "collapsed": false
   },
   "outputs": [],
   "source": [
    "numImgsPerContrib = {key : len(contribImgDct[key]) for key in contribImgDct.keys()}\n",
    "numImgsPerContrib"
   ]
  },
  {
   "cell_type": "code",
   "execution_count": null,
   "metadata": {
    "collapsed": false
   },
   "outputs": [],
   "source": [
    "df = pd.DataFrame(numImgsPerContrib,index=['NumImages']).transpose()\n",
    "df.sort_values(by='NumImages',inplace=True,ascending=False)\n",
    "fig1 = df.iplot(kind='bar',layout=layout)"
   ]
  },
  {
   "cell_type": "code",
   "execution_count": null,
   "metadata": {
    "collapsed": false
   },
   "outputs": [],
   "source": [
    "fig2.embed_code"
   ]
  },
  {
   "cell_type": "code",
   "execution_count": null,
   "metadata": {
    "collapsed": false
   },
   "outputs": [],
   "source": [
    "fig2 = df.iplot(kind='histogram',layout=layout)\n",
    "fig2"
   ]
  },
  {
   "cell_type": "code",
   "execution_count": null,
   "metadata": {
    "collapsed": false
   },
   "outputs": [],
   "source": [
    "import GetPropertiesAPI as GP\n",
    "import json\n",
    "import re"
   ]
  },
  {
   "cell_type": "code",
   "execution_count": null,
   "metadata": {
    "collapsed": false
   },
   "outputs": [],
   "source": [
    "def getAdditionalAnnotFeatures(gidAidMap, ftrName, outFlNm='/tmp/getAdditionalAnnotFeatures.dump.json'):\n",
    "    with open(gidAidMap,\"r\") as gidAidMapFl:\n",
    "        gidAidJson = json.load(gidAidMapFl)\n",
    "\n",
    "    additionalFtrDct = {}\n",
    "    i = 0\n",
    "    for gid in gidAidJson.keys():\n",
    "        additionalFtrDct[gid] = additionalFtrDct.get(gid,[]) + [GP.getImageFeature(gidAidJson[gid][0],ftrName)][0]\n",
    "        print(gidAidJson[gid])\n",
    "        i += 1\n",
    "        if i == 25:\n",
    "            break\n",
    "    return additionalFtrDct"
   ]
  },
  {
   "cell_type": "code",
   "execution_count": null,
   "metadata": {
    "collapsed": false
   },
   "outputs": [],
   "source": [
    "getAdditionalAnnotFeatures(gidAidMapFl,'bbox')"
   ]
  },
  {
   "cell_type": "code",
   "execution_count": null,
   "metadata": {
    "collapsed": false
   },
   "outputs": [],
   "source": [
    "import UploadAndDetectIBEIS as UD\n",
    "import requests\n",
    "import time\n",
    "import uuid\n",
    "import json\n",
    "import os\n",
    "import csv\n",
    "import importlib\n",
    "importlib.reload(UD)\n",
    "import pandas as pd\n",
    "from math import floor"
   ]
  },
  {
   "cell_type": "code",
   "execution_count": null,
   "metadata": {
    "collapsed": true
   },
   "outputs": [],
   "source": [
    "def upload(image_path, flickrURL,signature='api/upload/image'):\n",
    "    url = '%s/%s/' % (DOMAIN, signature)\n",
    "    if image_path == None:\n",
    "        imgFl = str(os.path.basename(flickrURL))\n",
    "    else:\n",
    "        imgFl = str(image_path + str(os.path.basename(flickrURL)))\n",
    "    \n",
    "    file_dict = {\n",
    "        'image': open(imgFl, 'rb'),\n",
    "    }\n",
    "    response = requests.post(url, files=file_dict)\n",
    "    response_dict = response.json()\n",
    "    assert response_dict['status']['success']\n",
    "    return response_dict['response']\n"
   ]
  },
  {
   "cell_type": "code",
   "execution_count": null,
   "metadata": {
    "collapsed": false
   },
   "outputs": [],
   "source": [
    "DOMAIN = 'http://pachy.cs.uic.edu:5001'\n",
    "UD.delete(\"/Users/sreejithmenon/Dropbox/Social_Media_Wildlife_Census/Flickr_Scrape/874508030_d7d6fac093_b.jpg\")"
   ]
  },
  {
   "cell_type": "code",
   "execution_count": null,
   "metadata": {
    "collapsed": false
   },
   "outputs": [],
   "source": [
    "str(os.path.basename(urlList[0]))"
   ]
  },
  {
   "cell_type": "code",
   "execution_count": null,
   "metadata": {
    "collapsed": false
   },
   "outputs": [],
   "source": [
    "df = pd.DataFrame.from_csv(\"../data/beautyFeatures_GZC.csv\").transpose().reset_index()\n",
    "df['index'] = df['index'].apply(lambda x : floor(float(x)))\n",
    "df.columns = ['GID','pleasure','arousal','dominance','y']\n",
    "df['GID'] = df['GID'].apply(lambda x : str(int(x)))\n",
    "df.to_csv(\"/tmp/beautyFeatures_GZC_formatted.csv\",index=False)\n",
    "df.index=df['GID']\n",
    "df.drop(['GID'],1,inplace=True)\n",
    "\n",
    "\n",
    "dctObj = df.to_dict(orient='index')\n",
    "\n",
    "with open(\"../data/beautyFeatures_GZC.json\",\"w\") as jsonObj:\n",
    "    json.dump(dctObj,jsonObj,indent=4)"
   ]
  },
  {
   "cell_type": "code",
   "execution_count": null,
   "metadata": {
    "collapsed": false
   },
   "outputs": [],
   "source": [
    "def combineJson(fl1,fl2,outFlNm):\n",
    "\twith open(fl1,\"r\") as f1, open(fl2,\"r\") as f2:\n",
    "\t\tjObj1 = json.load(f1)\n",
    "\t\tjObj2 = json.load(f2)\n",
    "\n",
    "\t\tfor key in jObj1.keys():\n",
    "\t\t\tjObj1[key].update(jObj2[key])\n",
    "\n",
    "\t\twith open(outFlNm,\"w\") as out:\n",
    "\t\t\tjson.dump(jObj1,out,indent=4)\n",
    "\n",
    "\treturn None"
   ]
  },
  {
   "cell_type": "code",
   "execution_count": null,
   "metadata": {
    "collapsed": false
   },
   "outputs": [],
   "source": [
    "with open(\"../data/imgs_exif_data_full.json\",\"r\") as f1, open(\"../data/beautyFeatures_GZC.json\",\"r\") as f2:\n",
    "    jObj1 = json.load(f1)\n",
    "    jObj2 = json.load(f2)\n",
    "\n",
    "    for key in jObj1.keys():\n",
    "        jObj1[key].update(jObj2[key])\n",
    "    #with open(\"../data/GZC_exifs_beauty_full.json\",\"w\") as out:\n",
    "        #json.dump(jObj1,out,indent=4)\n"
   ]
  },
  {
   "cell_type": "code",
   "execution_count": null,
   "metadata": {
    "collapsed": false
   },
   "outputs": [],
   "source": [
    "len(jObj1.keys()),len(jObj2.keys())"
   ]
  },
  {
   "cell_type": "code",
   "execution_count": null,
   "metadata": {
    "collapsed": false
   },
   "outputs": [],
   "source": [
    "fl1 = \"../data/imgs_exif_data_full.json\"\n",
    "fl2 = \"../data/beautyFeatures_GZC.json\"\n",
    "combineJson(fl1,fl2,\"/tmp/test.json\")"
   ]
  },
  {
   "cell_type": "code",
   "execution_count": null,
   "metadata": {
    "collapsed": true
   },
   "outputs": [],
   "source": [
    "jObj1.update(jObj2)"
   ]
  },
  {
   "cell_type": "code",
   "execution_count": null,
   "metadata": {
    "collapsed": false
   },
   "outputs": [],
   "source": [
    "jObj1"
   ]
  },
  {
   "cell_type": "code",
   "execution_count": null,
   "metadata": {
    "collapsed": false
   },
   "outputs": [],
   "source": [
    "with open(\"../data/fileURLS.dat\", \"r\") as inp:\n",
    "    urlList = [url for url in inp.read().split(\"\\n\")]\n",
    "\n",
    "farm1Urls = []\n",
    "farm2Urls = []\n",
    "farm3Urls = []\n",
    "farm4Urls = []\n",
    "farm5Urls = []\n",
    "farm6Urls = []\n",
    "farm7Urls = []\n",
    "farm8Urls = []\n",
    "farm9Urls = []\n",
    "\n",
    "for url in urlList:\n",
    "    if 'farm1' in url:\n",
    "        farm1Urls.append(url)\n",
    "    if 'farm2' in url:\n",
    "        farm2Urls.append(url)\n",
    "    if 'farm3' in url:\n",
    "        farm3Urls.append(url)\n",
    "    if 'farm4' in url:\n",
    "        farm4Urls.append(url)\n",
    "    if 'farm5' in url:\n",
    "        farm5Urls.append(url)\n",
    "    if 'farm6' in url:\n",
    "        farm6Urls.append(url)\n",
    "    if 'farm7' in url:\n",
    "        farm7Urls.append(url)\n",
    "    if 'farm8' in url:\n",
    "        farm8Urls.append(url)\n",
    "    if 'farm9' in url:\n",
    "        farm9Urls.append(url)\n",
    "    \n",
    "print(len(urlList))\n",
    "print(len(farm1Urls), len(farm2Urls), len(farm3Urls), len(farm4Urls), len(farm5Urls), len(farm6Urls), len(farm7Urls), len(farm8Urls), len(farm9Urls))"
   ]
  },
  {
   "cell_type": "code",
   "execution_count": null,
   "metadata": {
    "collapsed": false
   },
   "outputs": [],
   "source": [
    "import numpy as np"
   ]
  },
  {
   "cell_type": "code",
   "execution_count": null,
   "metadata": {
    "collapsed": false
   },
   "outputs": [],
   "source": [
    "nums = [i for i in range(0,len(urlList),300)]\n",
    "\n",
    "for i in range(1,len(nums)):\n",
    "    print(\"Downloading from range %i to %i\" %(nums[i-1],nums[i]-1))\n",
    "    print(nums[i-1],nums[i]-1)\n",
    "print(nums[i])"
   ]
  },
  {
   "cell_type": "code",
   "execution_count": null,
   "metadata": {
    "collapsed": false
   },
   "outputs": [],
   "source": [
    "import SocialMediaImageExtracts as SM \n",
    "importlib.reload(SM)"
   ]
  },
  {
   "cell_type": "code",
   "execution_count": null,
   "metadata": {
    "collapsed": false
   },
   "outputs": [],
   "source": [
    "fObj = SM.createFlickrObj(\"/Users/sreejithmenon/Google Drive/CodeBase/flickr_key.json\")"
   ]
  },
  {
   "cell_type": "code",
   "execution_count": null,
   "metadata": {
    "collapsed": false
   },
   "outputs": [],
   "source": [
    "fObj.photos.geo.getLocation(photo_id = '990767889')"
   ]
  },
  {
   "cell_type": "code",
   "execution_count": null,
   "metadata": {
    "collapsed": true
   },
   "outputs": [],
   "source": [
    "with open(\"../data/fileURLS.dat\",\"r\") as urlListFl:\n",
    "    urlList = [url for url in urlListFl.read().split(\"\\n\")]"
   ]
  },
  {
   "cell_type": "code",
   "execution_count": null,
   "metadata": {
    "collapsed": false
   },
   "outputs": [],
   "source": [
    "urlList"
   ]
  },
  {
   "cell_type": "code",
   "execution_count": null,
   "metadata": {
    "collapsed": false
   },
   "outputs": [],
   "source": [
    "re.findall(r'.*/(.*)_.*_b.jpg','https://farm1.staticflickr.com/199/442521058_459c3ad11b_b.jpg')[0]"
   ]
  },
  {
   "cell_type": "code",
   "execution_count": null,
   "metadata": {
    "collapsed": false
   },
   "outputs": [],
   "source": [
    "imgIds = [re.findall(r'.*/(.*)_.*_b.jpg', url)[0] for url in urlList]\n",
    "imgIds"
   ]
  },
  {
   "cell_type": "code",
   "execution_count": null,
   "metadata": {
    "collapsed": false
   },
   "outputs": [],
   "source": [
    "exifJson = json.loads(fObj.photos.geo.getLocation(photo_id = 442569278).decode('utf-8'))"
   ]
  },
  {
   "cell_type": "code",
   "execution_count": null,
   "metadata": {
    "collapsed": false
   },
   "outputs": [],
   "source": [
    "exifJson"
   ]
  },
  {
   "cell_type": "code",
   "execution_count": null,
   "metadata": {
    "collapsed": false
   },
   "outputs": [],
   "source": [
    "SM._getExif(fObj, 6214226383)"
   ]
  },
  {
   "cell_type": "code",
   "execution_count": null,
   "metadata": {
    "collapsed": true
   },
   "outputs": [],
   "source": [
    "import requests\n",
    "import json\n",
    "import datetime"
   ]
  },
  {
   "cell_type": "code",
   "execution_count": null,
   "metadata": {
    "collapsed": true
   },
   "outputs": [],
   "source": [
    "DS.combineJson(\"../data/imgs_exif_data_full.json\",\"../data/beautyFeatures_GZC.json\",\"../data/GZC_exifs_beauty_full.json\")"
   ]
  },
  {
   "cell_type": "code",
   "execution_count": null,
   "metadata": {
    "collapsed": false,
    "scrolled": false
   },
   "outputs": [],
   "source": [
    "## /api/annot/image/contributor/tag/json/?annot_uuid_list=[{\"__UUID__\":\"8b595dc0-9c5a-4caf-9703-9f8ff017e824\"}]\n",
    "\n",
    "baseurl = 'http://lev.cs.rpi.edu:8080/ggr/ia'\n",
    "\n",
    "response = requests.get(baseurl + '/api/annot/image/contributor/tag/json/' , \n",
    "                        data = dict(annot_uuid_list=[{\"__UUID__\" : \"8b595dc0-9c5a-4caf-9703-9f8ff017e824\"}]))"
   ]
  },
  {
   "cell_type": "code",
   "execution_count": null,
   "metadata": {
    "collapsed": false
   },
   "outputs": [],
   "source": [
    "response"
   ]
  },
  {
   "cell_type": "code",
   "execution_count": null,
   "metadata": {
    "collapsed": true
   },
   "outputs": [],
   "source": [
    "import ExtractBtyFtrs as E"
   ]
  },
  {
   "cell_type": "code",
   "execution_count": null,
   "metadata": {
    "collapsed": false
   },
   "outputs": [],
   "source": [
    "path = \"/Users/sreejithmenon/Dropbox/Social_Media_Wildlife_Census/Flickr_Scrape/something.jpeg\"\n",
    "os.path.basename(path)"
   ]
  },
  {
   "cell_type": "code",
   "execution_count": null,
   "metadata": {
    "collapsed": false
   },
   "outputs": [],
   "source": [
    "path = \"/Users/sreejithmenon/Dropbox/Social_Media_Wildlife_Census/Flickr_Scrape/something.jpeg\"\n",
    "with open(\"../data/fileURLS.dat\",\"r\") as urlListFl:\n",
    "    urlList = [url for url in urlListFl.read().split(\"\\n\")]\n",
    "    \n",
    "imgs = [path + os.path.basename(url) for url in urlList]\n",
    "len(imgs)"
   ]
  },
  {
   "cell_type": "code",
   "execution_count": null,
   "metadata": {
    "collapsed": false
   },
   "outputs": [],
   "source": [
    "len(urlList)"
   ]
  },
  {
   "cell_type": "code",
   "execution_count": null,
   "metadata": {
    "collapsed": true
   },
   "outputs": [],
   "source": [
    "imgFlNm = \"/Users/sreejithmenon/Dropbox/Social_Media_Wildlife_Census/Flickr_Scrape/4639651861_f060e7c51d_b.jpg\""
   ]
  },
  {
   "cell_type": "code",
   "execution_count": null,
   "metadata": {
    "collapsed": false
   },
   "outputs": [],
   "source": [
    "E.final_ftr_obj_global"
   ]
  },
  {
   "cell_type": "code",
   "execution_count": null,
   "metadata": {
    "collapsed": true
   },
   "outputs": [],
   "source": [
    "from skimage import io, color, feature, transform"
   ]
  },
  {
   "cell_type": "code",
   "execution_count": null,
   "metadata": {
    "collapsed": true
   },
   "outputs": [],
   "source": [
    "rgbImg = io.imread(imgFlNm)"
   ]
  },
  {
   "cell_type": "code",
   "execution_count": null,
   "metadata": {
    "collapsed": false
   },
   "outputs": [],
   "source": [
    "len(rgbImg.shape) "
   ]
  },
  {
   "cell_type": "code",
   "execution_count": null,
   "metadata": {
    "collapsed": true
   },
   "outputs": [],
   "source": [
    "from DataStructsHelperAPI import combineJson\n",
    "import json"
   ]
  },
  {
   "cell_type": "code",
   "execution_count": null,
   "metadata": {
    "collapsed": false
   },
   "outputs": [],
   "source": [
    "with open(\"../data/beautyFeatures_FlickrExtracts.json\",\"r\") as jsonObj:\n",
    "    dct = json.load(jsonObj)"
   ]
  },
  {
   "cell_type": "code",
   "execution_count": null,
   "metadata": {
    "collapsed": false
   },
   "outputs": [],
   "source": [
    "dct = dict(dct)"
   ]
  },
  {
   "cell_type": "code",
   "execution_count": null,
   "metadata": {
    "collapsed": false
   },
   "outputs": [],
   "source": [
    "flNms = [key for key in dct.keys() if dct[key] == None]"
   ]
  },
  {
   "cell_type": "code",
   "execution_count": null,
   "metadata": {
    "collapsed": false
   },
   "outputs": [],
   "source": [
    "for fl in flNms:\n",
    "    print('echo \"deleting file %s\"' %fl)\n",
    "    print('rm %s' %fl)\n",
    "    print()"
   ]
  },
  {
   "cell_type": "code",
   "execution_count": null,
   "metadata": {
    "collapsed": false
   },
   "outputs": [],
   "source": [
    "new_dct = {key.split('.')[0] : dct[key] for key in dct.keys() if dct[key] != None}"
   ]
  },
  {
   "cell_type": "code",
   "execution_count": null,
   "metadata": {
    "collapsed": false
   },
   "outputs": [],
   "source": [
    "len(new_dct.keys()), len(dct.keys())"
   ]
  },
  {
   "cell_type": "code",
   "execution_count": null,
   "metadata": {
    "collapsed": false
   },
   "outputs": [],
   "source": [
    "with open(\"../data/beautyFeatures_FlickrExtracts_full.json\", \"w\") as jsonObj:\n",
    "    json.dump(new_dct, jsonObj, indent = 4)"
   ]
  },
  {
   "cell_type": "code",
   "execution_count": 5,
   "metadata": {
    "collapsed": false
   },
   "outputs": [],
   "source": [
    "import json\n",
    "from UploadAndDetectIBEIS import upload\n",
    "with open(\"../data/beautyFeatures_FlickrExtracts_full.json\", \"r\") as jsonObj:\n",
    "    flckrImgs = json.load(jsonObj)\n",
    "\n",
    "imgPath = '/Users/sreejithmenon/Dropbox/Social_Media_Wildlife_Census/Flickr_Scrape/'\n",
    "gidFlNmDict = {upload(imgPath+img+'.jpg') : img for img in list(flckrImgs.keys())}    "
   ]
  },
  {
   "cell_type": "code",
   "execution_count": null,
   "metadata": {
    "collapsed": false
   },
   "outputs": [],
   "source": [
    "'4857752139_41202fe3b0_b.jpeg' in flNms"
   ]
  },
  {
   "cell_type": "code",
   "execution_count": 4,
   "metadata": {
    "collapsed": false
   },
   "outputs": [
    {
     "data": {
      "text/plain": [
       "False"
      ]
     },
     "execution_count": 4,
     "metadata": {},
     "output_type": "execute_result"
    }
   ],
   "source": [
    "'5943100313_b29674bb5d_b.jpeg' in list(flckrImgs.keys())"
   ]
  },
  {
   "cell_type": "code",
   "execution_count": null,
   "metadata": {
    "collapsed": true
   },
   "outputs": [],
   "source": []
  }
 ],
 "metadata": {
  "kernelspec": {
   "display_name": "Python 3",
   "language": "python",
   "name": "python3"
  },
  "language_info": {
   "codemirror_mode": {
    "name": "ipython",
    "version": 3
   },
   "file_extension": ".py",
   "mimetype": "text/x-python",
   "name": "python",
   "nbconvert_exporter": "python",
   "pygments_lexer": "ipython3",
   "version": "3.5.2"
  }
 },
 "nbformat": 4,
 "nbformat_minor": 0
}
