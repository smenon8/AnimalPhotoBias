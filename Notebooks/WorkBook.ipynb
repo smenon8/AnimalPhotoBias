{
 "cells": [
  {
   "cell_type": "code",
   "execution_count": null,
   "metadata": {
    "collapsed": false
   },
   "outputs": [],
   "source": [
    "import DeriveFinalResultSet as DRS\n",
    "import DataStructsHelperAPI as DS\n",
    "import importlib\n",
    "importlib.reload(DS)\n",
    "import pandas as pd\n",
    "import cufflinks as cf # this is necessary to link pandas to plotly\n",
    "cf.go_online()\n",
    "import plotly.graph_objs as go\n",
    "import numpy as np\n",
    "from plotly.offline import download_plotlyjs, init_notebook_mode, plot, iplot\n",
    "gidAidMapFl = \"../data/full_gid_aid_map.json\"\n",
    "aidFeatureMapFl = \"../data/full_aid_features.json\"\n",
    "\n",
    "layout = go.Layout(\n",
    "    title=\"Number of images taken (X)\",\n",
    "    titlefont = dict(size=15),\n",
    "    xaxis=dict(\n",
    "        title=\"Contributors\",\n",
    "        titlefont = dict(\n",
    "        size=15),\n",
    "        showticklabels=True,\n",
    "        tickangle=35,\n",
    "        tickfont=dict(\n",
    "        size=9,\n",
    "        color='black')\n",
    "        ),\n",
    "    yaxis=dict(\n",
    "        title=\"Number of contributors who took X images\",\n",
    "        titlefont = dict(\n",
    "        size=15),\n",
    "        showticklabels=True,\n",
    "        tickfont=dict(\n",
    "        size=9,\n",
    "        color='black')\n",
    "        )\n",
    "    )\n"
   ]
  },
  {
   "cell_type": "code",
   "execution_count": null,
   "metadata": {
    "collapsed": false
   },
   "outputs": [],
   "source": [
    "d = DRS.getCountingLogic(gidAidMapFl,aidFeatureMapFl,\"CONTRIBUTOR\",withNumInds=False)\n",
    "contribImgDct = DS.flipKeyValue(d)"
   ]
  },
  {
   "cell_type": "code",
   "execution_count": null,
   "metadata": {
    "collapsed": false
   },
   "outputs": [],
   "source": [
    "numImgsPerContrib = {key : len(contribImgDct[key]) for key in contribImgDct.keys()}\n",
    "numImgsPerContrib"
   ]
  },
  {
   "cell_type": "code",
   "execution_count": null,
   "metadata": {
    "collapsed": false
   },
   "outputs": [],
   "source": [
    "df = pd.DataFrame(numImgsPerContrib,index=['NumImages']).transpose()\n",
    "df.sort_values(by='NumImages',inplace=True,ascending=False)\n",
    "fig1 = df.iplot(kind='bar',layout=layout)"
   ]
  },
  {
   "cell_type": "code",
   "execution_count": null,
   "metadata": {
    "collapsed": false
   },
   "outputs": [],
   "source": [
    "fig2.embed_code"
   ]
  },
  {
   "cell_type": "code",
   "execution_count": null,
   "metadata": {
    "collapsed": false
   },
   "outputs": [],
   "source": [
    "fig2 = df.iplot(kind='histogram',layout=layout)\n",
    "fig2"
   ]
  },
  {
   "cell_type": "code",
   "execution_count": null,
   "metadata": {
    "collapsed": false
   },
   "outputs": [],
   "source": [
    "import GetPropertiesAPI as GP\n",
    "import json\n",
    "import re"
   ]
  },
  {
   "cell_type": "code",
   "execution_count": null,
   "metadata": {
    "collapsed": false
   },
   "outputs": [],
   "source": [
    "def getAdditionalAnnotFeatures(gidAidMap, ftrName, outFlNm='/tmp/getAdditionalAnnotFeatures.dump.json'):\n",
    "    with open(gidAidMap,\"r\") as gidAidMapFl:\n",
    "        gidAidJson = json.load(gidAidMapFl)\n",
    "\n",
    "    additionalFtrDct = {}\n",
    "    i = 0\n",
    "    for gid in gidAidJson.keys():\n",
    "        additionalFtrDct[gid] = additionalFtrDct.get(gid,[]) + [GP.getImageFeature(gidAidJson[gid][0],ftrName)][0]\n",
    "        print(gidAidJson[gid])\n",
    "        i += 1\n",
    "        if i == 25:\n",
    "            break\n",
    "    return additionalFtrDct"
   ]
  },
  {
   "cell_type": "code",
   "execution_count": null,
   "metadata": {
    "collapsed": false
   },
   "outputs": [],
   "source": [
    "getAdditionalAnnotFeatures(gidAidMapFl,'bbox')"
   ]
  },
  {
   "cell_type": "code",
   "execution_count": null,
   "metadata": {
    "collapsed": false
   },
   "outputs": [],
   "source": [
    "df = pd.DataFrame.from_csv(\"../data/beautyFeatures_GZC.csv\").transpose().reset_index()\n",
    "df['index'] = df['index'].apply(lambda x : floor(float(x)))\n",
    "df.columns = ['GID','pleasure','arousal','dominance','y']\n",
    "df['GID'] = df['GID'].apply(lambda x : str(int(x)))\n",
    "df.to_csv(\"/tmp/beautyFeatures_GZC_formatted.csv\",index=False)\n",
    "df.index=df['GID']\n",
    "df.drop(['GID'],1,inplace=True)\n",
    "\n",
    "\n",
    "dctObj = df.to_dict(orient='index')\n",
    "\n",
    "with open(\"../data/beautyFeatures_GZC.json\",\"w\") as jsonObj:\n",
    "    json.dump(dctObj,jsonObj,indent=4)"
   ]
  },
  {
   "cell_type": "code",
   "execution_count": null,
   "metadata": {
    "collapsed": false
   },
   "outputs": [],
   "source": [
    "def combineJson(fl1,fl2,outFlNm):\n",
    "\twith open(fl1,\"r\") as f1, open(fl2,\"r\") as f2:\n",
    "\t\tjObj1 = json.load(f1)\n",
    "\t\tjObj2 = json.load(f2)\n",
    "\n",
    "\t\tfor key in jObj1.keys():\n",
    "\t\t\tjObj1[key].update(jObj2[key])\n",
    "\n",
    "\t\twith open(outFlNm,\"w\") as out:\n",
    "\t\t\tjson.dump(jObj1,out,indent=4)\n",
    "\n",
    "\treturn None"
   ]
  },
  {
   "cell_type": "code",
   "execution_count": null,
   "metadata": {
    "collapsed": false
   },
   "outputs": [],
   "source": [
    "with open(\"../data/imgs_exif_data_full.json\",\"r\") as f1, open(\"../data/beautyFeatures_GZC.json\",\"r\") as f2:\n",
    "    jObj1 = json.load(f1)\n",
    "    jObj2 = json.load(f2)\n",
    "\n",
    "    for key in jObj1.keys():\n",
    "        jObj1[key].update(jObj2[key])\n",
    "    #with open(\"../data/GZC_exifs_beauty_full.json\",\"w\") as out:\n",
    "        #json.dump(jObj1,out,indent=4)\n"
   ]
  },
  {
   "cell_type": "code",
   "execution_count": null,
   "metadata": {
    "collapsed": false
   },
   "outputs": [],
   "source": [
    "len(jObj1.keys()),len(jObj2.keys())"
   ]
  },
  {
   "cell_type": "code",
   "execution_count": null,
   "metadata": {
    "collapsed": false
   },
   "outputs": [],
   "source": [
    "fl1 = \"../data/imgs_exif_data_full.json\"\n",
    "fl2 = \"../data/beautyFeatures_GZC.json\"\n",
    "combineJson(fl1,fl2,\"/tmp/test.json\")"
   ]
  },
  {
   "cell_type": "code",
   "execution_count": null,
   "metadata": {
    "collapsed": true
   },
   "outputs": [],
   "source": [
    "jObj1.update(jObj2)"
   ]
  },
  {
   "cell_type": "code",
   "execution_count": null,
   "metadata": {
    "collapsed": false
   },
   "outputs": [],
   "source": [
    "jObj1"
   ]
  },
  {
   "cell_type": "code",
   "execution_count": null,
   "metadata": {
    "collapsed": false
   },
   "outputs": [],
   "source": [
    "import numpy as np"
   ]
  },
  {
   "cell_type": "code",
   "execution_count": null,
   "metadata": {
    "collapsed": false
   },
   "outputs": [],
   "source": [
    "nums = [i for i in range(0,len(urlList),300)]\n",
    "\n",
    "for i in range(1,len(nums)):\n",
    "    print(\"Downloading from range %i to %i\" %(nums[i-1],nums[i]-1))\n",
    "    print(nums[i-1],nums[i]-1)\n",
    "print(nums[i])"
   ]
  },
  {
   "cell_type": "code",
   "execution_count": null,
   "metadata": {
    "collapsed": false
   },
   "outputs": [],
   "source": [
    "import SocialMediaImageExtracts as SM \n",
    "importlib.reload(SM)"
   ]
  },
  {
   "cell_type": "code",
   "execution_count": null,
   "metadata": {
    "collapsed": false
   },
   "outputs": [],
   "source": [
    "fObj = SM.createFlickrObj(\"/Users/sreejithmenon/Google Drive/CodeBase/flickr_key.json\")"
   ]
  },
  {
   "cell_type": "code",
   "execution_count": null,
   "metadata": {
    "collapsed": false
   },
   "outputs": [],
   "source": [
    "fObj.photos.geo.getLocation(photo_id = '990767889')"
   ]
  },
  {
   "cell_type": "code",
   "execution_count": null,
   "metadata": {
    "collapsed": true
   },
   "outputs": [],
   "source": [
    "with open(\"../data/fileURLS.dat\",\"r\") as urlListFl:\n",
    "    urlList = [url for url in urlListFl.read().split(\"\\n\")]"
   ]
  },
  {
   "cell_type": "code",
   "execution_count": null,
   "metadata": {
    "collapsed": false
   },
   "outputs": [],
   "source": [
    "exifJson = json.loads(fObj.photos.geo.getLocation(photo_id = 442569278).decode('utf-8'))"
   ]
  },
  {
   "cell_type": "code",
   "execution_count": null,
   "metadata": {
    "collapsed": false
   },
   "outputs": [],
   "source": [
    "exifJson"
   ]
  },
  {
   "cell_type": "code",
   "execution_count": null,
   "metadata": {
    "collapsed": false
   },
   "outputs": [],
   "source": [
    "SM._getExif(fObj, 6214226383)"
   ]
  },
  {
   "cell_type": "code",
   "execution_count": null,
   "metadata": {
    "collapsed": true
   },
   "outputs": [],
   "source": [
    "import ExtractBtyFtrs as E"
   ]
  },
  {
   "cell_type": "code",
   "execution_count": null,
   "metadata": {
    "collapsed": false
   },
   "outputs": [],
   "source": [
    "path = \"/Users/sreejithmenon/Dropbox/Social_Media_Wildlife_Census/Flickr_Scrape/something.jpeg\"\n",
    "os.path.basename(path)"
   ]
  },
  {
   "cell_type": "code",
   "execution_count": null,
   "metadata": {
    "collapsed": false
   },
   "outputs": [],
   "source": [
    "path = \"/Users/sreejithmenon/Dropbox/Social_Media_Wildlife_Census/Flickr_Scrape/something.jpeg\"\n",
    "with open(\"../data/fileURLS.dat\",\"r\") as urlListFl:\n",
    "    urlList = [url for url in urlListFl.read().split(\"\\n\")]\n",
    "    \n",
    "imgs = [path + os.path.basename(url) for url in urlList]\n",
    "len(imgs)"
   ]
  },
  {
   "cell_type": "code",
   "execution_count": null,
   "metadata": {
    "collapsed": false
   },
   "outputs": [],
   "source": [
    "new_dct = {key.split('.')[0] : dct[key] for key in dct.keys() if dct[key] != None and key.split('.')[0] not in blnkFls}"
   ]
  },
  {
   "cell_type": "code",
   "execution_count": null,
   "metadata": {
    "collapsed": false
   },
   "outputs": [],
   "source": [
    "len(new_dct.keys()), len(dct.keys())"
   ]
  },
  {
   "cell_type": "code",
   "execution_count": null,
   "metadata": {
    "collapsed": false
   },
   "outputs": [],
   "source": [
    "with open(\"../data/beautyFeatures_FlickrExtracts_full.json\", \"w\") as jsonObj:\n",
    "    json.dump(new_dct, jsonObj, indent = 4)"
   ]
  },
  {
   "cell_type": "code",
   "execution_count": null,
   "metadata": {
    "collapsed": false
   },
   "outputs": [],
   "source": [
    "len(blnkFls)"
   ]
  },
  {
   "cell_type": "code",
   "execution_count": null,
   "metadata": {
    "collapsed": true
   },
   "outputs": [],
   "source": [
    "import UploadAndDetectIBEIS as UD\n",
    "import json"
   ]
  },
  {
   "cell_type": "code",
   "execution_count": null,
   "metadata": {
    "collapsed": false
   },
   "outputs": [],
   "source": [
    "UD.upload(\"/Users/sreejithmenon/Downloads/grevys.jpg\")"
   ]
  },
  {
   "cell_type": "code",
   "execution_count": null,
   "metadata": {
    "collapsed": false
   },
   "outputs": [],
   "source": [
    "data_dict = {\n",
    "    'gid_list' : [i for i in range(1,525)]\n",
    "}\n",
    "UD.delete('api/image',data_dict)"
   ]
  },
  {
   "cell_type": "code",
   "execution_count": null,
   "metadata": {
    "collapsed": true
   },
   "outputs": [],
   "source": [
    "imgPath = '/Users/sreejithmenon/Dropbox/Social_Media_Wildlife_Census/Flickr_Scrape/'\n",
    "with open (imgPath + 'good_images.dat' , \"r\") as imgs:\n",
    "    l = imgs.read().split(\"\\n\")"
   ]
  },
  {
   "cell_type": "code",
   "execution_count": null,
   "metadata": {
    "collapsed": false
   },
   "outputs": [],
   "source": [
    "with open(\"../data/beautyFeatures_FlickrExtracts_full.json\", \"w\") as jsonObj:\n",
    "        flckrImgs = json.dump(good_imgs_data, jsonObj, indent = 4)\n"
   ]
  },
  {
   "cell_type": "code",
   "execution_count": null,
   "metadata": {
    "collapsed": false
   },
   "outputs": [],
   "source": [
    "good_imgs_data = {}\n",
    "i = 0\n",
    "for img in l:\n",
    "    i += 1\n",
    "    imgHeader = img.split(\".\")[0]\n",
    "    good_imgs_data[imgHeader] = flckrImgs[imgHeader]"
   ]
  },
  {
   "cell_type": "code",
   "execution_count": null,
   "metadata": {
    "collapsed": false
   },
   "outputs": [],
   "source": [
    "i"
   ]
  },
  {
   "cell_type": "code",
   "execution_count": null,
   "metadata": {
    "collapsed": false
   },
   "outputs": [],
   "source": [
    "len(good_imgs_data), len(flckrImgs.keys())"
   ]
  },
  {
   "cell_type": "code",
   "execution_count": null,
   "metadata": {
    "collapsed": false
   },
   "outputs": [],
   "source": [
    "len(flckrImgs.keys())"
   ]
  },
  {
   "cell_type": "code",
   "execution_count": null,
   "metadata": {
    "collapsed": true
   },
   "outputs": [],
   "source": [
    "import ClassiferHelperAPI as CH\n",
    "import pandas as pd\n",
    "import numpy as np\n",
    "import ClassifierCapsuleClass as CLF\n",
    "kwargsDict = {'dummy' : {'strategy' : 'most_frequent'},\n",
    "                'bayesian' : {'fit_prior' : True},\n",
    "                'logistic' : {'penalty' : 'l2'},\n",
    "                'svm' : {'kernel' : 'rbf','probability' : True},\n",
    "                'dtree' : {'criterion' : 'entropy'},\n",
    "                'random_forests' : {'n_estimators' : 10 },\n",
    "                'ada_boost' : {'n_estimators' : 50 }}"
   ]
  },
  {
   "cell_type": "code",
   "execution_count": null,
   "metadata": {
    "collapsed": false
   },
   "outputs": [],
   "source": [
    "data= CH.getMasterData(\"../FinalResults/ImgShrRnkListWithTags.csv\")  \n",
    "allAttribs = CH.genAllAttribs(\"../FinalResults/ImgShrRnkListWithTags.csv\",'sparse',\"../data/infoGainsExpt2.csv\")"
   ]
  },
  {
   "cell_type": "code",
   "execution_count": null,
   "metadata": {
    "collapsed": false
   },
   "outputs": [],
   "source": [
    "gidAttribDict = CH.createDataFlDict(data,allAttribs,80) "
   ]
  },
  {
   "cell_type": "code",
   "execution_count": null,
   "metadata": {
    "collapsed": false
   },
   "outputs": [],
   "source": [
    "inpData = pd.DataFrame.from_csv(\"../data/BeautyFtrVector_GZC_Expt2.csv\")\n",
    "inpData.drop(['Proportion'],1,inplace=True)"
   ]
  },
  {
   "cell_type": "code",
   "execution_count": null,
   "metadata": {
    "collapsed": false
   },
   "outputs": [],
   "source": [
    "btyDict = inpData.to_dict(orient='index')\n",
    "btyDict = {str(gid) : btyDict[gid] for gid in btyDict.keys()}\n",
    "gidAttribDict = {str(gid) : dict(gidAttribDict[gid]) for gid in gidAttribDict.keys()}"
   ]
  },
  {
   "cell_type": "code",
   "execution_count": null,
   "metadata": {
    "collapsed": false
   },
   "outputs": [],
   "source": [
    "for gid in gidAttribDict.keys():\n",
    "    gidAttribDict[gid].update(btyDict[gid])"
   ]
  },
  {
   "cell_type": "code",
   "execution_count": null,
   "metadata": {
    "collapsed": false
   },
   "outputs": [],
   "source": [
    "X = pd.DataFrame(gidAttribDict).transpose()\n",
    "y = X['TARGET']\n",
    "X.drop(['TARGET'], 1, inplace=True)"
   ]
  },
  {
   "cell_type": "code",
   "execution_count": null,
   "metadata": {
    "collapsed": false
   },
   "outputs": [],
   "source": [
    "train_x, test_x, train_y, test_y = CH.train_test_split(X, y, test_size = 0.2)"
   ]
  },
  {
   "cell_type": "code",
   "execution_count": null,
   "metadata": {
    "collapsed": false
   },
   "outputs": [],
   "source": [
    "clf = CH.getLearningAlgo('logistic', kwargsDict['logistic'])\n",
    "clfObj = CLF.ClassifierCapsule(clf,'logistic',1-0.2,train_x,train_y,test_x,test_y)\n",
    "clfObj.runClf()"
   ]
  },
  {
   "cell_type": "code",
   "execution_count": null,
   "metadata": {
    "collapsed": false
   },
   "outputs": [],
   "source": [
    "clfObj.f1Score"
   ]
  },
  {
   "cell_type": "code",
   "execution_count": null,
   "metadata": {
    "collapsed": false
   },
   "outputs": [],
   "source": [
    "gidAttribDict['10']"
   ]
  },
  {
   "cell_type": "code",
   "execution_count": null,
   "metadata": {
    "collapsed": true
   },
   "outputs": [],
   "source": []
  },
  {
   "cell_type": "code",
   "execution_count": null,
   "metadata": {
    "collapsed": false
   },
   "outputs": [],
   "source": [
    "import json, pandas as pd\n",
    "from plotly.offline import download_plotlyjs, init_notebook_mode, plot, iplot\n",
    "from collections import Counter\n",
    "import plotly.graph_objs as go\n",
    "import cufflinks as cf\n",
    "cf.go_offline()\n",
    "import plotly.plotly as py\n",
    "import matplotlib.pyplot as plt"
   ]
  },
  {
   "cell_type": "code",
   "execution_count": null,
   "metadata": {
    "collapsed": true
   },
   "outputs": [],
   "source": [
    "with open(\"../data/Flickr_EXIF_full.json\" , \"r\") as full:\n",
    "    exif_d = json.load(full)"
   ]
  },
  {
   "cell_type": "code",
   "execution_count": null,
   "metadata": {
    "collapsed": false
   },
   "outputs": [],
   "source": [
    "df = pd.DataFrame.from_dict(exif_d).transpose()\n",
    "df['datetime'] = pd.to_datetime(df['date'])\n",
    "df['date'] = df['datetime'].dt.date\n",
    "df.head()"
   ]
  },
  {
   "cell_type": "code",
   "execution_count": null,
   "metadata": {
    "collapsed": false
   },
   "outputs": [],
   "source": [
    "df.date = df.date.astype(\"datetime64\")\n",
    "d = df.groupby([df.date.dt.year, df.date.dt.month]).count()['date']"
   ]
  },
  {
   "cell_type": "code",
   "execution_count": null,
   "metadata": {
    "collapsed": false
   },
   "outputs": [],
   "source": [
    "dates = list(df['date'])\n",
    "\n",
    "dates = [date.strftime(\"%Y-%m-%d\") for date in dates]"
   ]
  },
  {
   "cell_type": "code",
   "execution_count": null,
   "metadata": {
    "collapsed": false
   },
   "outputs": [],
   "source": [
    "c = dict(Counter(dates))\n",
    "\n",
    "layout= go.Layout(\n",
    "                title= \"Timeline distribution of Flickr Images\",\n",
    "                showlegend=False,\n",
    "                xaxis= dict(\n",
    "                    title= 'Date',\n",
    "                    ticklen= 5,\n",
    "                    zeroline= True,\n",
    "                    gridwidth= 2\n",
    "                ),\n",
    "                yaxis=dict(\n",
    "                    title= 'Number of Images taken',\n",
    "                    ticklen= 5,\n",
    "                    gridwidth= 2,\n",
    "                    #range=range\n",
    "                )\n",
    "            )\n",
    "\n",
    "trace1 = go.Scatter(\n",
    "            x = list(c.keys()),\n",
    "            y = list(c.values()),\n",
    "            mode = 'markers'\n",
    "        )\n",
    "\n",
    "\n",
    "data = [trace1]\n",
    "\n",
    "fig = dict(data=data, layout=layout)"
   ]
  },
  {
   "cell_type": "code",
   "execution_count": null,
   "metadata": {
    "collapsed": true
   },
   "outputs": [],
   "source": []
  },
  {
   "cell_type": "code",
   "execution_count": null,
   "metadata": {
    "collapsed": true
   },
   "outputs": [],
   "source": [
    "import DataStructsHelperAPI as DS, re"
   ]
  },
  {
   "cell_type": "code",
   "execution_count": null,
   "metadata": {
    "collapsed": true
   },
   "outputs": [],
   "source": [
    "with open(\"../data/flickr_imgs_gid_flnm_map.json\", \"r\") as fl:\n",
    "    gid_flnm_map = json.load(fl)\n"
   ]
  },
  {
   "cell_type": "code",
   "execution_count": null,
   "metadata": {
    "collapsed": false
   },
   "outputs": [],
   "source": [
    "flnm_gid_map = DS.flipKeyValue(gid_flnm_map)"
   ]
  },
  {
   "cell_type": "code",
   "execution_count": null,
   "metadata": {
    "collapsed": false
   },
   "outputs": [],
   "source": [
    "with open(\"../data/Flickr_EXIF_Full_new.json\", \"r\") as fl:\n",
    "    flickr_exif = json.load(fl)\n",
    "    \n",
    "flickr_exif_gid = {flnm_gid_map[flnm] : flickr_exif[re.findall('([0-9]+)_.*', flnm)[0]] for flnm in flnm_gid_map.keys()}\n",
    "\n",
    "with open(\"../data/Flickr_EXIF_Full_new.json\", \"w\") as fl:\n",
    "    json.dump(flickr_exif_gid, fl, indent=4)"
   ]
  },
  {
   "cell_type": "code",
   "execution_count": null,
   "metadata": {
    "collapsed": false
   },
   "outputs": [],
   "source": [
    "len(flickr_exif.keys()), len(flnm_gid_map.keys())"
   ]
  },
  {
   "cell_type": "code",
   "execution_count": null,
   "metadata": {
    "collapsed": false
   },
   "outputs": [],
   "source": [
    "d = DS.appendJSON(\"../data/Flickr_EXIF_full.json\", \"../data/Flickr_EXIF_Full_new.json\")"
   ]
  },
  {
   "cell_type": "code",
   "execution_count": null,
   "metadata": {
    "collapsed": false
   },
   "outputs": [],
   "source": []
  },
  {
   "cell_type": "code",
   "execution_count": null,
   "metadata": {
    "collapsed": true
   },
   "outputs": [],
   "source": [
    "with open(\"/Users/sreejithmenon/Downloads/new.json\", \"r\") as fl:\n",
    "    old_bty_json = json.load(fl)"
   ]
  },
  {
   "cell_type": "code",
   "execution_count": null,
   "metadata": {
    "collapsed": false
   },
   "outputs": [],
   "source": [
    "bty_json_new_gid = {flnm_gid_map[key] : old_bty_json[key] for key in flnm_gid_map.keys()}"
   ]
  },
  {
   "cell_type": "code",
   "execution_count": null,
   "metadata": {
    "collapsed": false
   },
   "outputs": [],
   "source": [
    "with open(\"/Users/sreejithmenon/Downloads/old.json\", \"w\") as fl:\n",
    "    json.dump(bty_json_new_gid, fl, indent=4)"
   ]
  },
  {
   "cell_type": "code",
   "execution_count": null,
   "metadata": {
    "collapsed": false
   },
   "outputs": [],
   "source": [
    "len(flnm_gid_map), len(old_bty_json)"
   ]
  },
  {
   "cell_type": "code",
   "execution_count": null,
   "metadata": {
    "collapsed": false
   },
   "outputs": [],
   "source": [
    "len(bty_json_new_gid)"
   ]
  },
  {
   "cell_type": "code",
   "execution_count": null,
   "metadata": {
    "collapsed": false
   },
   "outputs": [],
   "source": [
    "old_bty_json['6089112646_98d87c8d04_b']"
   ]
  },
  {
   "cell_type": "code",
   "execution_count": null,
   "metadata": {
    "collapsed": false
   },
   "outputs": [],
   "source": [
    "re.findall(r'(.*).jpg', '30281353763_8ee36b0d02_b.jpg')[0]"
   ]
  },
  {
   "cell_type": "code",
   "execution_count": null,
   "metadata": {
    "collapsed": false
   },
   "outputs": [],
   "source": [
    "set(flnm_gid_map.keys()) - set(old_bty_json.keys())"
   ]
  },
  {
   "cell_type": "code",
   "execution_count": null,
   "metadata": {
    "collapsed": false
   },
   "outputs": [],
   "source": [
    "d = DS.appendJSON(\"/Users/sreejithmenon/Downloads/new.json\", \"/Users/sreejithmenon/Downloads/old.json\")"
   ]
  },
  {
   "cell_type": "code",
   "execution_count": null,
   "metadata": {
    "collapsed": false
   },
   "outputs": [],
   "source": [
    "with open(\"../data/beautyFeatures_FlickrExtracts.json\", \"w\") as bty:\n",
    "    json.dump(d, bty, indent=4)"
   ]
  },
  {
   "cell_type": "code",
   "execution_count": null,
   "metadata": {
    "collapsed": false
   },
   "outputs": [],
   "source": [
    "gid_flnm_map = {gid : str(gid_flnm_map[gid] + '.jpg') for gid in gid_flnm_map.keys()}"
   ]
  },
  {
   "cell_type": "code",
   "execution_count": null,
   "metadata": {
    "collapsed": false
   },
   "outputs": [],
   "source": [
    "gid_flnm_map"
   ]
  },
  {
   "cell_type": "code",
   "execution_count": null,
   "metadata": {
    "collapsed": true
   },
   "outputs": [],
   "source": [
    "with open(\"../data/flickr_imgs_gid_flnm_map.json\", \"w\") as fl:\n",
    "    json.dump(d, fl, indent=4)"
   ]
  },
  {
   "cell_type": "code",
   "execution_count": null,
   "metadata": {
    "collapsed": false
   },
   "outputs": [],
   "source": [
    "d = DS.appendJSON(\"../data/flickr_imgs_gid_flnm_map.json\", \"../data/flickr_imgs_gid_flnm_map_new.json\")"
   ]
  },
  {
   "cell_type": "code",
   "execution_count": null,
   "metadata": {
    "collapsed": false
   },
   "outputs": [],
   "source": [
    "len(d)"
   ]
  },
  {
   "cell_type": "code",
   "execution_count": null,
   "metadata": {
    "collapsed": false
   },
   "outputs": [],
   "source": [
    "d = DS.appendJSON(\"../data/bing_img_exif_0.json\",\n",
    "\"../data/bing_img_exif_1.json\",\n",
    "\"../data/bing_img_exif_2.json\",\n",
    "\"../data/bing_img_exif_3.json\",\n",
    "\"../data/bing_img_exif_4.json\",\n",
    "\"../data/bing_img_exif_5.json\",\n",
    "\"../data/bing_img_exif_6.json\",\n",
    "\"../data/bing_img_exif_7.json\",\n",
    "\"../data/bing_img_exif_8.json\",\n",
    "\"../data/bing_img_exif_9.json\",\n",
    "\"../data/bing_img_exif_10.json\",\n",
    "\"../data/bing_img_exif_11.json\",\n",
    "\"../data/bing_img_exif_12.json\",\n",
    "\"../data/bing_img_exif_13.json\",\n",
    "\"../data/bing_img_exif_14.json\",\n",
    "\"../data/bing_img_exif_15.json\",\n",
    "\"../data/bing_img_exif_16.json\",\n",
    "\"../data/bing_img_exif_17.json\",\n",
    "\"../data/bing_img_exif_18.json\",\n",
    "\"../data/bing_img_exif_19.json\",\n",
    "\"../data/bing_img_exif_20.json\",\n",
    "\"../data/bing_img_exif_21.json\",\n",
    "\"../data/bing_img_exif_22.json\",\n",
    "\"../data/bing_img_exif_23.json\",\n",
    "\"../data/bing_img_exif_24.json\",\n",
    "\"../data/bing_img_exif_25.json\",\n",
    "\"../data/bing_img_exif_26.json\",\n",
    "\"../data/bing_img_exif_27.json\",\n",
    "\"../data/bing_img_exif_28.json\",\n",
    "\"../data/bing_img_exif_29.json\",\n",
    "\"../data/bing_img_exif_30.json\",\n",
    "\"../data/bing_img_exif_31.json\",\n",
    "\"../data/bing_img_exif_32.json\",\n",
    "\"../data/bing_img_exif_33.json\",\n",
    "\"../data/bing_img_exif_34.json\",\n",
    "\"../data/bing_img_exif_35.json\",\n",
    "\"../data/bing_img_exif_36.json\",\n",
    "\"../data/bing_img_exif_37.json\",\n",
    "\"../data/bing_img_exif_38.json\",\n",
    "\"../data/bing_img_exif_39.json\",\n",
    "\"../data/bing_img_exif_40.json\",\n",
    "\"../data/bing_img_exif_41.json\",\n",
    "\"../data/bing_img_exif_42.json\",\n",
    "\"../data/bing_img_exif_43.json\",\n",
    "\"../data/bing_img_exif_44.json\",\n",
    "\"../data/bing_img_exif_45.json\",\n",
    "\"../data/bing_img_exif_46.json\",\n",
    "\"../data/bing_img_exif_47.json\",\n",
    "\"../data/bing_img_exif_48.json\",\n",
    "\"../data/bing_img_exif_49.json\")"
   ]
  },
  {
   "cell_type": "code",
   "execution_count": null,
   "metadata": {
    "collapsed": false
   },
   "outputs": [],
   "source": [
    "len(d)"
   ]
  },
  {
   "cell_type": "code",
   "execution_count": null,
   "metadata": {
    "collapsed": true
   },
   "outputs": [],
   "source": [
    "with open(\"../data/fl_list.dat\", \"r\") as fl_list:\n",
    "    fls = fl_list.read().split(\"\\n\")"
   ]
  },
  {
   "cell_type": "code",
   "execution_count": null,
   "metadata": {
    "collapsed": false
   },
   "outputs": [],
   "source": [
    "exifs = {fl : d[fl] for fl in fls}"
   ]
  },
  {
   "cell_type": "code",
   "execution_count": null,
   "metadata": {
    "collapsed": false
   },
   "outputs": [],
   "source": [
    "with open(\"../data/bing_img_data.json\", \"w\") as fl:\n",
    "    json.dump(exifs, fl, indent=4)"
   ]
  },
  {
   "cell_type": "code",
   "execution_count": null,
   "metadata": {
    "collapsed": true
   },
   "outputs": [],
   "source": [
    "from skimage import io, color, feature, transform"
   ]
  },
  {
   "cell_type": "code",
   "execution_count": null,
   "metadata": {
    "collapsed": true
   },
   "outputs": [],
   "source": [
    "rgbImg = io.imread(\"/tmp/D341B72E9F4F72D9D6F11FA13A72884ABF427AAC.jpeg\")"
   ]
  },
  {
   "cell_type": "code",
   "execution_count": null,
   "metadata": {
    "collapsed": false
   },
   "outputs": [],
   "source": [
    "rgbImg.shape[2]"
   ]
  },
  {
   "cell_type": "code",
   "execution_count": null,
   "metadata": {
    "collapsed": true
   },
   "outputs": [],
   "source": [
    "with open(\"../data/beautyFeatures_FlickrExtracts.json\", \"r\") as fl:\n",
    "    obj = json.load(fl)"
   ]
  },
  {
   "cell_type": "code",
   "execution_count": null,
   "metadata": {
    "collapsed": false
   },
   "outputs": [],
   "source": [
    "obj = {key : obj[key] for key in obj.keys() if obj[key] != None}"
   ]
  },
  {
   "cell_type": "code",
   "execution_count": null,
   "metadata": {
    "collapsed": true
   },
   "outputs": [],
   "source": [
    "with open(\"../data/beautyFeatures_FlickrExtracts.json\", \"w\") as fl:\n",
    "    json.dump(obj, fl, indent=4)"
   ]
  },
  {
   "cell_type": "code",
   "execution_count": null,
   "metadata": {
    "collapsed": false
   },
   "outputs": [],
   "source": [
    "# http://pachy.cs.uic.edu:5001/api/engine/job/result/?jobid=jobid-0001&__format__=true"
   ]
  },
  {
   "cell_type": "code",
   "execution_count": null,
   "metadata": {
    "collapsed": true
   },
   "outputs": [],
   "source": [
    "import UploadAndDetectIBEIS as UD"
   ]
  },
  {
   "cell_type": "code",
   "execution_count": null,
   "metadata": {
    "collapsed": false
   },
   "outputs": [],
   "source": [
    "UD.run_id_detection('2048')"
   ]
  },
  {
   "cell_type": "code",
   "execution_count": null,
   "metadata": {
    "collapsed": false
   },
   "outputs": [],
   "source": [
    "UD.check_job_status('jobid-2000')"
   ]
  },
  {
   "cell_type": "code",
   "execution_count": 1,
   "metadata": {
    "collapsed": true
   },
   "outputs": [],
   "source": [
    "import json"
   ]
  },
  {
   "cell_type": "code",
   "execution_count": 2,
   "metadata": {
    "collapsed": true
   },
   "outputs": [],
   "source": [
    "with open(\"../data/flickr_imgs_gid_flnm_map.json\", \"r\") as map_fl:\n",
    "    map_obj = json.load(map_fl)"
   ]
  },
  {
   "cell_type": "code",
   "execution_count": 6,
   "metadata": {
    "collapsed": false
   },
   "outputs": [],
   "source": [
    "with open(\"../data/Flickr_all_files.dat\", \"w\") as all_fls_fl:\n",
    "    all_fls_fl.write(\"\\n\".join(list(map_obj.values())))"
   ]
  },
  {
   "cell_type": "code",
   "execution_count": null,
   "metadata": {
    "collapsed": true
   },
   "outputs": [],
   "source": []
  }
 ],
 "metadata": {
  "kernelspec": {
   "display_name": "Python 3",
   "language": "python",
   "name": "python3"
  },
  "language_info": {
   "codemirror_mode": {
    "name": "ipython",
    "version": 3
   },
   "file_extension": ".py",
   "mimetype": "text/x-python",
   "name": "python",
   "nbconvert_exporter": "python",
   "pygments_lexer": "ipython3",
   "version": "3.5.2"
  }
 },
 "nbformat": 4,
 "nbformat_minor": 0
}
