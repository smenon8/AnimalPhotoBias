{
 "cells": [
  {
   "cell_type": "markdown",
   "metadata": {
    "collapsed": false
   },
   "source": [
    "### Notebook Name: PopulationEstimatorClfNB\n",
    "#### Author Name: Sreejith Menon (smenon8@uic.edu)\n"
   ]
  },
  {
   "cell_type": "code",
   "execution_count": 151,
   "metadata": {
    "collapsed": false
   },
   "outputs": [],
   "source": [
    "import JobsMapResultsFilesToContainerObjs as ImageMap\n",
    "import pandas as pd\n",
    "import PopulationEstimatorFromClf as PE\n",
    "import importlib\n",
    "importlib.reload(PE)\n",
    "import cufflinks as cf # this is necessary to link pandas to plotly\n",
    "cf.go_online()\n",
    "import json\n",
    "import plotly.graph_objs as go\n",
    "from plotly.offline import download_plotlyjs, init_notebook_mode, plot, iplot\n",
    "import htmltag as HT\n",
    "import MarkRecapHelper as MR\n",
    "importlib.reload(MR)\n",
    "import DeriveFinalResultSet as DRS\n",
    "import DataStructsHelperAPI as DS\n",
    "importlib.reload(DS)\n",
    "import random"
   ]
  },
  {
   "cell_type": "markdown",
   "metadata": {},
   "source": [
    "### Logic for creating the comma seperated aggregate data file\n",
    "Not needed to run every time"
   ]
  },
  {
   "cell_type": "code",
   "execution_count": null,
   "metadata": {
    "collapsed": true
   },
   "outputs": [],
   "source": [
    "attribs = [ 'GID', 'AID', 'AGE',\n",
    "       'EXEMPLAR_FLAG', 'INDIVIDUAL_NAME', 'NID', 'QUALITY', 'SEX', 'SPECIES',\n",
    "       'VIEW_POINT','CONTRIBUTOR']\n",
    "\n",
    "df = ImageMap.genGidAidFtrDf(\"../data/full_gid_aid_map.json\",\"../data/full_aid_features.json\",'../data/full_gid_aid_ftr.csv')\n",
    "df_comb = ImageMap.createMstrFl(\"../data/full_gid_aid_ftr.csv\",\"../data/GZC_data_tagged.json\",attribs,\"../data/full_gid_aid_ftr_agg.csv\")"
   ]
  },
  {
   "cell_type": "markdown",
   "metadata": {},
   "source": [
    "## Visuals for accuracies of predictions"
   ]
  },
  {
   "cell_type": "code",
   "execution_count": 3,
   "metadata": {
    "collapsed": false
   },
   "outputs": [],
   "source": [
    "with open(\"../FinalResults/PopulationEstimate.json\",\"r\") as jsonFl:\n",
    "    resObj = json.load(jsonFl)"
   ]
  },
  {
   "cell_type": "code",
   "execution_count": 20,
   "metadata": {
    "collapsed": false
   },
   "outputs": [
    {
     "name": "stderr",
     "output_type": "stream",
     "text": [
      "/Users/sreejithmenon/anaconda/lib/python3.5/site-packages/ipykernel/__main__.py:10: SettingWithCopyWarning:\n",
      "\n",
      "\n",
      "A value is trying to be set on a copy of a slice from a DataFrame.\n",
      "Try using .loc[row_indexer,col_indexer] = value instead\n",
      "\n",
      "See the caveats in the documentation: http://pandas.pydata.org/pandas-docs/stable/indexing.html#indexing-view-versus-copy\n",
      "\n",
      "/Users/sreejithmenon/anaconda/lib/python3.5/site-packages/ipykernel/__main__.py:11: SettingWithCopyWarning:\n",
      "\n",
      "\n",
      "A value is trying to be set on a copy of a slice from a DataFrame.\n",
      "Try using .loc[row_indexer,col_indexer] = value instead\n",
      "\n",
      "See the caveats in the documentation: http://pandas.pydata.org/pandas-docs/stable/indexing.html#indexing-view-versus-copy\n",
      "\n",
      "/Users/sreejithmenon/anaconda/lib/python3.5/site-packages/ipykernel/__main__.py:12: SettingWithCopyWarning:\n",
      "\n",
      "\n",
      "A value is trying to be set on a copy of a slice from a DataFrame.\n",
      "Try using .loc[row_indexer,col_indexer] = value instead\n",
      "\n",
      "See the caveats in the documentation: http://pandas.pydata.org/pandas-docs/stable/indexing.html#indexing-view-versus-copy\n",
      "\n"
     ]
    },
    {
     "data": {
      "text/html": [
       "<div>\n",
       "<table border=\"1\" class=\"dataframe\">\n",
       "  <thead>\n",
       "    <tr style=\"text-align: right;\">\n",
       "      <th></th>\n",
       "      <th>Axes Name</th>\n",
       "      <th>all</th>\n",
       "      <th>Error_total_pop</th>\n",
       "      <th>zebras</th>\n",
       "      <th>Error_zebra_pop</th>\n",
       "      <th>giraffes</th>\n",
       "      <th>Error_giraffe_pop</th>\n",
       "      <th>shared_images_count</th>\n",
       "      <th>Predicted_Shared_proportion</th>\n",
       "      <th>norm_error_total_pop</th>\n",
       "      <th>norm_error_zebra_pop</th>\n",
       "      <th>norm_error_giraffe_pop</th>\n",
       "    </tr>\n",
       "  </thead>\n",
       "  <tbody>\n",
       "    <tr>\n",
       "      <th>0</th>\n",
       "      <td>bayesian sparse</td>\n",
       "      <td>0.0</td>\n",
       "      <td>-3620.0</td>\n",
       "      <td>0.0</td>\n",
       "      <td>-3468.0</td>\n",
       "      <td>0.0</td>\n",
       "      <td>-177.0</td>\n",
       "      <td>10</td>\n",
       "      <td>0.153304</td>\n",
       "      <td>-1.000000</td>\n",
       "      <td>-1.0</td>\n",
       "      <td>-1.000000</td>\n",
       "    </tr>\n",
       "    <tr>\n",
       "      <th>1</th>\n",
       "      <td>bayesian non_sparse</td>\n",
       "      <td>714.0</td>\n",
       "      <td>-2906.0</td>\n",
       "      <td>0.0</td>\n",
       "      <td>-3468.0</td>\n",
       "      <td>132.0</td>\n",
       "      <td>-45.0</td>\n",
       "      <td>233</td>\n",
       "      <td>3.571976</td>\n",
       "      <td>-0.802762</td>\n",
       "      <td>-1.0</td>\n",
       "      <td>-0.254237</td>\n",
       "    </tr>\n",
       "    <tr>\n",
       "      <th>2</th>\n",
       "      <td>bayesian non_zero</td>\n",
       "      <td>0.0</td>\n",
       "      <td>-3620.0</td>\n",
       "      <td>0.0</td>\n",
       "      <td>-3468.0</td>\n",
       "      <td>0.0</td>\n",
       "      <td>-177.0</td>\n",
       "      <td>92</td>\n",
       "      <td>1.410394</td>\n",
       "      <td>-1.000000</td>\n",
       "      <td>-1.0</td>\n",
       "      <td>-1.000000</td>\n",
       "    </tr>\n",
       "    <tr>\n",
       "      <th>3</th>\n",
       "      <td>bayesian abv_mean</td>\n",
       "      <td>0.0</td>\n",
       "      <td>-3620.0</td>\n",
       "      <td>0.0</td>\n",
       "      <td>-3468.0</td>\n",
       "      <td>0.0</td>\n",
       "      <td>-177.0</td>\n",
       "      <td>133</td>\n",
       "      <td>2.038939</td>\n",
       "      <td>-1.000000</td>\n",
       "      <td>-1.0</td>\n",
       "      <td>-1.000000</td>\n",
       "    </tr>\n",
       "    <tr>\n",
       "      <th>4</th>\n",
       "      <td>logistic sparse</td>\n",
       "      <td>0.0</td>\n",
       "      <td>-3620.0</td>\n",
       "      <td>0.0</td>\n",
       "      <td>-3468.0</td>\n",
       "      <td>0.0</td>\n",
       "      <td>-177.0</td>\n",
       "      <td>8</td>\n",
       "      <td>0.122643</td>\n",
       "      <td>-1.000000</td>\n",
       "      <td>-1.0</td>\n",
       "      <td>-1.000000</td>\n",
       "    </tr>\n",
       "  </tbody>\n",
       "</table>\n",
       "</div>"
      ],
      "text/plain": [
       "             Axes Name    all  Error_total_pop  zebras  Error_zebra_pop  \\\n",
       "0      bayesian sparse    0.0          -3620.0     0.0          -3468.0   \n",
       "1  bayesian non_sparse  714.0          -2906.0     0.0          -3468.0   \n",
       "2    bayesian non_zero    0.0          -3620.0     0.0          -3468.0   \n",
       "3    bayesian abv_mean    0.0          -3620.0     0.0          -3468.0   \n",
       "4      logistic sparse    0.0          -3620.0     0.0          -3468.0   \n",
       "\n",
       "   giraffes  Error_giraffe_pop  shared_images_count  \\\n",
       "0       0.0             -177.0                   10   \n",
       "1     132.0              -45.0                  233   \n",
       "2       0.0             -177.0                   92   \n",
       "3       0.0             -177.0                  133   \n",
       "4       0.0             -177.0                    8   \n",
       "\n",
       "   Predicted_Shared_proportion  norm_error_total_pop  norm_error_zebra_pop  \\\n",
       "0                     0.153304             -1.000000                  -1.0   \n",
       "1                     3.571976             -0.802762                  -1.0   \n",
       "2                     1.410394             -1.000000                  -1.0   \n",
       "3                     2.038939             -1.000000                  -1.0   \n",
       "4                     0.122643             -1.000000                  -1.0   \n",
       "\n",
       "   norm_error_giraffe_pop  \n",
       "0               -1.000000  \n",
       "1               -0.254237  \n",
       "2               -1.000000  \n",
       "3               -1.000000  \n",
       "4               -1.000000  "
      ]
     },
     "execution_count": 20,
     "metadata": {},
     "output_type": "execute_result"
    }
   ],
   "source": [
    "df = pd.DataFrame(resObj)\n",
    "df['Axes Name'] = df['Classifier'] + \" \" + df['Attribute']\n",
    "\n",
    "df = df[['Axes Name', 'all','giraffes','zebras','shared_images_count']]\n",
    "df['Error_total_pop'] = df['all'] - 3620\n",
    "df['Error_zebra_pop'] = df['zebras'] - 3468\n",
    "df['Error_giraffe_pop'] = df['giraffes'] - 177\n",
    "df['Predicted_Shared_proportion'] = df['shared_images_count'] * 100 / 6523\n",
    "dfFull = df[['Axes Name','all','Error_total_pop','zebras','Error_zebra_pop','giraffes','Error_giraffe_pop','shared_images_count','Predicted_Shared_proportion']]\n",
    "dfFull['norm_error_total_pop'] = dfFull['Error_total_pop'] / 3620\n",
    "dfFull['norm_error_zebra_pop'] = dfFull['Error_zebra_pop'] / 3468\n",
    "dfFull['norm_error_giraffe_pop'] = dfFull['Error_giraffe_pop'] / 177\n",
    "dfFull.head()"
   ]
  },
  {
   "cell_type": "code",
   "execution_count": 21,
   "metadata": {
    "collapsed": false
   },
   "outputs": [
    {
     "name": "stderr",
     "output_type": "stream",
     "text": [
      "/Users/sreejithmenon/anaconda/lib/python3.5/site-packages/ipykernel/__main__.py:3: SettingWithCopyWarning:\n",
      "\n",
      "\n",
      "A value is trying to be set on a copy of a slice from a DataFrame\n",
      "\n",
      "See the caveats in the documentation: http://pandas.pydata.org/pandas-docs/stable/indexing.html#indexing-view-versus-copy\n",
      "\n"
     ]
    }
   ],
   "source": [
    "dfErrors= dfFull[['Axes Name','Error_total_pop','Error_zebra_pop','Error_giraffe_pop']]\n",
    "dfErrors.index = df['Axes Name']\n",
    "dfErrors.drop(['Axes Name'],1,inplace=True)"
   ]
  },
  {
   "cell_type": "code",
   "execution_count": 22,
   "metadata": {
    "collapsed": false
   },
   "outputs": [],
   "source": [
    "layout = go.Layout(\n",
    "    title=\"Estimation absolute-errors using predict-shared data\",\n",
    "    titlefont = dict(\n",
    "            size=22),\n",
    "    xaxis=dict(\n",
    "        title=\"Classifier and Attribute Selection method\",\n",
    "        titlefont = dict(\n",
    "            size=15),\n",
    "        showticklabels=True,\n",
    "        tickangle=35,\n",
    "        tickfont=dict(\n",
    "            size=9,\n",
    "            color='black')\n",
    "    ),\n",
    "    yaxis=dict(\n",
    "        title=\"Absolute Error\",\n",
    "        titlefont = dict(\n",
    "            size=15),\n",
    "        showticklabels=True,\n",
    "        tickfont=dict(\n",
    "            size=9,\n",
    "            color='black')\n",
    "    ))\n",
    "fig1 = dfErrors.iplot(kind='bar',filename=\"Absolute_Errors\",layout=layout)"
   ]
  },
  {
   "cell_type": "code",
   "execution_count": 23,
   "metadata": {
    "collapsed": false
   },
   "outputs": [
    {
     "name": "stderr",
     "output_type": "stream",
     "text": [
      "/Users/sreejithmenon/anaconda/lib/python3.5/site-packages/ipykernel/__main__.py:3: SettingWithCopyWarning:\n",
      "\n",
      "\n",
      "A value is trying to be set on a copy of a slice from a DataFrame\n",
      "\n",
      "See the caveats in the documentation: http://pandas.pydata.org/pandas-docs/stable/indexing.html#indexing-view-versus-copy\n",
      "\n"
     ]
    }
   ],
   "source": [
    "dfNormErrors= dfFull[['Axes Name','norm_error_total_pop','norm_error_zebra_pop','norm_error_giraffe_pop']]\n",
    "dfNormErrors.index = df['Axes Name']\n",
    "dfNormErrors.drop(['Axes Name'],1,inplace=True)"
   ]
  },
  {
   "cell_type": "code",
   "execution_count": 24,
   "metadata": {
    "collapsed": false
   },
   "outputs": [],
   "source": [
    "layout = go.Layout(\n",
    "    title=\"Estimation normalized-errors using predict-shared data\",\n",
    "    titlefont = dict(\n",
    "            size=22),\n",
    "    xaxis=dict(\n",
    "        title=\"Classifier and Attribute Selection method\",\n",
    "        titlefont = dict(\n",
    "            size=15),\n",
    "        showticklabels=True,\n",
    "        tickangle=35,\n",
    "        tickfont=dict(\n",
    "            size=9,\n",
    "            color='black')\n",
    "    ),\n",
    "    yaxis=dict(\n",
    "        title=\"Normalized Error\",\n",
    "        titlefont = dict(\n",
    "            size=15),\n",
    "        showticklabels=True,\n",
    "        tickfont=dict(\n",
    "            size=9,\n",
    "            color='black')\n",
    "    ))\n",
    "fig2 = dfNormErrors.iplot(kind='bar',filename=\"Norm_Errors\",layout=layout)\n",
    "# Error = (predicted population - actual population)\n",
    "# Normalized error formula =  Error / actual population"
   ]
  },
  {
   "cell_type": "code",
   "execution_count": 25,
   "metadata": {
    "collapsed": false
   },
   "outputs": [
    {
     "name": "stderr",
     "output_type": "stream",
     "text": [
      "/Users/sreejithmenon/anaconda/lib/python3.5/site-packages/ipykernel/__main__.py:1: UserWarning:\n",
      "\n",
      "Boolean Series key will be reindexed to match DataFrame index.\n",
      "\n"
     ]
    }
   ],
   "source": [
    "dfNoOutliers = dfErrors[(abs(dfErrors['Error_total_pop']) <= 2750 )][(abs(dfErrors['Error_total_pop']) > 10)]"
   ]
  },
  {
   "cell_type": "code",
   "execution_count": 26,
   "metadata": {
    "collapsed": false
   },
   "outputs": [],
   "source": [
    "layout = go.Layout(\n",
    "    title=\"Estimation errors using predict-shared data -no outliers\",\n",
    "    titlefont = dict(\n",
    "            size=22),\n",
    "    xaxis=dict(\n",
    "        title=\"Classifier and Attribute Selection method\",\n",
    "        titlefont = dict(\n",
    "            size=15),\n",
    "        showticklabels=True,\n",
    "        tickangle=35,\n",
    "        tickfont=dict(\n",
    "            size=9,\n",
    "            color='black')\n",
    "    ),\n",
    "    yaxis=dict(\n",
    "        title=\"Absolute Error\",\n",
    "        titlefont = dict(\n",
    "            size=15),\n",
    "        showticklabels=True,\n",
    "        tickfont=dict(\n",
    "            size=9,\n",
    "            color='black')\n",
    "    ))\n",
    "fig3 = dfNoOutliers.iplot(kind='bar',filename=\"errors_noOutliers\",layout=layout)"
   ]
  },
  {
   "cell_type": "code",
   "execution_count": 27,
   "metadata": {
    "collapsed": false
   },
   "outputs": [
    {
     "name": "stderr",
     "output_type": "stream",
     "text": [
      "/Users/sreejithmenon/anaconda/lib/python3.5/site-packages/ipykernel/__main__.py:4: SettingWithCopyWarning:\n",
      "\n",
      "\n",
      "A value is trying to be set on a copy of a slice from a DataFrame\n",
      "\n",
      "See the caveats in the documentation: http://pandas.pydata.org/pandas-docs/stable/indexing.html#indexing-view-versus-copy\n",
      "\n"
     ]
    },
    {
     "data": {
      "text/html": [
       "<div>\n",
       "<table border=\"1\" class=\"dataframe\">\n",
       "  <thead>\n",
       "    <tr style=\"text-align: right;\">\n",
       "      <th></th>\n",
       "      <th>norm_error_zebra_pop</th>\n",
       "      <th>norm_error_giraffe_pop</th>\n",
       "    </tr>\n",
       "    <tr>\n",
       "      <th>Predicted_Shared_proportion</th>\n",
       "      <th></th>\n",
       "      <th></th>\n",
       "    </tr>\n",
       "  </thead>\n",
       "  <tbody>\n",
       "    <tr>\n",
       "      <th>0.001533</th>\n",
       "      <td>-1.0</td>\n",
       "      <td>-1.000000</td>\n",
       "    </tr>\n",
       "    <tr>\n",
       "      <th>0.035720</th>\n",
       "      <td>-1.0</td>\n",
       "      <td>-0.254237</td>\n",
       "    </tr>\n",
       "    <tr>\n",
       "      <th>0.014104</th>\n",
       "      <td>-1.0</td>\n",
       "      <td>-1.000000</td>\n",
       "    </tr>\n",
       "    <tr>\n",
       "      <th>0.020389</th>\n",
       "      <td>-1.0</td>\n",
       "      <td>-1.000000</td>\n",
       "    </tr>\n",
       "    <tr>\n",
       "      <th>0.001226</th>\n",
       "      <td>-1.0</td>\n",
       "      <td>-1.000000</td>\n",
       "    </tr>\n",
       "  </tbody>\n",
       "</table>\n",
       "</div>"
      ],
      "text/plain": [
       "                             norm_error_zebra_pop  norm_error_giraffe_pop\n",
       "Predicted_Shared_proportion                                              \n",
       "0.001533                                     -1.0               -1.000000\n",
       "0.035720                                     -1.0               -0.254237\n",
       "0.014104                                     -1.0               -1.000000\n",
       "0.020389                                     -1.0               -1.000000\n",
       "0.001226                                     -1.0               -1.000000"
      ]
     },
     "execution_count": 27,
     "metadata": {},
     "output_type": "execute_result"
    }
   ],
   "source": [
    "# predicted shared proportion (x) vs normalized error zebra (y1) and giraffe (y2)? thanks!\n",
    "dfNewPlot = dfFull[['Predicted_Shared_proportion','norm_error_zebra_pop','norm_error_giraffe_pop']]\n",
    "dfNewPlot.index = dfNewPlot['Predicted_Shared_proportion']/100\n",
    "dfNewPlot.drop(['Predicted_Shared_proportion'],1,inplace=True)\n",
    "dfNewPlot.head()"
   ]
  },
  {
   "cell_type": "code",
   "execution_count": 28,
   "metadata": {
    "collapsed": true
   },
   "outputs": [],
   "source": [
    "layout = go.Layout(\n",
    "    title=\"Predicted Shared Proportion versus Norm Error\",\n",
    "    titlefont = dict(\n",
    "            size=22),\n",
    "    xaxis=dict(\n",
    "        title=\"Predicted Share Proportion\",\n",
    "        titlefont = dict(\n",
    "            size=15),\n",
    "        showticklabels=True,\n",
    "        tickangle=35,\n",
    "        tickfont=dict(\n",
    "            size=9,\n",
    "            color='black')\n",
    "    ),\n",
    "    yaxis=dict(\n",
    "        title=\"Normalized Error\",\n",
    "        titlefont = dict(\n",
    "            size=15),\n",
    "        showticklabels=True,\n",
    "        tickfont=dict(\n",
    "            size=9,\n",
    "            color='black')\n",
    "    )\n",
    "    )\n",
    "fig4 = dfNewPlot.iplot(kind='bar',filename=\"predictedSharedVsError\",layout=layout)"
   ]
  },
  {
   "cell_type": "code",
   "execution_count": 29,
   "metadata": {
    "collapsed": false
   },
   "outputs": [],
   "source": [
    "\n",
    "\n",
    "fullFl = HT.HTML(HT.body(HT.h2(\"Population Estimates using predicted shared data - master table\"),\n",
    "                HT.HTML(dfFull.to_html(index=False)),\n",
    "                HT.HTML(fig1.embed_code),\n",
    "                HT.HTML(fig2.embed_code),\n",
    "                HT.HTML(fig3.embed_code),\n",
    "                HT.HTML(fig4.embed_code)\n",
    "               ))\n",
    "\n",
    "\n",
    "outputFile = open(\"../FinalResults/PopulationEstimationUsingClf.html\",\"w\")\n",
    "outputFile.write(fullFl)\n",
    "outputFile.close()"
   ]
  },
  {
   "cell_type": "markdown",
   "metadata": {},
   "source": [
    "## Synthetic Experiments\n",
    "\n",
    "### Synthetic Experiment #1\n",
    "#### Assign a score to each image (here probability) and select the top 'k' images for each contributor and share them\n",
    "#### Calculate the population estimate\n",
    "\n",
    "\n",
    "### Synthetic Experiment #2\n",
    "#### Assign a score to each image (here probability) and select the top 'x' images for each contributor where x is a random number and share them\n",
    "#### Calculate the population estimate"
   ]
  },
  {
   "cell_type": "code",
   "execution_count": 47,
   "metadata": {
    "collapsed": true
   },
   "outputs": [],
   "source": [
    "layout = go.Layout(\n",
    "        title=\"Number of images shared(k) versus estimated population\",\n",
    "        titlefont = dict(\n",
    "                size=15),\n",
    "        xaxis=dict(\n",
    "            title=\"Number of images shared (k)\",\n",
    "            titlefont = dict(\n",
    "                size=15),\n",
    "            showticklabels=True,\n",
    "            tickangle=35,\n",
    "            tickfont=dict(\n",
    "                size=9,\n",
    "                color='black')\n",
    "        ),\n",
    "        yaxis=dict(\n",
    "            title=\"Estimated Population\",\n",
    "            titlefont = dict(\n",
    "                size=15),\n",
    "            showticklabels=True,\n",
    "            tickfont=dict(\n",
    "                size=9,\n",
    "                color='black')\n",
    "        )\n",
    "        )"
   ]
  },
  {
   "cell_type": "code",
   "execution_count": 48,
   "metadata": {
    "collapsed": false
   },
   "outputs": [
    {
     "name": "stdout",
     "output_type": "stream",
     "text": [
      "Starting to classify ada_boost : non_sparse\n",
      "Number of attributes : 86\n"
     ]
    },
    {
     "data": {
      "text/html": [
       "<div id=\"83d5f765-b3d9-4ec8-b14a-40b1acbcfa95\" style=\"height: 525px; width: 100%;\" class=\"plotly-graph-div\"></div><script type=\"text/javascript\">require([\"plotly\"], function(Plotly) { window.PLOTLYENV=window.PLOTLYENV || {};window.PLOTLYENV.BASE_URL=\"https://plot.ly\";Plotly.newPlot(\"83d5f765-b3d9-4ec8-b14a-40b1acbcfa95\", [{\"line\": {\"dash\": \"solid\", \"width\": 1.3, \"color\": \"rgba(255, 153, 51, 1.0)\"}, \"y\": [3907.4423076923076, 3892.8867924528304, 3933.490566037736, 3993.4150943396226, 4023.5471698113206, 4044.0754716981132, 4019.1666666666665, 4054.5555555555557, 4084.6296296296296, 4135.185185185185, 4134.272727272727, 4129.696428571428, 4021.206896551724, 4054.706896551724, 3905.5409836065573, 3951.7377049180327, 3993.8852459016393, 3998.622950819672, 4026.72131147541, 4055.245901639344, 4064.754098360656, 4097.852459016393, 4027.3333333333335, 3956.9538461538464, 4006.153846153846, 4021.6363636363635], \"type\": \"scatter\", \"x\": [59, 60, 61, 62, 63, 64, 65, 66, 67, 68, 69, 70, 71, 72, 73, 74, 75, 76, 77, 78, 79, 80, 81, 82, 83, 84], \"text\": \"\", \"name\": \"all\", \"mode\": \"lines\"}, {\"line\": {\"dash\": \"solid\", \"width\": 1.3, \"color\": \"rgba(55, 128, 191, 1.0)\"}, \"y\": [142.2, 142.2, 142.2, 142.2, 142.2, 142.2, 142.2, 145.8, 147.6, 147.6, 147.6, 149.4, 149.4, 149.4, 149.4, 149.4, 151.2, 153.0, 153.0, 153.0, 153.0, 153.0, 153.0, 156.6, 158.4, 162.0], \"type\": \"scatter\", \"x\": [59, 60, 61, 62, 63, 64, 65, 66, 67, 68, 69, 70, 71, 72, 73, 74, 75, 76, 77, 78, 79, 80, 81, 82, 83, 84], \"text\": \"\", \"name\": \"giraffes\", \"mode\": \"lines\"}, {\"line\": {\"dash\": \"solid\", \"width\": 1.3, \"color\": \"rgba(50, 171, 96, 1.0)\"}, \"y\": [3831.574468085106, 3813.3333333333335, 3856.6666666666665, 3919.0833333333335, 3950.4791666666665, 3972.3958333333335, 3958.7755102040815, 3985.816326530612, 4011.714285714286, 4064.938775510204, 4059.58, 4046.823529411765, 3930.169811320755, 3964.1509433962265, 3802.6428571428573, 3850.0, 3888.839285714286, 3888.839285714286, 3917.785714285714, 3948.0, 3958.0714285714284, 3992.3214285714284, 3915.2413793103447, 3829.25, 3873.866666666667, 3878.5245901639346], \"type\": \"scatter\", \"x\": [59, 60, 61, 62, 63, 64, 65, 66, 67, 68, 69, 70, 71, 72, 73, 74, 75, 76, 77, 78, 79, 80, 81, 82, 83, 84], \"text\": \"\", \"name\": \"zebras\", \"mode\": \"lines\"}, {\"line\": {\"dash\": \"solid\", \"width\": 1.3, \"color\": \"rgba(128, 0, 128, 1.0)\"}, \"y\": [4026.72131147541, 4026.72131147541, 4026.72131147541, 4026.72131147541, 4026.72131147541, 4026.72131147541, 4026.72131147541, 4026.72131147541, 4026.72131147541, 4026.72131147541, 4026.72131147541, 4026.72131147541, 4026.72131147541, 4026.72131147541, 4026.72131147541, 4026.72131147541, 4026.72131147541, 4026.72131147541, 4026.72131147541, 4026.72131147541, 4026.72131147541, 4026.72131147541, 4026.72131147541, 4026.72131147541, 4026.72131147541, 4026.72131147541], \"type\": \"scatter\", \"x\": [59, 60, 61, 62, 63, 64, 65, 66, 67, 68, 69, 70, 71, 72, 73, 74, 75, 76, 77, 78, 79, 80, 81, 82, 83, 84], \"text\": \"\", \"name\": \"Randomized_all\", \"mode\": \"lines\"}, {\"line\": {\"dash\": \"solid\", \"width\": 1.3, \"color\": \"rgba(219, 64, 82, 1.0)\"}, \"y\": [151.2, 151.2, 151.2, 151.2, 151.2, 151.2, 151.2, 151.2, 151.2, 151.2, 151.2, 151.2, 151.2, 151.2, 151.2, 151.2, 151.2, 151.2, 151.2, 151.2, 151.2, 151.2, 151.2, 151.2, 151.2, 151.2], \"type\": \"scatter\", \"x\": [59, 60, 61, 62, 63, 64, 65, 66, 67, 68, 69, 70, 71, 72, 73, 74, 75, 76, 77, 78, 79, 80, 81, 82, 83, 84], \"text\": \"\", \"name\": \"Randomized_giraffe\", \"mode\": \"lines\"}, {\"line\": {\"dash\": \"solid\", \"width\": 1.3, \"color\": \"rgba(0, 128, 128, 1.0)\"}, \"y\": [3922.8214285714284, 3922.8214285714284, 3922.8214285714284, 3922.8214285714284, 3922.8214285714284, 3922.8214285714284, 3922.8214285714284, 3922.8214285714284, 3922.8214285714284, 3922.8214285714284, 3922.8214285714284, 3922.8214285714284, 3922.8214285714284, 3922.8214285714284, 3922.8214285714284, 3922.8214285714284, 3922.8214285714284, 3922.8214285714284, 3922.8214285714284, 3922.8214285714284, 3922.8214285714284, 3922.8214285714284, 3922.8214285714284, 3922.8214285714284, 3922.8214285714284, 3922.8214285714284], \"type\": \"scatter\", \"x\": [59, 60, 61, 62, 63, 64, 65, 66, 67, 68, 69, 70, 71, 72, 73, 74, 75, 76, 77, 78, 79, 80, 81, 82, 83, 84], \"text\": \"\", \"name\": \"Randomized_zebras\", \"mode\": \"lines\"}], {\"yaxis\": {\"titlefont\": {\"size\": 15}, \"title\": \"Estimated Population\", \"showticklabels\": true, \"tickfont\": {\"size\": 9, \"color\": \"black\"}}, \"titlefont\": {\"size\": 15}, \"xaxis\": {\"titlefont\": {\"size\": 15}, \"title\": \"Number of images shared (k)\", \"tickangle\": 35, \"showticklabels\": true, \"tickfont\": {\"size\": 9, \"color\": \"black\"}}, \"title\": \"Number of images shared(k) versus estimated population\"}, {\"showLink\": true, \"linkText\": \"Export to plot.ly\"})});</script>"
      ],
      "text/plain": [
       "<IPython.core.display.HTML object>"
      ]
     },
     "metadata": {},
     "output_type": "display_data"
    },
    {
     "name": "stdout",
     "output_type": "stream",
     "text": [
      "Classification testing complete ada_boost : non_sparse\n",
      "\n"
     ]
    }
   ],
   "source": [
    "clfTypes = ['bayesian','logistic','svm','dtree','random_forests','ada_boost']\n",
    "attribTypes = ['sparse','non_sparse','non_zero','abv_mean']\n",
    "\n",
    "for clf in clfTypes:\n",
    "    for attrib in attribTypes:\n",
    "        print(\"Starting to classify %s : %s\" %(clf,attrib))\n",
    "        clfObj,predResults = PE.trainTestClf(\"../FinalResults/ImgShrRnkListWithTags.csv\",\n",
    "                             \"../data/full_gid_aid_ftr_agg.csv\",\n",
    "                             clf,\n",
    "                             attrib,\n",
    "                             \"../data/infoGainsExpt2.csv\")\n",
    "\n",
    "        flNm = str(\"../FinalResults/\"+ clf + \"_\" + attrib + \"_kShares\")\n",
    "\n",
    "        prediction_probabs = {list(clfObj.test_x.index)[i] : clfObj.predProbabs[i] for i in range(len(clfObj.test_x.index))}\n",
    "        fixedK = {k : PE.kSharesPerContributor(prediction_probabs,inExifFl,inGidAidMapFl,inAidFtrFl,lambda : k) for k in range(59,85)}\n",
    "\n",
    "        df = pd.DataFrame(fixedK).transpose().reset_index()\n",
    "        df.columns = ['num_images','all','giraffes','zebras']\n",
    "        df.index = df['num_images']\n",
    "        df.drop(['num_images'],1,inplace=True)\n",
    "        df.to_csv(str(flNm+\".csv\"))\n",
    "        df_html = df.to_html(index=True)\n",
    "        randomized = PE.kSharesPerContributor(prediction_probabs,inExifFl,inGidAidMapFl,inAidFtrFl,lambda : random.randint(60,90))\n",
    "        df['Randomized_all'] = randomized['all']\n",
    "        df['Randomized_giraffe'] = randomized['giraffes']\n",
    "        df['Randomized_zebras'] = randomized['zebras']\n",
    "        \n",
    "        fig1 = df.iplot(kind='line',layout=layout,filename=str(flNm+\".html\"))\n",
    "        fullFl = HT.HTML(HT.body(HT.h2(\"Population Estimates with k shares per contributor using %s and attribute selection method %s\" %(clf,attrib)),\n",
    "                        HT.HTML(df_html)\n",
    "                        HT.HTML(fig1.embed_code)         \n",
    "                       ))\n",
    "\n",
    "        outputFile = open(flNm,\"w\")\n",
    "        outputFile.write(fullFl)\n",
    "        outputFile.close()\n",
    "        print(\"Classification testing complete %s : %s\" %(clf,attrib))\n",
    "        print()"
   ]
  },
  {
   "cell_type": "code",
   "execution_count": 89,
   "metadata": {
    "collapsed": false
   },
   "outputs": [
    {
     "data": {
      "text/html": [
       "<div>\n",
       "<table border=\"1\" class=\"dataframe\">\n",
       "  <thead>\n",
       "    <tr style=\"text-align: right;\">\n",
       "      <th></th>\n",
       "      <th>num_images</th>\n",
       "      <th>all_bysn_mean</th>\n",
       "      <th>giraffes_bysn_mean</th>\n",
       "      <th>zebras_bysn_mean</th>\n",
       "      <th>all_bysn_nonzero</th>\n",
       "      <th>giraffes_bysn_nonzero</th>\n",
       "      <th>zebras_bysn_nonzero</th>\n",
       "    </tr>\n",
       "  </thead>\n",
       "  <tbody>\n",
       "    <tr>\n",
       "      <th>0</th>\n",
       "      <td>59</td>\n",
       "      <td>3609.111111</td>\n",
       "      <td>146.0</td>\n",
       "      <td>3692.000000</td>\n",
       "      <td>2747.467742</td>\n",
       "      <td>114.000000</td>\n",
       "      <td>2689.910714</td>\n",
       "    </tr>\n",
       "    <tr>\n",
       "      <th>1</th>\n",
       "      <td>60</td>\n",
       "      <td>3658.777778</td>\n",
       "      <td>146.0</td>\n",
       "      <td>3747.565217</td>\n",
       "      <td>2737.777778</td>\n",
       "      <td>114.000000</td>\n",
       "      <td>2677.684211</td>\n",
       "    </tr>\n",
       "    <tr>\n",
       "      <th>2</th>\n",
       "      <td>61</td>\n",
       "      <td>3708.444444</td>\n",
       "      <td>148.0</td>\n",
       "      <td>3796.956522</td>\n",
       "      <td>2740.593750</td>\n",
       "      <td>115.500000</td>\n",
       "      <td>2675.448276</td>\n",
       "    </tr>\n",
       "    <tr>\n",
       "      <th>3</th>\n",
       "      <td>62</td>\n",
       "      <td>3667.142857</td>\n",
       "      <td>150.0</td>\n",
       "      <td>3732.000000</td>\n",
       "      <td>2742.830769</td>\n",
       "      <td>128.333333</td>\n",
       "      <td>2664.406780</td>\n",
       "    </tr>\n",
       "    <tr>\n",
       "      <th>4</th>\n",
       "      <td>63</td>\n",
       "      <td>3690.206897</td>\n",
       "      <td>152.0</td>\n",
       "      <td>3736.920000</td>\n",
       "      <td>2784.169231</td>\n",
       "      <td>131.666667</td>\n",
       "      <td>2698.915254</td>\n",
       "    </tr>\n",
       "  </tbody>\n",
       "</table>\n",
       "</div>"
      ],
      "text/plain": [
       "   num_images  all_bysn_mean  giraffes_bysn_mean  zebras_bysn_mean  \\\n",
       "0          59    3609.111111               146.0       3692.000000   \n",
       "1          60    3658.777778               146.0       3747.565217   \n",
       "2          61    3708.444444               148.0       3796.956522   \n",
       "3          62    3667.142857               150.0       3732.000000   \n",
       "4          63    3690.206897               152.0       3736.920000   \n",
       "\n",
       "   all_bysn_nonzero  giraffes_bysn_nonzero  zebras_bysn_nonzero  \n",
       "0       2747.467742             114.000000          2689.910714  \n",
       "1       2737.777778             114.000000          2677.684211  \n",
       "2       2740.593750             115.500000          2675.448276  \n",
       "3       2742.830769             128.333333          2664.406780  \n",
       "4       2784.169231             131.666667          2698.915254  "
      ]
     },
     "execution_count": 89,
     "metadata": {},
     "output_type": "execute_result"
    }
   ],
   "source": [
    "df1 = pd.DataFrame.from_csv(\"../FinalResults/bayesian_abv_mean_kShares.csv\").reset_index()\n",
    "df2 = pd.DataFrame.from_csv(\"../FinalResults/bayesian_non_zero_kShares.csv\").reset_index()\n",
    "\n",
    "df= pd.DataFrame.merge(df1,df2,on='num_images',suffixes=('_bysn_mean','_bysn_nonzero'))\n",
    "df.head()"
   ]
  },
  {
   "cell_type": "code",
   "execution_count": 70,
   "metadata": {
    "collapsed": false
   },
   "outputs": [
    {
     "data": {
      "text/html": [
       "<div>\n",
       "<table border=\"1\" class=\"dataframe\">\n",
       "  <thead>\n",
       "    <tr style=\"text-align: right;\">\n",
       "      <th></th>\n",
       "      <th>0</th>\n",
       "    </tr>\n",
       "  </thead>\n",
       "  <tbody>\n",
       "    <tr>\n",
       "      <th>num_images</th>\n",
       "      <td>59.000000</td>\n",
       "    </tr>\n",
       "    <tr>\n",
       "      <th>all_bysn_mean</th>\n",
       "      <td>3609.111111</td>\n",
       "    </tr>\n",
       "    <tr>\n",
       "      <th>giraffes_bysn_mean</th>\n",
       "      <td>146.000000</td>\n",
       "    </tr>\n",
       "    <tr>\n",
       "      <th>zebras_bysn_mean</th>\n",
       "      <td>3692.000000</td>\n",
       "    </tr>\n",
       "    <tr>\n",
       "      <th>all_bysn_nonzero</th>\n",
       "      <td>2747.467742</td>\n",
       "    </tr>\n",
       "    <tr>\n",
       "      <th>giraffes_bysn_nonzero</th>\n",
       "      <td>114.000000</td>\n",
       "    </tr>\n",
       "    <tr>\n",
       "      <th>zebras_bysn_nonzero</th>\n",
       "      <td>2689.910714</td>\n",
       "    </tr>\n",
       "  </tbody>\n",
       "</table>\n",
       "</div>"
      ],
      "text/plain": [
       "                                 0\n",
       "num_images               59.000000\n",
       "all_bysn_mean          3609.111111\n",
       "giraffes_bysn_mean      146.000000\n",
       "zebras_bysn_mean       3692.000000\n",
       "all_bysn_nonzero       2747.467742\n",
       "giraffes_bysn_nonzero   114.000000\n",
       "zebras_bysn_nonzero    2689.910714"
      ]
     },
     "execution_count": 70,
     "metadata": {},
     "output_type": "execute_result"
    }
   ],
   "source": [
    "pd.DataFrame(df.transpose()[0])"
   ]
  },
  {
   "cell_type": "code",
   "execution_count": 120,
   "metadata": {
    "collapsed": false
   },
   "outputs": [],
   "source": [
    "clfTypes = ['bayesian','logistic','svm','dtree','random_forests','ada_boost']\n",
    "attribTypes = ['sparse','non_sparse','non_zero','abv_mean']\n",
    "flNms = [str(clf + \"_\" + attrib) for clf in clfTypes for attrib in attribTypes]\n",
    "\n",
    "df = pd.DataFrame.from_csv(str(\"../FinalResults/\"+flNms[0]+\"_kShares.csv\")).reset_index()\n",
    "df.columns = list(map(lambda x : str(x + \"_\" + flNms[0]) if x != 'num_images' else x,list(df.columns)))\n",
    "for i in range(1,len(flNms)):   \n",
    "    df1 = pd.DataFrame.from_csv(str(\"../FinalResults/\"+flNms[i]+\"_kShares.csv\")).reset_index()  \n",
    "    df1.columns = list(map(lambda x : str(x + \"_\" + flNms[i]) if x != 'num_images' else x,list(df1.columns)))\n",
    "    df = pd.DataFrame.merge(df,df1,on='num_images')\n",
    "    \n",
    "df.index = df['num_images']\n",
    "df.drop(['num_images'],1,inplace=True)"
   ]
  },
  {
   "cell_type": "code",
   "execution_count": 130,
   "metadata": {
    "collapsed": false
   },
   "outputs": [],
   "source": [
    "df.to_csv(\"../FinalResults/MasterEstimation_KShare.csv\")\n",
    "figs=[]"
   ]
  },
  {
   "cell_type": "code",
   "execution_count": 152,
   "metadata": {
    "collapsed": false
   },
   "outputs": [],
   "source": [
    "bayes = [col for col in df.columns if 'bayesian' in col]\n",
    "bayesDf = df[bayes]\n",
    "figs.append(bayesDf.iplot(kind='line',title=\"All Bayesian Classifiers\"))"
   ]
  },
  {
   "cell_type": "code",
   "execution_count": null,
   "metadata": {
    "collapsed": false
   },
   "outputs": [],
   "source": [
    "logistics = [col for col in df.columns if 'logistic' in col]\n",
    "logisticsDf = df[logistics]\n",
    "figs.append(logisticsDf.iplot(kind='line',title=\"All Logistic Classifiers\"))"
   ]
  },
  {
   "cell_type": "code",
   "execution_count": null,
   "metadata": {
    "collapsed": false
   },
   "outputs": [],
   "source": [
    "svms = [col for col in df.columns if 'svm' in col]\n",
    "svmsDf = df[svms]\n",
    "figs.append(svmsDf.iplot(kind='line',title=\"All SVM Classifiers\"))"
   ]
  },
  {
   "cell_type": "code",
   "execution_count": null,
   "metadata": {
    "collapsed": false
   },
   "outputs": [],
   "source": [
    "dtrees = [col for col in df.columns if 'dtree' in col]\n",
    "dtreesDf = df[svms]\n",
    "figs.append(dtreesDf.iplot(kind='line',title=\"All Decision Tree Classifiers\"))"
   ]
  },
  {
   "cell_type": "code",
   "execution_count": null,
   "metadata": {
    "collapsed": false
   },
   "outputs": [],
   "source": [
    "rfs = [col for col in df.columns if 'random_forests' in col]\n",
    "rfsDf = df[rfs]\n",
    "figs.append(rfsDf.iplot(kind='line',title=\"All Random Forest Classifiers\"))"
   ]
  },
  {
   "cell_type": "code",
   "execution_count": null,
   "metadata": {
    "collapsed": false
   },
   "outputs": [],
   "source": [
    "adbs = [col for col in df.columns if 'ada_boost' in col]\n",
    "adbsDf = df[adbs]\n",
    "figs.append(adbsDf.iplot(kind='line',title=\"All Ada-Boost Classifiers\"))"
   ]
  },
  {
   "cell_type": "code",
   "execution_count": null,
   "metadata": {
    "collapsed": false
   },
   "outputs": [],
   "source": [
    "sparses = [col for col in df.columns if 'sparse' in col and 'non_sparse' not in col]\n",
    "sparsesDf = df[sparses]\n",
    "figs.append(sparsesDf.iplot(kind='line',title=\"All Sparse Classifiers\"))"
   ]
  },
  {
   "cell_type": "code",
   "execution_count": 147,
   "metadata": {
    "collapsed": false
   },
   "outputs": [
    {
     "data": {
      "text/html": [
       "<div id=\"45f5ea48-c61b-4cec-8999-b75a412d944b\" style=\"height: 525px; width: 100%;\" class=\"plotly-graph-div\"></div><script type=\"text/javascript\">require([\"plotly\"], function(Plotly) { window.PLOTLYENV=window.PLOTLYENV || {};window.PLOTLYENV.BASE_URL=\"https://plot.ly\";Plotly.newPlot(\"45f5ea48-c61b-4cec-8999-b75a412d944b\", [{\"line\": {\"dash\": \"solid\", \"width\": 1.3, \"color\": \"rgba(255, 153, 51, 1.0)\"}, \"y\": [4234.78125, 4309.4375, 4395.3125, 4313.636363636364, 4291.941176470587, 4342.882352941177, 4289.914285714286, 4208.333333333333, 4257.36111111111, 4227.4324324324325, 4345.513513513513, 4269.025641025641, 4267.35, 4239.024390243902, 4231.690476190476, 4209.906976744186, 4255.090909090909, 4199.177777777778, 4235.422222222222, 4048.854166666666, 4103.0625, 4142.666666666667, 4157.604166666667, 4190.0, 4252.5, 4355.5], \"type\": \"scatter\", \"x\": [59, 60, 61, 62, 63, 64, 65, 66, 67, 68, 69, 70, 71, 72, 73, 74, 75, 76, 77, 78, 79, 80, 81, 82, 83, 84], \"text\": \"\", \"name\": \"all_bayesian_non_sparse\", \"mode\": \"lines\"}, {\"line\": {\"dash\": \"solid\", \"width\": 1.3, \"color\": \"rgba(55, 128, 191, 1.0)\"}, \"y\": [136.8, 136.8, 136.8, 136.8, 136.8, 136.8, 136.8, 138.6, 138.6, 140.4, 140.4, 140.4, 140.4, 142.2, 142.2, 142.2, 144.0, 147.6, 149.4, 149.4, 149.4, 153.0, 153.0, 154.8, 154.8, 172.0], \"type\": \"scatter\", \"x\": [59, 60, 61, 62, 63, 64, 65, 66, 67, 68, 69, 70, 71, 72, 73, 74, 75, 76, 77, 78, 79, 80, 81, 82, 83, 84], \"text\": \"\", \"name\": \"giraffes_bayesian_non_sparse\", \"mode\": \"lines\"}, {\"line\": {\"dash\": \"solid\", \"width\": 1.3, \"color\": \"rgba(50, 171, 96, 1.0)\"}, \"y\": [4360.0, 4442.148148148148, 4535.925925925926, 4430.785714285715, 4392.620689655172, 4448.620689655172, 4377.6, 4270.903225806452, 4324.322580645161, 4275.25, 4402.875, 4298.970588235295, 4287.4857142857145, 4243.444444444444, 4227.945945945946, 4197.236842105263, 4231.282051282052, 4155.2, 4188.8, 3978.6511627906975, 4035.069767441861, 4075.813953488372, 4109.6511627906975, 4138.232558139535, 4202.674418604651, 4290.883720930233], \"type\": \"scatter\", \"x\": [59, 60, 61, 62, 63, 64, 65, 66, 67, 68, 69, 70, 71, 72, 73, 74, 75, 76, 77, 78, 79, 80, 81, 82, 83, 84], \"text\": \"\", \"name\": \"zebras_bayesian_non_sparse\", \"mode\": \"lines\"}, {\"line\": {\"dash\": \"solid\", \"width\": 1.3, \"color\": \"rgba(128, 0, 128, 1.0)\"}, \"y\": [2268.0, 2309.803921568628, 2354.509803921569, 2418.1764705882347, 2464.9411764705883, 2470.076923076923, 2487.849056603773, 2387.928571428572, 2331.4406779661012, 2393.7627118644073, 2382.6, 2386.72131147541, 2350.6031746031745, 2308.769230769231, 2311.378787878788, 2309.2686567164183, 2299.68115942029, 2296.9, 2336.785714285714, 2415.6, 2408.225352112676, 2445.4647887323945, 2482.9859154929572, 2474.722222222222, 2477.1369863013697, 2510.410958904109], \"type\": \"scatter\", \"x\": [59, 60, 61, 62, 63, 64, 65, 66, 67, 68, 69, 70, 71, 72, 73, 74, 75, 76, 77, 78, 79, 80, 81, 82, 83, 84], \"text\": \"\", \"name\": \"all_logistic_non_sparse\", \"mode\": \"lines\"}, {\"line\": {\"dash\": \"solid\", \"width\": 1.3, \"color\": \"rgba(219, 64, 82, 1.0)\"}, \"y\": [133.77777777777777, 133.77777777777777, 133.77777777777777, 133.77777777777777, 135.33333333333334, 135.33333333333334, 135.33333333333334, 135.33333333333334, 136.88888888888889, 136.88888888888889, 136.88888888888889, 138.44444444444446, 138.44444444444446, 140.0, 141.55555555555554, 141.55555555555554, 141.55555555555554, 143.11111111111111, 143.11111111111111, 143.11111111111111, 146.22222222222226, 146.22222222222226, 146.22222222222226, 149.33333333333334, 149.33333333333334, 149.33333333333334], \"type\": \"scatter\", \"x\": [59, 60, 61, 62, 63, 64, 65, 66, 67, 68, 69, 70, 71, 72, 73, 74, 75, 76, 77, 78, 79, 80, 81, 82, 83, 84], \"text\": \"\", \"name\": \"giraffes_logistic_non_sparse\", \"mode\": \"lines\"}, {\"line\": {\"dash\": \"solid\", \"width\": 1.3, \"color\": \"rgba(0, 128, 128, 1.0)\"}, \"y\": [2258.6666666666665, 2305.214285714286, 2355.785714285714, 2425.714285714286, 2473.6666666666665, 2473.3023255813955, 2486.7272727272725, 2364.5106382978724, 2288.64, 2355.6, 2340.4705882352937, 2337.923076923077, 2292.8888888888887, 2240.035714285714, 2236.842105263158, 2233.4482758620693, 2218.6666666666665, 2213.6065573770493, 2255.540983606557, 2337.245901639344, 2324.2258064516127, 2363.2741935483873, 2402.6451612903224, 2385.7460317460323, 2387.0, 2422.265625], \"type\": \"scatter\", \"x\": [59, 60, 61, 62, 63, 64, 65, 66, 67, 68, 69, 70, 71, 72, 73, 74, 75, 76, 77, 78, 79, 80, 81, 82, 83, 84], \"text\": \"\", \"name\": \"zebras_logistic_non_sparse\", \"mode\": \"lines\"}, {\"line\": {\"dash\": \"solid\", \"width\": 1.3, \"color\": \"rgba(255, 255, 51, 1.0)\"}, \"y\": [3088.3695652173915, 3091.787234042553, 3124.425531914894, 3140.25, 3192.166666666666, 3255.0, 3288.166666666666, 3336.666666666666, 3233.8235294117653, 3298.1764705882347, 3349.686274509804, 3372.137254901961, 3390.098039215686, 3437.8235294117653, 3530.745098039216, 3534.4423076923076, 3581.5384615384614, 3655.307692307693, 3713.6538461538457, 3643.518518518519, 3643.2, 3699.818181818182, 3639.6315789473683, 3592.847457627119, 3651.8644067796613, 3571.8688524590166], \"type\": \"scatter\", \"x\": [59, 60, 61, 62, 63, 64, 65, 66, 67, 68, 69, 70, 71, 72, 73, 74, 75, 76, 77, 78, 79, 80, 81, 82, 83, 84], \"text\": \"\", \"name\": \"all_svm_non_sparse\", \"mode\": \"lines\"}, {\"line\": {\"dash\": \"solid\", \"width\": 1.3, \"color\": \"rgba(128, 128, 0, 1.0)\"}, \"y\": [192.83333333333331, 180.0, 180.0, 182.0, 182.0, 182.0, 184.0, 184.0, 184.0, 186.0, 186.0, 186.0, 186.0, 199.28571428571428, 199.28571428571428, 199.28571428571428, 199.28571428571428, 201.42857142857144, 201.42857142857144, 201.42857142857144, 201.42857142857144, 203.57142857142856, 190.0, 190.0, 190.0, 190.0], \"type\": \"scatter\", \"x\": [59, 60, 61, 62, 63, 64, 65, 66, 67, 68, 69, 70, 71, 72, 73, 74, 75, 76, 77, 78, 79, 80, 81, 82, 83, 84], \"text\": \"\", \"name\": \"giraffes_svm_non_sparse\", \"mode\": \"lines\"}, {\"line\": {\"dash\": \"solid\", \"width\": 1.3, \"color\": \"rgba(251, 128, 114, 1.0)\"}, \"y\": [2971.2, 3025.275, 3060.35, 3066.5853658536585, 3121.9512195121947, 3188.5853658536585, 3219.2195121951213, 3270.8780487804884, 3145.818181818182, 3209.5227272727275, 3264.090909090909, 3288.5227272727275, 3308.068181818182, 3343.090909090909, 3440.568181818182, 3439.644444444445, 3490.0, 3562.222222222222, 3624.133333333333, 3540.0, 3535.291666666666, 3590.0, 3575.5714285714284, 3516.1176470588234, 3578.4313725490197, 3485.2075471698113], \"type\": \"scatter\", \"x\": [59, 60, 61, 62, 63, 64, 65, 66, 67, 68, 69, 70, 71, 72, 73, 74, 75, 76, 77, 78, 79, 80, 81, 82, 83, 84], \"text\": \"\", \"name\": \"zebras_svm_non_sparse\", \"mode\": \"lines\"}, {\"line\": {\"dash\": \"solid\", \"width\": 1.3, \"color\": \"rgba(128, 177, 211, 1.0)\"}, \"y\": [3781.0196078431372, 3835.7647058823527, 3787.396226415094, 3811.6792452830186, 3685.5, 3769.1785714285716, 3825.0, 3706.4406779661017, 3633.606557377049, 3668.459016393442, 3657.7419354838707, 3638.412698412698, 3548.9230769230767, 3491.567164179105, 3489.75, 3526.4411764705883, 3581.0147058823527, 3606.2352941176473, 3595.1304347826085, 3629.057971014493, 3658.695652173913, 3684.0, 3706.246376811594, 3711.142857142857, 3724.4285714285716, 3653.0], \"type\": \"scatter\", \"x\": [59, 60, 61, 62, 63, 64, 65, 66, 67, 68, 69, 70, 71, 72, 73, 74, 75, 76, 77, 78, 79, 80, 81, 82, 83, 84], \"text\": \"\", \"name\": \"all_dtree_non_sparse\", \"mode\": \"lines\"}, {\"line\": {\"dash\": \"solid\", \"width\": 1.3, \"color\": \"rgba(128, 177, 211, 0.89999999999999991)\"}, \"y\": [162.0, 162.0, 164.0, 164.0, 166.0, 168.0, 168.0, 154.0, 155.83333333333334, 157.66666666666666, 157.66666666666666, 157.66666666666666, 159.5, 159.5, 159.5, 159.5, 161.33333333333334, 163.16666666666666, 163.16666666666666, 180.0, 180.0, 180.0, 180.0, 180.0, 180.0, 180.0], \"type\": \"scatter\", \"x\": [59, 60, 61, 62, 63, 64, 65, 66, 67, 68, 69, 70, 71, 72, 73, 74, 75, 76, 77, 78, 79, 80, 81, 82, 83, 84], \"text\": \"\", \"name\": \"giraffes_dtree_non_sparse\", \"mode\": \"lines\"}, {\"line\": {\"dash\": \"solid\", \"width\": 1.3, \"color\": \"rgba(255, 153, 51, 0.89999999999999991)\"}, \"y\": [3664.95652173913, 3721.652173913044, 3660.375, 3685.354166666666, 3542.7647058823527, 3622.8235294117653, 3679.4117647058815, 3605.6603773584907, 3520.0, 3550.6363636363635, 3537.3214285714284, 3514.964912280702, 3414.8644067796613, 3352.1311475409834, 3348.967741935484, 3386.322580645161, 3437.903225806452, 3459.1451612903224, 3446.238095238096, 3464.8412698412703, 3495.333333333333, 3521.2698412698405, 3544.68253968254, 3548.0625, 3562.03125, 3486.3636363636365], \"type\": \"scatter\", \"x\": [59, 60, 61, 62, 63, 64, 65, 66, 67, 68, 69, 70, 71, 72, 73, 74, 75, 76, 77, 78, 79, 80, 81, 82, 83, 84], \"text\": \"\", \"name\": \"zebras_dtree_non_sparse\", \"mode\": \"lines\"}, {\"line\": {\"dash\": \"solid\", \"width\": 1.3, \"color\": \"rgba(55, 128, 191, 0.89999999999999991)\"}, \"y\": [2886.560606060606, 2874.268656716418, 2882.3880597014927, 2936.2985074626868, 2921.014492753623, 2899.43661971831, 2845.5068493150684, 2880.3972602739727, 2836.213333333333, 2841.184210526316, 2809.8461538461543, 2791.25, 2802.125, 2845.7625, 2833.456790123457, 2813.292682926829, 2816.890243902439, 2867.3414634146343, 2853.1084337349394, 2850.0, 2854.188235294117, 2837.395348837209, 2866.7906976744184, 2780.055555555556, 2795.955555555556, 2769.782608695652], \"type\": \"scatter\", \"x\": [59, 60, 61, 62, 63, 64, 65, 66, 67, 68, 69, 70, 71, 72, 73, 74, 75, 76, 77, 78, 79, 80, 81, 82, 83, 84], \"text\": \"\", \"name\": \"all_random_forests_non_sparse\", \"mode\": \"lines\"}, {\"line\": {\"dash\": \"solid\", \"width\": 1.3, \"color\": \"rgba(50, 171, 96, 0.89999999999999991)\"}, \"y\": [159.0, 159.0, 159.0, 162.0, 171.0, 171.0, 174.0, 174.0, 174.0, 177.0, 118.0, 118.0, 120.0, 122.0, 122.0, 122.0, 122.0, 124.0, 128.0, 128.0, 130.0, 130.0, 130.0, 132.0, 134.0, 111.66666666666669], \"type\": \"scatter\", \"x\": [59, 60, 61, 62, 63, 64, 65, 66, 67, 68, 69, 70, 71, 72, 73, 74, 75, 76, 77, 78, 79, 80, 81, 82, 83, 84], \"text\": \"\", \"name\": \"giraffes_random_forests_non_sparse\", \"mode\": \"lines\"}, {\"line\": {\"dash\": \"solid\", \"width\": 1.3, \"color\": \"rgba(128, 0, 128, 0.89999999999999991)\"}, \"y\": [2729.476923076923, 2718.530303030303, 2726.681818181818, 2775.696969696969, 2750.0, 2730.214285714286, 2675.555555555556, 2710.555555555556, 2669.5, 2671.52, 2668.1052631578946, 2651.0, 2658.333333333333, 2697.333333333333, 2685.3037974683543, 2666.2875, 2669.925, 2715.825, 2695.061728395062, 2692.878048780488, 2694.4698795180725, 2678.452380952381, 2707.142857142857, 2620.2613636363635, 2632.3636363636365, 2628.483146067416], \"type\": \"scatter\", \"x\": [59, 60, 61, 62, 63, 64, 65, 66, 67, 68, 69, 70, 71, 72, 73, 74, 75, 76, 77, 78, 79, 80, 81, 82, 83, 84], \"text\": \"\", \"name\": \"zebras_random_forests_non_sparse\", \"mode\": \"lines\"}, {\"line\": {\"dash\": \"solid\", \"width\": 1.3, \"color\": \"rgba(219, 64, 82, 0.89999999999999991)\"}, \"y\": [3342.103448275862, 3410.8620689655168, 3408.745762711864, 3439.8305084745757, 3448.65, 3444.049180327869, 3474.754098360656, 3550.8196721311474, 3528.870967741936, 3532.222222222222, 3550.5714285714284, 3495.0153846153844, 3516.0, 3513.181818181818, 3446.0735294117653, 3432.0, 3449.333333333333, 3451.4285714285716, 3431.1549295774653, 3473.555555555556, 3458.2602739726026, 3504.6575342465753, 3534.5753424657532, 3590.1369863013697, 3618.849315068493, 3636.164383561644], \"type\": \"scatter\", \"x\": [59, 60, 61, 62, 63, 64, 65, 66, 67, 68, 69, 70, 71, 72, 73, 74, 75, 76, 77, 78, 79, 80, 81, 82, 83, 84], \"text\": \"\", \"name\": \"all_ada_boost_non_sparse\", \"mode\": \"lines\"}, {\"line\": {\"dash\": \"solid\", \"width\": 1.3, \"color\": \"rgba(0, 128, 128, 0.89999999999999991)\"}, \"y\": [141.375, 144.625, 147.875, 149.5, 149.5, 149.5, 149.5, 162.75, 164.5, 166.25, 166.25, 166.25, 166.25, 168.0, 168.0, 168.0, 168.0, 168.0, 168.0, 168.0, 169.75, 169.75, 169.75, 169.75, 169.75, 169.75], \"type\": \"scatter\", \"x\": [59, 60, 61, 62, 63, 64, 65, 66, 67, 68, 69, 70, 71, 72, 73, 74, 75, 76, 77, 78, 79, 80, 81, 82, 83, 84], \"text\": \"\", \"name\": \"giraffes_ada_boost_non_sparse\", \"mode\": \"lines\"}, {\"line\": {\"dash\": \"solid\", \"width\": 1.3, \"color\": \"rgba(255, 255, 51, 0.89999999999999991)\"}, \"y\": [3320.1, 3382.54, 3364.901960784314, 3393.215686274509, 3399.134615384615, 3390.396226415094, 3423.3207547169814, 3484.6792452830186, 3452.944444444445, 3447.4909090909086, 3467.5636363636363, 3401.842105263158, 3423.859649122807, 3413.1724137931037, 3337.0, 3319.475409836065, 3338.2295081967213, 3337.4838709677415, 3314.285714285714, 3355.625, 3337.9692307692308, 3385.6, 3417.8, 3475.3230769230768, 3505.4769230769234, 3524.123076923077], \"type\": \"scatter\", \"x\": [59, 60, 61, 62, 63, 64, 65, 66, 67, 68, 69, 70, 71, 72, 73, 74, 75, 76, 77, 78, 79, 80, 81, 82, 83, 84], \"text\": \"\", \"name\": \"zebras_ada_boost_non_sparse\", \"mode\": \"lines\"}], {\"titlefont\": {\"color\": \"#4D5663\"}, \"legend\": {\"font\": {\"color\": \"#4D5663\"}, \"bgcolor\": \"#F5F6F9\"}, \"paper_bgcolor\": \"#F5F6F9\", \"title\": \"All Non-Sparse Classifiers\", \"plot_bgcolor\": \"#F5F6F9\", \"xaxis1\": {\"gridcolor\": \"#E1E5ED\", \"zerolinecolor\": \"#E1E5ED\", \"titlefont\": {\"color\": \"#4D5663\"}, \"title\": \"\", \"showgrid\": true, \"tickfont\": {\"color\": \"#4D5663\"}}, \"yaxis1\": {\"gridcolor\": \"#E1E5ED\", \"zerolinecolor\": \"#E1E5ED\", \"titlefont\": {\"color\": \"#4D5663\"}, \"title\": \"\", \"showgrid\": true, \"tickfont\": {\"color\": \"#4D5663\"}}}, {\"showLink\": true, \"linkText\": \"Export to plot.ly\"})});</script>"
      ],
      "text/plain": [
       "<IPython.core.display.HTML object>"
      ]
     },
     "metadata": {},
     "output_type": "display_data"
    }
   ],
   "source": [
    "nsparses = [col for col in df.columns if 'non_sparse' in col ]\n",
    "nsparsesDf = df[nsparses]\n",
    "figs.append(nsparsesDf.iplot(kind='line',title=\"All Non-Sparse Classifiers\"))"
   ]
  },
  {
   "cell_type": "code",
   "execution_count": 148,
   "metadata": {
    "collapsed": false
   },
   "outputs": [
    {
     "data": {
      "text/html": [
       "<div id=\"3e093f46-a694-440f-bb4e-9ef1750c6144\" style=\"height: 525px; width: 100%;\" class=\"plotly-graph-div\"></div><script type=\"text/javascript\">require([\"plotly\"], function(Plotly) { window.PLOTLYENV=window.PLOTLYENV || {};window.PLOTLYENV.BASE_URL=\"https://plot.ly\";Plotly.newPlot(\"3e093f46-a694-440f-bb4e-9ef1750c6144\", [{\"line\": {\"dash\": \"solid\", \"width\": 1.3, \"color\": \"rgba(255, 153, 51, 1.0)\"}, \"y\": [2747.467741935484, 2737.777777777778, 2740.59375, 2742.830769230769, 2784.16923076923, 2798.333333333333, 2809.833333333333, 2855.2272727272725, 2797.1764705882347, 2823.220588235294, 2834.558823529412, 2796.857142857143, 2822.528571428572, 2855.4285714285716, 2877.6, 2896.457142857143, 2885.1408450704225, 2892.6056338028166, 2951.774647887324, 2892.671232876712, 2925.6164383561645, 2900.7466666666664, 2854.8461538461543, 2820.5375, 2748.6506024096384, 2719.7176470588233], \"type\": \"scatter\", \"x\": [59, 60, 61, 62, 63, 64, 65, 66, 67, 68, 69, 70, 71, 72, 73, 74, 75, 76, 77, 78, 79, 80, 81, 82, 83, 84], \"text\": \"\", \"name\": \"all_bayesian_non_zero\", \"mode\": \"lines\"}, {\"line\": {\"dash\": \"solid\", \"width\": 1.3, \"color\": \"rgba(55, 128, 191, 1.0)\"}, \"y\": [114.0, 114.0, 115.5, 128.33333333333334, 131.66666666666666, 135.0, 135.0, 135.0, 136.66666666666666, 136.66666666666666, 136.66666666666666, 138.33333333333334, 138.33333333333334, 138.33333333333334, 140.0, 140.0, 141.66666666666666, 141.66666666666666, 145.0, 145.0, 145.0, 145.0, 145.0, 146.66666666666666, 138.28571428571428, 138.28571428571428], \"type\": \"scatter\", \"x\": [59, 60, 61, 62, 63, 64, 65, 66, 67, 68, 69, 70, 71, 72, 73, 74, 75, 76, 77, 78, 79, 80, 81, 82, 83, 84], \"text\": \"\", \"name\": \"giraffes_bayesian_non_zero\", \"mode\": \"lines\"}, {\"line\": {\"dash\": \"solid\", \"width\": 1.3, \"color\": \"rgba(50, 171, 96, 1.0)\"}, \"y\": [2689.910714285714, 2677.684210526316, 2675.4482758620693, 2664.406779661017, 2698.915254237288, 2704.333333333333, 2716.5333333333333, 2763.4, 2697.0806451612907, 2724.0, 2736.0, 2690.40625, 2716.875, 2750.34375, 2769.140625, 2789.0625, 2772.6769230769232, 2780.5538461538463, 2833.0615384615385, 2770.7462686567164, 2804.7761194029854, 2776.7391304347825, 2727.3611111111113, 2686.918918918919, 2637.684210526316, 2606.5128205128203], \"type\": \"scatter\", \"x\": [59, 60, 61, 62, 63, 64, 65, 66, 67, 68, 69, 70, 71, 72, 73, 74, 75, 76, 77, 78, 79, 80, 81, 82, 83, 84], \"text\": \"\", \"name\": \"zebras_bayesian_non_zero\", \"mode\": \"lines\"}, {\"line\": {\"dash\": \"solid\", \"width\": 1.3, \"color\": \"rgba(128, 0, 128, 1.0)\"}, \"y\": [3018.315789473684, 3081.4736842105267, 3136.982456140351, 3184.842105263158, 3143.8813559322034, 3124.8, 3060.2903225806454, 3047.6190476190477, 3043.59375, 3095.625, 3127.625, 3111.492307692308, 3084.0, 3062.6470588235293, 3105.3676470588234, 3085.2571428571428, 3089.142857142857, 3087.323943661972, 3059.375, 3013.3108108108113, 3002.04, 3020.266666666667, 3063.9466666666667, 3070.736842105264, 3045.181818181818, 3073.909090909091], \"type\": \"scatter\", \"x\": [59, 60, 61, 62, 63, 64, 65, 66, 67, 68, 69, 70, 71, 72, 73, 74, 75, 76, 77, 78, 79, 80, 81, 82, 83, 84], \"text\": \"\", \"name\": \"all_logistic_non_zero\", \"mode\": \"lines\"}, {\"line\": {\"dash\": \"solid\", \"width\": 1.3, \"color\": \"rgba(219, 64, 82, 1.0)\"}, \"y\": [108.57142857142857, 121.0, 121.0, 124.14285714285714, 124.14285714285714, 124.14285714285714, 124.14285714285714, 124.14285714285714, 125.71428571428572, 127.28571428571428, 127.28571428571428, 127.28571428571428, 127.28571428571428, 128.85714285714286, 130.42857142857142, 132.0, 135.14285714285714, 135.14285714285714, 135.14285714285714, 135.14285714285714, 135.14285714285714, 136.71428571428572, 138.28571428571428, 139.85714285714286, 139.85714285714286, 139.85714285714286], \"type\": \"scatter\", \"x\": [59, 60, 61, 62, 63, 64, 65, 66, 67, 68, 69, 70, 71, 72, 73, 74, 75, 76, 77, 78, 79, 80, 81, 82, 83, 84], \"text\": \"\", \"name\": \"giraffes_logistic_non_zero\", \"mode\": \"lines\"}, {\"line\": {\"dash\": \"solid\", \"width\": 1.3, \"color\": \"rgba(0, 128, 128, 1.0)\"}, \"y\": [3023.28, 3072.72, 3132.08, 3174.92, 3123.730769230769, 3100.339622641509, 3025.6, 3009.107142857143, 2997.754385964912, 3048.245614035088, 3081.4736842105267, 3062.1724137931037, 3030.779661016949, 2999.7377049180327, 3040.065573770492, 3010.9206349206347, 3015.0793650793653, 3011.25, 2980.230769230769, 2929.0298507462685, 2915.4852941176473, 2930.2941176470586, 2970.8823529411766, 2972.0, 2944.114285714286, 2973.342857142857], \"type\": \"scatter\", \"x\": [59, 60, 61, 62, 63, 64, 65, 66, 67, 68, 69, 70, 71, 72, 73, 74, 75, 76, 77, 78, 79, 80, 81, 82, 83, 84], \"text\": \"\", \"name\": \"zebras_logistic_non_zero\", \"mode\": \"lines\"}, {\"line\": {\"dash\": \"solid\", \"width\": 1.3, \"color\": \"rgba(255, 255, 51, 1.0)\"}, \"y\": [3115.193548387097, 3090.0, 3060.369230769231, 3113.6, 3100.3283582089557, 3139.2537313432845, 3120.7647058823527, 3140.1176470588234, 3126.2608695652175, 3053.833333333333, 3074.1111111111113, 3086.277777777778, 3066.4657534246576, 3007.447368421052, 2976.12987012987, 2983.87012987013, 3011.688311688312, 3012.2564102564097, 3014.658227848101, 2978.456790123457, 2944.240963855422, 2942.857142857143, 2953.892857142857, 3014.488095238096, 3046.5476190476197, 3072.714285714286], \"type\": \"scatter\", \"x\": [59, 60, 61, 62, 63, 64, 65, 66, 67, 68, 69, 70, 71, 72, 73, 74, 75, 76, 77, 78, 79, 80, 81, 82, 83, 84], \"text\": \"\", \"name\": \"all_svm_non_zero\", \"mode\": \"lines\"}, {\"line\": {\"dash\": \"solid\", \"width\": 1.3, \"color\": \"rgba(128, 128, 0, 1.0)\"}, \"y\": [163.55555555555554, 163.55555555555554, 163.55555555555554, 165.33333333333334, 165.33333333333334, 165.33333333333334, 165.33333333333334, 165.33333333333334, 165.33333333333334, 165.33333333333334, 165.33333333333334, 165.33333333333334, 165.33333333333334, 165.33333333333334, 165.33333333333334, 165.33333333333334, 165.33333333333334, 167.11111111111111, 167.11111111111111, 168.88888888888889, 168.88888888888889, 168.88888888888889, 168.88888888888889, 168.88888888888889, 168.88888888888889, 168.88888888888889], \"type\": \"scatter\", \"x\": [59, 60, 61, 62, 63, 64, 65, 66, 67, 68, 69, 70, 71, 72, 73, 74, 75, 76, 77, 78, 79, 80, 81, 82, 83, 84], \"text\": \"\", \"name\": \"giraffes_svm_non_zero\", \"mode\": \"lines\"}, {\"line\": {\"dash\": \"solid\", \"width\": 1.3, \"color\": \"rgba(251, 128, 114, 1.0)\"}, \"y\": [3076.7547169811323, 3045.833333333333, 3006.25, 3057.375, 3035.793103448276, 3077.0689655172414, 3054.4915254237294, 3074.9830508474574, 3057.6, 2972.2539682539677, 2994.238095238096, 3007.4285714285716, 2984.15625, 2914.4776119402986, 2879.9411764705883, 2888.2647058823527, 2917.058823529412, 2911.5942028985505, 2912.914285714285, 2867.777777777778, 2829.2432432432433, 2826.32, 2838.08, 2900.5333333333333, 2934.186666666666, 2962.0933333333332], \"type\": \"scatter\", \"x\": [59, 60, 61, 62, 63, 64, 65, 66, 67, 68, 69, 70, 71, 72, 73, 74, 75, 76, 77, 78, 79, 80, 81, 82, 83, 84], \"text\": \"\", \"name\": \"zebras_svm_non_zero\", \"mode\": \"lines\"}, {\"line\": {\"dash\": \"solid\", \"width\": 1.3, \"color\": \"rgba(128, 177, 211, 1.0)\"}, \"y\": [3796.94, 3847.14, 3835.7647058823527, 3769.169811320755, 3822.792452830189, 3862.433962264151, 3733.25, 3756.696428571429, 3618.7118644067796, 3624.9, 3609.409836065574, 3616.5161290322585, 3580.666666666666, 3533.5384615384614, 3550.2, 3517.9850746268653, 3495.4117647058824, 3501.333333333333, 3565.7391304347825, 3592.086956521739, 3621.565217391305, 3606.4285714285716, 3630.0, 3672.6857142857134, 3694.7571428571428, 3715.571428571429], \"type\": \"scatter\", \"x\": [59, 60, 61, 62, 63, 64, 65, 66, 67, 68, 69, 70, 71, 72, 73, 74, 75, 76, 77, 78, 79, 80, 81, 82, 83, 84], \"text\": \"\", \"name\": \"all_dtree_non_zero\", \"mode\": \"lines\"}, {\"line\": {\"dash\": \"solid\", \"width\": 1.3, \"color\": \"rgba(128, 177, 211, 0.89999999999999991)\"}, \"y\": [160.0, 160.0, 160.0, 162.0, 164.0, 164.0, 166.0, 168.0, 168.0, 170.0, 170.0, 172.0, 172.0, 157.66666666666666, 157.66666666666666, 157.66666666666666, 159.5, 159.5, 163.16666666666666, 163.16666666666666, 163.16666666666666, 165.0, 180.0, 180.0, 180.0, 180.0], \"type\": \"scatter\", \"x\": [59, 60, 61, 62, 63, 64, 65, 66, 67, 68, 69, 70, 71, 72, 73, 74, 75, 76, 77, 78, 79, 80, 81, 82, 83, 84], \"text\": \"\", \"name\": \"giraffes_dtree_non_zero\", \"mode\": \"lines\"}, {\"line\": {\"dash\": \"solid\", \"width\": 1.3, \"color\": \"rgba(255, 153, 51, 0.89999999999999991)\"}, \"y\": [3690.733333333333, 3742.6888888888893, 3727.173913043479, 3648.0, 3698.0, 3739.3125, 3592.470588235294, 3611.2745098039222, 3464.1481481481487, 3463.872727272728, 3446.625, 3447.578947368421, 3409.9655172413795, 3404.745762711864, 3421.694915254237, 3384.72131147541, 3355.6451612903224, 3360.0, 3415.9365079365084, 3443.7460317460323, 3474.142857142857, 3452.421875, 3464.125, 3508.3125, 3531.515625, 3552.71875], \"type\": \"scatter\", \"x\": [59, 60, 61, 62, 63, 64, 65, 66, 67, 68, 69, 70, 71, 72, 73, 74, 75, 76, 77, 78, 79, 80, 81, 82, 83, 84], \"text\": \"\", \"name\": \"zebras_dtree_non_zero\", \"mode\": \"lines\"}, {\"line\": {\"dash\": \"solid\", \"width\": 1.3, \"color\": \"rgba(55, 128, 191, 0.89999999999999991)\"}, \"y\": [3765.551020408163, 3811.224489795919, 3759.686274509804, 3858.078431372549, 3790.0, 3752.833333333334, 3800.870370370369, 3860.0, 3889.3518518518517, 3847.563636363636, 3925.0, 3968.6545454545453, 3997.309090909091, 4056.6181818181817, 4091.563636363636, 3878.898305084746, 3926.4406779661017, 3954.762711864407, 3874.590163934426, 3901.6129032258063, 3884.571428571429, 3835.384615384615, 3853.8461538461543, 3809.090909090909, 3756.308823529412, 3765.220588235294], \"type\": \"scatter\", \"x\": [59, 60, 61, 62, 63, 64, 65, 66, 67, 68, 69, 70, 71, 72, 73, 74, 75, 76, 77, 78, 79, 80, 81, 82, 83, 84], \"text\": \"\", \"name\": \"all_random_forests_non_zero\", \"mode\": \"lines\"}, {\"line\": {\"dash\": \"solid\", \"width\": 1.3, \"color\": \"rgba(50, 171, 96, 0.89999999999999991)\"}, \"y\": [149.4, 149.4, 149.4, 149.4, 149.4, 166.0, 166.0, 168.0, 168.0, 168.0, 172.0, 172.0, 172.0, 172.0, 172.0, 159.5, 159.5, 159.5, 159.5, 161.33333333333334, 161.33333333333334, 161.33333333333334, 163.16666666666666, 163.16666666666666, 163.16666666666666, 165.0], \"type\": \"scatter\", \"x\": [59, 60, 61, 62, 63, 64, 65, 66, 67, 68, 69, 70, 71, 72, 73, 74, 75, 76, 77, 78, 79, 80, 81, 82, 83, 84], \"text\": \"\", \"name\": \"giraffes_random_forests_non_zero\", \"mode\": \"lines\"}, {\"line\": {\"dash\": \"solid\", \"width\": 1.3, \"color\": \"rgba(128, 0, 128, 0.89999999999999991)\"}, \"y\": [3677.340909090909, 3724.5454545454545, 3662.04347826087, 3762.0, 3685.333333333334, 3629.4693877551017, 3678.857142857143, 3735.510204081633, 3765.857142857143, 3720.4, 3789.5, 3834.12, 3862.84, 3924.08, 3960.32, 3784.301886792453, 3834.433962264151, 3864.0, 3774.1090909090913, 3793.4285714285716, 3773.1929824561403, 3717.8135593220345, 3732.5084745762706, 3684.75, 3626.451612903226, 3631.161290322581], \"type\": \"scatter\", \"x\": [59, 60, 61, 62, 63, 64, 65, 66, 67, 68, 69, 70, 71, 72, 73, 74, 75, 76, 77, 78, 79, 80, 81, 82, 83, 84], \"text\": \"\", \"name\": \"zebras_random_forests_non_zero\", \"mode\": \"lines\"}, {\"line\": {\"dash\": \"solid\", \"width\": 1.3, \"color\": \"rgba(219, 64, 82, 0.89999999999999991)\"}, \"y\": [2933.5443037974683, 2929.5, 2964.0, 2910.9036144578313, 2937.4698795180725, 2921.25, 2958.666666666666, 2958.666666666666, 2983.142857142857, 2945.186046511628, 2944.3448275862074, 2903.333333333333, 2891.010989010989, 2921.4395604395604, 2932.391304347826, 2946.695652173913, 2982.597826086957, 3015.097826086957, 3045.9347826086955, 3078.782608695652, 3054.6063829787236, 3061.821052631579, 3097.8315789473686, 3065.8762886597938, 3050.448979591837, 3091.142857142857], \"type\": \"scatter\", \"x\": [59, 60, 61, 62, 63, 64, 65, 66, 67, 68, 69, 70, 71, 72, 73, 74, 75, 76, 77, 78, 79, 80, 81, 82, 83, 84], \"text\": \"\", \"name\": \"all_ada_boost_non_zero\", \"mode\": \"lines\"}, {\"line\": {\"dash\": \"solid\", \"width\": 1.3, \"color\": \"rgba(0, 128, 128, 0.89999999999999991)\"}, \"y\": [82.6, 84.0, 84.0, 86.8, 86.8, 88.2, 91.0, 91.0, 91.0, 89.33333333333331, 89.33333333333331, 90.66666666666669, 90.66666666666669, 92.0, 90.0, 91.28571428571428, 91.28571428571428, 91.28571428571428, 95.14285714285714, 95.14285714285714, 96.42857142857143, 99.0, 101.57142857142857, 104.14285714285714, 104.14285714285714, 106.71428571428572], \"type\": \"scatter\", \"x\": [59, 60, 61, 62, 63, 64, 65, 66, 67, 68, 69, 70, 71, 72, 73, 74, 75, 76, 77, 78, 79, 80, 81, 82, 83, 84], \"text\": \"\", \"name\": \"giraffes_ada_boost_non_zero\", \"mode\": \"lines\"}, {\"line\": {\"dash\": \"solid\", \"width\": 1.3, \"color\": \"rgba(255, 255, 51, 0.89999999999999991)\"}, \"y\": [2886.6891891891887, 2877.866666666667, 2913.12, 2848.3461538461543, 2876.0769230769233, 2855.3164556962024, 2885.607594936709, 2885.607594936709, 2910.6835443037976, 2889.9, 2888.0246913580245, 2839.285714285714, 2825.964705882353, 2853.6470588235293, 2885.2235294117645, 2896.5529411764705, 2933.6, 2967.058823529412, 2987.6941176470586, 3021.4588235294123, 2990.4137931034484, 2989.431818181818, 3018.806818181818, 2976.833333333333, 2960.285714285714, 2994.054945054945], \"type\": \"scatter\", \"x\": [59, 60, 61, 62, 63, 64, 65, 66, 67, 68, 69, 70, 71, 72, 73, 74, 75, 76, 77, 78, 79, 80, 81, 82, 83, 84], \"text\": \"\", \"name\": \"zebras_ada_boost_non_zero\", \"mode\": \"lines\"}], {\"titlefont\": {\"color\": \"#4D5663\"}, \"legend\": {\"font\": {\"color\": \"#4D5663\"}, \"bgcolor\": \"#F5F6F9\"}, \"paper_bgcolor\": \"#F5F6F9\", \"title\": \"All Non-Zero IG Classifiers\", \"plot_bgcolor\": \"#F5F6F9\", \"xaxis1\": {\"gridcolor\": \"#E1E5ED\", \"zerolinecolor\": \"#E1E5ED\", \"titlefont\": {\"color\": \"#4D5663\"}, \"title\": \"\", \"showgrid\": true, \"tickfont\": {\"color\": \"#4D5663\"}}, \"yaxis1\": {\"gridcolor\": \"#E1E5ED\", \"zerolinecolor\": \"#E1E5ED\", \"titlefont\": {\"color\": \"#4D5663\"}, \"title\": \"\", \"showgrid\": true, \"tickfont\": {\"color\": \"#4D5663\"}}}, {\"showLink\": true, \"linkText\": \"Export to plot.ly\"})});</script>"
      ],
      "text/plain": [
       "<IPython.core.display.HTML object>"
      ]
     },
     "metadata": {},
     "output_type": "display_data"
    }
   ],
   "source": [
    "nzsparses = [col for col in df.columns if 'non_zero' in col ]\n",
    "nzsparsesDf = df[nzsparses]\n",
    "figs.append(nzsparsesDf.iplot(kind='line',title=\"All Non-Zero IG Classifiers\"))"
   ]
  },
  {
   "cell_type": "code",
   "execution_count": 149,
   "metadata": {
    "collapsed": false
   },
   "outputs": [
    {
     "data": {
      "text/html": [
       "<div id=\"7abafbff-bba8-4102-8770-66c94031ade0\" style=\"height: 525px; width: 100%;\" class=\"plotly-graph-div\"></div><script type=\"text/javascript\">require([\"plotly\"], function(Plotly) { window.PLOTLYENV=window.PLOTLYENV || {};window.PLOTLYENV.BASE_URL=\"https://plot.ly\";Plotly.newPlot(\"7abafbff-bba8-4102-8770-66c94031ade0\", [{\"line\": {\"dash\": \"solid\", \"width\": 1.3, \"color\": \"rgba(255, 153, 51, 1.0)\"}, \"y\": [3609.111111111111, 3658.777777777778, 3708.444444444444, 3667.142857142857, 3690.206896551724, 3549.2903225806454, 3582.375, 3600.212121212121, 3636.060606060606, 3622.8235294117653, 3590.4, 3671.885714285714, 3738.857142857143, 3539.578947368421, 3491.2820512820513, 3482.875, 3548.475, 3521.9512195121947, 3328.0, 3366.8444444444444, 3298.31914893617, 3336.170212765957, 3316.5, 3355.30612244898, 3360.72, 3339.4117647058824], \"type\": \"scatter\", \"x\": [59, 60, 61, 62, 63, 64, 65, 66, 67, 68, 69, 70, 71, 72, 73, 74, 75, 76, 77, 78, 79, 80, 81, 82, 83, 84], \"text\": \"\", \"name\": \"all_bayesian_abv_mean\", \"mode\": \"lines\"}, {\"line\": {\"dash\": \"solid\", \"width\": 1.3, \"color\": \"rgba(55, 128, 191, 1.0)\"}, \"y\": [146.0, 146.0, 148.0, 150.0, 152.0, 152.0, 154.0, 156.0, 156.0, 156.0, 156.0, 175.5, 175.5, 175.5, 175.5, 158.0, 158.0, 162.0, 162.0, 162.0, 162.0, 166.0, 166.0, 166.0, 166.0, 166.0], \"type\": \"scatter\", \"x\": [59, 60, 61, 62, 63, 64, 65, 66, 67, 68, 69, 70, 71, 72, 73, 74, 75, 76, 77, 78, 79, 80, 81, 82, 83, 84], \"text\": \"\", \"name\": \"giraffes_bayesian_abv_mean\", \"mode\": \"lines\"}, {\"line\": {\"dash\": \"solid\", \"width\": 1.3, \"color\": \"rgba(50, 171, 96, 1.0)\"}, \"y\": [3692.0, 3747.565217391305, 3796.95652173913, 3732.0, 3736.92, 3563.555555555556, 3582.964285714286, 3586.3448275862074, 3625.4482758620693, 3602.2, 3559.903225806452, 3624.83870967742, 3695.225806451613, 3468.2352941176473, 3413.5714285714284, 3473.542857142857, 3543.4285714285716, 3499.333333333333, 3273.6, 3314.575, 3234.523809523809, 3265.190476190476, 3241.674418604651, 3278.5454545454545, 3280.0, 3255.326086956521], \"type\": \"scatter\", \"x\": [59, 60, 61, 62, 63, 64, 65, 66, 67, 68, 69, 70, 71, 72, 73, 74, 75, 76, 77, 78, 79, 80, 81, 82, 83, 84], \"text\": \"\", \"name\": \"zebras_bayesian_abv_mean\", \"mode\": \"lines\"}, {\"line\": {\"dash\": \"solid\", \"width\": 1.3, \"color\": \"rgba(128, 0, 128, 1.0)\"}, \"y\": [3087.0, 3080.540540540541, 3042.631578947369, 3082.894736842105, 3152.2105263157896, 3234.4736842105267, 3220.4615384615386, 3248.0, 3252.375, 3289.317073170732, 3222.558139534884, 3191.75, 3234.4545454545455, 3172.2608695652175, 3264.1304347826085, 3276.847826086957, 3315.0, 3361.847826086957, 3232.4081632653056, 3277.3469387755104, 3200.0, 3247.8431372549016, 3307.019230769231, 3280.0, 3315.566037735849, 3324.0], \"type\": \"scatter\", \"x\": [59, 60, 61, 62, 63, 64, 65, 66, 67, 68, 69, 70, 71, 72, 73, 74, 75, 76, 77, 78, 79, 80, 81, 82, 83, 84], \"text\": \"\", \"name\": \"all_logistic_abv_mean\", \"mode\": \"lines\"}, {\"line\": {\"dash\": \"solid\", \"width\": 1.3, \"color\": \"rgba(219, 64, 82, 1.0)\"}, \"y\": [143.33333333333334, 143.33333333333334, 143.33333333333334, 143.33333333333334, 143.33333333333334, 145.0, 159.5, 159.5, 159.5, 161.33333333333334, 161.33333333333334, 161.33333333333334, 161.33333333333334, 161.33333333333334, 161.33333333333334, 163.16666666666666, 166.83333333333334, 166.83333333333334, 156.0, 156.0, 156.0, 156.0, 156.0, 156.0, 156.0, 156.0], \"type\": \"scatter\", \"x\": [59, 60, 61, 62, 63, 64, 65, 66, 67, 68, 69, 70, 71, 72, 73, 74, 75, 76, 77, 78, 79, 80, 81, 82, 83, 84], \"text\": \"\", \"name\": \"giraffes_logistic_abv_mean\", \"mode\": \"lines\"}, {\"line\": {\"dash\": \"solid\", \"width\": 1.3, \"color\": \"rgba(0, 128, 128, 1.0)\"}, \"y\": [3136.5, 3120.0, 3070.9375, 3115.125, 3189.9375, 3280.375, 3235.3030303030305, 3265.090909090909, 3261.4117647058824, 3287.657142857143, 3201.2972972972966, 3162.7105263157896, 3208.684210526316, 3131.3, 3228.25, 3237.5, 3269.875, 3319.25, 3225.476190476191, 3274.285714285714, 3180.1136363636365, 3231.8636363636365, 3288.888888888889, 3255.326086956521, 3293.478260869565, 3297.4468085106378], \"type\": \"scatter\", \"x\": [59, 60, 61, 62, 63, 64, 65, 66, 67, 68, 69, 70, 71, 72, 73, 74, 75, 76, 77, 78, 79, 80, 81, 82, 83, 84], \"text\": \"\", \"name\": \"zebras_logistic_abv_mean\", \"mode\": \"lines\"}, {\"line\": {\"dash\": \"solid\", \"width\": 1.3, \"color\": \"rgba(255, 255, 51, 1.0)\"}, \"y\": [2808.480769230769, 2744.6481481481487, 2748.0, 2784.6, 2812.7272727272725, 2794.8214285714284, 2831.3035714285716, 2872.767857142857, 2884.59649122807, 2921.947368421052, 2936.603448275862, 2969.3793103448274, 2993.152542372881, 3060.152542372881, 3080.745762711864, 3114.101694915254, 3077.6393442622957, 3048.0, 3005.0769230769233, 2961.2537313432845, 3007.4925373134333, 3042.3880597014927, 3020.6911764705883, 3055.4411764705883, 3082.5882352941176, 3078.1714285714284], \"type\": \"scatter\", \"x\": [59, 60, 61, 62, 63, 64, 65, 66, 67, 68, 69, 70, 71, 72, 73, 74, 75, 76, 77, 78, 79, 80, 81, 82, 83, 84], \"text\": \"\", \"name\": \"all_svm_abv_mean\", \"mode\": \"lines\"}, {\"line\": {\"dash\": \"solid\", \"width\": 1.3, \"color\": \"rgba(128, 128, 0, 1.0)\"}, \"y\": [117.14285714285714, 118.57142857142857, 118.57142857142857, 118.57142857142857, 118.57142857142857, 118.57142857142857, 118.57142857142857, 118.57142857142857, 120.0, 135.14285714285714, 135.14285714285714, 136.71428571428572, 138.28571428571428, 138.28571428571428, 138.28571428571428, 141.42857142857142, 141.42857142857142, 143.0, 143.0, 144.57142857142858, 144.57142857142858, 144.57142857142858, 138.0, 138.0, 138.0, 138.0], \"type\": \"scatter\", \"x\": [59, 60, 61, 62, 63, 64, 65, 66, 67, 68, 69, 70, 71, 72, 73, 74, 75, 76, 77, 78, 79, 80, 81, 82, 83, 84], \"text\": \"\", \"name\": \"giraffes_svm_abv_mean\", \"mode\": \"lines\"}, {\"line\": {\"dash\": \"solid\", \"width\": 1.3, \"color\": \"rgba(251, 128, 114, 1.0)\"}, \"y\": [2777.955555555556, 2699.5744680851058, 2699.0416666666665, 2738.333333333333, 2769.25, 2747.265306122449, 2786.3673469387754, 2830.0408163265306, 2833.6, 2850.9, 2864.0196078431372, 2894.4313725490197, 2911.384615384615, 2979.7115384615386, 3002.115384615385, 3033.0, 2988.222222222222, 2951.535714285714, 2901.9827586206898, 2848.733333333333, 2896.7, 2933.333333333333, 2945.833333333333, 2982.0, 3010.7, 3001.0967741935488], \"type\": \"scatter\", \"x\": [59, 60, 61, 62, 63, 64, 65, 66, 67, 68, 69, 70, 71, 72, 73, 74, 75, 76, 77, 78, 79, 80, 81, 82, 83, 84], \"text\": \"\", \"name\": \"zebras_svm_abv_mean\", \"mode\": \"lines\"}, {\"line\": {\"dash\": \"solid\", \"width\": 1.3, \"color\": \"rgba(128, 177, 211, 1.0)\"}, \"y\": [3711.372549019608, 3770.745098039216, 3770.0384615384614, 3834.4615384615386, 3855.0769230769233, 3775.0, 3743.7090909090907, 3777.327272727273, 3713.894736842106, 3760.315789473684, 3745.0517241379307, 3736.559322033898, 3772.627118644068, 3698.065573770492, 3691.7419354838707, 3744.193548387097, 3606.1538461538457, 3630.181818181818, 3629.9701492537324, 3656.925373134328, 3687.1044776119397, 3624.637681159421, 3637.8985507246375, 3667.565217391305, 3725.913043478261, 3742.4637681159415], \"type\": \"scatter\", \"x\": [59, 60, 61, 62, 63, 64, 65, 66, 67, 68, 69, 70, 71, 72, 73, 74, 75, 76, 77, 78, 79, 80, 81, 82, 83, 84], \"text\": \"\", \"name\": \"all_dtree_abv_mean\", \"mode\": \"lines\"}, {\"line\": {\"dash\": \"solid\", \"width\": 1.3, \"color\": \"rgba(128, 177, 211, 0.89999999999999991)\"}, \"y\": [145.8, 145.8, 145.8, 164.0, 166.0, 166.0, 166.0, 166.0, 170.0, 170.0, 170.0, 174.0, 174.0, 174.0, 159.5, 159.5, 159.5, 159.5, 161.33333333333334, 163.16666666666666, 165.0, 166.83333333333334, 166.83333333333334, 166.83333333333334, 166.83333333333334, 166.83333333333334], \"type\": \"scatter\", \"x\": [59, 60, 61, 62, 63, 64, 65, 66, 67, 68, 69, 70, 71, 72, 73, 74, 75, 76, 77, 78, 79, 80, 81, 82, 83, 84], \"text\": \"\", \"name\": \"giraffes_dtree_abv_mean\", \"mode\": \"lines\"}, {\"line\": {\"dash\": \"solid\", \"width\": 1.3, \"color\": \"rgba(255, 153, 51, 0.89999999999999991)\"}, \"y\": [3606.7608695652175, 3668.5, 3663.617021276596, 3710.808510638298, 3727.276595744681, 3640.0, 3605.12, 3639.92, 3560.3076923076924, 3607.6923076923076, 3589.4716981132074, 3569.222222222222, 3605.555555555556, 3526.8035714285716, 3569.3214285714284, 3622.892857142857, 3474.8135593220345, 3496.616666666667, 3489.508196721312, 3513.27868852459, 3539.7049180327867, 3467.333333333333, 3481.333333333333, 3511.904761904762, 3571.2698412698405, 3588.0], \"type\": \"scatter\", \"x\": [59, 60, 61, 62, 63, 64, 65, 66, 67, 68, 69, 70, 71, 72, 73, 74, 75, 76, 77, 78, 79, 80, 81, 82, 83, 84], \"text\": \"\", \"name\": \"zebras_dtree_abv_mean\", \"mode\": \"lines\"}, {\"line\": {\"dash\": \"solid\", \"width\": 1.3, \"color\": \"rgba(55, 128, 191, 0.89999999999999991)\"}, \"y\": [3925.714285714286, 3742.933333333333, 3860.888888888889, 3903.666666666666, 3860.869565217392, 3919.347826086957, 3898.808510638298, 3961.702127659575, 3972.127659574468, 3967.4375, 3990.857142857143, 3946.8, 3899.6470588235293, 3879.384615384615, 3870.339622641509, 3930.0, 3930.888888888889, 3903.0545454545454, 3942.072727272727, 3976.363636363637, 3968.25, 4026.785714285714, 4080.8035714285716, 3914.833333333334, 3905.901639344262, 3861.2903225806454], \"type\": \"scatter\", \"x\": [59, 60, 61, 62, 63, 64, 65, 66, 67, 68, 69, 70, 71, 72, 73, 74, 75, 76, 77, 78, 79, 80, 81, 82, 83, 84], \"text\": \"\", \"name\": \"all_random_forests_abv_mean\", \"mode\": \"lines\"}, {\"line\": {\"dash\": \"solid\", \"width\": 1.3, \"color\": \"rgba(50, 171, 96, 0.89999999999999991)\"}, \"y\": [152.0, 152.0, 167.2, 167.2, 167.2, 167.2, 169.4, 169.4, 169.4, 169.4, 171.6, 171.6, 171.6, 171.6, 173.8, 173.8, 158.0, 160.0, 162.0, 162.0, 162.0, 162.0, 162.0, 162.0, 164.0, 166.0], \"type\": \"scatter\", \"x\": [59, 60, 61, 62, 63, 64, 65, 66, 67, 68, 69, 70, 71, 72, 73, 74, 75, 76, 77, 78, 79, 80, 81, 82, 83, 84], \"text\": \"\", \"name\": \"giraffes_random_forests_abv_mean\", \"mode\": \"lines\"}, {\"line\": {\"dash\": \"solid\", \"width\": 1.3, \"color\": \"rgba(128, 0, 128, 0.89999999999999991)\"}, \"y\": [3882.8108108108113, 3674.1, 3779.55, 3824.7, 3775.707317073171, 3836.8536585365855, 3805.666666666666, 3872.142857142857, 3883.285714285714, 3874.7906976744175, 3888.863636363637, 3839.733333333333, 3787.6304347826094, 3763.617021276596, 3745.833333333334, 3806.833333333334, 3868.208333333334, 3829.551020408163, 3865.489795918367, 3901.5918367346944, 3888.9, 3950.26, 4006.8, 3819.0925925925926, 3802.145454545455, 3748.875], \"type\": \"scatter\", \"x\": [59, 60, 61, 62, 63, 64, 65, 66, 67, 68, 69, 70, 71, 72, 73, 74, 75, 76, 77, 78, 79, 80, 81, 82, 83, 84], \"text\": \"\", \"name\": \"zebras_random_forests_abv_mean\", \"mode\": \"lines\"}, {\"line\": {\"dash\": \"solid\", \"width\": 1.3, \"color\": \"rgba(219, 64, 82, 0.89999999999999991)\"}, \"y\": [3002.3214285714284, 3053.964285714286, 3019.706896551724, 3026.4406779661017, 3004.4666666666667, 3008.0, 2979.1612903225805, 2959.444444444445, 3015.3650793650795, 3031.875, 3055.765625, 3060.0, 2966.8382352941176, 2984.347826086957, 2971.6714285714284, 2979.128571428572, 3016.7428571428572, 3054.557142857143, 3087.4225352112676, 3114.084507042253, 3112.180555555556, 3092.054794520548, 3106.2972972972966, 3140.2027027027025, 3177.7297297297296, 3231.1216216216217], \"type\": \"scatter\", \"x\": [59, 60, 61, 62, 63, 64, 65, 66, 67, 68, 69, 70, 71, 72, 73, 74, 75, 76, 77, 78, 79, 80, 81, 82, 83, 84], \"text\": \"\", \"name\": \"all_ada_boost_abv_mean\", \"mode\": \"lines\"}, {\"line\": {\"dash\": \"solid\", \"width\": 1.3, \"color\": \"rgba(0, 128, 128, 0.89999999999999991)\"}, \"y\": [142.28571428571428, 154.14285714285714, 156.0, 156.0, 157.85714285714286, 157.85714285714286, 157.85714285714286, 157.85714285714286, 157.85714285714286, 157.85714285714286, 157.85714285714286, 157.85714285714286, 157.85714285714286, 157.85714285714286, 148.75, 148.75, 148.75, 148.75, 152.25, 152.25, 152.25, 152.25, 152.25, 152.25, 154.0, 154.0], \"type\": \"scatter\", \"x\": [59, 60, 61, 62, 63, 64, 65, 66, 67, 68, 69, 70, 71, 72, 73, 74, 75, 76, 77, 78, 79, 80, 81, 82, 83, 84], \"text\": \"\", \"name\": \"giraffes_ada_boost_abv_mean\", \"mode\": \"lines\"}, {\"line\": {\"dash\": \"solid\", \"width\": 1.3, \"color\": \"rgba(255, 255, 51, 0.89999999999999991)\"}, \"y\": [2954.2653061224487, 2994.775510204081, 2947.058823529412, 2950.8461538461543, 2920.830188679245, 2921.481481481481, 2889.4545454545455, 2866.732142857143, 2924.714285714286, 2938.947368421052, 2963.877192982456, 2966.2758620689656, 2863.688524590164, 2880.0, 2900.0, 2908.0, 2947.8387096774195, 2987.903225806452, 3015.7460317460323, 3043.809523809524, 3040.0, 3016.7846153846153, 3029.393939393939, 3064.606060606061, 3104.196969696969, 3159.7575757575764], \"type\": \"scatter\", \"x\": [59, 60, 61, 62, 63, 64, 65, 66, 67, 68, 69, 70, 71, 72, 73, 74, 75, 76, 77, 78, 79, 80, 81, 82, 83, 84], \"text\": \"\", \"name\": \"zebras_ada_boost_abv_mean\", \"mode\": \"lines\"}], {\"titlefont\": {\"color\": \"#4D5663\"}, \"legend\": {\"font\": {\"color\": \"#4D5663\"}, \"bgcolor\": \"#F5F6F9\"}, \"paper_bgcolor\": \"#F5F6F9\", \"title\": \"All Abv-Avg IG Classifiers\", \"plot_bgcolor\": \"#F5F6F9\", \"xaxis1\": {\"gridcolor\": \"#E1E5ED\", \"zerolinecolor\": \"#E1E5ED\", \"titlefont\": {\"color\": \"#4D5663\"}, \"title\": \"\", \"showgrid\": true, \"tickfont\": {\"color\": \"#4D5663\"}}, \"yaxis1\": {\"gridcolor\": \"#E1E5ED\", \"zerolinecolor\": \"#E1E5ED\", \"titlefont\": {\"color\": \"#4D5663\"}, \"title\": \"\", \"showgrid\": true, \"tickfont\": {\"color\": \"#4D5663\"}}}, {\"showLink\": true, \"linkText\": \"Export to plot.ly\"})});</script>"
      ],
      "text/plain": [
       "<IPython.core.display.HTML object>"
      ]
     },
     "metadata": {},
     "output_type": "display_data"
    }
   ],
   "source": [
    "abvs = [col for col in df.columns if 'abv_mean' in col ]\n",
    "abvsDf = df[abvs]\n",
    "figs.append(abvsDf.iplot(kind='line',title=\"All Abv-Avg IG Classifiers\"))"
   ]
  },
  {
   "cell_type": "code",
   "execution_count": null,
   "metadata": {
    "collapsed": true
   },
   "outputs": [],
   "source": []
  }
 ],
 "metadata": {
  "kernelspec": {
   "display_name": "Python 3",
   "language": "python",
   "name": "python3"
  },
  "language_info": {
   "codemirror_mode": {
    "name": "ipython",
    "version": 3
   },
   "file_extension": ".py",
   "mimetype": "text/x-python",
   "name": "python",
   "nbconvert_exporter": "python",
   "pygments_lexer": "ipython3",
   "version": "3.5.2"
  }
 },
 "nbformat": 4,
 "nbformat_minor": 0
}
