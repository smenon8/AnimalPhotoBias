{
 "cells": [
  {
   "cell_type": "markdown",
   "metadata": {
    "collapsed": false
   },
   "source": [
    "### Notebook Name: PopulationEstimatorClfNB\n",
    "#### Author Name: Sreejith Menon (smenon8@uic.edu)\n"
   ]
  },
  {
   "cell_type": "code",
   "execution_count": 151,
   "metadata": {
    "collapsed": false
   },
   "outputs": [],
   "source": [
    "import JobsMapResultsFilesToContainerObjs as ImageMap\n",
    "import pandas as pd\n",
    "import PopulationEstimatorFromClf as PE\n",
    "import importlib\n",
    "importlib.reload(PE)\n",
    "import cufflinks as cf # this is necessary to link pandas to plotly\n",
    "cf.go_online()\n",
    "import json\n",
    "import plotly.graph_objs as go\n",
    "from plotly.offline import download_plotlyjs, init_notebook_mode, plot, iplot\n",
    "import htmltag as HT\n",
    "import MarkRecapHelper as MR\n",
    "importlib.reload(MR)\n",
    "import DeriveFinalResultSet as DRS\n",
    "import DataStructsHelperAPI as DS\n",
    "importlib.reload(DS)\n",
    "import random"
   ]
  },
  {
   "cell_type": "markdown",
   "metadata": {},
   "source": [
    "### Logic for creating the comma seperated aggregate data file\n",
    "Not needed to run every time"
   ]
  },
  {
   "cell_type": "code",
   "execution_count": null,
   "metadata": {
    "collapsed": true
   },
   "outputs": [],
   "source": [
    "attribs = [ 'GID', 'AID', 'AGE',\n",
    "       'EXEMPLAR_FLAG', 'INDIVIDUAL_NAME', 'NID', 'QUALITY', 'SEX', 'SPECIES',\n",
    "       'VIEW_POINT','CONTRIBUTOR']\n",
    "\n",
    "df = ImageMap.genGidAidFtrDf(\"../data/full_gid_aid_map.json\",\"../data/full_aid_features.json\",'../data/full_gid_aid_ftr.csv')\n",
    "df_comb = ImageMap.createMstrFl(\"../data/full_gid_aid_ftr.csv\",\"../data/GZC_data_tagged.json\",attribs,\"../data/full_gid_aid_ftr_agg.csv\")"
   ]
  },
  {
   "cell_type": "markdown",
   "metadata": {},
   "source": [
    "## Visuals for accuracies of predictions"
   ]
  },
  {
   "cell_type": "code",
   "execution_count": 3,
   "metadata": {
    "collapsed": false
   },
   "outputs": [],
   "source": [
    "with open(\"../FinalResults/PopulationEstimate.json\",\"r\") as jsonFl:\n",
    "    resObj = json.load(jsonFl)"
   ]
  },
  {
   "cell_type": "code",
   "execution_count": 20,
   "metadata": {
    "collapsed": false
   },
   "outputs": [
    {
     "name": "stderr",
     "output_type": "stream",
     "text": [
      "/Users/sreejithmenon/anaconda/lib/python3.5/site-packages/ipykernel/__main__.py:10: SettingWithCopyWarning:\n",
      "\n",
      "\n",
      "A value is trying to be set on a copy of a slice from a DataFrame.\n",
      "Try using .loc[row_indexer,col_indexer] = value instead\n",
      "\n",
      "See the caveats in the documentation: http://pandas.pydata.org/pandas-docs/stable/indexing.html#indexing-view-versus-copy\n",
      "\n",
      "/Users/sreejithmenon/anaconda/lib/python3.5/site-packages/ipykernel/__main__.py:11: SettingWithCopyWarning:\n",
      "\n",
      "\n",
      "A value is trying to be set on a copy of a slice from a DataFrame.\n",
      "Try using .loc[row_indexer,col_indexer] = value instead\n",
      "\n",
      "See the caveats in the documentation: http://pandas.pydata.org/pandas-docs/stable/indexing.html#indexing-view-versus-copy\n",
      "\n",
      "/Users/sreejithmenon/anaconda/lib/python3.5/site-packages/ipykernel/__main__.py:12: SettingWithCopyWarning:\n",
      "\n",
      "\n",
      "A value is trying to be set on a copy of a slice from a DataFrame.\n",
      "Try using .loc[row_indexer,col_indexer] = value instead\n",
      "\n",
      "See the caveats in the documentation: http://pandas.pydata.org/pandas-docs/stable/indexing.html#indexing-view-versus-copy\n",
      "\n"
     ]
    },
    {
     "data": {
      "text/html": [
       "<div>\n",
       "<table border=\"1\" class=\"dataframe\">\n",
       "  <thead>\n",
       "    <tr style=\"text-align: right;\">\n",
       "      <th></th>\n",
       "      <th>Axes Name</th>\n",
       "      <th>all</th>\n",
       "      <th>Error_total_pop</th>\n",
       "      <th>zebras</th>\n",
       "      <th>Error_zebra_pop</th>\n",
       "      <th>giraffes</th>\n",
       "      <th>Error_giraffe_pop</th>\n",
       "      <th>shared_images_count</th>\n",
       "      <th>Predicted_Shared_proportion</th>\n",
       "      <th>norm_error_total_pop</th>\n",
       "      <th>norm_error_zebra_pop</th>\n",
       "      <th>norm_error_giraffe_pop</th>\n",
       "    </tr>\n",
       "  </thead>\n",
       "  <tbody>\n",
       "    <tr>\n",
       "      <th>0</th>\n",
       "      <td>bayesian sparse</td>\n",
       "      <td>0.0</td>\n",
       "      <td>-3620.0</td>\n",
       "      <td>0.0</td>\n",
       "      <td>-3468.0</td>\n",
       "      <td>0.0</td>\n",
       "      <td>-177.0</td>\n",
       "      <td>10</td>\n",
       "      <td>0.153304</td>\n",
       "      <td>-1.000000</td>\n",
       "      <td>-1.0</td>\n",
       "      <td>-1.000000</td>\n",
       "    </tr>\n",
       "    <tr>\n",
       "      <th>1</th>\n",
       "      <td>bayesian non_sparse</td>\n",
       "      <td>714.0</td>\n",
       "      <td>-2906.0</td>\n",
       "      <td>0.0</td>\n",
       "      <td>-3468.0</td>\n",
       "      <td>132.0</td>\n",
       "      <td>-45.0</td>\n",
       "      <td>233</td>\n",
       "      <td>3.571976</td>\n",
       "      <td>-0.802762</td>\n",
       "      <td>-1.0</td>\n",
       "      <td>-0.254237</td>\n",
       "    </tr>\n",
       "    <tr>\n",
       "      <th>2</th>\n",
       "      <td>bayesian non_zero</td>\n",
       "      <td>0.0</td>\n",
       "      <td>-3620.0</td>\n",
       "      <td>0.0</td>\n",
       "      <td>-3468.0</td>\n",
       "      <td>0.0</td>\n",
       "      <td>-177.0</td>\n",
       "      <td>92</td>\n",
       "      <td>1.410394</td>\n",
       "      <td>-1.000000</td>\n",
       "      <td>-1.0</td>\n",
       "      <td>-1.000000</td>\n",
       "    </tr>\n",
       "    <tr>\n",
       "      <th>3</th>\n",
       "      <td>bayesian abv_mean</td>\n",
       "      <td>0.0</td>\n",
       "      <td>-3620.0</td>\n",
       "      <td>0.0</td>\n",
       "      <td>-3468.0</td>\n",
       "      <td>0.0</td>\n",
       "      <td>-177.0</td>\n",
       "      <td>133</td>\n",
       "      <td>2.038939</td>\n",
       "      <td>-1.000000</td>\n",
       "      <td>-1.0</td>\n",
       "      <td>-1.000000</td>\n",
       "    </tr>\n",
       "    <tr>\n",
       "      <th>4</th>\n",
       "      <td>logistic sparse</td>\n",
       "      <td>0.0</td>\n",
       "      <td>-3620.0</td>\n",
       "      <td>0.0</td>\n",
       "      <td>-3468.0</td>\n",
       "      <td>0.0</td>\n",
       "      <td>-177.0</td>\n",
       "      <td>8</td>\n",
       "      <td>0.122643</td>\n",
       "      <td>-1.000000</td>\n",
       "      <td>-1.0</td>\n",
       "      <td>-1.000000</td>\n",
       "    </tr>\n",
       "  </tbody>\n",
       "</table>\n",
       "</div>"
      ],
      "text/plain": [
       "             Axes Name    all  Error_total_pop  zebras  Error_zebra_pop  \\\n",
       "0      bayesian sparse    0.0          -3620.0     0.0          -3468.0   \n",
       "1  bayesian non_sparse  714.0          -2906.0     0.0          -3468.0   \n",
       "2    bayesian non_zero    0.0          -3620.0     0.0          -3468.0   \n",
       "3    bayesian abv_mean    0.0          -3620.0     0.0          -3468.0   \n",
       "4      logistic sparse    0.0          -3620.0     0.0          -3468.0   \n",
       "\n",
       "   giraffes  Error_giraffe_pop  shared_images_count  \\\n",
       "0       0.0             -177.0                   10   \n",
       "1     132.0              -45.0                  233   \n",
       "2       0.0             -177.0                   92   \n",
       "3       0.0             -177.0                  133   \n",
       "4       0.0             -177.0                    8   \n",
       "\n",
       "   Predicted_Shared_proportion  norm_error_total_pop  norm_error_zebra_pop  \\\n",
       "0                     0.153304             -1.000000                  -1.0   \n",
       "1                     3.571976             -0.802762                  -1.0   \n",
       "2                     1.410394             -1.000000                  -1.0   \n",
       "3                     2.038939             -1.000000                  -1.0   \n",
       "4                     0.122643             -1.000000                  -1.0   \n",
       "\n",
       "   norm_error_giraffe_pop  \n",
       "0               -1.000000  \n",
       "1               -0.254237  \n",
       "2               -1.000000  \n",
       "3               -1.000000  \n",
       "4               -1.000000  "
      ]
     },
     "execution_count": 20,
     "metadata": {},
     "output_type": "execute_result"
    }
   ],
   "source": [
    "df = pd.DataFrame(resObj)\n",
    "df['Axes Name'] = df['Classifier'] + \" \" + df['Attribute']\n",
    "\n",
    "df = df[['Axes Name', 'all','giraffes','zebras','shared_images_count']]\n",
    "df['Error_total_pop'] = df['all'] - 3620\n",
    "df['Error_zebra_pop'] = df['zebras'] - 3468\n",
    "df['Error_giraffe_pop'] = df['giraffes'] - 177\n",
    "df['Predicted_Shared_proportion'] = df['shared_images_count'] * 100 / 6523\n",
    "dfFull = df[['Axes Name','all','Error_total_pop','zebras','Error_zebra_pop','giraffes','Error_giraffe_pop','shared_images_count','Predicted_Shared_proportion']]\n",
    "dfFull['norm_error_total_pop'] = dfFull['Error_total_pop'] / 3620\n",
    "dfFull['norm_error_zebra_pop'] = dfFull['Error_zebra_pop'] / 3468\n",
    "dfFull['norm_error_giraffe_pop'] = dfFull['Error_giraffe_pop'] / 177\n",
    "dfFull.head()"
   ]
  },
  {
   "cell_type": "code",
   "execution_count": 21,
   "metadata": {
    "collapsed": false
   },
   "outputs": [
    {
     "name": "stderr",
     "output_type": "stream",
     "text": [
      "/Users/sreejithmenon/anaconda/lib/python3.5/site-packages/ipykernel/__main__.py:3: SettingWithCopyWarning:\n",
      "\n",
      "\n",
      "A value is trying to be set on a copy of a slice from a DataFrame\n",
      "\n",
      "See the caveats in the documentation: http://pandas.pydata.org/pandas-docs/stable/indexing.html#indexing-view-versus-copy\n",
      "\n"
     ]
    }
   ],
   "source": [
    "dfErrors= dfFull[['Axes Name','Error_total_pop','Error_zebra_pop','Error_giraffe_pop']]\n",
    "dfErrors.index = df['Axes Name']\n",
    "dfErrors.drop(['Axes Name'],1,inplace=True)"
   ]
  },
  {
   "cell_type": "code",
   "execution_count": 22,
   "metadata": {
    "collapsed": false
   },
   "outputs": [],
   "source": [
    "layout = go.Layout(\n",
    "    title=\"Estimation absolute-errors using predict-shared data\",\n",
    "    titlefont = dict(\n",
    "            size=22),\n",
    "    xaxis=dict(\n",
    "        title=\"Classifier and Attribute Selection method\",\n",
    "        titlefont = dict(\n",
    "            size=15),\n",
    "        showticklabels=True,\n",
    "        tickangle=35,\n",
    "        tickfont=dict(\n",
    "            size=9,\n",
    "            color='black')\n",
    "    ),\n",
    "    yaxis=dict(\n",
    "        title=\"Absolute Error\",\n",
    "        titlefont = dict(\n",
    "            size=15),\n",
    "        showticklabels=True,\n",
    "        tickfont=dict(\n",
    "            size=9,\n",
    "            color='black')\n",
    "    ))\n",
    "fig1 = dfErrors.iplot(kind='bar',filename=\"Absolute_Errors\",layout=layout)"
   ]
  },
  {
   "cell_type": "code",
   "execution_count": 23,
   "metadata": {
    "collapsed": false
   },
   "outputs": [
    {
     "name": "stderr",
     "output_type": "stream",
     "text": [
      "/Users/sreejithmenon/anaconda/lib/python3.5/site-packages/ipykernel/__main__.py:3: SettingWithCopyWarning:\n",
      "\n",
      "\n",
      "A value is trying to be set on a copy of a slice from a DataFrame\n",
      "\n",
      "See the caveats in the documentation: http://pandas.pydata.org/pandas-docs/stable/indexing.html#indexing-view-versus-copy\n",
      "\n"
     ]
    }
   ],
   "source": [
    "dfNormErrors= dfFull[['Axes Name','norm_error_total_pop','norm_error_zebra_pop','norm_error_giraffe_pop']]\n",
    "dfNormErrors.index = df['Axes Name']\n",
    "dfNormErrors.drop(['Axes Name'],1,inplace=True)"
   ]
  },
  {
   "cell_type": "code",
   "execution_count": 24,
   "metadata": {
    "collapsed": false
   },
   "outputs": [],
   "source": [
    "layout = go.Layout(\n",
    "    title=\"Estimation normalized-errors using predict-shared data\",\n",
    "    titlefont = dict(\n",
    "            size=22),\n",
    "    xaxis=dict(\n",
    "        title=\"Classifier and Attribute Selection method\",\n",
    "        titlefont = dict(\n",
    "            size=15),\n",
    "        showticklabels=True,\n",
    "        tickangle=35,\n",
    "        tickfont=dict(\n",
    "            size=9,\n",
    "            color='black')\n",
    "    ),\n",
    "    yaxis=dict(\n",
    "        title=\"Normalized Error\",\n",
    "        titlefont = dict(\n",
    "            size=15),\n",
    "        showticklabels=True,\n",
    "        tickfont=dict(\n",
    "            size=9,\n",
    "            color='black')\n",
    "    ))\n",
    "fig2 = dfNormErrors.iplot(kind='bar',filename=\"Norm_Errors\",layout=layout)\n",
    "# Error = (predicted population - actual population)\n",
    "# Normalized error formula =  Error / actual population"
   ]
  },
  {
   "cell_type": "code",
   "execution_count": 25,
   "metadata": {
    "collapsed": false
   },
   "outputs": [
    {
     "name": "stderr",
     "output_type": "stream",
     "text": [
      "/Users/sreejithmenon/anaconda/lib/python3.5/site-packages/ipykernel/__main__.py:1: UserWarning:\n",
      "\n",
      "Boolean Series key will be reindexed to match DataFrame index.\n",
      "\n"
     ]
    }
   ],
   "source": [
    "dfNoOutliers = dfErrors[(abs(dfErrors['Error_total_pop']) <= 2750 )][(abs(dfErrors['Error_total_pop']) > 10)]"
   ]
  },
  {
   "cell_type": "code",
   "execution_count": 26,
   "metadata": {
    "collapsed": false
   },
   "outputs": [],
   "source": [
    "layout = go.Layout(\n",
    "    title=\"Estimation errors using predict-shared data -no outliers\",\n",
    "    titlefont = dict(\n",
    "            size=22),\n",
    "    xaxis=dict(\n",
    "        title=\"Classifier and Attribute Selection method\",\n",
    "        titlefont = dict(\n",
    "            size=15),\n",
    "        showticklabels=True,\n",
    "        tickangle=35,\n",
    "        tickfont=dict(\n",
    "            size=9,\n",
    "            color='black')\n",
    "    ),\n",
    "    yaxis=dict(\n",
    "        title=\"Absolute Error\",\n",
    "        titlefont = dict(\n",
    "            size=15),\n",
    "        showticklabels=True,\n",
    "        tickfont=dict(\n",
    "            size=9,\n",
    "            color='black')\n",
    "    ))\n",
    "fig3 = dfNoOutliers.iplot(kind='bar',filename=\"errors_noOutliers\",layout=layout)"
   ]
  },
  {
   "cell_type": "code",
   "execution_count": 27,
   "metadata": {
    "collapsed": false
   },
   "outputs": [
    {
     "name": "stderr",
     "output_type": "stream",
     "text": [
      "/Users/sreejithmenon/anaconda/lib/python3.5/site-packages/ipykernel/__main__.py:4: SettingWithCopyWarning:\n",
      "\n",
      "\n",
      "A value is trying to be set on a copy of a slice from a DataFrame\n",
      "\n",
      "See the caveats in the documentation: http://pandas.pydata.org/pandas-docs/stable/indexing.html#indexing-view-versus-copy\n",
      "\n"
     ]
    },
    {
     "data": {
      "text/html": [
       "<div>\n",
       "<table border=\"1\" class=\"dataframe\">\n",
       "  <thead>\n",
       "    <tr style=\"text-align: right;\">\n",
       "      <th></th>\n",
       "      <th>norm_error_zebra_pop</th>\n",
       "      <th>norm_error_giraffe_pop</th>\n",
       "    </tr>\n",
       "    <tr>\n",
       "      <th>Predicted_Shared_proportion</th>\n",
       "      <th></th>\n",
       "      <th></th>\n",
       "    </tr>\n",
       "  </thead>\n",
       "  <tbody>\n",
       "    <tr>\n",
       "      <th>0.001533</th>\n",
       "      <td>-1.0</td>\n",
       "      <td>-1.000000</td>\n",
       "    </tr>\n",
       "    <tr>\n",
       "      <th>0.035720</th>\n",
       "      <td>-1.0</td>\n",
       "      <td>-0.254237</td>\n",
       "    </tr>\n",
       "    <tr>\n",
       "      <th>0.014104</th>\n",
       "      <td>-1.0</td>\n",
       "      <td>-1.000000</td>\n",
       "    </tr>\n",
       "    <tr>\n",
       "      <th>0.020389</th>\n",
       "      <td>-1.0</td>\n",
       "      <td>-1.000000</td>\n",
       "    </tr>\n",
       "    <tr>\n",
       "      <th>0.001226</th>\n",
       "      <td>-1.0</td>\n",
       "      <td>-1.000000</td>\n",
       "    </tr>\n",
       "  </tbody>\n",
       "</table>\n",
       "</div>"
      ],
      "text/plain": [
       "                             norm_error_zebra_pop  norm_error_giraffe_pop\n",
       "Predicted_Shared_proportion                                              \n",
       "0.001533                                     -1.0               -1.000000\n",
       "0.035720                                     -1.0               -0.254237\n",
       "0.014104                                     -1.0               -1.000000\n",
       "0.020389                                     -1.0               -1.000000\n",
       "0.001226                                     -1.0               -1.000000"
      ]
     },
     "execution_count": 27,
     "metadata": {},
     "output_type": "execute_result"
    }
   ],
   "source": [
    "# predicted shared proportion (x) vs normalized error zebra (y1) and giraffe (y2)? thanks!\n",
    "dfNewPlot = dfFull[['Predicted_Shared_proportion','norm_error_zebra_pop','norm_error_giraffe_pop']]\n",
    "dfNewPlot.index = dfNewPlot['Predicted_Shared_proportion']/100\n",
    "dfNewPlot.drop(['Predicted_Shared_proportion'],1,inplace=True)\n",
    "dfNewPlot.head()"
   ]
  },
  {
   "cell_type": "code",
   "execution_count": 28,
   "metadata": {
    "collapsed": true
   },
   "outputs": [],
   "source": [
    "layout = go.Layout(\n",
    "    title=\"Predicted Shared Proportion versus Norm Error\",\n",
    "    titlefont = dict(\n",
    "            size=22),\n",
    "    xaxis=dict(\n",
    "        title=\"Predicted Share Proportion\",\n",
    "        titlefont = dict(\n",
    "            size=15),\n",
    "        showticklabels=True,\n",
    "        tickangle=35,\n",
    "        tickfont=dict(\n",
    "            size=9,\n",
    "            color='black')\n",
    "    ),\n",
    "    yaxis=dict(\n",
    "        title=\"Normalized Error\",\n",
    "        titlefont = dict(\n",
    "            size=15),\n",
    "        showticklabels=True,\n",
    "        tickfont=dict(\n",
    "            size=9,\n",
    "            color='black')\n",
    "    )\n",
    "    )\n",
    "fig4 = dfNewPlot.iplot(kind='bar',filename=\"predictedSharedVsError\",layout=layout)"
   ]
  },
  {
   "cell_type": "code",
   "execution_count": 29,
   "metadata": {
    "collapsed": false
   },
   "outputs": [],
   "source": [
    "\n",
    "\n",
    "fullFl = HT.HTML(HT.body(HT.h2(\"Population Estimates using predicted shared data - master table\"),\n",
    "                HT.HTML(dfFull.to_html(index=False)),\n",
    "                HT.HTML(fig1.embed_code),\n",
    "                HT.HTML(fig2.embed_code),\n",
    "                HT.HTML(fig3.embed_code),\n",
    "                HT.HTML(fig4.embed_code)\n",
    "               ))\n",
    "\n",
    "\n",
    "outputFile = open(\"../FinalResults/PopulationEstimationUsingClf.html\",\"w\")\n",
    "outputFile.write(fullFl)\n",
    "outputFile.close()"
   ]
  },
  {
   "cell_type": "markdown",
   "metadata": {},
   "source": [
    "## Synthetic Experiments\n",
    "\n",
    "### Synthetic Experiment #1\n",
    "#### Assign a score to each image (here probability) and select the top 'k' images for each contributor and share them\n",
    "#### Calculate the population estimate\n",
    "\n",
    "\n",
    "### Synthetic Experiment #2\n",
    "#### Assign a score to each image (here probability) and select the top 'x' images for each contributor where x is a random number and share them\n",
    "#### Calculate the population estimate"
   ]
  },
  {
   "cell_type": "code",
   "execution_count": 47,
   "metadata": {
    "collapsed": true
   },
   "outputs": [],
   "source": [
    "layout = go.Layout(\n",
    "        title=\"Number of images shared(k) versus estimated population\",\n",
    "        titlefont = dict(\n",
    "                size=15),\n",
    "        xaxis=dict(\n",
    "            title=\"Number of images shared (k)\",\n",
    "            titlefont = dict(\n",
    "                size=15),\n",
    "            showticklabels=True,\n",
    "            tickangle=35,\n",
    "            tickfont=dict(\n",
    "                size=9,\n",
    "                color='black')\n",
    "        ),\n",
    "        yaxis=dict(\n",
    "            title=\"Estimated Population\",\n",
    "            titlefont = dict(\n",
    "                size=15),\n",
    "            showticklabels=True,\n",
    "            tickfont=dict(\n",
    "                size=9,\n",
    "                color='black')\n",
    "        )\n",
    "        )"
   ]
  },
  {
   "cell_type": "code",
   "execution_count": 48,
   "metadata": {
    "collapsed": false
   },
   "outputs": [
    {
     "name": "stdout",
     "output_type": "stream",
     "text": [
      "Starting to classify ada_boost : non_sparse\n",
      "Number of attributes : 86\n"
     ]
    },
    {
     "data": {
      "text/html": [
       "<div id=\"83d5f765-b3d9-4ec8-b14a-40b1acbcfa95\" style=\"height: 525px; width: 100%;\" class=\"plotly-graph-div\"></div><script type=\"text/javascript\">require([\"plotly\"], function(Plotly) { window.PLOTLYENV=window.PLOTLYENV || {};window.PLOTLYENV.BASE_URL=\"https://plot.ly\";Plotly.newPlot(\"83d5f765-b3d9-4ec8-b14a-40b1acbcfa95\", [{\"line\": {\"dash\": \"solid\", \"width\": 1.3, \"color\": \"rgba(255, 153, 51, 1.0)\"}, \"y\": [3907.4423076923076, 3892.8867924528304, 3933.490566037736, 3993.4150943396226, 4023.5471698113206, 4044.0754716981132, 4019.1666666666665, 4054.5555555555557, 4084.6296296296296, 4135.185185185185, 4134.272727272727, 4129.696428571428, 4021.206896551724, 4054.706896551724, 3905.5409836065573, 3951.7377049180327, 3993.8852459016393, 3998.622950819672, 4026.72131147541, 4055.245901639344, 4064.754098360656, 4097.852459016393, 4027.3333333333335, 3956.9538461538464, 4006.153846153846, 4021.6363636363635], \"type\": \"scatter\", \"x\": [59, 60, 61, 62, 63, 64, 65, 66, 67, 68, 69, 70, 71, 72, 73, 74, 75, 76, 77, 78, 79, 80, 81, 82, 83, 84], \"text\": \"\", \"name\": \"all\", \"mode\": \"lines\"}, {\"line\": {\"dash\": \"solid\", \"width\": 1.3, \"color\": \"rgba(55, 128, 191, 1.0)\"}, \"y\": [142.2, 142.2, 142.2, 142.2, 142.2, 142.2, 142.2, 145.8, 147.6, 147.6, 147.6, 149.4, 149.4, 149.4, 149.4, 149.4, 151.2, 153.0, 153.0, 153.0, 153.0, 153.0, 153.0, 156.6, 158.4, 162.0], \"type\": \"scatter\", \"x\": [59, 60, 61, 62, 63, 64, 65, 66, 67, 68, 69, 70, 71, 72, 73, 74, 75, 76, 77, 78, 79, 80, 81, 82, 83, 84], \"text\": \"\", \"name\": \"giraffes\", \"mode\": \"lines\"}, {\"line\": {\"dash\": \"solid\", \"width\": 1.3, \"color\": \"rgba(50, 171, 96, 1.0)\"}, \"y\": [3831.574468085106, 3813.3333333333335, 3856.6666666666665, 3919.0833333333335, 3950.4791666666665, 3972.3958333333335, 3958.7755102040815, 3985.816326530612, 4011.714285714286, 4064.938775510204, 4059.58, 4046.823529411765, 3930.169811320755, 3964.1509433962265, 3802.6428571428573, 3850.0, 3888.839285714286, 3888.839285714286, 3917.785714285714, 3948.0, 3958.0714285714284, 3992.3214285714284, 3915.2413793103447, 3829.25, 3873.866666666667, 3878.5245901639346], \"type\": \"scatter\", \"x\": [59, 60, 61, 62, 63, 64, 65, 66, 67, 68, 69, 70, 71, 72, 73, 74, 75, 76, 77, 78, 79, 80, 81, 82, 83, 84], \"text\": \"\", \"name\": \"zebras\", \"mode\": \"lines\"}, {\"line\": {\"dash\": \"solid\", \"width\": 1.3, \"color\": \"rgba(128, 0, 128, 1.0)\"}, \"y\": [4026.72131147541, 4026.72131147541, 4026.72131147541, 4026.72131147541, 4026.72131147541, 4026.72131147541, 4026.72131147541, 4026.72131147541, 4026.72131147541, 4026.72131147541, 4026.72131147541, 4026.72131147541, 4026.72131147541, 4026.72131147541, 4026.72131147541, 4026.72131147541, 4026.72131147541, 4026.72131147541, 4026.72131147541, 4026.72131147541, 4026.72131147541, 4026.72131147541, 4026.72131147541, 4026.72131147541, 4026.72131147541, 4026.72131147541], \"type\": \"scatter\", \"x\": [59, 60, 61, 62, 63, 64, 65, 66, 67, 68, 69, 70, 71, 72, 73, 74, 75, 76, 77, 78, 79, 80, 81, 82, 83, 84], \"text\": \"\", \"name\": \"Randomized_all\", \"mode\": \"lines\"}, {\"line\": {\"dash\": \"solid\", \"width\": 1.3, \"color\": \"rgba(219, 64, 82, 1.0)\"}, \"y\": [151.2, 151.2, 151.2, 151.2, 151.2, 151.2, 151.2, 151.2, 151.2, 151.2, 151.2, 151.2, 151.2, 151.2, 151.2, 151.2, 151.2, 151.2, 151.2, 151.2, 151.2, 151.2, 151.2, 151.2, 151.2, 151.2], \"type\": \"scatter\", \"x\": [59, 60, 61, 62, 63, 64, 65, 66, 67, 68, 69, 70, 71, 72, 73, 74, 75, 76, 77, 78, 79, 80, 81, 82, 83, 84], \"text\": \"\", \"name\": \"Randomized_giraffe\", \"mode\": \"lines\"}, {\"line\": {\"dash\": \"solid\", \"width\": 1.3, \"color\": \"rgba(0, 128, 128, 1.0)\"}, \"y\": [3922.8214285714284, 3922.8214285714284, 3922.8214285714284, 3922.8214285714284, 3922.8214285714284, 3922.8214285714284, 3922.8214285714284, 3922.8214285714284, 3922.8214285714284, 3922.8214285714284, 3922.8214285714284, 3922.8214285714284, 3922.8214285714284, 3922.8214285714284, 3922.8214285714284, 3922.8214285714284, 3922.8214285714284, 3922.8214285714284, 3922.8214285714284, 3922.8214285714284, 3922.8214285714284, 3922.8214285714284, 3922.8214285714284, 3922.8214285714284, 3922.8214285714284, 3922.8214285714284], \"type\": \"scatter\", \"x\": [59, 60, 61, 62, 63, 64, 65, 66, 67, 68, 69, 70, 71, 72, 73, 74, 75, 76, 77, 78, 79, 80, 81, 82, 83, 84], \"text\": \"\", \"name\": \"Randomized_zebras\", \"mode\": \"lines\"}], {\"yaxis\": {\"titlefont\": {\"size\": 15}, \"title\": \"Estimated Population\", \"showticklabels\": true, \"tickfont\": {\"size\": 9, \"color\": \"black\"}}, \"titlefont\": {\"size\": 15}, \"xaxis\": {\"titlefont\": {\"size\": 15}, \"title\": \"Number of images shared (k)\", \"tickangle\": 35, \"showticklabels\": true, \"tickfont\": {\"size\": 9, \"color\": \"black\"}}, \"title\": \"Number of images shared(k) versus estimated population\"}, {\"showLink\": true, \"linkText\": \"Export to plot.ly\"})});</script>"
      ],
      "text/plain": [
       "<IPython.core.display.HTML object>"
      ]
     },
     "metadata": {},
     "output_type": "display_data"
    },
    {
     "name": "stdout",
     "output_type": "stream",
     "text": [
      "Classification testing complete ada_boost : non_sparse\n",
      "\n"
     ]
    }
   ],
   "source": [
    "clfTypes = ['bayesian','logistic','svm','dtree','random_forests','ada_boost']\n",
    "attribTypes = ['sparse','non_sparse','non_zero','abv_mean']\n",
    "\n",
    "for clf in clfTypes:\n",
    "    for attrib in attribTypes:\n",
    "        print(\"Starting to classify %s : %s\" %(clf,attrib))\n",
    "        clfObj,predResults = PE.trainTestClf(\"../FinalResults/ImgShrRnkListWithTags.csv\",\n",
    "                             \"../data/full_gid_aid_ftr_agg.csv\",\n",
    "                             clf,\n",
    "                             attrib,\n",
    "                             \"../data/infoGainsExpt2.csv\")\n",
    "\n",
    "        flNm = str(\"../FinalResults/\"+ clf + \"_\" + attrib + \"_kShares\")\n",
    "\n",
    "        prediction_probabs = {list(clfObj.test_x.index)[i] : clfObj.predProbabs[i] for i in range(len(clfObj.test_x.index))}\n",
    "        fixedK = {k : PE.kSharesPerContributor(prediction_probabs,inExifFl,inGidAidMapFl,inAidFtrFl,lambda : k) for k in range(59,85)}\n",
    "\n",
    "        df = pd.DataFrame(fixedK).transpose().reset_index()\n",
    "        df.columns = ['num_images','all','giraffes','zebras']\n",
    "        df.index = df['num_images']\n",
    "        df.drop(['num_images'],1,inplace=True)\n",
    "        df.to_csv(str(flNm+\".csv\"))\n",
    "        df_html = df.to_html(index=True)\n",
    "        randomized = PE.kSharesPerContributor(prediction_probabs,inExifFl,inGidAidMapFl,inAidFtrFl,lambda : random.randint(60,90))\n",
    "        df['Randomized_all'] = randomized['all']\n",
    "        df['Randomized_giraffe'] = randomized['giraffes']\n",
    "        df['Randomized_zebras'] = randomized['zebras']\n",
    "        \n",
    "        fig1 = df.iplot(kind='line',layout=layout,filename=str(flNm+\".html\"))\n",
    "        fullFl = HT.HTML(HT.body(HT.h2(\"Population Estimates with k shares per contributor using %s and attribute selection method %s\" %(clf,attrib)),\n",
    "                        HT.HTML(df_html)\n",
    "                        HT.HTML(fig1.embed_code)         \n",
    "                       ))\n",
    "\n",
    "        outputFile = open(flNm,\"w\")\n",
    "        outputFile.write(fullFl)\n",
    "        outputFile.close()\n",
    "        print(\"Classification testing complete %s : %s\" %(clf,attrib))\n",
    "        print()"
   ]
  },
  {
   "cell_type": "code",
   "execution_count": 89,
   "metadata": {
    "collapsed": false
   },
   "outputs": [
    {
     "data": {
      "text/html": [
       "<div>\n",
       "<table border=\"1\" class=\"dataframe\">\n",
       "  <thead>\n",
       "    <tr style=\"text-align: right;\">\n",
       "      <th></th>\n",
       "      <th>num_images</th>\n",
       "      <th>all_bysn_mean</th>\n",
       "      <th>giraffes_bysn_mean</th>\n",
       "      <th>zebras_bysn_mean</th>\n",
       "      <th>all_bysn_nonzero</th>\n",
       "      <th>giraffes_bysn_nonzero</th>\n",
       "      <th>zebras_bysn_nonzero</th>\n",
       "    </tr>\n",
       "  </thead>\n",
       "  <tbody>\n",
       "    <tr>\n",
       "      <th>0</th>\n",
       "      <td>59</td>\n",
       "      <td>3609.111111</td>\n",
       "      <td>146.0</td>\n",
       "      <td>3692.000000</td>\n",
       "      <td>2747.467742</td>\n",
       "      <td>114.000000</td>\n",
       "      <td>2689.910714</td>\n",
       "    </tr>\n",
       "    <tr>\n",
       "      <th>1</th>\n",
       "      <td>60</td>\n",
       "      <td>3658.777778</td>\n",
       "      <td>146.0</td>\n",
       "      <td>3747.565217</td>\n",
       "      <td>2737.777778</td>\n",
       "      <td>114.000000</td>\n",
       "      <td>2677.684211</td>\n",
       "    </tr>\n",
       "    <tr>\n",
       "      <th>2</th>\n",
       "      <td>61</td>\n",
       "      <td>3708.444444</td>\n",
       "      <td>148.0</td>\n",
       "      <td>3796.956522</td>\n",
       "      <td>2740.593750</td>\n",
       "      <td>115.500000</td>\n",
       "      <td>2675.448276</td>\n",
       "    </tr>\n",
       "    <tr>\n",
       "      <th>3</th>\n",
       "      <td>62</td>\n",
       "      <td>3667.142857</td>\n",
       "      <td>150.0</td>\n",
       "      <td>3732.000000</td>\n",
       "      <td>2742.830769</td>\n",
       "      <td>128.333333</td>\n",
       "      <td>2664.406780</td>\n",
       "    </tr>\n",
       "    <tr>\n",
       "      <th>4</th>\n",
       "      <td>63</td>\n",
       "      <td>3690.206897</td>\n",
       "      <td>152.0</td>\n",
       "      <td>3736.920000</td>\n",
       "      <td>2784.169231</td>\n",
       "      <td>131.666667</td>\n",
       "      <td>2698.915254</td>\n",
       "    </tr>\n",
       "  </tbody>\n",
       "</table>\n",
       "</div>"
      ],
      "text/plain": [
       "   num_images  all_bysn_mean  giraffes_bysn_mean  zebras_bysn_mean  \\\n",
       "0          59    3609.111111               146.0       3692.000000   \n",
       "1          60    3658.777778               146.0       3747.565217   \n",
       "2          61    3708.444444               148.0       3796.956522   \n",
       "3          62    3667.142857               150.0       3732.000000   \n",
       "4          63    3690.206897               152.0       3736.920000   \n",
       "\n",
       "   all_bysn_nonzero  giraffes_bysn_nonzero  zebras_bysn_nonzero  \n",
       "0       2747.467742             114.000000          2689.910714  \n",
       "1       2737.777778             114.000000          2677.684211  \n",
       "2       2740.593750             115.500000          2675.448276  \n",
       "3       2742.830769             128.333333          2664.406780  \n",
       "4       2784.169231             131.666667          2698.915254  "
      ]
     },
     "execution_count": 89,
     "metadata": {},
     "output_type": "execute_result"
    }
   ],
   "source": [
    "df1 = pd.DataFrame.from_csv(\"../FinalResults/bayesian_abv_mean_kShares.csv\").reset_index()\n",
    "df2 = pd.DataFrame.from_csv(\"../FinalResults/bayesian_non_zero_kShares.csv\").reset_index()\n",
    "\n",
    "df= pd.DataFrame.merge(df1,df2,on='num_images',suffixes=('_bysn_mean','_bysn_nonzero'))\n",
    "df.head()"
   ]
  },
  {
   "cell_type": "code",
   "execution_count": 70,
   "metadata": {
    "collapsed": false
   },
   "outputs": [
    {
     "data": {
      "text/html": [
       "<div>\n",
       "<table border=\"1\" class=\"dataframe\">\n",
       "  <thead>\n",
       "    <tr style=\"text-align: right;\">\n",
       "      <th></th>\n",
       "      <th>0</th>\n",
       "    </tr>\n",
       "  </thead>\n",
       "  <tbody>\n",
       "    <tr>\n",
       "      <th>num_images</th>\n",
       "      <td>59.000000</td>\n",
       "    </tr>\n",
       "    <tr>\n",
       "      <th>all_bysn_mean</th>\n",
       "      <td>3609.111111</td>\n",
       "    </tr>\n",
       "    <tr>\n",
       "      <th>giraffes_bysn_mean</th>\n",
       "      <td>146.000000</td>\n",
       "    </tr>\n",
       "    <tr>\n",
       "      <th>zebras_bysn_mean</th>\n",
       "      <td>3692.000000</td>\n",
       "    </tr>\n",
       "    <tr>\n",
       "      <th>all_bysn_nonzero</th>\n",
       "      <td>2747.467742</td>\n",
       "    </tr>\n",
       "    <tr>\n",
       "      <th>giraffes_bysn_nonzero</th>\n",
       "      <td>114.000000</td>\n",
       "    </tr>\n",
       "    <tr>\n",
       "      <th>zebras_bysn_nonzero</th>\n",
       "      <td>2689.910714</td>\n",
       "    </tr>\n",
       "  </tbody>\n",
       "</table>\n",
       "</div>"
      ],
      "text/plain": [
       "                                 0\n",
       "num_images               59.000000\n",
       "all_bysn_mean          3609.111111\n",
       "giraffes_bysn_mean      146.000000\n",
       "zebras_bysn_mean       3692.000000\n",
       "all_bysn_nonzero       2747.467742\n",
       "giraffes_bysn_nonzero   114.000000\n",
       "zebras_bysn_nonzero    2689.910714"
      ]
     },
     "execution_count": 70,
     "metadata": {},
     "output_type": "execute_result"
    }
   ],
   "source": [
    "pd.DataFrame(df.transpose()[0])"
   ]
  },
  {
   "cell_type": "code",
   "execution_count": 120,
   "metadata": {
    "collapsed": false
   },
   "outputs": [],
   "source": [
    "clfTypes = ['bayesian','logistic','svm','dtree','random_forests','ada_boost']\n",
    "attribTypes = ['sparse','non_sparse','non_zero','abv_mean']\n",
    "flNms = [str(clf + \"_\" + attrib) for clf in clfTypes for attrib in attribTypes]\n",
    "\n",
    "df = pd.DataFrame.from_csv(str(\"../FinalResults/\"+flNms[0]+\"_kShares.csv\")).reset_index()\n",
    "df.columns = list(map(lambda x : str(x + \"_\" + flNms[0]) if x != 'num_images' else x,list(df.columns)))\n",
    "for i in range(1,len(flNms)):   \n",
    "    df1 = pd.DataFrame.from_csv(str(\"../FinalResults/\"+flNms[i]+\"_kShares.csv\")).reset_index()  \n",
    "    df1.columns = list(map(lambda x : str(x + \"_\" + flNms[i]) if x != 'num_images' else x,list(df1.columns)))\n",
    "    df = pd.DataFrame.merge(df,df1,on='num_images')\n",
    "    \n",
    "df.index = df['num_images']\n",
    "df.drop(['num_images'],1,inplace=True)"
   ]
  },
  {
   "cell_type": "code",
   "execution_count": 130,
   "metadata": {
    "collapsed": false
   },
   "outputs": [],
   "source": [
    "df.to_csv(\"../FinalResults/MasterEstimation_KShare.csv\")\n",
    "figs=[]"
   ]
  },
  {
   "cell_type": "code",
   "execution_count": 152,
   "metadata": {
    "collapsed": false
   },
   "outputs": [],
   "source": [
    "bayes = [col for col in df.columns if 'bayesian' in col]\n",
    "bayesDf = df[bayes]\n",
    "figs.append(bayesDf.iplot(kind='line',title=\"All Bayesian Classifiers\"))"
   ]
  },
  {
   "cell_type": "code",
   "execution_count": 153,
   "metadata": {
    "collapsed": false
   },
   "outputs": [],
   "source": [
    "logistics = [col for col in df.columns if 'logistic' in col]\n",
    "logisticsDf = df[logistics]\n",
    "figs.append(logisticsDf.iplot(kind='line',title=\"All Logistic Classifiers\"))"
   ]
  },
  {
   "cell_type": "code",
   "execution_count": 154,
   "metadata": {
    "collapsed": false
   },
   "outputs": [],
   "source": [
    "svms = [col for col in df.columns if 'svm' in col]\n",
    "svmsDf = df[svms]\n",
    "figs.append(svmsDf.iplot(kind='line',title=\"All SVM Classifiers\"))"
   ]
  },
  {
   "cell_type": "code",
   "execution_count": 155,
   "metadata": {
    "collapsed": false
   },
   "outputs": [],
   "source": [
    "dtrees = [col for col in df.columns if 'dtree' in col]\n",
    "dtreesDf = df[svms]\n",
    "figs.append(dtreesDf.iplot(kind='line',title=\"All Decision Tree Classifiers\"))"
   ]
  },
  {
   "cell_type": "code",
   "execution_count": 156,
   "metadata": {
    "collapsed": false
   },
   "outputs": [],
   "source": [
    "rfs = [col for col in df.columns if 'random_forests' in col]\n",
    "rfsDf = df[rfs]\n",
    "figs.append(rfsDf.iplot(kind='line',title=\"All Random Forest Classifiers\"))"
   ]
  },
  {
   "cell_type": "code",
   "execution_count": 157,
   "metadata": {
    "collapsed": false
   },
   "outputs": [
    {
     "ename": "PlotlyError",
     "evalue": "Request throttled. You've created/updated more charts than your allowed limit of 50/day. You may either wait one day or upgrade your account. Visit https://plot.ly/settings/subscription/ to upgrade.",
     "output_type": "error",
     "traceback": [
      "\u001b[0;31m---------------------------------------------------------------------------\u001b[0m",
      "\u001b[0;31mPlotlyError\u001b[0m                               Traceback (most recent call last)",
      "\u001b[0;32m<ipython-input-157-28553e37decf>\u001b[0m in \u001b[0;36m<module>\u001b[0;34m()\u001b[0m\n\u001b[1;32m      1\u001b[0m \u001b[0madbs\u001b[0m \u001b[0;34m=\u001b[0m \u001b[0;34m[\u001b[0m\u001b[0mcol\u001b[0m \u001b[0;32mfor\u001b[0m \u001b[0mcol\u001b[0m \u001b[0;32min\u001b[0m \u001b[0mdf\u001b[0m\u001b[0;34m.\u001b[0m\u001b[0mcolumns\u001b[0m \u001b[0;32mif\u001b[0m \u001b[0;34m'ada_boost'\u001b[0m \u001b[0;32min\u001b[0m \u001b[0mcol\u001b[0m\u001b[0;34m]\u001b[0m\u001b[0;34m\u001b[0m\u001b[0m\n\u001b[1;32m      2\u001b[0m \u001b[0madbsDf\u001b[0m \u001b[0;34m=\u001b[0m \u001b[0mdf\u001b[0m\u001b[0;34m[\u001b[0m\u001b[0madbs\u001b[0m\u001b[0;34m]\u001b[0m\u001b[0;34m\u001b[0m\u001b[0m\n\u001b[0;32m----> 3\u001b[0;31m \u001b[0mfigs\u001b[0m\u001b[0;34m.\u001b[0m\u001b[0mappend\u001b[0m\u001b[0;34m(\u001b[0m\u001b[0madbsDf\u001b[0m\u001b[0;34m.\u001b[0m\u001b[0miplot\u001b[0m\u001b[0;34m(\u001b[0m\u001b[0mkind\u001b[0m\u001b[0;34m=\u001b[0m\u001b[0;34m'line'\u001b[0m\u001b[0;34m,\u001b[0m\u001b[0mtitle\u001b[0m\u001b[0;34m=\u001b[0m\u001b[0;34m\"All Ada-Boost Classifiers\"\u001b[0m\u001b[0;34m)\u001b[0m\u001b[0;34m)\u001b[0m\u001b[0;34m\u001b[0m\u001b[0m\n\u001b[0m",
      "\u001b[0;32m/Users/sreejithmenon/anaconda/lib/python3.5/site-packages/cufflinks/plotlytools.py\u001b[0m in \u001b[0;36m_iplot\u001b[0;34m(self, data, layout, filename, sharing, kind, title, xTitle, yTitle, zTitle, theme, colors, colorscale, fill, width, dash, mode, symbol, size, barmode, sortbars, bargap, bargroupgap, bins, histnorm, histfunc, orientation, boxpoints, annotations, keys, bestfit, bestfit_colors, mean, mean_colors, categories, x, y, z, text, gridcolor, zerolinecolor, margin, labels, values, secondary_y, subplots, shape, error_x, error_y, error_type, locations, lon, lat, asFrame, asDates, asFigure, asImage, dimensions, asPlot, asUrl, online, **kwargs)\u001b[0m\n\u001b[1;32m    955\u001b[0m                 \u001b[0;32mreturn\u001b[0m \u001b[0mpy\u001b[0m\u001b[0;34m.\u001b[0m\u001b[0mplot\u001b[0m\u001b[0;34m(\u001b[0m\u001b[0mfigure\u001b[0m\u001b[0;34m,\u001b[0m\u001b[0msharing\u001b[0m\u001b[0;34m=\u001b[0m\u001b[0msharing\u001b[0m\u001b[0;34m,\u001b[0m\u001b[0mfilename\u001b[0m\u001b[0;34m=\u001b[0m\u001b[0mfilename\u001b[0m\u001b[0;34m,\u001b[0m\u001b[0mvalidate\u001b[0m\u001b[0;34m=\u001b[0m\u001b[0mvalidate\u001b[0m\u001b[0;34m,\u001b[0m\u001b[0mauto_open\u001b[0m\u001b[0;34m=\u001b[0m\u001b[0;32mFalse\u001b[0m\u001b[0;34m)\u001b[0m\u001b[0;34m\u001b[0m\u001b[0m\n\u001b[1;32m    956\u001b[0m         \u001b[0;32melse\u001b[0m\u001b[0;34m:\u001b[0m\u001b[0;34m\u001b[0m\u001b[0m\n\u001b[0;32m--> 957\u001b[0;31m                 \u001b[0;32mreturn\u001b[0m \u001b[0miplot\u001b[0m\u001b[0;34m(\u001b[0m\u001b[0mfigure\u001b[0m\u001b[0;34m,\u001b[0m\u001b[0msharing\u001b[0m\u001b[0;34m=\u001b[0m\u001b[0msharing\u001b[0m\u001b[0;34m,\u001b[0m\u001b[0mfilename\u001b[0m\u001b[0;34m=\u001b[0m\u001b[0mfilename\u001b[0m\u001b[0;34m,\u001b[0m\u001b[0mvalidate\u001b[0m\u001b[0;34m=\u001b[0m\u001b[0mvalidate\u001b[0m\u001b[0;34m,\u001b[0m\u001b[0monline\u001b[0m\u001b[0;34m=\u001b[0m\u001b[0monline\u001b[0m\u001b[0;34m)\u001b[0m\u001b[0;34m\u001b[0m\u001b[0m\n\u001b[0m\u001b[1;32m    958\u001b[0m \u001b[0;34m\u001b[0m\u001b[0m\n\u001b[1;32m    959\u001b[0m \u001b[0;34m\u001b[0m\u001b[0m\n",
      "\u001b[0;32m/Users/sreejithmenon/anaconda/lib/python3.5/site-packages/cufflinks/plotlytools.py\u001b[0m in \u001b[0;36miplot\u001b[0;34m(data_or_figure, validate, sharing, filename, online, **kwargs)\u001b[0m\n\u001b[1;32m   1099\u001b[0m                         \u001b[0mfilename\u001b[0m\u001b[0;34m=\u001b[0m\u001b[0;34m'Plotly Playground {0}'\u001b[0m\u001b[0;34m.\u001b[0m\u001b[0mformat\u001b[0m\u001b[0;34m(\u001b[0m\u001b[0mtime\u001b[0m\u001b[0;34m.\u001b[0m\u001b[0mstrftime\u001b[0m\u001b[0;34m(\u001b[0m\u001b[0;34m\"%Y-%m-%d %H:%M:%S\"\u001b[0m\u001b[0;34m)\u001b[0m\u001b[0;34m)\u001b[0m\u001b[0;34m\u001b[0m\u001b[0m\n\u001b[1;32m   1100\u001b[0m \t\treturn py.iplot(data_or_figure,validate=validate,sharing=sharing,\n\u001b[0;32m-> 1101\u001b[0;31m \t\t\t\t\t\tfilename=filename)\n\u001b[0m\u001b[1;32m   1102\u001b[0m \u001b[0;34m\u001b[0m\u001b[0m\n\u001b[1;32m   1103\u001b[0m \u001b[0;32mdef\u001b[0m \u001b[0m_ta_figure\u001b[0m\u001b[0;34m(\u001b[0m\u001b[0mself\u001b[0m\u001b[0;34m,\u001b[0m\u001b[0;34m**\u001b[0m\u001b[0mkwargs\u001b[0m\u001b[0;34m)\u001b[0m\u001b[0;34m:\u001b[0m\u001b[0;34m\u001b[0m\u001b[0m\n",
      "\u001b[0;32m/Users/sreejithmenon/anaconda/lib/python3.5/site-packages/plotly/plotly/plotly.py\u001b[0m in \u001b[0;36miplot\u001b[0;34m(figure_or_data, **plot_options)\u001b[0m\n\u001b[1;32m    149\u001b[0m     \u001b[0;32mif\u001b[0m \u001b[0;34m'auto_open'\u001b[0m \u001b[0;32mnot\u001b[0m \u001b[0;32min\u001b[0m \u001b[0mplot_options\u001b[0m\u001b[0;34m:\u001b[0m\u001b[0;34m\u001b[0m\u001b[0m\n\u001b[1;32m    150\u001b[0m         \u001b[0mplot_options\u001b[0m\u001b[0;34m[\u001b[0m\u001b[0;34m'auto_open'\u001b[0m\u001b[0;34m]\u001b[0m \u001b[0;34m=\u001b[0m \u001b[0;32mFalse\u001b[0m\u001b[0;34m\u001b[0m\u001b[0m\n\u001b[0;32m--> 151\u001b[0;31m     \u001b[0murl\u001b[0m \u001b[0;34m=\u001b[0m \u001b[0mplot\u001b[0m\u001b[0;34m(\u001b[0m\u001b[0mfigure_or_data\u001b[0m\u001b[0;34m,\u001b[0m \u001b[0;34m**\u001b[0m\u001b[0mplot_options\u001b[0m\u001b[0;34m)\u001b[0m\u001b[0;34m\u001b[0m\u001b[0m\n\u001b[0m\u001b[1;32m    152\u001b[0m \u001b[0;34m\u001b[0m\u001b[0m\n\u001b[1;32m    153\u001b[0m     \u001b[0;32mif\u001b[0m \u001b[0misinstance\u001b[0m\u001b[0;34m(\u001b[0m\u001b[0mfigure_or_data\u001b[0m\u001b[0;34m,\u001b[0m \u001b[0mdict\u001b[0m\u001b[0;34m)\u001b[0m\u001b[0;34m:\u001b[0m\u001b[0;34m\u001b[0m\u001b[0m\n",
      "\u001b[0;32m/Users/sreejithmenon/anaconda/lib/python3.5/site-packages/plotly/plotly/plotly.py\u001b[0m in \u001b[0;36mplot\u001b[0;34m(figure_or_data, validate, **plot_options)\u001b[0m\n\u001b[1;32m    239\u001b[0m \u001b[0;34m\u001b[0m\u001b[0m\n\u001b[1;32m    240\u001b[0m     \u001b[0mplot_options\u001b[0m \u001b[0;34m=\u001b[0m \u001b[0m_plot_option_logic\u001b[0m\u001b[0;34m(\u001b[0m\u001b[0mplot_options\u001b[0m\u001b[0;34m)\u001b[0m\u001b[0;34m\u001b[0m\u001b[0m\n\u001b[0;32m--> 241\u001b[0;31m     \u001b[0mres\u001b[0m \u001b[0;34m=\u001b[0m \u001b[0m_send_to_plotly\u001b[0m\u001b[0;34m(\u001b[0m\u001b[0mfigure\u001b[0m\u001b[0;34m,\u001b[0m \u001b[0;34m**\u001b[0m\u001b[0mplot_options\u001b[0m\u001b[0;34m)\u001b[0m\u001b[0;34m\u001b[0m\u001b[0m\n\u001b[0m\u001b[1;32m    242\u001b[0m     \u001b[0;32mif\u001b[0m \u001b[0mres\u001b[0m\u001b[0;34m[\u001b[0m\u001b[0;34m'error'\u001b[0m\u001b[0;34m]\u001b[0m \u001b[0;34m==\u001b[0m \u001b[0;34m''\u001b[0m\u001b[0;34m:\u001b[0m\u001b[0;34m\u001b[0m\u001b[0m\n\u001b[1;32m    243\u001b[0m         \u001b[0;32mif\u001b[0m \u001b[0mplot_options\u001b[0m\u001b[0;34m[\u001b[0m\u001b[0;34m'auto_open'\u001b[0m\u001b[0;34m]\u001b[0m\u001b[0;34m:\u001b[0m\u001b[0;34m\u001b[0m\u001b[0m\n",
      "\u001b[0;32m/Users/sreejithmenon/anaconda/lib/python3.5/site-packages/plotly/plotly/plotly.py\u001b[0m in \u001b[0;36m_send_to_plotly\u001b[0;34m(figure, **plot_options)\u001b[0m\n\u001b[1;32m   1429\u001b[0m \u001b[0;34m\u001b[0m\u001b[0m\n\u001b[1;32m   1430\u001b[0m     \u001b[0;32mif\u001b[0m \u001b[0;34m'error'\u001b[0m \u001b[0;32min\u001b[0m \u001b[0mr\u001b[0m \u001b[0;32mand\u001b[0m \u001b[0mr\u001b[0m\u001b[0;34m[\u001b[0m\u001b[0;34m'error'\u001b[0m\u001b[0;34m]\u001b[0m \u001b[0;34m!=\u001b[0m \u001b[0;34m''\u001b[0m\u001b[0;34m:\u001b[0m\u001b[0;34m\u001b[0m\u001b[0m\n\u001b[0;32m-> 1431\u001b[0;31m         \u001b[0;32mraise\u001b[0m \u001b[0mexceptions\u001b[0m\u001b[0;34m.\u001b[0m\u001b[0mPlotlyError\u001b[0m\u001b[0;34m(\u001b[0m\u001b[0mr\u001b[0m\u001b[0;34m[\u001b[0m\u001b[0;34m'error'\u001b[0m\u001b[0;34m]\u001b[0m\u001b[0;34m)\u001b[0m\u001b[0;34m\u001b[0m\u001b[0m\n\u001b[0m\u001b[1;32m   1432\u001b[0m \u001b[0;34m\u001b[0m\u001b[0m\n\u001b[1;32m   1433\u001b[0m     \u001b[0;31m# Check if the url needs a secret key\u001b[0m\u001b[0;34m\u001b[0m\u001b[0;34m\u001b[0m\u001b[0m\n",
      "\u001b[0;31mPlotlyError\u001b[0m: Request throttled. You've created/updated more charts than your allowed limit of 50/day. You may either wait one day or upgrade your account. Visit https://plot.ly/settings/subscription/ to upgrade."
     ]
    }
   ],
   "source": [
    "adbs = [col for col in df.columns if 'ada_boost' in col]\n",
    "adbsDf = df[adbs]\n",
    "figs.append(adbsDf.iplot(kind='line',title=\"All Ada-Boost Classifiers\"))"
   ]
  },
  {
   "cell_type": "code",
   "execution_count": null,
   "metadata": {
    "collapsed": false
   },
   "outputs": [],
   "source": [
    "sparses = [col for col in df.columns if 'sparse' in col and 'non_sparse' not in col]\n",
    "sparsesDf = df[sparses]\n",
    "figs.append(sparsesDf.iplot(kind='line',title=\"All Sparse Classifiers\"))"
   ]
  },
  {
   "cell_type": "code",
   "execution_count": null,
   "metadata": {
    "collapsed": false
   },
   "outputs": [],
   "source": [
    "nsparses = [col for col in df.columns if 'non_sparse' in col ]\n",
    "nsparsesDf = df[nsparses]\n",
    "figs.append(nsparsesDf.iplot(kind='line',title=\"All Non-Sparse Classifiers\"))"
   ]
  },
  {
   "cell_type": "code",
   "execution_count": null,
   "metadata": {
    "collapsed": false
   },
   "outputs": [],
   "source": [
    "nzsparses = [col for col in df.columns if 'non_zero' in col ]\n",
    "nzsparsesDf = df[nzsparses]\n",
    "figs.append(nzsparsesDf.iplot(kind='line',title=\"All Non-Zero IG Classifiers\"))"
   ]
  },
  {
   "cell_type": "code",
   "execution_count": null,
   "metadata": {
    "collapsed": false
   },
   "outputs": [],
   "source": [
    "abvs = [col for col in df.columns if 'abv_mean' in col ]\n",
    "abvsDf = df[abvs]\n",
    "figs.append(abvsDf.iplot(kind='line',title=\"All Abv-Avg IG Classifiers\"))"
   ]
  },
  {
   "cell_type": "code",
   "execution_count": null,
   "metadata": {
    "collapsed": true
   },
   "outputs": [],
   "source": []
  }
 ],
 "metadata": {
  "kernelspec": {
   "display_name": "Python 3",
   "language": "python",
   "name": "python3"
  },
  "language_info": {
   "codemirror_mode": {
    "name": "ipython",
    "version": 3
   },
   "file_extension": ".py",
   "mimetype": "text/x-python",
   "name": "python",
   "nbconvert_exporter": "python",
   "pygments_lexer": "ipython3",
   "version": "3.5.2"
  }
 },
 "nbformat": 4,
 "nbformat_minor": 0
}
