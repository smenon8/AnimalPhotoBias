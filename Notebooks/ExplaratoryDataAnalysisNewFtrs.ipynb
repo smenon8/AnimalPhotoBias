{
 "cells": [
  {
   "cell_type": "code",
   "execution_count": 77,
   "metadata": {
    "collapsed": false
   },
   "outputs": [],
   "source": [
    "import json\n",
    "import pandas as pd\n",
    "from datetime import datetime\n",
    "import numpy as np\n",
    "import numpy as np\n",
    "import math\n",
    "from plotly.offline import download_plotlyjs, init_notebook_mode, plot, iplot\n",
    "import plotly.graph_objs as go\n",
    "from plotly import tools\n",
    "import plotly.plotly as py\n",
    "import cufflinks as cf\n",
    "cf.go_online()\n",
    "\n",
    "inpExifFl = \"../data/imgs_exif_data_full.json\"\n",
    "\n",
    "with open(inpExifFl,\"r\") as inpJsonFl:\n",
    "    exifJsonObj = json.load(inpJsonFl)"
   ]
  },
  {
   "cell_type": "markdown",
   "metadata": {},
   "source": [
    "## Explaratory data analysis \n",
    "Summary stasitics and distributions"
   ]
  },
  {
   "cell_type": "code",
   "execution_count": 28,
   "metadata": {
    "collapsed": false
   },
   "outputs": [
    {
     "data": {
      "text/html": [
       "<div>\n",
       "<table border=\"1\" class=\"dataframe\">\n",
       "  <thead>\n",
       "    <tr style=\"text-align: right;\">\n",
       "      <th></th>\n",
       "      <th>height</th>\n",
       "      <th>lat</th>\n",
       "      <th>long</th>\n",
       "      <th>orientation</th>\n",
       "      <th>width</th>\n",
       "      <th>day</th>\n",
       "      <th>hour</th>\n",
       "    </tr>\n",
       "  </thead>\n",
       "  <tbody>\n",
       "    <tr>\n",
       "      <th>1</th>\n",
       "      <td>4000</td>\n",
       "      <td>-1.3514</td>\n",
       "      <td>36.8002</td>\n",
       "      <td>1</td>\n",
       "      <td>6000</td>\n",
       "      <td>1</td>\n",
       "      <td>14</td>\n",
       "    </tr>\n",
       "    <tr>\n",
       "      <th>10</th>\n",
       "      <td>4000</td>\n",
       "      <td>-1.36709</td>\n",
       "      <td>36.782</td>\n",
       "      <td>1</td>\n",
       "      <td>6000</td>\n",
       "      <td>1</td>\n",
       "      <td>15</td>\n",
       "    </tr>\n",
       "    <tr>\n",
       "      <th>100</th>\n",
       "      <td>4000</td>\n",
       "      <td>-1.37325</td>\n",
       "      <td>36.8003</td>\n",
       "      <td>1</td>\n",
       "      <td>6000</td>\n",
       "      <td>1</td>\n",
       "      <td>16</td>\n",
       "    </tr>\n",
       "    <tr>\n",
       "      <th>1000</th>\n",
       "      <td>3072</td>\n",
       "      <td>-1.34968</td>\n",
       "      <td>36.806</td>\n",
       "      <td>1</td>\n",
       "      <td>4608</td>\n",
       "      <td>1</td>\n",
       "      <td>17</td>\n",
       "    </tr>\n",
       "    <tr>\n",
       "      <th>1001</th>\n",
       "      <td>3072</td>\n",
       "      <td>-1.34968</td>\n",
       "      <td>36.806</td>\n",
       "      <td>1</td>\n",
       "      <td>4608</td>\n",
       "      <td>1</td>\n",
       "      <td>17</td>\n",
       "    </tr>\n",
       "  </tbody>\n",
       "</table>\n",
       "</div>"
      ],
      "text/plain": [
       "     height      lat     long orientation width  day  hour\n",
       "1      4000  -1.3514  36.8002           1  6000    1    14\n",
       "10     4000 -1.36709   36.782           1  6000    1    15\n",
       "100    4000 -1.37325  36.8003           1  6000    1    16\n",
       "1000   3072 -1.34968   36.806           1  4608    1    17\n",
       "1001   3072 -1.34968   36.806           1  4608    1    17"
      ]
     },
     "execution_count": 28,
     "metadata": {},
     "output_type": "execute_result"
    }
   ],
   "source": [
    "exifDf = pd.DataFrame(exifJsonObj).transpose()\n",
    "\n",
    "exifDf['datetime'] = exifDf['datetime'].apply(lambda x : datetime.strptime(x,'%Y-%m-%d %H:%M:%S'))\n",
    "exifDf['day'] = exifDf.datetime.apply(lambda x : x.day)\n",
    "exifDf['hour'] = exifDf.datetime.apply(lambda x : x.hour)\n",
    "exifDf.drop(['size','datetime'],1,inplace=True)\n",
    "exifDf.head()"
   ]
  },
  {
   "cell_type": "code",
   "execution_count": 98,
   "metadata": {
    "collapsed": false
   },
   "outputs": [
    {
     "name": "stdout",
     "output_type": "stream",
     "text": [
      "This is the format of your plot grid:\n",
      "[ (1,1) x1,y1 ]  [ (1,2) x2,y2 ]\n",
      "[ (2,1) x3,y3 ]  [ (2,2) x4,y4 ]\n",
      "[ (3,1) x5,y5 ]  [ (3,2) x6,y6 ]\n",
      "[ (4,1) x7,y7 ]  [ (4,2) x8,y8 ]\n",
      "\n"
     ]
    },
    {
     "data": {
      "text/plain": [
       "'file:///Users/sreejithmenon/Google Drive/CodeBase/AWESOME/FinalResults/ExplaratoryDataAnalysis_Distributions.html'"
      ]
     },
     "execution_count": 98,
     "metadata": {},
     "output_type": "execute_result"
    }
   ],
   "source": [
    "trace1 = go.Histogram(\n",
    "        x=exifDf['height']\n",
    "    )\n",
    "\n",
    "trace2 = go.Histogram(\n",
    "        x=exifDf['width']\n",
    "    )\n",
    "\n",
    "trace3 = go.Histogram(\n",
    "        x=exifDf['lat']\n",
    "    )\n",
    "\n",
    "trace4 = go.Histogram(\n",
    "        x=exifDf['long']\n",
    "    )\n",
    "\n",
    "trace5 = go.Histogram(\n",
    "        x=exifDf['orientation']\n",
    "    )\n",
    "\n",
    "trace6 = go.Histogram(\n",
    "        x=exifDf['day']\n",
    "    )\n",
    "\n",
    "trace7 = go.Histogram(\n",
    "        x=exifDf['hour']\n",
    "    )\n",
    "\n",
    "fig = tools.make_subplots(rows=4, cols=2, subplot_titles=('height','width','lat','long','orientation','day','hour'))\n",
    "\n",
    "fig.append_trace(trace1, 1, 1)\n",
    "fig.append_trace(trace2, 1, 2)\n",
    "fig.append_trace(trace3, 2, 1)\n",
    "fig.append_trace(trace4, 2, 2)\n",
    "fig.append_trace(trace5, 3, 1)\n",
    "fig.append_trace(trace6, 3, 2)\n",
    "fig.append_trace(trace7, 4, 1)\n",
    "\n",
    "fig['layout'].update(showlegend=False, height=1000, width=1000, title='Data distributions')\n",
    "plot(fig, filename='../FinalResults/ExplaratoryDataAnalysis_Distributions.html')"
   ]
  },
  {
   "cell_type": "markdown",
   "metadata": {
    "collapsed": true
   },
   "source": [
    "## Combining result data"
   ]
  },
  {
   "cell_type": "code",
   "execution_count": 60,
   "metadata": {
    "collapsed": false
   },
   "outputs": [],
   "source": [
    "from numpy import arange,array,ones\n",
    "from scipy import stats\n",
    "xi = arange(0,9)\n",
    "A = array([ xi, ones(9)])\n",
    "\n",
    "# (Almost) linear sequence\n",
    "y = [19, 20, 20.5, 21.5, 22, 23, 23, 25.5, 24]\n",
    "\n",
    "# Generated linear fit\n",
    "slope, intercept, r_value, p_value, std_err = stats.linregress(xi,y)\n",
    "line = slope*xi+intercept\n",
    "\n",
    "# Creating the dataset, and generating the plot\n",
    "trace1 = go.Scatter(\n",
    "                  x=xi, \n",
    "                  y=y, \n",
    "                  mode='markers',\n",
    "                  marker=go.Marker(color='rgb(255, 127, 14)'),\n",
    "                  name='Data'\n",
    "                  )\n",
    "\n",
    "trace2 = go.Scatter(\n",
    "                  x=xi, \n",
    "                  y=line, \n",
    "                  mode='lines',\n",
    "                  marker=go.Marker(color='rgb(31, 119, 180)'),\n",
    "                  name='Fit'\n",
    "                  )\n"
   ]
  },
  {
   "cell_type": "code",
   "execution_count": 48,
   "metadata": {
    "collapsed": false
   },
   "outputs": [],
   "source": [
    "resultsDf = pd.DataFrame.from_csv(\"../FinalResults/resultsExpt2RankList_Tags.csv\")\n",
    "\n",
    "resultsDf = pd.DataFrame(resultsDf['Proportion'])\n",
    "resultsDict = resultsDf.to_dict(orient=\"index\")\n",
    "\n",
    "expt2Results = {}\n",
    "\n",
    "for gid in resultsDict:\n",
    "    expt2Results[str(gid)] = exifJsonObj[str(gid)]\n",
    "    expt2Results[str(gid)].update(resultsDict[gid])"
   ]
  },
  {
   "cell_type": "code",
   "execution_count": 51,
   "metadata": {
    "collapsed": false
   },
   "outputs": [
    {
     "data": {
      "text/html": [
       "<div>\n",
       "<table border=\"1\" class=\"dataframe\">\n",
       "  <thead>\n",
       "    <tr style=\"text-align: right;\">\n",
       "      <th></th>\n",
       "      <th>Proportion</th>\n",
       "      <th>height</th>\n",
       "      <th>lat</th>\n",
       "      <th>long</th>\n",
       "      <th>orientation</th>\n",
       "      <th>width</th>\n",
       "      <th>day</th>\n",
       "      <th>hour</th>\n",
       "    </tr>\n",
       "  </thead>\n",
       "  <tbody>\n",
       "    <tr>\n",
       "      <th>10</th>\n",
       "      <td>20</td>\n",
       "      <td>4000</td>\n",
       "      <td>-1.36709</td>\n",
       "      <td>36.782</td>\n",
       "      <td>1</td>\n",
       "      <td>6000</td>\n",
       "      <td>1</td>\n",
       "      <td>15</td>\n",
       "    </tr>\n",
       "    <tr>\n",
       "      <th>1000</th>\n",
       "      <td>90</td>\n",
       "      <td>3072</td>\n",
       "      <td>-1.34968</td>\n",
       "      <td>36.806</td>\n",
       "      <td>1</td>\n",
       "      <td>4608</td>\n",
       "      <td>1</td>\n",
       "      <td>17</td>\n",
       "    </tr>\n",
       "    <tr>\n",
       "      <th>1003</th>\n",
       "      <td>20</td>\n",
       "      <td>3072</td>\n",
       "      <td>-1.34965</td>\n",
       "      <td>36.8062</td>\n",
       "      <td>1</td>\n",
       "      <td>4608</td>\n",
       "      <td>1</td>\n",
       "      <td>17</td>\n",
       "    </tr>\n",
       "    <tr>\n",
       "      <th>1005</th>\n",
       "      <td>80</td>\n",
       "      <td>3072</td>\n",
       "      <td>-1.34965</td>\n",
       "      <td>36.8062</td>\n",
       "      <td>1</td>\n",
       "      <td>4608</td>\n",
       "      <td>1</td>\n",
       "      <td>17</td>\n",
       "    </tr>\n",
       "    <tr>\n",
       "      <th>101</th>\n",
       "      <td>20</td>\n",
       "      <td>4000</td>\n",
       "      <td>-1.37325</td>\n",
       "      <td>36.8003</td>\n",
       "      <td>1</td>\n",
       "      <td>6000</td>\n",
       "      <td>1</td>\n",
       "      <td>16</td>\n",
       "    </tr>\n",
       "  </tbody>\n",
       "</table>\n",
       "</div>"
      ],
      "text/plain": [
       "     Proportion height      lat     long orientation width  day  hour\n",
       "10           20   4000 -1.36709   36.782           1  6000    1    15\n",
       "1000         90   3072 -1.34968   36.806           1  4608    1    17\n",
       "1003         20   3072 -1.34965  36.8062           1  4608    1    17\n",
       "1005         80   3072 -1.34965  36.8062           1  4608    1    17\n",
       "101          20   4000 -1.37325  36.8003           1  6000    1    16"
      ]
     },
     "execution_count": 51,
     "metadata": {},
     "output_type": "execute_result"
    }
   ],
   "source": [
    "expt2ResultsDf = pd.DataFrame(expt2Results).transpose()\n",
    "\n",
    "expt2ResultsDf['datetime'] = expt2ResultsDf['datetime'].apply(lambda x : datetime.strptime(x,'%Y-%m-%d %H:%M:%S'))\n",
    "expt2ResultsDf['day'] = expt2ResultsDf.datetime.apply(lambda x : x.day)\n",
    "expt2ResultsDf['hour'] = expt2ResultsDf.datetime.apply(lambda x : x.hour)\n",
    "expt2ResultsDf.drop(['size','datetime'],1,inplace=True)\n",
    "expt2ResultsDf.head()"
   ]
  },
  {
   "cell_type": "code",
   "execution_count": 97,
   "metadata": {
    "collapsed": false
   },
   "outputs": [
    {
     "name": "stdout",
     "output_type": "stream",
     "text": [
      "r_value, p_value (0.013103869450779954, 0.59941570062121841)\n",
      "<iframe id=\"igraph\" scrolling=\"no\" style=\"border:none;\" seamless=\"seamless\" src=\"https://plot.ly/~kamblenoopur/25.embed\" height=\"525px\" width=\"100%\"></iframe>\n"
     ]
    }
   ],
   "source": [
    "def linearRegressPlot(resultDf,xFtr,yStr):\n",
    "    xi = np.array(resultDf[xFtr])\n",
    "    y = list(resultDf[yStr])\n",
    "    slope, intercept, r_value, p_value, std_err = stats.linregress(xi,y)\n",
    "    line = slope*xi+intercept\n",
    "    layout= go.Layout(\n",
    "            title= \"Linear line fit for regression using %s\" %xFtr,\n",
    "            showlegend=False,\n",
    "            xaxis= dict(\n",
    "                title= xFtr,\n",
    "                ticklen= 5,\n",
    "                zeroline= True,\n",
    "                gridwidth= 2\n",
    "            ),\n",
    "            yaxis=dict(\n",
    "                title= yStr,\n",
    "                ticklen= 5,\n",
    "                gridwidth= 2,\n",
    "                #range=range\n",
    "            )\n",
    "        )\n",
    "\n",
    "    trace1 = go.Scatter(\n",
    "                x = xi,\n",
    "                y = y,\n",
    "                mode = 'markers'\n",
    "        )\n",
    "\n",
    "    trace2 = go.Scatter(\n",
    "                x=xi, \n",
    "                y=line, \n",
    "                mode='lines',\n",
    "                name='Fit'\n",
    "                      )\n",
    "\n",
    "    data = [trace1,trace2]\n",
    "\n",
    "    fig = dict(data=data,layout=layout)\n",
    "    figMain = py.iplot(fig,filename= str(\"linear_fit_%s\" %xFtr))\n",
    "    print(\"r_value, p_value\" ,(r_value,p_value))\n",
    "    print(figMain.embed_code)\n",
    "linearRegressPlot(expt2ResultsDf,'orientation','Proportion')"
   ]
  },
  {
   "cell_type": "code",
   "execution_count": 61,
   "metadata": {
    "collapsed": false
   },
   "outputs": [
    {
     "data": {
      "text/plain": [
       "(-0.0014937529173252762,\n",
       " 54.18473446939938,\n",
       " -0.051100111877733521,\n",
       " 0.040414106564588367,\n",
       " 0.000728251211858464)"
      ]
     },
     "execution_count": 61,
     "metadata": {},
     "output_type": "execute_result"
    }
   ],
   "source": [
    "xi = np.array(expt2ResultsDf['height'])\n",
    "y = list(expt2ResultsDf['Proportion'])\n",
    "slope, intercept, r_value, p_value, std_err = stats.linregress(xi,y)\n",
    "slope, intercept, r_value, p_value, std_err"
   ]
  },
  {
   "cell_type": "code",
   "execution_count": 62,
   "metadata": {
    "collapsed": false
   },
   "outputs": [
    {
     "data": {
      "text/plain": [
       "array([48.20972280009828, 49.59592550737613, 49.59592550737613, ...,\n",
       "       49.59592550737613, 49.59592550737613, 49.59592550737613], dtype=object)"
      ]
     },
     "execution_count": 62,
     "metadata": {},
     "output_type": "execute_result"
    }
   ],
   "source": []
  },
  {
   "cell_type": "code",
   "execution_count": null,
   "metadata": {
    "collapsed": true
   },
   "outputs": [],
   "source": []
  }
 ],
 "metadata": {
  "kernelspec": {
   "display_name": "Python 3",
   "language": "python",
   "name": "python3"
  },
  "language_info": {
   "codemirror_mode": {
    "name": "ipython",
    "version": 3
   },
   "file_extension": ".py",
   "mimetype": "text/x-python",
   "name": "python",
   "nbconvert_exporter": "python",
   "pygments_lexer": "ipython3",
   "version": "3.5.2"
  }
 },
 "nbformat": 4,
 "nbformat_minor": 0
}
