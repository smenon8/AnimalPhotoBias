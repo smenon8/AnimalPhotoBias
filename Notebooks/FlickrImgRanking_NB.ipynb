{
 "cells": [
  {
   "cell_type": "code",
   "execution_count": 24,
   "metadata": {
    "collapsed": false
   },
   "outputs": [],
   "source": [
    "from ClassiferHelperAPI import trainTestClf, trainTestRgrs\n",
    "import importlib, ClassiferHelperAPI, numpy as np\n",
    "importlib.reload(ClassiferHelperAPI)\n",
    "import json\n",
    "import pandas as pd\n",
    "from plotly.offline import download_plotlyjs, init_notebook_mode, plot, iplot\n",
    "import plotly.graph_objs as go\n",
    "from plotly import tools\n",
    "import plotly.plotly as py\n",
    "import cufflinks as cf\n",
    "cf.go_online()"
   ]
  },
  {
   "cell_type": "code",
   "execution_count": 22,
   "metadata": {
    "collapsed": true
   },
   "outputs": [],
   "source": [
    "clfArgs = {'dummy' : {'strategy' : 'most_frequent'},\n",
    "                'bayesian' : {'fit_prior' : True},\n",
    "                'logistic' : {'penalty' : 'l2'},\n",
    "                'svm' : {'kernel' : 'rbf','probability' : True},\n",
    "                'dtree' : {'criterion' : 'entropy'},\n",
    "                'random_forests' : {'n_estimators' : 10 },\n",
    "                'ada_boost' : {'n_estimators' : 50 }}\n",
    "\n",
    "regrArgs = {'linear' : {'fit_intercept' : True},\n",
    "            'ridge' : {'fit_intercept' : True},\n",
    "            'lasso' : {'fit_intercept' : True},\n",
    "            'elastic_net' : {'fit_intercept' : True},\n",
    "            'svr' : {'fit_intercept' : True},\n",
    "            'dtree_regressor' : {'fit_intercept' : True}}\n",
    "\n",
    "train_fl = \"../data/BeautyFtrVector_GZC_Expt2.csv\"\n",
    "test_fl = \"../data/Flickr_Scrapes_Ftrs.csv\""
   ]
  },
  {
   "cell_type": "code",
   "execution_count": 50,
   "metadata": {
    "collapsed": false
   },
   "outputs": [],
   "source": [
    "with open(\"../data/Flickr_FL_URL_map.json\", \"r\") as fl_url_map_fl:\n",
    "    fl_url_map = json.load(fl_url_map_fl)\n",
    "\n",
    "rgrTypes = ['linear', 'ridge', 'lasso', 'elastic_net', 'svr', 'dtree_regressor']\n",
    "clfTypes = ['bayesian', 'logistic', 'svm', 'dtree', 'random_forests', 'ada_boost']\n",
    "attrib = 'beauty'"
   ]
  },
  {
   "cell_type": "markdown",
   "metadata": {},
   "source": [
    "## Results using Regression\n",
    "* Build a dictionary of files and the respective predictions\n",
    "* Build a report with all features, predicted share rate and the actual image\n",
    "* Plot: Cluster of share rates"
   ]
  },
  {
   "cell_type": "code",
   "execution_count": 71,
   "metadata": {
    "collapsed": false
   },
   "outputs": [
    {
     "name": "stdout",
     "output_type": "stream",
     "text": [
      "Number of outliers identified: 604\n",
      "1097 1097\n",
      "Number of outliers identified: 615\n",
      "1086 1086\n",
      "Number of outliers identified: 0\n",
      "1701 1701\n",
      "Number of outliers identified: 0\n",
      "1701 1701\n",
      "Number of outliers identified: 0\n",
      "1701 1701\n",
      "Number of outliers identified: 0\n",
      "1701 1701\n",
      "<iframe id=\"igraph\" scrolling=\"no\" style=\"border:none;\" seamless=\"seamless\" src=\"https://plot.ly/~smenon8/615.embed\" height=\"525px\" width=\"100%\"></iframe>\n",
      "<iframe id=\"igraph\" scrolling=\"no\" style=\"border:none;\" seamless=\"seamless\" src=\"https://plot.ly/~smenon8/617.embed\" height=\"525px\" width=\"100%\"></iframe>\n",
      "<iframe id=\"igraph\" scrolling=\"no\" style=\"border:none;\" seamless=\"seamless\" src=\"https://plot.ly/~smenon8/619.embed\" height=\"525px\" width=\"100%\"></iframe>\n",
      "<iframe id=\"igraph\" scrolling=\"no\" style=\"border:none;\" seamless=\"seamless\" src=\"https://plot.ly/~smenon8/621.embed\" height=\"525px\" width=\"100%\"></iframe>\n",
      "<iframe id=\"igraph\" scrolling=\"no\" style=\"border:none;\" seamless=\"seamless\" src=\"https://plot.ly/~smenon8/623.embed\" height=\"525px\" width=\"100%\"></iframe>\n",
      "<iframe id=\"igraph\" scrolling=\"no\" style=\"border:none;\" seamless=\"seamless\" src=\"https://plot.ly/~smenon8/625.embed\" height=\"525px\" width=\"100%\"></iframe>\n"
     ]
    }
   ],
   "source": [
    "results = {}\n",
    "for meth in rgrTypes:\n",
    "    methObj,predResults = trainTestRgrs(train_fl,\n",
    "                                    test_fl,\n",
    "                                    meth,\n",
    "                                    attrib,\n",
    "                                    infoGainFl=None,\n",
    "                                    methArgs = regrArgs\n",
    "                                    )\n",
    "    results[meth] = dict(obj = methObj, pred_results = predResults)\n",
    "\n",
    "for meth in rgrTypes:\n",
    "    pred_results = results[meth]['pred_results']\n",
    "    y = list(pred_results.values())\n",
    "    x = list(range(1,len(y)+1))\n",
    "    \n",
    "    layout= go.Layout(\n",
    "                title= \"Share rate distributions using %s\" %meth,\n",
    "                showlegend=False,\n",
    "                xaxis= dict(\n",
    "                    title= 'Images (n)',\n",
    "                    ticklen= 5,\n",
    "                    zeroline= True,\n",
    "                    gridwidth= 2\n",
    "                ),\n",
    "                yaxis=dict(\n",
    "                    title= 'Predicted Share rates',\n",
    "                    ticklen= 5,\n",
    "                    gridwidth= 2,\n",
    "                    #range=range\n",
    "                )\n",
    "            )\n",
    "\n",
    "    trace1 = go.Scatter(\n",
    "                    x = x,\n",
    "                    y = y,\n",
    "                    mode = 'markers'\n",
    "            )\n",
    "\n",
    "\n",
    "    data = [trace1]\n",
    "\n",
    "    fig = dict(data=data,layout=layout)\n",
    "    figMain = py.iplot(fig,filename= 'Visual for distribution of predicted share rates using %s' %meth)\n",
    "    print(figMain.embed_code)"
   ]
  },
  {
   "cell_type": "markdown",
   "metadata": {},
   "source": [
    "## Results using Classifiers"
   ]
  },
  {
   "cell_type": "code",
   "execution_count": 73,
   "metadata": {
    "collapsed": false
   },
   "outputs": [
    {
     "name": "stdout",
     "output_type": "stream",
     "text": [
      "<iframe id=\"igraph\" scrolling=\"no\" style=\"border:none;\" seamless=\"seamless\" src=\"https://plot.ly/~smenon8/628.embed\" height=\"525px\" width=\"100%\"></iframe>\n",
      "<iframe id=\"igraph\" scrolling=\"no\" style=\"border:none;\" seamless=\"seamless\" src=\"https://plot.ly/~smenon8/630.embed\" height=\"525px\" width=\"100%\"></iframe>\n",
      "<iframe id=\"igraph\" scrolling=\"no\" style=\"border:none;\" seamless=\"seamless\" src=\"https://plot.ly/~smenon8/632.embed\" height=\"525px\" width=\"100%\"></iframe>\n",
      "<iframe id=\"igraph\" scrolling=\"no\" style=\"border:none;\" seamless=\"seamless\" src=\"https://plot.ly/~smenon8/634.embed\" height=\"525px\" width=\"100%\"></iframe>\n",
      "<iframe id=\"igraph\" scrolling=\"no\" style=\"border:none;\" seamless=\"seamless\" src=\"https://plot.ly/~smenon8/636.embed\" height=\"525px\" width=\"100%\"></iframe>\n",
      "<iframe id=\"igraph\" scrolling=\"no\" style=\"border:none;\" seamless=\"seamless\" src=\"https://plot.ly/~smenon8/638.embed\" height=\"525px\" width=\"100%\"></iframe>\n"
     ]
    }
   ],
   "source": [
    "results = {}\n",
    "for meth in clfTypes:\n",
    "    methObj,predResults = trainTestClf(train_fl,\n",
    "                                    test_fl,\n",
    "                                    meth,\n",
    "                                    attrib,\n",
    "                                    infoGainFl=None,\n",
    "                                    methArgs = clfArgs\n",
    "                                    )\n",
    "    results[meth] = dict(obj = methObj, pred_results = predResults)\n",
    "\n",
    "for meth in clfTypes:\n",
    "    pred_results = results[meth]['obj'].predProbabs\n",
    "    y = list(pred_results)\n",
    "    x = list(range(1,len(y)+1))\n",
    "    \n",
    "    layout= go.Layout(\n",
    "                title= \"Prediction probability distributions using %s\" %meth,\n",
    "                showlegend=False,\n",
    "                xaxis= dict(\n",
    "                    title= 'Images (n)',\n",
    "                    ticklen= 5,\n",
    "                    zeroline= True,\n",
    "                    gridwidth= 2\n",
    "                ),\n",
    "                yaxis=dict(\n",
    "                    title= 'Predicted Share/No-Share probabilities',\n",
    "                    ticklen= 5,\n",
    "                    gridwidth= 2,\n",
    "                    #range=range\n",
    "                )\n",
    "            )\n",
    "\n",
    "    trace1 = go.Scatter(\n",
    "                    x = x,\n",
    "                    y = y,\n",
    "                    mode = 'markers'\n",
    "            )\n",
    "\n",
    "\n",
    "    data = [trace1]\n",
    "\n",
    "    fig = dict(data=data,layout=layout)\n",
    "    figmain = py.iplot(fig,filename= 'Visual for distribution of predicted share no-share probabilities using %s' %meth)\n",
    "    print(figmain.embed_code)"
   ]
  },
  {
   "cell_type": "markdown",
   "metadata": {},
   "source": [
    "## Input Distribution"
   ]
  },
  {
   "cell_type": "code",
   "execution_count": 83,
   "metadata": {
    "collapsed": false
   },
   "outputs": [
    {
     "data": {
      "text/plain": [
       "'<iframe id=\"igraph\" scrolling=\"no\" style=\"border:none;\" seamless=\"seamless\" src=\"https://plot.ly/~smenon8/640.embed\" height=\"525px\" width=\"100%\"></iframe>'"
      ]
     },
     "execution_count": 83,
     "metadata": {},
     "output_type": "execute_result"
    }
   ],
   "source": [
    "pred_results = results['linear']['obj'].train_y\n",
    "y = list(pred_results)\n",
    "x = list(range(1,len(y)+1))\n",
    "    \n",
    "layout= go.Layout(\n",
    "                title= \"Training data distribution\",\n",
    "                showlegend=False,\n",
    "                xaxis= dict(\n",
    "                    title= 'Images (n)',\n",
    "                    ticklen= 5,\n",
    "                    zeroline= True,\n",
    "                    gridwidth= 2\n",
    "                ),\n",
    "                yaxis=dict(\n",
    "                    title= 'Share proportion',\n",
    "                    ticklen= 5,\n",
    "                    gridwidth= 2,\n",
    "                    #range=range\n",
    "                )\n",
    "            )\n",
    "\n",
    "trace1 = go.Scatter(\n",
    "                    x = x,\n",
    "                    y = y,\n",
    "                    mode = 'markers'\n",
    "            )\n",
    "\n",
    "data = [trace1]\n",
    "fig = dict(data=data,layout=layout)\n",
    "fig = py.iplot(fig,filename=\"Expt2 Training data distributions\")\n",
    "fig.embed_code"
   ]
  },
  {
   "cell_type": "code",
   "execution_count": 79,
   "metadata": {
    "collapsed": false
   },
   "outputs": [
    {
     "name": "stdout",
     "output_type": "stream",
     "text": [
      "Number of outliers identified: 604\n",
      "1097 1097\n",
      "Number of outliers identified: 615\n",
      "1086 1086\n",
      "Number of outliers identified: 0\n",
      "1701 1701\n",
      "Number of outliers identified: 0\n",
      "1701 1701\n",
      "Number of outliers identified: 0\n",
      "1701 1701\n",
      "Number of outliers identified: 0\n",
      "1701 1701\n"
     ]
    }
   ],
   "source": [
    "results = {}\n",
    "for meth in rgrTypes:\n",
    "    methObj,predResults = trainTestRgrs(train_fl,\n",
    "                                    test_fl,\n",
    "                                    meth,\n",
    "                                    attrib,\n",
    "                                    infoGainFl=None,\n",
    "                                    methArgs = regrArgs\n",
    "                                    )\n",
    "    results[meth] = dict(obj = methObj, pred_results = predResults)"
   ]
  },
  {
   "cell_type": "code",
   "execution_count": null,
   "metadata": {
    "collapsed": true
   },
   "outputs": [],
   "source": []
  }
 ],
 "metadata": {
  "kernelspec": {
   "display_name": "Python 3",
   "language": "python",
   "name": "python3"
  },
  "language_info": {
   "codemirror_mode": {
    "name": "ipython",
    "version": 3
   },
   "file_extension": ".py",
   "mimetype": "text/x-python",
   "name": "python",
   "nbconvert_exporter": "python",
   "pygments_lexer": "ipython3",
   "version": "3.5.2"
  }
 },
 "nbformat": 4,
 "nbformat_minor": 0
}
