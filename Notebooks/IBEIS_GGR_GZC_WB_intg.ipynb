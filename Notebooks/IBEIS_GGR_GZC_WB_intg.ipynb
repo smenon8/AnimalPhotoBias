{
 "cells": [
  {
   "cell_type": "markdown",
   "metadata": {},
   "source": [
    "image analysis running on the server \"lev\", sharing the basic same data.  presently, the IA port is not exposed, but in interest of time, i am making a \"pass-through\" access to the IA api via a WB api call.  (this is ultimately the model we want to use in production, so that wildbook can handle security and other issues, but as you will see, i have kind of done a very generic hack version of the same concept.)   this consists of a small wb api \"wrapper\" call around the call you actually wish to be making of the IA data.  perhaps examples would demonstrate best:\n",
    "\n",
    "IA call:  /api/annot/image/contributor/tag/json/?annot_uuid_list=[{\"__UUID__\":\"8b595dc0-9c5a-4caf-9703-9f8ff017e824\"}]\n",
    "becomes: http://lev.cs.rpi.edu:8080/ggr/ia?passthru=/api/annot/image/contributor/tag/json/&arg=annot_uuid_list%3D[{%22__UUID__%22:%228b595dc0-9c5a-4caf-9703-9f8ff017e824%22}]\n",
    "\n",
    "IA call:  /api/annot/age/months/json/?annot_uuid_list=[{\"__UUID__\":\"8b595dc0-9c5a-4caf-9703-9f8ff017e824\"}]\n",
    "becomes:  http://lev.cs.rpi.edu:8080/ggr/ia?passthru=/api/annot/age/months/json/&arg=annot_uuid_list%3D[{%22__UUID__%22:%228b595dc0-9c5a-4caf-9703-9f8ff017e824%22}]\n",
    "\n",
    "in other words, you pass two parameters, passthru and arg, which are just uri-encoded strings that represent the two sides of the \"?\" in the original call.  (note that arg is optional.)  the two examples above are \"live\", in the sense that you can click them and should get the json results as expected.\n",
    "\n",
    "this should, technically, get you to any existing IA api call (provided i had jason p turn on all the right ones)... at least the ones that use GET.  if you need any POST queries, let me know and i can pass those through as well."
   ]
  },
  {
   "cell_type": "code",
   "execution_count": 18,
   "metadata": {
    "collapsed": true
   },
   "outputs": [],
   "source": [
    "import requests\n",
    "import urllib\n",
    "import GetPropertiesAPI as GP\n",
    "from collections import OrderedDict\n",
    "import importlib\n",
    "importlib.reload(GP)\n",
    "DOMAIN = 'http://lev.cs.rpi.edu:8080/ggr/ia'"
   ]
  },
  {
   "cell_type": "code",
   "execution_count": null,
   "metadata": {
    "collapsed": true
   },
   "outputs": [],
   "source": [
    "## /api/annot/image/contributor/tag/json/?annot_uuid_list=[{\"__UUID__\":\"8b595dc0-9c5a-4caf-9703-9f8ff017e824\"}]\n",
    "\n",
    "\n",
    "param = urllib.parse.quote('annot_uuid_list=') + '[{' + urllib.parse.quote('\"__UUID__\"') + ':' +urllib.parse.quote('\"8b595dc0-9c5a-4caf-9703-9f8ff017e824\"') + '}]'\n",
    "# param = urllib.parse.urlencode(param) "
   ]
  },
  {
   "cell_type": "code",
   "execution_count": null,
   "metadata": {
    "collapsed": false
   },
   "outputs": [],
   "source": [
    "payload = OrderedDict([('passthru', u'/api/annot/age/months/json/'), \n",
    "                ('asdasarg', param)]) \n",
    "response = requests.get(DOMAIN , \n",
    "                        params = payload \n",
    "                        )"
   ]
  },
  {
   "cell_type": "code",
   "execution_count": 8,
   "metadata": {
    "collapsed": false
   },
   "outputs": [],
   "source": [
    "url = DOMAIN + '?passthru=' +\"/api/annot/age/months/json\" + '&arg=' + GP.ggr_annot_form_arg('3f814994-216c-4015-9af3-f286481414c0')"
   ]
  },
  {
   "cell_type": "code",
   "execution_count": 9,
   "metadata": {
    "collapsed": false
   },
   "outputs": [],
   "source": [
    "res = requests.get(url)\n",
    "# \"/api/annot/age/months/json\" - age\n",
    "# \"/api/annot/sex/json/\" - sex\n",
    "# \"/api/annot/name/rowid/json/\" - NID\n",
    "# "
   ]
  },
  {
   "cell_type": "code",
   "execution_count": 10,
   "metadata": {
    "collapsed": false
   },
   "outputs": [
    {
     "data": {
      "text/plain": [
       "{'results': [[None, 2]], 'success': True}"
      ]
     },
     "execution_count": 10,
     "metadata": {},
     "output_type": "execute_result"
    }
   ],
   "source": [
    "res.json()"
   ]
  },
  {
   "cell_type": "code",
   "execution_count": null,
   "metadata": {
    "collapsed": true
   },
   "outputs": [],
   "source": [
    "url = DOMAIN + '?passthru=' +\"/api/annot/age/months/json/\" + '&arg=' + ggxr_form_arg(\"8b595dc0-9c5a-4caf-9703-9f8ff017e824\")"
   ]
  },
  {
   "cell_type": "code",
   "execution_count": null,
   "metadata": {
    "collapsed": false
   },
   "outputs": [],
   "source": [
    "s = \"abcd\"\n",
    "\n",
    "'\\\"%s\\\"' %s"
   ]
  },
  {
   "cell_type": "code",
   "execution_count": null,
   "metadata": {
    "collapsed": false
   },
   "outputs": [],
   "source": [
    "ggr_form_arg = lambda x : urllib.parse.quote('annot_uuid_list=') + '[{' + urllib.parse.quote('\"__UUID__\"') + ':' + urllib.parse.quote('\\\"%s\\\"' %x) + '}]'"
   ]
  },
  {
   "cell_type": "code",
   "execution_count": null,
   "metadata": {
    "collapsed": true
   },
   "outputs": [],
   "source": [
    "ggr_image_form_arg = lambda x : urllib.parse.quote('image_uuid_list=') + '[{' + urllib.parse.quote('\"__UUID__\"') + ':' + urllib.parse.quote('\\\"%s\\\"' %x) + '}]'"
   ]
  },
  {
   "cell_type": "code",
   "execution_count": 68,
   "metadata": {
    "collapsed": false
   },
   "outputs": [
    {
     "data": {
      "text/plain": [
       "<module 'GetPropertiesAPI' from '/Users/sreejithmenon/Google Drive/CodeBase/AWESOME/script/GetPropertiesAPI.py'>"
      ]
     },
     "execution_count": 68,
     "metadata": {},
     "output_type": "execute_result"
    }
   ],
   "source": [
    "import UploadAndDetectIBEIS as UD, uuid\n",
    "import requests, json, datetime, urllib, importlib\n",
    "importlib.reload(UD)\n",
    "\n",
    "import GetPropertiesAPI as GP\n",
    "importlib.reload(GP)"
   ]
  },
  {
   "cell_type": "code",
   "execution_count": null,
   "metadata": {
    "collapsed": true
   },
   "outputs": [],
   "source": [
    "data_dict = {\n",
    "        'gid_list': [1],\n",
    "    }\n",
    "image_uuid_list = UD.get('api/image/uuid', data_dict)\n",
    "image_uuid_dict = image_uuid_list[0]\n",
    "image_uuid = uuid.UUID(image_uuid_dict['__UUID__'])\n",
    "\n",
    "data_dict = {\n",
    "    'query_annot_uuid_list' : [1],\n",
    "    'query_annot_name_list' : [image_uuid]\n",
    "    \n",
    "}\n",
    "res = requests.get('http://pachy.cs.uic.edu:5000/api/engine/query/graph/', data = data_dict)\n",
    "res.json()"
   ]
  },
  {
   "cell_type": "code",
   "execution_count": null,
   "metadata": {
    "collapsed": false
   },
   "outputs": [],
   "source": [
    "data_dict = {\n",
    "        'aid_list': [1],\n",
    "    }\n",
    "image_uuid_list = UD.get('api/annot/uuid', data_dict)\n",
    "image_uuid_list"
   ]
  },
  {
   "cell_type": "code",
   "execution_count": null,
   "metadata": {
    "collapsed": false
   },
   "outputs": [],
   "source": [
    "res = requests.get('http://pachy.cs.uic.edu:5001/api/annot/uuid/', \n",
    "                   data = dict(aid_list=['1']))\n",
    "\n",
    "\n",
    "print(res.json())\n",
    "\n",
    "res = requests.get('http://pachy.cs.uic.edu:5000/api/annot/uuid/', \n",
    "                   data = dict(aid_list=['15441']))\n",
    "\n",
    "\n",
    "print(res.json())"
   ]
  },
  {
   "cell_type": "code",
   "execution_count": null,
   "metadata": {
    "collapsed": true
   },
   "outputs": [],
   "source": [
    "url = \"http://pachy.cs.uic.edu:5001/api/engine/query/graph/\"\n",
    "data_dict = {\n",
    "    'query_annot_uuid_list' : json.dumps([{'__UUID__': '2637b5e7-2a41-4aea-9dbd-dfe186cc8c8c'}]),\n",
    "}\n",
    "response = requests.request('POST', url, data=data_dict)"
   ]
  },
  {
   "cell_type": "code",
   "execution_count": null,
   "metadata": {
    "collapsed": false
   },
   "outputs": [],
   "source": [
    "response.json()"
   ]
  },
  {
   "cell_type": "code",
   "execution_count": null,
   "metadata": {
    "collapsed": false
   },
   "outputs": [],
   "source": [
    "d['json_result']['inference_dict']['cluster_dict']"
   ]
  },
  {
   "cell_type": "code",
   "execution_count": null,
   "metadata": {
    "collapsed": false
   },
   "outputs": [],
   "source": [
    "d['json_result']['inference_dict']['annot_pair_dict']"
   ]
  },
  {
   "cell_type": "code",
   "execution_count": null,
   "metadata": {
    "collapsed": false
   },
   "outputs": [],
   "source": [
    "re.findall(r'NEWNAME_(\\d+)', 'NEWNAME_-6')"
   ]
  },
  {
   "cell_type": "code",
   "execution_count": 16,
   "metadata": {
    "collapsed": false
   },
   "outputs": [],
   "source": [
    "import os, json, re"
   ]
  },
  {
   "cell_type": "code",
   "execution_count": null,
   "metadata": {
    "collapsed": true
   },
   "outputs": [],
   "source": [
    "data_dict = {\n",
    "        'gid_list': list(range(1702, 1792)),\n",
    "    }\n",
    "\n",
    "UD.delete('api/image',data_dict)"
   ]
  },
  {
   "cell_type": "code",
   "execution_count": 33,
   "metadata": {
    "collapsed": false
   },
   "outputs": [],
   "source": [
    "with open(\"../data/beauty_ggr.json\", \"r\") as bty_ggr_fl:\n",
    "    bty_ggr= json.load(bty_ggr_fl)\n",
    "    \n",
    "keys = list(bty_ggr.keys())"
   ]
  },
  {
   "cell_type": "code",
   "execution_count": 16,
   "metadata": {
    "collapsed": false
   },
   "outputs": [],
   "source": [
    "import BuildConsolidatedFeaturesFile as BCF\n",
    "import importlib\n",
    "importlib.reload(BCF)\n",
    "import urllib"
   ]
  },
  {
   "cell_type": "code",
   "execution_count": 58,
   "metadata": {
    "collapsed": false
   },
   "outputs": [],
   "source": [
    "uuid_annot_map = BCF.build_feature_file_ggr(None, \"/tmp/test\")"
   ]
  },
  {
   "cell_type": "code",
   "execution_count": 17,
   "metadata": {
    "collapsed": false
   },
   "outputs": [],
   "source": [
    "aid_uuid_list = [item for sublist in list(uuid_annot_map.values()) for item in sublist if item]"
   ]
  },
  {
   "cell_type": "code",
   "execution_count": 18,
   "metadata": {
    "collapsed": false
   },
   "outputs": [
    {
     "data": {
      "text/plain": [
       "['9849a3a0-a8de-4c0a-b5db-4fa690a3578e',\n",
       " '146eab19-1ac4-46b0-90d0-72d4471fce76',\n",
       " '046bd8aa-8f77-4ae4-8048-04d86063879a',\n",
       " 'ae0730b9-816f-45fb-ba5d-c45b2fdd79fe',\n",
       " 'e41701a3-cb30-4739-bbeb-c35f46f40719',\n",
       " '48ad9ae8-43f2-499b-8755-b7e155212f61',\n",
       " 'd66d3dcf-11fd-4a3d-8522-f39e9eb0934b',\n",
       " 'b40ccf2a-3744-4e12-9a38-bab7311a5a19',\n",
       " 'fd7d18ba-a66a-4e79-8daa-58e0790b6e99',\n",
       " 'c47b15cb-3f18-4305-85b5-0d7fe67e02cc',\n",
       " 'e62eaa9c-6e6c-4ee6-ad64-5ea64a179d6f',\n",
       " '34d11736-9ed7-45c8-aa5c-e82103901130']"
      ]
     },
     "execution_count": 18,
     "metadata": {},
     "output_type": "execute_result"
    }
   ],
   "source": [
    "aid_uuid_list"
   ]
  },
  {
   "cell_type": "code",
   "execution_count": 22,
   "metadata": {
    "collapsed": true
   },
   "outputs": [],
   "source": [
    "ggr_image_form_arg = lambda x : urllib.parse.quote('image_uuid_list=') + '[{' + urllib.parse.quote('\"__UUID__\"') + ':' + urllib.parse.quote('\\\"%s\\\"' %x) + '}' + ',{' + urllib.parse.quote('\"__UUID__\"') + ':' + urllib.parse.quote('\\\"%s\\\"' %x) + '}]'"
   ]
  },
  {
   "cell_type": "code",
   "execution_count": 49,
   "metadata": {
    "collapsed": false
   },
   "outputs": [
    {
     "data": {
      "text/plain": [
       "'image_uuid_list%3D[{%22__UUID__%22:%229849a3a0-a8de-4c0a-b5db-4fa690a3578e%22}]'"
      ]
     },
     "execution_count": 49,
     "metadata": {},
     "output_type": "execute_result"
    }
   ],
   "source": [
    "GP.ggr_image_form_arg('9849a3a0-a8de-4c0a-b5db-4fa690a3578e')"
   ]
  },
  {
   "cell_type": "code",
   "execution_count": 27,
   "metadata": {
    "collapsed": true
   },
   "outputs": [],
   "source": [
    "ggr_image_form_arg = lambda x : urllib.parse.quote('image_uuid_list=') + '[{' + urllib.parse.quote('\"__UUID__\"') + ':' + urllib.parse.quote('\\\"%s\\\"' %x) + '}]'"
   ]
  },
  {
   "cell_type": "code",
   "execution_count": 46,
   "metadata": {
    "collapsed": false
   },
   "outputs": [],
   "source": [
    "ggr_image_form_arg('9849a3a0-a8de-4c0a-b5db-4fa690a3578e')\n",
    "\n",
    "data = json.dumps({\n",
    "\"passthru\" : \"/api/image/annot/uuid\", \n",
    "\"arg\" : {\n",
    "    'image_uuid_list' : json.dumps([{\"__UUID__\" : \"9849a3a0-a8de-4c0a-b5db-4fa690a3578e\" }])\n",
    "}\n",
    "})\n",
    "req = requests.request(\"GET\", url=DOMAIN, data=data)"
   ]
  },
  {
   "cell_type": "code",
   "execution_count": 16,
   "metadata": {
    "collapsed": false
   },
   "outputs": [],
   "source": [
    "ggr_contrib_form_arg = lambda x : urllib.parse.quote('contributor_tag_list=') + '[' + urllib.parse.quote('\\\"%s\\\"' %x) + ']'"
   ]
  },
  {
   "cell_type": "code",
   "execution_count": 14,
   "metadata": {
    "collapsed": false
   },
   "outputs": [
    {
     "data": {
      "text/plain": [
       "{'results': ['GGR,100,A,00000'], 'success': True}"
      ]
     },
     "execution_count": 14,
     "metadata": {},
     "output_type": "execute_result"
    }
   ],
   "source": [
    "import json\n",
    "\n",
    "DOMAIN + \"?passthru=/api/contributor/gids/unixtime/?gid_list=\"+ json.dumps([1])\n",
    "\n",
    "GP.ggr_get(\"/api/image/note/?gid_list=[1]\")\n"
   ]
  },
  {
   "cell_type": "code",
   "execution_count": 18,
   "metadata": {
    "collapsed": false
   },
   "outputs": [
    {
     "data": {
      "text/plain": [
       "'contributor_tag_list%3D[%22GGR%2C100%2CA%2C00000%22]'"
      ]
     },
     "execution_count": 18,
     "metadata": {},
     "output_type": "execute_result"
    }
   ],
   "source": [
    "# GGR.get(\"/api/contributor/gids/unixtime\")\n",
    "\n",
    "\n",
    "ggr_contrib_form_arg(\"GGR,100,A,00000\")\n"
   ]
  },
  {
   "cell_type": "code",
   "execution_count": 19,
   "metadata": {
    "collapsed": false
   },
   "outputs": [
    {
     "data": {
      "text/plain": [
       "'annot_uuid_list%3D[{%22__UUID__%22:%22blah%22}]'"
      ]
     },
     "execution_count": 19,
     "metadata": {},
     "output_type": "execute_result"
    }
   ],
   "source": [
    "GP.ggr_annot_form_arg('blah')"
   ]
  },
  {
   "cell_type": "code",
   "execution_count": 22,
   "metadata": {
    "collapsed": false
   },
   "outputs": [],
   "source": [
    "url = DOMAIN + \"?passthru=\" + \"/api/contributor/gids/unixtime\" + \"&arg=\" + \"contributor_tag_list%3D[%22GGR%2C100%2CA%2C00000%22]\""
   ]
  },
  {
   "cell_type": "code",
   "execution_count": 23,
   "metadata": {
    "collapsed": false
   },
   "outputs": [
    {
     "data": {
      "text/plain": [
       "'http://lev.cs.rpi.edu:8080/ggr/ia?passthru=/api/contributor/gids/unixtime&arg=contributor_tag_list%3D[%22GGR%2C100%2CA%2C00000%22]'"
      ]
     },
     "execution_count": 23,
     "metadata": {},
     "output_type": "execute_result"
    }
   ],
   "source": [
    "url"
   ]
  },
  {
   "cell_type": "code",
   "execution_count": 24,
   "metadata": {
    "collapsed": false
   },
   "outputs": [
    {
     "data": {
      "text/plain": [
       "{'exception': 'java.lang.RuntimeException: Failed : HTTP error code : 500',\n",
       " 'success': False}"
      ]
     },
     "execution_count": 24,
     "metadata": {},
     "output_type": "execute_result"
    }
   ],
   "source": [
    "# 45775b50-cb67-51d0-a6a6-3dd88f4fbde2\n",
    "\n",
    "GP.ggr_get(\"/api/image/lon\", GP.ggr_image_form_arg(\"45775b50-cb67-51d0-a6a6-3dd88f4fbde2\"))"
   ]
  },
  {
   "cell_type": "code",
   "execution_count": 34,
   "metadata": {
    "collapsed": false
   },
   "outputs": [],
   "source": [
    "import re\n",
    "\n",
    "keys = [re.findall(r'(.*).jpg', key)[0] for key in keys]\n",
    "\n",
    "key_dash = keys[:10]"
   ]
  },
  {
   "cell_type": "code",
   "execution_count": 43,
   "metadata": {
    "collapsed": false
   },
   "outputs": [],
   "source": [
    "uuid_gid_map = {GP.ggr_get(\"/api/image/uuid/?gid_list=[%i]\" %gid)['results'][0][\"__UUID__\"] : gid for gid in range(1,37434)}"
   ]
  },
  {
   "cell_type": "code",
   "execution_count": 40,
   "metadata": {
    "collapsed": false
   },
   "outputs": [
    {
     "name": "stdout",
     "output_type": "stream",
     "text": [
      "5ee9cb4b-b4fa-bec5-cca0-31c341d58730\n",
      "c861876f-66f4-fec7-f9b5-a97314ba3647\n",
      "01e3b8d2-a80d-547d-8897-ebb900e00595\n",
      "85f7c1c4-77fc-8b53-83c3-56bbda156da4\n",
      "f834d0d9-0fd5-c222-2419-eebb5deb090b\n",
      "36fc39fa-d931-536a-6a70-4aab322b906c\n",
      "ca0e8c7d-8758-160a-f089-8df3c208db85\n",
      "e1f85f87-6f9c-c4d0-330d-f82b81e8ab8e\n",
      "f611b15d-1e8c-a500-e8ab-d75322da209e\n",
      "f42ca8c2-f653-0f54-0653-3514e6ea1e1b\n"
     ]
    }
   ],
   "source": [
    "for i in range(1,11):\n",
    "    print(GP.ggr_get(\"/api/image/uuid/?gid_list=[%i]\" %i)['results'][0][\"__UUID__\"])"
   ]
  },
  {
   "cell_type": "code",
   "execution_count": 52,
   "metadata": {
    "collapsed": false
   },
   "outputs": [
    {
     "data": {
      "text/plain": [
       "{'01e3b8d2-a80d-547d-8897-ebb900e00595': 3,\n",
       " '36fc39fa-d931-536a-6a70-4aab322b906c': 6,\n",
       " '5ee9cb4b-b4fa-bec5-cca0-31c341d58730': 1,\n",
       " '85f7c1c4-77fc-8b53-83c3-56bbda156da4': 4,\n",
       " 'c861876f-66f4-fec7-f9b5-a97314ba3647': 2,\n",
       " 'ca0e8c7d-8758-160a-f089-8df3c208db85': 7,\n",
       " 'e1f85f87-6f9c-c4d0-330d-f82b81e8ab8e': 8,\n",
       " 'f42ca8c2-f653-0f54-0653-3514e6ea1e1b': 10,\n",
       " 'f611b15d-1e8c-a500-e8ab-d75322da209e': 9,\n",
       " 'f834d0d9-0fd5-c222-2419-eebb5deb090b': 5}"
      ]
     },
     "execution_count": 52,
     "metadata": {},
     "output_type": "execute_result"
    }
   ],
   "source": [
    "with open(\"/tmp/uuid_gid_map.json\", \"w\") as fl:\n",
    "    json.dump(uuid_gid_map, fl, indent=4)\n",
    "\n",
    "\n",
    "uuid_gid_map"
   ]
  },
  {
   "cell_type": "code",
   "execution_count": 45,
   "metadata": {
    "collapsed": true
   },
   "outputs": [],
   "source": [
    "ggr_gid_form_arg = lambda x : urllib.parse.quote('gid_list=') + '[' + urllib.parse.quote('\\\"%s\\\"' %x)  + ']'"
   ]
  },
  {
   "cell_type": "code",
   "execution_count": 47,
   "metadata": {
    "collapsed": false
   },
   "outputs": [
    {
     "data": {
      "text/plain": [
       "'gid_list%3D[%221%22]'"
      ]
     },
     "execution_count": 47,
     "metadata": {},
     "output_type": "execute_result"
    }
   ],
   "source": [
    "ggr_gid_form_arg(\"1\")"
   ]
  },
  {
   "cell_type": "code",
   "execution_count": 49,
   "metadata": {
    "collapsed": true
   },
   "outputs": [],
   "source": [
    "lat = GP.ggr_get(\"/api/image/lat\", GP.ggr_gid_form_arg(1))"
   ]
  },
  {
   "cell_type": "code",
   "execution_count": 50,
   "metadata": {
    "collapsed": false
   },
   "outputs": [
    {
     "data": {
      "text/plain": [
       "{'results': [0.27842], 'success': True}"
      ]
     },
     "execution_count": 50,
     "metadata": {},
     "output_type": "execute_result"
    }
   ],
   "source": [
    "lat"
   ]
  },
  {
   "cell_type": "code",
   "execution_count": 17,
   "metadata": {
    "collapsed": false
   },
   "outputs": [
    {
     "name": "stdout",
     "output_type": "stream",
     "text": [
      "100 seconds elapsed..!\n",
      "100 seconds elapsed..!\n",
      "100 seconds elapsed..!\n"
     ]
    },
    {
     "data": {
      "text/plain": [
       "0"
      ]
     },
     "execution_count": 17,
     "metadata": {},
     "output_type": "execute_result"
    }
   ],
   "source": [
    "BCF.build_exif_ftrs_fl_ggr(\"../data/uuid_gid_map.json\", \n",
    "                           \"../data/ggr_uuid_list.dat\",\n",
    "                           \"/tmp/test_exif.json\", 1, 10)"
   ]
  },
  {
   "cell_type": "code",
   "execution_count": 57,
   "metadata": {
    "collapsed": false
   },
   "outputs": [
    {
     "data": {
      "text/plain": [
       "37433"
      ]
     },
     "execution_count": 57,
     "metadata": {},
     "output_type": "execute_result"
    }
   ],
   "source": [
    "len(keys)"
   ]
  },
  {
   "cell_type": "code",
   "execution_count": 58,
   "metadata": {
    "collapsed": false
   },
   "outputs": [
    {
     "data": {
      "text/plain": [
       "'01e3b8d2-a80d-547d-8897-ebb900e00595'"
      ]
     },
     "execution_count": 58,
     "metadata": {},
     "output_type": "execute_result"
    }
   ],
   "source": [
    "str(u'01e3b8d2-a80d-547d-8897-ebb900e00595')"
   ]
  },
  {
   "cell_type": "code",
   "execution_count": 59,
   "metadata": {
    "collapsed": false
   },
   "outputs": [
    {
     "data": {
      "text/plain": [
       "{'results': [[]], 'success': True}"
      ]
     },
     "execution_count": 59,
     "metadata": {},
     "output_type": "execute_result"
    }
   ],
   "source": [
    "GP.ggr_get(\"/api/image/annot/uuid/json\", GP.ggr_image_form_arg(\"c6d2bfe6-629b-dcf3-4329-987968a833ee\"))"
   ]
  },
  {
   "cell_type": "code",
   "execution_count": 60,
   "metadata": {
    "collapsed": true
   },
   "outputs": [],
   "source": [
    "with open(\"../data/uuid_gid_map.json\", \"r\") as fl:\n",
    "    lst = list(json.load(fl).keys())\n",
    "    \n",
    "    \n",
    "with open(\"../data/ggr_uuid_list.dat\", \"w\") as f2:\n",
    "    f2.write(\"\\n\".join(lst))"
   ]
  },
  {
   "cell_type": "code",
   "execution_count": 19,
   "metadata": {
    "collapsed": false
   },
   "outputs": [
    {
     "ename": "KeyboardInterrupt",
     "evalue": "",
     "output_type": "error",
     "traceback": [
      "\u001b[0;31m---------------------------------------------------------------------------\u001b[0m",
      "\u001b[0;31mTypeError\u001b[0m                                 Traceback (most recent call last)",
      "\u001b[0;32m/Users/sreejithmenon/anaconda/lib/python3.5/site-packages/requests/packages/urllib3/connectionpool.py\u001b[0m in \u001b[0;36m_make_request\u001b[0;34m(self, conn, method, url, timeout, chunked, **httplib_request_kw)\u001b[0m\n\u001b[1;32m    384\u001b[0m             \u001b[0;32mtry\u001b[0m\u001b[0;34m:\u001b[0m  \u001b[0;31m# Python 2.7, use buffering of HTTP responses\u001b[0m\u001b[0;34m\u001b[0m\u001b[0m\n\u001b[0;32m--> 385\u001b[0;31m                 \u001b[0mhttplib_response\u001b[0m \u001b[0;34m=\u001b[0m \u001b[0mconn\u001b[0m\u001b[0;34m.\u001b[0m\u001b[0mgetresponse\u001b[0m\u001b[0;34m(\u001b[0m\u001b[0mbuffering\u001b[0m\u001b[0;34m=\u001b[0m\u001b[0;32mTrue\u001b[0m\u001b[0;34m)\u001b[0m\u001b[0;34m\u001b[0m\u001b[0m\n\u001b[0m\u001b[1;32m    386\u001b[0m             \u001b[0;32mexcept\u001b[0m \u001b[0mTypeError\u001b[0m\u001b[0;34m:\u001b[0m  \u001b[0;31m# Python 2.6 and older\u001b[0m\u001b[0;34m\u001b[0m\u001b[0m\n",
      "\u001b[0;31mTypeError\u001b[0m: getresponse() got an unexpected keyword argument 'buffering'",
      "\nDuring handling of the above exception, another exception occurred:\n",
      "\u001b[0;31mKeyboardInterrupt\u001b[0m                         Traceback (most recent call last)",
      "\u001b[0;32m<ipython-input-19-734e7a1b4d30>\u001b[0m in \u001b[0;36m<module>\u001b[0;34m()\u001b[0m\n\u001b[0;32m----> 1\u001b[0;31m \u001b[0muuid_gid_map\u001b[0m \u001b[0;34m=\u001b[0m \u001b[0;34m{\u001b[0m\u001b[0mGP\u001b[0m\u001b[0;34m.\u001b[0m\u001b[0mggr_get\u001b[0m\u001b[0;34m(\u001b[0m\u001b[0;34m\"/api/image/uuid/?gid_list=[%i]\"\u001b[0m \u001b[0;34m%\u001b[0m\u001b[0mgid\u001b[0m\u001b[0;34m)\u001b[0m\u001b[0;34m[\u001b[0m\u001b[0;34m'results'\u001b[0m\u001b[0;34m]\u001b[0m\u001b[0;34m[\u001b[0m\u001b[0;36m0\u001b[0m\u001b[0;34m]\u001b[0m\u001b[0;34m[\u001b[0m\u001b[0;34m\"__UUID__\"\u001b[0m\u001b[0;34m]\u001b[0m \u001b[0;34m:\u001b[0m \u001b[0mgid\u001b[0m \u001b[0;32mfor\u001b[0m \u001b[0mgid\u001b[0m \u001b[0;32min\u001b[0m \u001b[0mrange\u001b[0m\u001b[0;34m(\u001b[0m\u001b[0;36m1\u001b[0m\u001b[0;34m,\u001b[0m\u001b[0;36m37434\u001b[0m\u001b[0;34m)\u001b[0m\u001b[0;34m}\u001b[0m\u001b[0;34m\u001b[0m\u001b[0m\n\u001b[0m",
      "\u001b[0;32m<ipython-input-19-734e7a1b4d30>\u001b[0m in \u001b[0;36m<dictcomp>\u001b[0;34m(.0)\u001b[0m\n\u001b[0;32m----> 1\u001b[0;31m \u001b[0muuid_gid_map\u001b[0m \u001b[0;34m=\u001b[0m \u001b[0;34m{\u001b[0m\u001b[0mGP\u001b[0m\u001b[0;34m.\u001b[0m\u001b[0mggr_get\u001b[0m\u001b[0;34m(\u001b[0m\u001b[0;34m\"/api/image/uuid/?gid_list=[%i]\"\u001b[0m \u001b[0;34m%\u001b[0m\u001b[0mgid\u001b[0m\u001b[0;34m)\u001b[0m\u001b[0;34m[\u001b[0m\u001b[0;34m'results'\u001b[0m\u001b[0;34m]\u001b[0m\u001b[0;34m[\u001b[0m\u001b[0;36m0\u001b[0m\u001b[0;34m]\u001b[0m\u001b[0;34m[\u001b[0m\u001b[0;34m\"__UUID__\"\u001b[0m\u001b[0;34m]\u001b[0m \u001b[0;34m:\u001b[0m \u001b[0mgid\u001b[0m \u001b[0;32mfor\u001b[0m \u001b[0mgid\u001b[0m \u001b[0;32min\u001b[0m \u001b[0mrange\u001b[0m\u001b[0;34m(\u001b[0m\u001b[0;36m1\u001b[0m\u001b[0;34m,\u001b[0m\u001b[0;36m37434\u001b[0m\u001b[0;34m)\u001b[0m\u001b[0;34m}\u001b[0m\u001b[0;34m\u001b[0m\u001b[0m\n\u001b[0m",
      "\u001b[0;32m/Users/sreejithmenon/Google Drive/CodeBase/AWESOME/script/GetPropertiesAPI.py\u001b[0m in \u001b[0;36mggr_get\u001b[0;34m(passthru, arg)\u001b[0m\n\u001b[1;32m     83\u001b[0m         \u001b[0murl\u001b[0m \u001b[0;34m=\u001b[0m \u001b[0mggr_base\u001b[0m \u001b[0;34m+\u001b[0m \u001b[0;34m\"?passthru=\"\u001b[0m \u001b[0;34m+\u001b[0m \u001b[0mpassthru\u001b[0m\u001b[0;34m\u001b[0m\u001b[0m\n\u001b[1;32m     84\u001b[0m \u001b[0;34m\u001b[0m\u001b[0m\n\u001b[0;32m---> 85\u001b[0;31m     \u001b[0mresponse\u001b[0m \u001b[0;34m=\u001b[0m \u001b[0mrequests\u001b[0m\u001b[0;34m.\u001b[0m\u001b[0mget\u001b[0m\u001b[0;34m(\u001b[0m\u001b[0murl\u001b[0m\u001b[0;34m)\u001b[0m\u001b[0;34m\u001b[0m\u001b[0m\n\u001b[0m\u001b[1;32m     86\u001b[0m \u001b[0;34m\u001b[0m\u001b[0m\n\u001b[1;32m     87\u001b[0m     \u001b[0;32mreturn\u001b[0m \u001b[0mresponse\u001b[0m\u001b[0;34m.\u001b[0m\u001b[0mjson\u001b[0m\u001b[0;34m(\u001b[0m\u001b[0;34m)\u001b[0m\u001b[0;34m\u001b[0m\u001b[0m\n",
      "\u001b[0;32m/Users/sreejithmenon/anaconda/lib/python3.5/site-packages/requests/api.py\u001b[0m in \u001b[0;36mget\u001b[0;34m(url, params, **kwargs)\u001b[0m\n\u001b[1;32m     69\u001b[0m \u001b[0;34m\u001b[0m\u001b[0m\n\u001b[1;32m     70\u001b[0m     \u001b[0mkwargs\u001b[0m\u001b[0;34m.\u001b[0m\u001b[0msetdefault\u001b[0m\u001b[0;34m(\u001b[0m\u001b[0;34m'allow_redirects'\u001b[0m\u001b[0;34m,\u001b[0m \u001b[0;32mTrue\u001b[0m\u001b[0;34m)\u001b[0m\u001b[0;34m\u001b[0m\u001b[0m\n\u001b[0;32m---> 71\u001b[0;31m     \u001b[0;32mreturn\u001b[0m \u001b[0mrequest\u001b[0m\u001b[0;34m(\u001b[0m\u001b[0;34m'get'\u001b[0m\u001b[0;34m,\u001b[0m \u001b[0murl\u001b[0m\u001b[0;34m,\u001b[0m \u001b[0mparams\u001b[0m\u001b[0;34m=\u001b[0m\u001b[0mparams\u001b[0m\u001b[0;34m,\u001b[0m \u001b[0;34m**\u001b[0m\u001b[0mkwargs\u001b[0m\u001b[0;34m)\u001b[0m\u001b[0;34m\u001b[0m\u001b[0m\n\u001b[0m\u001b[1;32m     72\u001b[0m \u001b[0;34m\u001b[0m\u001b[0m\n\u001b[1;32m     73\u001b[0m \u001b[0;34m\u001b[0m\u001b[0m\n",
      "\u001b[0;32m/Users/sreejithmenon/anaconda/lib/python3.5/site-packages/requests/api.py\u001b[0m in \u001b[0;36mrequest\u001b[0;34m(method, url, **kwargs)\u001b[0m\n\u001b[1;32m     55\u001b[0m     \u001b[0;31m# cases, and look like a memory leak in others.\u001b[0m\u001b[0;34m\u001b[0m\u001b[0;34m\u001b[0m\u001b[0m\n\u001b[1;32m     56\u001b[0m     \u001b[0;32mwith\u001b[0m \u001b[0msessions\u001b[0m\u001b[0;34m.\u001b[0m\u001b[0mSession\u001b[0m\u001b[0;34m(\u001b[0m\u001b[0;34m)\u001b[0m \u001b[0;32mas\u001b[0m \u001b[0msession\u001b[0m\u001b[0;34m:\u001b[0m\u001b[0;34m\u001b[0m\u001b[0m\n\u001b[0;32m---> 57\u001b[0;31m         \u001b[0;32mreturn\u001b[0m \u001b[0msession\u001b[0m\u001b[0;34m.\u001b[0m\u001b[0mrequest\u001b[0m\u001b[0;34m(\u001b[0m\u001b[0mmethod\u001b[0m\u001b[0;34m=\u001b[0m\u001b[0mmethod\u001b[0m\u001b[0;34m,\u001b[0m \u001b[0murl\u001b[0m\u001b[0;34m=\u001b[0m\u001b[0murl\u001b[0m\u001b[0;34m,\u001b[0m \u001b[0;34m**\u001b[0m\u001b[0mkwargs\u001b[0m\u001b[0;34m)\u001b[0m\u001b[0;34m\u001b[0m\u001b[0m\n\u001b[0m\u001b[1;32m     58\u001b[0m \u001b[0;34m\u001b[0m\u001b[0m\n\u001b[1;32m     59\u001b[0m \u001b[0;34m\u001b[0m\u001b[0m\n",
      "\u001b[0;32m/Users/sreejithmenon/anaconda/lib/python3.5/site-packages/requests/sessions.py\u001b[0m in \u001b[0;36mrequest\u001b[0;34m(self, method, url, params, data, headers, cookies, files, auth, timeout, allow_redirects, proxies, hooks, stream, verify, cert, json)\u001b[0m\n\u001b[1;32m    473\u001b[0m         }\n\u001b[1;32m    474\u001b[0m         \u001b[0msend_kwargs\u001b[0m\u001b[0;34m.\u001b[0m\u001b[0mupdate\u001b[0m\u001b[0;34m(\u001b[0m\u001b[0msettings\u001b[0m\u001b[0;34m)\u001b[0m\u001b[0;34m\u001b[0m\u001b[0m\n\u001b[0;32m--> 475\u001b[0;31m         \u001b[0mresp\u001b[0m \u001b[0;34m=\u001b[0m \u001b[0mself\u001b[0m\u001b[0;34m.\u001b[0m\u001b[0msend\u001b[0m\u001b[0;34m(\u001b[0m\u001b[0mprep\u001b[0m\u001b[0;34m,\u001b[0m \u001b[0;34m**\u001b[0m\u001b[0msend_kwargs\u001b[0m\u001b[0;34m)\u001b[0m\u001b[0;34m\u001b[0m\u001b[0m\n\u001b[0m\u001b[1;32m    476\u001b[0m \u001b[0;34m\u001b[0m\u001b[0m\n\u001b[1;32m    477\u001b[0m         \u001b[0;32mreturn\u001b[0m \u001b[0mresp\u001b[0m\u001b[0;34m\u001b[0m\u001b[0m\n",
      "\u001b[0;32m/Users/sreejithmenon/anaconda/lib/python3.5/site-packages/requests/sessions.py\u001b[0m in \u001b[0;36msend\u001b[0;34m(self, request, **kwargs)\u001b[0m\n\u001b[1;32m    583\u001b[0m \u001b[0;34m\u001b[0m\u001b[0m\n\u001b[1;32m    584\u001b[0m         \u001b[0;31m# Send the request\u001b[0m\u001b[0;34m\u001b[0m\u001b[0;34m\u001b[0m\u001b[0m\n\u001b[0;32m--> 585\u001b[0;31m         \u001b[0mr\u001b[0m \u001b[0;34m=\u001b[0m \u001b[0madapter\u001b[0m\u001b[0;34m.\u001b[0m\u001b[0msend\u001b[0m\u001b[0;34m(\u001b[0m\u001b[0mrequest\u001b[0m\u001b[0;34m,\u001b[0m \u001b[0;34m**\u001b[0m\u001b[0mkwargs\u001b[0m\u001b[0;34m)\u001b[0m\u001b[0;34m\u001b[0m\u001b[0m\n\u001b[0m\u001b[1;32m    586\u001b[0m \u001b[0;34m\u001b[0m\u001b[0m\n\u001b[1;32m    587\u001b[0m         \u001b[0;31m# Total elapsed time of the request (approximately)\u001b[0m\u001b[0;34m\u001b[0m\u001b[0;34m\u001b[0m\u001b[0m\n",
      "\u001b[0;32m/Users/sreejithmenon/anaconda/lib/python3.5/site-packages/requests/adapters.py\u001b[0m in \u001b[0;36msend\u001b[0;34m(self, request, stream, timeout, verify, cert, proxies)\u001b[0m\n\u001b[1;32m    401\u001b[0m                     \u001b[0mdecode_content\u001b[0m\u001b[0;34m=\u001b[0m\u001b[0;32mFalse\u001b[0m\u001b[0;34m,\u001b[0m\u001b[0;34m\u001b[0m\u001b[0m\n\u001b[1;32m    402\u001b[0m                     \u001b[0mretries\u001b[0m\u001b[0;34m=\u001b[0m\u001b[0mself\u001b[0m\u001b[0;34m.\u001b[0m\u001b[0mmax_retries\u001b[0m\u001b[0;34m,\u001b[0m\u001b[0;34m\u001b[0m\u001b[0m\n\u001b[0;32m--> 403\u001b[0;31m                     \u001b[0mtimeout\u001b[0m\u001b[0;34m=\u001b[0m\u001b[0mtimeout\u001b[0m\u001b[0;34m\u001b[0m\u001b[0m\n\u001b[0m\u001b[1;32m    404\u001b[0m                 )\n\u001b[1;32m    405\u001b[0m \u001b[0;34m\u001b[0m\u001b[0m\n",
      "\u001b[0;32m/Users/sreejithmenon/anaconda/lib/python3.5/site-packages/requests/packages/urllib3/connectionpool.py\u001b[0m in \u001b[0;36murlopen\u001b[0;34m(self, method, url, body, headers, retries, redirect, assert_same_host, timeout, pool_timeout, release_conn, chunked, **response_kw)\u001b[0m\n\u001b[1;32m    576\u001b[0m                                                   \u001b[0mtimeout\u001b[0m\u001b[0;34m=\u001b[0m\u001b[0mtimeout_obj\u001b[0m\u001b[0;34m,\u001b[0m\u001b[0;34m\u001b[0m\u001b[0m\n\u001b[1;32m    577\u001b[0m                                                   \u001b[0mbody\u001b[0m\u001b[0;34m=\u001b[0m\u001b[0mbody\u001b[0m\u001b[0;34m,\u001b[0m \u001b[0mheaders\u001b[0m\u001b[0;34m=\u001b[0m\u001b[0mheaders\u001b[0m\u001b[0;34m,\u001b[0m\u001b[0;34m\u001b[0m\u001b[0m\n\u001b[0;32m--> 578\u001b[0;31m                                                   chunked=chunked)\n\u001b[0m\u001b[1;32m    579\u001b[0m \u001b[0;34m\u001b[0m\u001b[0m\n\u001b[1;32m    580\u001b[0m             \u001b[0;31m# If we're going to release the connection in ``finally:``, then\u001b[0m\u001b[0;34m\u001b[0m\u001b[0;34m\u001b[0m\u001b[0m\n",
      "\u001b[0;32m/Users/sreejithmenon/anaconda/lib/python3.5/site-packages/requests/packages/urllib3/connectionpool.py\u001b[0m in \u001b[0;36m_make_request\u001b[0;34m(self, conn, method, url, timeout, chunked, **httplib_request_kw)\u001b[0m\n\u001b[1;32m    385\u001b[0m                 \u001b[0mhttplib_response\u001b[0m \u001b[0;34m=\u001b[0m \u001b[0mconn\u001b[0m\u001b[0;34m.\u001b[0m\u001b[0mgetresponse\u001b[0m\u001b[0;34m(\u001b[0m\u001b[0mbuffering\u001b[0m\u001b[0;34m=\u001b[0m\u001b[0;32mTrue\u001b[0m\u001b[0;34m)\u001b[0m\u001b[0;34m\u001b[0m\u001b[0m\n\u001b[1;32m    386\u001b[0m             \u001b[0;32mexcept\u001b[0m \u001b[0mTypeError\u001b[0m\u001b[0;34m:\u001b[0m  \u001b[0;31m# Python 2.6 and older\u001b[0m\u001b[0;34m\u001b[0m\u001b[0m\n\u001b[0;32m--> 387\u001b[0;31m                 \u001b[0mhttplib_response\u001b[0m \u001b[0;34m=\u001b[0m \u001b[0mconn\u001b[0m\u001b[0;34m.\u001b[0m\u001b[0mgetresponse\u001b[0m\u001b[0;34m(\u001b[0m\u001b[0;34m)\u001b[0m\u001b[0;34m\u001b[0m\u001b[0m\n\u001b[0m\u001b[1;32m    388\u001b[0m         \u001b[0;32mexcept\u001b[0m \u001b[0;34m(\u001b[0m\u001b[0mSocketTimeout\u001b[0m\u001b[0;34m,\u001b[0m \u001b[0mBaseSSLError\u001b[0m\u001b[0;34m,\u001b[0m \u001b[0mSocketError\u001b[0m\u001b[0;34m)\u001b[0m \u001b[0;32mas\u001b[0m \u001b[0me\u001b[0m\u001b[0;34m:\u001b[0m\u001b[0;34m\u001b[0m\u001b[0m\n\u001b[1;32m    389\u001b[0m             \u001b[0mself\u001b[0m\u001b[0;34m.\u001b[0m\u001b[0m_raise_timeout\u001b[0m\u001b[0;34m(\u001b[0m\u001b[0merr\u001b[0m\u001b[0;34m=\u001b[0m\u001b[0me\u001b[0m\u001b[0;34m,\u001b[0m \u001b[0murl\u001b[0m\u001b[0;34m=\u001b[0m\u001b[0murl\u001b[0m\u001b[0;34m,\u001b[0m \u001b[0mtimeout_value\u001b[0m\u001b[0;34m=\u001b[0m\u001b[0mread_timeout\u001b[0m\u001b[0;34m)\u001b[0m\u001b[0;34m\u001b[0m\u001b[0m\n",
      "\u001b[0;32m/Users/sreejithmenon/anaconda/lib/python3.5/http/client.py\u001b[0m in \u001b[0;36mgetresponse\u001b[0;34m(self)\u001b[0m\n\u001b[1;32m   1195\u001b[0m         \u001b[0;32mtry\u001b[0m\u001b[0;34m:\u001b[0m\u001b[0;34m\u001b[0m\u001b[0m\n\u001b[1;32m   1196\u001b[0m             \u001b[0;32mtry\u001b[0m\u001b[0;34m:\u001b[0m\u001b[0;34m\u001b[0m\u001b[0m\n\u001b[0;32m-> 1197\u001b[0;31m                 \u001b[0mresponse\u001b[0m\u001b[0;34m.\u001b[0m\u001b[0mbegin\u001b[0m\u001b[0;34m(\u001b[0m\u001b[0;34m)\u001b[0m\u001b[0;34m\u001b[0m\u001b[0m\n\u001b[0m\u001b[1;32m   1198\u001b[0m             \u001b[0;32mexcept\u001b[0m \u001b[0mConnectionError\u001b[0m\u001b[0;34m:\u001b[0m\u001b[0;34m\u001b[0m\u001b[0m\n\u001b[1;32m   1199\u001b[0m                 \u001b[0mself\u001b[0m\u001b[0;34m.\u001b[0m\u001b[0mclose\u001b[0m\u001b[0;34m(\u001b[0m\u001b[0;34m)\u001b[0m\u001b[0;34m\u001b[0m\u001b[0m\n",
      "\u001b[0;32m/Users/sreejithmenon/anaconda/lib/python3.5/http/client.py\u001b[0m in \u001b[0;36mbegin\u001b[0;34m(self)\u001b[0m\n\u001b[1;32m    295\u001b[0m         \u001b[0;31m# read until we get a non-100 response\u001b[0m\u001b[0;34m\u001b[0m\u001b[0;34m\u001b[0m\u001b[0m\n\u001b[1;32m    296\u001b[0m         \u001b[0;32mwhile\u001b[0m \u001b[0;32mTrue\u001b[0m\u001b[0;34m:\u001b[0m\u001b[0;34m\u001b[0m\u001b[0m\n\u001b[0;32m--> 297\u001b[0;31m             \u001b[0mversion\u001b[0m\u001b[0;34m,\u001b[0m \u001b[0mstatus\u001b[0m\u001b[0;34m,\u001b[0m \u001b[0mreason\u001b[0m \u001b[0;34m=\u001b[0m \u001b[0mself\u001b[0m\u001b[0;34m.\u001b[0m\u001b[0m_read_status\u001b[0m\u001b[0;34m(\u001b[0m\u001b[0;34m)\u001b[0m\u001b[0;34m\u001b[0m\u001b[0m\n\u001b[0m\u001b[1;32m    298\u001b[0m             \u001b[0;32mif\u001b[0m \u001b[0mstatus\u001b[0m \u001b[0;34m!=\u001b[0m \u001b[0mCONTINUE\u001b[0m\u001b[0;34m:\u001b[0m\u001b[0;34m\u001b[0m\u001b[0m\n\u001b[1;32m    299\u001b[0m                 \u001b[0;32mbreak\u001b[0m\u001b[0;34m\u001b[0m\u001b[0m\n",
      "\u001b[0;32m/Users/sreejithmenon/anaconda/lib/python3.5/http/client.py\u001b[0m in \u001b[0;36m_read_status\u001b[0;34m(self)\u001b[0m\n\u001b[1;32m    256\u001b[0m \u001b[0;34m\u001b[0m\u001b[0m\n\u001b[1;32m    257\u001b[0m     \u001b[0;32mdef\u001b[0m \u001b[0m_read_status\u001b[0m\u001b[0;34m(\u001b[0m\u001b[0mself\u001b[0m\u001b[0;34m)\u001b[0m\u001b[0;34m:\u001b[0m\u001b[0;34m\u001b[0m\u001b[0m\n\u001b[0;32m--> 258\u001b[0;31m         \u001b[0mline\u001b[0m \u001b[0;34m=\u001b[0m \u001b[0mstr\u001b[0m\u001b[0;34m(\u001b[0m\u001b[0mself\u001b[0m\u001b[0;34m.\u001b[0m\u001b[0mfp\u001b[0m\u001b[0;34m.\u001b[0m\u001b[0mreadline\u001b[0m\u001b[0;34m(\u001b[0m\u001b[0m_MAXLINE\u001b[0m \u001b[0;34m+\u001b[0m \u001b[0;36m1\u001b[0m\u001b[0;34m)\u001b[0m\u001b[0;34m,\u001b[0m \u001b[0;34m\"iso-8859-1\"\u001b[0m\u001b[0;34m)\u001b[0m\u001b[0;34m\u001b[0m\u001b[0m\n\u001b[0m\u001b[1;32m    259\u001b[0m         \u001b[0;32mif\u001b[0m \u001b[0mlen\u001b[0m\u001b[0;34m(\u001b[0m\u001b[0mline\u001b[0m\u001b[0;34m)\u001b[0m \u001b[0;34m>\u001b[0m \u001b[0m_MAXLINE\u001b[0m\u001b[0;34m:\u001b[0m\u001b[0;34m\u001b[0m\u001b[0m\n\u001b[1;32m    260\u001b[0m             \u001b[0;32mraise\u001b[0m \u001b[0mLineTooLong\u001b[0m\u001b[0;34m(\u001b[0m\u001b[0;34m\"status line\"\u001b[0m\u001b[0;34m)\u001b[0m\u001b[0;34m\u001b[0m\u001b[0m\n",
      "\u001b[0;32m/Users/sreejithmenon/anaconda/lib/python3.5/socket.py\u001b[0m in \u001b[0;36mreadinto\u001b[0;34m(self, b)\u001b[0m\n\u001b[1;32m    573\u001b[0m         \u001b[0;32mwhile\u001b[0m \u001b[0;32mTrue\u001b[0m\u001b[0;34m:\u001b[0m\u001b[0;34m\u001b[0m\u001b[0m\n\u001b[1;32m    574\u001b[0m             \u001b[0;32mtry\u001b[0m\u001b[0;34m:\u001b[0m\u001b[0;34m\u001b[0m\u001b[0m\n\u001b[0;32m--> 575\u001b[0;31m                 \u001b[0;32mreturn\u001b[0m \u001b[0mself\u001b[0m\u001b[0;34m.\u001b[0m\u001b[0m_sock\u001b[0m\u001b[0;34m.\u001b[0m\u001b[0mrecv_into\u001b[0m\u001b[0;34m(\u001b[0m\u001b[0mb\u001b[0m\u001b[0;34m)\u001b[0m\u001b[0;34m\u001b[0m\u001b[0m\n\u001b[0m\u001b[1;32m    576\u001b[0m             \u001b[0;32mexcept\u001b[0m \u001b[0mtimeout\u001b[0m\u001b[0;34m:\u001b[0m\u001b[0;34m\u001b[0m\u001b[0m\n\u001b[1;32m    577\u001b[0m                 \u001b[0mself\u001b[0m\u001b[0;34m.\u001b[0m\u001b[0m_timeout_occurred\u001b[0m \u001b[0;34m=\u001b[0m \u001b[0;32mTrue\u001b[0m\u001b[0;34m\u001b[0m\u001b[0m\n",
      "\u001b[0;31mKeyboardInterrupt\u001b[0m: "
     ]
    }
   ],
   "source": [
    "uuid_gid_map = {GP.ggr_get(\"/api/image/uuid/?gid_list=[%i]\" %gid)['results'][0][\"__UUID__\"] : gid for gid in range(1,40811)}"
   ]
  },
  {
   "cell_type": "code",
   "execution_count": 1,
   "metadata": {
    "collapsed": true
   },
   "outputs": [],
   "source": [
    "import requests\n",
    "import UploadAndDetectIBEIS as UD"
   ]
  },
  {
   "cell_type": "code",
   "execution_count": null,
   "metadata": {
    "collapsed": true
   },
   "outputs": [],
   "source": [
    "data_dict = {\n",
    "        'aid_list': [1],\n",
    "    }\n",
    "\n",
    "data_dict_2 = {\n",
    "        'aid_list' : [2,3,4,5,6]\n",
    "}\n",
    "\n",
    "annot_uuid_list = get('api/annot/uuid', data_dict)\n",
    "d_annot_uuid_list = tmux \n",
    "\n",
    "url = \"http://pachy.cs.uic.edu:5001/api/engine/query/graph/\"\n",
    "data_dict = {\n",
    "        'query_annot_uuid_list' : json.dumps([annot_uuid_list[0]])\n",
    "    }\n",
    "response = requests.request('POST', url, data=data_dict)"
   ]
  },
  {
   "cell_type": "code",
   "execution_count": 2,
   "metadata": {
    "collapsed": false
   },
   "outputs": [
    {
     "name": "stdout",
     "output_type": "stream",
     "text": [
      "Uploading 1.png\n"
     ]
    }
   ],
   "source": [
    "gid = UD.upload(\"/Users/sreejithmenon/Downloads/1.png\")"
   ]
  },
  {
   "cell_type": "code",
   "execution_count": 8,
   "metadata": {
    "collapsed": false
   },
   "outputs": [
    {
     "name": "stdout",
     "output_type": "stream",
     "text": [
      "Uploading grevys.jpg\n"
     ]
    }
   ],
   "source": [
    "gid = UD.upload(\"/Users/sreejithmenon/Downloads/grevys.jpg\")"
   ]
  },
  {
   "cell_type": "code",
   "execution_count": 9,
   "metadata": {
    "collapsed": false
   },
   "outputs": [
    {
     "name": "stdout",
     "output_type": "stream",
     "text": [
      "image_uuid 100179933493040723424924051926533554515\n",
      "\n",
      "Annot aid_list    = [4]\n",
      "      bboxes      = [[134, 51, 339, 229]]\n",
      "      thetas      = [0.0]\n",
      "      species     = ['zebra_grevys']\n",
      "      confidences = [0.7388371229171753]\n",
      "      notes       = ['cnnyolodetect']\n",
      "\n",
      "Deleting aid_list = [4]\n",
      "      bboxes      = [None]\n",
      "      thetas      = [None]\n",
      "      species     = ['____']\n",
      "      confidences = [None]\n",
      "      notes       = [None]\n",
      "\n",
      "Engine Job ID     = 'jobid-0003'\n",
      "\t Checking status...\n",
      "\t Checking status...\n",
      "\t Checking status...\n",
      "\t Checking status...\n",
      "\t Checking status...\n",
      "\t Checking status...\n",
      "\t Checking status...\n",
      "\t Checking status...\n",
      "\t Checking status...\n",
      "\t Checking status...\n",
      "\t Checking status...\n",
      "\t Checking status...\n",
      "\t Checking status...\n",
      "\t Checking status...\n",
      "\t Checking status...\n",
      "\t Checking status...\n",
      "\t Checking status...\n",
      "\t Checking status...\n",
      "\t Checking status...\n",
      "\t Checking status...\n",
      "\t Checking status...\n",
      "\t Checking status...\n",
      "\t Checking status...\n",
      "\t Checking status...\n",
      "\t Checking status...\n",
      "\t Checking status...\n",
      "\t Checking status...\n",
      "\t Checking status...\n",
      "\t Checking status...\n",
      "\t Checking status...\n",
      "\t Checking status...\n",
      "\t Checking status...\n",
      "\t Checking status...\n",
      "Engine Detections = [{'height': 229, 'xtl': 134, 'ytl': 51, 'confidence': 0.7388, 'theta': 0.0, 'class': 'zebra_grevys', 'width': 339}]\n",
      "\n",
      "Annot aid_list    = [4]\n",
      "      bboxes      = [[134, 51, 339, 229]]\n",
      "      thetas      = [0.0]\n",
      "      species     = ['zebra_grevys']\n",
      "      confidences = [0.0]\n",
      "      notes       = ['']\n",
      "\n",
      "Notes on aid_list = [4]\n",
      "      bboxes      = [[134, 51, 339, 229]]\n",
      "      thetas      = [0.0]\n",
      "      species     = ['zebra_grevys']\n",
      "      confidences = [0.0]\n",
      "      notes       = ['Flickr_Image']\n"
     ]
    }
   ],
   "source": [
    "UD.run_detection_task(3)"
   ]
  },
  {
   "cell_type": "code",
   "execution_count": 10,
   "metadata": {
    "collapsed": true
   },
   "outputs": [],
   "source": [
    "l = [1,2,3,4,5,6]"
   ]
  },
  {
   "cell_type": "code",
   "execution_count": 12,
   "metadata": {
    "collapsed": false
   },
   "outputs": [],
   "source": [
    "l.remove(1)"
   ]
  },
  {
   "cell_type": "code",
   "execution_count": 73,
   "metadata": {
    "collapsed": false
   },
   "outputs": [
    {
     "data": {
      "text/plain": [
       "<module 'UploadAndDetectIBEIS' from '/Users/sreejithmenon/Google Drive/CodeBase/AWESOME/script/UploadAndDetectIBEIS.py'>"
      ]
     },
     "execution_count": 73,
     "metadata": {},
     "output_type": "execute_result"
    }
   ],
   "source": [
    "import json, re\n",
    "import importlib\n",
    "importlib.reload(UD)"
   ]
  },
  {
   "cell_type": "code",
   "execution_count": 50,
   "metadata": {
    "collapsed": false
   },
   "outputs": [
    {
     "data": {
      "text/plain": [
       "[{'__UUID__': 'c79850f8-f4f9-4557-8091-d742bb2cd501'},\n",
       " {'__UUID__': 'ce2802a4-e805-47b6-a4f4-a8ecdf97c3c6'},\n",
       " {'__UUID__': '0bfaf2f9-0bed-480d-b7ee-afae456b55cc'},\n",
       " {'__UUID__': '9584654d-2079-446b-9543-3e8407f9e8e4'},\n",
       " {'__UUID__': '494c9698-ca26-4aa2-8ec6-a5cff35b7210'},\n",
       " {'__UUID__': 'bd073849-c5d5-48b2-a448-55553a9d4c3b'},\n",
       " {'__UUID__': '31206571-b141-487a-a3f2-5affba577198'},\n",
       " {'__UUID__': 'abf32865-48ca-4c67-b87f-f8d86f2036fb'},\n",
       " {'__UUID__': '29a75dab-c4ac-4116-b849-e8329518b963'},\n",
       " {'__UUID__': '927f6330-4de3-4064-b1c2-3ffe18e417f0'},\n",
       " {'__UUID__': '47ee11e6-76ad-4ee9-a468-1cf7ff87fe6a'},\n",
       " {'__UUID__': '30efd587-c409-496e-9864-a8b2b0646470'},\n",
       " {'__UUID__': '212c066d-9df9-4725-8820-b95b9e1768f8'},\n",
       " {'__UUID__': '6dd8e18d-0326-4dec-84aa-33092330984c'},\n",
       " {'__UUID__': 'd78c26bb-aff2-483b-ad60-547b6254bb77'},\n",
       " {'__UUID__': '0625b251-2dfe-49e0-ae65-6f8464f27694'},\n",
       " {'__UUID__': '470a7f7a-30ea-4893-930f-d788c75f65e5'},\n",
       " {'__UUID__': 'b9270764-5e65-4d0b-88ab-a323b410db9e'},\n",
       " {'__UUID__': 'e322432b-a4a6-4a61-8d97-ab40f4138821'},\n",
       " {'__UUID__': '5b123afd-5c78-43db-9f00-db7ef7ce0aaf'},\n",
       " {'__UUID__': 'aa2d8189-96f3-4eac-b55a-b277cff5ca0c'},\n",
       " {'__UUID__': '879f08ef-ac8c-47d5-93c2-713828429d30'},\n",
       " {'__UUID__': '13f18fec-251b-4f65-b8a5-be351fb5468f'},\n",
       " {'__UUID__': '1ed1c962-be51-4ab6-839a-12c57826add2'},\n",
       " {'__UUID__': 'c821809d-781f-40be-a610-343afd21648f'},\n",
       " {'__UUID__': '39a4c812-d571-4e24-afea-e855210d70a7'},\n",
       " {'__UUID__': '88cf1945-6910-434e-baa5-44fee38be3fb'},\n",
       " {'__UUID__': 'a30ebe3e-a0e6-4e42-90da-dff14625eb10'},\n",
       " {'__UUID__': '6810f8be-e72f-477d-83f2-9e70dbd140f0'},\n",
       " {'__UUID__': '35755d30-6dfc-48e5-b502-82cfc74c803e'},\n",
       " {'__UUID__': '88c23b3f-ca96-4abe-b484-9de8280d4902'},\n",
       " {'__UUID__': 'f64e4324-44ac-4e68-9ca3-7ac9c67ad6cc'},\n",
       " {'__UUID__': 'b0487fff-a39c-4773-8fc2-322c397a043e'},\n",
       " {'__UUID__': '9e7589ab-4546-41a6-9e1d-a21a58782209'},\n",
       " {'__UUID__': '1e30f007-da58-4d4b-b4dc-cb4b9cab4541'},\n",
       " {'__UUID__': 'ad2b4ad6-ee84-404f-b845-1ada34f7bff3'},\n",
       " {'__UUID__': 'c1bbbd0b-eccb-4126-a017-b238d29e70f2'},\n",
       " {'__UUID__': '1fff3141-2a9a-4f2e-af9d-6eb8f826e2d0'},\n",
       " {'__UUID__': '458ff320-2c97-41a7-aef4-31a9951ac36b'},\n",
       " {'__UUID__': 'c6256f7e-9a5f-48e8-8b95-fd2eb2ad7623'},\n",
       " {'__UUID__': '20f4ccf9-bfc7-4d50-bef0-420061b56579'},\n",
       " {'__UUID__': '83341921-6938-48fa-bed7-5bad1ae510c2'},\n",
       " {'__UUID__': 'f909caef-12bb-4641-ae3b-78cfd127c7b0'},\n",
       " {'__UUID__': '4fae2f62-5e8e-493b-a783-36afef8caceb'},\n",
       " {'__UUID__': '0e9f02f9-56a1-49d5-a640-7b7ecbb26bb1'},\n",
       " {'__UUID__': 'bee4cea0-488a-44cf-8bc5-ec82473df54a'},\n",
       " {'__UUID__': '67d3dc9d-0035-410d-91cb-b0623bc9c506'},\n",
       " {'__UUID__': 'bda9dca7-0ffb-4468-ab1f-22a9eeec39d7'},\n",
       " {'__UUID__': '2e6e4217-63fd-46af-88e3-2f54cb88ddc9'},\n",
       " {'__UUID__': 'c8d776b8-9e97-406b-86a4-13d821cd63db'},\n",
       " {'__UUID__': '5cce8abb-3e5a-4362-9b61-36eeae251934'},\n",
       " {'__UUID__': 'af819b03-1547-4a3b-a3cf-ce0dc031b235'},\n",
       " {'__UUID__': '6e22b2e2-60ed-40b5-b3cb-016a9514ecd7'},\n",
       " {'__UUID__': '03e3e820-a609-43a4-8b8b-adaa4f4b0d02'},\n",
       " {'__UUID__': '97ba4911-110d-4498-aff0-545c14fb1976'},\n",
       " {'__UUID__': '4c66da8b-b410-442a-93ec-fba3671b3a58'},\n",
       " {'__UUID__': '5dbf850d-d2e3-482a-bcd9-efca183c834b'},\n",
       " {'__UUID__': '84d0bda3-918b-4078-b7a0-252308d0d428'},\n",
       " {'__UUID__': '4b259daa-1c6c-431b-a70d-60afd8f43d09'},\n",
       " {'__UUID__': '157f468e-9dc8-4731-ab43-b3cec54a2025'},\n",
       " {'__UUID__': '75b21a17-7b47-43ef-b594-a2f237bee59c'},\n",
       " {'__UUID__': '9639c164-8b86-48f7-8fa3-d752d5c052e8'},\n",
       " {'__UUID__': 'a77cc464-eb60-4ad2-862a-123ca378299e'},\n",
       " {'__UUID__': '00db7831-86de-42c2-8256-72959aab7e90'},\n",
       " {'__UUID__': 'a05bd2fc-7c68-4bfb-8da1-6dc9c138e14b'},\n",
       " {'__UUID__': '8e1e7f05-447c-4b45-8044-69cf5ce708f6'},\n",
       " {'__UUID__': 'c58fad11-be07-472f-9924-7540b9608a6d'},\n",
       " {'__UUID__': '83e6caa8-ce00-4eb9-967d-d80a7b85882d'},\n",
       " {'__UUID__': 'ace63c5a-8c88-4526-91a6-c3fb53ff04b6'},\n",
       " {'__UUID__': 'f908b5f4-9808-45f5-9774-fdd8a41daa12'},\n",
       " {'__UUID__': '50b1bf07-6549-44e8-982e-da96b8fced5a'},\n",
       " {'__UUID__': '6c9f93e5-83de-439d-ba92-0b3ec07de149'},\n",
       " {'__UUID__': 'ab192fb6-556d-4993-b8cc-f66fc24560b4'},\n",
       " {'__UUID__': 'b44290fb-1bd3-41f5-963a-dbc1ad9ac153'},\n",
       " {'__UUID__': 'd2142a54-cf24-4350-baf8-f58ac7bef937'},\n",
       " {'__UUID__': '18dc98a0-1846-41f0-bf97-016295970d68'},\n",
       " {'__UUID__': '0debf56f-ef41-4bc3-ac3c-e26f4953b150'},\n",
       " {'__UUID__': 'ae557f4e-1c78-4872-82c7-3970356fa62a'},\n",
       " {'__UUID__': '248d72cb-c2f7-478e-9572-c9609315e5b2'},\n",
       " {'__UUID__': 'ca00c9eb-d1bc-4903-a4bc-ded5ef40b859'},\n",
       " {'__UUID__': '04f01b38-6afd-4eb4-9573-77403084b847'},\n",
       " {'__UUID__': '9a872a7a-ed27-42fd-b5a2-82e287cd753d'},\n",
       " {'__UUID__': 'bbfbce78-c58a-4ffb-906c-69895555a2d5'},\n",
       " {'__UUID__': '501bdf0b-c1b0-4a43-94ce-686b84163256'},\n",
       " {'__UUID__': '153af455-eb56-49f7-abfd-260f86b61c06'},\n",
       " {'__UUID__': 'b63bc245-8693-452f-83a4-5e259c39ab91'},\n",
       " {'__UUID__': 'fdd3c429-7f9a-42f3-a507-462d5183e2e3'},\n",
       " {'__UUID__': '1a480104-9b97-4fd3-bc3f-433a8f2b77a1'},\n",
       " {'__UUID__': 'f961880b-5565-4ed4-aab5-e13f30a23f56'},\n",
       " {'__UUID__': '822dcb33-26f5-47ee-ab35-101db88c4b0c'},\n",
       " {'__UUID__': '84b9a884-a66e-4b5d-9718-8e00c8e37fef'},\n",
       " {'__UUID__': 'bee0f35c-4a2e-4bbd-801a-6aaaa8775bef'},\n",
       " {'__UUID__': '9b508b90-04e2-47f9-8ea2-11affb8e8e4f'},\n",
       " {'__UUID__': '4d473876-29fc-4e95-bae5-1a23d1660b8a'},\n",
       " {'__UUID__': '59f6dd8a-ff5c-46e0-95bb-d91b80e7d82d'},\n",
       " {'__UUID__': '0da13895-43e5-43fd-9773-bb82a079b574'},\n",
       " {'__UUID__': '3b60cc2e-b79c-402e-b722-bf209e8cf33f'},\n",
       " {'__UUID__': '6842ec02-43b8-49d2-8dcd-4b92111eacaa'},\n",
       " {'__UUID__': 'fdf8c8c1-3aa9-414a-9b78-00b9f8642954'},\n",
       " {'__UUID__': 'ff73544d-c005-48f5-9d97-77d496aa9d0b'},\n",
       " {'__UUID__': '6bd099aa-05d3-4972-8b4f-a0463a41bbb8'},\n",
       " {'__UUID__': 'f659c330-8b23-412a-a640-71ce63d6daa6'},\n",
       " {'__UUID__': 'db96426c-946d-41e9-bcec-787aa0d1154a'},\n",
       " {'__UUID__': 'cac83c03-aa91-4625-891a-5f42a539d7c9'},\n",
       " {'__UUID__': 'b641ad2c-687e-45dc-a1fb-0cf2ac41782d'},\n",
       " {'__UUID__': '5d173c00-749e-4445-8758-6e8c2f554feb'},\n",
       " {'__UUID__': '61deba8d-0d4c-41d2-a683-a18888069ab3'},\n",
       " {'__UUID__': '6aea2127-18b5-441c-b95c-814ec0815fd6'},\n",
       " {'__UUID__': '224336ff-6eb9-4ce7-b732-44f68c5247f4'},\n",
       " {'__UUID__': 'f51abcca-1cdc-429d-a2ba-3e4f670d9e2d'},\n",
       " {'__UUID__': 'cfe8aba7-6710-45f0-b1c0-90bb3d59fe20'},\n",
       " {'__UUID__': '72104aa9-d604-42a1-b75a-27161f01461d'},\n",
       " {'__UUID__': 'c2f8e674-8744-470f-a98b-f3ad273588e6'},\n",
       " {'__UUID__': '8f643c47-7ffd-4846-b4eb-053d6aa1dbfc'},\n",
       " {'__UUID__': '6b40f0da-c9ce-401c-8022-9452a810e96e'},\n",
       " {'__UUID__': '2dc9754e-7f5c-4459-9be6-14e594ac6445'},\n",
       " {'__UUID__': '44d4c5f2-3747-4490-89be-925e0a2dc747'},\n",
       " {'__UUID__': '57816c87-04e1-4702-b4d2-e615f1ef4bfb'},\n",
       " {'__UUID__': '331f8b9b-82a6-4d06-b7ac-ddd0cf32b545'},\n",
       " {'__UUID__': 'f91c8d9a-69b9-49e1-aa5f-21e3a8cd03f7'},\n",
       " {'__UUID__': 'c785e365-8539-4871-9986-b86b04220c3a'},\n",
       " {'__UUID__': 'cddcbed6-ea66-4a17-944d-ceca5e2996d0'},\n",
       " {'__UUID__': '0686e0c6-4cfe-47d1-89d6-8249078bc17d'},\n",
       " {'__UUID__': 'db3adc8b-99fc-4478-856b-cd79509f1496'},\n",
       " {'__UUID__': '891250cd-851b-42cf-a348-be259a523fe8'},\n",
       " {'__UUID__': '95aa40fd-fba8-4efe-a716-6ef38b3de1ba'},\n",
       " {'__UUID__': 'bda19a24-d40f-448e-8baf-90fde7e98bd4'},\n",
       " {'__UUID__': '360e11e5-02dd-401d-8f04-9d1978e6ce0a'},\n",
       " {'__UUID__': '67c26b86-5ea0-4914-a8ae-d814f28f64fc'},\n",
       " {'__UUID__': 'e7870817-5def-4bce-b54c-4cf783bfdb25'},\n",
       " {'__UUID__': 'c1c2f5ae-2a69-4e0b-aa79-01f8740050c5'},\n",
       " {'__UUID__': 'cc68f11c-825f-4d38-aefb-05d674e51a26'},\n",
       " {'__UUID__': 'fabc275d-594e-44c7-9b9c-3591b6a162a4'},\n",
       " {'__UUID__': '7b05c2d2-bc73-4ca6-a764-c2d4c816e8eb'},\n",
       " {'__UUID__': '4c8c1b26-8957-4897-ae33-3461923b67c2'},\n",
       " {'__UUID__': 'cdb91266-32d7-43b8-8a92-7cf1e3d15c80'},\n",
       " {'__UUID__': 'f23013bb-52af-4e46-84f2-470418ee9975'},\n",
       " {'__UUID__': '037ed7e1-55a4-4fe3-ae8c-df275cdefd38'},\n",
       " {'__UUID__': '3af2552f-a1af-4388-8db0-2c5ddc47aada'},\n",
       " {'__UUID__': '17b41271-f22a-4ca7-8317-5ffecf1a662d'},\n",
       " {'__UUID__': '27301970-4f5e-4d99-85e3-dbecfb1870dc'},\n",
       " {'__UUID__': 'f51a3087-f770-4cd2-b364-283028341c3e'},\n",
       " {'__UUID__': 'a7726094-1939-42d3-9bfa-8a7f52c4e81e'},\n",
       " {'__UUID__': '7da0cb11-8c12-4c0a-983f-4270544ca128'},\n",
       " {'__UUID__': '3bb2ef84-52d4-497e-b98e-fa4bfed489ec'},\n",
       " {'__UUID__': 'bd311615-23e4-4ec2-85b9-8b5a6476a959'},\n",
       " {'__UUID__': 'd5a8fd34-60a1-47af-bb94-5b54626be256'},\n",
       " {'__UUID__': '5627a9c7-4400-4c53-be02-066e58378e13'},\n",
       " {'__UUID__': '5eb7c653-d080-461a-a7c7-165368b76366'},\n",
       " {'__UUID__': '795d1bf9-ede6-4d50-b5fc-799437c2e9d6'},\n",
       " {'__UUID__': '2bd68a9f-278f-4e08-a479-3813ee4d6785'},\n",
       " {'__UUID__': '4dd0c065-ea86-472e-b346-ac646d98adeb'},\n",
       " {'__UUID__': '6d88128c-e645-4d8c-8172-c6233edc8cc3'},\n",
       " {'__UUID__': 'bf311626-906e-4db0-a08f-57d1d47170ed'},\n",
       " {'__UUID__': '1e3442c2-eb74-4076-8bd2-221a79fd3258'},\n",
       " {'__UUID__': 'a8330f8b-9f8f-4910-91ab-0542e2e30c0f'},\n",
       " {'__UUID__': 'e24d11d7-79a1-4e97-af9f-547dabe16c01'},\n",
       " {'__UUID__': '442304c6-73dc-4387-94c2-87a2264b8d41'},\n",
       " {'__UUID__': 'a287d395-6879-4795-a2b1-a5c8c91dda9f'},\n",
       " {'__UUID__': 'db565379-6a3e-417d-ba73-9249dcc7851b'},\n",
       " {'__UUID__': '4a59c2d6-aab8-4e35-8660-c20e77c52ffa'},\n",
       " {'__UUID__': 'cd3d2ab4-ebd2-453c-943d-c97e1b615d3f'},\n",
       " {'__UUID__': '8933ddc8-3cf8-4fca-9786-6053d032ef29'},\n",
       " {'__UUID__': '86f4487c-6690-4662-9a1a-d8eaf824ad9a'},\n",
       " {'__UUID__': 'db667268-ff10-465b-a4fc-3aed514fe105'},\n",
       " {'__UUID__': '21ec9864-ed62-4948-8bd9-40fc7e967d2e'},\n",
       " {'__UUID__': 'aaf2e5dc-e95f-4248-83dd-9dc67c673403'},\n",
       " {'__UUID__': '15d345a9-743e-44b4-857e-5c5853294f5d'},\n",
       " {'__UUID__': '53d0a193-c2d0-4d0d-86c3-9502a8ec756f'},\n",
       " {'__UUID__': '22ece6e4-11c0-4a03-aa1c-7a6576bd2eae'},\n",
       " {'__UUID__': '8f1790d4-9af0-44f4-8bb1-319ffb049cab'},\n",
       " {'__UUID__': '2d481830-4ebf-4bfe-8efe-859b14444e3d'},\n",
       " {'__UUID__': '4962d090-c9de-4f9f-9bfd-77b19de8fca6'},\n",
       " {'__UUID__': '87c97c45-17e4-42d6-bb3c-93d916599aa7'},\n",
       " {'__UUID__': 'd5e77fd9-a339-4708-9f68-4274046789df'},\n",
       " {'__UUID__': '1fa4976f-0275-4b54-88b1-43b409bde376'},\n",
       " {'__UUID__': '1e8a519a-34b6-4652-aaa3-67a1d2bc8ccc'},\n",
       " {'__UUID__': '60aa257d-6631-4ce0-bdb0-c6814b71976d'},\n",
       " {'__UUID__': '8eaacda4-35ee-4cc8-b828-48939ad80d68'},\n",
       " {'__UUID__': '5356caff-6360-4048-92f2-9df9fe187be6'},\n",
       " {'__UUID__': '18fdca03-802e-4cfa-874a-6f7e98ba81dc'},\n",
       " {'__UUID__': '5adc8f9a-b062-4032-8d88-7dd89d01309f'},\n",
       " {'__UUID__': 'c38065bd-fa91-47eb-8c8f-a12a0021d36e'},\n",
       " {'__UUID__': '88303645-31c4-41bc-9992-fdcac9fe377d'},\n",
       " {'__UUID__': 'db96c531-c48d-4c64-8e14-1a4e40e8d3c6'},\n",
       " {'__UUID__': 'bcd3b756-6fdc-4730-aebd-26c43f184541'},\n",
       " {'__UUID__': '4cef4042-fe8b-4a1c-8604-5683c82bc8e7'},\n",
       " {'__UUID__': '8490476b-fd25-4374-9258-209f13f4b8c1'},\n",
       " {'__UUID__': '158ad6c0-89d6-4e1f-94ae-0f6b5f310200'},\n",
       " {'__UUID__': '588fc561-5d4f-4950-9d53-6e0bbf2eb8b0'},\n",
       " {'__UUID__': '20233235-c53e-4d70-ae49-4f368fced17e'},\n",
       " {'__UUID__': '87ea249e-21af-46cc-89f4-33a230eaa67a'},\n",
       " {'__UUID__': '2b0270ae-a690-4697-b52e-fbc14f424c48'},\n",
       " {'__UUID__': '60de339a-b708-4f9d-9572-8560ce666836'},\n",
       " {'__UUID__': '201bea9a-08cd-4181-8712-df96ff92446c'},\n",
       " {'__UUID__': '128d2351-f39b-47ba-bbda-2f994131f719'},\n",
       " {'__UUID__': 'ed9ff878-1406-4424-ba7d-1f135c7762d1'},\n",
       " {'__UUID__': 'b9a785e9-929f-42a6-8c9b-c6ccb3ad9667'},\n",
       " {'__UUID__': 'b2a97518-15c2-4ac3-a040-61d05a944d62'},\n",
       " {'__UUID__': 'c2bf5b96-8733-4e5c-afc6-4d0e1f2f26b4'},\n",
       " {'__UUID__': 'efed5879-2224-4a3d-b524-cd1b7b9a3a3b'},\n",
       " {'__UUID__': 'dc37ea2e-f1fb-4b63-aa6d-16160c0b1a14'},\n",
       " {'__UUID__': '876e24a4-b9e8-41c1-b19a-0740b0e7ded3'},\n",
       " {'__UUID__': '0e79d19e-91bf-4ace-a9ed-c58259c55f5c'},\n",
       " {'__UUID__': 'eb28bf21-1d0b-4947-a80b-fd1c5740f601'},\n",
       " {'__UUID__': '6cf243d2-255b-4375-9768-a7668c4a2244'},\n",
       " {'__UUID__': 'e826d348-8d4c-40f4-8376-01c58acdfc4c'},\n",
       " {'__UUID__': '3a277774-eacd-4ea2-8555-88f320bda2a9'},\n",
       " {'__UUID__': 'b2eb2a20-fa5c-4ed2-95fc-b2afa786ed62'},\n",
       " {'__UUID__': '25306864-ccd9-4e59-9487-3d299fe9b10a'},\n",
       " {'__UUID__': '89efb358-1efc-4ece-a11b-e215c359595a'},\n",
       " {'__UUID__': 'e548a100-2085-4788-8c2b-1f1d11f85ad8'},\n",
       " {'__UUID__': 'ea594ddb-3520-401a-b4fa-c4034c247744'},\n",
       " {'__UUID__': '40718e95-f8f5-4600-84ea-22029207ff1b'},\n",
       " {'__UUID__': '9b4cab1f-e046-446b-9567-e4f106045275'},\n",
       " {'__UUID__': '21d8f2d1-e925-47ff-b309-4ce40ccfb690'},\n",
       " {'__UUID__': 'f9cefecf-0578-4a89-963c-2ab1dfdd34ac'},\n",
       " {'__UUID__': 'b348784a-ebf3-49f6-814c-09169c7cb6ad'},\n",
       " {'__UUID__': '8c4b33fc-a039-4ed8-9d8f-00a11bd37b53'},\n",
       " {'__UUID__': 'aeb8ff57-7863-4e9d-b955-fd1fd0b03007'},\n",
       " {'__UUID__': 'eb8db816-17ce-46a2-bd40-5f85e2570462'},\n",
       " {'__UUID__': '0a6bf366-f1c3-43de-8fdc-aae52e7c48b5'},\n",
       " {'__UUID__': 'd3f8e6fa-4cd5-48c6-99fa-c3e0f93eea74'},\n",
       " {'__UUID__': '188c9d15-5959-438f-ae3f-a942f3acd82b'},\n",
       " {'__UUID__': '210b9449-7df0-4c72-827b-13f8111babfa'},\n",
       " {'__UUID__': '8f1a6872-9fe8-4d3c-9e8d-c7e4dbdfb7d2'},\n",
       " {'__UUID__': 'eea4dbb3-60c4-416b-b772-f1f26e121d93'},\n",
       " {'__UUID__': 'd52a4222-6631-4d07-81da-a17111f6e96b'},\n",
       " {'__UUID__': '22eb0efc-c709-4e68-9a31-7ff8464bbe73'},\n",
       " {'__UUID__': '9ece9bfe-9a76-4901-8c18-7621bbedccf7'},\n",
       " {'__UUID__': '1c65512f-d5aa-450b-8a44-75a7aa66897e'},\n",
       " {'__UUID__': '0cc10272-5842-4596-907e-ee9f9166be94'},\n",
       " {'__UUID__': 'f3a64269-d848-4225-87e1-08a8ded11924'},\n",
       " {'__UUID__': '76687180-a9e2-4c7f-a381-7ea92cf42ae8'},\n",
       " {'__UUID__': '02e9e445-3d3f-40a1-868a-f6c787a2d870'},\n",
       " {'__UUID__': 'b5c4434d-0f1d-41ac-a732-e4feb88fc5db'},\n",
       " {'__UUID__': '64a09d45-cb88-4d41-983e-a852dd6027e8'},\n",
       " {'__UUID__': '71bbfde1-7717-4c76-bae5-8e82b442f2df'},\n",
       " {'__UUID__': 'e91a652e-a189-46da-89c6-9bc5977a6662'},\n",
       " {'__UUID__': 'fea17455-0223-4473-897b-5c578169e202'},\n",
       " {'__UUID__': '94c6f37b-d3c0-4485-93ed-6984b460bfd3'},\n",
       " {'__UUID__': '5c0419d4-d17c-423b-ba77-09146bb41b30'},\n",
       " {'__UUID__': 'a7067cc0-a100-4cdf-a868-2f5a93fe42aa'},\n",
       " {'__UUID__': '25c0e763-57ca-4938-8d82-c78cff69aca7'},\n",
       " {'__UUID__': '41159bd7-91b3-4d8f-a5d2-323c6c8c38e7'},\n",
       " {'__UUID__': '24454478-933f-4842-b6e4-01584f805a8f'},\n",
       " {'__UUID__': '1b1eac09-9434-40de-9a3a-43df58fe8d5c'},\n",
       " {'__UUID__': '4639c55f-7597-48fe-a0e2-25dfcbc533c6'},\n",
       " {'__UUID__': 'd81fa930-b8a8-4fa3-a91b-ee6d462245f7'},\n",
       " {'__UUID__': 'bd0614de-5527-4bb9-a983-c2b2cc52639c'},\n",
       " {'__UUID__': 'd4f589e9-ec9b-477a-9a49-814805b68aa5'},\n",
       " {'__UUID__': '41dc40f8-5faf-41f1-8518-b296b0848f1d'},\n",
       " {'__UUID__': 'c64781a0-1a26-4bae-ae18-bdcb062944d3'},\n",
       " {'__UUID__': 'f0e2ca66-875e-437c-82e7-ed0a2c6b7149'},\n",
       " {'__UUID__': '54f9f3d7-f9e9-4fbd-921b-cec1443bca72'},\n",
       " {'__UUID__': '9c090469-c09c-4870-97ee-0103f138f6f6'},\n",
       " {'__UUID__': '575ba400-835e-4fa3-a1f2-8e8e4e655bc5'},\n",
       " {'__UUID__': 'a6136682-049e-43ab-bfd8-f4a441ab6aad'},\n",
       " {'__UUID__': '3d3430a9-ed68-4f16-a14c-15fa95d1db6e'},\n",
       " {'__UUID__': '48cf58ca-1583-4eac-a6e5-01fcbd3b9064'},\n",
       " {'__UUID__': '2633b49d-4900-4ded-948f-a2e2e06cec1c'},\n",
       " {'__UUID__': 'd60301fd-f01e-4f6f-8797-2d8a81cfa304'},\n",
       " {'__UUID__': '80ccd692-db9a-45bb-bfd9-c98d55e418b6'},\n",
       " {'__UUID__': 'bd1620cc-fb04-4126-8b73-b61caf4166ae'},\n",
       " {'__UUID__': '28a1e74b-d748-4f04-baa3-6b7953b3e9d3'},\n",
       " {'__UUID__': 'dafb8055-3ddc-4385-8786-b743489446b0'},\n",
       " {'__UUID__': '24bd0378-55a9-462b-8e7a-7cd3b1d597b8'},\n",
       " {'__UUID__': '5fc89c96-f4a3-4665-b75d-851e212e7076'},\n",
       " {'__UUID__': '9e8c7861-e3a5-435c-9a6d-204c098406d4'},\n",
       " {'__UUID__': '2a0545c1-771e-4418-a0d6-6feb6e3ee28b'},\n",
       " {'__UUID__': '5dbbd0ed-93fa-47e6-8248-103255fc1cda'},\n",
       " {'__UUID__': 'eeea516a-8894-41ce-bdc4-0aedef3b948e'},\n",
       " {'__UUID__': '90f6528c-26ee-40ff-9143-19850003d081'},\n",
       " {'__UUID__': 'e9849d6f-ce7c-457d-9d55-7362364e0c30'},\n",
       " {'__UUID__': 'a0f705f0-7345-4f17-9f41-9a9ea8adea8f'},\n",
       " {'__UUID__': 'ed93da0d-c5b6-4fa8-b714-a89224201236'},\n",
       " {'__UUID__': '3528606d-2b93-4598-8f35-1146e75fa121'},\n",
       " {'__UUID__': '3ebd2042-ce9d-46c3-a16c-8baf893258e1'},\n",
       " {'__UUID__': '112d92dc-33d2-404e-a6af-58c4cfa36e71'},\n",
       " {'__UUID__': 'da004598-5138-4277-9d4a-519225faf213'},\n",
       " {'__UUID__': 'cb2843b7-2ae7-40c3-9fea-00057d545715'},\n",
       " {'__UUID__': '9610c881-f6c4-4d4f-a6e3-03cfa6f8770b'},\n",
       " {'__UUID__': 'c70e13b7-0095-4d50-b66f-74396ea189a2'},\n",
       " {'__UUID__': 'bf0ee518-0039-4db4-abf2-2831683c4296'},\n",
       " {'__UUID__': '05232a45-8d14-4b8c-bb90-82cc17d1ce5d'},\n",
       " {'__UUID__': 'b3c9752e-9f28-436c-8cb1-c24db17e3d91'},\n",
       " {'__UUID__': 'a3413e56-3cba-49e6-b9c5-f5b90c843dce'},\n",
       " {'__UUID__': '5d7dd6bc-6837-4306-a663-a1f3a2ab46ad'},\n",
       " {'__UUID__': '7b785c5a-d052-41cf-a220-38e5a9a7ef14'},\n",
       " {'__UUID__': '7ebda6ef-512f-43c7-82b9-f6d0078bb778'},\n",
       " {'__UUID__': 'e1aa631f-cbf1-4d10-9626-387ef0e41cc7'},\n",
       " {'__UUID__': 'e3e37837-042a-4c61-beb6-bacce68e8f39'},\n",
       " {'__UUID__': '39465829-2f04-4a67-b0e5-e0e877b27730'},\n",
       " {'__UUID__': 'ca0731be-b4fe-47f5-a9e5-99e7e9919bd3'},\n",
       " {'__UUID__': '82b6a917-50e0-47eb-9912-a9f1c8ab9809'},\n",
       " {'__UUID__': '6fb1e12a-26af-41c0-b08e-e8744d3805ce'},\n",
       " {'__UUID__': '0d050db3-647a-4b5d-97c8-ca674f0a3c3f'},\n",
       " {'__UUID__': '06af0568-06b4-4863-9d33-0b811c83bceb'},\n",
       " {'__UUID__': 'f4f804c6-d413-469e-8a89-6e7eb4c6989b'},\n",
       " {'__UUID__': 'a9b2114d-0f76-4787-b98a-6b4d58a78d5d'},\n",
       " {'__UUID__': '64eb556e-fe04-442b-9b2c-b0ef78957704'},\n",
       " {'__UUID__': 'a95148f0-c4a7-4d47-bc2f-81de04617610'},\n",
       " {'__UUID__': '170e4d92-aef7-4494-b065-958bae8918e1'},\n",
       " {'__UUID__': '0e7f6a1d-e83b-45c0-bf5f-476832ff5bc9'},\n",
       " {'__UUID__': '4630a0ef-561f-452a-b49b-ca6b0caaace7'},\n",
       " {'__UUID__': '83e258fa-1985-4881-ad9a-e015338905e3'},\n",
       " {'__UUID__': 'cc2498ec-d0c1-4573-8466-8b81bbf3f746'},\n",
       " {'__UUID__': '2c1f9c26-69c1-4c0e-ad84-78ac604923f6'},\n",
       " {'__UUID__': '78059c7b-7862-4d63-850f-3da9a0cee19b'},\n",
       " {'__UUID__': '0f338709-2a12-41de-b415-47f0b6daa422'},\n",
       " {'__UUID__': 'b52f6adb-b84b-4f69-a61f-66bc36c018bc'},\n",
       " {'__UUID__': '9ea13b90-3627-43fd-a400-30a5a62469d6'},\n",
       " {'__UUID__': '2d32615d-1e15-48d1-a900-449d6054fede'},\n",
       " {'__UUID__': '707ff1e2-b4f0-41fb-b054-174412a7665b'},\n",
       " {'__UUID__': '73086365-7cd6-40c2-97a6-7d2bc618df77'},\n",
       " {'__UUID__': 'a21e5901-edf8-4065-977b-e3c534c00408'},\n",
       " {'__UUID__': 'd29c53dd-5cf2-4690-a942-cfec966c742d'},\n",
       " {'__UUID__': '57959162-7d63-47f8-8522-121da5b81184'},\n",
       " {'__UUID__': '24c2ae85-9138-4acf-8ee5-f27ec8264a73'},\n",
       " {'__UUID__': 'a7ea82d8-fae7-4490-8fa9-83e3d7556115'},\n",
       " {'__UUID__': 'dace8ff7-780d-4635-b5fa-99dc2813b8e4'},\n",
       " {'__UUID__': '65bba679-fc3d-4d7b-8492-15e8cabeecb5'},\n",
       " {'__UUID__': '2887c6b3-682d-43f5-89aa-e301222a3c5d'},\n",
       " {'__UUID__': '5d673cac-f944-4cb2-8c9e-800879694151'},\n",
       " {'__UUID__': 'abfb0277-4a11-4074-a321-26747ff3350a'},\n",
       " {'__UUID__': '51fd0077-510b-4253-a873-e07c310d12ec'},\n",
       " {'__UUID__': '231819fc-6d88-4581-b553-3d15eb5f442b'},\n",
       " {'__UUID__': 'f752ea2e-17df-445e-afd8-c0b6e9654384'},\n",
       " {'__UUID__': '3cf182a8-6ca0-49c4-916b-29acbe9036d4'},\n",
       " {'__UUID__': '39252cb8-e5e4-4293-9b1f-a4d2724b4a52'},\n",
       " {'__UUID__': 'bd717b4a-9a53-4603-b84f-86555f632fae'},\n",
       " {'__UUID__': '6c11a482-7c4a-4b26-a792-1aa63a1f2f0d'},\n",
       " {'__UUID__': '882bccdc-2a63-4729-b4e5-be95915e3d67'},\n",
       " {'__UUID__': 'c50564b7-40cd-4ace-904d-5e1676851297'},\n",
       " {'__UUID__': '3dca04a5-76ec-4452-a363-91ff1a525858'},\n",
       " {'__UUID__': '15542c41-7678-4148-9dd4-bf6a369f078e'},\n",
       " {'__UUID__': 'e07f9a13-ee91-43e8-8563-1d233205f681'},\n",
       " {'__UUID__': '35c32944-577d-4798-8d1c-d398cefaa892'},\n",
       " {'__UUID__': 'e33a089c-cd09-4f84-bf41-8149c8c1a1f7'},\n",
       " {'__UUID__': 'f13d7ef8-8714-4bd1-98c1-da725719af52'},\n",
       " {'__UUID__': '07af92b4-5f36-447e-b13b-0f12c7e51024'},\n",
       " {'__UUID__': '74b4abf0-3a4d-4ae6-9fda-067789615c5c'},\n",
       " {'__UUID__': '229c3725-f31c-427a-bf8f-ae10206bf24a'},\n",
       " {'__UUID__': 'b0ea12c0-47b6-4057-875f-40a300ea4c9e'},\n",
       " {'__UUID__': '74d20adf-a996-4407-987d-847f23df3de9'},\n",
       " {'__UUID__': 'b3e1abe2-d468-4e06-aaac-40a0bcab09fe'},\n",
       " {'__UUID__': 'ec6b70a4-a082-4479-a894-38cd2aff1248'},\n",
       " {'__UUID__': 'd5ec56f4-0d4f-4588-a20d-4e746a347aa9'},\n",
       " {'__UUID__': '65a20da2-5249-4d35-a09d-360041496d4d'},\n",
       " {'__UUID__': '72de1d06-875d-4797-92ab-9a89005f3edb'},\n",
       " {'__UUID__': 'fe2db815-30f5-4791-9990-3fdffeb3dd53'},\n",
       " {'__UUID__': 'a13c98cc-7c3a-422b-949c-2ce2766c4ae4'},\n",
       " {'__UUID__': 'c526337c-3058-40ee-b96f-1a7f41fc0b16'},\n",
       " {'__UUID__': '3a91b230-3f61-4e57-93e3-9dec5520fd3e'},\n",
       " {'__UUID__': '9cf30a07-e163-472a-9bf1-94af93886527'},\n",
       " {'__UUID__': '7be1519c-d51d-45ff-8a2c-f7e02ac74cc3'},\n",
       " {'__UUID__': '8ba954a3-7c14-4e8f-a0e0-fcef3fa63ec4'},\n",
       " {'__UUID__': '64718a08-e872-4a9d-8cad-0e6217169178'},\n",
       " {'__UUID__': 'fd2f70f5-2d24-4c97-8095-8cdd3a9a8308'},\n",
       " {'__UUID__': '8915fa97-5449-41a7-9919-6f1eed32f9be'},\n",
       " {'__UUID__': 'c41c91fc-26cb-4c39-bd23-dcefc4ea58ee'},\n",
       " {'__UUID__': '7b7ade24-7b60-4834-a91b-82e569736f4b'},\n",
       " {'__UUID__': 'eb5f6121-78b0-4c2d-99da-46f4e5d3e142'},\n",
       " {'__UUID__': '948c192c-bda9-4004-a554-e532c9ff636b'},\n",
       " {'__UUID__': 'f6f67f99-f26f-48cc-9dfd-9ef24bb07c75'},\n",
       " {'__UUID__': '1729dc92-9de3-457d-812d-de7196968cd7'},\n",
       " {'__UUID__': '358874f8-4b5c-45d0-a4e3-26a626077119'},\n",
       " {'__UUID__': '79de12fd-3e0c-4e79-aa21-2091ffffcd7a'},\n",
       " {'__UUID__': '42ad7598-710f-4ec0-b745-aa5afd27fb51'},\n",
       " {'__UUID__': '072fc7c0-540f-4e70-b8c3-888059248a46'},\n",
       " {'__UUID__': '819f8926-f625-4a7d-8d3a-1603ba375fcf'},\n",
       " {'__UUID__': '871edd41-d7ef-4f19-aeda-97e03b8f3273'},\n",
       " {'__UUID__': '577abe03-8a7d-4366-bc9a-f48483340f61'},\n",
       " {'__UUID__': '25710e18-a5cc-49ae-bc86-d37d36e15d9d'},\n",
       " {'__UUID__': '8a9af2ad-1ac1-40eb-949e-cfc5f91b23ab'},\n",
       " {'__UUID__': 'bac81e52-21f1-4523-985b-6b7dcaf9d5e1'},\n",
       " {'__UUID__': 'd49ece54-ca16-4c71-aaeb-789bd1f83d0b'},\n",
       " {'__UUID__': 'c8ea7ee0-cc1a-49c0-b288-45b93857406f'},\n",
       " {'__UUID__': 'd912d224-cb06-427b-9b6d-ba3642d11277'},\n",
       " {'__UUID__': 'fdaf3b70-eb7a-4143-bf45-ddf0b940c3e1'},\n",
       " {'__UUID__': '447fb178-a7c4-467c-ad2c-4fbfe792d37d'},\n",
       " {'__UUID__': '934aae82-a32e-4447-851b-cd253b1a8f2d'},\n",
       " {'__UUID__': '87862d70-5c1b-446c-910e-feb0828c6f3a'},\n",
       " {'__UUID__': 'bcc3afc8-39eb-47f0-9a87-5951723d6c66'},\n",
       " {'__UUID__': '2d25836b-fcfd-435f-ade3-32baadc69de0'},\n",
       " {'__UUID__': 'a5b9b98c-f6f3-4042-af0e-f033ebb5e525'},\n",
       " {'__UUID__': '92b8ce0a-43a4-48ae-bcce-bd2dc15c29e0'},\n",
       " {'__UUID__': 'c2c68938-cbc8-4837-871e-4c13da25f731'},\n",
       " {'__UUID__': '6c9ca3b2-08ea-47fc-93e9-e65b2804ee9f'},\n",
       " {'__UUID__': '160488c9-c15c-42a1-b0f6-20d60e9df6ac'},\n",
       " {'__UUID__': '2a899cd6-8d05-4fb9-8fd3-3b32b32afc56'},\n",
       " {'__UUID__': '3070f399-944e-49dc-ba9d-a922aecafee9'},\n",
       " {'__UUID__': 'f6726a72-d8e6-4bb1-88be-018fb0702c9f'},\n",
       " {'__UUID__': '49ec9216-43ba-42e6-9ce0-0087eb177a5d'},\n",
       " {'__UUID__': '2ccbb561-3cca-4f9a-b394-c4af5481dd2e'},\n",
       " {'__UUID__': 'f16e87bd-d52c-4a13-a1ba-cba4b4caf34e'},\n",
       " {'__UUID__': 'a4665ac6-5780-4fdc-a760-578c316a760b'},\n",
       " {'__UUID__': '90242203-db4c-44c8-8e45-01eec7701eff'},\n",
       " {'__UUID__': '04829044-7c10-46d3-bd12-f250227ffa68'},\n",
       " {'__UUID__': '53ecf930-552d-421b-af41-d604f45de2d6'},\n",
       " {'__UUID__': 'f3e4400f-31ea-4698-9808-24374d18efb0'},\n",
       " {'__UUID__': '8b1f38a3-796b-40aa-a19f-98ff2d7e2748'},\n",
       " {'__UUID__': '53c1ceec-02fd-4f57-ab73-772cbe87b527'},\n",
       " {'__UUID__': 'cac090d6-0617-4380-9ba4-0095c1b154c4'},\n",
       " {'__UUID__': '33005f80-7870-4e2a-970d-3dca329d3bee'},\n",
       " {'__UUID__': 'db688763-ff35-4262-9c76-431dc6e76d71'},\n",
       " {'__UUID__': 'cef23707-8376-4f05-b85a-7602878295aa'},\n",
       " {'__UUID__': 'a939365b-b3c4-4d54-a86c-7a3ed4db6a86'},\n",
       " {'__UUID__': 'fcf4e3a8-1194-4075-a0eb-413818167f18'},\n",
       " {'__UUID__': '35ac4e63-e1ed-4f99-8c99-c9ed1998f01a'},\n",
       " {'__UUID__': '63ed6896-a227-464f-a4e7-a0a8240a8dfd'},\n",
       " {'__UUID__': '67aa03fc-e060-4c22-9453-9c9bd5804b19'},\n",
       " {'__UUID__': 'e065ec5d-b1d3-48c1-ac3a-2182b9f198d8'},\n",
       " {'__UUID__': '31922ee1-585f-44b3-9297-051c3f029857'},\n",
       " {'__UUID__': '5959d360-ec3b-4c1b-a04b-6bdd423e5f7e'},\n",
       " {'__UUID__': '06a4a4e5-2bac-428c-95b6-66cdba5baa94'},\n",
       " {'__UUID__': '2ab485b3-b94e-4e85-9235-ec2102f434c1'},\n",
       " {'__UUID__': 'fda046e7-25e4-48c3-8c11-4d7b4bb78898'},\n",
       " {'__UUID__': 'dff216ab-7951-4bf0-9a2e-9a1d4b9511a3'},\n",
       " {'__UUID__': 'f61b8cc5-e983-45e8-8d46-846d2ef09e02'},\n",
       " {'__UUID__': '518a9ee2-c01e-4e75-b2bc-a98e98cc6195'},\n",
       " {'__UUID__': 'fe207244-98d5-41b1-8a16-c32a2f6c73e3'},\n",
       " {'__UUID__': '523c833e-0164-44e9-ac73-769de8c98596'},\n",
       " {'__UUID__': '72e4a380-a242-4efd-bc24-9b527b016a5f'},\n",
       " {'__UUID__': 'd6e5a498-a5a1-461e-97fe-d445041406b1'},\n",
       " {'__UUID__': 'e91a8007-555d-4871-b86d-c76996ffabbc'},\n",
       " {'__UUID__': '0dd7d7ff-a370-4b98-ad3e-e1f5d8c6f470'},\n",
       " {'__UUID__': '7c4d29b9-7c2f-4fec-8963-937ce29ac30a'},\n",
       " {'__UUID__': '12b36600-f40b-468c-9279-b758c6dabc1e'},\n",
       " {'__UUID__': '87f37c11-f4aa-4e74-923e-43d0f07e9ed0'},\n",
       " {'__UUID__': '68eb1b13-1dfd-485e-9f4f-75ab490db4a0'},\n",
       " {'__UUID__': '86fae484-20c4-4078-9a92-c006e13b5d65'},\n",
       " {'__UUID__': 'a2f9289d-29d9-4a62-9fa6-425d28a0e6ff'},\n",
       " {'__UUID__': 'b47ccb7c-f44c-45c2-a5ce-add4e3aad58e'},\n",
       " {'__UUID__': '5db75ace-32ff-4680-8f22-10ba388c8724'},\n",
       " {'__UUID__': '99da669d-35c5-4c45-a30d-f31e4953ab7d'},\n",
       " {'__UUID__': '0637ffbf-65c6-4381-b3b0-3687defd2e01'},\n",
       " {'__UUID__': 'b9dba9d1-69ff-4420-95ca-6b5ac4abf38a'},\n",
       " {'__UUID__': 'ed68364c-8cc5-4aa4-872d-a90073d02942'},\n",
       " {'__UUID__': '674d23ed-6052-4f57-887e-dc5695dcdee1'},\n",
       " {'__UUID__': '60eadc5b-d81e-4d39-94ad-c17bb697c7f5'},\n",
       " {'__UUID__': '44445167-015c-449d-a73c-eb5364e7e038'},\n",
       " {'__UUID__': 'c6b28bb3-841b-40de-a93d-fc3ccfb8ee68'},\n",
       " {'__UUID__': '8a5fca97-9125-4683-82ff-a44d4f56d712'},\n",
       " {'__UUID__': '6510cbd8-9489-4e90-8df0-7780d8c528fb'},\n",
       " {'__UUID__': '27d3adb6-f33c-4977-9d17-96ff386bab9a'},\n",
       " {'__UUID__': 'aabd4ba0-10cd-48a9-a311-6ed47f5a487b'},\n",
       " {'__UUID__': '9a93ac94-59d9-4a77-9d10-d0bf78224bc1'},\n",
       " {'__UUID__': 'acd23c6f-c251-4aa8-9d9b-baa944911cc9'},\n",
       " {'__UUID__': '45e431b2-4fdf-42a8-8e06-0cb1abfb198b'},\n",
       " {'__UUID__': 'a7ad99f6-0036-4733-b394-1518ee6d3b7e'},\n",
       " {'__UUID__': 'bc3371f2-d96a-4d38-bfd4-9eed1017879e'},\n",
       " {'__UUID__': '7bebd825-9b7e-487f-b010-9d9881b23dcb'},\n",
       " {'__UUID__': '18e7b876-5c91-4791-9924-56a8357a98fc'},\n",
       " {'__UUID__': '03e3eb6f-a06a-4e77-8ca6-e8e5f846b8fa'},\n",
       " {'__UUID__': 'b2904185-0eb2-4542-b780-e793796ba52c'},\n",
       " {'__UUID__': 'f8e00440-d1df-4358-a05e-cd104d880624'},\n",
       " {'__UUID__': '23f48a84-d3a5-4361-aed7-a5a942151dce'},\n",
       " {'__UUID__': '649864e5-81ca-4237-b932-323516aa6256'},\n",
       " {'__UUID__': 'b86b08c1-7183-4cb8-8728-ef5771ccffae'},\n",
       " {'__UUID__': '1972e888-5332-4cbf-a75b-699dfbb09f5c'},\n",
       " {'__UUID__': '0e46d305-c610-47af-bd4f-7b90e087504f'},\n",
       " {'__UUID__': 'f21f245e-0ad4-48a4-922f-7dd7cc18e537'},\n",
       " {'__UUID__': '6f0b0e0b-c2e0-4ce7-a857-2db11c9e2d11'},\n",
       " {'__UUID__': '81f6a494-8c74-40b9-a266-338f4c983c5b'},\n",
       " {'__UUID__': 'fa5d92d0-162b-4d75-bc9b-52c4470d2e87'},\n",
       " {'__UUID__': '77cc2478-7167-45b0-956f-a048607be612'},\n",
       " {'__UUID__': '771d7893-dc68-4693-a838-462942fc0767'},\n",
       " {'__UUID__': '8dcc1ed1-0d4b-44f1-b8de-14729b4965ed'},\n",
       " {'__UUID__': '80cb7459-afe7-41d8-a5df-4234de9c3d07'},\n",
       " {'__UUID__': 'e89dd4da-be7b-47b5-9083-aa96fbe7b747'},\n",
       " {'__UUID__': 'cbbbf801-8c74-4d27-8ddc-b738b4ffdf64'},\n",
       " {'__UUID__': '4cf4ebaa-c2fc-4a14-a444-2afe923e865d'},\n",
       " {'__UUID__': '8e38ec67-64f2-4b78-865f-2fb64815e5c1'},\n",
       " {'__UUID__': 'a594fc75-57f5-49de-8814-20cc839f9c34'},\n",
       " {'__UUID__': 'ea488816-63dd-4d4a-b581-d05075898f17'},\n",
       " {'__UUID__': '16e8b47c-10ae-4217-a09d-35e46589cb9c'},\n",
       " {'__UUID__': '28971ada-83d0-48a1-a728-9492c7fc1241'},\n",
       " {'__UUID__': 'a1a01b12-9f28-4242-944a-863e4731690f'},\n",
       " {'__UUID__': '0e555eea-72ea-492f-bf82-a5441743441e'},\n",
       " {'__UUID__': '88e186d5-b3f8-4f36-bc19-dd4b93f2eeb7'},\n",
       " {'__UUID__': 'bc0f97a4-57bc-4191-b2c2-5c3b9d88d507'},\n",
       " {'__UUID__': 'a948c26d-2c02-4d94-8d8c-dd9d473dd34e'},\n",
       " {'__UUID__': '9608326c-7822-41f4-838f-3beabb66883c'},\n",
       " {'__UUID__': '12c1ea60-aaad-4cf0-9d06-85359a08e1c3'},\n",
       " {'__UUID__': '0a670ad4-9757-40da-8979-2763a014c623'},\n",
       " {'__UUID__': 'f29eddeb-79c5-4423-bd4f-ced9df67d4cd'},\n",
       " {'__UUID__': '7443bbce-0dd8-451c-bfc0-37d7358f679f'},\n",
       " {'__UUID__': 'caafff90-6787-45ed-b205-dc26cc218783'},\n",
       " {'__UUID__': 'c80506c6-6877-48ca-9558-6b25a1658414'},\n",
       " {'__UUID__': 'bd0eddd9-a1d9-49d0-ba3e-ce977aa491cc'},\n",
       " {'__UUID__': '611607bf-2b52-468b-a05c-fcf70aeb25af'},\n",
       " {'__UUID__': '1608269b-93ff-494f-a6f2-150d692428da'},\n",
       " {'__UUID__': 'e77a3b41-5f25-4b32-91f6-5d1975c34f5b'},\n",
       " {'__UUID__': '87a3abb2-5b4e-4f3a-a3b8-3cacb62a93d3'},\n",
       " {'__UUID__': '3f46f1e6-bd1f-41de-b869-cc9ea4a13967'},\n",
       " {'__UUID__': '6f9c89b6-155f-4997-a94f-f64c30c4cfe3'},\n",
       " {'__UUID__': 'ae36ff94-d5a1-4662-bbc3-0bdc65e06834'},\n",
       " {'__UUID__': '1a993f93-368e-400e-a32b-5828a301ad96'},\n",
       " {'__UUID__': 'b14aa4be-4537-4586-be54-7e56b47e83a4'},\n",
       " {'__UUID__': 'd0af654a-47db-439b-9252-46c4b2205eab'},\n",
       " {'__UUID__': 'bbf95eaa-7c1f-4983-9e7c-b8aa56d07ee0'},\n",
       " {'__UUID__': '3809e281-c911-44e0-89d1-fa01b46d7832'},\n",
       " {'__UUID__': '2529272c-aec3-42ba-9255-57028f6c2a99'},\n",
       " {'__UUID__': '775b18ce-08c9-49b7-8c26-8335025b5af2'},\n",
       " {'__UUID__': 'c55ae7cc-b1ad-4e59-a199-383fa6031a43'},\n",
       " {'__UUID__': 'd2d0f125-ec67-458c-95d9-ca2e81fc9141'},\n",
       " {'__UUID__': 'cff99b53-179c-4b86-bc62-9d795f9119ea'},\n",
       " {'__UUID__': '70ec8fa8-85e7-4f85-a94c-15142dc27827'},\n",
       " {'__UUID__': 'bf536fc7-f98b-4745-acbf-f0f09195c725'},\n",
       " {'__UUID__': '7b0c9d24-7d8f-4c45-a3b3-bb2177c47695'},\n",
       " {'__UUID__': '1de93573-6e03-4083-9b8f-409dc226dc14'},\n",
       " {'__UUID__': 'aee2abf5-cc08-4830-a70d-dae449bb747b'},\n",
       " {'__UUID__': '6e391fc1-1e09-48b8-b697-cbb714e44479'},\n",
       " {'__UUID__': 'e8305d6f-7ff9-46e7-b5fc-3f1821a399c7'},\n",
       " {'__UUID__': '924657ef-25f2-4707-ad4b-bb0a45b3a5b2'},\n",
       " {'__UUID__': '68f38a7f-fcea-4aa6-b9a6-b4ad562f2ba3'},\n",
       " {'__UUID__': '46f9c28e-1ed7-4a1a-bd01-bfa785f72a03'},\n",
       " {'__UUID__': '9a55335d-56da-4626-8b8f-b16d369ca98d'},\n",
       " {'__UUID__': '8bafc159-bd04-4eee-b7ef-81a726cc3ce3'},\n",
       " {'__UUID__': '55cddcf9-373f-4397-a423-acf8bbda2d58'},\n",
       " {'__UUID__': 'adbe1c8b-ad10-4607-8add-6f5547fe64c8'},\n",
       " {'__UUID__': '70b88ed0-cfa9-42c2-bed6-b8ab22095839'},\n",
       " {'__UUID__': '92b7c885-2c7c-48e7-9a9b-fa1b9f0fd729'},\n",
       " {'__UUID__': 'b49e20b8-aa59-4dd8-8892-24fd262b09b1'},\n",
       " {'__UUID__': '3d860f6c-93b5-42e1-aea5-ea04d9db966c'},\n",
       " {'__UUID__': 'ed88a390-2bf1-4c20-9eea-0c309a5c2039'},\n",
       " {'__UUID__': '93f693b3-dae0-410b-85a8-46a5fd23a81c'},\n",
       " {'__UUID__': '58833b33-5d3d-4ba3-af99-1aee9c4a2bd3'},\n",
       " {'__UUID__': '92b91fb0-ba58-4f63-b591-68ac19753710'},\n",
       " {'__UUID__': '64c997f0-120c-4149-b698-d3cee9fef0f5'},\n",
       " {'__UUID__': '97f01640-b7e5-46b9-8392-4e520a5dfa88'},\n",
       " {'__UUID__': 'b1b7468f-5331-42e9-b221-c19396f8c4bf'},\n",
       " {'__UUID__': 'ca6810f9-0c33-4e36-a4b4-6f40352038cf'},\n",
       " {'__UUID__': '840e1da3-377b-40cd-99be-8347fbd5b58d'},\n",
       " {'__UUID__': '6393f52a-6505-4134-b955-101afa6a2f3c'},\n",
       " {'__UUID__': '95911b78-679d-431c-b6cb-cfdec0e24034'},\n",
       " {'__UUID__': '6457278c-b43a-41ac-b1e4-9ec5b9d2e1dc'},\n",
       " {'__UUID__': '0940471e-f69e-4142-8b3c-5dfc872731b5'},\n",
       " {'__UUID__': '58ae6d33-9464-4b55-99f9-4d84601ad8be'},\n",
       " {'__UUID__': 'e7f8af4f-c43d-4ea3-adf6-fa65c5a8ff0d'},\n",
       " {'__UUID__': 'c939da78-edbe-4e64-a1e8-620fd93329de'},\n",
       " {'__UUID__': '7d4099d3-4e95-4eca-ba4a-fd8075d1a8cd'},\n",
       " {'__UUID__': '4e5f00f3-87f7-4a28-8d51-5b2b2f0f39c7'},\n",
       " {'__UUID__': '7d6c7caa-9e80-4783-a5a3-36c94e9fbd5d'},\n",
       " {'__UUID__': '7fc290c3-4207-44e6-bca0-a3356e945777'},\n",
       " {'__UUID__': '6a417608-0def-4e2a-8ffa-fff57641b01b'},\n",
       " {'__UUID__': 'fc571363-2ce7-4ae2-b5ce-32198ef8b0f3'},\n",
       " {'__UUID__': '12bd98c5-b931-4230-9a16-654c0c66dab2'},\n",
       " {'__UUID__': 'b886d60c-39ab-45dc-842d-037219da75a2'},\n",
       " {'__UUID__': 'bdc5c072-e7ff-4227-92ea-4c6fb69df3d6'},\n",
       " {'__UUID__': 'e1455baf-51e3-4155-ad24-1483090956c9'},\n",
       " {'__UUID__': 'a206fccd-10b9-463b-99c2-aa67419994fc'},\n",
       " {'__UUID__': 'fae1a227-4b0a-4269-9457-85129bafde05'},\n",
       " {'__UUID__': 'd8a8f691-580e-4bd1-a061-94511b9a856d'},\n",
       " {'__UUID__': '448bf747-98b7-4713-ba3b-340ed59c62fd'},\n",
       " {'__UUID__': 'c900c6e1-27bc-4a89-8ae7-be68c41d0eb1'},\n",
       " {'__UUID__': 'a547a87d-7fc7-4a65-a4f4-a46a5e1772bf'},\n",
       " {'__UUID__': '7fc5804e-17ce-4e14-a7c2-23516050e317'},\n",
       " {'__UUID__': 'df0fc51a-6401-4536-bb9c-5cf4bff37984'},\n",
       " {'__UUID__': '64924490-57e1-4688-bf29-1ddc1ec2e5e0'},\n",
       " {'__UUID__': '097d63bc-8aa8-4a1b-a772-04697ef7d85e'},\n",
       " {'__UUID__': 'f3b5fef3-efca-4bc0-9664-b83f5490e124'},\n",
       " {'__UUID__': '44c65412-5394-41ed-9345-467fb6f93eb1'},\n",
       " {'__UUID__': '5b40264f-ee95-4cc2-8686-520af9b4d931'},\n",
       " {'__UUID__': 'f2e98c55-165b-40d7-9998-7508010515bc'},\n",
       " {'__UUID__': 'baa8374e-24a8-4897-a0e3-c8f1dedd3e7b'},\n",
       " {'__UUID__': '39db8778-5540-4751-b3bf-45ee327ab356'},\n",
       " {'__UUID__': '7638059f-f2c6-460f-ad88-4456e57989c5'},\n",
       " {'__UUID__': 'af45153f-d211-4cf1-8fe7-36cd9d4882cf'},\n",
       " {'__UUID__': 'c197d339-3364-4330-bd83-0a096905d4de'},\n",
       " {'__UUID__': 'df67285b-1a1a-4bad-83c5-ef03decaf048'},\n",
       " {'__UUID__': 'cbbf07d8-8775-43b2-85a1-d35c826f78ae'},\n",
       " {'__UUID__': '965c40ad-741a-4bba-93aa-8f9ed6c92d1c'},\n",
       " {'__UUID__': 'bbccc261-2ae9-4e54-b211-c04055025775'},\n",
       " {'__UUID__': '463e92f5-6008-4655-9e62-cc85c283ccdb'},\n",
       " {'__UUID__': '2fe368c1-60f6-446e-9ad6-0336460cf0b2'},\n",
       " {'__UUID__': '710fe3c7-c038-4b15-8dad-3f76b066d905'},\n",
       " {'__UUID__': 'a1cbd070-512f-4f9f-ba15-81b47a3fac36'},\n",
       " {'__UUID__': 'cc729af8-5b3f-4bbe-82e6-a3a28c489dc4'},\n",
       " {'__UUID__': 'ea7b51ee-f640-4d44-9e12-c7ba9a805c62'},\n",
       " {'__UUID__': 'c373b42b-d2e8-4429-b6ec-94c5c1595999'},\n",
       " {'__UUID__': '5ea2ca5c-fa74-4595-932d-fd3725397258'},\n",
       " {'__UUID__': '650e3c8b-9515-4910-ac05-647e39cebd15'},\n",
       " {'__UUID__': 'c09e12c5-f224-49b4-9a42-95834372590f'},\n",
       " {'__UUID__': '836142d9-2227-4374-b789-aa92030a442b'},\n",
       " {'__UUID__': '63555caf-93e7-48f6-b076-b5b553ccf4d1'},\n",
       " {'__UUID__': '9482138e-6c22-46d5-b2be-07edad21c2fb'},\n",
       " {'__UUID__': 'a72516d4-51b9-4f98-95bc-2fd729197212'},\n",
       " {'__UUID__': '2fdd37b7-db45-45e9-b370-9cc17d9abbca'},\n",
       " {'__UUID__': '8cf0684d-6bf8-4c21-8240-12098f1e1319'},\n",
       " {'__UUID__': 'c283c3bf-7eec-4878-9abb-c0e0a65dee46'},\n",
       " {'__UUID__': '85c830b9-4f41-4c96-a0ee-285fe7092501'},\n",
       " {'__UUID__': '9803c6ee-f6f8-4c6a-9f9d-2b359abe3901'},\n",
       " {'__UUID__': '3d784479-82ae-42b0-baef-b150289f5e88'},\n",
       " {'__UUID__': '5333f277-3a9a-4b69-bc98-dbaf0f380afd'},\n",
       " {'__UUID__': '9d9aa446-833e-45a8-9892-fda7c8390e28'},\n",
       " {'__UUID__': '2ead6ed0-68f1-495d-b241-18118418fa05'},\n",
       " {'__UUID__': '1048d016-e8ec-4474-811f-c38f95b80e61'},\n",
       " {'__UUID__': '1d3cad72-682c-46e2-9219-c6f51b2d5086'},\n",
       " {'__UUID__': 'b2453386-ace7-4f9f-b212-8c79b78ff9b4'},\n",
       " {'__UUID__': '816b9bb8-44e4-44b6-b10d-f707bb2bfd06'},\n",
       " {'__UUID__': '1502c352-3ad8-4b07-a4f3-86929cf1ac1c'},\n",
       " {'__UUID__': 'ac2142fe-42c4-4fce-a9a6-8029e948269e'},\n",
       " {'__UUID__': '650a299e-1e4f-4b22-940e-bd91a092f6b2'},\n",
       " {'__UUID__': '11bdaa84-da40-4aca-a02b-5dc2d2a84251'},\n",
       " {'__UUID__': '5cc5b2f4-0895-434f-a551-468c33bda147'},\n",
       " {'__UUID__': '737a47fe-60cd-4426-a682-7842838d2e37'},\n",
       " {'__UUID__': '95944197-e557-431a-b63c-86479ec536da'},\n",
       " {'__UUID__': '4a0b75ed-b5be-4923-9b0b-abe2309096a7'},\n",
       " {'__UUID__': 'e7020554-fb57-4a9d-9e8f-936fad82bc5f'},\n",
       " {'__UUID__': 'd1b9c9fb-b4e0-427f-9df7-e33dfce24b37'},\n",
       " {'__UUID__': 'dcd9dd27-25d5-4d65-abac-69ddc8e7e2a7'},\n",
       " {'__UUID__': 'af282a3d-965e-475b-8f12-e56ffcfc1222'},\n",
       " {'__UUID__': '8b93de16-b37a-46f6-869a-3043b557bf7b'},\n",
       " {'__UUID__': '3e7cc4a9-d11f-437c-83de-c0adb4ea0e09'},\n",
       " {'__UUID__': 'f445c5de-9f58-4ec0-a533-499081da44c4'},\n",
       " {'__UUID__': '7de5e21b-51a9-4f97-92f4-743b1e598763'},\n",
       " {'__UUID__': '0a3765bc-c02a-4518-b71e-ab7e3079764a'},\n",
       " {'__UUID__': 'b1809b0c-69c6-4ce4-b8db-c6a5a61150f1'},\n",
       " {'__UUID__': '8248c68c-f39a-4690-8c1b-420fce4cbced'},\n",
       " {'__UUID__': '4f0c8b46-ece3-4de9-b673-ab91aa9e013a'},\n",
       " {'__UUID__': 'ba2f171f-60c8-4b63-94c4-0909334c6126'},\n",
       " {'__UUID__': '38a04160-e1fd-4f17-b6bd-e6b4dc221f1f'},\n",
       " {'__UUID__': '0ed877c0-2fe6-4916-8d76-b88d040a5860'},\n",
       " {'__UUID__': 'ca982740-0bee-4617-9ad3-89ac1fb212be'},\n",
       " {'__UUID__': '3b25a9da-60e9-4fad-aee3-fd9a2a475754'},\n",
       " {'__UUID__': '67b93a6a-35db-4055-96fb-6554269041ac'},\n",
       " {'__UUID__': '65962a8d-1e97-416a-9c1b-a8318692185a'},\n",
       " {'__UUID__': '4b1b6856-26ff-4442-a3ff-f464b89c3e6b'},\n",
       " {'__UUID__': '7361ae47-1c53-456e-9fe1-70c8803ced49'},\n",
       " {'__UUID__': '6163c598-613d-453a-b6cd-32fc0d9cffde'},\n",
       " {'__UUID__': '52764b2b-fa5f-4ed8-8eb6-7c0b39aad9b4'},\n",
       " {'__UUID__': '9758c6a7-2d42-4637-a130-ea766cf464b8'},\n",
       " {'__UUID__': 'ead45243-8b7a-4f9d-8ab7-0f63c336a5e6'},\n",
       " {'__UUID__': '1784d46d-b0b5-4c7b-8f35-5eb250b9fdef'},\n",
       " {'__UUID__': '40917e0b-1f47-423b-bf9d-00b5ae6c3612'},\n",
       " {'__UUID__': '3106f9ac-b1e2-4ce5-b845-8a9a3d5615e7'},\n",
       " {'__UUID__': 'fafcda61-e556-425f-865f-f3147c5d91ac'},\n",
       " {'__UUID__': 'a1de6801-4b7d-467d-813d-4d5ed7585bf5'},\n",
       " {'__UUID__': '4dccab96-6303-47d4-8347-a00ff8c79f35'},\n",
       " {'__UUID__': '1423b5f2-98b9-415d-952e-24ada6f1ecee'},\n",
       " {'__UUID__': 'ea23c527-3707-4440-b5f0-638a4b283bb0'},\n",
       " {'__UUID__': '332adc18-ed2a-459b-aace-0f9c33630ca6'},\n",
       " {'__UUID__': 'c856cb3a-4f31-4f28-a49a-d0774769cdf6'},\n",
       " {'__UUID__': '32ec6143-6838-406d-9edb-9993149f01e8'},\n",
       " {'__UUID__': 'db4e9fa0-f50a-44f6-b75f-4861fe5578a4'},\n",
       " {'__UUID__': '2aaf42b0-be4c-4b57-9911-4862f4d9e440'},\n",
       " {'__UUID__': 'bc63b9be-5e35-40f8-bff8-8ca3cd2b452b'},\n",
       " {'__UUID__': 'f2fabe80-3fc8-4cdc-ad1e-fb1dfdfb5b48'},\n",
       " {'__UUID__': '2a0d0bc6-b37d-4000-bb35-435a6696e615'},\n",
       " {'__UUID__': 'e5f7e531-8676-437a-ae79-20d3556a6a32'},\n",
       " {'__UUID__': '9af7b173-2316-41d7-a74a-d291af770541'},\n",
       " {'__UUID__': 'df30c3d7-9a71-481b-967b-e6557a9402f7'},\n",
       " {'__UUID__': '99b82aac-b9f5-497c-8eb2-39cfde82e360'},\n",
       " {'__UUID__': 'a1fac72c-03b6-41cc-9718-4eabd64c9ed8'},\n",
       " {'__UUID__': '8b79c78e-8c48-46a1-af39-5fa852ad268f'},\n",
       " {'__UUID__': 'c1801285-a455-4541-9293-ce3e95f03f06'},\n",
       " {'__UUID__': '4d8de7e7-59f6-4fef-9e21-2a2571b7384d'},\n",
       " {'__UUID__': 'd65f586e-3693-45d4-986b-826ea6dbbaf2'},\n",
       " {'__UUID__': '5818ea04-b387-4c29-b682-0addd42a228a'},\n",
       " {'__UUID__': 'dfa76e84-fc83-4f4f-8dc1-e3e8b3aedde7'},\n",
       " {'__UUID__': 'baff5144-35ef-4959-aba5-f76ed9e220ae'},\n",
       " {'__UUID__': 'cf904bf0-ced3-4456-9d98-cd3414db4eeb'},\n",
       " {'__UUID__': 'f74d977e-6ac4-4e92-8824-2d9378d4b2b6'},\n",
       " {'__UUID__': '44342783-92f8-41d2-81ec-ca28b97b5766'},\n",
       " {'__UUID__': 'ba2f3b15-cb0d-4451-b29b-3da15cc3ba28'},\n",
       " {'__UUID__': '0d1b8572-7d77-4102-ab98-2108cfbc7aeb'},\n",
       " {'__UUID__': '2781c827-c7a5-438a-b616-5f146c03533d'},\n",
       " {'__UUID__': 'de37b82a-19cf-4d88-b212-18a0a20ce9e3'},\n",
       " {'__UUID__': 'ee9e49b5-1246-4070-a381-360511b56378'},\n",
       " {'__UUID__': '297c12e5-7381-46d3-b359-d4205b94b313'},\n",
       " {'__UUID__': '3b27221d-6f0f-417b-bbe7-1f7ab2b485b5'},\n",
       " {'__UUID__': 'c7892147-0ef0-4741-8202-b00a95555308'},\n",
       " {'__UUID__': '642ef6f1-3737-4594-8d42-686f670a3f99'},\n",
       " {'__UUID__': '40fc292a-91b9-44d0-90ea-6f230851770b'},\n",
       " {'__UUID__': '05d96c0b-c5ff-429d-841a-1e4aa4c2007b'},\n",
       " {'__UUID__': 'b1da01d5-4acc-4e1f-b1ac-d9fc1cb7845a'},\n",
       " {'__UUID__': '325f667f-68e6-415c-91b5-16ab55caa36c'},\n",
       " {'__UUID__': '965ffdfa-f30c-445c-ba2c-9ab984180900'},\n",
       " {'__UUID__': '5ebdc14c-dde8-47a1-a3b0-48933be89520'},\n",
       " {'__UUID__': '8817750a-6364-4fb5-afe5-d3cff10db36e'},\n",
       " {'__UUID__': 'dba8a8d0-83c3-4a0c-8bbb-916e5d61e2fa'},\n",
       " {'__UUID__': 'ff5fc27b-e76f-4661-9534-46e2f528dd62'},\n",
       " {'__UUID__': 'd8cb434c-2bc0-4ca0-9ca6-93cfe6abfb96'},\n",
       " {'__UUID__': 'b654de86-f285-483a-ae83-526cf7252519'},\n",
       " {'__UUID__': 'fa5cdfae-9ce9-4e02-95c9-bbe6ed93f7da'},\n",
       " {'__UUID__': 'fcfe9570-6741-420d-8f57-3bd0bb42dab6'},\n",
       " {'__UUID__': '842f7304-822b-49f2-8a97-0c9be73a8e9e'},\n",
       " {'__UUID__': '584c3a6e-7473-4cc7-aa34-1e5162e45e62'},\n",
       " {'__UUID__': '3c61ad8d-a76e-4c61-8a97-0e8a9c214b90'},\n",
       " {'__UUID__': 'c5b86029-6782-4fda-a3d8-45ad212bbd09'},\n",
       " {'__UUID__': 'a9f5921a-b295-42e3-830b-3f1394c20749'},\n",
       " {'__UUID__': '720908f4-04fe-407f-b1f3-9cd006b11586'},\n",
       " {'__UUID__': 'cded42eb-e7a0-4f51-8d02-38871f473c44'},\n",
       " {'__UUID__': 'f3fdd76b-3abb-4b18-89b6-bc5b34decaea'},\n",
       " {'__UUID__': '5df403a5-54bf-4a64-a17c-5fc375d0fa4d'},\n",
       " {'__UUID__': 'cb156a5b-ee3a-416c-9a1d-c5ed42b54735'},\n",
       " {'__UUID__': '4d9f7f0d-b8c9-43b7-a9de-84cd152fdbd4'},\n",
       " {'__UUID__': '3c31575f-b26e-41ba-9ed6-06a7a11691af'},\n",
       " {'__UUID__': '87b314a7-9f55-46e9-a988-cbf9349cab2b'},\n",
       " {'__UUID__': '9f238965-8cf6-47c3-9b1c-e0e0f8f88f7b'},\n",
       " {'__UUID__': '15768cb6-4355-4e74-bdc9-8f5394c2c32c'},\n",
       " {'__UUID__': '9f1fd5d3-589b-4225-a295-881b0e513624'},\n",
       " {'__UUID__': '5891c8ce-e2ef-4689-bf17-371a32307356'},\n",
       " {'__UUID__': 'ae5ba6e9-ffe9-4c15-a104-780e1d4d0b6e'},\n",
       " {'__UUID__': 'bc49612f-9be3-4b88-88fb-72c778d4589e'},\n",
       " {'__UUID__': '1706b04f-b30f-443b-b65d-801ef71686ba'},\n",
       " {'__UUID__': 'acb83333-b9d8-4fec-9c7b-90c9d60ea0a4'},\n",
       " {'__UUID__': 'a0bd800e-b1f8-4a03-aaae-e9513b5c5fff'},\n",
       " {'__UUID__': '6939daf9-88d6-4ea6-a21e-29851e9c2b29'},\n",
       " {'__UUID__': '83c20a5e-d86c-4117-a8ce-33878a6e48aa'},\n",
       " {'__UUID__': '1ca7946f-9f4d-495b-bae9-9974ddb22def'},\n",
       " {'__UUID__': '1f8cd821-4fd1-4778-8207-577248ee304b'},\n",
       " {'__UUID__': 'a7f1fefe-3eb7-4ed7-97b4-42a6abfc9239'},\n",
       " {'__UUID__': '56d79688-b72f-4a9f-994e-d8d8a3666d86'},\n",
       " {'__UUID__': '15b09e13-297a-4824-a65a-30554d67cd58'},\n",
       " {'__UUID__': '50b74c00-8a3d-4445-82ed-09fb7a8db1ce'},\n",
       " {'__UUID__': '9ab72b61-7779-4621-bb68-eadf3d66f1cd'},\n",
       " {'__UUID__': '62a55379-5d49-4239-8d59-de818fca74a0'},\n",
       " {'__UUID__': '4e884fc9-f053-45a1-bb93-6f0fd3f1eea6'},\n",
       " {'__UUID__': 'd8919a64-76d6-4f0e-a4a8-2fb42a5679ed'},\n",
       " {'__UUID__': 'b5f33065-4c8e-498d-81d2-cd23c1283ec3'},\n",
       " {'__UUID__': '583efac3-64cf-4970-9aa5-83b5cc4ba7d9'},\n",
       " {'__UUID__': '3703cea6-c096-4073-9ffb-7d242bffa044'},\n",
       " {'__UUID__': '4583c809-52bd-4d86-84e6-34861dce23a1'},\n",
       " {'__UUID__': '84d4574d-23c3-480d-9655-cf963b43e0a7'},\n",
       " {'__UUID__': '11d54b19-2577-4e02-b551-3857539bb435'},\n",
       " {'__UUID__': 'e6110ee4-d91f-400d-adb4-1816e09a9fb3'},\n",
       " {'__UUID__': '409f3576-7439-4dfc-99af-b9d8d1c44558'},\n",
       " {'__UUID__': '37616438-1eab-46e5-8b14-ba026cbdadd0'},\n",
       " {'__UUID__': '4a07b669-8d04-4a6f-afb1-9eba628a1286'},\n",
       " {'__UUID__': '60715812-802f-44ed-99a8-b3aa89416c87'},\n",
       " {'__UUID__': '3ecc725a-eed7-4ffe-a371-8685310c9fae'},\n",
       " {'__UUID__': '5097949e-5d4f-491b-af67-9f9580cddeed'},\n",
       " {'__UUID__': 'd365fc0a-3ead-4844-a284-031a40a6ce08'},\n",
       " {'__UUID__': '429c04d6-0c77-47b2-b6e0-69f604741497'},\n",
       " {'__UUID__': 'cd380242-4941-4ee1-bc86-0df78f656c8d'},\n",
       " {'__UUID__': 'cdb8c24e-06dc-4632-a933-b9f7dd45550b'},\n",
       " {'__UUID__': 'dabbc205-c283-4f0d-b2d1-89ade6968a3a'},\n",
       " {'__UUID__': 'd8565bf9-2282-4401-8605-9b64f04a4601'},\n",
       " {'__UUID__': '6d84cc53-a942-4178-88d4-20d63cef6987'},\n",
       " {'__UUID__': 'a863a28e-4654-422b-9796-9f7a1ce04aac'},\n",
       " {'__UUID__': 'e615c2de-33a9-4177-bae1-0c5f500b67b3'},\n",
       " {'__UUID__': '6a3d4fff-90f6-4536-a87c-c788f45e2065'},\n",
       " {'__UUID__': '3e134b8a-3570-447a-b246-e729686c586c'},\n",
       " {'__UUID__': 'f3ed2ce9-95e2-4d08-a323-6467b7fe75ba'},\n",
       " {'__UUID__': 'cb0e3c55-bd6b-4961-8348-d4b7928a0913'},\n",
       " {'__UUID__': '481fc874-ee0f-42de-b08e-f661b4e308d2'},\n",
       " {'__UUID__': '574972f2-bf64-4341-b15f-29e7b1b9aea7'},\n",
       " {'__UUID__': '2c70aaf2-bcf6-42e1-8e56-bd54ca9012b1'},\n",
       " {'__UUID__': '5ef63b9f-b07d-4de1-b86e-1f9b00ab93a2'},\n",
       " {'__UUID__': 'cbb8890a-fdf7-4f8a-a271-38f8710ebfc6'},\n",
       " {'__UUID__': 'ab3cc11d-69e5-4413-9beb-b2de44f8a848'},\n",
       " {'__UUID__': '71995763-5dbc-4661-b9ed-55846cc3fb5b'},\n",
       " {'__UUID__': 'e67c0465-5df9-45de-a0db-796813418ff6'},\n",
       " {'__UUID__': 'c466b610-736d-4b46-9f0a-f7e7323ab7f3'},\n",
       " {'__UUID__': '9dfbdb05-f9e0-4621-af69-35b261c08bb9'},\n",
       " {'__UUID__': '92083524-4b17-4985-88f1-ce757417914b'},\n",
       " {'__UUID__': '62da49ec-dfaa-4187-8b09-c0b10f13e8ec'},\n",
       " {'__UUID__': 'fc596560-ceb7-4337-95c9-49a3b22a82ed'},\n",
       " {'__UUID__': '0d48214c-6427-42e4-8453-90547752e70a'},\n",
       " {'__UUID__': '80478b7b-cdb6-411a-96d4-0839a14a4701'},\n",
       " {'__UUID__': '4713143f-5a3b-4460-8264-37f5fbaddbb2'},\n",
       " {'__UUID__': '65da1dc5-98e8-4d2f-9a2d-4de8fae8e2dd'},\n",
       " {'__UUID__': '63af1007-f51c-4f02-892a-cc6f6cc5fb2d'},\n",
       " {'__UUID__': 'b0711151-f8da-47e2-a854-1db376b03c2f'},\n",
       " {'__UUID__': '955bf6ca-798c-4d36-ae2f-e06be2971939'},\n",
       " {'__UUID__': '328deb7a-e88c-4a4d-8196-6d5918fe098d'},\n",
       " {'__UUID__': '4ff9084b-a7a9-4663-a557-8b1dc2684356'},\n",
       " {'__UUID__': '783496cf-031d-4126-aaea-660ed5b3dddf'},\n",
       " {'__UUID__': '8426dd1a-12e8-4fb8-983d-6b4e2612dd78'},\n",
       " {'__UUID__': '2df11587-8091-45ca-b52f-22e4b7519915'},\n",
       " {'__UUID__': 'bf1a3768-64f6-4065-b5fb-665e94b3bd50'},\n",
       " {'__UUID__': 'cbd2fc4c-415b-4444-8104-b172ea2f8895'},\n",
       " {'__UUID__': '25597e28-fedf-4e1f-a635-1e7d9eeb2200'},\n",
       " {'__UUID__': '88efd932-a23b-4289-8224-598ce78eb79b'},\n",
       " {'__UUID__': '0e3cc12e-a9c4-4e81-8c7b-66a83d2594cb'},\n",
       " {'__UUID__': 'ebbffc6f-d8cb-4e70-acb2-e03c524deb01'},\n",
       " {'__UUID__': '2eb6017e-bcd5-4c10-ae8c-209b228d4467'},\n",
       " {'__UUID__': '6a871f26-8934-486d-aed1-9d5e6a2f41a1'},\n",
       " {'__UUID__': '5d7550f8-d4d9-435b-9b7e-db9f58e57ee6'},\n",
       " {'__UUID__': '900eaf85-d939-4e1d-b410-1a3c8b28dd97'},\n",
       " {'__UUID__': 'c1676c82-a53e-4b04-a707-8d6b71a61012'},\n",
       " {'__UUID__': 'b6d87f5b-61b4-4a24-a9b4-21820d98e8e0'},\n",
       " {'__UUID__': '6c501966-9d2c-4391-849f-b813ff42dfbe'},\n",
       " {'__UUID__': 'decb58b6-9c1f-4b90-8df4-420a2f783e14'},\n",
       " {'__UUID__': '1903734d-2db3-4cc2-aca0-60c3cfa85da9'},\n",
       " {'__UUID__': '2c3103a2-8d3f-4d02-89e3-9631076cf001'},\n",
       " {'__UUID__': '0a153c39-97ed-4712-b740-03ad7db25b7a'},\n",
       " {'__UUID__': '147dd803-be06-4f7c-9046-49fbe9ddbe92'},\n",
       " {'__UUID__': 'cf7bc20e-ed6f-4f31-99ca-481b28412fa5'},\n",
       " {'__UUID__': '640b2745-f8aa-481b-98cd-afa20d551d41'},\n",
       " {'__UUID__': '40ad6fbc-05e3-45b6-aad0-8dc9ac39708e'},\n",
       " {'__UUID__': '3e211bda-fc78-4062-a7c1-9865696929b4'},\n",
       " {'__UUID__': 'a6e2f421-4023-4192-b892-390177a3d59d'},\n",
       " {'__UUID__': '4cf3a33c-b1f2-4765-a35a-530ebed603b6'},\n",
       " {'__UUID__': '83c58303-532e-4909-9249-d819c345db74'},\n",
       " {'__UUID__': '97b89d3f-5d61-48c7-941c-5463aba99715'},\n",
       " {'__UUID__': '13f17c7b-94a0-45a5-8b3b-2564235bfe61'},\n",
       " {'__UUID__': '63ac7cec-e2b7-4fb6-8b56-3af8317f9e8f'},\n",
       " {'__UUID__': 'b66f5250-b7fb-48c4-9b56-7810f47f2f6f'},\n",
       " {'__UUID__': 'b69bfbd4-0837-4165-bb1a-af523964eb0d'},\n",
       " {'__UUID__': '03006d02-c086-4f3f-bfaf-9dca731ed64d'},\n",
       " {'__UUID__': '51091efb-c1d8-4614-a8e8-260dcfbac0f1'},\n",
       " {'__UUID__': '03025e01-3c79-42aa-a984-5331ef29eb8b'},\n",
       " {'__UUID__': '6080fa6b-b815-4388-8f08-bda2969ddb99'},\n",
       " {'__UUID__': 'd5038be4-2991-4adf-a225-29c2f1fb93e7'},\n",
       " {'__UUID__': '1fcde84e-1f8d-492d-87e0-8421d3d07cf5'},\n",
       " {'__UUID__': '26ffdedd-e085-48ee-85ec-ee5d1f5e1823'},\n",
       " {'__UUID__': 'e886feba-6025-4544-baab-ec694bad4155'},\n",
       " {'__UUID__': '17cb2555-2801-4c39-979c-637421037f7f'},\n",
       " {'__UUID__': '4542c2fc-da95-4691-9513-0e8bae22297f'},\n",
       " {'__UUID__': '626c8936-20cd-480a-a225-68fe24d12548'},\n",
       " {'__UUID__': '8f93d797-d5fc-487a-a880-9103b07615a5'},\n",
       " {'__UUID__': 'b0bb2270-1b8b-4924-91a2-7526ee08cf03'},\n",
       " {'__UUID__': 'ab2f53be-6a02-4712-9c75-8b929b5afc4e'},\n",
       " {'__UUID__': 'a95b0705-60cc-4d59-96d1-a45d424afe8b'},\n",
       " {'__UUID__': '78551163-f2e9-4011-88b3-b89accf05fd1'},\n",
       " {'__UUID__': 'a0dae94c-cf0e-46eb-a794-d6b75dfa3629'},\n",
       " {'__UUID__': 'e3f08d2b-07ef-4f0d-a9ae-bd86b5b42a91'},\n",
       " {'__UUID__': 'f18e3f66-2a49-4058-a775-b4529b8e9c38'},\n",
       " {'__UUID__': 'eb4b093c-e24c-46fc-9ee1-243f939b9ba6'},\n",
       " {'__UUID__': 'c3aaa99b-b541-4bad-9879-666c13f2463e'},\n",
       " {'__UUID__': 'a23bd62e-d6b5-426c-8c7e-27a1440e1e68'},\n",
       " {'__UUID__': 'de55d188-ce66-4bd5-a8e8-72f70afd36d1'},\n",
       " {'__UUID__': '3340588d-7948-47e3-ae83-613b66f3388b'},\n",
       " {'__UUID__': '9671465d-2da8-4093-bd13-58f3465cb363'},\n",
       " {'__UUID__': 'b80cff7d-d227-4fb5-9595-d22a25a5ad5a'},\n",
       " {'__UUID__': 'd04bf78b-8d34-4d75-bb6d-8ffcdb8529d1'},\n",
       " {'__UUID__': '0a1db477-566e-424d-b655-ed5edf31d771'},\n",
       " {'__UUID__': 'b80573d3-806f-45a0-aecc-fdebf9fa3f01'},\n",
       " {'__UUID__': '21767b69-856c-47c1-acec-50a010c93d34'},\n",
       " {'__UUID__': '5e90f975-50da-4aaf-91fb-2c5de7709566'},\n",
       " {'__UUID__': 'ae8c16c5-ec02-4a09-853f-d6a6d460fb52'},\n",
       " {'__UUID__': '6556685a-92ea-43df-8a52-16e5dabce631'},\n",
       " {'__UUID__': '1cf3e07b-55d5-4487-a8fe-2f95a64ea827'},\n",
       " {'__UUID__': 'ffe97569-2dc6-4b65-b318-343e1589f839'},\n",
       " {'__UUID__': '91216eb7-1097-4f8b-a611-b6294d91dcfa'},\n",
       " {'__UUID__': 'e57cebda-2ae1-4f40-9086-93429ba4956f'},\n",
       " {'__UUID__': 'b9fbd875-557a-4fd9-be41-af624dc823ac'},\n",
       " {'__UUID__': '7b37c9b8-dc0f-4d83-8da7-f3b101bf34b8'},\n",
       " {'__UUID__': 'f35f5c41-434b-412e-9135-b390fde58bda'},\n",
       " {'__UUID__': '51f4730f-aa4a-4fbd-b523-8efb6d406251'},\n",
       " {'__UUID__': 'b8515e97-b1b8-4064-b4c1-f54989774a96'},\n",
       " {'__UUID__': '0a9152e6-1cca-438b-989d-821ace92b799'},\n",
       " {'__UUID__': '24fbaca5-1b7b-4254-bc3d-ebe0cb072078'},\n",
       " {'__UUID__': '98fa6365-c3b3-4349-86c1-05a816766690'},\n",
       " {'__UUID__': 'b3e5dc57-58da-41b0-be27-010d931ee941'},\n",
       " {'__UUID__': 'cbda6df7-34c2-4898-b945-f0514f10730a'},\n",
       " {'__UUID__': '987d6c91-5c3b-413a-9271-0962e515873c'},\n",
       " {'__UUID__': 'c4a1ad62-ee5c-418e-9665-8370632e7f8b'},\n",
       " {'__UUID__': 'e97dd744-831b-4f11-81bd-af97d01a9c52'},\n",
       " {'__UUID__': '7c4a866b-d236-4315-b9d9-b1825cd546ee'},\n",
       " {'__UUID__': '9e4a72a7-011b-4435-96cf-72df23e255f3'},\n",
       " {'__UUID__': '7f073373-e370-4efe-91a9-c31ef52d011f'},\n",
       " {'__UUID__': '82642989-7fc3-4c9a-b097-9d36132a7bd2'},\n",
       " {'__UUID__': '3c897903-3842-4578-845f-0598c9e86717'},\n",
       " {'__UUID__': '408d5c07-b8a8-40e6-9f76-344011951d56'},\n",
       " {'__UUID__': '7bf0d1f9-d3b7-44c0-8a6d-54f8780eb7ca'},\n",
       " {'__UUID__': '21f2ef34-82ad-4c08-b430-0dfe267fb016'},\n",
       " {'__UUID__': 'fba746f6-72c4-44b9-a8f4-a066b76e78ce'},\n",
       " {'__UUID__': '0bbcd394-fbb9-4f67-b7e3-6ec486f9a3c7'},\n",
       " {'__UUID__': '9a122db5-ccbb-48ad-af04-be6cebbb9102'},\n",
       " {'__UUID__': '8f00b9eb-59a8-46d4-b13b-0884113a68ce'},\n",
       " {'__UUID__': '09539760-7a30-4f39-9fe0-d00d507b934f'},\n",
       " {'__UUID__': 'dcd698c3-a2ef-4e6a-8a39-a0c935d3d89d'},\n",
       " {'__UUID__': 'b916d1fe-65ca-4722-9a16-33a2fb986ebd'},\n",
       " {'__UUID__': '99bd7fe2-1d21-4526-801f-40f6e0a54dd4'},\n",
       " {'__UUID__': '761ea021-7fe3-491b-97cf-491668abeda3'},\n",
       " {'__UUID__': '9610c233-e5f9-47a9-b664-94c7efbf086b'},\n",
       " {'__UUID__': '4baafcc8-d60e-4069-b304-f827a134d456'},\n",
       " {'__UUID__': '36ef1566-b5fd-45c3-8d3e-118c334ed906'},\n",
       " {'__UUID__': 'a417f9a1-3516-43da-a369-a8677f05624d'},\n",
       " {'__UUID__': 'd1ecfb77-1b50-44bb-80dc-91b4ccdcca25'},\n",
       " {'__UUID__': 'c603f1ee-861c-4163-85b0-c24515a49e52'},\n",
       " {'__UUID__': '6df492f6-614f-49dc-ae8d-016c8f453d07'},\n",
       " {'__UUID__': 'e3815c3f-aa9d-4552-b5d4-60692c5b3096'},\n",
       " {'__UUID__': '066fec62-a0ef-48d0-8bea-c5ba3cbb67d5'},\n",
       " {'__UUID__': '56e46b2c-9607-4c0e-b256-dc47e4eee1a2'},\n",
       " {'__UUID__': '4be410e3-a4b2-49c9-ba6c-923e43616694'},\n",
       " {'__UUID__': '83627b67-f701-466d-baf2-265e550d4994'},\n",
       " {'__UUID__': 'e69805dd-5488-400b-9ac5-2bacdc902a46'},\n",
       " {'__UUID__': '810bc94f-bda3-430c-b80c-3e3597b33d86'},\n",
       " {'__UUID__': '1b6dfb88-09fe-4c6f-b01a-126dca55f1cc'},\n",
       " {'__UUID__': '9f614178-cb9d-46d4-90ae-07f50f60d5e0'},\n",
       " {'__UUID__': 'f0a77b49-6bbb-48b0-bd14-0034e06b6fea'},\n",
       " {'__UUID__': '3f592c54-884f-4e13-8660-bc2660fdfbea'},\n",
       " {'__UUID__': '801e8d67-6bd4-4a89-9d6e-e037ea7be3c8'},\n",
       " {'__UUID__': 'bf7945c7-52be-4b32-b75d-0a8474f994be'},\n",
       " {'__UUID__': '8b66f7be-bdba-4652-81af-51fd379d4b7d'},\n",
       " {'__UUID__': '7f3a5b4b-e06c-49ce-85eb-fd0b3034697b'},\n",
       " {'__UUID__': '30a82609-25b1-449d-bbd8-71b0c099e417'},\n",
       " {'__UUID__': 'f8b6684e-af66-4ee4-93d0-e107af928a5a'},\n",
       " {'__UUID__': '74ed6cfb-dbbd-4a33-a593-bb321b6b94c2'},\n",
       " {'__UUID__': '97860691-a0ae-40a0-b6c5-e6c4ad041fcc'},\n",
       " {'__UUID__': '9c1c6c84-8a6a-4629-b104-804b58bf8790'},\n",
       " {'__UUID__': 'aa47f8e2-0a1d-42d7-a5fc-56c4a5ff6db3'},\n",
       " {'__UUID__': 'b503551f-4842-4a94-92b6-fde6761240db'},\n",
       " {'__UUID__': '06c64eaa-9871-4fd2-a9b2-ab0ce0fa9362'},\n",
       " {'__UUID__': 'b2659d10-dead-4fdf-a16b-0fc4488ddabc'},\n",
       " {'__UUID__': '0c14a2ff-f779-4342-b6d3-c02d94e6d9a0'},\n",
       " {'__UUID__': '6c3391f6-161c-45ff-9761-6564ff61b988'},\n",
       " {'__UUID__': '4e51958f-3b8a-4ffa-bb4c-dcddb1c67a58'},\n",
       " {'__UUID__': '164aa58d-8efe-4768-834b-767d658f0aea'},\n",
       " {'__UUID__': '17205391-682b-4870-9858-cb9f4d7b6ffc'},\n",
       " {'__UUID__': '2e0e9017-9aac-4bc7-a990-810c415bbab6'},\n",
       " {'__UUID__': 'afdbffc2-2e4c-46e6-a03f-70f8ccc916f5'},\n",
       " {'__UUID__': '2e813f23-d3af-4eb6-8679-674beb51c73f'},\n",
       " {'__UUID__': 'ce5b3e8e-dad2-4113-a6a4-ccc25502bba9'},\n",
       " {'__UUID__': '47d8a750-440c-46ed-aeae-8b31b8e13d63'},\n",
       " {'__UUID__': '393fc390-cadf-4ece-8b23-76e1dcba3fe6'},\n",
       " {'__UUID__': 'bb360e91-81d7-4ec5-8981-ed3404385466'},\n",
       " {'__UUID__': '8ae93832-ae5c-4087-bc17-add3c7275c1b'},\n",
       " {'__UUID__': '6592f7b8-3185-41b7-9db9-5fb911cb6caf'},\n",
       " {'__UUID__': 'cbb10e94-a481-49ba-8b4f-2f67aa302eeb'},\n",
       " {'__UUID__': 'fd6f2286-cc02-4b94-a1f7-6180d65e3532'},\n",
       " {'__UUID__': '6f2c2476-4d24-41f6-a46f-06c635803714'},\n",
       " {'__UUID__': '3ec9ecd5-86a0-4c29-a205-524cd8327e14'},\n",
       " {'__UUID__': 'bf6b23ac-fe9f-4597-9702-c6548c7595d6'},\n",
       " {'__UUID__': '8538f81c-b852-4be9-9378-b300453c1dd8'},\n",
       " {'__UUID__': 'd6a1abb1-a841-41d3-a798-95703c1f5cdc'},\n",
       " {'__UUID__': '4348e9f7-327d-4675-bf3b-eef1f520eadd'},\n",
       " {'__UUID__': '8a4d1f47-979a-45bb-9830-2b09c843e3e3'},\n",
       " {'__UUID__': '35c2f990-928f-46b6-b7b4-06480359265d'},\n",
       " {'__UUID__': '925939b0-56b7-4cce-8b5e-820afd719adb'},\n",
       " {'__UUID__': 'f7f7922e-57fd-4d43-9bd0-4a0a766849ad'},\n",
       " {'__UUID__': '04d1e790-64df-4522-9056-1f98b6e46aea'},\n",
       " {'__UUID__': 'cf44daf1-7c91-43d2-a240-15e96daab7e4'},\n",
       " {'__UUID__': '1207946b-34ef-4f47-b110-d4e377a225c3'},\n",
       " {'__UUID__': 'e3fb3dec-d06a-4b06-a3cc-15e65bd61fc0'},\n",
       " {'__UUID__': 'd5c16270-ed61-4717-8786-40a37277860d'},\n",
       " {'__UUID__': '97c1eb34-a534-4f8a-aa16-8362daa034c7'},\n",
       " {'__UUID__': 'cebdadc4-75b8-4fb6-a90f-b53e60aa4e35'},\n",
       " {'__UUID__': 'a4d90ef9-d6bd-404a-bb96-e3a53d441ad7'},\n",
       " {'__UUID__': '64251edb-240f-4ada-b3ae-50277ea79c34'},\n",
       " {'__UUID__': '083c0fe7-1005-4194-ac2a-5f01f420209a'},\n",
       " {'__UUID__': 'c4cd43e5-cb34-44ba-9d80-2103b4c1ba53'},\n",
       " {'__UUID__': '273b838e-0e8b-4ccc-ab5a-870ca6c04439'},\n",
       " {'__UUID__': 'b59216bc-16e1-4261-8a78-7d79e1b40357'},\n",
       " {'__UUID__': 'ea69a183-727c-40e6-bd9b-c5f2b70d7f94'},\n",
       " {'__UUID__': '30d7c35b-bf9a-4a13-8c4f-720ecf3e037c'},\n",
       " {'__UUID__': 'c20d0f5f-5e88-488a-9ebf-27dacc45f5f9'},\n",
       " {'__UUID__': 'b02f58f9-31cf-4b09-ad0d-5f730df14158'},\n",
       " {'__UUID__': 'd708c84b-0f5b-4e37-a952-bd7963d60ea2'},\n",
       " {'__UUID__': '8467c1c3-c1ac-4e93-b342-d2e1e9f31d9e'},\n",
       " {'__UUID__': '0aa078fd-b530-4a93-a5ff-51b492f4a979'},\n",
       " {'__UUID__': 'b320f888-a168-4a3e-affb-286e1a1ebae1'},\n",
       " {'__UUID__': 'f2de76e2-249e-4562-a3e8-57d4bc5f8f98'},\n",
       " {'__UUID__': 'a365b79e-5291-424a-9f51-c937be7fa702'},\n",
       " {'__UUID__': '89645357-7ae1-4ecc-b635-f74547bb0c0f'},\n",
       " {'__UUID__': '38c86b68-87a4-4cf7-8e21-09c5d1dedb90'},\n",
       " {'__UUID__': '574bd5d3-8982-4679-b399-489f81990d20'},\n",
       " {'__UUID__': '382205d2-e51b-4759-9625-c38b3becaa6a'},\n",
       " {'__UUID__': '4f9b494b-1b06-4b6d-b9d1-4b68b792b211'},\n",
       " {'__UUID__': 'd7cedefa-64e3-4f60-a9c2-63f40a47f2f8'},\n",
       " {'__UUID__': '00a38d1b-2988-4c14-b300-2abd87d2cc4d'},\n",
       " {'__UUID__': 'd9b07e06-9ce6-469d-ac8b-adf887e4e84c'},\n",
       " {'__UUID__': 'a1cdb4a6-fbe9-4200-8680-01b3f1806a30'},\n",
       " {'__UUID__': '87a0d0a4-11f5-499a-a877-ee6f9d359c40'},\n",
       " {'__UUID__': '74578882-436a-4de3-bf8d-5ba7670aab83'},\n",
       " {'__UUID__': '3aac8123-f96e-46c4-9264-025b173e0f9e'},\n",
       " {'__UUID__': 'ce83f9a1-6806-42fb-b046-234903f8b9f1'},\n",
       " {'__UUID__': 'd5f05956-9cc0-47dd-a645-431d93c4b945'},\n",
       " {'__UUID__': '374b5b2a-1e5e-47bc-a8bc-29442bb82c5c'},\n",
       " {'__UUID__': 'd73103b6-c044-4ea1-a286-0219920e50d6'},\n",
       " {'__UUID__': '2d40e11c-40e2-4b35-8bd7-c316d079173f'},\n",
       " {'__UUID__': '08e27764-4675-4a32-9598-5d2150c3742a'},\n",
       " {'__UUID__': 'a22139f5-0546-4fd9-b108-ae6b508c3637'},\n",
       " {'__UUID__': 'fa9e63dc-23be-4dac-9b60-544e7b437faf'},\n",
       " {'__UUID__': 'a9769578-f1ab-4915-bb44-492bdf463ac6'},\n",
       " {'__UUID__': '244f5899-3e56-4fb0-a343-10ced7711d4e'},\n",
       " {'__UUID__': 'e1cc9105-d88c-49ac-a51a-22659c2c6f35'},\n",
       " {'__UUID__': 'e776ba73-346f-4e95-944d-b79ab0cd80be'},\n",
       " {'__UUID__': '75d9424e-849c-4a1c-a7ce-c1ca4b4695d1'},\n",
       " {'__UUID__': 'b9a5a13f-e493-4065-86f0-0752886749c5'},\n",
       " {'__UUID__': '1db2711b-8b81-4e28-8abd-0d051dbc4c82'},\n",
       " {'__UUID__': '7715df0e-112f-45de-8970-a3c1bb609fec'},\n",
       " {'__UUID__': 'ad22c04e-a7f4-48ce-a646-265c89b9cb97'},\n",
       " {'__UUID__': '17fe2ada-4f0e-40b1-9f14-460efda76c5b'},\n",
       " {'__UUID__': '4988fd84-943d-44b7-a96e-02cbbebbd93e'},\n",
       " {'__UUID__': '347ac590-2307-4430-839e-869cd2315be5'},\n",
       " {'__UUID__': '43950dea-e29c-4bae-9126-316fe6008166'},\n",
       " {'__UUID__': '87eb0eaa-f10b-4d3a-afa0-ba4f5513d1f5'},\n",
       " {'__UUID__': 'db2b9af9-15d4-497d-bf56-39648fca949f'},\n",
       " {'__UUID__': '39aeb770-b0e8-48f2-8786-d6339e862486'},\n",
       " {'__UUID__': 'c4ce6633-bf7b-46ea-8eda-485fcda4c38a'},\n",
       " {'__UUID__': '8d1057ed-0b63-425e-862b-5f532e8100af'},\n",
       " {'__UUID__': '93bdd306-f4a5-47a9-a224-b3c8bfb07348'},\n",
       " {'__UUID__': '0637d735-9660-472a-9a1a-14bbd64dfc71'},\n",
       " {'__UUID__': '6f4117f4-7e54-4dc9-8685-f9beccaf4655'},\n",
       " {'__UUID__': 'eddeb5ea-3bdc-4e2a-a4f9-5213c32529de'},\n",
       " {'__UUID__': 'f0752270-a037-4873-9c5e-40d34ef4431d'},\n",
       " {'__UUID__': 'f6ec4011-00dc-47a4-911c-9b815e5b5b9c'},\n",
       " {'__UUID__': 'cbe354c6-3722-4e21-a868-cd5e805f2cbd'},\n",
       " {'__UUID__': 'c74320db-6539-49e7-8791-555795bd9d4c'},\n",
       " {'__UUID__': '29a1d27a-32b3-404c-84d6-10c9181e48aa'},\n",
       " {'__UUID__': '575f947b-acfd-465a-b830-a6512564d984'},\n",
       " {'__UUID__': '26ca0a43-c878-43b1-9bb3-51c4181cc0dd'},\n",
       " {'__UUID__': '94d4eec8-2de3-49ca-af45-c82fda74c192'},\n",
       " ...]"
      ]
     },
     "execution_count": 50,
     "metadata": {},
     "output_type": "execute_result"
    }
   ],
   "source": [
    "data_dict = {\n",
    "        'aid_list': [i for i in range(1,3306)],\n",
    "    }\n",
    "daid_annot_list = UD.get('api/annot/uuid', data_dict)\n",
    "daid_annot_list"
   ]
  },
  {
   "cell_type": "code",
   "execution_count": 83,
   "metadata": {
    "collapsed": false
   },
   "outputs": [
    {
     "data": {
      "text/plain": [
       "[{'__UUID__': '0b69cf48-f7f8-47f8-8d0e-4c66c028ff81'},\n",
       " {'__UUID__': '9bb949b5-5802-4d38-98e5-04b9aadc540b'},\n",
       " {'__UUID__': 'cb87ae26-d2e3-47fa-83fb-216aebf5b2f2'},\n",
       " {'__UUID__': '30865271-2dc1-451c-9964-ef5e87a40530'}]"
      ]
     },
     "execution_count": 83,
     "metadata": {},
     "output_type": "execute_result"
    }
   ],
   "source": [
    " data_dict = {\n",
    "        'aid_list': [1,2,3,4],\n",
    "    }\n",
    "annot_uuid_list = UD.get('api/annot/uuid', data_dict)\n",
    "annot_uuid_list"
   ]
  },
  {
   "cell_type": "code",
   "execution_count": 21,
   "metadata": {
    "collapsed": false
   },
   "outputs": [
    {
     "data": {
      "text/plain": [
       "{'__UUID__': 'd3443911-1700-4c28-bd8d-650fa2df3e74'}"
      ]
     },
     "execution_count": 21,
     "metadata": {},
     "output_type": "execute_result"
    }
   ],
   "source": [
    "annot_uuid_list[0]"
   ]
  },
  {
   "cell_type": "code",
   "execution_count": 42,
   "metadata": {
    "collapsed": false
   },
   "outputs": [],
   "source": [
    "url = \"http://pachy.cs.uic.edu:5001/api/engine/query/graph/\"\n",
    "data_dict = {\n",
    "        'query_annot_uuid_list' : json.dumps([annot_uuid_list[0]]),\n",
    "        'database_annot_uuid_list' : json.dumps([daid_annot_list[0], daid_annot_list[1], daid_annot_list[3]])\n",
    "    }\n",
    "response = requests.request('POST', url, data=data_dict)"
   ]
  },
  {
   "cell_type": "code",
   "execution_count": 47,
   "metadata": {
    "collapsed": false
   },
   "outputs": [],
   "source": [
    "while not UD.check_job_status('jobid-0005'):\n",
    "    print(blah)"
   ]
  },
  {
   "cell_type": "code",
   "execution_count": 48,
   "metadata": {
    "collapsed": false
   },
   "outputs": [],
   "source": [
    "data_dict = {\n",
    "        'jobid' : 'jobid-0005'\n",
    "    }\n",
    "\n",
    "result = UD.get(\"api/engine/job/result\", data_dict)['json_result']['inference_dict']['cluster_dict']"
   ]
  },
  {
   "cell_type": "code",
   "execution_count": 33,
   "metadata": {
    "collapsed": false
   },
   "outputs": [],
   "source": [
    "name = None\n",
    "for i in range(len(result['orig_name_list'])):\n",
    "    if 'NEWNAME' not in result['orig_name_list'][i]:\n",
    "        # this i has been previously assigned a name\n",
    "        name = result['orig_name_list'][i]"
   ]
  },
  {
   "cell_type": "code",
   "execution_count": 41,
   "metadata": {
    "collapsed": true
   },
   "outputs": [],
   "source": [
    "uuid_aid_map = {'d3443911-1700-4c28-bd8d-650fa2df3e74' : 1,\n",
    "                'e47f0b75-5803-496d-8175-58feddf1abbb': 2,\n",
    "                'fd0ec1f5-e9bf-43ed-99b7-822582f28fb9' : 3,\n",
    "               'b6446a8a-769a-481a-b471-6bf7fe65bd3b' : 4}"
   ]
  },
  {
   "cell_type": "code",
   "execution_count": 38,
   "metadata": {
    "collapsed": false
   },
   "outputs": [
    {
     "data": {
      "text/plain": [
       "'1'"
      ]
     },
     "execution_count": 38,
     "metadata": {},
     "output_type": "execute_result"
    }
   ],
   "source": [
    "\n",
    "    \n",
    "name"
   ]
  },
  {
   "cell_type": "code",
   "execution_count": 39,
   "metadata": {
    "collapsed": true
   },
   "outputs": [],
   "source": [
    "for annot_uuid_dict in result['annot_uuid_list']:\n",
    "        aid = uuid_aid_map[annot_uuid_dict[\"__UUID__\"]]\n",
    "\n",
    "        data_dict = {\n",
    "            \"aid_list\" : [aid],\n",
    "            \"name_list\" : [name]\n",
    "        }\n",
    "\n",
    "        UD.put(\"api/annot/name\", data_dict)"
   ]
  },
  {
   "cell_type": "code",
   "execution_count": 49,
   "metadata": {
    "collapsed": false
   },
   "outputs": [
    {
     "data": {
      "text/plain": [
       "{'annot_uuid_list': [{'__UUID__': 'd3443911-1700-4c28-bd8d-650fa2df3e74'},\n",
       "  {'__UUID__': 'b6446a8a-769a-481a-b471-6bf7fe65bd3b'}],\n",
       " 'error_flag_list': [['merge'], ['merge']],\n",
       " 'exemplar_flag_list': [True, False],\n",
       " 'new_name_list': ['NEWNAME_2', 'NEWNAME_2'],\n",
       " 'orig_name_list': ['1', 'NEWNAME_-4']}"
      ]
     },
     "execution_count": 49,
     "metadata": {},
     "output_type": "execute_result"
    }
   ],
   "source": [
    "result"
   ]
  },
  {
   "cell_type": "code",
   "execution_count": 51,
   "metadata": {
    "collapsed": false
   },
   "outputs": [
    {
     "data": {
      "text/plain": [
       "3305"
      ]
     },
     "execution_count": 51,
     "metadata": {},
     "output_type": "execute_result"
    }
   ],
   "source": [
    "len(daid_annot_list)"
   ]
  },
  {
   "cell_type": "code",
   "execution_count": 84,
   "metadata": {
    "collapsed": false
   },
   "outputs": [],
   "source": [
    "uuid_aid_map = {annot_uuid_list[i-1]['__UUID__'] : i for i in range(1,5)}"
   ]
  },
  {
   "cell_type": "code",
   "execution_count": 55,
   "metadata": {
    "collapsed": false
   },
   "outputs": [
    {
     "data": {
      "text/plain": [
       "'ce2802a4-e805-47b6-a4f4-a8ecdf97c3c6'"
      ]
     },
     "execution_count": 55,
     "metadata": {},
     "output_type": "execute_result"
    }
   ],
   "source": [
    "daid_annot_list[1]['__UUID__']"
   ]
  },
  {
   "cell_type": "code",
   "execution_count": 85,
   "metadata": {
    "collapsed": false
   },
   "outputs": [],
   "source": [
    "with open(\"/tmp/test.json\", \"w\") as fl:\n",
    "    json.dump(uuid_aid_map, fl, indent = 4)"
   ]
  },
  {
   "cell_type": "code",
   "execution_count": 60,
   "metadata": {
    "collapsed": true
   },
   "outputs": [],
   "source": [
    "import GetPropertiesAPI as GP"
   ]
  },
  {
   "cell_type": "code",
   "execution_count": 61,
   "metadata": {
    "collapsed": false
   },
   "outputs": [
    {
     "data": {
      "text/plain": [
       "['zebra_grevys', 'zebra_grevys', 'giraffe_reticulated', 'zebra_grevys']"
      ]
     },
     "execution_count": 61,
     "metadata": {},
     "output_type": "execute_result"
    }
   ],
   "source": [
    "GP.getImageFeature([1,2,3,4], \"species/text\")"
   ]
  },
  {
   "cell_type": "code",
   "execution_count": 80,
   "metadata": {
    "collapsed": false
   },
   "outputs": [
    {
     "name": "stdout",
     "output_type": "stream",
     "text": [
      "!!! FAILED REQUEST !!!\n",
      "\t URL      = 'http://pachy.cs.uic.edu:5001/api/name/'\n",
      "\t METHOD   = <function delete at 0x10493a9d8>\n",
      "\t RESPONSE = {\"status\": {\"cache\": -1, \"message\": \"API error, Python Exception thrown: <!!! EXCEPTION !!!>\\nTraceback (most recent call last):\\n  File \\u001b[36;01m\\\"/opt/ibeis/ibeis/ibeis/control/controller_inject.py\\\"\\u001b[39;49;00m, line \\u001b[34;01m317\\u001b[39;49;00m, in translate_ibeis_webcall\\n    output = func(ibs=ibs, **kwargs)\\n\\u001b[31;01mTypeError\\u001b[39;49;00m: delete_names() got an unexpected keyword argument 'nid_list'\\n\\n[!translate_ibeis_webcall] Error in translate_ibeis_webcall\\nExpected Function Definition: delete_names(ibs, name_rowid_list, safe=True, strict=False, verbose=False)\\nReceived Function Definition: delete_names(<IBEISController(TEST_DB_SREEJITH) at 0x763dd90>, nid_list=[1, 2, 3])\\nkwargs = {'nid_list': [1, 2, 3]}\\nargs = ()\\nflask.request.args = ImmutableMultiDict([])\\nflask.request.form = ImmutableMultiDict([('nid_list', u'[1, 2, 3]')])\\n<type 'exceptions.TypeError'>: delete_names() got an unexpected keyword argument 'nid_list'\\n</!!! EXCEPTION !!!>\", \"code\": 500, \"success\": false}, \"response\": \"Traceback (most recent call last):\\n  File \\\"/opt/ibeis/ibeis/ibeis/control/controller_inject.py\\\", line 594, in translated_call\\n    resp_tup = translate_ibeis_webcall(func, **kwargs)\\n  File \\\"/opt/ibeis/ibeis/ibeis/control/controller_inject.py\\\", line 333, in translate_ibeis_webcall\\n    raise Exception(error_msg)\\nException: <!!! EXCEPTION !!!>\\nTraceback (most recent call last):\\n  File \\u001b[36;01m\\\"/opt/ibeis/ibeis/ibeis/control/controller_inject.py\\\"\\u001b[39;49;00m, line \\u001b[34;01m317\\u001b[39;49;00m, in translate_ibeis_webcall\\n    output = func(ibs=ibs, **kwargs)\\n\\u001b[31;01mTypeError\\u001b[39;49;00m: delete_names() got an unexpected keyword argument 'nid_list'\\n\\n[!translate_ibeis_webcall] Error in translate_ibeis_webcall\\nExpected Function Definition: delete_names(ibs, name_rowid_list, safe=True, strict=False, verbose=False)\\nReceived Function Definition: delete_names(<IBEISController(TEST_DB_SREEJITH) at 0x763dd90>, nid_list=[1, 2, 3])\\nkwargs = {'nid_list': [1, 2, 3]}\\nargs = ()\\nflask.request.args = ImmutableMultiDict([])\\nflask.request.form = ImmutableMultiDict([('nid_list', u'[1, 2, 3]')])\\n<type 'exceptions.TypeError'>: delete_names() got an unexpected keyword argument 'nid_list'\\n</!!! EXCEPTION !!!>\\n\"}\n"
     ]
    },
    {
     "ename": "AssertionError",
     "evalue": "",
     "output_type": "error",
     "traceback": [
      "\u001b[0;31m---------------------------------------------------------------------------\u001b[0m",
      "\u001b[0;31mAssertionError\u001b[0m                            Traceback (most recent call last)",
      "\u001b[0;32m<ipython-input-80-d9bdcf828fe1>\u001b[0m in \u001b[0;36m<module>\u001b[0;34m()\u001b[0m\n\u001b[1;32m      2\u001b[0m         \u001b[0;34m'nid_list'\u001b[0m\u001b[0;34m:\u001b[0m \u001b[0;34m[\u001b[0m\u001b[0;36m1\u001b[0m\u001b[0;34m,\u001b[0m\u001b[0;36m2\u001b[0m\u001b[0;34m,\u001b[0m\u001b[0;36m3\u001b[0m\u001b[0;34m]\u001b[0m\u001b[0;34m,\u001b[0m\u001b[0;34m\u001b[0m\u001b[0m\n\u001b[1;32m      3\u001b[0m     }\n\u001b[0;32m----> 4\u001b[0;31m \u001b[0mUD\u001b[0m\u001b[0;34m.\u001b[0m\u001b[0mdelete\u001b[0m\u001b[0;34m(\u001b[0m\u001b[0;34m'api/name'\u001b[0m\u001b[0;34m,\u001b[0m \u001b[0mdata_dict\u001b[0m\u001b[0;34m)\u001b[0m\u001b[0;34m\u001b[0m\u001b[0m\n\u001b[0m",
      "\u001b[0;32m/Users/sreejithmenon/Google Drive/CodeBase/AWESOME/script/UploadAndDetectIBEIS.py\u001b[0m in \u001b[0;36mdelete\u001b[0;34m(*args, **kwargs)\u001b[0m\n\u001b[1;32m    101\u001b[0m \u001b[0;34m\u001b[0m\u001b[0m\n\u001b[1;32m    102\u001b[0m \u001b[0;32mdef\u001b[0m \u001b[0mdelete\u001b[0m\u001b[0;34m(\u001b[0m\u001b[0;34m*\u001b[0m\u001b[0margs\u001b[0m\u001b[0;34m,\u001b[0m \u001b[0;34m**\u001b[0m\u001b[0mkwargs\u001b[0m\u001b[0;34m)\u001b[0m\u001b[0;34m:\u001b[0m\u001b[0;34m\u001b[0m\u001b[0m\n\u001b[0;32m--> 103\u001b[0;31m     \u001b[0;32mreturn\u001b[0m \u001b[0m_request\u001b[0m\u001b[0;34m(\u001b[0m\u001b[0mrequests\u001b[0m\u001b[0;34m.\u001b[0m\u001b[0mdelete\u001b[0m\u001b[0;34m,\u001b[0m \u001b[0;34m*\u001b[0m\u001b[0margs\u001b[0m\u001b[0;34m,\u001b[0m \u001b[0;34m**\u001b[0m\u001b[0mkwargs\u001b[0m\u001b[0;34m)\u001b[0m\u001b[0;34m\u001b[0m\u001b[0m\n\u001b[0m\u001b[1;32m    104\u001b[0m \u001b[0;34m\u001b[0m\u001b[0m\n\u001b[1;32m    105\u001b[0m \u001b[0;34m\u001b[0m\u001b[0m\n",
      "\u001b[0;32m/Users/sreejithmenon/Google Drive/CodeBase/AWESOME/script/UploadAndDetectIBEIS.py\u001b[0m in \u001b[0;36m_request\u001b[0;34m(function, signature, data_dict, skip_json)\u001b[0m\n\u001b[1;32m     84\u001b[0m         \u001b[0mprint\u001b[0m\u001b[0;34m(\u001b[0m\u001b[0;34m'\\t RESPONSE = %s'\u001b[0m \u001b[0;34m%\u001b[0m \u001b[0;34m(\u001b[0m\u001b[0mresponse\u001b[0m\u001b[0;34m.\u001b[0m\u001b[0mtext\u001b[0m\u001b[0;34m,\u001b[0m \u001b[0;34m)\u001b[0m\u001b[0;34m)\u001b[0m\u001b[0;34m\u001b[0m\u001b[0m\n\u001b[1;32m     85\u001b[0m     \u001b[0mresponse_dict\u001b[0m \u001b[0;34m=\u001b[0m \u001b[0mresponse\u001b[0m\u001b[0;34m.\u001b[0m\u001b[0mjson\u001b[0m\u001b[0;34m(\u001b[0m\u001b[0;34m)\u001b[0m\u001b[0;34m\u001b[0m\u001b[0m\n\u001b[0;32m---> 86\u001b[0;31m     \u001b[0;32massert\u001b[0m \u001b[0mresponse_dict\u001b[0m\u001b[0;34m[\u001b[0m\u001b[0;34m'status'\u001b[0m\u001b[0;34m]\u001b[0m\u001b[0;34m[\u001b[0m\u001b[0;34m'success'\u001b[0m\u001b[0;34m]\u001b[0m\u001b[0;34m\u001b[0m\u001b[0m\n\u001b[0m\u001b[1;32m     87\u001b[0m     \u001b[0;32mreturn\u001b[0m \u001b[0mresponse_dict\u001b[0m\u001b[0;34m[\u001b[0m\u001b[0;34m'response'\u001b[0m\u001b[0;34m]\u001b[0m\u001b[0;34m\u001b[0m\u001b[0m\n\u001b[1;32m     88\u001b[0m \u001b[0;34m\u001b[0m\u001b[0m\n",
      "\u001b[0;31mAssertionError\u001b[0m: "
     ]
    }
   ],
   "source": [
    "data_dict = {\n",
    "        'nid_list': [1,2,3],\n",
    "    }\n",
    "UD.delete('api/name', data_dict)"
   ]
  },
  {
   "cell_type": "code",
   "execution_count": 81,
   "metadata": {
    "collapsed": false,
    "scrolled": true
   },
   "outputs": [
    {
     "name": "stdout",
     "output_type": "stream",
     "text": [
      "image_uuid 340274514441647462903972532459083121864\n",
      "\n",
      "Annot aid_list    = [1, 2]\n",
      "      bboxes      = [[11, 116, 418, 341], [469, 193, 441, 448]]\n",
      "      thetas      = [0.0, 0.0]\n",
      "      species     = ['zebra_grevys', 'zebra_grevys']\n",
      "      confidences = [0.44952255487442017, 0.5022123456001282]\n",
      "      notes       = ['cnnyolodetect', 'cnnyolodetect']\n",
      "\n",
      "Deleting aid_list = [1, 2]\n",
      "      bboxes      = [None, None]\n",
      "      thetas      = [None, None]\n",
      "      species     = ['____', '____']\n",
      "      confidences = [None, None]\n",
      "      notes       = [None, None]\n",
      "\n",
      "Engine Job ID     = 'jobid-0007'\n",
      "\t Checking status...\n",
      "\t Checking status...\n",
      "Engine Detections = [{'height': 341, 'xtl': 11, 'ytl': 116, 'confidence': 0.4495, 'theta': 0.0, 'class': 'zebra_grevys', 'width': 418}, {'height': 448, 'xtl': 469, 'ytl': 193, 'confidence': 0.5022, 'theta': 0.0, 'class': 'zebra_grevys', 'width': 441}]\n",
      "\n",
      "Annot aid_list    = [1, 2]\n",
      "      bboxes      = [[11, 116, 418, 341], [469, 193, 441, 448]]\n",
      "      thetas      = [0.0, 0.0]\n",
      "      species     = ['zebra_grevys', 'zebra_grevys']\n",
      "      confidences = [0.0, 0.0]\n",
      "      notes       = ['', '']\n",
      "\n",
      "Notes on aid_list = [1, 2]\n",
      "      bboxes      = [[11, 116, 418, 341], [469, 193, 441, 448]]\n",
      "      thetas      = [0.0, 0.0]\n",
      "      species     = ['zebra_grevys', 'zebra_grevys']\n",
      "      confidences = [0.0, 0.0]\n",
      "      notes       = ['Flickr_Image', 'Flickr_Image']\n",
      "image_uuid 340251211121741570463986310606724682615\n",
      "\n",
      "Annot aid_list    = [3]\n",
      "      bboxes      = [[263, 45, 593, 614]]\n",
      "      thetas      = [0.0]\n",
      "      species     = ['giraffe_reticulated']\n",
      "      confidences = [0.4764651358127594]\n",
      "      notes       = ['cnnyolodetect']\n",
      "\n",
      "Deleting aid_list = [3]\n",
      "      bboxes      = [None]\n",
      "      thetas      = [None]\n",
      "      species     = ['____']\n",
      "      confidences = [None]\n",
      "      notes       = [None]\n",
      "\n",
      "Engine Job ID     = 'jobid-0008'\n",
      "\t Checking status...\n",
      "\t Checking status...\n",
      "Engine Detections = [{'height': 614, 'xtl': 263, 'ytl': 45, 'confidence': 0.4765, 'theta': 0.0, 'class': 'giraffe_reticulated', 'width': 593}]\n",
      "\n",
      "Annot aid_list    = [3]\n",
      "      bboxes      = [[263, 45, 593, 614]]\n",
      "      thetas      = [0.0]\n",
      "      species     = ['giraffe_reticulated']\n",
      "      confidences = [0.0]\n",
      "      notes       = ['']\n",
      "\n",
      "Notes on aid_list = [3]\n",
      "      bboxes      = [[263, 45, 593, 614]]\n",
      "      thetas      = [0.0]\n",
      "      species     = ['giraffe_reticulated']\n",
      "      confidences = [0.0]\n",
      "      notes       = ['Flickr_Image']\n",
      "image_uuid 100179933493040723424924051926533554515\n",
      "\n",
      "Annot aid_list    = [4]\n",
      "      bboxes      = [[134, 51, 339, 229]]\n",
      "      thetas      = [0.0]\n",
      "      species     = ['zebra_grevys']\n",
      "      confidences = [0.7388371229171753]\n",
      "      notes       = ['cnnyolodetect']\n",
      "\n",
      "Deleting aid_list = [4]\n",
      "      bboxes      = [None]\n",
      "      thetas      = [None]\n",
      "      species     = ['____']\n",
      "      confidences = [None]\n",
      "      notes       = [None]\n",
      "\n",
      "Engine Job ID     = 'jobid-0009'\n",
      "\t Checking status...\n",
      "\t Checking status...\n",
      "Engine Detections = [{'height': 229, 'xtl': 134, 'ytl': 51, 'confidence': 0.7388, 'theta': 0.0, 'class': 'zebra_grevys', 'width': 339}]\n",
      "\n",
      "Annot aid_list    = [4]\n",
      "      bboxes      = [[134, 51, 339, 229]]\n",
      "      thetas      = [0.0]\n",
      "      species     = ['zebra_grevys']\n",
      "      confidences = [0.0]\n",
      "      notes       = ['']\n",
      "\n",
      "Notes on aid_list = [4]\n",
      "      bboxes      = [[134, 51, 339, 229]]\n",
      "      thetas      = [0.0]\n",
      "      species     = ['zebra_grevys']\n",
      "      confidences = [0.0]\n",
      "      notes       = ['Flickr_Image']\n"
     ]
    }
   ],
   "source": [
    "for i in range(1,4):\n",
    "    UD.run_detection_task(i)"
   ]
  },
  {
   "cell_type": "code",
   "execution_count": 86,
   "metadata": {
    "collapsed": false,
    "scrolled": true
   },
   "outputs": [
    {
     "name": "stdout",
     "output_type": "stream",
     "text": [
      "Extracting uuid for all annotations specified by GID range\n",
      "Running ID detection for aid 1\n",
      "Query submitted..!\n",
      "Job ID: jobid-0011\n",
      "Waiting for job completion..!\n",
      "Query complete..!\n",
      "IDing complete for AID 4 \n",
      "\n",
      "Running ID detection for aid 2\n",
      "Query submitted..!\n",
      "Job ID: jobid-0012\n",
      "Query complete..!\n",
      "IDing complete for AID 2 \n",
      "\n",
      "Running ID detection for aid 4\n",
      "Query submitted..!\n",
      "Job ID: jobid-0013\n",
      "Waiting for job completion..!\n",
      "Waiting for job completion..!\n",
      "Query complete..!\n",
      "IDing complete for AID 4 \n",
      "\n"
     ]
    }
   ],
   "source": [
    "UD.run_id_pipeline(range(1,4), 'zebra_grevys')"
   ]
  },
  {
   "cell_type": "code",
   "execution_count": null,
   "metadata": {
    "collapsed": true
   },
   "outputs": [],
   "source": []
  }
 ],
 "metadata": {
  "kernelspec": {
   "display_name": "Python 3",
   "language": "python",
   "name": "python3"
  },
  "language_info": {
   "codemirror_mode": {
    "name": "ipython",
    "version": 3
   },
   "file_extension": ".py",
   "mimetype": "text/x-python",
   "name": "python",
   "nbconvert_exporter": "python",
   "pygments_lexer": "ipython3",
   "version": "3.5.2"
  }
 },
 "nbformat": 4,
 "nbformat_minor": 0
}
