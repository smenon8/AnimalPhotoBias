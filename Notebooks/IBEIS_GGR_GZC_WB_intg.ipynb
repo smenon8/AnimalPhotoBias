{
 "cells": [
  {
   "cell_type": "markdown",
   "metadata": {},
   "source": [
    "\\image analysis running on the server \"lev\", sharing the basic same data.  presently, the IA port is not exposed, but in interest of time, i am making a \"pass-through\" access to the IA api via a WB api call.  (this is ultimately the model we want to use in production, so that wildbook can handle security and other issues, but as you will see, i have kind of done a very generic hack version of the same concept.)   this consists of a small wb api \"wrapper\" call around the call you actually wish to be making of the IA data.  perhaps examples would demonstrate best:\n",
    "\n",
    "IA call:  /api/annot/image/contributor/tag/json/?annot_uuid_list=[{\"__UUID__\":\"8b595dc0-9c5a-4caf-9703-9f8ff017e824\"}]\n",
    "becomes: http://lev.cs.rpi.edu:8080/ggr/ia?passthru=/api/annot/image/contributor/tag/json/&arg=annot_uuid_list%3D[{%22__UUID__%22:%228b595dc0-9c5a-4caf-9703-9f8ff017e824%22}]\n",
    "\n",
    "IA call:  /api/annot/age/months/json/?annot_uuid_list=[{\"__UUID__\":\"8b595dc0-9c5a-4caf-9703-9f8ff017e824\"}]\n",
    "becomes:  http://lev.cs.rpi.edu:8080/ggr/ia?passthru=/api/annot/age/months/json/&arg=annot_uuid_list%3D[{%22__UUID__%22:%228b595dc0-9c5a-4caf-9703-9f8ff017e824%22}]\n",
    "\n",
    "in other words, you pass two parameters, passthru and arg, which are just uri-encoded strings that represent the two sides of the \"?\" in the original call.  (note that arg is optional.)  the two examples above are \"live\", in the sense that you can click them and should get the json results as expected.\n",
    "\n",
    "this should, technically, get you to any existing IA api call (provided i had jason p turn on all the right ones)... at least the ones that use GET.  if you need any POST queries, let me know and i can pass those through as well."
   ]
  },
  {
   "cell_type": "code",
   "execution_count": 1,
   "metadata": {
    "collapsed": false
   },
   "outputs": [],
   "source": [
    "import requests\n",
    "import urllib\n",
    "import GetPropertiesAPI as GP\n",
    "from collections import OrderedDict\n",
    "import importlib\n",
    "import UploadAndDetectIBEIS as UD\n",
    "importlib.reload(UD)\n",
    "importlib.reload(GP)\n",
    "# DOMAIN = 'http://lev.cs.rpi.edu:8080/ggr/ia'\n",
    "import json"
   ]
  },
  {
   "cell_type": "code",
   "execution_count": 68,
   "metadata": {
    "collapsed": false
   },
   "outputs": [
    {
     "data": {
      "text/plain": [
       "[{'__UUID__': '0b69cf48-f7f8-47f8-8d0e-4c66c028ff81'},\n",
       " {'__UUID__': '9bb949b5-5802-4d38-98e5-04b9aadc540b'},\n",
       " {'__UUID__': '30865271-2dc1-451c-9964-ef5e87a40530'}]"
      ]
     },
     "execution_count": 68,
     "metadata": {},
     "output_type": "execute_result"
    }
   ],
   "source": [
    "data_dict = {\n",
    "        'aid_list': [1,2,4],\n",
    "    }\n",
    "q_annot_uuid_list = UD.get('api/annot/uuid', data_dict)\n",
    "q_annot_uuid_list"
   ]
  },
  {
   "cell_type": "code",
   "execution_count": 47,
   "metadata": {
    "collapsed": false
   },
   "outputs": [],
   "source": [
    "url = \"http://pachy.cs.uic.edu:5001/api/engine/query/graph/\"\n",
    "data_dict = {\n",
    "        'query_annot_uuid_list' : json.dumps([q_annot_uuid_list[0]]),\n",
    "}\n",
    "response = requests.request('POST', url, data=data_dict)\n"
   ]
  },
  {
   "cell_type": "code",
   "execution_count": 48,
   "metadata": {
    "collapsed": false
   },
   "outputs": [
    {
     "data": {
      "text/plain": [
       "True"
      ]
     },
     "execution_count": 48,
     "metadata": {},
     "output_type": "execute_result"
    }
   ],
   "source": [
    "jobid_str = response.json()['response']\n",
    "\n",
    "UD.check_job_status(jobid_str)"
   ]
  },
  {
   "cell_type": "code",
   "execution_count": 49,
   "metadata": {
    "collapsed": true
   },
   "outputs": [],
   "source": [
    "data_dict = {\n",
    "        'jobid' : jobid_str\n",
    "    }\n",
    "\n",
    "result = UD.get(\"api/engine/job/result\", data_dict)['json_result']# ['inference_dict']['cluster_dict']"
   ]
  },
  {
   "cell_type": "code",
   "execution_count": 50,
   "metadata": {
    "collapsed": false
   },
   "outputs": [
    {
     "data": {
      "text/plain": [
       "[{'__UUID__': '0b69cf48-f7f8-47f8-8d0e-4c66c028ff81'}]"
      ]
     },
     "execution_count": 50,
     "metadata": {},
     "output_type": "execute_result"
    }
   ],
   "source": [
    "result.keys()\n",
    "\n",
    "\n",
    "result['query_annot_uuid_list']\n",
    "\n",
    "\n"
   ]
  },
  {
   "cell_type": "code",
   "execution_count": 21,
   "metadata": {
    "collapsed": false
   },
   "outputs": [
    {
     "name": "stdout",
     "output_type": "stream",
     "text": [
      "Uploading 270px-Elephant_near_ndutu.jpg\n"
     ]
    },
    {
     "data": {
      "text/plain": [
       "4"
      ]
     },
     "execution_count": 21,
     "metadata": {},
     "output_type": "execute_result"
    }
   ],
   "source": [
    "UD.upload(\"/Users/sreejithmenon/Downloads/270px-Elephant_near_ndutu.jpg\")"
   ]
  },
  {
   "cell_type": "code",
   "execution_count": 22,
   "metadata": {
    "collapsed": false
   },
   "outputs": [
    {
     "name": "stdout",
     "output_type": "stream",
     "text": [
      "image_uuid 1448207663269176108075294643474467511\n",
      "\n",
      "Annot aid_list    = [5]\n",
      "      bboxes      = [[29, 72, 238, 266]]\n",
      "      thetas      = [0.0]\n",
      "      species     = ['elephant_savannah']\n",
      "      confidences = [0.5779936909675598]\n",
      "      notes       = ['cnnyolodetect']\n",
      "\n",
      "Deleting aid_list = [5]\n",
      "      bboxes      = [None]\n",
      "      thetas      = [None]\n",
      "      species     = ['____']\n",
      "      confidences = [None]\n",
      "      notes       = [None]\n",
      "\n",
      "Engine Job ID     = 'jobid-0003'\n",
      "\t Checking status...\n",
      "\t Checking status...\n",
      "Engine Detections = [{'width': 238, 'height': 266, 'theta': 0.0, 'class': 'elephant_savannah', 'ytl': 72, 'confidence': 0.578, 'xtl': 29}]\n",
      "\n",
      "Annot aid_list    = [5]\n",
      "      bboxes      = [[29, 72, 238, 266]]\n",
      "      thetas      = [0.0]\n",
      "      species     = ['elephant_savannah']\n",
      "      confidences = [0.0]\n",
      "      notes       = ['']\n",
      "\n",
      "Notes on aid_list = [5]\n",
      "      bboxes      = [[29, 72, 238, 266]]\n",
      "      thetas      = [0.0]\n",
      "      species     = ['elephant_savannah']\n",
      "      confidences = [0.0]\n",
      "      notes       = ['Flickr_Image']\n"
     ]
    }
   ],
   "source": [
    "UD.run_detection_task(4)"
   ]
  },
  {
   "cell_type": "code",
   "execution_count": 44,
   "metadata": {
    "collapsed": false
   },
   "outputs": [],
   "source": [
    "def handle_name_logic(cluster_dict, aid):\n",
    "    name = None\n",
    "    prev_match = False\n",
    "\n",
    "    # case 1: there is just 1 entry in the orig_name_list - no matches\n",
    "    if len(cluster_dict['orig_name_list']) == 1:\n",
    "        name = str(aid)\n",
    "    else:\n",
    "        # case 2: There are some matches\n",
    "        for i in range(len(cluster_dict['orig_name_list'])): \n",
    "            if 'NEWNAME' not in cluster_dict['orig_name_list'][i]:\n",
    "                prev_match = True\n",
    "\n",
    "        if prev_match:\n",
    "            for orig_name in cluster_dict['orig_name_list']:\n",
    "                if 'NEWNAME' not in orig_name:\n",
    "                    name = orig_name\n",
    "        else:\n",
    "            # case 2b: But none of the matches have been previously been assigned a name\n",
    "            # This block will only work when the pipeline is being run for the first time on a dataset.\n",
    "            name = str(aid)\n",
    "    \n",
    "    return name"
   ]
  },
  {
   "cell_type": "code",
   "execution_count": 51,
   "metadata": {
    "collapsed": false
   },
   "outputs": [
    {
     "data": {
      "text/plain": [
       "'1'"
      ]
     },
     "execution_count": 51,
     "metadata": {},
     "output_type": "execute_result"
    }
   ],
   "source": [
    "handle_name_logic(result['inference_dict']['cluster_dict'],1)"
   ]
  },
  {
   "cell_type": "code",
   "execution_count": 2,
   "metadata": {
    "collapsed": false
   },
   "outputs": [],
   "source": [
    "data_dict= {\n",
    "    \"name_rowid_list\" : [151, 194, 360, 376, 504, 512, 517, 528, 543, 594, 612]\n",
    "}\n",
    "\n",
    "\n",
    "UD.delete('api/name', data_dict)\n"
   ]
  },
  {
   "cell_type": "code",
   "execution_count": 11,
   "metadata": {
    "collapsed": false
   },
   "outputs": [
    {
     "data": {
      "text/plain": [
       "[None, None]"
      ]
     },
     "execution_count": 11,
     "metadata": {},
     "output_type": "execute_result"
    }
   ],
   "source": [
    "data_dict = {\n",
    "            \"aid_list\" : [3306,3307]\n",
    "    }\n",
    "\n",
    "UD.delete('api/annot',data_dict)"
   ]
  },
  {
   "cell_type": "code",
   "execution_count": 88,
   "metadata": {
    "collapsed": false
   },
   "outputs": [],
   "source": [
    "import time, re\n",
    "def run_annot_identification(aid, daid_annot_list): # ID'ing task for each annotation\n",
    "    # step 1: get annot_uuid -- this can be done offline too\n",
    "    data_dict = {\n",
    "        'aid_list': [aid],\n",
    "    }\n",
    "    annot_uuid_list = UD.get('api/annot/uuid', data_dict)\n",
    "\n",
    "    # step 2: for the given annot UUID run the detection against all the available annots\n",
    "    url = \"http://pachy.cs.uic.edu:5001/api/engine/query/graph/\"\n",
    "    data_dict = {\n",
    "        'query_annot_uuid_list' : json.dumps([annot_uuid_list[0]]),\n",
    "        'database_annot_uuid_list' : json.dumps(daid_annot_list)\n",
    "    }\n",
    "    response = requests.request('POST', url, data=data_dict)\n",
    "\n",
    "    print(\"Query submitted..!\")\n",
    "\n",
    "    try:\n",
    "        assert response.json()['status']['success']\n",
    "    except AssertionError:\n",
    "        print(\"RUN_ID_PIPELINE failed for annotation_id %i\" %aid)\n",
    "\n",
    "    jobid_str = response.json()['response']\n",
    "    print(\"Job ID: %s\" %jobid_str)\n",
    "\n",
    "    error_time = 30 * 60\n",
    "    start = 0\n",
    "    while not UD.check_job_status(jobid_str) and start < error_time:\n",
    "        print(\"Waiting for job completion..!\")\n",
    "        start += 10\n",
    "        time.sleep(10)\n",
    "\n",
    "    try:\n",
    "        assert UD.check_job_status(jobid_str)\n",
    "    except AssertionError:\n",
    "        print(\"RUN_ID_PIPELINE failed for annotation_id %i\" %aid)\n",
    "        bashCommand=\"\"\"echo \"RUN_ID_PIPELINE failed \\n`date`\" | mailx -s 'Msg from UploadAndDetectIBEIS' smenon8@uic.edu\"\"\"\n",
    "        process = subprocess.Popen(bashCommand.split(), stdout=subprocess.PIPE)\n",
    "        output, error = process.communicate()\n",
    "    \n",
    "    print(\"Query complete..!\")\n",
    "\n",
    "    # step 3: Job execution must have successfully completed at this point and now we extract the needed information\n",
    "    data_dict = {\n",
    "        'jobid' : jobid_str\n",
    "    }\n",
    "\n",
    "    result = UD.get(\"api/engine/job/result\", data_dict)['json_result']['inference_dict']['cluster_dict']\n",
    "\n",
    "    print(result)\n",
    "    name = handle_name_logic(result, aid)\n",
    "    # this particular block ensures the names assigned (integers) are preserved\n",
    "   \n",
    "    # make the final assignment\n",
    "    # for annot_uuid_dict in result['annot_uuid_list']:\n",
    "        # aid = uuid_aid_map[annot_uuid_dict[\"__UUID__\"]]\n",
    "    print(name)\n",
    "    print(type(name))\n",
    "    data_dict = {\n",
    "            \"aid_list\" : [aid],\n",
    "            \"name_list\" : [name]\n",
    "        }\n",
    "\n",
    "    UD.put(\"api/annot/name\", data_dict)\n",
    "    \n",
    "    print(\"IDing complete for AID %s \\n\" %aid)\n",
    "    return 0"
   ]
  },
  {
   "cell_type": "code",
   "execution_count": 91,
   "metadata": {
    "collapsed": false
   },
   "outputs": [
    {
     "name": "stdout",
     "output_type": "stream",
     "text": [
      "Query submitted..!\n",
      "Job ID: jobid-0017\n",
      "Query complete..!\n",
      "{'annot_uuid_list': [{'__UUID__': '9bb949b5-5802-4d38-98e5-04b9aadc540b'}], 'orig_name_list': ['NEWNAME_-2'], 'exemplar_flag_list': [True], 'error_flag_list': [[]], 'new_name_list': ['NEWNAME_-2']}\n",
      "2\n",
      "<class 'str'>\n",
      "IDing complete for AID 2 \n",
      "\n"
     ]
    },
    {
     "data": {
      "text/plain": [
       "0"
      ]
     },
     "execution_count": 91,
     "metadata": {},
     "output_type": "execute_result"
    }
   ],
   "source": [
    "run_annot_identification(2,[{'__UUID__': '0b69cf48-f7f8-47f8-8d0e-4c66c028ff81'},\n",
    " {'__UUID__': '9bb949b5-5802-4d38-98e5-04b9aadc540b'},\n",
    " {'__UUID__': '30865271-2dc1-451c-9964-ef5e87a40530'}])"
   ]
  },
  {
   "cell_type": "code",
   "execution_count": 97,
   "metadata": {
    "collapsed": false
   },
   "outputs": [
    {
     "name": "stdout",
     "output_type": "stream",
     "text": [
      "Extracting uuid for all annotations specified by GID range\n",
      "Running ID detection for aid 1\n",
      "Query submitted..!\n",
      "Job ID: jobid-0019\n",
      "Query complete..!\n",
      "IDing complete for AID 1 \n",
      "\n",
      "Running ID detection for aid 2\n",
      "Query submitted..!\n",
      "Job ID: jobid-0020\n",
      "Query complete..!\n",
      "IDing complete for AID 2 \n",
      "\n",
      "Running ID detection for aid 4\n",
      "Query submitted..!\n",
      "Job ID: jobid-0021\n",
      "Query complete..!\n",
      "IDing complete for AID 4 \n",
      "\n"
     ]
    }
   ],
   "source": [
    "UD.run_id_pipeline(range(1,6), \"zebra_grevys\")"
   ]
  },
  {
   "cell_type": "code",
   "execution_count": 99,
   "metadata": {
    "collapsed": false
   },
   "outputs": [
    {
     "name": "stdout",
     "output_type": "stream",
     "text": [
      "{'status': {'code': 200, 'cache': -1, 'success': True, 'message': ''}, 'response': [True, True, False, True, False]}\n"
     ]
    }
   ],
   "source": [
    "url = \"http://pachy.cs.uic.edu:5001/api/annot/exemplar/\"\n",
    "response = requests.request('POST', url)\n",
    "print(response.json())\n"
   ]
  },
  {
   "cell_type": "code",
   "execution_count": 7,
   "metadata": {
    "collapsed": false
   },
   "outputs": [
    {
     "data": {
      "text/plain": [
       "['1', '2', '3', '4', '5', '6', '7', '____']"
      ]
     },
     "execution_count": 7,
     "metadata": {},
     "output_type": "execute_result"
    }
   ],
   "source": [
    "GP.getImageFeature([1,2,3,4,5,6,7, 3001], \"name/text\")"
   ]
  },
  {
   "cell_type": "code",
   "execution_count": 6,
   "metadata": {
    "collapsed": false
   },
   "outputs": [],
   "source": [
    "exemplars_2 = UD.post(\"api/annot/exemplar\", {})"
   ]
  },
  {
   "cell_type": "code",
   "execution_count": 8,
   "metadata": {
    "collapsed": false
   },
   "outputs": [
    {
     "data": {
      "text/plain": [
       "set()"
      ]
     },
     "execution_count": 8,
     "metadata": {},
     "output_type": "execute_result"
    }
   ],
   "source": [
    "set(exemplars_2) - set(exemplars)"
   ]
  },
  {
   "cell_type": "code",
   "execution_count": 10,
   "metadata": {
    "collapsed": false
   },
   "outputs": [
    {
     "data": {
      "text/plain": [
       "50"
      ]
     },
     "execution_count": 10,
     "metadata": {},
     "output_type": "execute_result"
    }
   ],
   "source": [
    "sum(exemplars)"
   ]
  },
  {
   "cell_type": "code",
   "execution_count": 25,
   "metadata": {
    "collapsed": true
   },
   "outputs": [],
   "source": [
    "gidRange = range(1,150+1)\n",
    "\n",
    "gid_aid_map = {}\n",
    "for gid in gidRange:\n",
    "    aid = GP.getAnnotID(int(gid))\n",
    "    gid_aid_map[gid] = [aid][0]\n",
    "\n",
    "aid_list = [item for sublist in gid_aid_map.values() for item in sublist if len(sublist) > 0] "
   ]
  },
  {
   "cell_type": "code",
   "execution_count": 26,
   "metadata": {
    "collapsed": false
   },
   "outputs": [],
   "source": [
    "name_list = GP.getImageFeature(aid_list, \"name/text\")\n",
    "name_dict = {aid_list[i] : name_list[i] for i in range(len(aid_list))}\n",
    "\n",
    "species_list = GP.getImageFeature(aid_list, \"species/text\")\n",
    "species_dict = {aid_list[i] : species_list[i] for i in range(len(aid_list))}\n",
    "\n"
   ]
  },
  {
   "cell_type": "code",
   "execution_count": 27,
   "metadata": {
    "collapsed": true
   },
   "outputs": [],
   "source": [
    "species = 'giraffe_reticulated'\n",
    "\n",
    "# ignore all the annotations which already have a name associated\n",
    "qaid_list_species_only = list(filter(lambda aid : species_dict[aid] == species and name_dict[aid] == \"____\", aid_list))   \n",
    "daid_list_species_only = list(filter(lambda aid : species_dict[aid] == species, aid_list))"
   ]
  },
  {
   "cell_type": "code",
   "execution_count": 28,
   "metadata": {
    "collapsed": false
   },
   "outputs": [],
   "source": [
    "def refresh_exemplars(data_dict={}):\n",
    "    return UD.post(\"api/annot/exemplar\", data_dict)\n",
    "\n",
    "def get_database_annots(aid_list):\n",
    "    print(\"Method for extracting database annotations running..!\")\n",
    "\n",
    "    db_annot_list = []\n",
    "    \n",
    "    # get all exemplars\n",
    "    data_dict = {\n",
    "        'aid_list' : aid_list\n",
    "    }\n",
    "    exemplars = refresh_exemplars(data_dict)\n",
    "\n",
    "    if sum(exemplars):\n",
    "        for i in range(len(aid_list)):\n",
    "            if exemplars[i]:\n",
    "                db_annot_list.append(aid_list[i])\n",
    "    else: # no exemplars\n",
    "        db_annot_list = aid_list\n",
    "    \n",
    "\n",
    "    return db_annot_list"
   ]
  },
  {
   "cell_type": "code",
   "execution_count": 29,
   "metadata": {
    "collapsed": false
   },
   "outputs": [
    {
     "name": "stdout",
     "output_type": "stream",
     "text": [
      "Method for extracting database annotations running..!\n"
     ]
    }
   ],
   "source": [
    "daid_annot_list = get_database_annots(daid_list_species_only)"
   ]
  },
  {
   "cell_type": "code",
   "execution_count": 30,
   "metadata": {
    "collapsed": false
   },
   "outputs": [
    {
     "data": {
      "text/plain": [
       "[1,\n",
       " 2,\n",
       " 3,\n",
       " 4,\n",
       " 5,\n",
       " 6,\n",
       " 7,\n",
       " 9,\n",
       " 10,\n",
       " 11,\n",
       " 12,\n",
       " 14,\n",
       " 15,\n",
       " 16,\n",
       " 17,\n",
       " 18,\n",
       " 19,\n",
       " 21,\n",
       " 22,\n",
       " 23,\n",
       " 24,\n",
       " 25,\n",
       " 28,\n",
       " 29,\n",
       " 30,\n",
       " 32,\n",
       " 33,\n",
       " 34,\n",
       " 36,\n",
       " 37,\n",
       " 38,\n",
       " 42,\n",
       " 43,\n",
       " 47,\n",
       " 49,\n",
       " 50,\n",
       " 53,\n",
       " 55,\n",
       " 56,\n",
       " 57,\n",
       " 67,\n",
       " 71,\n",
       " 74,\n",
       " 95,\n",
       " 105,\n",
       " 107,\n",
       " 108,\n",
       " 116,\n",
       " 133,\n",
       " 140]"
      ]
     },
     "execution_count": 30,
     "metadata": {},
     "output_type": "execute_result"
    }
   ],
   "source": [
    "daid_annot_list"
   ]
  },
  {
   "cell_type": "code",
   "execution_count": 26,
   "metadata": {
    "collapsed": false
   },
   "outputs": [],
   "source": [
    "data_dict = {\n",
    "        'jobid' : 'jobid-0001'\n",
    "    }\n",
    "\n",
    "result = UD.get(\"api/engine/job/result\", data_dict)# ['json_result']['inference_dict']['cluster_dict']"
   ]
  },
  {
   "cell_type": "code",
   "execution_count": 27,
   "metadata": {
    "collapsed": false
   },
   "outputs": [
    {
     "name": "stdout",
     "output_type": "stream",
     "text": [
      "{\n",
      "    \"status\": \"ok\",\n",
      "    \"jobid\": \"jobid-0001\",\n",
      "    \"json_result\": \"<!!! EXCEPTION !!!>\\nTraceback (most recent call last):\\n  File \\\"/opt/ibeis/ibeis/ibeis/web/job_engine.py\\\", line 834, in on_engine_request\\n    result = action_func(*args, **kwargs)\\n  File \\\"/opt/ibeis/ibeis/ibeis/web/apis_query.py\\\", line 544, in query_chips_graph\\n    cfgdict=query_config_dict, return_request=True)\\n  File \\\"/opt/ibeis/ibeis/ibeis/web/apis_query.py\\\", line 697, in query_chips\\n    cm_list = qreq_.execute()\\n  File \\\"/opt/ibeis/ibeis/ibeis/algo/hots/query_request.py\\\", line 1265, in execute\\n    save_qcache=None)\\n  File \\\"/opt/ibeis/ibeis/ibeis/algo/hots/match_chips4.py\\\", line 96, in submit_query_request\\n    verbose=verbose)\\n  File \\\"/opt/ibeis/ibeis/ibeis/algo/hots/match_chips4.py\\\", line 218, in execute_query_and_save_L1\\n    for fpath in fpath_iter\\n  File \\\"/opt/ibeis/ibeis/ibeis/algo/hots/chip_match.py\\\", line 2777, in load_from_fpath\\n    state_dict = ut.load_cPkl(fpath, verbose=verbose)\\n  File \\\"/opt/ibeis/utool/utool/util_io.py\\\", line 339, in load_cPkl\\n    data = pickle.load(file_)\\nEOFError\\n\\n[!on_engine_request] [!?] Caught exception\\n<type 'exceptions.EOFError'>: \\n[!on_engine_request] jobid = 'jobid-0001'\\n</!!! EXCEPTION !!!>\"\n",
      "}\n"
     ]
    }
   ],
   "source": [
    "print(json.dumps(result, indent=4))"
   ]
  },
  {
   "cell_type": "code",
   "execution_count": 11,
   "metadata": {
    "collapsed": false
   },
   "outputs": [
    {
     "name": "stdout",
     "output_type": "stream",
     "text": [
      "Method for extracting database annotations running..!\n"
     ]
    }
   ],
   "source": [
    "daids = UD.get_database_annots(list(range(2852)))"
   ]
  },
  {
   "cell_type": "code",
   "execution_count": 21,
   "metadata": {
    "collapsed": false
   },
   "outputs": [],
   "source": [
    "data_dict = {\n",
    "        'aid_list': [2852],\n",
    "    }\n",
    "annot_uuid_list = UD.get('api/annot/uuid', data_dict)\n",
    "url = \"http://pachy.cs.uic.edu:5001/api/engine/query/graph/\"\n",
    "data_dict = {\n",
    "        'query_annot_uuid_list' : json.dumps([annot_uuid_list[0]]),\n",
    "        'database_annot_uuid_list' : json.dumps(daids)\n",
    "    }\n",
    "response = requests.request('POST', url, data=data_dict)"
   ]
  },
  {
   "cell_type": "code",
   "execution_count": 23,
   "metadata": {
    "collapsed": false
   },
   "outputs": [
    {
     "data": {
      "text/plain": [
       "{'response': 'jobid-0002',\n",
       " 'status': {'cache': -1, 'code': 200, 'message': '', 'success': True}}"
      ]
     },
     "execution_count": 23,
     "metadata": {},
     "output_type": "execute_result"
    }
   ],
   "source": [
    "response.json()"
   ]
  },
  {
   "cell_type": "code",
   "execution_count": 2,
   "metadata": {
    "collapsed": false
   },
   "outputs": [],
   "source": [
    "DOMAIN = 'http://pachy.cs.uic.edu:5000'"
   ]
  },
  {
   "cell_type": "code",
   "execution_count": 3,
   "metadata": {
    "collapsed": false
   },
   "outputs": [
    {
     "data": {
      "text/plain": [
       "[]"
      ]
     },
     "execution_count": 3,
     "metadata": {},
     "output_type": "execute_result"
    }
   ],
   "source": [
    "GP.getAnnotID(1)"
   ]
  },
  {
   "cell_type": "code",
   "execution_count": 4,
   "metadata": {
    "collapsed": true
   },
   "outputs": [],
   "source": [
    "data_dict = {\n",
    "        'gid_list': [1],\n",
    "    }"
   ]
  },
  {
   "cell_type": "code",
   "execution_count": 6,
   "metadata": {
    "collapsed": false
   },
   "outputs": [],
   "source": [
    "image_uuid_list = UD.get('api/image/uuid', data_dict)"
   ]
  },
  {
   "cell_type": "code",
   "execution_count": 7,
   "metadata": {
    "collapsed": false
   },
   "outputs": [
    {
     "data": {
      "text/plain": [
       "[{'__UUID__': '89ef0e83-066b-1e0d-6d4b-53ac52007f21'}]"
      ]
     },
     "execution_count": 7,
     "metadata": {},
     "output_type": "execute_result"
    }
   ],
   "source": [
    "image_uuid_list"
   ]
  },
  {
   "cell_type": "code",
   "execution_count": null,
   "metadata": {
    "collapsed": true
   },
   "outputs": [],
   "source": []
  }
 ],
 "metadata": {
  "kernelspec": {
   "display_name": "Python 3",
   "language": "python",
   "name": "python3"
  },
  "language_info": {
   "codemirror_mode": {
    "name": "ipython",
    "version": 3
   },
   "file_extension": ".py",
   "mimetype": "text/x-python",
   "name": "python",
   "nbconvert_exporter": "python",
   "pygments_lexer": "ipython3",
   "version": "3.5.2"
  }
 },
 "nbformat": 4,
 "nbformat_minor": 0
}
