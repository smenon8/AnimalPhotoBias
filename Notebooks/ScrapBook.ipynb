{
 "cells": [
  {
   "cell_type": "code",
   "execution_count": 40,
   "metadata": {
    "collapsed": false
   },
   "outputs": [],
   "source": [
    "import DeriveFinalResultSet as DRS\n",
    "import DataStructsHelperAPI as DS\n",
    "import importlib\n",
    "importlib.reload(DS)\n",
    "import pandas as pd\n",
    "import cufflinks as cf # this is necessary to link pandas to plotly\n",
    "cf.go_online()\n",
    "import plotly.graph_objs as go\n",
    "from plotly.offline import download_plotlyjs, init_notebook_mode, plot, iplot\n",
    "gidAidMapFl = \"../data/full_gid_aid_map.json\"\n",
    "aidFeatureMapFl = \"../data/full_aid_features.json\"\n",
    "\n",
    "layout = go.Layout(\n",
    "    title=\"Number of images taken (X)\",\n",
    "    titlefont = dict(size=15),\n",
    "    xaxis=dict(\n",
    "        title=\"Contributors\",\n",
    "        titlefont = dict(\n",
    "        size=15),\n",
    "        showticklabels=True,\n",
    "        tickangle=35,\n",
    "        tickfont=dict(\n",
    "        size=9,\n",
    "        color='black')\n",
    "        ),\n",
    "    yaxis=dict(\n",
    "        title=\"Number of contributors who took X images\",\n",
    "        titlefont = dict(\n",
    "        size=15),\n",
    "        showticklabels=True,\n",
    "        tickfont=dict(\n",
    "        size=9,\n",
    "        color='black')\n",
    "        )\n",
    "    )\n"
   ]
  },
  {
   "cell_type": "code",
   "execution_count": 13,
   "metadata": {
    "collapsed": false
   },
   "outputs": [],
   "source": [
    "d = DRS.getCountingLogic(gidAidMapFl,aidFeatureMapFl,\"CONTRIBUTOR\",withNumInds=False)\n",
    "contribImgDct = DS.flipKeyValue(d)"
   ]
  },
  {
   "cell_type": "code",
   "execution_count": 16,
   "metadata": {
    "collapsed": false
   },
   "outputs": [
    {
     "data": {
      "text/plain": [
       "{'GIRM_MUGU_20,hyrule:joncrall:/media/raid/work/GIRM_MUGU_20,,,,,0': 40,\n",
       " \"NNP GZC Car '10WHITE', Person 'A'\": 89,\n",
       " \"NNP GZC Car '11WHITE', Person 'A'\": 143,\n",
       " \"NNP GZC Car '12WHITE', Person 'A'\": 62,\n",
       " \"NNP GZC Car '13WHITE', Person 'A'\": 49,\n",
       " \"NNP GZC Car '13WHITE', Person 'B'\": 138,\n",
       " \"NNP GZC Car '14WHITE', Person 'A'\": 129,\n",
       " \"NNP GZC Car '15WHITE', Person 'A'\": 89,\n",
       " \"NNP GZC Car '15WHITE', Person 'B'\": 13,\n",
       " \"NNP GZC Car '15WHITE', Person 'C'\": 19,\n",
       " \"NNP GZC Car '15WHITE', Person 'D'\": 69,\n",
       " \"NNP GZC Car '16WHITE', Person 'A'\": 11,\n",
       " \"NNP GZC Car '17WHITE', Person 'A'\": 28,\n",
       " \"NNP GZC Car '17WHITE', Person 'C'\": 34,\n",
       " \"NNP GZC Car '1BLUE', Person 'A'\": 26,\n",
       " \"NNP GZC Car '1BLUE', Person 'B'\": 37,\n",
       " \"NNP GZC Car '1BLUE', Person 'C'\": 61,\n",
       " \"NNP GZC Car '1BLUE', Person 'D'\": 14,\n",
       " \"NNP GZC Car '1PURPLE', Person 'A'\": 188,\n",
       " \"NNP GZC Car '1PURPLE', Person 'B'\": 267,\n",
       " \"NNP GZC Car '1PURPLE', Person 'C'\": 27,\n",
       " \"NNP GZC Car '1PURPLE', Person 'D'\": 329,\n",
       " \"NNP GZC Car '1RED', Person 'A'\": 171,\n",
       " \"NNP GZC Car '1RED', Person 'B'\": 284,\n",
       " \"NNP GZC Car '1WHITE', Person 'A'\": 86,\n",
       " \"NNP GZC Car '1WHITE', Person 'B'\": 96,\n",
       " \"NNP GZC Car '1WHITE', Person 'C'\": 105,\n",
       " \"NNP GZC Car '25PURPLE', Person 'A'\": 75,\n",
       " \"NNP GZC Car '2RED', Person 'A'\": 200,\n",
       " \"NNP GZC Car '2RED', Person 'B'\": 129,\n",
       " \"NNP GZC Car '2RED', Person 'C'\": 175,\n",
       " \"NNP GZC Car '2RED', Person 'D'\": 58,\n",
       " \"NNP GZC Car '2RED', Person 'E'\": 10,\n",
       " \"NNP GZC Car '2WHITE', Person 'A'\": 51,\n",
       " \"NNP GZC Car '3PURPLE', Person 'A'\": 11,\n",
       " \"NNP GZC Car '3PURPLE', Person 'B'\": 51,\n",
       " \"NNP GZC Car '3RED', Person 'A'\": 116,\n",
       " \"NNP GZC Car '3RED', Person 'B'\": 117,\n",
       " \"NNP GZC Car '3WHITE', Person 'A'\": 172,\n",
       " \"NNP GZC Car '4RED', Person 'A'\": 54,\n",
       " \"NNP GZC Car '4RED', Person 'B'\": 8,\n",
       " \"NNP GZC Car '4WHITE', Person 'A'\": 18,\n",
       " \"NNP GZC Car '5RED', Person 'A'\": 20,\n",
       " \"NNP GZC Car '5RED', Person 'C'\": 9,\n",
       " \"NNP GZC Car '5WHITE', Person 'A'\": 140,\n",
       " \"NNP GZC Car '6RED', Person 'A'\": 145,\n",
       " \"NNP GZC Car '6RED', Person 'B'\": 331,\n",
       " \"NNP GZC Car '6WHITE', Person 'B'\": 143,\n",
       " \"NNP GZC Car '7WHITE', Person 'A'\": 101,\n",
       " \"NNP GZC Car '7WHITE', Person 'B'\": 94,\n",
       " \"NNP GZC Car '8WHITE', Person 'A'\": 189,\n",
       " \"NNP GZC Car '9WHITE', Person 'A'\": 25,\n",
       " 'NNP_Master,pachy.cs.uic.edu:jonc:/home/shared_ibeis/data/work/NNP_Master,,,,,6': 983,\n",
       " 'PZ_MUGU_18,hyrule:joncrall:/media/raid/work/PZ_MUGU_18,,,,,0': 209,\n",
       " 'PZ_MUGU_19,hyrule:joncrall:/media/raid/work/PZ_MUGU_19,,,,,0': 179,\n",
       " 'PZ_MUGU_20,hyrule:joncrall:/media/raid/work/PZ_MUGU_20,,,,,0': 107}"
      ]
     },
     "execution_count": 16,
     "metadata": {},
     "output_type": "execute_result"
    }
   ],
   "source": [
    "numImgsPerContrib = {key : len(contribImgDct[key]) for key in contribImgDct.keys()}\n",
    "numImgsPerContrib"
   ]
  },
  {
   "cell_type": "code",
   "execution_count": 36,
   "metadata": {
    "collapsed": false
   },
   "outputs": [],
   "source": [
    "df = pd.DataFrame(numImgsPerContrib,index=['NumImages']).transpose()\n",
    "df.sort_values(by='NumImages',inplace=True,ascending=False)\n",
    "fig1 = df.iplot(kind='bar',layout=layout)"
   ]
  },
  {
   "cell_type": "code",
   "execution_count": 42,
   "metadata": {
    "collapsed": false
   },
   "outputs": [
    {
     "data": {
      "text/plain": [
       "'<iframe id=\"igraph\" scrolling=\"no\" style=\"border:none;\" seamless=\"seamless\" src=\"https://plot.ly/~kamblenoopur/20.embed\" height=\"525px\" width=\"100%\"></iframe>'"
      ]
     },
     "execution_count": 42,
     "metadata": {},
     "output_type": "execute_result"
    }
   ],
   "source": [
    "fig2.embed_code"
   ]
  },
  {
   "cell_type": "code",
   "execution_count": 41,
   "metadata": {
    "collapsed": false
   },
   "outputs": [
    {
     "data": {
      "text/html": [
       "<iframe id=\"igraph\" scrolling=\"no\" style=\"border:none;\" seamless=\"seamless\" src=\"https://plot.ly/~kamblenoopur/20.embed\" height=\"525px\" width=\"100%\"></iframe>"
      ],
      "text/plain": [
       "<plotly.tools.PlotlyDisplay object>"
      ]
     },
     "execution_count": 41,
     "metadata": {},
     "output_type": "execute_result"
    }
   ],
   "source": [
    "fig2 = df.iplot(kind='histogram',layout=layout)\n",
    "fig2"
   ]
  },
  {
   "cell_type": "code",
   "execution_count": 48,
   "metadata": {
    "collapsed": false
   },
   "outputs": [
    {
     "data": {
      "text/plain": [
       "6524"
      ]
     },
     "execution_count": 48,
     "metadata": {},
     "output_type": "execute_result"
    }
   ],
   "source": [
    "sum(df['NumImages'])"
   ]
  },
  {
   "cell_type": "code",
   "execution_count": null,
   "metadata": {
    "collapsed": true
   },
   "outputs": [],
   "source": []
  }
 ],
 "metadata": {
  "kernelspec": {
   "display_name": "Python 3",
   "language": "python",
   "name": "python3"
  },
  "language_info": {
   "codemirror_mode": {
    "name": "ipython",
    "version": 3
   },
   "file_extension": ".py",
   "mimetype": "text/x-python",
   "name": "python",
   "nbconvert_exporter": "python",
   "pygments_lexer": "ipython3",
   "version": "3.5.2"
  }
 },
 "nbformat": 4,
 "nbformat_minor": 0
}
