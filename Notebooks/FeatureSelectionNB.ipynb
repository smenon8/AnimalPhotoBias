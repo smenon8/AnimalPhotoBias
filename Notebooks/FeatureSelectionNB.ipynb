{
 "cells": [
  {
   "cell_type": "markdown",
   "metadata": {},
   "source": [
    "### Contains code for performing feature selection using Information Gain\n",
    "#### Author: Sreejith Menon(smenon8@uic.edu)"
   ]
  },
  {
   "cell_type": "code",
   "execution_count": 1,
   "metadata": {
    "collapsed": false
   },
   "outputs": [],
   "source": [
    "import ClassiferHelperAPI as CH\n",
    "import pandas as pd\n",
    "import sys\n",
    "import FeatureSelectionAPI as FS\n",
    "import importlib\n",
    "importlib.reload(FS)\n",
    "from numpy import mean\n",
    "import csv"
   ]
  },
  {
   "cell_type": "code",
   "execution_count": 2,
   "metadata": {
    "collapsed": true
   },
   "outputs": [],
   "source": [
    "# Generating attributes, converting categorical attributes into discrete binary output.\n",
    "# For instance - SPECIES : Zebra will be converted into (Zebra: 1, Giraffe: 0 .. )\n",
    "hasSparse = False\n",
    "data= CH.getMasterData(\"../FinalResults/ImgShrRnkListWithTags.csv\")\n",
    "if hasSparse:   \n",
    "    ftrList = ['SPECIES','SEX','AGE','QUALITY','VIEW_POINT','INDIVIDUAL_NAME','CONTRIBUTOR','tags'] \n",
    "else:\n",
    "    ftrList = ['SPECIES','SEX','AGE','QUALITY','VIEW_POINT'] #,'tags']\n",
    "    \n",
    "allAttribs = CH.genAttribsHead(data,ftrList)"
   ]
  },
  {
   "cell_type": "code",
   "execution_count": 6,
   "metadata": {
    "collapsed": true
   },
   "outputs": [],
   "source": [
    "ftrList = ['INDIVIDUAL_NAME','CONTRIBUTOR','tags'] \n",
    "allAttribs = CH.genAttribsHead(data,ftrList)"
   ]
  },
  {
   "cell_type": "code",
   "execution_count": 7,
   "metadata": {
    "collapsed": false
   },
   "outputs": [],
   "source": [
    "gidAttribDict = CH.createDataFlDict(data,allAttribs,True,80,True) # binaryClf attribute in createDataFlDict will be True here"
   ]
  },
  {
   "cell_type": "code",
   "execution_count": 8,
   "metadata": {
    "collapsed": false,
    "scrolled": false
   },
   "outputs": [
    {
     "data": {
      "text/html": [
       "<div>\n",
       "<table border=\"1\" class=\"dataframe\">\n",
       "  <thead>\n",
       "    <tr style=\"text-align: right;\">\n",
       "      <th></th>\n",
       "      <th>IBEIS_PZ_0212</th>\n",
       "      <th>IBEIS_PZ_1385</th>\n",
       "      <th>IBEIS_PZ_1160</th>\n",
       "      <th>IBEIS_PZ_0061</th>\n",
       "      <th>IBEIS_PZ_0862</th>\n",
       "      <th>IBEIS_PZ_1396</th>\n",
       "      <th>IBEIS_PZ_1355</th>\n",
       "      <th>IBEIS_PZ_1582</th>\n",
       "      <th>IBEIS_PZ_1225</th>\n",
       "      <th>IBEIS_PZ_0306</th>\n",
       "      <th>...</th>\n",
       "      <th>lone</th>\n",
       "      <th>hyena</th>\n",
       "      <th>bushes</th>\n",
       "      <th>herd</th>\n",
       "      <th>laying</th>\n",
       "      <th>grassy</th>\n",
       "      <th>path</th>\n",
       "      <th>conifer</th>\n",
       "      <th>wild</th>\n",
       "      <th>TARGET</th>\n",
       "    </tr>\n",
       "  </thead>\n",
       "  <tbody>\n",
       "    <tr>\n",
       "      <th>10</th>\n",
       "      <td>0.0</td>\n",
       "      <td>0.0</td>\n",
       "      <td>0.0</td>\n",
       "      <td>0.0</td>\n",
       "      <td>0.0</td>\n",
       "      <td>0.0</td>\n",
       "      <td>0.0</td>\n",
       "      <td>0.0</td>\n",
       "      <td>0.0</td>\n",
       "      <td>0.0</td>\n",
       "      <td>...</td>\n",
       "      <td>0.0</td>\n",
       "      <td>0.0</td>\n",
       "      <td>0.0</td>\n",
       "      <td>0.0</td>\n",
       "      <td>0.0</td>\n",
       "      <td>1.0</td>\n",
       "      <td>0.0</td>\n",
       "      <td>0.0</td>\n",
       "      <td>1.0</td>\n",
       "      <td>0.0</td>\n",
       "    </tr>\n",
       "    <tr>\n",
       "      <th>1005</th>\n",
       "      <td>0.0</td>\n",
       "      <td>0.0</td>\n",
       "      <td>0.0</td>\n",
       "      <td>0.0</td>\n",
       "      <td>0.0</td>\n",
       "      <td>0.0</td>\n",
       "      <td>0.0</td>\n",
       "      <td>0.0</td>\n",
       "      <td>0.0</td>\n",
       "      <td>0.0</td>\n",
       "      <td>...</td>\n",
       "      <td>0.0</td>\n",
       "      <td>0.0</td>\n",
       "      <td>0.0</td>\n",
       "      <td>0.0</td>\n",
       "      <td>0.0</td>\n",
       "      <td>1.0</td>\n",
       "      <td>0.0</td>\n",
       "      <td>0.0</td>\n",
       "      <td>0.0</td>\n",
       "      <td>1.0</td>\n",
       "    </tr>\n",
       "    <tr>\n",
       "      <th>1024</th>\n",
       "      <td>0.0</td>\n",
       "      <td>0.0</td>\n",
       "      <td>0.0</td>\n",
       "      <td>0.0</td>\n",
       "      <td>0.0</td>\n",
       "      <td>0.0</td>\n",
       "      <td>0.0</td>\n",
       "      <td>0.0</td>\n",
       "      <td>0.0</td>\n",
       "      <td>0.0</td>\n",
       "      <td>...</td>\n",
       "      <td>0.0</td>\n",
       "      <td>0.0</td>\n",
       "      <td>0.0</td>\n",
       "      <td>0.0</td>\n",
       "      <td>0.0</td>\n",
       "      <td>0.0</td>\n",
       "      <td>0.0</td>\n",
       "      <td>0.0</td>\n",
       "      <td>0.0</td>\n",
       "      <td>0.0</td>\n",
       "    </tr>\n",
       "    <tr>\n",
       "      <th>1041</th>\n",
       "      <td>0.0</td>\n",
       "      <td>0.0</td>\n",
       "      <td>0.0</td>\n",
       "      <td>0.0</td>\n",
       "      <td>0.0</td>\n",
       "      <td>0.0</td>\n",
       "      <td>0.0</td>\n",
       "      <td>0.0</td>\n",
       "      <td>0.0</td>\n",
       "      <td>0.0</td>\n",
       "      <td>...</td>\n",
       "      <td>0.0</td>\n",
       "      <td>0.0</td>\n",
       "      <td>0.0</td>\n",
       "      <td>0.0</td>\n",
       "      <td>0.0</td>\n",
       "      <td>1.0</td>\n",
       "      <td>0.0</td>\n",
       "      <td>0.0</td>\n",
       "      <td>0.0</td>\n",
       "      <td>1.0</td>\n",
       "    </tr>\n",
       "    <tr>\n",
       "      <th>1045</th>\n",
       "      <td>0.0</td>\n",
       "      <td>0.0</td>\n",
       "      <td>0.0</td>\n",
       "      <td>0.0</td>\n",
       "      <td>0.0</td>\n",
       "      <td>0.0</td>\n",
       "      <td>0.0</td>\n",
       "      <td>0.0</td>\n",
       "      <td>0.0</td>\n",
       "      <td>0.0</td>\n",
       "      <td>...</td>\n",
       "      <td>0.0</td>\n",
       "      <td>0.0</td>\n",
       "      <td>0.0</td>\n",
       "      <td>0.0</td>\n",
       "      <td>0.0</td>\n",
       "      <td>0.0</td>\n",
       "      <td>0.0</td>\n",
       "      <td>0.0</td>\n",
       "      <td>0.0</td>\n",
       "      <td>1.0</td>\n",
       "    </tr>\n",
       "  </tbody>\n",
       "</table>\n",
       "<p>5 rows × 851 columns</p>\n",
       "</div>"
      ],
      "text/plain": [
       "      IBEIS_PZ_0212  IBEIS_PZ_1385  IBEIS_PZ_1160  IBEIS_PZ_0061  \\\n",
       "10              0.0            0.0            0.0            0.0   \n",
       "1005            0.0            0.0            0.0            0.0   \n",
       "1024            0.0            0.0            0.0            0.0   \n",
       "1041            0.0            0.0            0.0            0.0   \n",
       "1045            0.0            0.0            0.0            0.0   \n",
       "\n",
       "      IBEIS_PZ_0862  IBEIS_PZ_1396  IBEIS_PZ_1355  IBEIS_PZ_1582  \\\n",
       "10              0.0            0.0            0.0            0.0   \n",
       "1005            0.0            0.0            0.0            0.0   \n",
       "1024            0.0            0.0            0.0            0.0   \n",
       "1041            0.0            0.0            0.0            0.0   \n",
       "1045            0.0            0.0            0.0            0.0   \n",
       "\n",
       "      IBEIS_PZ_1225  IBEIS_PZ_0306   ...    lone  hyena  bushes  herd  laying  \\\n",
       "10              0.0            0.0   ...     0.0    0.0     0.0   0.0     0.0   \n",
       "1005            0.0            0.0   ...     0.0    0.0     0.0   0.0     0.0   \n",
       "1024            0.0            0.0   ...     0.0    0.0     0.0   0.0     0.0   \n",
       "1041            0.0            0.0   ...     0.0    0.0     0.0   0.0     0.0   \n",
       "1045            0.0            0.0   ...     0.0    0.0     0.0   0.0     0.0   \n",
       "\n",
       "      grassy  path  conifer  wild  TARGET  \n",
       "10       1.0   0.0      0.0   1.0     0.0  \n",
       "1005     1.0   0.0      0.0   0.0     1.0  \n",
       "1024     0.0   0.0      0.0   0.0     0.0  \n",
       "1041     1.0   0.0      0.0   0.0     1.0  \n",
       "1045     0.0   0.0      0.0   0.0     1.0  \n",
       "\n",
       "[5 rows x 851 columns]"
      ]
     },
     "execution_count": 8,
     "metadata": {},
     "output_type": "execute_result"
    }
   ],
   "source": [
    "df = pd.DataFrame.from_dict(gidAttribDict).transpose()\n",
    "df = df[allAttribs+[\"TARGET\"]]\n",
    "df.head(5)"
   ]
  },
  {
   "cell_type": "code",
   "execution_count": 5,
   "metadata": {
    "collapsed": false
   },
   "outputs": [],
   "source": [
    "infoGains = [(col,FS.infoGain(df[col],df.TARGET)) for col in df.columns]\n"
   ]
  },
  {
   "cell_type": "code",
   "execution_count": 9,
   "metadata": {
    "collapsed": false
   },
   "outputs": [],
   "source": [
    "for col in df.columns:\n",
    "    infoGains.append((col,FS.infoGain(df[col],df.TARGET)))\n",
    "infoGains = sorted(infoGains,key = lambda x : x[1],reverse=True)\n",
    "infoGains = infoGains[2:]\n",
    "infoGains\n",
    "\n",
    "with open(\"../data/infoGainsExpt2.csv\",\"w\") as infGainFl:\n",
    "    csvWrite = csv.writer(infGainFl)\n",
    "    \n",
    "    for row in infoGains:\n",
    "        csvWrite.writerow(row)"
   ]
  },
  {
   "cell_type": "code",
   "execution_count": 10,
   "metadata": {
    "collapsed": false
   },
   "outputs": [
    {
     "data": {
      "text/plain": [
       "874"
      ]
     },
     "execution_count": 10,
     "metadata": {},
     "output_type": "execute_result"
    }
   ],
   "source": [
    "len(infoGains)"
   ]
  },
  {
   "cell_type": "code",
   "execution_count": null,
   "metadata": {
    "collapsed": true
   },
   "outputs": [],
   "source": []
  }
 ],
 "metadata": {
  "kernelspec": {
   "display_name": "Python 3",
   "language": "python",
   "name": "python3"
  },
  "language_info": {
   "codemirror_mode": {
    "name": "ipython",
    "version": 3
   },
   "file_extension": ".py",
   "mimetype": "text/x-python",
   "name": "python",
   "nbconvert_exporter": "python",
   "pygments_lexer": "ipython3",
   "version": "3.5.2"
  }
 },
 "nbformat": 4,
 "nbformat_minor": 0
}
