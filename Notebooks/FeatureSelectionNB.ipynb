{
 "cells": [
  {
   "cell_type": "markdown",
   "metadata": {},
   "source": [
    "### Contains code for performing feature selection using Information Gain\n",
    "#### Author: Sreejith Menon(smenon8@uic.edu)"
   ]
  },
  {
   "cell_type": "code",
   "execution_count": 1,
   "metadata": {
    "collapsed": false
   },
   "outputs": [],
   "source": [
    "import ClassiferHelperAPI as CH\n",
    "import pandas as pd\n",
    "import sys\n",
    "import FeatureSelectionAPI as FS\n",
    "import importlib\n",
    "importlib.reload(FS)\n",
    "from numpy import mean\n",
    "import csv"
   ]
  },
  {
   "cell_type": "code",
   "execution_count": 21,
   "metadata": {
    "collapsed": false
   },
   "outputs": [],
   "source": [
    "# Generating attributes, converting categorical attributes into discrete binary output.\n",
    "# For instance - SPECIES : Zebra will be converted into (Zebra: 1, Giraffe: 0 .. )\n",
    "hasSparse = False\n",
    "data= CH.getMasterData(\"../FinalResults/ImgShrRnkListWithTags.csv\")\n",
    "if hasSparse:   \n",
    "    ftrList = ['SPECIES','SEX','AGE','QUALITY','VIEW_POINT','INDIVIDUAL_NAME','CONTRIBUTOR','tags'] \n",
    "else:\n",
    "    ftrList = ['SPECIES','SEX','AGE','QUALITY','VIEW_POINT'] #,'tags']\n",
    "    \n",
    "allAttribs = CH.genAttribsHead(data,ftrList)"
   ]
  },
  {
   "cell_type": "code",
   "execution_count": 25,
   "metadata": {
    "collapsed": true
   },
   "outputs": [],
   "source": [
    "ftrList = ['INDIVIDUAL_NAME','CONTRIBUTOR','tags'] \n",
    "allAttribs = CH.genAttribsHead(data,ftrList)"
   ]
  },
  {
   "cell_type": "code",
   "execution_count": 26,
   "metadata": {
    "collapsed": false
   },
   "outputs": [],
   "source": [
    "gidAttribDict = CH.createDataFlDict(data,allAttribs,80,'Train') # binaryClf attribute in createDataFlDict will be True here"
   ]
  },
  {
   "cell_type": "code",
   "execution_count": 27,
   "metadata": {
    "collapsed": false,
    "scrolled": false
   },
   "outputs": [
    {
     "data": {
      "text/html": [
       "<div>\n",
       "<table border=\"1\" class=\"dataframe\">\n",
       "  <thead>\n",
       "    <tr style=\"text-align: right;\">\n",
       "      <th></th>\n",
       "      <th>IBEIS_PZ_0180</th>\n",
       "      <th>IBEIS_PZ_0468</th>\n",
       "      <th>IBEIS_PZ_0872</th>\n",
       "      <th>IBEIS_PZ_0260</th>\n",
       "      <th>IBEIS_PZ_0897</th>\n",
       "      <th>IBEIS_PZ_0570</th>\n",
       "      <th>IBEIS_PZ_1571</th>\n",
       "      <th>IBEIS_PZ_0105</th>\n",
       "      <th>IBEIS_PZ_0726</th>\n",
       "      <th>IBEIS_PZ_1392</th>\n",
       "      <th>...</th>\n",
       "      <th>tall</th>\n",
       "      <th>lone</th>\n",
       "      <th>mammal</th>\n",
       "      <th>group</th>\n",
       "      <th>running</th>\n",
       "      <th>grass</th>\n",
       "      <th>walking</th>\n",
       "      <th>way</th>\n",
       "      <th>tree</th>\n",
       "      <th>TARGET</th>\n",
       "    </tr>\n",
       "  </thead>\n",
       "  <tbody>\n",
       "    <tr>\n",
       "      <th>10</th>\n",
       "      <td>0.0</td>\n",
       "      <td>0.0</td>\n",
       "      <td>0.0</td>\n",
       "      <td>0.0</td>\n",
       "      <td>0.0</td>\n",
       "      <td>0.0</td>\n",
       "      <td>0.0</td>\n",
       "      <td>0.0</td>\n",
       "      <td>0.0</td>\n",
       "      <td>0.0</td>\n",
       "      <td>...</td>\n",
       "      <td>1.0</td>\n",
       "      <td>0.0</td>\n",
       "      <td>1.0</td>\n",
       "      <td>1.0</td>\n",
       "      <td>0.0</td>\n",
       "      <td>1.0</td>\n",
       "      <td>1.0</td>\n",
       "      <td>0.0</td>\n",
       "      <td>0.0</td>\n",
       "      <td>0.0</td>\n",
       "    </tr>\n",
       "    <tr>\n",
       "      <th>1005</th>\n",
       "      <td>0.0</td>\n",
       "      <td>0.0</td>\n",
       "      <td>0.0</td>\n",
       "      <td>0.0</td>\n",
       "      <td>0.0</td>\n",
       "      <td>0.0</td>\n",
       "      <td>0.0</td>\n",
       "      <td>0.0</td>\n",
       "      <td>0.0</td>\n",
       "      <td>0.0</td>\n",
       "      <td>...</td>\n",
       "      <td>1.0</td>\n",
       "      <td>0.0</td>\n",
       "      <td>1.0</td>\n",
       "      <td>0.0</td>\n",
       "      <td>0.0</td>\n",
       "      <td>1.0</td>\n",
       "      <td>0.0</td>\n",
       "      <td>0.0</td>\n",
       "      <td>0.0</td>\n",
       "      <td>1.0</td>\n",
       "    </tr>\n",
       "    <tr>\n",
       "      <th>1024</th>\n",
       "      <td>0.0</td>\n",
       "      <td>0.0</td>\n",
       "      <td>0.0</td>\n",
       "      <td>0.0</td>\n",
       "      <td>0.0</td>\n",
       "      <td>0.0</td>\n",
       "      <td>0.0</td>\n",
       "      <td>0.0</td>\n",
       "      <td>0.0</td>\n",
       "      <td>0.0</td>\n",
       "      <td>...</td>\n",
       "      <td>0.0</td>\n",
       "      <td>0.0</td>\n",
       "      <td>1.0</td>\n",
       "      <td>0.0</td>\n",
       "      <td>0.0</td>\n",
       "      <td>1.0</td>\n",
       "      <td>0.0</td>\n",
       "      <td>0.0</td>\n",
       "      <td>1.0</td>\n",
       "      <td>0.0</td>\n",
       "    </tr>\n",
       "    <tr>\n",
       "      <th>1041</th>\n",
       "      <td>0.0</td>\n",
       "      <td>0.0</td>\n",
       "      <td>0.0</td>\n",
       "      <td>0.0</td>\n",
       "      <td>0.0</td>\n",
       "      <td>0.0</td>\n",
       "      <td>0.0</td>\n",
       "      <td>0.0</td>\n",
       "      <td>0.0</td>\n",
       "      <td>0.0</td>\n",
       "      <td>...</td>\n",
       "      <td>0.0</td>\n",
       "      <td>0.0</td>\n",
       "      <td>1.0</td>\n",
       "      <td>0.0</td>\n",
       "      <td>0.0</td>\n",
       "      <td>1.0</td>\n",
       "      <td>0.0</td>\n",
       "      <td>0.0</td>\n",
       "      <td>1.0</td>\n",
       "      <td>1.0</td>\n",
       "    </tr>\n",
       "    <tr>\n",
       "      <th>1045</th>\n",
       "      <td>0.0</td>\n",
       "      <td>0.0</td>\n",
       "      <td>0.0</td>\n",
       "      <td>0.0</td>\n",
       "      <td>0.0</td>\n",
       "      <td>0.0</td>\n",
       "      <td>0.0</td>\n",
       "      <td>0.0</td>\n",
       "      <td>0.0</td>\n",
       "      <td>0.0</td>\n",
       "      <td>...</td>\n",
       "      <td>0.0</td>\n",
       "      <td>0.0</td>\n",
       "      <td>1.0</td>\n",
       "      <td>0.0</td>\n",
       "      <td>0.0</td>\n",
       "      <td>1.0</td>\n",
       "      <td>0.0</td>\n",
       "      <td>0.0</td>\n",
       "      <td>1.0</td>\n",
       "      <td>1.0</td>\n",
       "    </tr>\n",
       "  </tbody>\n",
       "</table>\n",
       "<p>5 rows × 851 columns</p>\n",
       "</div>"
      ],
      "text/plain": [
       "      IBEIS_PZ_0180  IBEIS_PZ_0468  IBEIS_PZ_0872  IBEIS_PZ_0260  \\\n",
       "10              0.0            0.0            0.0            0.0   \n",
       "1005            0.0            0.0            0.0            0.0   \n",
       "1024            0.0            0.0            0.0            0.0   \n",
       "1041            0.0            0.0            0.0            0.0   \n",
       "1045            0.0            0.0            0.0            0.0   \n",
       "\n",
       "      IBEIS_PZ_0897  IBEIS_PZ_0570  IBEIS_PZ_1571  IBEIS_PZ_0105  \\\n",
       "10              0.0            0.0            0.0            0.0   \n",
       "1005            0.0            0.0            0.0            0.0   \n",
       "1024            0.0            0.0            0.0            0.0   \n",
       "1041            0.0            0.0            0.0            0.0   \n",
       "1045            0.0            0.0            0.0            0.0   \n",
       "\n",
       "      IBEIS_PZ_0726  IBEIS_PZ_1392   ...    tall  lone  mammal  group  \\\n",
       "10              0.0            0.0   ...     1.0   0.0     1.0    1.0   \n",
       "1005            0.0            0.0   ...     1.0   0.0     1.0    0.0   \n",
       "1024            0.0            0.0   ...     0.0   0.0     1.0    0.0   \n",
       "1041            0.0            0.0   ...     0.0   0.0     1.0    0.0   \n",
       "1045            0.0            0.0   ...     0.0   0.0     1.0    0.0   \n",
       "\n",
       "      running  grass  walking  way  tree  TARGET  \n",
       "10        0.0    1.0      1.0  0.0   0.0     0.0  \n",
       "1005      0.0    1.0      0.0  0.0   0.0     1.0  \n",
       "1024      0.0    1.0      0.0  0.0   1.0     0.0  \n",
       "1041      0.0    1.0      0.0  0.0   1.0     1.0  \n",
       "1045      0.0    1.0      0.0  0.0   1.0     1.0  \n",
       "\n",
       "[5 rows x 851 columns]"
      ]
     },
     "execution_count": 27,
     "metadata": {},
     "output_type": "execute_result"
    }
   ],
   "source": [
    "df = pd.DataFrame.from_dict(gidAttribDict).transpose()\n",
    "df = df[allAttribs+[\"TARGET\"]]\n",
    "df.head(5)"
   ]
  },
  {
   "cell_type": "code",
   "execution_count": 24,
   "metadata": {
    "collapsed": false
   },
   "outputs": [],
   "source": [
    "infoGains = [(col,FS.infoGain(df[col],df.TARGET)) for col in df.columns]\n"
   ]
  },
  {
   "cell_type": "code",
   "execution_count": 28,
   "metadata": {
    "collapsed": false
   },
   "outputs": [],
   "source": [
    "for col in df.columns:\n",
    "    infoGains.append((col,FS.infoGain(df[col],df.TARGET)))\n",
    "infoGains = sorted(infoGains,key = lambda x : x[1],reverse=True)\n",
    "infoGains = infoGains[2:]\n",
    "infoGains\n",
    "\n",
    "with open(\"../data/infoGainsExpt2.csv\",\"w\") as infGainFl:\n",
    "    csvWrite = csv.writer(infGainFl)\n",
    "    \n",
    "    for row in infoGains:\n",
    "        csvWrite.writerow(row)"
   ]
  },
  {
   "cell_type": "code",
   "execution_count": 10,
   "metadata": {
    "collapsed": false
   },
   "outputs": [
    {
     "data": {
      "text/plain": [
       "874"
      ]
     },
     "execution_count": 10,
     "metadata": {},
     "output_type": "execute_result"
    }
   ],
   "source": [
    "len(infoGains)"
   ]
  },
  {
   "cell_type": "code",
   "execution_count": null,
   "metadata": {
    "collapsed": true
   },
   "outputs": [],
   "source": []
  }
 ],
 "metadata": {
  "kernelspec": {
   "display_name": "Python 3",
   "language": "python",
   "name": "python3"
  },
  "language_info": {
   "codemirror_mode": {
    "name": "ipython",
    "version": 3
   },
   "file_extension": ".py",
   "mimetype": "text/x-python",
   "name": "python",
   "nbconvert_exporter": "python",
   "pygments_lexer": "ipython3",
   "version": "3.5.2"
  }
 },
 "nbformat": 4,
 "nbformat_minor": 0
}
