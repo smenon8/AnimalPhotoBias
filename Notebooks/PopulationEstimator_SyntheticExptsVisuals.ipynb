{
 "cells": [
  {
   "cell_type": "code",
   "execution_count": 21,
   "metadata": {
    "collapsed": false
   },
   "outputs": [],
   "source": [
    "import cufflinks as cf # this is necessary to link pandas to plotly\n",
    "cf.go_online()\n",
    "import json\n",
    "import plotly.graph_objs as go\n",
    "import pandas as pd"
   ]
  },
  {
   "cell_type": "code",
   "execution_count": 2,
   "metadata": {
    "collapsed": true
   },
   "outputs": [],
   "source": [
    "clfTypes = ['bayesian','logistic','svm','dtree','random_forests','ada_boost']\n",
    "attribTypes = ['sparse','non_sparse','non_zero','abv_mean']\n",
    "flNms = [str(clf + \"_\" + attrib) for clf in clfTypes for attrib in attribTypes]\n",
    "\n",
    "df = pd.DataFrame.from_csv(str(\"../FinalResults/\"+flNms[0]+\"_kShares.csv\")).reset_index()\n",
    "df.columns = list(map(lambda x : str(x + \"_\" + flNms[0]) if x != 'num_images' else x,list(df.columns)))\n",
    "for i in range(1,len(flNms)):   \n",
    "    df1 = pd.DataFrame.from_csv(str(\"../FinalResults/\"+flNms[i]+\"_kShares.csv\")).reset_index()  \n",
    "    df1.columns = list(map(lambda x : str(x + \"_\" + flNms[i]) if x != 'num_images' else x,list(df1.columns)))\n",
    "    df = pd.DataFrame.merge(df,df1,on='num_images')\n",
    "    \n",
    "df.index = df['num_images']\n",
    "df.drop(['num_images'],1,inplace=True)"
   ]
  },
  {
   "cell_type": "code",
   "execution_count": 4,
   "metadata": {
    "collapsed": false
   },
   "outputs": [
    {
     "data": {
      "text/html": [
       "<div>\n",
       "<table border=\"1\" class=\"dataframe\">\n",
       "  <thead>\n",
       "    <tr style=\"text-align: right;\">\n",
       "      <th></th>\n",
       "      <th>all_bayesian_sparse</th>\n",
       "      <th>giraffes_bayesian_sparse</th>\n",
       "      <th>zebras_bayesian_sparse</th>\n",
       "      <th>all_bayesian_non_sparse</th>\n",
       "      <th>giraffes_bayesian_non_sparse</th>\n",
       "      <th>zebras_bayesian_non_sparse</th>\n",
       "      <th>all_bayesian_non_zero</th>\n",
       "      <th>giraffes_bayesian_non_zero</th>\n",
       "      <th>zebras_bayesian_non_zero</th>\n",
       "      <th>all_bayesian_abv_mean</th>\n",
       "      <th>...</th>\n",
       "      <th>zebras_ada_boost_sparse</th>\n",
       "      <th>all_ada_boost_non_sparse</th>\n",
       "      <th>giraffes_ada_boost_non_sparse</th>\n",
       "      <th>zebras_ada_boost_non_sparse</th>\n",
       "      <th>all_ada_boost_non_zero</th>\n",
       "      <th>giraffes_ada_boost_non_zero</th>\n",
       "      <th>zebras_ada_boost_non_zero</th>\n",
       "      <th>all_ada_boost_abv_mean</th>\n",
       "      <th>giraffes_ada_boost_abv_mean</th>\n",
       "      <th>zebras_ada_boost_abv_mean</th>\n",
       "    </tr>\n",
       "    <tr>\n",
       "      <th>num_images</th>\n",
       "      <th></th>\n",
       "      <th></th>\n",
       "      <th></th>\n",
       "      <th></th>\n",
       "      <th></th>\n",
       "      <th></th>\n",
       "      <th></th>\n",
       "      <th></th>\n",
       "      <th></th>\n",
       "      <th></th>\n",
       "      <th></th>\n",
       "      <th></th>\n",
       "      <th></th>\n",
       "      <th></th>\n",
       "      <th></th>\n",
       "      <th></th>\n",
       "      <th></th>\n",
       "      <th></th>\n",
       "      <th></th>\n",
       "      <th></th>\n",
       "      <th></th>\n",
       "    </tr>\n",
       "  </thead>\n",
       "  <tbody>\n",
       "    <tr>\n",
       "      <th>59</th>\n",
       "      <td>3315.000000</td>\n",
       "      <td>178.2</td>\n",
       "      <td>3377.333333</td>\n",
       "      <td>4234.781250</td>\n",
       "      <td>136.8</td>\n",
       "      <td>4360.000000</td>\n",
       "      <td>2747.467742</td>\n",
       "      <td>114.000000</td>\n",
       "      <td>2689.910714</td>\n",
       "      <td>3609.111111</td>\n",
       "      <td>...</td>\n",
       "      <td>3718.677966</td>\n",
       "      <td>3342.103448</td>\n",
       "      <td>141.375</td>\n",
       "      <td>3320.100000</td>\n",
       "      <td>2933.544304</td>\n",
       "      <td>82.6</td>\n",
       "      <td>2886.689189</td>\n",
       "      <td>3002.321429</td>\n",
       "      <td>142.285714</td>\n",
       "      <td>2954.265306</td>\n",
       "    </tr>\n",
       "    <tr>\n",
       "      <th>60</th>\n",
       "      <td>3241.037037</td>\n",
       "      <td>178.2</td>\n",
       "      <td>3278.181818</td>\n",
       "      <td>4309.437500</td>\n",
       "      <td>136.8</td>\n",
       "      <td>4442.148148</td>\n",
       "      <td>2737.777778</td>\n",
       "      <td>114.000000</td>\n",
       "      <td>2677.684211</td>\n",
       "      <td>3658.777778</td>\n",
       "      <td>...</td>\n",
       "      <td>3748.203390</td>\n",
       "      <td>3410.862069</td>\n",
       "      <td>144.625</td>\n",
       "      <td>3382.540000</td>\n",
       "      <td>2929.500000</td>\n",
       "      <td>84.0</td>\n",
       "      <td>2877.866667</td>\n",
       "      <td>3053.964286</td>\n",
       "      <td>154.142857</td>\n",
       "      <td>2994.775510</td>\n",
       "    </tr>\n",
       "    <tr>\n",
       "      <th>61</th>\n",
       "      <td>3078.133333</td>\n",
       "      <td>178.2</td>\n",
       "      <td>3060.000000</td>\n",
       "      <td>4395.312500</td>\n",
       "      <td>136.8</td>\n",
       "      <td>4535.925926</td>\n",
       "      <td>2740.593750</td>\n",
       "      <td>115.500000</td>\n",
       "      <td>2675.448276</td>\n",
       "      <td>3708.444444</td>\n",
       "      <td>...</td>\n",
       "      <td>3675.918033</td>\n",
       "      <td>3408.745763</td>\n",
       "      <td>147.875</td>\n",
       "      <td>3364.901961</td>\n",
       "      <td>2964.000000</td>\n",
       "      <td>84.0</td>\n",
       "      <td>2913.120000</td>\n",
       "      <td>3019.706897</td>\n",
       "      <td>156.000000</td>\n",
       "      <td>2947.058824</td>\n",
       "    </tr>\n",
       "    <tr>\n",
       "      <th>62</th>\n",
       "      <td>2962.437500</td>\n",
       "      <td>180.4</td>\n",
       "      <td>2910.814815</td>\n",
       "      <td>4313.636364</td>\n",
       "      <td>136.8</td>\n",
       "      <td>4430.785714</td>\n",
       "      <td>2742.830769</td>\n",
       "      <td>128.333333</td>\n",
       "      <td>2664.406780</td>\n",
       "      <td>3667.142857</td>\n",
       "      <td>...</td>\n",
       "      <td>3618.476190</td>\n",
       "      <td>3439.830508</td>\n",
       "      <td>149.500</td>\n",
       "      <td>3393.215686</td>\n",
       "      <td>2910.903614</td>\n",
       "      <td>86.8</td>\n",
       "      <td>2848.346154</td>\n",
       "      <td>3026.440678</td>\n",
       "      <td>156.000000</td>\n",
       "      <td>2950.846154</td>\n",
       "    </tr>\n",
       "    <tr>\n",
       "      <th>63</th>\n",
       "      <td>2977.696970</td>\n",
       "      <td>182.6</td>\n",
       "      <td>2914.750000</td>\n",
       "      <td>4291.941176</td>\n",
       "      <td>136.8</td>\n",
       "      <td>4392.620690</td>\n",
       "      <td>2784.169231</td>\n",
       "      <td>131.666667</td>\n",
       "      <td>2698.915254</td>\n",
       "      <td>3690.206897</td>\n",
       "      <td>...</td>\n",
       "      <td>3593.846154</td>\n",
       "      <td>3448.650000</td>\n",
       "      <td>149.500</td>\n",
       "      <td>3399.134615</td>\n",
       "      <td>2937.469880</td>\n",
       "      <td>86.8</td>\n",
       "      <td>2876.076923</td>\n",
       "      <td>3004.466667</td>\n",
       "      <td>157.857143</td>\n",
       "      <td>2920.830189</td>\n",
       "    </tr>\n",
       "  </tbody>\n",
       "</table>\n",
       "<p>5 rows × 72 columns</p>\n",
       "</div>"
      ],
      "text/plain": [
       "            all_bayesian_sparse  giraffes_bayesian_sparse  \\\n",
       "num_images                                                  \n",
       "59                  3315.000000                     178.2   \n",
       "60                  3241.037037                     178.2   \n",
       "61                  3078.133333                     178.2   \n",
       "62                  2962.437500                     180.4   \n",
       "63                  2977.696970                     182.6   \n",
       "\n",
       "            zebras_bayesian_sparse  all_bayesian_non_sparse  \\\n",
       "num_images                                                    \n",
       "59                     3377.333333              4234.781250   \n",
       "60                     3278.181818              4309.437500   \n",
       "61                     3060.000000              4395.312500   \n",
       "62                     2910.814815              4313.636364   \n",
       "63                     2914.750000              4291.941176   \n",
       "\n",
       "            giraffes_bayesian_non_sparse  zebras_bayesian_non_sparse  \\\n",
       "num_images                                                             \n",
       "59                                 136.8                 4360.000000   \n",
       "60                                 136.8                 4442.148148   \n",
       "61                                 136.8                 4535.925926   \n",
       "62                                 136.8                 4430.785714   \n",
       "63                                 136.8                 4392.620690   \n",
       "\n",
       "            all_bayesian_non_zero  giraffes_bayesian_non_zero  \\\n",
       "num_images                                                      \n",
       "59                    2747.467742                  114.000000   \n",
       "60                    2737.777778                  114.000000   \n",
       "61                    2740.593750                  115.500000   \n",
       "62                    2742.830769                  128.333333   \n",
       "63                    2784.169231                  131.666667   \n",
       "\n",
       "            zebras_bayesian_non_zero  all_bayesian_abv_mean  \\\n",
       "num_images                                                    \n",
       "59                       2689.910714            3609.111111   \n",
       "60                       2677.684211            3658.777778   \n",
       "61                       2675.448276            3708.444444   \n",
       "62                       2664.406780            3667.142857   \n",
       "63                       2698.915254            3690.206897   \n",
       "\n",
       "                      ...              zebras_ada_boost_sparse  \\\n",
       "num_images            ...                                        \n",
       "59                    ...                          3718.677966   \n",
       "60                    ...                          3748.203390   \n",
       "61                    ...                          3675.918033   \n",
       "62                    ...                          3618.476190   \n",
       "63                    ...                          3593.846154   \n",
       "\n",
       "            all_ada_boost_non_sparse  giraffes_ada_boost_non_sparse  \\\n",
       "num_images                                                            \n",
       "59                       3342.103448                        141.375   \n",
       "60                       3410.862069                        144.625   \n",
       "61                       3408.745763                        147.875   \n",
       "62                       3439.830508                        149.500   \n",
       "63                       3448.650000                        149.500   \n",
       "\n",
       "            zebras_ada_boost_non_sparse  all_ada_boost_non_zero  \\\n",
       "num_images                                                        \n",
       "59                          3320.100000             2933.544304   \n",
       "60                          3382.540000             2929.500000   \n",
       "61                          3364.901961             2964.000000   \n",
       "62                          3393.215686             2910.903614   \n",
       "63                          3399.134615             2937.469880   \n",
       "\n",
       "            giraffes_ada_boost_non_zero  zebras_ada_boost_non_zero  \\\n",
       "num_images                                                           \n",
       "59                                 82.6                2886.689189   \n",
       "60                                 84.0                2877.866667   \n",
       "61                                 84.0                2913.120000   \n",
       "62                                 86.8                2848.346154   \n",
       "63                                 86.8                2876.076923   \n",
       "\n",
       "            all_ada_boost_abv_mean  giraffes_ada_boost_abv_mean  \\\n",
       "num_images                                                        \n",
       "59                     3002.321429                   142.285714   \n",
       "60                     3053.964286                   154.142857   \n",
       "61                     3019.706897                   156.000000   \n",
       "62                     3026.440678                   156.000000   \n",
       "63                     3004.466667                   157.857143   \n",
       "\n",
       "            zebras_ada_boost_abv_mean  \n",
       "num_images                             \n",
       "59                        2954.265306  \n",
       "60                        2994.775510  \n",
       "61                        2947.058824  \n",
       "62                        2950.846154  \n",
       "63                        2920.830189  \n",
       "\n",
       "[5 rows x 72 columns]"
      ]
     },
     "execution_count": 4,
     "metadata": {},
     "output_type": "execute_result"
    }
   ],
   "source": [
    "df.head()"
   ]
  },
  {
   "cell_type": "code",
   "execution_count": 19,
   "metadata": {
    "collapsed": true
   },
   "outputs": [],
   "source": [
    "df.to_csv(\"../FinalResults/MasterEstimation_KShare.csv\")\n",
    "figs=[]"
   ]
  },
  {
   "cell_type": "code",
   "execution_count": 22,
   "metadata": {
    "collapsed": false
   },
   "outputs": [
    {
     "name": "stdout",
     "output_type": "stream",
     "text": [
      "High five! You successfuly sent some data to your account on plotly. View your plot in your browser at https://plot.ly/~sreejith_1729/0 or inside your plot.ly account where it is named 'All Bayesian Classifiers'\n"
     ]
    }
   ],
   "source": [
    "bayes = [col for col in df.columns if 'bayesian' in col]\n",
    "bayesDf = df[bayes]\n",
    "figs.append(bayesDf.iplot(kind='line',title=\"All Bayesian Classifiers\"))"
   ]
  },
  {
   "cell_type": "code",
   "execution_count": 23,
   "metadata": {
    "collapsed": false
   },
   "outputs": [],
   "source": [
    "logistics = [col for col in df.columns if 'logistic' in col]\n",
    "logisticsDf = df[logistics]\n",
    "figs.append(logisticsDf.iplot(kind='line',title=\"All Logistic Classifiers\"))"
   ]
  },
  {
   "cell_type": "code",
   "execution_count": 24,
   "metadata": {
    "collapsed": false
   },
   "outputs": [],
   "source": [
    "svms = [col for col in df.columns if 'svm' in col]\n",
    "svmsDf = df[svms]\n",
    "figs.append(svmsDf.iplot(kind='line',title=\"All SVM Classifiers\"))"
   ]
  },
  {
   "cell_type": "code",
   "execution_count": 25,
   "metadata": {
    "collapsed": false
   },
   "outputs": [],
   "source": [
    "dtrees = [col for col in df.columns if 'dtree' in col]\n",
    "dtreesDf = df[svms]\n",
    "figs.append(dtreesDf.iplot(kind='line',title=\"All Decision Tree Classifiers\"))"
   ]
  },
  {
   "cell_type": "code",
   "execution_count": 26,
   "metadata": {
    "collapsed": false
   },
   "outputs": [],
   "source": [
    "rfs = [col for col in df.columns if 'random_forests' in col]\n",
    "rfsDf = df[rfs]\n",
    "figs.append(rfsDf.iplot(kind='line',title=\"All Random Forest Classifiers\"))"
   ]
  },
  {
   "cell_type": "code",
   "execution_count": 27,
   "metadata": {
    "collapsed": false
   },
   "outputs": [],
   "source": [
    "adbs = [col for col in df.columns if 'ada_boost' in col]\n",
    "adbsDf = df[adbs]\n",
    "figs.append(adbsDf.iplot(kind='line',title=\"All Ada-Boost Classifiers\"))"
   ]
  },
  {
   "cell_type": "code",
   "execution_count": 28,
   "metadata": {
    "collapsed": false
   },
   "outputs": [],
   "source": [
    "sparses = [col for col in df.columns if 'sparse' in col and 'non_sparse' not in col]\n",
    "sparsesDf = df[sparses]\n",
    "figs.append(sparsesDf.iplot(kind='line',title=\"All Sparse Classifiers\"))"
   ]
  },
  {
   "cell_type": "code",
   "execution_count": 29,
   "metadata": {
    "collapsed": false
   },
   "outputs": [],
   "source": [
    "nsparses = [col for col in df.columns if 'non_sparse' in col ]\n",
    "nsparsesDf = df[nsparses]\n",
    "figs.append(nsparsesDf.iplot(kind='line',title=\"All Non-Sparse Classifiers\"))"
   ]
  },
  {
   "cell_type": "code",
   "execution_count": 30,
   "metadata": {
    "collapsed": false
   },
   "outputs": [],
   "source": [
    "nzsparses = [col for col in df.columns if 'non_zero' in col ]\n",
    "nzsparsesDf = df[nzsparses]\n",
    "figs.append(nzsparsesDf.iplot(kind='line',title=\"All Non-Zero IG Classifiers\"))"
   ]
  },
  {
   "cell_type": "code",
   "execution_count": 31,
   "metadata": {
    "collapsed": false
   },
   "outputs": [],
   "source": [
    "abvs = [col for col in df.columns if 'abv_mean' in col ]\n",
    "abvsDf = df[abvs]\n",
    "figs.append(abvsDf.iplot(kind='line',title=\"All Abv-Avg IG Classifiers\"))"
   ]
  },
  {
   "cell_type": "code",
   "execution_count": 33,
   "metadata": {
    "collapsed": false
   },
   "outputs": [
    {
     "name": "stdout",
     "output_type": "stream",
     "text": [
      "<iframe id=\"igraph\" scrolling=\"no\" style=\"border:none;\" seamless=\"seamless\" src=\"https://plot.ly/~sreejith_1729/0.embed\" height=\"525px\" width=\"100%\"></iframe>\n",
      "<iframe id=\"igraph\" scrolling=\"no\" style=\"border:none;\" seamless=\"seamless\" src=\"https://plot.ly/~sreejith_1729/2.embed\" height=\"525px\" width=\"100%\"></iframe>\n",
      "<iframe id=\"igraph\" scrolling=\"no\" style=\"border:none;\" seamless=\"seamless\" src=\"https://plot.ly/~sreejith_1729/4.embed\" height=\"525px\" width=\"100%\"></iframe>\n",
      "<iframe id=\"igraph\" scrolling=\"no\" style=\"border:none;\" seamless=\"seamless\" src=\"https://plot.ly/~sreejith_1729/6.embed\" height=\"525px\" width=\"100%\"></iframe>\n",
      "<iframe id=\"igraph\" scrolling=\"no\" style=\"border:none;\" seamless=\"seamless\" src=\"https://plot.ly/~sreejith_1729/8.embed\" height=\"525px\" width=\"100%\"></iframe>\n",
      "<iframe id=\"igraph\" scrolling=\"no\" style=\"border:none;\" seamless=\"seamless\" src=\"https://plot.ly/~sreejith_1729/10.embed\" height=\"525px\" width=\"100%\"></iframe>\n",
      "<iframe id=\"igraph\" scrolling=\"no\" style=\"border:none;\" seamless=\"seamless\" src=\"https://plot.ly/~sreejith_1729/12.embed\" height=\"525px\" width=\"100%\"></iframe>\n",
      "<iframe id=\"igraph\" scrolling=\"no\" style=\"border:none;\" seamless=\"seamless\" src=\"https://plot.ly/~sreejith_1729/14.embed\" height=\"525px\" width=\"100%\"></iframe>\n",
      "<iframe id=\"igraph\" scrolling=\"no\" style=\"border:none;\" seamless=\"seamless\" src=\"https://plot.ly/~sreejith_1729/16.embed\" height=\"525px\" width=\"100%\"></iframe>\n",
      "<iframe id=\"igraph\" scrolling=\"no\" style=\"border:none;\" seamless=\"seamless\" src=\"https://plot.ly/~sreejith_1729/18.embed\" height=\"525px\" width=\"100%\"></iframe>\n"
     ]
    }
   ],
   "source": []
  },
  {
   "cell_type": "code",
   "execution_count": null,
   "metadata": {
    "collapsed": true
   },
   "outputs": [],
   "source": []
  }
 ],
 "metadata": {
  "kernelspec": {
   "display_name": "Python 3",
   "language": "python",
   "name": "python3"
  },
  "language_info": {
   "codemirror_mode": {
    "name": "ipython",
    "version": 3
   },
   "file_extension": ".py",
   "mimetype": "text/x-python",
   "name": "python",
   "nbconvert_exporter": "python",
   "pygments_lexer": "ipython3",
   "version": "3.5.2"
  }
 },
 "nbformat": 4,
 "nbformat_minor": 0
}
