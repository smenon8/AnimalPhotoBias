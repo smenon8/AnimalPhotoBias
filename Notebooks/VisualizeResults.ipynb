{
 "cells": [
  {
   "cell_type": "code",
   "execution_count": 50,
   "metadata": {
    "collapsed": false
   },
   "outputs": [
    {
     "data": {
      "text/plain": [
       "<module 'GetPropertiesAPI' from '/Users/sreejithmenon/Google Drive/Project/AnimalPhotoBias/script/GetPropertiesAPI.py'>"
      ]
     },
     "execution_count": 50,
     "metadata": {},
     "output_type": "execute_result"
    }
   ],
   "source": [
    "import csv\n",
    "import htmltag as HT\n",
    "import DeriveFinalResultSet as drs\n",
    "import JobsMapResultsFilesToContainerObjs as ImageMap\n",
    "import pandas as pd\n",
    "import matplotlib.pyplot as plt\n",
    "import importlib\n",
    "import statistics as s\n",
    "importlib.reload(drs)\n",
    "importlib.reload(ImageMap)\n",
    "pd.set_option('display.max_colwidth', -1)\n",
    "from collections import Counter\n",
    "import plotly.plotly as py\n",
    "import cufflinks as cf\n",
    "import GetPropertiesAPI as GP\n",
    "importlib.reload(GP)"
   ]
  },
  {
   "cell_type": "code",
   "execution_count": 2,
   "metadata": {
    "collapsed": true
   },
   "outputs": [],
   "source": [
    "def genHTMLTableFiles(shrCntsObj):\n",
    "    shrPropDict = drs.getShrProp(shrCntsObj)\n",
    "    \n",
    "    df = pd.DataFrame(shrPropDict,index = ['Share Proportion']).transpose()\n",
    "    \n",
    "    return df,df.to_html(bold_rows = False)"
   ]
  },
  {
   "cell_type": "code",
   "execution_count": 11,
   "metadata": {
    "collapsed": false
   },
   "outputs": [],
   "source": [
    "# Generate rank list of all images by share proportion\n",
    "rnkFlLst = []\n",
    "with open(\"../FinalResults/rankListImages_expt2.csv\",\"r\") as rnkFl:\n",
    "    rnkFlCsv = csv.reader(rnkFl)\n",
    "    header = rnkFlCsv.__next__()\n",
    "    for row in rnkFlCsv:\n",
    "        rnkFlLst.append(row)\n",
    "        \n",
    "thTgs = []\n",
    "trTgs = []\n",
    "\n",
    "trTgs.append(HT.tr(HT.th(\"GID\"),HT.th(\"Share count\"),HT.th(\"Not Share count\"),\n",
    "                  HT.th(\"Total Count\"),HT.th(\"Share Proportion\"),HT.th(\"Image\")))\n",
    "\n",
    "for tup in rnkFlLst:\n",
    "    tdGid = HT.td(tup[0])\n",
    "    tdShare = HT.td(tup[1])\n",
    "    tdNotShare = HT.td(tup[2])\n",
    "    tdTot = HT.td(tup[3])\n",
    "    tdProp = HT.td(tup[4])\n",
    "    url = \"https://socialmediabias.blob.core.windows.net/wildlifephotos/All_Zebra_Count_Images/\" + tup[0] + \".jpeg\"\n",
    "    tdImg = HT.td(HT.img(src = url,alt = \"Unavailable\",width = \"300\"))\n",
    "    trTgs.append(HT.tr(tdGid,tdShare,tdNotShare,tdTot,tdProp,tdImg))\n",
    "    \n",
    "fullFile = HT.html(HT.body(HT.table(HT.HTML('  \\n'.join(trTgs)),border=\"1\")))\n",
    "\n",
    "outputFile = open(\"../data/resultsExpt2RankList1.html\",\"w\")\n",
    "outputFile.write(fullFile)\n",
    "outputFile.close()"
   ]
  },
  {
   "cell_type": "code",
   "execution_count": 8,
   "metadata": {
    "collapsed": false
   },
   "outputs": [
    {
     "ename": "KeyboardInterrupt",
     "evalue": "",
     "output_type": "error",
     "traceback": [
      "\u001b[0;31m---------------------------------------------------------------------------\u001b[0m",
      "\u001b[0;31mTypeError\u001b[0m                                 Traceback (most recent call last)",
      "\u001b[0;32m/Users/sreejithmenon/anaconda/lib/python3.5/site-packages/requests/packages/urllib3/connectionpool.py\u001b[0m in \u001b[0;36m_make_request\u001b[0;34m(self, conn, method, url, timeout, chunked, **httplib_request_kw)\u001b[0m\n\u001b[1;32m    384\u001b[0m             \u001b[0;32mtry\u001b[0m\u001b[0;34m:\u001b[0m  \u001b[0;31m# Python 2.7, use buffering of HTTP responses\u001b[0m\u001b[0;34m\u001b[0m\u001b[0m\n\u001b[0;32m--> 385\u001b[0;31m                 \u001b[0mhttplib_response\u001b[0m \u001b[0;34m=\u001b[0m \u001b[0mconn\u001b[0m\u001b[0;34m.\u001b[0m\u001b[0mgetresponse\u001b[0m\u001b[0;34m(\u001b[0m\u001b[0mbuffering\u001b[0m\u001b[0;34m=\u001b[0m\u001b[0;32mTrue\u001b[0m\u001b[0;34m)\u001b[0m\u001b[0;34m\u001b[0m\u001b[0m\n\u001b[0m\u001b[1;32m    386\u001b[0m             \u001b[0;32mexcept\u001b[0m \u001b[0mTypeError\u001b[0m\u001b[0;34m:\u001b[0m  \u001b[0;31m# Python 2.6 and older\u001b[0m\u001b[0;34m\u001b[0m\u001b[0m\n",
      "\u001b[0;31mTypeError\u001b[0m: getresponse() got an unexpected keyword argument 'buffering'",
      "\nDuring handling of the above exception, another exception occurred:\n",
      "\u001b[0;31mKeyboardInterrupt\u001b[0m                         Traceback (most recent call last)",
      "\u001b[0;32m<ipython-input-8-91985f9d22ac>\u001b[0m in \u001b[0;36m<module>\u001b[0;34m()\u001b[0m\n\u001b[1;32m     29\u001b[0m \u001b[0mdf7\u001b[0m\u001b[0;34m,\u001b[0m\u001b[0mtb7\u001b[0m \u001b[0;34m=\u001b[0m \u001b[0mgenHTMLTableFiles\u001b[0m\u001b[0;34m(\u001b[0m\u001b[0md\u001b[0m\u001b[0;34m)\u001b[0m\u001b[0;34m\u001b[0m\u001b[0m\n\u001b[1;32m     30\u001b[0m \u001b[0;34m\u001b[0m\u001b[0m\n\u001b[0;32m---> 31\u001b[0;31m \u001b[0md\u001b[0m \u001b[0;34m=\u001b[0m \u001b[0mdrs\u001b[0m\u001b[0;34m.\u001b[0m\u001b[0movrallShrCntsByTwoFtrs\u001b[0m\u001b[0;34m(\u001b[0m\u001b[0mdrs\u001b[0m\u001b[0;34m.\u001b[0m\u001b[0mgidAidMapFl\u001b[0m\u001b[0;34m,\u001b[0m\u001b[0mdrs\u001b[0m\u001b[0;34m.\u001b[0m\u001b[0maidFeatureMapFl\u001b[0m\u001b[0;34m,\u001b[0m\u001b[0;34m\"VIEW_POINT\"\u001b[0m\u001b[0;34m,\u001b[0m\u001b[0;34m\"SEX\"\u001b[0m\u001b[0;34m,\u001b[0m\u001b[0mdrs\u001b[0m\u001b[0;34m.\u001b[0m\u001b[0mimgJobMap\u001b[0m\u001b[0;34m,\u001b[0m\u001b[0;36m1\u001b[0m\u001b[0;34m,\u001b[0m\u001b[0;36m100\u001b[0m\u001b[0;34m)\u001b[0m\u001b[0;34m\u001b[0m\u001b[0m\n\u001b[0m\u001b[1;32m     32\u001b[0m \u001b[0mh3_8\u001b[0m \u001b[0;34m=\u001b[0m \u001b[0mHT\u001b[0m\u001b[0;34m.\u001b[0m\u001b[0mh3\u001b[0m\u001b[0;34m(\u001b[0m\u001b[0;34m\"Data-Frame by VIEW_POINT-SEX\"\u001b[0m\u001b[0;34m)\u001b[0m\u001b[0;34m\u001b[0m\u001b[0m\n\u001b[1;32m     33\u001b[0m \u001b[0mdf8\u001b[0m\u001b[0;34m,\u001b[0m\u001b[0mtb8\u001b[0m \u001b[0;34m=\u001b[0m \u001b[0mgenHTMLTableFiles\u001b[0m\u001b[0;34m(\u001b[0m\u001b[0md\u001b[0m\u001b[0;34m)\u001b[0m\u001b[0;34m\u001b[0m\u001b[0m\n",
      "\u001b[0;32m/Users/sreejithmenon/Google Drive/Project/AnimalPhotoBias/script/DeriveFinalResultSet.py\u001b[0m in \u001b[0;36movrallShrCntsByTwoFtrs\u001b[0;34m(gidAidMapFl, aidFeatureMapFl, ftr1, ftr2, imgJobMap, resSetStrt, resSetEnd)\u001b[0m\n\u001b[1;32m    277\u001b[0m         \u001b[0maidList\u001b[0m \u001b[0;34m=\u001b[0m \u001b[0mGP\u001b[0m\u001b[0;34m.\u001b[0m\u001b[0mgetAnnotID\u001b[0m\u001b[0;34m(\u001b[0m\u001b[0mtup\u001b[0m\u001b[0;34m[\u001b[0m\u001b[0;36m0\u001b[0m\u001b[0;34m]\u001b[0m\u001b[0;34m)\u001b[0m\u001b[0;34m\u001b[0m\u001b[0m\n\u001b[1;32m    278\u001b[0m         \u001b[0;32mfor\u001b[0m \u001b[0maid\u001b[0m \u001b[0;32min\u001b[0m \u001b[0maidList\u001b[0m\u001b[0;34m:\u001b[0m\u001b[0;34m\u001b[0m\u001b[0m\n\u001b[0;32m--> 279\u001b[0;31m             \u001b[0mfeature1\u001b[0m \u001b[0;34m=\u001b[0m \u001b[0mGP\u001b[0m\u001b[0;34m.\u001b[0m\u001b[0mgetImageFeature\u001b[0m\u001b[0;34m(\u001b[0m\u001b[0maid\u001b[0m\u001b[0;34m,\u001b[0m\u001b[0mGP\u001b[0m\u001b[0;34m.\u001b[0m\u001b[0mftrNms\u001b[0m\u001b[0;34m[\u001b[0m\u001b[0mftr1\u001b[0m\u001b[0;34m]\u001b[0m\u001b[0;34m)\u001b[0m\u001b[0;34m\u001b[0m\u001b[0m\n\u001b[0m\u001b[1;32m    280\u001b[0m             \u001b[0mfeature2\u001b[0m \u001b[0;34m=\u001b[0m \u001b[0mGP\u001b[0m\u001b[0;34m.\u001b[0m\u001b[0mgetImageFeature\u001b[0m\u001b[0;34m(\u001b[0m\u001b[0maid\u001b[0m\u001b[0;34m,\u001b[0m\u001b[0mGP\u001b[0m\u001b[0;34m.\u001b[0m\u001b[0mftrNms\u001b[0m\u001b[0;34m[\u001b[0m\u001b[0mftr2\u001b[0m\u001b[0;34m]\u001b[0m\u001b[0;34m)\u001b[0m\u001b[0;34m\u001b[0m\u001b[0m\n\u001b[1;32m    281\u001b[0m \u001b[0;34m\u001b[0m\u001b[0m\n",
      "\u001b[0;32m/Users/sreejithmenon/Google Drive/Project/AnimalPhotoBias/script/GetPropertiesAPI.py\u001b[0m in \u001b[0;36mgetImageFeature\u001b[0;34m(aidList, feature)\u001b[0m\n\u001b[1;32m     34\u001b[0m \u001b[0;31m# Returns : Returns the feature\u001b[0m\u001b[0;34m\u001b[0m\u001b[0;34m\u001b[0m\u001b[0m\n\u001b[1;32m     35\u001b[0m \u001b[0;32mdef\u001b[0m \u001b[0mgetImageFeature\u001b[0m\u001b[0;34m(\u001b[0m\u001b[0maidList\u001b[0m\u001b[0;34m,\u001b[0m\u001b[0mfeature\u001b[0m\u001b[0;34m)\u001b[0m\u001b[0;34m:\u001b[0m\u001b[0;34m\u001b[0m\u001b[0m\n\u001b[0;32m---> 36\u001b[0;31m     \u001b[0mresponse\u001b[0m \u001b[0;34m=\u001b[0m \u001b[0mrequests\u001b[0m\u001b[0;34m.\u001b[0m\u001b[0mget\u001b[0m\u001b[0;34m(\u001b[0m\u001b[0mbaseurl\u001b[0m \u001b[0;34m+\u001b[0m \u001b[0;34m'/api/annot/'\u001b[0m \u001b[0;34m+\u001b[0m \u001b[0mfeature\u001b[0m \u001b[0;34m+\u001b[0m \u001b[0;34m'/?aid_list='\u001b[0m \u001b[0;34m+\u001b[0m \u001b[0mstr\u001b[0m\u001b[0;34m(\u001b[0m\u001b[0maidList\u001b[0m\u001b[0;34m)\u001b[0m\u001b[0;34m)\u001b[0m\u001b[0;34m\u001b[0m\u001b[0m\n\u001b[0m\u001b[1;32m     37\u001b[0m     \u001b[0mjsonObj\u001b[0m \u001b[0;34m=\u001b[0m \u001b[0mresponse\u001b[0m\u001b[0;34m.\u001b[0m\u001b[0mjson\u001b[0m\u001b[0;34m(\u001b[0m\u001b[0;34m)\u001b[0m\u001b[0;34m\u001b[0m\u001b[0m\n\u001b[1;32m     38\u001b[0m \u001b[0;34m\u001b[0m\u001b[0m\n",
      "\u001b[0;32m/Users/sreejithmenon/anaconda/lib/python3.5/site-packages/requests/api.py\u001b[0m in \u001b[0;36mget\u001b[0;34m(url, params, **kwargs)\u001b[0m\n\u001b[1;32m     69\u001b[0m \u001b[0;34m\u001b[0m\u001b[0m\n\u001b[1;32m     70\u001b[0m     \u001b[0mkwargs\u001b[0m\u001b[0;34m.\u001b[0m\u001b[0msetdefault\u001b[0m\u001b[0;34m(\u001b[0m\u001b[0;34m'allow_redirects'\u001b[0m\u001b[0;34m,\u001b[0m \u001b[0;32mTrue\u001b[0m\u001b[0;34m)\u001b[0m\u001b[0;34m\u001b[0m\u001b[0m\n\u001b[0;32m---> 71\u001b[0;31m     \u001b[0;32mreturn\u001b[0m \u001b[0mrequest\u001b[0m\u001b[0;34m(\u001b[0m\u001b[0;34m'get'\u001b[0m\u001b[0;34m,\u001b[0m \u001b[0murl\u001b[0m\u001b[0;34m,\u001b[0m \u001b[0mparams\u001b[0m\u001b[0;34m=\u001b[0m\u001b[0mparams\u001b[0m\u001b[0;34m,\u001b[0m \u001b[0;34m**\u001b[0m\u001b[0mkwargs\u001b[0m\u001b[0;34m)\u001b[0m\u001b[0;34m\u001b[0m\u001b[0m\n\u001b[0m\u001b[1;32m     72\u001b[0m \u001b[0;34m\u001b[0m\u001b[0m\n\u001b[1;32m     73\u001b[0m \u001b[0;34m\u001b[0m\u001b[0m\n",
      "\u001b[0;32m/Users/sreejithmenon/anaconda/lib/python3.5/site-packages/requests/api.py\u001b[0m in \u001b[0;36mrequest\u001b[0;34m(method, url, **kwargs)\u001b[0m\n\u001b[1;32m     55\u001b[0m     \u001b[0;31m# cases, and look like a memory leak in others.\u001b[0m\u001b[0;34m\u001b[0m\u001b[0;34m\u001b[0m\u001b[0m\n\u001b[1;32m     56\u001b[0m     \u001b[0;32mwith\u001b[0m \u001b[0msessions\u001b[0m\u001b[0;34m.\u001b[0m\u001b[0mSession\u001b[0m\u001b[0;34m(\u001b[0m\u001b[0;34m)\u001b[0m \u001b[0;32mas\u001b[0m \u001b[0msession\u001b[0m\u001b[0;34m:\u001b[0m\u001b[0;34m\u001b[0m\u001b[0m\n\u001b[0;32m---> 57\u001b[0;31m         \u001b[0;32mreturn\u001b[0m \u001b[0msession\u001b[0m\u001b[0;34m.\u001b[0m\u001b[0mrequest\u001b[0m\u001b[0;34m(\u001b[0m\u001b[0mmethod\u001b[0m\u001b[0;34m=\u001b[0m\u001b[0mmethod\u001b[0m\u001b[0;34m,\u001b[0m \u001b[0murl\u001b[0m\u001b[0;34m=\u001b[0m\u001b[0murl\u001b[0m\u001b[0;34m,\u001b[0m \u001b[0;34m**\u001b[0m\u001b[0mkwargs\u001b[0m\u001b[0;34m)\u001b[0m\u001b[0;34m\u001b[0m\u001b[0m\n\u001b[0m\u001b[1;32m     58\u001b[0m \u001b[0;34m\u001b[0m\u001b[0m\n\u001b[1;32m     59\u001b[0m \u001b[0;34m\u001b[0m\u001b[0m\n",
      "\u001b[0;32m/Users/sreejithmenon/anaconda/lib/python3.5/site-packages/requests/sessions.py\u001b[0m in \u001b[0;36mrequest\u001b[0;34m(self, method, url, params, data, headers, cookies, files, auth, timeout, allow_redirects, proxies, hooks, stream, verify, cert, json)\u001b[0m\n\u001b[1;32m    473\u001b[0m         }\n\u001b[1;32m    474\u001b[0m         \u001b[0msend_kwargs\u001b[0m\u001b[0;34m.\u001b[0m\u001b[0mupdate\u001b[0m\u001b[0;34m(\u001b[0m\u001b[0msettings\u001b[0m\u001b[0;34m)\u001b[0m\u001b[0;34m\u001b[0m\u001b[0m\n\u001b[0;32m--> 475\u001b[0;31m         \u001b[0mresp\u001b[0m \u001b[0;34m=\u001b[0m \u001b[0mself\u001b[0m\u001b[0;34m.\u001b[0m\u001b[0msend\u001b[0m\u001b[0;34m(\u001b[0m\u001b[0mprep\u001b[0m\u001b[0;34m,\u001b[0m \u001b[0;34m**\u001b[0m\u001b[0msend_kwargs\u001b[0m\u001b[0;34m)\u001b[0m\u001b[0;34m\u001b[0m\u001b[0m\n\u001b[0m\u001b[1;32m    476\u001b[0m \u001b[0;34m\u001b[0m\u001b[0m\n\u001b[1;32m    477\u001b[0m         \u001b[0;32mreturn\u001b[0m \u001b[0mresp\u001b[0m\u001b[0;34m\u001b[0m\u001b[0m\n",
      "\u001b[0;32m/Users/sreejithmenon/anaconda/lib/python3.5/site-packages/requests/sessions.py\u001b[0m in \u001b[0;36msend\u001b[0;34m(self, request, **kwargs)\u001b[0m\n\u001b[1;32m    583\u001b[0m \u001b[0;34m\u001b[0m\u001b[0m\n\u001b[1;32m    584\u001b[0m         \u001b[0;31m# Send the request\u001b[0m\u001b[0;34m\u001b[0m\u001b[0;34m\u001b[0m\u001b[0m\n\u001b[0;32m--> 585\u001b[0;31m         \u001b[0mr\u001b[0m \u001b[0;34m=\u001b[0m \u001b[0madapter\u001b[0m\u001b[0;34m.\u001b[0m\u001b[0msend\u001b[0m\u001b[0;34m(\u001b[0m\u001b[0mrequest\u001b[0m\u001b[0;34m,\u001b[0m \u001b[0;34m**\u001b[0m\u001b[0mkwargs\u001b[0m\u001b[0;34m)\u001b[0m\u001b[0;34m\u001b[0m\u001b[0m\n\u001b[0m\u001b[1;32m    586\u001b[0m \u001b[0;34m\u001b[0m\u001b[0m\n\u001b[1;32m    587\u001b[0m         \u001b[0;31m# Total elapsed time of the request (approximately)\u001b[0m\u001b[0;34m\u001b[0m\u001b[0;34m\u001b[0m\u001b[0m\n",
      "\u001b[0;32m/Users/sreejithmenon/anaconda/lib/python3.5/site-packages/requests/adapters.py\u001b[0m in \u001b[0;36msend\u001b[0;34m(self, request, stream, timeout, verify, cert, proxies)\u001b[0m\n\u001b[1;32m    401\u001b[0m                     \u001b[0mdecode_content\u001b[0m\u001b[0;34m=\u001b[0m\u001b[0;32mFalse\u001b[0m\u001b[0;34m,\u001b[0m\u001b[0;34m\u001b[0m\u001b[0m\n\u001b[1;32m    402\u001b[0m                     \u001b[0mretries\u001b[0m\u001b[0;34m=\u001b[0m\u001b[0mself\u001b[0m\u001b[0;34m.\u001b[0m\u001b[0mmax_retries\u001b[0m\u001b[0;34m,\u001b[0m\u001b[0;34m\u001b[0m\u001b[0m\n\u001b[0;32m--> 403\u001b[0;31m                     \u001b[0mtimeout\u001b[0m\u001b[0;34m=\u001b[0m\u001b[0mtimeout\u001b[0m\u001b[0;34m\u001b[0m\u001b[0m\n\u001b[0m\u001b[1;32m    404\u001b[0m                 )\n\u001b[1;32m    405\u001b[0m \u001b[0;34m\u001b[0m\u001b[0m\n",
      "\u001b[0;32m/Users/sreejithmenon/anaconda/lib/python3.5/site-packages/requests/packages/urllib3/connectionpool.py\u001b[0m in \u001b[0;36murlopen\u001b[0;34m(self, method, url, body, headers, retries, redirect, assert_same_host, timeout, pool_timeout, release_conn, chunked, **response_kw)\u001b[0m\n\u001b[1;32m    576\u001b[0m                                                   \u001b[0mtimeout\u001b[0m\u001b[0;34m=\u001b[0m\u001b[0mtimeout_obj\u001b[0m\u001b[0;34m,\u001b[0m\u001b[0;34m\u001b[0m\u001b[0m\n\u001b[1;32m    577\u001b[0m                                                   \u001b[0mbody\u001b[0m\u001b[0;34m=\u001b[0m\u001b[0mbody\u001b[0m\u001b[0;34m,\u001b[0m \u001b[0mheaders\u001b[0m\u001b[0;34m=\u001b[0m\u001b[0mheaders\u001b[0m\u001b[0;34m,\u001b[0m\u001b[0;34m\u001b[0m\u001b[0m\n\u001b[0;32m--> 578\u001b[0;31m                                                   chunked=chunked)\n\u001b[0m\u001b[1;32m    579\u001b[0m \u001b[0;34m\u001b[0m\u001b[0m\n\u001b[1;32m    580\u001b[0m             \u001b[0;31m# If we're going to release the connection in ``finally:``, then\u001b[0m\u001b[0;34m\u001b[0m\u001b[0;34m\u001b[0m\u001b[0m\n",
      "\u001b[0;32m/Users/sreejithmenon/anaconda/lib/python3.5/site-packages/requests/packages/urllib3/connectionpool.py\u001b[0m in \u001b[0;36m_make_request\u001b[0;34m(self, conn, method, url, timeout, chunked, **httplib_request_kw)\u001b[0m\n\u001b[1;32m    385\u001b[0m                 \u001b[0mhttplib_response\u001b[0m \u001b[0;34m=\u001b[0m \u001b[0mconn\u001b[0m\u001b[0;34m.\u001b[0m\u001b[0mgetresponse\u001b[0m\u001b[0;34m(\u001b[0m\u001b[0mbuffering\u001b[0m\u001b[0;34m=\u001b[0m\u001b[0;32mTrue\u001b[0m\u001b[0;34m)\u001b[0m\u001b[0;34m\u001b[0m\u001b[0m\n\u001b[1;32m    386\u001b[0m             \u001b[0;32mexcept\u001b[0m \u001b[0mTypeError\u001b[0m\u001b[0;34m:\u001b[0m  \u001b[0;31m# Python 2.6 and older\u001b[0m\u001b[0;34m\u001b[0m\u001b[0m\n\u001b[0;32m--> 387\u001b[0;31m                 \u001b[0mhttplib_response\u001b[0m \u001b[0;34m=\u001b[0m \u001b[0mconn\u001b[0m\u001b[0;34m.\u001b[0m\u001b[0mgetresponse\u001b[0m\u001b[0;34m(\u001b[0m\u001b[0;34m)\u001b[0m\u001b[0;34m\u001b[0m\u001b[0m\n\u001b[0m\u001b[1;32m    388\u001b[0m         \u001b[0;32mexcept\u001b[0m \u001b[0;34m(\u001b[0m\u001b[0mSocketTimeout\u001b[0m\u001b[0;34m,\u001b[0m \u001b[0mBaseSSLError\u001b[0m\u001b[0;34m,\u001b[0m \u001b[0mSocketError\u001b[0m\u001b[0;34m)\u001b[0m \u001b[0;32mas\u001b[0m \u001b[0me\u001b[0m\u001b[0;34m:\u001b[0m\u001b[0;34m\u001b[0m\u001b[0m\n\u001b[1;32m    389\u001b[0m             \u001b[0mself\u001b[0m\u001b[0;34m.\u001b[0m\u001b[0m_raise_timeout\u001b[0m\u001b[0;34m(\u001b[0m\u001b[0merr\u001b[0m\u001b[0;34m=\u001b[0m\u001b[0me\u001b[0m\u001b[0;34m,\u001b[0m \u001b[0murl\u001b[0m\u001b[0;34m=\u001b[0m\u001b[0murl\u001b[0m\u001b[0;34m,\u001b[0m \u001b[0mtimeout_value\u001b[0m\u001b[0;34m=\u001b[0m\u001b[0mread_timeout\u001b[0m\u001b[0;34m)\u001b[0m\u001b[0;34m\u001b[0m\u001b[0m\n",
      "\u001b[0;32m/Users/sreejithmenon/anaconda/lib/python3.5/http/client.py\u001b[0m in \u001b[0;36mgetresponse\u001b[0;34m(self)\u001b[0m\n\u001b[1;32m   1195\u001b[0m         \u001b[0;32mtry\u001b[0m\u001b[0;34m:\u001b[0m\u001b[0;34m\u001b[0m\u001b[0m\n\u001b[1;32m   1196\u001b[0m             \u001b[0;32mtry\u001b[0m\u001b[0;34m:\u001b[0m\u001b[0;34m\u001b[0m\u001b[0m\n\u001b[0;32m-> 1197\u001b[0;31m                 \u001b[0mresponse\u001b[0m\u001b[0;34m.\u001b[0m\u001b[0mbegin\u001b[0m\u001b[0;34m(\u001b[0m\u001b[0;34m)\u001b[0m\u001b[0;34m\u001b[0m\u001b[0m\n\u001b[0m\u001b[1;32m   1198\u001b[0m             \u001b[0;32mexcept\u001b[0m \u001b[0mConnectionError\u001b[0m\u001b[0;34m:\u001b[0m\u001b[0;34m\u001b[0m\u001b[0m\n\u001b[1;32m   1199\u001b[0m                 \u001b[0mself\u001b[0m\u001b[0;34m.\u001b[0m\u001b[0mclose\u001b[0m\u001b[0;34m(\u001b[0m\u001b[0;34m)\u001b[0m\u001b[0;34m\u001b[0m\u001b[0m\n",
      "\u001b[0;32m/Users/sreejithmenon/anaconda/lib/python3.5/http/client.py\u001b[0m in \u001b[0;36mbegin\u001b[0;34m(self)\u001b[0m\n\u001b[1;32m    295\u001b[0m         \u001b[0;31m# read until we get a non-100 response\u001b[0m\u001b[0;34m\u001b[0m\u001b[0;34m\u001b[0m\u001b[0m\n\u001b[1;32m    296\u001b[0m         \u001b[0;32mwhile\u001b[0m \u001b[0;32mTrue\u001b[0m\u001b[0;34m:\u001b[0m\u001b[0;34m\u001b[0m\u001b[0m\n\u001b[0;32m--> 297\u001b[0;31m             \u001b[0mversion\u001b[0m\u001b[0;34m,\u001b[0m \u001b[0mstatus\u001b[0m\u001b[0;34m,\u001b[0m \u001b[0mreason\u001b[0m \u001b[0;34m=\u001b[0m \u001b[0mself\u001b[0m\u001b[0;34m.\u001b[0m\u001b[0m_read_status\u001b[0m\u001b[0;34m(\u001b[0m\u001b[0;34m)\u001b[0m\u001b[0;34m\u001b[0m\u001b[0m\n\u001b[0m\u001b[1;32m    298\u001b[0m             \u001b[0;32mif\u001b[0m \u001b[0mstatus\u001b[0m \u001b[0;34m!=\u001b[0m \u001b[0mCONTINUE\u001b[0m\u001b[0;34m:\u001b[0m\u001b[0;34m\u001b[0m\u001b[0m\n\u001b[1;32m    299\u001b[0m                 \u001b[0;32mbreak\u001b[0m\u001b[0;34m\u001b[0m\u001b[0m\n",
      "\u001b[0;32m/Users/sreejithmenon/anaconda/lib/python3.5/http/client.py\u001b[0m in \u001b[0;36m_read_status\u001b[0;34m(self)\u001b[0m\n\u001b[1;32m    256\u001b[0m \u001b[0;34m\u001b[0m\u001b[0m\n\u001b[1;32m    257\u001b[0m     \u001b[0;32mdef\u001b[0m \u001b[0m_read_status\u001b[0m\u001b[0;34m(\u001b[0m\u001b[0mself\u001b[0m\u001b[0;34m)\u001b[0m\u001b[0;34m:\u001b[0m\u001b[0;34m\u001b[0m\u001b[0m\n\u001b[0;32m--> 258\u001b[0;31m         \u001b[0mline\u001b[0m \u001b[0;34m=\u001b[0m \u001b[0mstr\u001b[0m\u001b[0;34m(\u001b[0m\u001b[0mself\u001b[0m\u001b[0;34m.\u001b[0m\u001b[0mfp\u001b[0m\u001b[0;34m.\u001b[0m\u001b[0mreadline\u001b[0m\u001b[0;34m(\u001b[0m\u001b[0m_MAXLINE\u001b[0m \u001b[0;34m+\u001b[0m \u001b[0;36m1\u001b[0m\u001b[0;34m)\u001b[0m\u001b[0;34m,\u001b[0m \u001b[0;34m\"iso-8859-1\"\u001b[0m\u001b[0;34m)\u001b[0m\u001b[0;34m\u001b[0m\u001b[0m\n\u001b[0m\u001b[1;32m    259\u001b[0m         \u001b[0;32mif\u001b[0m \u001b[0mlen\u001b[0m\u001b[0;34m(\u001b[0m\u001b[0mline\u001b[0m\u001b[0;34m)\u001b[0m \u001b[0;34m>\u001b[0m \u001b[0m_MAXLINE\u001b[0m\u001b[0;34m:\u001b[0m\u001b[0;34m\u001b[0m\u001b[0m\n\u001b[1;32m    260\u001b[0m             \u001b[0;32mraise\u001b[0m \u001b[0mLineTooLong\u001b[0m\u001b[0;34m(\u001b[0m\u001b[0;34m\"status line\"\u001b[0m\u001b[0;34m)\u001b[0m\u001b[0;34m\u001b[0m\u001b[0m\n",
      "\u001b[0;32m/Users/sreejithmenon/anaconda/lib/python3.5/socket.py\u001b[0m in \u001b[0;36mreadinto\u001b[0;34m(self, b)\u001b[0m\n\u001b[1;32m    573\u001b[0m         \u001b[0;32mwhile\u001b[0m \u001b[0;32mTrue\u001b[0m\u001b[0;34m:\u001b[0m\u001b[0;34m\u001b[0m\u001b[0m\n\u001b[1;32m    574\u001b[0m             \u001b[0;32mtry\u001b[0m\u001b[0;34m:\u001b[0m\u001b[0;34m\u001b[0m\u001b[0m\n\u001b[0;32m--> 575\u001b[0;31m                 \u001b[0;32mreturn\u001b[0m \u001b[0mself\u001b[0m\u001b[0;34m.\u001b[0m\u001b[0m_sock\u001b[0m\u001b[0;34m.\u001b[0m\u001b[0mrecv_into\u001b[0m\u001b[0;34m(\u001b[0m\u001b[0mb\u001b[0m\u001b[0;34m)\u001b[0m\u001b[0;34m\u001b[0m\u001b[0m\n\u001b[0m\u001b[1;32m    576\u001b[0m             \u001b[0;32mexcept\u001b[0m \u001b[0mtimeout\u001b[0m\u001b[0;34m:\u001b[0m\u001b[0;34m\u001b[0m\u001b[0m\n\u001b[1;32m    577\u001b[0m                 \u001b[0mself\u001b[0m\u001b[0;34m.\u001b[0m\u001b[0m_timeout_occurred\u001b[0m \u001b[0;34m=\u001b[0m \u001b[0;32mTrue\u001b[0m\u001b[0;34m\u001b[0m\u001b[0m\n",
      "\u001b[0;31mKeyboardInterrupt\u001b[0m: "
     ]
    }
   ],
   "source": [
    "d = drs.ovrallShrCntsByTwoFtrs(drs.gidAidMapFl,drs.aidFeatureMapFl,\"SPECIES\",\"AGE\",drs.imgJobMap,1,100)\n",
    "h3_1 = HT.h3(\"Data-Frame by SPECIES-AGE\")\n",
    "df1,tb1 = genHTMLTableFiles(d)\n",
    "\n",
    "d = drs.ovrallShrCntsByTwoFtrs(drs.gidAidMapFl,drs.aidFeatureMapFl,\"SPECIES\",\"SEX\",drs.imgJobMap,1,100)\n",
    "h3_2 = HT.h3(\"Data-Frame by SPECIES-SEX\")\n",
    "df2,tb2 = genHTMLTableFiles(d)\n",
    "\n",
    "d = drs.ovrallShrCntsByTwoFtrs(drs.gidAidMapFl,drs.aidFeatureMapFl,\"SPECIES\",\"VIEW_POINT\",drs.imgJobMap,1,100)\n",
    "h3_3 = HT.h3(\"Data-Frame by SPECIES-VIEW_POINT\")\n",
    "df3,tb3 = genHTMLTableFiles(d)\n",
    "\n",
    "d = drs.ovrallShrCntsByTwoFtrs(drs.gidAidMapFl,drs.aidFeatureMapFl,\"SPECIES\",\"QUALITY\",drs.imgJobMap,1,100)\n",
    "h3_4 = HT.h3(\"Data-Frame by SPECIES-QUALITY\")\n",
    "df4,tb4 = genHTMLTableFiles(d)\n",
    "\n",
    "d = drs.ovrallShrCntsByTwoFtrs(drs.gidAidMapFl,drs.aidFeatureMapFl,\"SPECIES\",\"EXEMPLAR_FLAG\",drs.imgJobMap,1,100)\n",
    "h3_5 = HT.h3(\"Data-Frame by SPECIES-EXEMPLAR_FLAG\")\n",
    "df5,tb5 = genHTMLTableFiles(d)\n",
    "\n",
    "## *******## *******## *******## *******## *******## *******## *******## *******\n",
    "\n",
    "d = drs.ovrallShrCntsByTwoFtrs(drs.gidAidMapFl,drs.aidFeatureMapFl,\"VIEW_POINT\",\"SPECIES\",drs.imgJobMap,1,100)\n",
    "h3_6 = HT.h3(\"Data-Frame by VIEW_POINT-SPECIES\")\n",
    "df6,tb6 = genHTMLTableFiles(d)\n",
    "\n",
    "d = drs.ovrallShrCntsByTwoFtrs(drs.gidAidMapFl,drs.aidFeatureMapFl,\"VIEW_POINT\",\"AGE\",drs.imgJobMap,1,100)\n",
    "h3_7 = HT.h3(\"Data-Frame by VIEW_POINT-AGE\")\n",
    "df7,tb7 = genHTMLTableFiles(d)\n",
    "\n",
    "d = drs.ovrallShrCntsByTwoFtrs(drs.gidAidMapFl,drs.aidFeatureMapFl,\"VIEW_POINT\",\"SEX\",drs.imgJobMap,1,100)\n",
    "h3_8 = HT.h3(\"Data-Frame by VIEW_POINT-SEX\")\n",
    "df8,tb8 = genHTMLTableFiles(d)\n",
    "\n",
    "d = drs.ovrallShrCntsByTwoFtrs(drs.gidAidMapFl,drs.aidFeatureMapFl,\"VIEW_POINT\",\"QUALITY\",drs.imgJobMap,1,100)\n",
    "h3_9 = HT.h3(\"Data-Frame by VIEW_POINT-QUALITY\")\n",
    "df9,tb9 = genHTMLTableFiles(d)\n",
    "\n",
    "d = drs.ovrallShrCntsByTwoFtrs(drs.gidAidMapFl,drs.aidFeatureMapFl,\"VIEW_POINT\",\"EXEMPLAR_FLAG\",drs.imgJobMap,1,100)\n",
    "h3_10 = HT.h3(\"Data-Frame by VIEW_POINT-EXEMPLAR_FLAG\")\n",
    "df10,tb10 = genHTMLTableFiles(d)\n",
    "\n",
    "## *******## *******## *******## *******## *******## *******## *******## *******\n",
    "d = drs.ovrallShrCntsByTwoFtrs(drs.gidAidMapFl,drs.aidFeatureMapFl,\"SEX\",\"SPECIES\",drs.imgJobMap,1,100)\n",
    "h3_11 = HT.h3(\"Data-Frame by SEX-SPECIES\")\n",
    "df11,tb11 = genHTMLTableFiles(d)\n",
    "\n",
    "d = drs.ovrallShrCntsByTwoFtrs(drs.gidAidMapFl,drs.aidFeatureMapFl,\"SEX\",\"AGE\",drs.imgJobMap,1,100)\n",
    "h3_12 = HT.h3(\"Data-Frame by SEX-AGE\")\n",
    "df12,tb12 = genHTMLTableFiles(d)\n",
    "\n",
    "d = drs.ovrallShrCntsByTwoFtrs(drs.gidAidMapFl,drs.aidFeatureMapFl,\"SEX\",\"QUALITY\",drs.imgJobMap,1,100)\n",
    "h3_13 = HT.h3(\"Data-Frame by SEX-QUALITY\")\n",
    "df13,tb13 = genHTMLTableFiles(d)\n",
    "\n",
    "d = drs.ovrallShrCntsByTwoFtrs(drs.gidAidMapFl,drs.aidFeatureMapFl,\"SEX\",\"EXEMPLAR_FLAG\",drs.imgJobMap,1,100)\n",
    "h3_14 = HT.h3(\"Data-Frame by SEX-EXEMPLAR_FLAG\")\n",
    "df14,tb14 = genHTMLTableFiles(d)\n",
    "\n",
    "d = drs.ovrallShrCntsByTwoFtrs(drs.gidAidMapFl,drs.aidFeatureMapFl,\"SEX\",\"VIEW_POINT\",drs.imgJobMap,1,100)\n",
    "h3_15 = HT.h3(\"Data-Frame by SEX-VIEW_POINT\")\n",
    "df15,tb15 = genHTMLTableFiles(d)\n",
    "\n",
    "## *******## *******## *******## *******## *******## *******## *******## *******\n",
    "d = drs.ovrallShrCntsByTwoFtrs(drs.gidAidMapFl,drs.aidFeatureMapFl,\"AGE\",\"SPECIES\",drs.imgJobMap,1,100)\n",
    "h3_16 = HT.h3(\"Data-Frame by AGE-SPECIES\")\n",
    "df16,tb16 = genHTMLTableFiles(d)\n",
    "\n",
    "d = drs.ovrallShrCntsByTwoFtrs(drs.gidAidMapFl,drs.aidFeatureMapFl,\"AGE\",\"SEX\",drs.imgJobMap,1,100)\n",
    "h3_17 = HT.h3(\"Data-Frame by AGE-SEX\")\n",
    "df17,tb17 = genHTMLTableFiles(d)\n",
    "\n",
    "d = drs.ovrallShrCntsByTwoFtrs(drs.gidAidMapFl,drs.aidFeatureMapFl,\"AGE\",\"QUALITY\",drs.imgJobMap,1,100)\n",
    "h3_18 = HT.h3(\"Data-Frame by AGE-QUALITY\")\n",
    "df18,tb18 = genHTMLTableFiles(d)\n",
    "\n",
    "d = drs.ovrallShrCntsByTwoFtrs(drs.gidAidMapFl,drs.aidFeatureMapFl,\"AGE\",\"EXEMPLAR_FLAG\",drs.imgJobMap,1,100)\n",
    "h3_19 = HT.h3(\"Data-Frame by AGE-EXEMPLAR_FLAG\")\n",
    "df19,tb19 = genHTMLTableFiles(d)\n",
    "\n",
    "d = drs.ovrallShrCntsByTwoFtrs(drs.gidAidMapFl,drs.aidFeatureMapFl,\"AGE\",\"VIEW_POINT\",drs.imgJobMap,1,100)\n",
    "h3_20 = HT.h3(\"Data-Frame by AGE-VIEW_POINT\")\n",
    "df20,tb20 = genHTMLTableFiles(d)\n",
    "\n",
    "\n",
    "\n",
    "fullFl = HT.html(HT.body(HT.HTML(h3_1),HT.HTML(tb1),\n",
    "                        HT.HTML(h3_2),HT.HTML(tb2),\n",
    "                        HT.HTML(h3_3),HT.HTML(tb3),\n",
    "                        HT.HTML(h3_4),HT.HTML(tb4),\n",
    "                        HT.HTML(h3_5),HT.HTML(tb5),\n",
    "                        HT.HTML(h3_6),HT.HTML(tb6),\n",
    "                        HT.HTML(h3_7),HT.HTML(tb7),\n",
    "                        HT.HTML(h3_8),HT.HTML(tb8),\n",
    "                        HT.HTML(h3_9),HT.HTML(tb9),\n",
    "                        HT.HTML(h3_10),HT.HTML(tb10),\n",
    "                        HT.HTML(h3_11),HT.HTML(tb11),\n",
    "                        HT.HTML(h3_12),HT.HTML(tb12),\n",
    "                        HT.HTML(h3_13),HT.HTML(tb13),\n",
    "                        HT.HTML(h3_14),HT.HTML(tb14),\n",
    "                        HT.HTML(h3_15),HT.HTML(tb15),\n",
    "                        HT.HTML(h3_16),HT.HTML(tb16),\n",
    "                        HT.HTML(h3_17),HT.HTML(tb17),\n",
    "                        HT.HTML(h3_18),HT.HTML(tb18),\n",
    "                        HT.HTML(h3_19),HT.HTML(tb19),\n",
    "                        HT.HTML(h3_20),HT.HTML(tb20)\n",
    "                        ))\n",
    "\n",
    "outputFile = open(\"../FinalResults/twoFeatures.html\",\"w\")\n",
    "outputFile.write(fullFl)\n",
    "outputFile.close()"
   ]
  },
  {
   "cell_type": "code",
   "execution_count": 12,
   "metadata": {
    "collapsed": true
   },
   "outputs": [],
   "source": [
    "def getHTMLTabForFtr(ftr):\n",
    "    d = drs.ovrallShrCntsByFtr(drs.gidAidMapFl,drs.aidFeatureMapFl,ftr,drs.imgJobMap,1,100)\n",
    "    head3 = HT.h3(\"Data-Frame by \" + ftr)\n",
    "    df1,tb1 = genHTMLTableFiles(d)\n",
    "    \n",
    "    fig = df1.iplot(kind='bar',filename=str(ftr + '_expt2' ))\n",
    "    iframe = fig.embed_code\n",
    "\n",
    "    df1.reset_index(inplace=True)\n",
    "    df1.columns = [ftr,'Share Proportion']\n",
    "    \n",
    "    a,b,c = drs.genObjsForConsistency(drs.gidAidMapFl,drs.aidFeatureMapFl,ftr,drs.imgJobMap)    \n",
    "    consistency = drs.getConsistencyDict(a,b,c)\n",
    "    \n",
    "    df2 = pd.DataFrame(drs.genVarStddevShrPropAcrsAlbms(consistency)).transpose()\n",
    "    df2.reset_index(inplace=True)\n",
    "    df2.columns = [ftr,'mean','standard_deviation','variance']\n",
    "    \n",
    "    df = pd.merge(df1,df2,left_on=ftr,right_on=ftr,how='left')\n",
    "    \n",
    "    return df,head3,df.to_html(bold_rows = False,index=False),iframe"
   ]
  },
  {
   "cell_type": "code",
   "execution_count": 13,
   "metadata": {
    "collapsed": false
   },
   "outputs": [],
   "source": [
    "df1,h3_1,tb1,img1 = getHTMLTabForFtr(\"SPECIES\")\n",
    "df2,h3_2,tb2,img2 = getHTMLTabForFtr(\"AGE\")\n",
    "df3,h3_3,tb3,img3 = getHTMLTabForFtr(\"VIEW_POINT\")\n",
    "df4,h3_4,tb4,img4 = getHTMLTabForFtr(\"QUALITY\")\n",
    "df5,h3_5,tb5,img5 = getHTMLTabForFtr(\"EXEMPLAR_FLAG\")\n",
    "df6,h3_6,tb6,img6 = getHTMLTabForFtr(\"CONTRIBUTOR\")\n",
    "fullFl = HT.html(HT.body(HT.HTML(h3_1),HT.HTML(tb1), HT.html(img1),\n",
    "                        HT.HTML(h3_2),HT.HTML(tb2), HT.html(img2),\n",
    "                        HT.HTML(h3_3),HT.HTML(tb3), HT.html(img3),\n",
    "                        HT.HTML(h3_4),HT.HTML(tb4), HT.html(img4),\n",
    "                        HT.HTML(h3_5),HT.HTML(tb5), HT.html(img5),\n",
    "                        HT.HTML(h3_6),HT.HTML(tb6), HT.html(img6)\n",
    "                         ))\n",
    "\n",
    "outputFile = open(\"../FinalResults/oneFeature1.html\",\"w\")\n",
    "outputFile.write(fullFl)\n",
    "outputFile.close()\n",
    "\n",
    "plt.close('all')"
   ]
  },
  {
   "cell_type": "code",
   "execution_count": null,
   "metadata": {
    "collapsed": false
   },
   "outputs": [],
   "source": [
    "df = pd.DataFrame(drs.genAlbmFtrs(drs.gidAidMapFl,drs.aidFeatureMapFl,drs.imgJobMap,['SPECIES','AGE','SEX'])).transpose()\n",
    "fullFl= HT.html(HT.body(HT.HTML(df.to_html(bold_rows = False))))\n",
    "\n",
    "df.to_csv(\"../FinalResults/albumProperties.csv\",index=False)\n",
    "outputFile = open(\"../FinalResults/albumProperties.html\",\"w\")\n",
    "outputFile.write(fullFl)\n",
    "outputFile.close()"
   ]
  },
  {
   "cell_type": "code",
   "execution_count": null,
   "metadata": {
    "collapsed": false
   },
   "outputs": [],
   "source": [
    "# DO NOT RUN AGAIN WITHOUT TAKING BACKUP OF THE HTML FILE\n",
    "imgAlbmShrs,consistency = drs.getShrPropImgsAcrossAlbms(drs.imgJobMap,1,100,\"../FinalResults/shareRateSameImgsAcrossAlbums.json\")\n",
    "df = pd.DataFrame(imgAlbmShrs,index=[\"Share Proportion\"]).transpose()\n",
    "gidShrVarStdDevDict = drs.genVarStddevShrPropAcrsAlbms(consistency)\n",
    "df2 = pd.DataFrame(gidShrVarStdDevDict).transpose()\n",
    "df2.reset_index(inplace=True)\n",
    "df2.columns = ['GID','Standard Deviation','Variance']\n",
    "\n",
    "subindex = df.groupby(level=0).head(1).index\n",
    "subindex2 = df2.groupby(level=0).head(1)['Standard Deviation']\n",
    "subindex3 = df2.groupby(level=0).head(1)['Variance']\n",
    "df.loc[subindex, 'Standard Deviation'] = subindex2.get_values()\n",
    "df.loc[subindex, 'Variance'] = subindex3.get_values()\n",
    "\n",
    "df.to_csv(\"../FinalResults/shareRateSameImgsAcrossAlbums.csv\")\n",
    "\n",
    "df.loc[subindex, 'URL'] = '<img src = \"https://socialmediabias.blob.core.windows.net/wildlifephotos/All_Zebra_Count_Images/' + subindex.get_level_values(0) + '.jpeg\" width = \"350\">'\n",
    "df = df.fillna(\"\")\n",
    "\n",
    "fullFl= HT.html(HT.body(HT.HTML(df.to_html(bold_rows = False))))\n",
    "outputFile = open(\"../FinalResults/shareRateSameImgsAcrossAlbums.html\",\"w\")\n",
    "outputFile.write(fullFl)\n",
    "outputFile.close()\n",
    "\n",
    "df = pd.DataFrame(sorted(gidShrVarStdDevDict.items(),key = lambda x : x[1]['standard_deviation'],reverse=True),columns=['GID','Stats'])\n",
    "df.to_csv(\"../FinalResults/ImgsStdDevDesc.csv\",index=False)"
   ]
  },
  {
   "cell_type": "code",
   "execution_count": 29,
   "metadata": {
    "collapsed": false
   },
   "outputs": [],
   "source": [
    "summaryPosCnt = drs.getPosShrProptn(drs.imgJobMap,1,100)\n",
    "\n",
    "df = pd.DataFrame(summaryPosCnt).transpose()\n",
    "cols = ['share','not_share','total','proportion']\n",
    "df = df[cols]\n",
    "# imgTg = HT.img(src=\"images/PositionBias.png\")\n",
    "# df.plot()\n",
    "# plt.savefig(\"../FinalResults/PositionBias.png\",bbox_inches='tight')\n",
    "\n",
    "fig = df.iplot(kind='line',filename=str('Position_bias' + '_expt2' ))\n",
    "iframe = fig.embed_code\n",
    "\n",
    "fullFl= HT.html(HT.body(HT.HTML(df.to_html(bold_rows = False))),HT.HTML(iframe))\n",
    "outputFile = open(\"../FinalResults/PositionBias1.html\",\"w\")\n",
    "outputFile.write(fullFl)\n",
    "outputFile.close()"
   ]
  },
  {
   "cell_type": "code",
   "execution_count": null,
   "metadata": {
    "collapsed": false
   },
   "outputs": [],
   "source": [
    "df[['share','not_share','proportion']].plot()\n",
    "plt.show()"
   ]
  },
  {
   "cell_type": "code",
   "execution_count": 13,
   "metadata": {
    "collapsed": false
   },
   "outputs": [],
   "source": [
    "# Overall share statistics ranked by shared proportion of images along with features and tags\n",
    "df = pd.DataFrame.from_csv(\"../data/resultsFeaturesComb_expt2.csv\")\n",
    "df.reset_index(inplace=True)\n",
    "\n",
    "df = df[[ 'GID', 'AID','Album', 'AGE',\n",
    "       'EXEMPLAR_FLAG', 'INDIVIDUAL_NAME', 'NID', 'QUALITY', 'SEX', 'SPECIES',\n",
    "       'VIEW_POINT','CONTRIBUTOR']]\n",
    "\n",
    "df['CONTRIBUTOR'] = df[['CONTRIBUTOR']].applymap(lambda x : x.replace(',',''))\n",
    "\n",
    "df = df.groupby('GID').agg(','.join)\n",
    "df.reset_index(inplace=True)\n",
    "df.GID = df.GID.astype(str)\n",
    "\n",
    "dfRes = pd.DataFrame.from_csv(\"../FinalResults/resultsExpt2RankList_Tags.csv\")\n",
    "dfRes.reset_index(inplace=True)\n",
    "dfRes.GID = dfRes.GID.astype(str)\n",
    "dfRes['URL'] = '<img src = \"https://socialmediabias.blob.core.windows.net/wildlifephotos/All_Zebra_Count_Images/' + dfRes['GID'] + '.jpeg\" width = \"350\">'\n",
    "\n",
    "dfSummary = pd.merge(df,dfRes,left_on ='GID',right_on='GID')\n",
    "dfSummary.sort_values(by='Proportion',ascending=False,inplace=True)\n",
    "dfSummary = dfSummary[['GID','Album','AGE','INDIVIDUAL_NAME','QUALITY','SEX','SPECIES','VIEW_POINT','CONTRIBUTOR','tags','Shares','Not Shares','Total','Proportion','URL']]\n",
    "dfSummary.to_csv(\"../FinalResults/ImgShrRnkListWithTags.csv\",index=False)\n",
    "\n",
    "fullFl= HT.html(HT.body(HT.HTML(dfSummary.to_html(bold_rows = False,index=False))))\n",
    "outputFile = open(\"../FinalResults/ImgShrRnkListWithTags.html\",\"w\")\n",
    "outputFile.write(fullFl)\n",
    "outputFile.close()"
   ]
  },
  {
   "cell_type": "code",
   "execution_count": null,
   "metadata": {
    "collapsed": true
   },
   "outputs": [],
   "source": []
  }
 ],
 "metadata": {
  "kernelspec": {
   "display_name": "Python 3",
   "language": "python",
   "name": "python3"
  },
  "language_info": {
   "codemirror_mode": {
    "name": "ipython",
    "version": 3
   },
   "file_extension": ".py",
   "mimetype": "text/x-python",
   "name": "python",
   "nbconvert_exporter": "python",
   "pygments_lexer": "ipython3",
   "version": "3.5.2"
  }
 },
 "nbformat": 4,
 "nbformat_minor": 0
}
