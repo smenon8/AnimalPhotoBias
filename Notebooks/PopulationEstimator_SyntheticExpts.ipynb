{
 "cells": [
  {
   "cell_type": "code",
   "execution_count": 36,
   "metadata": {
    "collapsed": false
   },
   "outputs": [],
   "source": [
    "import cufflinks as cf # this is necessary to link pandas to plotly\n",
    "cf.go_online()\n",
    "import json\n",
    "import plotly.graph_objs as go\n",
    "import pandas as pd\n",
    "import htmltag as HT\n",
    "import PopulationEstimatorFromClf as PE\n",
    "import importlib\n",
    "importlib.reload(PE)\n",
    "import random\n",
    "import DataStructsHelperAPI as DS"
   ]
  },
  {
   "cell_type": "markdown",
   "metadata": {},
   "source": [
    "### Logic for creating the comma seperated aggregate data file\n",
    "Not needed to run every time"
   ]
  },
  {
   "cell_type": "code",
   "execution_count": null,
   "metadata": {
    "collapsed": true
   },
   "outputs": [],
   "source": [
    "attribs = [ 'GID', 'AID', 'AGE',\n",
    "       'EXEMPLAR_FLAG', 'INDIVIDUAL_NAME', 'NID', 'QUALITY', 'SEX', 'SPECIES',\n",
    "       'VIEW_POINT','CONTRIBUTOR']\n",
    "\n",
    "df = ImageMap.genGidAidFtrDf(\"../data/full_gid_aid_map.json\",\"../data/full_aid_features.json\",'../data/full_gid_aid_ftr.csv')\n",
    "df_comb = ImageMap.createMstrFl(\"../data/full_gid_aid_ftr.csv\",\"../data/GZC_data_tagged.json\",attribs,\"../data/full_gid_aid_ftr_agg.csv\")"
   ]
  },
  {
   "cell_type": "markdown",
   "metadata": {},
   "source": [
    "## Visuals for accuracies of predictions"
   ]
  },
  {
   "cell_type": "code",
   "execution_count": 46,
   "metadata": {
    "collapsed": true
   },
   "outputs": [],
   "source": [
    "with open(\"../FinalResults/PopulationEstimate.json\",\"r\") as jsonFl:\n",
    "    resObj = json.load(jsonFl)"
   ]
  },
  {
   "cell_type": "code",
   "execution_count": 47,
   "metadata": {
    "collapsed": false
   },
   "outputs": [
    {
     "name": "stderr",
     "output_type": "stream",
     "text": [
      "/Users/sreejithmenon/anaconda/lib/python3.5/site-packages/ipykernel/__main__.py:10: SettingWithCopyWarning:\n",
      "\n",
      "\n",
      "A value is trying to be set on a copy of a slice from a DataFrame.\n",
      "Try using .loc[row_indexer,col_indexer] = value instead\n",
      "\n",
      "See the caveats in the documentation: http://pandas.pydata.org/pandas-docs/stable/indexing.html#indexing-view-versus-copy\n",
      "\n",
      "/Users/sreejithmenon/anaconda/lib/python3.5/site-packages/ipykernel/__main__.py:11: SettingWithCopyWarning:\n",
      "\n",
      "\n",
      "A value is trying to be set on a copy of a slice from a DataFrame.\n",
      "Try using .loc[row_indexer,col_indexer] = value instead\n",
      "\n",
      "See the caveats in the documentation: http://pandas.pydata.org/pandas-docs/stable/indexing.html#indexing-view-versus-copy\n",
      "\n",
      "/Users/sreejithmenon/anaconda/lib/python3.5/site-packages/ipykernel/__main__.py:12: SettingWithCopyWarning:\n",
      "\n",
      "\n",
      "A value is trying to be set on a copy of a slice from a DataFrame.\n",
      "Try using .loc[row_indexer,col_indexer] = value instead\n",
      "\n",
      "See the caveats in the documentation: http://pandas.pydata.org/pandas-docs/stable/indexing.html#indexing-view-versus-copy\n",
      "\n"
     ]
    },
    {
     "data": {
      "text/html": [
       "<div>\n",
       "<table border=\"1\" class=\"dataframe\">\n",
       "  <thead>\n",
       "    <tr style=\"text-align: right;\">\n",
       "      <th></th>\n",
       "      <th>Axes Name</th>\n",
       "      <th>all</th>\n",
       "      <th>Error_total_pop</th>\n",
       "      <th>zebras</th>\n",
       "      <th>Error_zebra_pop</th>\n",
       "      <th>giraffes</th>\n",
       "      <th>Error_giraffe_pop</th>\n",
       "      <th>shared_images_count</th>\n",
       "      <th>Predicted_Shared_proportion</th>\n",
       "      <th>norm_error_total_pop</th>\n",
       "      <th>norm_error_zebra_pop</th>\n",
       "      <th>norm_error_giraffe_pop</th>\n",
       "    </tr>\n",
       "  </thead>\n",
       "  <tbody>\n",
       "    <tr>\n",
       "      <th>0</th>\n",
       "      <td>bayesian sparse</td>\n",
       "      <td>0.0</td>\n",
       "      <td>-3620.0</td>\n",
       "      <td>0.0</td>\n",
       "      <td>-3468.0</td>\n",
       "      <td>0.0</td>\n",
       "      <td>-177.0</td>\n",
       "      <td>10</td>\n",
       "      <td>0.153304</td>\n",
       "      <td>-1.000000</td>\n",
       "      <td>-1.0</td>\n",
       "      <td>-1.000000</td>\n",
       "    </tr>\n",
       "    <tr>\n",
       "      <th>1</th>\n",
       "      <td>bayesian non_sparse</td>\n",
       "      <td>714.0</td>\n",
       "      <td>-2906.0</td>\n",
       "      <td>0.0</td>\n",
       "      <td>-3468.0</td>\n",
       "      <td>132.0</td>\n",
       "      <td>-45.0</td>\n",
       "      <td>233</td>\n",
       "      <td>3.571976</td>\n",
       "      <td>-0.802762</td>\n",
       "      <td>-1.0</td>\n",
       "      <td>-0.254237</td>\n",
       "    </tr>\n",
       "    <tr>\n",
       "      <th>2</th>\n",
       "      <td>bayesian non_zero</td>\n",
       "      <td>0.0</td>\n",
       "      <td>-3620.0</td>\n",
       "      <td>0.0</td>\n",
       "      <td>-3468.0</td>\n",
       "      <td>0.0</td>\n",
       "      <td>-177.0</td>\n",
       "      <td>92</td>\n",
       "      <td>1.410394</td>\n",
       "      <td>-1.000000</td>\n",
       "      <td>-1.0</td>\n",
       "      <td>-1.000000</td>\n",
       "    </tr>\n",
       "    <tr>\n",
       "      <th>3</th>\n",
       "      <td>bayesian abv_mean</td>\n",
       "      <td>0.0</td>\n",
       "      <td>-3620.0</td>\n",
       "      <td>0.0</td>\n",
       "      <td>-3468.0</td>\n",
       "      <td>0.0</td>\n",
       "      <td>-177.0</td>\n",
       "      <td>133</td>\n",
       "      <td>2.038939</td>\n",
       "      <td>-1.000000</td>\n",
       "      <td>-1.0</td>\n",
       "      <td>-1.000000</td>\n",
       "    </tr>\n",
       "    <tr>\n",
       "      <th>4</th>\n",
       "      <td>logistic sparse</td>\n",
       "      <td>0.0</td>\n",
       "      <td>-3620.0</td>\n",
       "      <td>0.0</td>\n",
       "      <td>-3468.0</td>\n",
       "      <td>0.0</td>\n",
       "      <td>-177.0</td>\n",
       "      <td>8</td>\n",
       "      <td>0.122643</td>\n",
       "      <td>-1.000000</td>\n",
       "      <td>-1.0</td>\n",
       "      <td>-1.000000</td>\n",
       "    </tr>\n",
       "  </tbody>\n",
       "</table>\n",
       "</div>"
      ],
      "text/plain": [
       "             Axes Name    all  Error_total_pop  zebras  Error_zebra_pop  \\\n",
       "0      bayesian sparse    0.0          -3620.0     0.0          -3468.0   \n",
       "1  bayesian non_sparse  714.0          -2906.0     0.0          -3468.0   \n",
       "2    bayesian non_zero    0.0          -3620.0     0.0          -3468.0   \n",
       "3    bayesian abv_mean    0.0          -3620.0     0.0          -3468.0   \n",
       "4      logistic sparse    0.0          -3620.0     0.0          -3468.0   \n",
       "\n",
       "   giraffes  Error_giraffe_pop  shared_images_count  \\\n",
       "0       0.0             -177.0                   10   \n",
       "1     132.0              -45.0                  233   \n",
       "2       0.0             -177.0                   92   \n",
       "3       0.0             -177.0                  133   \n",
       "4       0.0             -177.0                    8   \n",
       "\n",
       "   Predicted_Shared_proportion  norm_error_total_pop  norm_error_zebra_pop  \\\n",
       "0                     0.153304             -1.000000                  -1.0   \n",
       "1                     3.571976             -0.802762                  -1.0   \n",
       "2                     1.410394             -1.000000                  -1.0   \n",
       "3                     2.038939             -1.000000                  -1.0   \n",
       "4                     0.122643             -1.000000                  -1.0   \n",
       "\n",
       "   norm_error_giraffe_pop  \n",
       "0               -1.000000  \n",
       "1               -0.254237  \n",
       "2               -1.000000  \n",
       "3               -1.000000  \n",
       "4               -1.000000  "
      ]
     },
     "execution_count": 47,
     "metadata": {},
     "output_type": "execute_result"
    }
   ],
   "source": [
    "df = pd.DataFrame(resObj)\n",
    "df['Axes Name'] = df['Classifier'] + \" \" + df['Attribute']\n",
    "\n",
    "df = df[['Axes Name', 'all','giraffes','zebras','shared_images_count']]\n",
    "df['Error_total_pop'] = df['all'] - 3620\n",
    "df['Error_zebra_pop'] = df['zebras'] - 3468\n",
    "df['Error_giraffe_pop'] = df['giraffes'] - 177\n",
    "df['Predicted_Shared_proportion'] = df['shared_images_count'] * 100 / 6523\n",
    "dfFull = df[['Axes Name','all','Error_total_pop','zebras','Error_zebra_pop','giraffes','Error_giraffe_pop','shared_images_count','Predicted_Shared_proportion']]\n",
    "dfFull['norm_error_total_pop'] = dfFull['Error_total_pop'] / 3620\n",
    "dfFull['norm_error_zebra_pop'] = dfFull['Error_zebra_pop'] / 3468\n",
    "dfFull['norm_error_giraffe_pop'] = dfFull['Error_giraffe_pop'] / 177\n",
    "dfFull.head()"
   ]
  },
  {
   "cell_type": "code",
   "execution_count": 48,
   "metadata": {
    "collapsed": false
   },
   "outputs": [
    {
     "name": "stderr",
     "output_type": "stream",
     "text": [
      "/Users/sreejithmenon/anaconda/lib/python3.5/site-packages/ipykernel/__main__.py:3: SettingWithCopyWarning:\n",
      "\n",
      "\n",
      "A value is trying to be set on a copy of a slice from a DataFrame\n",
      "\n",
      "See the caveats in the documentation: http://pandas.pydata.org/pandas-docs/stable/indexing.html#indexing-view-versus-copy\n",
      "\n"
     ]
    }
   ],
   "source": [
    "dfErrors= dfFull[['Axes Name','Error_total_pop','Error_zebra_pop','Error_giraffe_pop']]\n",
    "dfErrors.index = df['Axes Name']\n",
    "dfErrors.drop(['Axes Name'],1,inplace=True)"
   ]
  },
  {
   "cell_type": "code",
   "execution_count": 49,
   "metadata": {
    "collapsed": false
   },
   "outputs": [],
   "source": [
    "layout = go.Layout(\n",
    "    title=\"Estimation absolute-errors using predict-shared data\",\n",
    "    titlefont = dict(\n",
    "            size=22),\n",
    "    xaxis=dict(\n",
    "        title=\"Classifier and Attribute Selection method\",\n",
    "        titlefont = dict(\n",
    "            size=15),\n",
    "        showticklabels=True,\n",
    "        tickangle=35,\n",
    "        tickfont=dict(\n",
    "            size=9,\n",
    "            color='black')\n",
    "    ),\n",
    "    yaxis=dict(\n",
    "        title=\"Absolute Error\",\n",
    "        titlefont = dict(\n",
    "            size=15),\n",
    "        showticklabels=True,\n",
    "        tickfont=dict(\n",
    "            size=9,\n",
    "            color='black')\n",
    "    ))\n",
    "fig1 = dfErrors.iplot(kind='bar',filename=\"Absolute_Errors\",layout=layout)"
   ]
  },
  {
   "cell_type": "code",
   "execution_count": 50,
   "metadata": {
    "collapsed": false
   },
   "outputs": [
    {
     "name": "stderr",
     "output_type": "stream",
     "text": [
      "/Users/sreejithmenon/anaconda/lib/python3.5/site-packages/ipykernel/__main__.py:3: SettingWithCopyWarning:\n",
      "\n",
      "\n",
      "A value is trying to be set on a copy of a slice from a DataFrame\n",
      "\n",
      "See the caveats in the documentation: http://pandas.pydata.org/pandas-docs/stable/indexing.html#indexing-view-versus-copy\n",
      "\n"
     ]
    }
   ],
   "source": [
    "dfNormErrors= dfFull[['Axes Name','norm_error_total_pop','norm_error_zebra_pop','norm_error_giraffe_pop']]\n",
    "dfNormErrors.index = df['Axes Name']\n",
    "dfNormErrors.drop(['Axes Name'],1,inplace=True)"
   ]
  },
  {
   "cell_type": "code",
   "execution_count": 51,
   "metadata": {
    "collapsed": false
   },
   "outputs": [],
   "source": [
    "layout = go.Layout(\n",
    "    title=\"Estimation normalized-errors using predict-shared data\",\n",
    "    titlefont = dict(\n",
    "            size=22),\n",
    "    xaxis=dict(\n",
    "        title=\"Classifier and Attribute Selection method\",\n",
    "        titlefont = dict(\n",
    "            size=15),\n",
    "        showticklabels=True,\n",
    "        tickangle=35,\n",
    "        tickfont=dict(\n",
    "            size=9,\n",
    "            color='black')\n",
    "    ),\n",
    "    yaxis=dict(\n",
    "        title=\"Normalized Error\",\n",
    "        titlefont = dict(\n",
    "            size=15),\n",
    "        showticklabels=True,\n",
    "        tickfont=dict(\n",
    "            size=9,\n",
    "            color='black')\n",
    "    ))\n",
    "fig2 = dfNormErrors.iplot(kind='bar',filename=\"Norm_Errors\",layout=layout)\n",
    "# Error = (predicted population - actual population)\n",
    "# Normalized error formula =  Error / actual population"
   ]
  },
  {
   "cell_type": "code",
   "execution_count": 52,
   "metadata": {
    "collapsed": false
   },
   "outputs": [
    {
     "name": "stderr",
     "output_type": "stream",
     "text": [
      "/Users/sreejithmenon/anaconda/lib/python3.5/site-packages/ipykernel/__main__.py:1: UserWarning:\n",
      "\n",
      "Boolean Series key will be reindexed to match DataFrame index.\n",
      "\n"
     ]
    }
   ],
   "source": [
    "dfNoOutliers = dfErrors[(abs(dfErrors['Error_total_pop']) <= 2750 )][(abs(dfErrors['Error_total_pop']) > 10)]"
   ]
  },
  {
   "cell_type": "code",
   "execution_count": 53,
   "metadata": {
    "collapsed": false
   },
   "outputs": [],
   "source": [
    "layout = go.Layout(\n",
    "    title=\"Estimation errors using predict-shared data -no outliers\",\n",
    "    titlefont = dict(\n",
    "            size=22),\n",
    "    xaxis=dict(\n",
    "        title=\"Classifier and Attribute Selection method\",\n",
    "        titlefont = dict(\n",
    "            size=15),\n",
    "        showticklabels=True,\n",
    "        tickangle=35,\n",
    "        tickfont=dict(\n",
    "            size=9,\n",
    "            color='black')\n",
    "    ),\n",
    "    yaxis=dict(\n",
    "        title=\"Absolute Error\",\n",
    "        titlefont = dict(\n",
    "            size=15),\n",
    "        showticklabels=True,\n",
    "        tickfont=dict(\n",
    "            size=9,\n",
    "            color='black')\n",
    "    ))\n",
    "fig3 = dfNoOutliers.iplot(kind='bar',filename=\"errors_noOutliers\",layout=layout)"
   ]
  },
  {
   "cell_type": "code",
   "execution_count": 54,
   "metadata": {
    "collapsed": false
   },
   "outputs": [
    {
     "name": "stderr",
     "output_type": "stream",
     "text": [
      "/Users/sreejithmenon/anaconda/lib/python3.5/site-packages/ipykernel/__main__.py:4: SettingWithCopyWarning:\n",
      "\n",
      "\n",
      "A value is trying to be set on a copy of a slice from a DataFrame\n",
      "\n",
      "See the caveats in the documentation: http://pandas.pydata.org/pandas-docs/stable/indexing.html#indexing-view-versus-copy\n",
      "\n"
     ]
    },
    {
     "data": {
      "text/html": [
       "<div>\n",
       "<table border=\"1\" class=\"dataframe\">\n",
       "  <thead>\n",
       "    <tr style=\"text-align: right;\">\n",
       "      <th></th>\n",
       "      <th>norm_error_zebra_pop</th>\n",
       "      <th>norm_error_giraffe_pop</th>\n",
       "    </tr>\n",
       "    <tr>\n",
       "      <th>Predicted_Shared_proportion</th>\n",
       "      <th></th>\n",
       "      <th></th>\n",
       "    </tr>\n",
       "  </thead>\n",
       "  <tbody>\n",
       "    <tr>\n",
       "      <th>0.001533</th>\n",
       "      <td>-1.0</td>\n",
       "      <td>-1.000000</td>\n",
       "    </tr>\n",
       "    <tr>\n",
       "      <th>0.035720</th>\n",
       "      <td>-1.0</td>\n",
       "      <td>-0.254237</td>\n",
       "    </tr>\n",
       "    <tr>\n",
       "      <th>0.014104</th>\n",
       "      <td>-1.0</td>\n",
       "      <td>-1.000000</td>\n",
       "    </tr>\n",
       "    <tr>\n",
       "      <th>0.020389</th>\n",
       "      <td>-1.0</td>\n",
       "      <td>-1.000000</td>\n",
       "    </tr>\n",
       "    <tr>\n",
       "      <th>0.001226</th>\n",
       "      <td>-1.0</td>\n",
       "      <td>-1.000000</td>\n",
       "    </tr>\n",
       "  </tbody>\n",
       "</table>\n",
       "</div>"
      ],
      "text/plain": [
       "                             norm_error_zebra_pop  norm_error_giraffe_pop\n",
       "Predicted_Shared_proportion                                              \n",
       "0.001533                                     -1.0               -1.000000\n",
       "0.035720                                     -1.0               -0.254237\n",
       "0.014104                                     -1.0               -1.000000\n",
       "0.020389                                     -1.0               -1.000000\n",
       "0.001226                                     -1.0               -1.000000"
      ]
     },
     "execution_count": 54,
     "metadata": {},
     "output_type": "execute_result"
    }
   ],
   "source": [
    "# predicted shared proportion (x) vs normalized error zebra (y1) and giraffe (y2)? thanks!\n",
    "dfNewPlot = dfFull[['Predicted_Shared_proportion','norm_error_zebra_pop','norm_error_giraffe_pop']]\n",
    "dfNewPlot.index = dfNewPlot['Predicted_Shared_proportion']/100\n",
    "dfNewPlot.drop(['Predicted_Shared_proportion'],1,inplace=True)\n",
    "dfNewPlot.head()"
   ]
  },
  {
   "cell_type": "code",
   "execution_count": 55,
   "metadata": {
    "collapsed": false
   },
   "outputs": [],
   "source": [
    "layout = go.Layout(\n",
    "    title=\"Predicted Shared Proportion versus Norm Error\",\n",
    "    titlefont = dict(\n",
    "            size=22),\n",
    "    xaxis=dict(\n",
    "        title=\"Predicted Share Proportion\",\n",
    "        titlefont = dict(\n",
    "            size=15),\n",
    "        showticklabels=True,\n",
    "        tickangle=35,\n",
    "        tickfont=dict(\n",
    "            size=9,\n",
    "            color='black')\n",
    "    ),\n",
    "    yaxis=dict(\n",
    "        title=\"Normalized Error\",\n",
    "        titlefont = dict(\n",
    "            size=15),\n",
    "        showticklabels=True,\n",
    "        tickfont=dict(\n",
    "            size=9,\n",
    "            color='black')\n",
    "    )\n",
    "    )\n",
    "fig4 = dfNewPlot.iplot(kind='bar',filename=\"predictedSharedVsError\",layout=layout)"
   ]
  },
  {
   "cell_type": "code",
   "execution_count": 58,
   "metadata": {
    "collapsed": false
   },
   "outputs": [],
   "source": [
    "fullFl = HT.HTML(HT.body(HT.h2(\"Population Estimates using predicted shared data - master table\"),\n",
    "                HT.HTML(dfFull.to_html(index=False)),\n",
    "                HT.HTML(fig1.embed_code),\n",
    "                HT.HTML(fig2.embed_code),\n",
    "                HT.HTML(fig3.embed_code),\n",
    "                HT.HTML(fig4.embed_code)\n",
    "               ))\n",
    "\n",
    "\n",
    "outputFile = open(\"../FinalResults/PopulationEstimationUsingClf.html\",\"w\")\n",
    "outputFile.write(fullFl)\n",
    "outputFile.close()"
   ]
  },
  {
   "cell_type": "markdown",
   "metadata": {},
   "source": [
    "## Synthetic Experiments\n",
    "\n",
    "### Synthetic Experiment #1\n",
    "#### Assign a score to each image (here probability) and select the top 'k' images for each contributor and share them\n",
    "#### Calculate the population estimate\n",
    "\n",
    "\n",
    "### Synthetic Experiment #2\n",
    "#### Assign a score to each image (here probability) and select the top 'x' images for each contributor where x is a random number and share them\n",
    "#### Calculate the population estimate"
   ]
  },
  {
   "cell_type": "code",
   "execution_count": 156,
   "metadata": {
    "collapsed": false
   },
   "outputs": [],
   "source": [
    "appearanceDays = {}\n",
    "for card in sdCards.keys():\n",
    "    pred_results = {gid : predResults[gid] for gid in sdCards[card] if gid != '3644'}\n",
    "    dfPredRes = pd.DataFrame(pred_results,index=['share']).transpose().reset_index()\n",
    "    dfPredRes.columns = ['GID','share']\n",
    "    appearanceDays[card] = set(pd.DataFrame.merge(dfPredRes,dfGidDays,on='GID').to_dict()['day'].values())"
   ]
  },
  {
   "cell_type": "code",
   "execution_count": 157,
   "metadata": {
    "collapsed": false
   },
   "outputs": [
    {
     "data": {
      "text/plain": [
       "{'GIRM_MUGU_20,hyrule:joncrall:/media/raid/work/GIRM_MUGU_20,,,,,0': set(),\n",
       " \"NNP GZC Car '10WHITE', Person 'A'\": {1},\n",
       " \"NNP GZC Car '11WHITE', Person 'A'\": {1},\n",
       " \"NNP GZC Car '12WHITE', Person 'A'\": {1},\n",
       " \"NNP GZC Car '13WHITE', Person 'A'\": {1},\n",
       " \"NNP GZC Car '13WHITE', Person 'B'\": {1},\n",
       " \"NNP GZC Car '14WHITE', Person 'A'\": {1},\n",
       " \"NNP GZC Car '15WHITE', Person 'A'\": {1},\n",
       " \"NNP GZC Car '15WHITE', Person 'B'\": {1},\n",
       " \"NNP GZC Car '15WHITE', Person 'C'\": {1},\n",
       " \"NNP GZC Car '15WHITE', Person 'D'\": {1},\n",
       " \"NNP GZC Car '16WHITE', Person 'A'\": {1},\n",
       " \"NNP GZC Car '17WHITE', Person 'A'\": {1},\n",
       " \"NNP GZC Car '17WHITE', Person 'C'\": {1},\n",
       " \"NNP GZC Car '1BLUE', Person 'A'\": {1},\n",
       " \"NNP GZC Car '1BLUE', Person 'B'\": {1},\n",
       " \"NNP GZC Car '1BLUE', Person 'C'\": {1},\n",
       " \"NNP GZC Car '1BLUE', Person 'D'\": {1},\n",
       " \"NNP GZC Car '1PURPLE', Person 'A'\": {1},\n",
       " \"NNP GZC Car '1PURPLE', Person 'B'\": {1},\n",
       " \"NNP GZC Car '1PURPLE', Person 'C'\": set(),\n",
       " \"NNP GZC Car '1PURPLE', Person 'D'\": {1},\n",
       " \"NNP GZC Car '1RED', Person 'A'\": {2},\n",
       " \"NNP GZC Car '1RED', Person 'B'\": {2},\n",
       " \"NNP GZC Car '1WHITE', Person 'A'\": {1},\n",
       " \"NNP GZC Car '1WHITE', Person 'B'\": {1},\n",
       " \"NNP GZC Car '1WHITE', Person 'C'\": {1},\n",
       " \"NNP GZC Car '25PURPLE', Person 'A'\": set(),\n",
       " \"NNP GZC Car '2RED', Person 'A'\": {2},\n",
       " \"NNP GZC Car '2RED', Person 'B'\": {2},\n",
       " \"NNP GZC Car '2RED', Person 'C'\": {2},\n",
       " \"NNP GZC Car '2RED', Person 'D'\": {2},\n",
       " \"NNP GZC Car '2RED', Person 'E'\": {2},\n",
       " \"NNP GZC Car '2WHITE', Person 'A'\": {1},\n",
       " \"NNP GZC Car '3PURPLE', Person 'A'\": {1},\n",
       " \"NNP GZC Car '3PURPLE', Person 'B'\": {1},\n",
       " \"NNP GZC Car '3RED', Person 'A'\": {2},\n",
       " \"NNP GZC Car '3RED', Person 'B'\": {2},\n",
       " \"NNP GZC Car '3WHITE', Person 'A'\": {1},\n",
       " \"NNP GZC Car '4RED', Person 'A'\": {2},\n",
       " \"NNP GZC Car '4RED', Person 'B'\": {2},\n",
       " \"NNP GZC Car '4WHITE', Person 'A'\": {1},\n",
       " \"NNP GZC Car '5RED', Person 'A'\": {2},\n",
       " \"NNP GZC Car '5RED', Person 'C'\": {2},\n",
       " \"NNP GZC Car '5WHITE', Person 'A'\": {1},\n",
       " \"NNP GZC Car '6RED', Person 'A'\": {2},\n",
       " \"NNP GZC Car '6RED', Person 'B'\": {2},\n",
       " \"NNP GZC Car '6WHITE', Person 'B'\": {1},\n",
       " \"NNP GZC Car '7WHITE', Person 'A'\": {1},\n",
       " \"NNP GZC Car '7WHITE', Person 'B'\": {1},\n",
       " \"NNP GZC Car '8WHITE', Person 'A'\": {1},\n",
       " \"NNP GZC Car '9WHITE', Person 'A'\": {1},\n",
       " 'NNP_Master,pachy.cs.uic.edu:jonc:/home/shared_ibeis/data/work/NNP_Master,,,,,6': set(),\n",
       " 'PZ_MUGU_18,hyrule:joncrall:/media/raid/work/PZ_MUGU_18,,,,,0': set(),\n",
       " 'PZ_MUGU_19,hyrule:joncrall:/media/raid/work/PZ_MUGU_19,,,,,0': set(),\n",
       " 'PZ_MUGU_20,hyrule:joncrall:/media/raid/work/PZ_MUGU_20,,,,,0': set()}"
      ]
     },
     "execution_count": 157,
     "metadata": {},
     "output_type": "execute_result"
    }
   ],
   "source": [
    "appearanceDays"
   ]
  },
  {
   "cell_type": "code",
   "execution_count": 39,
   "metadata": {
    "collapsed": false
   },
   "outputs": [
    {
     "name": "stdout",
     "output_type": "stream",
     "text": [
      "High five! You successfuly sent some data to your account on plotly. View your plot in your browser at https://plot.ly/~kamblenoopur/0 or inside your plot.ly account where it is named 'All linear regressors bottom k choices'\n"
     ]
    }
   ],
   "source": [
    "l = PE.buildErrPlots('rgr')"
   ]
  },
  {
   "cell_type": "code",
   "execution_count": 40,
   "metadata": {
    "collapsed": false
   },
   "outputs": [
    {
     "name": "stdout",
     "output_type": "stream",
     "text": [
      "<iframe id=\"igraph\" scrolling=\"no\" style=\"border:none;\" seamless=\"seamless\" src=\"https://plot.ly/~kamblenoopur/0.embed\" height=\"525px\" width=\"100%\"></iframe>\n",
      "<p>X-axis : k <br>Y axis = Percentage Error</p>\n",
      "\n",
      "<iframe id=\"igraph\" scrolling=\"no\" style=\"border:none;\" seamless=\"seamless\" src=\"https://plot.ly/~kamblenoopur/2.embed\" height=\"525px\" width=\"100%\"></iframe>\n",
      "<p>X-axis : k <br>Y axis = Percentage Error</p>\n",
      "\n",
      "<iframe id=\"igraph\" scrolling=\"no\" style=\"border:none;\" seamless=\"seamless\" src=\"https://plot.ly/~kamblenoopur/4.embed\" height=\"525px\" width=\"100%\"></iframe>\n",
      "<p>X-axis : k <br>Y axis = Percentage Error</p>\n",
      "\n",
      "<iframe id=\"igraph\" scrolling=\"no\" style=\"border:none;\" seamless=\"seamless\" src=\"https://plot.ly/~kamblenoopur/6.embed\" height=\"525px\" width=\"100%\"></iframe>\n",
      "<p>X-axis : k <br>Y axis = Percentage Error</p>\n",
      "\n",
      "<iframe id=\"igraph\" scrolling=\"no\" style=\"border:none;\" seamless=\"seamless\" src=\"https://plot.ly/~kamblenoopur/8.embed\" height=\"525px\" width=\"100%\"></iframe>\n",
      "<p>X-axis : k <br>Y axis = Percentage Error</p>\n",
      "\n",
      "<iframe id=\"igraph\" scrolling=\"no\" style=\"border:none;\" seamless=\"seamless\" src=\"https://plot.ly/~kamblenoopur/10.embed\" height=\"525px\" width=\"100%\"></iframe>\n",
      "<p>X-axis : k <br>Y axis = Percentage Error</p>\n",
      "\n",
      "<iframe id=\"igraph\" scrolling=\"no\" style=\"border:none;\" seamless=\"seamless\" src=\"https://plot.ly/~kamblenoopur/12.embed\" height=\"525px\" width=\"100%\"></iframe>\n",
      "<p>X-axis : k <br>Y axis = Percentage Error</p>\n",
      "\n",
      "<iframe id=\"igraph\" scrolling=\"no\" style=\"border:none;\" seamless=\"seamless\" src=\"https://plot.ly/~kamblenoopur/14.embed\" height=\"525px\" width=\"100%\"></iframe>\n",
      "<p>X-axis : k <br>Y axis = Percentage Error</p>\n",
      "\n",
      "<iframe id=\"igraph\" scrolling=\"no\" style=\"border:none;\" seamless=\"seamless\" src=\"https://plot.ly/~kamblenoopur/16.embed\" height=\"525px\" width=\"100%\"></iframe>\n",
      "<p>X-axis : k <br>Y axis = Percentage Error</p>\n",
      "\n"
     ]
    }
   ],
   "source": [
    "for ifrm in l:\n",
    "    print(ifrm)\n",
    "    print(\"<p>X-axis : k <br>Y axis = Percentage Error</p>\")\n",
    "    print()"
   ]
  },
  {
   "cell_type": "code",
   "execution_count": null,
   "metadata": {
    "collapsed": true
   },
   "outputs": [],
   "source": []
  }
 ],
 "metadata": {
  "kernelspec": {
   "display_name": "Python 3",
   "language": "python",
   "name": "python3"
  },
  "language_info": {
   "codemirror_mode": {
    "name": "ipython",
    "version": 3
   },
   "file_extension": ".py",
   "mimetype": "text/x-python",
   "name": "python",
   "nbconvert_exporter": "python",
   "pygments_lexer": "ipython3",
   "version": "3.5.2"
  }
 },
 "nbformat": 4,
 "nbformat_minor": 0
}
