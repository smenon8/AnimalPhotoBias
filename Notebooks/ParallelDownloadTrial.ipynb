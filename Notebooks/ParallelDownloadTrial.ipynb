{
 "cells": [
  {
   "cell_type": "code",
   "execution_count": 11,
   "metadata": {
    "collapsed": false
   },
   "outputs": [],
   "source": [
    "import UploadAndDetectIBEIS as api\n",
    "import importlib\n",
    "import json\n",
    "import flickrapi as f\n",
    "import uuid\n",
    "import re\n",
    "importlib.reload(api)\n",
    "\n",
    "# new imports for parallel downloads\n",
    "from urllib.request import urlretrieve\n",
    "from time import time\n",
    "from functools import partial\n",
    "from multiprocessing.pool import Pool"
   ]
  },
  {
   "cell_type": "code",
   "execution_count": 9,
   "metadata": {
    "collapsed": false
   },
   "outputs": [],
   "source": [
    "def download_link(directory,url):\n",
    "    flName = str(directory + str(os.path.basename(url)))\n",
    "    urlretrieve(url, flName)"
   ]
  },
  {
   "cell_type": "code",
   "execution_count": 10,
   "metadata": {
    "collapsed": false
   },
   "outputs": [
    {
     "name": "stdout",
     "output_type": "stream",
     "text": [
      "/tmp/images/29745502122_c6abb95356_b.jpg\n",
      "/tmp/images/29750184566_46dff3c6ce_b.jpg\n",
      "/tmp/images/29336674321_0e62657885_b.jpg\n",
      "/tmp/images/29278088660_d1c20ca9e3_b.jpg\n",
      "/tmp/images/29333545105_72d96360e8_b.jpg\n",
      "/tmp/images/28944599223_6d93cf6bc7_b.jpg\n",
      "/tmp/images/29046136300_d044714bec_b.jpg\n",
      "/tmp/images/29213739781_12f7b24944_b.jpg\n",
      "/tmp/images/28712656153_6b7f87a756_b.jpg\n",
      "/tmp/images/29333585435_d3280713f7_b.jpg\n",
      "/tmp/images/28712657593_eef801f5f3_b.jpg\n",
      "/tmp/images/29278084490_4a96b34666_b.jpg\n",
      "/tmp/images/29112309724_e18b679790_b.jpg\n",
      "/tmp/images/29114171072_165b1b4806_b.jpg\n",
      "/tmp/images/29309405941_cb973c54f8_b.jpg\n",
      "/tmp/images/29565786710_f01f9becb6_b.jpg\n",
      "/tmp/images/29278026430_263c6ee4da_b.jpg\n",
      "/tmp/images/28710558934_e4a4d305bd_b.jpg\n",
      "/tmp/images/28712655343_4b8fcf0bcb_b.jpg\n",
      "/tmp/images/29333581895_f24b6b56a6_b.jpg\n",
      "/tmp/images/28944641803_f5e4f3951d_b.jpg\n",
      "/tmp/images/28712656983_13d079c479_b.jpg\n",
      "/tmp/images/29527776451_653478cea5_b.jpg\n",
      "/tmp/images/29856808815_a98c1ef865_b.jpg\n",
      "/tmp/images/28942361514_ff418df2f8_b.jpg\n",
      "/tmp/images/29138498185_cba7de2fc7_b.jpg\n",
      "/tmp/images/29333588895_5f10b4d325_b.jpg\n",
      "/tmp/images/29333579755_a2bca4119e_b.jpg\n",
      "/tmp/images/29299928236_6bf476f522_b.jpg\n",
      "/tmp/images/29254711791_b52e58d5de_b.jpg\n",
      "/tmp/images/28517064263_a603a303b1_b.jpg\n",
      "/tmp/images/28918639631_be1d629a55_b.jpg\n",
      "/tmp/images/28083805564_69ae4060ed_b.jpg\n",
      "/tmp/images/27644261084_10f6838167_b.jpg\n",
      "/tmp/images/28181698821_8386628f06_b.jpg\n",
      "/tmp/images/27326689563_85b6923236_b.jpg\n",
      "/tmp/images/27238063965_0309ca0bf2_b.jpg\n",
      "/tmp/images/26519333074_173cde30c0_b.jpg\n",
      "/tmp/images/26052329714_12495cafe5_b.jpg\n",
      "/tmp/images/26130955790_d7553495a5_b.jpg\n",
      "/tmp/images/28891815401_4f5a8d6c32_b.jpg\n",
      "/tmp/images/28838363560_80f2eae3c5_b.jpg\n",
      "/tmp/images/28181711151_b5a6050008_b.jpg\n",
      "/tmp/images/28235513581_6783e2a860_b.jpg\n",
      "/tmp/images/27792789972_56f4b14329_b.jpg\n",
      "/tmp/images/27203927556_16142c504c_b.jpg\n",
      "/tmp/images/28097342116_efb1737796_b.jpg\n",
      "/tmp/images/25792278913_c7168ab73c_b.jpg\n",
      "/tmp/images/29071131135_2af0de087f_b.jpg\n",
      "/tmp/images/26500996742_1991ba7354_b.jpg\n",
      "/tmp/images/27009277875_c75f7a800a_b.jpg\n",
      "/tmp/images/28763761951_297c3ee8f9_b.jpg\n",
      "/tmp/images/27238068275_2694bfdd50_b.jpg\n",
      "/tmp/images/28259615605_6c9f975182_b.jpg\n",
      "/tmp/images/28028508892_d651a4a3d8_b.jpg\n",
      "/tmp/images/27129420850_79d0c3426d_b.jpg\n",
      "/tmp/images/28181714541_88fb16f8ff_b.jpg\n",
      "/tmp/images/26302677842_31bd8af1c7_b.jpg\n",
      "/tmp/images/26363016262_6f7633dae0_b.jpg\n",
      "/tmp/images/26122165480_a35bc6ff15_b.jpg\n",
      "/tmp/images/25718798594_b7497939fd_b.jpg\n",
      "/tmp/images/25523314290_b1d5487968_b.jpg\n",
      "/tmp/images/24707946393_e5d5f66406_b.jpg\n",
      "/tmp/images/24532773863_d0e0e499e2_b.jpg\n",
      "/tmp/images/25074214635_6172b54533_b.jpg\n",
      "/tmp/images/24228881423_77bee4419c_b.jpg\n",
      "/tmp/images/23859809094_a810797ccd_b.jpg\n",
      "/tmp/images/24158991210_bb2a5c18d6_b.jpg\n",
      "/tmp/images/26108574940_96453183e9_b.jpg\n",
      "/tmp/images/25662299401_b33397ac42_b.jpg\n",
      "/tmp/images/25958323642_8296dfce97_b.jpg\n",
      "/tmp/images/24831071789_7a063d1cba_b.jpg\n",
      "/tmp/images/23667302744_5f0de7b30d_b.jpg\n",
      "/tmp/images/24495688474_e412b0dfdd_b.jpg\n",
      "/tmp/images/24980885251_23b3babf6d_b.jpg\n",
      "/tmp/images/24158999630_8d013b0070_b.jpg\n",
      "/tmp/images/24576742672_ccac3cea3f_b.jpg\n",
      "/tmp/images/25925740341_6ccdeecedf_b.jpg\n",
      "/tmp/images/25776469023_47f39a1575_b.jpg\n",
      "/tmp/images/26618793572_ed3fed5653_b.jpg\n",
      "/tmp/images/25378411820_6f4afb25f4_b.jpg\n",
      "/tmp/images/24571873913_e140a04a0d_b.jpg\n",
      "/tmp/images/24810884090_afd3b26d0c_b.jpg\n",
      "/tmp/images/24295529775_68c969b654_b.jpg\n",
      "/tmp/images/24887958036_7f6f583b0d_b.jpg\n",
      "/tmp/images/24372134771_1fd056ea8d_b.jpg\n",
      "/tmp/images/23927673909_94599e09f4_b.jpg\n",
      "/tmp/images/24127776361_09780d9dac_b.jpg\n",
      "/tmp/images/24184212076_f298a44262_b.jpg\n",
      "/tmp/images/24175893885_c3ac38d8bf_b.jpg\n",
      "/tmp/images/27838291592_c3d90e74ae_b.jpg\n",
      "/tmp/images/24584076336_f1d2aa3b82_b.jpg\n",
      "/tmp/images/23583514273_1a8ca27dc3_b.jpg\n",
      "/tmp/images/23999914270_f02f2ef782_b.jpg\n",
      "/tmp/images/24184021316_e5a0f11e17_b.jpg\n",
      "/tmp/images/24102252642_bd0d280eb2_b.jpg\n",
      "/tmp/images/23866647080_ce6ba5ba52_b.jpg\n",
      "/tmp/images/23999908340_4f15f59b4a_b.jpg\n",
      "/tmp/images/23564971224_12512b61d8_b.jpg\n",
      "/tmp/images/27661074660_d0e48815e6_b.jpg\n",
      "Took 8.581938028335571s\n"
     ]
    }
   ],
   "source": [
    "ts = time()\n",
    "download_dir = \"/tmp/images/\"\n",
    "\n",
    "download = partial(download_link, download_dir)\n",
    "with Pool(10) as p:\n",
    "    p.map(download, urlList)\n",
    "    \n",
    "print('Took {}s'.format(time() - ts))"
   ]
  },
  {
   "cell_type": "code",
   "execution_count": 8,
   "metadata": {
    "collapsed": false
   },
   "outputs": [
    {
     "data": {
      "text/plain": [
       "'29745502122_c6abb95356_b.jpg'"
      ]
     },
     "execution_count": 8,
     "metadata": {},
     "output_type": "execute_result"
    }
   ],
   "source": [
    "str(os.path.basename(urlList[0][-28:]))"
   ]
  },
  {
   "cell_type": "code",
   "execution_count": 12,
   "metadata": {
    "collapsed": false
   },
   "outputs": [
    {
     "ename": "ConnectionError",
     "evalue": "('Connection aborted.', BrokenPipeError(32, 'Broken pipe'))",
     "output_type": "error",
     "traceback": [
      "\u001b[0;31m---------------------------------------------------------------------------\u001b[0m",
      "\u001b[0;31mRemoteTraceback\u001b[0m                           Traceback (most recent call last)",
      "\u001b[0;31mRemoteTraceback\u001b[0m: \n\"\"\"\nTraceback (most recent call last):\n  File \"/Users/sreejithmenon/anaconda/lib/python3.5/site-packages/requests/packages/urllib3/connectionpool.py\", line 578, in urlopen\n    chunked=chunked)\n  File \"/Users/sreejithmenon/anaconda/lib/python3.5/site-packages/requests/packages/urllib3/connectionpool.py\", line 362, in _make_request\n    conn.request(method, url, **httplib_request_kw)\n  File \"/Users/sreejithmenon/anaconda/lib/python3.5/http/client.py\", line 1106, in request\n    self._send_request(method, url, body, headers)\n  File \"/Users/sreejithmenon/anaconda/lib/python3.5/http/client.py\", line 1151, in _send_request\n    self.endheaders(body)\n  File \"/Users/sreejithmenon/anaconda/lib/python3.5/http/client.py\", line 1102, in endheaders\n    self._send_output(message_body)\n  File \"/Users/sreejithmenon/anaconda/lib/python3.5/http/client.py\", line 936, in _send_output\n    self.send(message_body)\n  File \"/Users/sreejithmenon/anaconda/lib/python3.5/http/client.py\", line 908, in send\n    self.sock.sendall(data)\nBrokenPipeError: [Errno 32] Broken pipe\n\nDuring handling of the above exception, another exception occurred:\n\nTraceback (most recent call last):\n  File \"/Users/sreejithmenon/anaconda/lib/python3.5/site-packages/requests/adapters.py\", line 403, in send\n    timeout=timeout\n  File \"/Users/sreejithmenon/anaconda/lib/python3.5/site-packages/requests/packages/urllib3/connectionpool.py\", line 623, in urlopen\n    _stacktrace=sys.exc_info()[2])\n  File \"/Users/sreejithmenon/anaconda/lib/python3.5/site-packages/requests/packages/urllib3/util/retry.py\", line 255, in increment\n    raise six.reraise(type(error), error, _stacktrace)\n  File \"/Users/sreejithmenon/anaconda/lib/python3.5/site-packages/requests/packages/urllib3/packages/six.py\", line 309, in reraise\n    raise value.with_traceback(tb)\n  File \"/Users/sreejithmenon/anaconda/lib/python3.5/site-packages/requests/packages/urllib3/connectionpool.py\", line 578, in urlopen\n    chunked=chunked)\n  File \"/Users/sreejithmenon/anaconda/lib/python3.5/site-packages/requests/packages/urllib3/connectionpool.py\", line 362, in _make_request\n    conn.request(method, url, **httplib_request_kw)\n  File \"/Users/sreejithmenon/anaconda/lib/python3.5/http/client.py\", line 1106, in request\n    self._send_request(method, url, body, headers)\n  File \"/Users/sreejithmenon/anaconda/lib/python3.5/http/client.py\", line 1151, in _send_request\n    self.endheaders(body)\n  File \"/Users/sreejithmenon/anaconda/lib/python3.5/http/client.py\", line 1102, in endheaders\n    self._send_output(message_body)\n  File \"/Users/sreejithmenon/anaconda/lib/python3.5/http/client.py\", line 936, in _send_output\n    self.send(message_body)\n  File \"/Users/sreejithmenon/anaconda/lib/python3.5/http/client.py\", line 908, in send\n    self.sock.sendall(data)\nrequests.packages.urllib3.exceptions.ProtocolError: ('Connection aborted.', BrokenPipeError(32, 'Broken pipe'))\n\nDuring handling of the above exception, another exception occurred:\n\nTraceback (most recent call last):\n  File \"/Users/sreejithmenon/anaconda/lib/python3.5/multiprocessing/pool.py\", line 119, in worker\n    result = (True, func(*args, **kwds))\n  File \"/Users/sreejithmenon/anaconda/lib/python3.5/multiprocessing/pool.py\", line 44, in mapstar\n    return list(map(*args))\n  File \"/Users/sreejithmenon/Google Drive/Project/AnimalPhotoBias/script/UploadAndDetectIBEIS.py\", line 20, in upload\n    response = requests.post(url, files=file_dict)\n  File \"/Users/sreejithmenon/anaconda/lib/python3.5/site-packages/requests/api.py\", line 111, in post\n    return request('post', url, data=data, json=json, **kwargs)\n  File \"/Users/sreejithmenon/anaconda/lib/python3.5/site-packages/requests/api.py\", line 57, in request\n    return session.request(method=method, url=url, **kwargs)\n  File \"/Users/sreejithmenon/anaconda/lib/python3.5/site-packages/requests/sessions.py\", line 475, in request\n    resp = self.send(prep, **send_kwargs)\n  File \"/Users/sreejithmenon/anaconda/lib/python3.5/site-packages/requests/sessions.py\", line 585, in send\n    r = adapter.send(request, **kwargs)\n  File \"/Users/sreejithmenon/anaconda/lib/python3.5/site-packages/requests/adapters.py\", line 453, in send\n    raise ConnectionError(err, request=request)\nrequests.exceptions.ConnectionError: ('Connection aborted.', BrokenPipeError(32, 'Broken pipe'))\n\"\"\"",
      "\nThe above exception was the direct cause of the following exception:\n",
      "\u001b[0;31mConnectionError\u001b[0m                           Traceback (most recent call last)",
      "\u001b[0;32m<ipython-input-12-3516f4224b02>\u001b[0m in \u001b[0;36m<module>\u001b[0;34m()\u001b[0m\n\u001b[1;32m      4\u001b[0m \u001b[0mupload\u001b[0m \u001b[0;34m=\u001b[0m \u001b[0mpartial\u001b[0m\u001b[0;34m(\u001b[0m\u001b[0mapi\u001b[0m\u001b[0;34m.\u001b[0m\u001b[0mupload\u001b[0m\u001b[0;34m,\u001b[0m \u001b[0mimage_path\u001b[0m\u001b[0;34m)\u001b[0m\u001b[0;34m\u001b[0m\u001b[0m\n\u001b[1;32m      5\u001b[0m \u001b[0;32mwith\u001b[0m \u001b[0mPool\u001b[0m\u001b[0;34m(\u001b[0m\u001b[0;36m10\u001b[0m\u001b[0;34m)\u001b[0m \u001b[0;32mas\u001b[0m \u001b[0mp\u001b[0m\u001b[0;34m:\u001b[0m\u001b[0;34m\u001b[0m\u001b[0m\n\u001b[0;32m----> 6\u001b[0;31m     \u001b[0mp\u001b[0m\u001b[0;34m.\u001b[0m\u001b[0mmap\u001b[0m\u001b[0;34m(\u001b[0m\u001b[0mupload\u001b[0m\u001b[0;34m,\u001b[0m \u001b[0murlList\u001b[0m\u001b[0;34m)\u001b[0m\u001b[0;34m\u001b[0m\u001b[0m\n\u001b[0m\u001b[1;32m      7\u001b[0m \u001b[0;34m\u001b[0m\u001b[0m\n\u001b[1;32m      8\u001b[0m \u001b[0mprint\u001b[0m\u001b[0;34m(\u001b[0m\u001b[0;34m'Took {}s'\u001b[0m\u001b[0;34m.\u001b[0m\u001b[0mformat\u001b[0m\u001b[0;34m(\u001b[0m\u001b[0mtime\u001b[0m\u001b[0;34m(\u001b[0m\u001b[0;34m)\u001b[0m \u001b[0;34m-\u001b[0m \u001b[0mts\u001b[0m\u001b[0;34m)\u001b[0m\u001b[0;34m)\u001b[0m\u001b[0;34m\u001b[0m\u001b[0m\n",
      "\u001b[0;32m/Users/sreejithmenon/anaconda/lib/python3.5/multiprocessing/pool.py\u001b[0m in \u001b[0;36mmap\u001b[0;34m(self, func, iterable, chunksize)\u001b[0m\n\u001b[1;32m    258\u001b[0m         \u001b[0;32min\u001b[0m \u001b[0ma\u001b[0m \u001b[0mlist\u001b[0m \u001b[0mthat\u001b[0m \u001b[0;32mis\u001b[0m \u001b[0mreturned\u001b[0m\u001b[0;34m.\u001b[0m\u001b[0;34m\u001b[0m\u001b[0m\n\u001b[1;32m    259\u001b[0m         '''\n\u001b[0;32m--> 260\u001b[0;31m         \u001b[0;32mreturn\u001b[0m \u001b[0mself\u001b[0m\u001b[0;34m.\u001b[0m\u001b[0m_map_async\u001b[0m\u001b[0;34m(\u001b[0m\u001b[0mfunc\u001b[0m\u001b[0;34m,\u001b[0m \u001b[0miterable\u001b[0m\u001b[0;34m,\u001b[0m \u001b[0mmapstar\u001b[0m\u001b[0;34m,\u001b[0m \u001b[0mchunksize\u001b[0m\u001b[0;34m)\u001b[0m\u001b[0;34m.\u001b[0m\u001b[0mget\u001b[0m\u001b[0;34m(\u001b[0m\u001b[0;34m)\u001b[0m\u001b[0;34m\u001b[0m\u001b[0m\n\u001b[0m\u001b[1;32m    261\u001b[0m \u001b[0;34m\u001b[0m\u001b[0m\n\u001b[1;32m    262\u001b[0m     \u001b[0;32mdef\u001b[0m \u001b[0mstarmap\u001b[0m\u001b[0;34m(\u001b[0m\u001b[0mself\u001b[0m\u001b[0;34m,\u001b[0m \u001b[0mfunc\u001b[0m\u001b[0;34m,\u001b[0m \u001b[0miterable\u001b[0m\u001b[0;34m,\u001b[0m \u001b[0mchunksize\u001b[0m\u001b[0;34m=\u001b[0m\u001b[0;32mNone\u001b[0m\u001b[0;34m)\u001b[0m\u001b[0;34m:\u001b[0m\u001b[0;34m\u001b[0m\u001b[0m\n",
      "\u001b[0;32m/Users/sreejithmenon/anaconda/lib/python3.5/multiprocessing/pool.py\u001b[0m in \u001b[0;36mget\u001b[0;34m(self, timeout)\u001b[0m\n\u001b[1;32m    606\u001b[0m             \u001b[0;32mreturn\u001b[0m \u001b[0mself\u001b[0m\u001b[0;34m.\u001b[0m\u001b[0m_value\u001b[0m\u001b[0;34m\u001b[0m\u001b[0m\n\u001b[1;32m    607\u001b[0m         \u001b[0;32melse\u001b[0m\u001b[0;34m:\u001b[0m\u001b[0;34m\u001b[0m\u001b[0m\n\u001b[0;32m--> 608\u001b[0;31m             \u001b[0;32mraise\u001b[0m \u001b[0mself\u001b[0m\u001b[0;34m.\u001b[0m\u001b[0m_value\u001b[0m\u001b[0;34m\u001b[0m\u001b[0m\n\u001b[0m\u001b[1;32m    609\u001b[0m \u001b[0;34m\u001b[0m\u001b[0m\n\u001b[1;32m    610\u001b[0m     \u001b[0;32mdef\u001b[0m \u001b[0m_set\u001b[0m\u001b[0;34m(\u001b[0m\u001b[0mself\u001b[0m\u001b[0;34m,\u001b[0m \u001b[0mi\u001b[0m\u001b[0;34m,\u001b[0m \u001b[0mobj\u001b[0m\u001b[0;34m)\u001b[0m\u001b[0;34m:\u001b[0m\u001b[0;34m\u001b[0m\u001b[0m\n",
      "\u001b[0;31mConnectionError\u001b[0m: ('Connection aborted.', BrokenPipeError(32, 'Broken pipe'))"
     ]
    }
   ],
   "source": [
    "ts = time()\n",
    "image_path = \"/tmp/images/\"\n",
    "\n",
    "upload = partial(api.upload, image_path)\n",
    "with Pool(10) as p:\n",
    "    p.map(upload, urlList)\n",
    "    \n",
    "print('Took {}s'.format(time() - ts))"
   ]
  },
  {
   "cell_type": "code",
   "execution_count": 14,
   "metadata": {
    "collapsed": false
   },
   "outputs": [
    {
     "data": {
      "text/plain": [
       "9"
      ]
     },
     "execution_count": 14,
     "metadata": {},
     "output_type": "execute_result"
    }
   ],
   "source": [
    "api.upload(\"/tmp/images/\" , urlList[0])"
   ]
  },
  {
   "cell_type": "code",
   "execution_count": null,
   "metadata": {
    "collapsed": true
   },
   "outputs": [],
   "source": []
  }
 ],
 "metadata": {
  "kernelspec": {
   "display_name": "Python 3",
   "language": "python",
   "name": "python3"
  },
  "language_info": {
   "codemirror_mode": {
    "name": "ipython",
    "version": 3
   },
   "file_extension": ".py",
   "mimetype": "text/x-python",
   "name": "python",
   "nbconvert_exporter": "python",
   "pygments_lexer": "ipython3",
   "version": "3.5.2"
  }
 },
 "nbformat": 4,
 "nbformat_minor": 0
}
