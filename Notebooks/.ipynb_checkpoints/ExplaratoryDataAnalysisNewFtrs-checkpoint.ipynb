{
 "cells": [
  {
   "cell_type": "code",
   "execution_count": 4,
   "metadata": {
    "collapsed": false
   },
   "outputs": [],
   "source": [
    "import json\n",
    "import pandas as pd\n",
    "from datetime import datetime\n",
    "import numpy as np\n",
    "import numpy as np\n",
    "import math\n",
    "from plotly.offline import download_plotlyjs, init_notebook_mode, plot, iplot\n",
    "import plotly.graph_objs as go\n",
    "from plotly import tools\n",
    "import plotly.plotly as py\n",
    "import cufflinks as cf\n",
    "cf.go_online()\n",
    "\n",
    "inpExifFl = \"../data/GZC_exifs_beauty_full.json\"\n",
    "\n",
    "with open(inpExifFl,\"r\") as inpJsonFl:\n",
    "    exifJsonObj = json.load(inpJsonFl)"
   ]
  },
  {
   "cell_type": "markdown",
   "metadata": {},
   "source": [
    "## Explaratory data analysis \n",
    "Summary stasitics and distributions"
   ]
  },
  {
   "cell_type": "code",
   "execution_count": 5,
   "metadata": {
    "collapsed": false
   },
   "outputs": [
    {
     "data": {
      "text/html": [
       "<div>\n",
       "<table border=\"1\" class=\"dataframe\">\n",
       "  <thead>\n",
       "    <tr style=\"text-align: right;\">\n",
       "      <th></th>\n",
       "      <th>arousal</th>\n",
       "      <th>dominance</th>\n",
       "      <th>height</th>\n",
       "      <th>hsv_itten_std_h</th>\n",
       "      <th>hsv_itten_std_s</th>\n",
       "      <th>hsv_itten_std_v</th>\n",
       "      <th>lat</th>\n",
       "      <th>long</th>\n",
       "      <th>orientation</th>\n",
       "      <th>pleasure</th>\n",
       "      <th>symmetry</th>\n",
       "      <th>width</th>\n",
       "      <th>day</th>\n",
       "      <th>hour</th>\n",
       "    </tr>\n",
       "  </thead>\n",
       "  <tbody>\n",
       "    <tr>\n",
       "      <th>1</th>\n",
       "      <td>0.0411613</td>\n",
       "      <td>0.42617</td>\n",
       "      <td>4000</td>\n",
       "      <td>145133</td>\n",
       "      <td>184810</td>\n",
       "      <td>225483</td>\n",
       "      <td>-1.3514</td>\n",
       "      <td>36.8002</td>\n",
       "      <td>1</td>\n",
       "      <td>0.366162</td>\n",
       "      <td>6.15084</td>\n",
       "      <td>6000</td>\n",
       "      <td>1</td>\n",
       "      <td>14</td>\n",
       "    </tr>\n",
       "    <tr>\n",
       "      <th>10</th>\n",
       "      <td>-0.0677241</td>\n",
       "      <td>0.500873</td>\n",
       "      <td>4000</td>\n",
       "      <td>105719</td>\n",
       "      <td>140171</td>\n",
       "      <td>133193</td>\n",
       "      <td>-1.36709</td>\n",
       "      <td>36.782</td>\n",
       "      <td>1</td>\n",
       "      <td>0.441554</td>\n",
       "      <td>11.4251</td>\n",
       "      <td>6000</td>\n",
       "      <td>1</td>\n",
       "      <td>15</td>\n",
       "    </tr>\n",
       "    <tr>\n",
       "      <th>100</th>\n",
       "      <td>0.0107685</td>\n",
       "      <td>0.445344</td>\n",
       "      <td>4000</td>\n",
       "      <td>102122</td>\n",
       "      <td>139804</td>\n",
       "      <td>189860</td>\n",
       "      <td>-1.37325</td>\n",
       "      <td>36.8003</td>\n",
       "      <td>1</td>\n",
       "      <td>0.385749</td>\n",
       "      <td>8.83975</td>\n",
       "      <td>6000</td>\n",
       "      <td>1</td>\n",
       "      <td>16</td>\n",
       "    </tr>\n",
       "    <tr>\n",
       "      <th>1000</th>\n",
       "      <td>0.0267916</td>\n",
       "      <td>0.446958</td>\n",
       "      <td>3072</td>\n",
       "      <td>100419</td>\n",
       "      <td>106270</td>\n",
       "      <td>146868</td>\n",
       "      <td>-1.34968</td>\n",
       "      <td>36.806</td>\n",
       "      <td>1</td>\n",
       "      <td>0.385603</td>\n",
       "      <td>10.8675</td>\n",
       "      <td>4608</td>\n",
       "      <td>1</td>\n",
       "      <td>17</td>\n",
       "    </tr>\n",
       "    <tr>\n",
       "      <th>1001</th>\n",
       "      <td>0.0131469</td>\n",
       "      <td>0.445515</td>\n",
       "      <td>3072</td>\n",
       "      <td>107165</td>\n",
       "      <td>112807</td>\n",
       "      <td>144619</td>\n",
       "      <td>-1.34968</td>\n",
       "      <td>36.806</td>\n",
       "      <td>1</td>\n",
       "      <td>0.385667</td>\n",
       "      <td>10.9425</td>\n",
       "      <td>4608</td>\n",
       "      <td>1</td>\n",
       "      <td>17</td>\n",
       "    </tr>\n",
       "  </tbody>\n",
       "</table>\n",
       "</div>"
      ],
      "text/plain": [
       "        arousal dominance height hsv_itten_std_h hsv_itten_std_s  \\\n",
       "1     0.0411613   0.42617   4000          145133          184810   \n",
       "10   -0.0677241  0.500873   4000          105719          140171   \n",
       "100   0.0107685  0.445344   4000          102122          139804   \n",
       "1000  0.0267916  0.446958   3072          100419          106270   \n",
       "1001  0.0131469  0.445515   3072          107165          112807   \n",
       "\n",
       "     hsv_itten_std_v      lat     long orientation  pleasure symmetry width  \\\n",
       "1             225483  -1.3514  36.8002           1  0.366162  6.15084  6000   \n",
       "10            133193 -1.36709   36.782           1  0.441554  11.4251  6000   \n",
       "100           189860 -1.37325  36.8003           1  0.385749  8.83975  6000   \n",
       "1000          146868 -1.34968   36.806           1  0.385603  10.8675  4608   \n",
       "1001          144619 -1.34968   36.806           1  0.385667  10.9425  4608   \n",
       "\n",
       "      day  hour  \n",
       "1       1    14  \n",
       "10      1    15  \n",
       "100     1    16  \n",
       "1000    1    17  \n",
       "1001    1    17  "
      ]
     },
     "execution_count": 5,
     "metadata": {},
     "output_type": "execute_result"
    }
   ],
   "source": [
    "exifDf = pd.DataFrame(exifJsonObj).transpose()\n",
    "\n",
    "exifDf['datetime'] = exifDf['datetime'].apply(lambda x : datetime.strptime(x,'%Y-%m-%d %H:%M:%S'))\n",
    "exifDf['day'] = exifDf.datetime.apply(lambda x : x.day)\n",
    "exifDf['hour'] = exifDf.datetime.apply(lambda x : x.hour)\n",
    "exifDf.drop(['size','datetime'],1,inplace=True)\n",
    "exifDf.head()"
   ]
  },
  {
   "cell_type": "code",
   "execution_count": 9,
   "metadata": {
    "collapsed": false
   },
   "outputs": [
    {
     "name": "stdout",
     "output_type": "stream",
     "text": [
      "This is the format of your plot grid:\n",
      "[ (1,1) x1,y1 ]    [ (1,2) x2,y2 ]  \n",
      "[ (2,1) x3,y3 ]    [ (2,2) x4,y4 ]  \n",
      "[ (3,1) x5,y5 ]    [ (3,2) x6,y6 ]  \n",
      "[ (4,1) x7,y7 ]    [ (4,2) x8,y8 ]  \n",
      "[ (5,1) x9,y9 ]    [ (5,2) x10,y10 ]\n",
      "[ (6,1) x11,y11 ]  [ (6,2) x12,y12 ]\n",
      "[ (7,1) x13,y13 ]  [ (7,2) x14,y14 ]\n",
      "\n"
     ]
    },
    {
     "data": {
      "text/plain": [
       "'file:///Users/sreejithmenon/Google Drive/CodeBase/AWESOME/FinalResults/ExplaratoryDataAnalysis_Distributions.html'"
      ]
     },
     "execution_count": 9,
     "metadata": {},
     "output_type": "execute_result"
    }
   ],
   "source": [
    "trace1 = go.Histogram(\n",
    "        x=exifDf['height']\n",
    "    )\n",
    "\n",
    "trace2 = go.Histogram(\n",
    "        x=exifDf['width']\n",
    "    )\n",
    "\n",
    "trace3 = go.Histogram(\n",
    "        x=exifDf['lat']\n",
    "    )\n",
    "\n",
    "trace4 = go.Histogram(\n",
    "        x=exifDf['long']\n",
    "    )\n",
    "\n",
    "trace5 = go.Histogram(\n",
    "        x=exifDf['orientation']\n",
    "    )\n",
    "\n",
    "trace6 = go.Histogram(\n",
    "        x=exifDf['day']\n",
    "    )\n",
    "\n",
    "trace7 = go.Histogram(\n",
    "        x=exifDf['hour']\n",
    "    )\n",
    "\n",
    "trace8 = go.Histogram(\n",
    "        x=exifDf['pleasure']\n",
    "    )\n",
    "\n",
    "trace9 = go.Histogram(\n",
    "        x=exifDf['arousal']\n",
    "    )\n",
    "\n",
    "trace10 = go.Histogram(\n",
    "        x=exifDf['dominance']\n",
    "    )\n",
    "\n",
    "# trace11 = go.Histogram(\n",
    "#         x=exifDf['y']\n",
    "#     )\n",
    "\n",
    "trace12 = go.Histogram(\n",
    "        x=exifDf['hsv_itten_std_h']\n",
    "    )\n",
    "\n",
    "trace13 = go.Histogram(\n",
    "        x=exifDf['hsv_itten_std_s']\n",
    "    )\n",
    "\n",
    "trace14 = go.Histogram(\n",
    "        x=exifDf['hsv_itten_std_v']\n",
    "    )\n",
    "\n",
    "trace15 = go.Histogram(\n",
    "        x=exifDf['symmetry']\n",
    "    )\n",
    "\n",
    "\n",
    "fig = tools.make_subplots(rows=7, cols=2, subplot_titles=('height','width','lat','long','orientation','day','hour','pleasure','arousal','dominance','hsv_itten_std_h','hsv_itten_std_s','hsv_itten_std_v','symmetry'))\n",
    "\n",
    "fig.append_trace(trace1, 1, 1)\n",
    "fig.append_trace(trace2, 1, 2)\n",
    "fig.append_trace(trace3, 2, 1)\n",
    "fig.append_trace(trace4, 2, 2)\n",
    "fig.append_trace(trace5, 3, 1)\n",
    "fig.append_trace(trace6, 3, 2)\n",
    "fig.append_trace(trace7, 4, 1)\n",
    "fig.append_trace(trace8, 4, 2)\n",
    "fig.append_trace(trace9, 5, 1)\n",
    "fig.append_trace(trace10, 5, 2)\n",
    "fig.append_trace(trace12, 6, 1)\n",
    "fig.append_trace(trace13, 6, 2)\n",
    "fig.append_trace(trace14, 7, 1)\n",
    "fig.append_trace(trace15, 7, 2)\n",
    "\n",
    "\n",
    "fig['layout'].update(showlegend=False, height=1000, width=1000, title='Data distributions')\n",
    "plot(fig, filename='../FinalResults/ExplaratoryDataAnalysis_Distributions.html')"
   ]
  },
  {
   "cell_type": "markdown",
   "metadata": {
    "collapsed": true
   },
   "source": [
    "## Combining result data"
   ]
  },
  {
   "cell_type": "code",
   "execution_count": 10,
   "metadata": {
    "collapsed": false
   },
   "outputs": [],
   "source": [
    "from numpy import arange,array,ones\n",
    "from scipy import stats"
   ]
  },
  {
   "cell_type": "code",
   "execution_count": 6,
   "metadata": {
    "collapsed": false
   },
   "outputs": [],
   "source": [
    "resultsDf = pd.DataFrame.from_csv(\"../FinalResults/resultsExpt2RankList_Tags.csv\")\n",
    "\n",
    "resultsDf = pd.DataFrame(resultsDf['Proportion'])\n",
    "resultsDict = resultsDf.to_dict(orient=\"index\")\n",
    "\n",
    "expt2Results = {}\n",
    "\n",
    "for gid in resultsDict:\n",
    "    expt2Results[str(gid)] = exifJsonObj[str(gid)]\n",
    "    expt2Results[str(gid)].update(resultsDict[gid])"
   ]
  },
  {
   "cell_type": "code",
   "execution_count": 8,
   "metadata": {
    "collapsed": false
   },
   "outputs": [
    {
     "data": {
      "text/html": [
       "<div>\n",
       "<table border=\"1\" class=\"dataframe\">\n",
       "  <thead>\n",
       "    <tr style=\"text-align: right;\">\n",
       "      <th></th>\n",
       "      <th>Proportion</th>\n",
       "      <th>arousal</th>\n",
       "      <th>dominance</th>\n",
       "      <th>height</th>\n",
       "      <th>lat</th>\n",
       "      <th>long</th>\n",
       "      <th>orientation</th>\n",
       "      <th>pleasure</th>\n",
       "      <th>width</th>\n",
       "      <th>y</th>\n",
       "      <th>day</th>\n",
       "      <th>hour</th>\n",
       "    </tr>\n",
       "  </thead>\n",
       "  <tbody>\n",
       "    <tr>\n",
       "      <th>10</th>\n",
       "      <td>20</td>\n",
       "      <td>0.111471</td>\n",
       "      <td>0.0615569</td>\n",
       "      <td>4000</td>\n",
       "      <td>-1.36709</td>\n",
       "      <td>36.782</td>\n",
       "      <td>1</td>\n",
       "      <td>0.0427015</td>\n",
       "      <td>6000</td>\n",
       "      <td>1.4738</td>\n",
       "      <td>1</td>\n",
       "      <td>15</td>\n",
       "    </tr>\n",
       "    <tr>\n",
       "      <th>1000</th>\n",
       "      <td>90</td>\n",
       "      <td>0.171174</td>\n",
       "      <td>0.0929894</td>\n",
       "      <td>3072</td>\n",
       "      <td>-1.34968</td>\n",
       "      <td>36.806</td>\n",
       "      <td>1</td>\n",
       "      <td>0.0642373</td>\n",
       "      <td>4608</td>\n",
       "      <td>2.2988</td>\n",
       "      <td>1</td>\n",
       "      <td>17</td>\n",
       "    </tr>\n",
       "    <tr>\n",
       "      <th>1003</th>\n",
       "      <td>20</td>\n",
       "      <td>0.181342</td>\n",
       "      <td>0.0988021</td>\n",
       "      <td>3072</td>\n",
       "      <td>-1.34965</td>\n",
       "      <td>36.8062</td>\n",
       "      <td>1</td>\n",
       "      <td>0.0683041</td>\n",
       "      <td>4608</td>\n",
       "      <td>1.61078</td>\n",
       "      <td>1</td>\n",
       "      <td>17</td>\n",
       "    </tr>\n",
       "    <tr>\n",
       "      <th>1005</th>\n",
       "      <td>80</td>\n",
       "      <td>0.14526</td>\n",
       "      <td>0.0797596</td>\n",
       "      <td>3072</td>\n",
       "      <td>-1.34965</td>\n",
       "      <td>36.8062</td>\n",
       "      <td>1</td>\n",
       "      <td>0.0552489</td>\n",
       "      <td>4608</td>\n",
       "      <td>1.75693</td>\n",
       "      <td>1</td>\n",
       "      <td>17</td>\n",
       "    </tr>\n",
       "    <tr>\n",
       "      <th>101</th>\n",
       "      <td>20</td>\n",
       "      <td>0.193412</td>\n",
       "      <td>0.104779</td>\n",
       "      <td>4000</td>\n",
       "      <td>-1.37325</td>\n",
       "      <td>36.8003</td>\n",
       "      <td>1</td>\n",
       "      <td>0.0723303</td>\n",
       "      <td>6000</td>\n",
       "      <td>2.42374</td>\n",
       "      <td>1</td>\n",
       "      <td>16</td>\n",
       "    </tr>\n",
       "  </tbody>\n",
       "</table>\n",
       "</div>"
      ],
      "text/plain": [
       "     Proportion   arousal  dominance height      lat     long orientation  \\\n",
       "10           20  0.111471  0.0615569   4000 -1.36709   36.782           1   \n",
       "1000         90  0.171174  0.0929894   3072 -1.34968   36.806           1   \n",
       "1003         20  0.181342  0.0988021   3072 -1.34965  36.8062           1   \n",
       "1005         80   0.14526  0.0797596   3072 -1.34965  36.8062           1   \n",
       "101          20  0.193412   0.104779   4000 -1.37325  36.8003           1   \n",
       "\n",
       "       pleasure width        y  day  hour  \n",
       "10    0.0427015  6000   1.4738    1    15  \n",
       "1000  0.0642373  4608   2.2988    1    17  \n",
       "1003  0.0683041  4608  1.61078    1    17  \n",
       "1005  0.0552489  4608  1.75693    1    17  \n",
       "101   0.0723303  6000  2.42374    1    16  "
      ]
     },
     "execution_count": 8,
     "metadata": {},
     "output_type": "execute_result"
    }
   ],
   "source": [
    "expt2ResultsDf = pd.DataFrame(expt2Results).transpose()\n",
    "\n",
    "expt2ResultsDf['datetime'] = expt2ResultsDf['datetime'].apply(lambda x : datetime.strptime(x,'%Y-%m-%d %H:%M:%S'))\n",
    "expt2ResultsDf['day'] = expt2ResultsDf.datetime.apply(lambda x : x.day)\n",
    "expt2ResultsDf['hour'] = expt2ResultsDf.datetime.apply(lambda x : x.hour)\n",
    "expt2ResultsDf.drop(['size','datetime'],1,inplace=True)\n",
    "expt2ResultsDf.head()"
   ]
  },
  {
   "cell_type": "code",
   "execution_count": 14,
   "metadata": {
    "collapsed": false
   },
   "outputs": [
    {
     "name": "stdout",
     "output_type": "stream",
     "text": [
      "r_value, p_value (0.074352202685934829, 0.0028427023416647415)\n",
      "<iframe id=\"igraph\" scrolling=\"no\" style=\"border:none;\" seamless=\"seamless\" src=\"https://plot.ly/~kamblenoopur/45.embed\" height=\"525px\" width=\"100%\"></iframe>\n"
     ]
    }
   ],
   "source": [
    "def linearRegressPlot(resultDf,xFtr,yStr):\n",
    "    xi = np.array(resultDf[xFtr])\n",
    "    y = list(resultDf[yStr])\n",
    "    slope, intercept, r_value, p_value, std_err = stats.linregress(xi,y)\n",
    "    line = slope*xi+intercept\n",
    "    layout= go.Layout(\n",
    "            title= \"Linear line fit for regression using %s\" %xFtr,\n",
    "            showlegend=False,\n",
    "            xaxis= dict(\n",
    "                title= xFtr,\n",
    "                ticklen= 5,\n",
    "                zeroline= True,\n",
    "                gridwidth= 2\n",
    "            ),\n",
    "            yaxis=dict(\n",
    "                title= yStr,\n",
    "                ticklen= 5,\n",
    "                gridwidth= 2,\n",
    "                #range=range\n",
    "            )\n",
    "        )\n",
    "\n",
    "    trace1 = go.Scatter(\n",
    "                x = xi,\n",
    "                y = y,\n",
    "                mode = 'markers'\n",
    "        )\n",
    "\n",
    "    trace2 = go.Scatter(\n",
    "                x=xi, \n",
    "                y=line, \n",
    "                mode='lines',\n",
    "                name='Fit'\n",
    "                      )\n",
    "\n",
    "    data = [trace1,trace2]\n",
    "\n",
    "    fig = dict(data=data,layout=layout)\n",
    "    figMain = py.iplot(fig,filename= str(\"linear_fit_%s\" %xFtr))\n",
    "    print(\"r_value, p_value\" ,(r_value,p_value))\n",
    "    print(figMain.embed_code)\n",
    "linearRegressPlot(expt2ResultsDf,'y','Proportion')"
   ]
  },
  {
   "cell_type": "code",
   "execution_count": 61,
   "metadata": {
    "collapsed": false
   },
   "outputs": [
    {
     "data": {
      "text/plain": [
       "(-0.0014937529173252762,\n",
       " 54.18473446939938,\n",
       " -0.051100111877733521,\n",
       " 0.040414106564588367,\n",
       " 0.000728251211858464)"
      ]
     },
     "execution_count": 61,
     "metadata": {},
     "output_type": "execute_result"
    }
   ],
   "source": [
    "xi = np.array(expt2ResultsDf['height'])\n",
    "y = list(expt2ResultsDf['Proportion'])\n",
    "slope, intercept, r_value, p_value, std_err = stats.linregress(xi,y)\n",
    "slope, intercept, r_value, p_value, std_err"
   ]
  },
  {
   "cell_type": "code",
   "execution_count": 24,
   "metadata": {
    "collapsed": false
   },
   "outputs": [
    {
     "data": {
      "text/plain": [
       "arousal           0.474509\n",
       "dominance         0.253445\n",
       "height         6000.000000\n",
       "lat              -1.000000\n",
       "long             36.940439\n",
       "orientation       8.000000\n",
       "pleasure          0.174311\n",
       "width          6016.000000\n",
       "y                28.436735\n",
       "day              31.000000\n",
       "hour             23.000000\n",
       "dtype: float64"
      ]
     },
     "execution_count": 24,
     "metadata": {},
     "output_type": "execute_result"
    }
   ],
   "source": [
    "exifDf.max()"
   ]
  },
  {
   "cell_type": "code",
   "execution_count": 6,
   "metadata": {
    "collapsed": false
   },
   "outputs": [
    {
     "data": {
      "text/plain": [
       "Index(['arousal', 'dominance', 'height', 'hsv_itten_std_h', 'hsv_itten_std_s',\n",
       "       'hsv_itten_std_v', 'lat', 'long', 'orientation', 'pleasure', 'symmetry',\n",
       "       'width', 'day', 'hour'],\n",
       "      dtype='object')"
      ]
     },
     "execution_count": 6,
     "metadata": {},
     "output_type": "execute_result"
    }
   ],
   "source": [
    "exifDf.columns"
   ]
  },
  {
   "cell_type": "code",
   "execution_count": null,
   "metadata": {
    "collapsed": true
   },
   "outputs": [],
   "source": []
  },
  {
   "cell_type": "code",
   "execution_count": null,
   "metadata": {
    "collapsed": true
   },
   "outputs": [],
   "source": []
  }
 ],
 "metadata": {
  "kernelspec": {
   "display_name": "Python 3",
   "language": "python",
   "name": "python3"
  },
  "language_info": {
   "codemirror_mode": {
    "name": "ipython",
    "version": 3
   },
   "file_extension": ".py",
   "mimetype": "text/x-python",
   "name": "python",
   "nbconvert_exporter": "python",
   "pygments_lexer": "ipython3",
   "version": "3.5.2"
  }
 },
 "nbformat": 4,
 "nbformat_minor": 0
}
