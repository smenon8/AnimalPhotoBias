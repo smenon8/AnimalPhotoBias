{
 "cells": [
  {
   "cell_type": "code",
   "execution_count": 38,
   "metadata": {
    "collapsed": false
   },
   "outputs": [],
   "source": [
    "import cufflinks as cf # this is necessary to link pandas to plotly\n",
    "cf.go_online()\n",
    "import json\n",
    "import plotly.graph_objs as go\n",
    "import pandas as pd\n",
    "import htmltag as HT\n",
    "import PopulationEstimatorFromClf as PE\n",
    "import random\n",
    "import DataStructsHelperAPI as DS"
   ]
  },
  {
   "cell_type": "markdown",
   "metadata": {},
   "source": [
    "### Logic for creating the comma seperated aggregate data file\n",
    "Not needed to run every time"
   ]
  },
  {
   "cell_type": "code",
   "execution_count": null,
   "metadata": {
    "collapsed": true
   },
   "outputs": [],
   "source": [
    "attribs = [ 'GID', 'AID', 'AGE',\n",
    "       'EXEMPLAR_FLAG', 'INDIVIDUAL_NAME', 'NID', 'QUALITY', 'SEX', 'SPECIES',\n",
    "       'VIEW_POINT','CONTRIBUTOR']\n",
    "\n",
    "df = ImageMap.genGidAidFtrDf(\"../data/full_gid_aid_map.json\",\"../data/full_aid_features.json\",'../data/full_gid_aid_ftr.csv')\n",
    "df_comb = ImageMap.createMstrFl(\"../data/full_gid_aid_ftr.csv\",\"../data/GZC_data_tagged.json\",attribs,\"../data/full_gid_aid_ftr_agg.csv\")"
   ]
  },
  {
   "cell_type": "markdown",
   "metadata": {},
   "source": [
    "## Visuals for accuracies of predictions"
   ]
  },
  {
   "cell_type": "code",
   "execution_count": 46,
   "metadata": {
    "collapsed": true
   },
   "outputs": [],
   "source": [
    "with open(\"../FinalResults/PopulationEstimate.json\",\"r\") as jsonFl:\n",
    "    resObj = json.load(jsonFl)"
   ]
  },
  {
   "cell_type": "code",
   "execution_count": 47,
   "metadata": {
    "collapsed": false
   },
   "outputs": [
    {
     "name": "stderr",
     "output_type": "stream",
     "text": [
      "/Users/sreejithmenon/anaconda/lib/python3.5/site-packages/ipykernel/__main__.py:10: SettingWithCopyWarning:\n",
      "\n",
      "\n",
      "A value is trying to be set on a copy of a slice from a DataFrame.\n",
      "Try using .loc[row_indexer,col_indexer] = value instead\n",
      "\n",
      "See the caveats in the documentation: http://pandas.pydata.org/pandas-docs/stable/indexing.html#indexing-view-versus-copy\n",
      "\n",
      "/Users/sreejithmenon/anaconda/lib/python3.5/site-packages/ipykernel/__main__.py:11: SettingWithCopyWarning:\n",
      "\n",
      "\n",
      "A value is trying to be set on a copy of a slice from a DataFrame.\n",
      "Try using .loc[row_indexer,col_indexer] = value instead\n",
      "\n",
      "See the caveats in the documentation: http://pandas.pydata.org/pandas-docs/stable/indexing.html#indexing-view-versus-copy\n",
      "\n",
      "/Users/sreejithmenon/anaconda/lib/python3.5/site-packages/ipykernel/__main__.py:12: SettingWithCopyWarning:\n",
      "\n",
      "\n",
      "A value is trying to be set on a copy of a slice from a DataFrame.\n",
      "Try using .loc[row_indexer,col_indexer] = value instead\n",
      "\n",
      "See the caveats in the documentation: http://pandas.pydata.org/pandas-docs/stable/indexing.html#indexing-view-versus-copy\n",
      "\n"
     ]
    },
    {
     "data": {
      "text/html": [
       "<div>\n",
       "<table border=\"1\" class=\"dataframe\">\n",
       "  <thead>\n",
       "    <tr style=\"text-align: right;\">\n",
       "      <th></th>\n",
       "      <th>Axes Name</th>\n",
       "      <th>all</th>\n",
       "      <th>Error_total_pop</th>\n",
       "      <th>zebras</th>\n",
       "      <th>Error_zebra_pop</th>\n",
       "      <th>giraffes</th>\n",
       "      <th>Error_giraffe_pop</th>\n",
       "      <th>shared_images_count</th>\n",
       "      <th>Predicted_Shared_proportion</th>\n",
       "      <th>norm_error_total_pop</th>\n",
       "      <th>norm_error_zebra_pop</th>\n",
       "      <th>norm_error_giraffe_pop</th>\n",
       "    </tr>\n",
       "  </thead>\n",
       "  <tbody>\n",
       "    <tr>\n",
       "      <th>0</th>\n",
       "      <td>bayesian sparse</td>\n",
       "      <td>0.0</td>\n",
       "      <td>-3620.0</td>\n",
       "      <td>0.0</td>\n",
       "      <td>-3468.0</td>\n",
       "      <td>0.0</td>\n",
       "      <td>-177.0</td>\n",
       "      <td>10</td>\n",
       "      <td>0.153304</td>\n",
       "      <td>-1.000000</td>\n",
       "      <td>-1.0</td>\n",
       "      <td>-1.000000</td>\n",
       "    </tr>\n",
       "    <tr>\n",
       "      <th>1</th>\n",
       "      <td>bayesian non_sparse</td>\n",
       "      <td>714.0</td>\n",
       "      <td>-2906.0</td>\n",
       "      <td>0.0</td>\n",
       "      <td>-3468.0</td>\n",
       "      <td>132.0</td>\n",
       "      <td>-45.0</td>\n",
       "      <td>233</td>\n",
       "      <td>3.571976</td>\n",
       "      <td>-0.802762</td>\n",
       "      <td>-1.0</td>\n",
       "      <td>-0.254237</td>\n",
       "    </tr>\n",
       "    <tr>\n",
       "      <th>2</th>\n",
       "      <td>bayesian non_zero</td>\n",
       "      <td>0.0</td>\n",
       "      <td>-3620.0</td>\n",
       "      <td>0.0</td>\n",
       "      <td>-3468.0</td>\n",
       "      <td>0.0</td>\n",
       "      <td>-177.0</td>\n",
       "      <td>92</td>\n",
       "      <td>1.410394</td>\n",
       "      <td>-1.000000</td>\n",
       "      <td>-1.0</td>\n",
       "      <td>-1.000000</td>\n",
       "    </tr>\n",
       "    <tr>\n",
       "      <th>3</th>\n",
       "      <td>bayesian abv_mean</td>\n",
       "      <td>0.0</td>\n",
       "      <td>-3620.0</td>\n",
       "      <td>0.0</td>\n",
       "      <td>-3468.0</td>\n",
       "      <td>0.0</td>\n",
       "      <td>-177.0</td>\n",
       "      <td>133</td>\n",
       "      <td>2.038939</td>\n",
       "      <td>-1.000000</td>\n",
       "      <td>-1.0</td>\n",
       "      <td>-1.000000</td>\n",
       "    </tr>\n",
       "    <tr>\n",
       "      <th>4</th>\n",
       "      <td>logistic sparse</td>\n",
       "      <td>0.0</td>\n",
       "      <td>-3620.0</td>\n",
       "      <td>0.0</td>\n",
       "      <td>-3468.0</td>\n",
       "      <td>0.0</td>\n",
       "      <td>-177.0</td>\n",
       "      <td>8</td>\n",
       "      <td>0.122643</td>\n",
       "      <td>-1.000000</td>\n",
       "      <td>-1.0</td>\n",
       "      <td>-1.000000</td>\n",
       "    </tr>\n",
       "  </tbody>\n",
       "</table>\n",
       "</div>"
      ],
      "text/plain": [
       "             Axes Name    all  Error_total_pop  zebras  Error_zebra_pop  \\\n",
       "0      bayesian sparse    0.0          -3620.0     0.0          -3468.0   \n",
       "1  bayesian non_sparse  714.0          -2906.0     0.0          -3468.0   \n",
       "2    bayesian non_zero    0.0          -3620.0     0.0          -3468.0   \n",
       "3    bayesian abv_mean    0.0          -3620.0     0.0          -3468.0   \n",
       "4      logistic sparse    0.0          -3620.0     0.0          -3468.0   \n",
       "\n",
       "   giraffes  Error_giraffe_pop  shared_images_count  \\\n",
       "0       0.0             -177.0                   10   \n",
       "1     132.0              -45.0                  233   \n",
       "2       0.0             -177.0                   92   \n",
       "3       0.0             -177.0                  133   \n",
       "4       0.0             -177.0                    8   \n",
       "\n",
       "   Predicted_Shared_proportion  norm_error_total_pop  norm_error_zebra_pop  \\\n",
       "0                     0.153304             -1.000000                  -1.0   \n",
       "1                     3.571976             -0.802762                  -1.0   \n",
       "2                     1.410394             -1.000000                  -1.0   \n",
       "3                     2.038939             -1.000000                  -1.0   \n",
       "4                     0.122643             -1.000000                  -1.0   \n",
       "\n",
       "   norm_error_giraffe_pop  \n",
       "0               -1.000000  \n",
       "1               -0.254237  \n",
       "2               -1.000000  \n",
       "3               -1.000000  \n",
       "4               -1.000000  "
      ]
     },
     "execution_count": 47,
     "metadata": {},
     "output_type": "execute_result"
    }
   ],
   "source": [
    "df = pd.DataFrame(resObj)\n",
    "df['Axes Name'] = df['Classifier'] + \" \" + df['Attribute']\n",
    "\n",
    "df = df[['Axes Name', 'all','giraffes','zebras','shared_images_count']]\n",
    "df['Error_total_pop'] = df['all'] - 3620\n",
    "df['Error_zebra_pop'] = df['zebras'] - 3468\n",
    "df['Error_giraffe_pop'] = df['giraffes'] - 177\n",
    "df['Predicted_Shared_proportion'] = df['shared_images_count'] * 100 / 6523\n",
    "dfFull = df[['Axes Name','all','Error_total_pop','zebras','Error_zebra_pop','giraffes','Error_giraffe_pop','shared_images_count','Predicted_Shared_proportion']]\n",
    "dfFull['norm_error_total_pop'] = dfFull['Error_total_pop'] / 3620\n",
    "dfFull['norm_error_zebra_pop'] = dfFull['Error_zebra_pop'] / 3468\n",
    "dfFull['norm_error_giraffe_pop'] = dfFull['Error_giraffe_pop'] / 177\n",
    "dfFull.head()"
   ]
  },
  {
   "cell_type": "code",
   "execution_count": 48,
   "metadata": {
    "collapsed": false
   },
   "outputs": [
    {
     "name": "stderr",
     "output_type": "stream",
     "text": [
      "/Users/sreejithmenon/anaconda/lib/python3.5/site-packages/ipykernel/__main__.py:3: SettingWithCopyWarning:\n",
      "\n",
      "\n",
      "A value is trying to be set on a copy of a slice from a DataFrame\n",
      "\n",
      "See the caveats in the documentation: http://pandas.pydata.org/pandas-docs/stable/indexing.html#indexing-view-versus-copy\n",
      "\n"
     ]
    }
   ],
   "source": [
    "dfErrors= dfFull[['Axes Name','Error_total_pop','Error_zebra_pop','Error_giraffe_pop']]\n",
    "dfErrors.index = df['Axes Name']\n",
    "dfErrors.drop(['Axes Name'],1,inplace=True)"
   ]
  },
  {
   "cell_type": "code",
   "execution_count": 49,
   "metadata": {
    "collapsed": false
   },
   "outputs": [],
   "source": [
    "layout = go.Layout(\n",
    "    title=\"Estimation absolute-errors using predict-shared data\",\n",
    "    titlefont = dict(\n",
    "            size=22),\n",
    "    xaxis=dict(\n",
    "        title=\"Classifier and Attribute Selection method\",\n",
    "        titlefont = dict(\n",
    "            size=15),\n",
    "        showticklabels=True,\n",
    "        tickangle=35,\n",
    "        tickfont=dict(\n",
    "            size=9,\n",
    "            color='black')\n",
    "    ),\n",
    "    yaxis=dict(\n",
    "        title=\"Absolute Error\",\n",
    "        titlefont = dict(\n",
    "            size=15),\n",
    "        showticklabels=True,\n",
    "        tickfont=dict(\n",
    "            size=9,\n",
    "            color='black')\n",
    "    ))\n",
    "fig1 = dfErrors.iplot(kind='bar',filename=\"Absolute_Errors\",layout=layout)"
   ]
  },
  {
   "cell_type": "code",
   "execution_count": 50,
   "metadata": {
    "collapsed": false
   },
   "outputs": [
    {
     "name": "stderr",
     "output_type": "stream",
     "text": [
      "/Users/sreejithmenon/anaconda/lib/python3.5/site-packages/ipykernel/__main__.py:3: SettingWithCopyWarning:\n",
      "\n",
      "\n",
      "A value is trying to be set on a copy of a slice from a DataFrame\n",
      "\n",
      "See the caveats in the documentation: http://pandas.pydata.org/pandas-docs/stable/indexing.html#indexing-view-versus-copy\n",
      "\n"
     ]
    }
   ],
   "source": [
    "dfNormErrors= dfFull[['Axes Name','norm_error_total_pop','norm_error_zebra_pop','norm_error_giraffe_pop']]\n",
    "dfNormErrors.index = df['Axes Name']\n",
    "dfNormErrors.drop(['Axes Name'],1,inplace=True)"
   ]
  },
  {
   "cell_type": "code",
   "execution_count": 51,
   "metadata": {
    "collapsed": false
   },
   "outputs": [],
   "source": [
    "layout = go.Layout(\n",
    "    title=\"Estimation normalized-errors using predict-shared data\",\n",
    "    titlefont = dict(\n",
    "            size=22),\n",
    "    xaxis=dict(\n",
    "        title=\"Classifier and Attribute Selection method\",\n",
    "        titlefont = dict(\n",
    "            size=15),\n",
    "        showticklabels=True,\n",
    "        tickangle=35,\n",
    "        tickfont=dict(\n",
    "            size=9,\n",
    "            color='black')\n",
    "    ),\n",
    "    yaxis=dict(\n",
    "        title=\"Normalized Error\",\n",
    "        titlefont = dict(\n",
    "            size=15),\n",
    "        showticklabels=True,\n",
    "        tickfont=dict(\n",
    "            size=9,\n",
    "            color='black')\n",
    "    ))\n",
    "fig2 = dfNormErrors.iplot(kind='bar',filename=\"Norm_Errors\",layout=layout)\n",
    "# Error = (predicted population - actual population)\n",
    "# Normalized error formula =  Error / actual population"
   ]
  },
  {
   "cell_type": "code",
   "execution_count": 52,
   "metadata": {
    "collapsed": false
   },
   "outputs": [
    {
     "name": "stderr",
     "output_type": "stream",
     "text": [
      "/Users/sreejithmenon/anaconda/lib/python3.5/site-packages/ipykernel/__main__.py:1: UserWarning:\n",
      "\n",
      "Boolean Series key will be reindexed to match DataFrame index.\n",
      "\n"
     ]
    }
   ],
   "source": [
    "dfNoOutliers = dfErrors[(abs(dfErrors['Error_total_pop']) <= 2750 )][(abs(dfErrors['Error_total_pop']) > 10)]"
   ]
  },
  {
   "cell_type": "code",
   "execution_count": 53,
   "metadata": {
    "collapsed": false
   },
   "outputs": [],
   "source": [
    "layout = go.Layout(\n",
    "    title=\"Estimation errors using predict-shared data -no outliers\",\n",
    "    titlefont = dict(\n",
    "            size=22),\n",
    "    xaxis=dict(\n",
    "        title=\"Classifier and Attribute Selection method\",\n",
    "        titlefont = dict(\n",
    "            size=15),\n",
    "        showticklabels=True,\n",
    "        tickangle=35,\n",
    "        tickfont=dict(\n",
    "            size=9,\n",
    "            color='black')\n",
    "    ),\n",
    "    yaxis=dict(\n",
    "        title=\"Absolute Error\",\n",
    "        titlefont = dict(\n",
    "            size=15),\n",
    "        showticklabels=True,\n",
    "        tickfont=dict(\n",
    "            size=9,\n",
    "            color='black')\n",
    "    ))\n",
    "fig3 = dfNoOutliers.iplot(kind='bar',filename=\"errors_noOutliers\",layout=layout)"
   ]
  },
  {
   "cell_type": "code",
   "execution_count": 54,
   "metadata": {
    "collapsed": false
   },
   "outputs": [
    {
     "name": "stderr",
     "output_type": "stream",
     "text": [
      "/Users/sreejithmenon/anaconda/lib/python3.5/site-packages/ipykernel/__main__.py:4: SettingWithCopyWarning:\n",
      "\n",
      "\n",
      "A value is trying to be set on a copy of a slice from a DataFrame\n",
      "\n",
      "See the caveats in the documentation: http://pandas.pydata.org/pandas-docs/stable/indexing.html#indexing-view-versus-copy\n",
      "\n"
     ]
    },
    {
     "data": {
      "text/html": [
       "<div>\n",
       "<table border=\"1\" class=\"dataframe\">\n",
       "  <thead>\n",
       "    <tr style=\"text-align: right;\">\n",
       "      <th></th>\n",
       "      <th>norm_error_zebra_pop</th>\n",
       "      <th>norm_error_giraffe_pop</th>\n",
       "    </tr>\n",
       "    <tr>\n",
       "      <th>Predicted_Shared_proportion</th>\n",
       "      <th></th>\n",
       "      <th></th>\n",
       "    </tr>\n",
       "  </thead>\n",
       "  <tbody>\n",
       "    <tr>\n",
       "      <th>0.001533</th>\n",
       "      <td>-1.0</td>\n",
       "      <td>-1.000000</td>\n",
       "    </tr>\n",
       "    <tr>\n",
       "      <th>0.035720</th>\n",
       "      <td>-1.0</td>\n",
       "      <td>-0.254237</td>\n",
       "    </tr>\n",
       "    <tr>\n",
       "      <th>0.014104</th>\n",
       "      <td>-1.0</td>\n",
       "      <td>-1.000000</td>\n",
       "    </tr>\n",
       "    <tr>\n",
       "      <th>0.020389</th>\n",
       "      <td>-1.0</td>\n",
       "      <td>-1.000000</td>\n",
       "    </tr>\n",
       "    <tr>\n",
       "      <th>0.001226</th>\n",
       "      <td>-1.0</td>\n",
       "      <td>-1.000000</td>\n",
       "    </tr>\n",
       "  </tbody>\n",
       "</table>\n",
       "</div>"
      ],
      "text/plain": [
       "                             norm_error_zebra_pop  norm_error_giraffe_pop\n",
       "Predicted_Shared_proportion                                              \n",
       "0.001533                                     -1.0               -1.000000\n",
       "0.035720                                     -1.0               -0.254237\n",
       "0.014104                                     -1.0               -1.000000\n",
       "0.020389                                     -1.0               -1.000000\n",
       "0.001226                                     -1.0               -1.000000"
      ]
     },
     "execution_count": 54,
     "metadata": {},
     "output_type": "execute_result"
    }
   ],
   "source": [
    "# predicted shared proportion (x) vs normalized error zebra (y1) and giraffe (y2)? thanks!\n",
    "dfNewPlot = dfFull[['Predicted_Shared_proportion','norm_error_zebra_pop','norm_error_giraffe_pop']]\n",
    "dfNewPlot.index = dfNewPlot['Predicted_Shared_proportion']/100\n",
    "dfNewPlot.drop(['Predicted_Shared_proportion'],1,inplace=True)\n",
    "dfNewPlot.head()"
   ]
  },
  {
   "cell_type": "code",
   "execution_count": 55,
   "metadata": {
    "collapsed": false
   },
   "outputs": [],
   "source": [
    "layout = go.Layout(\n",
    "    title=\"Predicted Shared Proportion versus Norm Error\",\n",
    "    titlefont = dict(\n",
    "            size=22),\n",
    "    xaxis=dict(\n",
    "        title=\"Predicted Share Proportion\",\n",
    "        titlefont = dict(\n",
    "            size=15),\n",
    "        showticklabels=True,\n",
    "        tickangle=35,\n",
    "        tickfont=dict(\n",
    "            size=9,\n",
    "            color='black')\n",
    "    ),\n",
    "    yaxis=dict(\n",
    "        title=\"Normalized Error\",\n",
    "        titlefont = dict(\n",
    "            size=15),\n",
    "        showticklabels=True,\n",
    "        tickfont=dict(\n",
    "            size=9,\n",
    "            color='black')\n",
    "    )\n",
    "    )\n",
    "fig4 = dfNewPlot.iplot(kind='bar',filename=\"predictedSharedVsError\",layout=layout)"
   ]
  },
  {
   "cell_type": "code",
   "execution_count": 58,
   "metadata": {
    "collapsed": false
   },
   "outputs": [],
   "source": [
    "fullFl = HT.HTML(HT.body(HT.h2(\"Population Estimates using predicted shared data - master table\"),\n",
    "                HT.HTML(dfFull.to_html(index=False)),\n",
    "                HT.HTML(fig1.embed_code),\n",
    "                HT.HTML(fig2.embed_code),\n",
    "                HT.HTML(fig3.embed_code),\n",
    "                HT.HTML(fig4.embed_code)\n",
    "               ))\n",
    "\n",
    "\n",
    "outputFile = open(\"../FinalResults/PopulationEstimationUsingClf.html\",\"w\")\n",
    "outputFile.write(fullFl)\n",
    "outputFile.close()"
   ]
  },
  {
   "cell_type": "markdown",
   "metadata": {},
   "source": [
    "## Synthetic Experiments\n",
    "\n",
    "### Synthetic Experiment #1\n",
    "#### Assign a score to each image (here probability) and select the top 'k' images for each contributor and share them\n",
    "#### Calculate the population estimate\n",
    "\n",
    "\n",
    "### Synthetic Experiment #2\n",
    "#### Assign a score to each image (here probability) and select the top 'x' images for each contributor where x is a random number and share them\n",
    "#### Calculate the population estimate"
   ]
  },
  {
   "cell_type": "code",
   "execution_count": 39,
   "metadata": {
    "collapsed": true
   },
   "outputs": [],
   "source": [
    "clfTypes = ['bayesian','logistic','svm','dtree','random_forests','ada_boost']\n",
    "attribTypes = ['sparse','non_sparse','non_zero','abv_mean']\n",
    "flNms = [str(clf + \"_\" + attrib) for clf in clfTypes for attrib in attribTypes]\n",
    "\n",
    "df = pd.DataFrame.from_csv(str(\"../FinalResults/\"+flNms[0]+\"_kShares.csv\")).reset_index()\n",
    "df.columns = list(map(lambda x : str(x + \"_\" + flNms[0]) if x != 'num_images' else x,list(df.columns)))\n",
    "for i in range(1,len(flNms)):   \n",
    "    df1 = pd.DataFrame.from_csv(str(\"../FinalResults/\"+flNms[i]+\"_kShares.csv\")).reset_index()  \n",
    "    df1.columns = list(map(lambda x : str(x + \"_\" + flNms[i]) if x != 'num_images' else x,list(df1.columns)))\n",
    "    df = pd.DataFrame.merge(df,df1,on='num_images')\n",
    "    \n",
    "df.index = df['num_images']\n",
    "df.drop(['num_images'],1,inplace=True)"
   ]
  },
  {
   "cell_type": "code",
   "execution_count": 40,
   "metadata": {
    "collapsed": false
   },
   "outputs": [],
   "source": [
    "for col in df.columns:\n",
    "    if 'all' in col:\n",
    "        df[str(col+'_err')] = (3620 - df[col]) / 36.20\n",
    "    elif 'zebras' in col: \n",
    "        df[str(col+'_err')] = (3468 - df[col]) / 34.68\n",
    "    elif 'giraffes' in col:\n",
    "        df[str(col+'_err')] = (177 - df[col]) / 1.77"
   ]
  },
  {
   "cell_type": "code",
   "execution_count": 41,
   "metadata": {
    "collapsed": false
   },
   "outputs": [
    {
     "data": {
      "text/html": [
       "<div>\n",
       "<table border=\"1\" class=\"dataframe\">\n",
       "  <thead>\n",
       "    <tr style=\"text-align: right;\">\n",
       "      <th></th>\n",
       "      <th>all_bayesian_sparse_err</th>\n",
       "      <th>giraffes_bayesian_sparse_err</th>\n",
       "      <th>zebras_bayesian_sparse_err</th>\n",
       "      <th>all_bayesian_non_sparse_err</th>\n",
       "      <th>giraffes_bayesian_non_sparse_err</th>\n",
       "      <th>zebras_bayesian_non_sparse_err</th>\n",
       "      <th>all_bayesian_non_zero_err</th>\n",
       "      <th>giraffes_bayesian_non_zero_err</th>\n",
       "      <th>zebras_bayesian_non_zero_err</th>\n",
       "      <th>all_bayesian_abv_mean_err</th>\n",
       "      <th>...</th>\n",
       "      <th>zebras_ada_boost_sparse_err</th>\n",
       "      <th>all_ada_boost_non_sparse_err</th>\n",
       "      <th>giraffes_ada_boost_non_sparse_err</th>\n",
       "      <th>zebras_ada_boost_non_sparse_err</th>\n",
       "      <th>all_ada_boost_non_zero_err</th>\n",
       "      <th>giraffes_ada_boost_non_zero_err</th>\n",
       "      <th>zebras_ada_boost_non_zero_err</th>\n",
       "      <th>all_ada_boost_abv_mean_err</th>\n",
       "      <th>giraffes_ada_boost_abv_mean_err</th>\n",
       "      <th>zebras_ada_boost_abv_mean_err</th>\n",
       "    </tr>\n",
       "    <tr>\n",
       "      <th>num_images</th>\n",
       "      <th></th>\n",
       "      <th></th>\n",
       "      <th></th>\n",
       "      <th></th>\n",
       "      <th></th>\n",
       "      <th></th>\n",
       "      <th></th>\n",
       "      <th></th>\n",
       "      <th></th>\n",
       "      <th></th>\n",
       "      <th></th>\n",
       "      <th></th>\n",
       "      <th></th>\n",
       "      <th></th>\n",
       "      <th></th>\n",
       "      <th></th>\n",
       "      <th></th>\n",
       "      <th></th>\n",
       "      <th></th>\n",
       "      <th></th>\n",
       "      <th></th>\n",
       "    </tr>\n",
       "  </thead>\n",
       "  <tbody>\n",
       "    <tr>\n",
       "      <th>2</th>\n",
       "      <td>71.712707</td>\n",
       "      <td>100.0</td>\n",
       "      <td>72.779700</td>\n",
       "      <td>100.000000</td>\n",
       "      <td>100.0</td>\n",
       "      <td>100.000000</td>\n",
       "      <td>91.795580</td>\n",
       "      <td>85.310734</td>\n",
       "      <td>100.000000</td>\n",
       "      <td>98.232044</td>\n",
       "      <td>...</td>\n",
       "      <td>39.100346</td>\n",
       "      <td>63.535912</td>\n",
       "      <td>100.000000</td>\n",
       "      <td>66.580161</td>\n",
       "      <td>92.265193</td>\n",
       "      <td>75.141243</td>\n",
       "      <td>100.0</td>\n",
       "      <td>95.276243</td>\n",
       "      <td>56.214689</td>\n",
       "      <td>100.000000</td>\n",
       "    </tr>\n",
       "    <tr>\n",
       "      <th>3</th>\n",
       "      <td>51.381215</td>\n",
       "      <td>100.0</td>\n",
       "      <td>53.287197</td>\n",
       "      <td>100.000000</td>\n",
       "      <td>100.0</td>\n",
       "      <td>100.000000</td>\n",
       "      <td>81.823204</td>\n",
       "      <td>61.581921</td>\n",
       "      <td>100.000000</td>\n",
       "      <td>94.806630</td>\n",
       "      <td>...</td>\n",
       "      <td>2.162630</td>\n",
       "      <td>61.464088</td>\n",
       "      <td>100.000000</td>\n",
       "      <td>64.965398</td>\n",
       "      <td>87.016575</td>\n",
       "      <td>49.152542</td>\n",
       "      <td>100.0</td>\n",
       "      <td>94.069982</td>\n",
       "      <td>52.542373</td>\n",
       "      <td>100.000000</td>\n",
       "    </tr>\n",
       "    <tr>\n",
       "      <th>4</th>\n",
       "      <td>19.558011</td>\n",
       "      <td>100.0</td>\n",
       "      <td>24.279123</td>\n",
       "      <td>100.000000</td>\n",
       "      <td>100.0</td>\n",
       "      <td>100.000000</td>\n",
       "      <td>71.823204</td>\n",
       "      <td>37.853107</td>\n",
       "      <td>100.000000</td>\n",
       "      <td>90.055249</td>\n",
       "      <td>...</td>\n",
       "      <td>-52.825836</td>\n",
       "      <td>54.069982</td>\n",
       "      <td>100.000000</td>\n",
       "      <td>58.016148</td>\n",
       "      <td>80.939227</td>\n",
       "      <td>28.813559</td>\n",
       "      <td>100.0</td>\n",
       "      <td>92.265193</td>\n",
       "      <td>41.242938</td>\n",
       "      <td>100.000000</td>\n",
       "    </tr>\n",
       "    <tr>\n",
       "      <th>5</th>\n",
       "      <td>31.519337</td>\n",
       "      <td>100.0</td>\n",
       "      <td>34.385813</td>\n",
       "      <td>100.000000</td>\n",
       "      <td>100.0</td>\n",
       "      <td>100.000000</td>\n",
       "      <td>79.834254</td>\n",
       "      <td>37.853107</td>\n",
       "      <td>77.941176</td>\n",
       "      <td>90.676796</td>\n",
       "      <td>...</td>\n",
       "      <td>-0.100923</td>\n",
       "      <td>51.878453</td>\n",
       "      <td>100.000000</td>\n",
       "      <td>55.514706</td>\n",
       "      <td>81.602210</td>\n",
       "      <td>38.229755</td>\n",
       "      <td>100.0</td>\n",
       "      <td>90.607735</td>\n",
       "      <td>33.709981</td>\n",
       "      <td>100.000000</td>\n",
       "    </tr>\n",
       "    <tr>\n",
       "      <th>6</th>\n",
       "      <td>-4.516575</td>\n",
       "      <td>100.0</td>\n",
       "      <td>1.182238</td>\n",
       "      <td>28.895028</td>\n",
       "      <td>100.0</td>\n",
       "      <td>35.207612</td>\n",
       "      <td>75.082873</td>\n",
       "      <td>35.028249</td>\n",
       "      <td>71.078431</td>\n",
       "      <td>85.870166</td>\n",
       "      <td>...</td>\n",
       "      <td>29.829873</td>\n",
       "      <td>69.834254</td>\n",
       "      <td>74.011299</td>\n",
       "      <td>68.858131</td>\n",
       "      <td>80.939227</td>\n",
       "      <td>41.525424</td>\n",
       "      <td>100.0</td>\n",
       "      <td>93.038674</td>\n",
       "      <td>48.135593</td>\n",
       "      <td>91.435986</td>\n",
       "    </tr>\n",
       "  </tbody>\n",
       "</table>\n",
       "<p>5 rows × 72 columns</p>\n",
       "</div>"
      ],
      "text/plain": [
       "            all_bayesian_sparse_err  giraffes_bayesian_sparse_err  \\\n",
       "num_images                                                          \n",
       "2                         71.712707                         100.0   \n",
       "3                         51.381215                         100.0   \n",
       "4                         19.558011                         100.0   \n",
       "5                         31.519337                         100.0   \n",
       "6                         -4.516575                         100.0   \n",
       "\n",
       "            zebras_bayesian_sparse_err  all_bayesian_non_sparse_err  \\\n",
       "num_images                                                            \n",
       "2                            72.779700                   100.000000   \n",
       "3                            53.287197                   100.000000   \n",
       "4                            24.279123                   100.000000   \n",
       "5                            34.385813                   100.000000   \n",
       "6                             1.182238                    28.895028   \n",
       "\n",
       "            giraffes_bayesian_non_sparse_err  zebras_bayesian_non_sparse_err  \\\n",
       "num_images                                                                     \n",
       "2                                      100.0                      100.000000   \n",
       "3                                      100.0                      100.000000   \n",
       "4                                      100.0                      100.000000   \n",
       "5                                      100.0                      100.000000   \n",
       "6                                      100.0                       35.207612   \n",
       "\n",
       "            all_bayesian_non_zero_err  giraffes_bayesian_non_zero_err  \\\n",
       "num_images                                                              \n",
       "2                           91.795580                       85.310734   \n",
       "3                           81.823204                       61.581921   \n",
       "4                           71.823204                       37.853107   \n",
       "5                           79.834254                       37.853107   \n",
       "6                           75.082873                       35.028249   \n",
       "\n",
       "            zebras_bayesian_non_zero_err  all_bayesian_abv_mean_err  \\\n",
       "num_images                                                            \n",
       "2                             100.000000                  98.232044   \n",
       "3                             100.000000                  94.806630   \n",
       "4                             100.000000                  90.055249   \n",
       "5                              77.941176                  90.676796   \n",
       "6                              71.078431                  85.870166   \n",
       "\n",
       "                        ...                zebras_ada_boost_sparse_err  \\\n",
       "num_images              ...                                              \n",
       "2                       ...                                  39.100346   \n",
       "3                       ...                                   2.162630   \n",
       "4                       ...                                 -52.825836   \n",
       "5                       ...                                  -0.100923   \n",
       "6                       ...                                  29.829873   \n",
       "\n",
       "            all_ada_boost_non_sparse_err  giraffes_ada_boost_non_sparse_err  \\\n",
       "num_images                                                                    \n",
       "2                              63.535912                         100.000000   \n",
       "3                              61.464088                         100.000000   \n",
       "4                              54.069982                         100.000000   \n",
       "5                              51.878453                         100.000000   \n",
       "6                              69.834254                          74.011299   \n",
       "\n",
       "            zebras_ada_boost_non_sparse_err  all_ada_boost_non_zero_err  \\\n",
       "num_images                                                                \n",
       "2                                 66.580161                   92.265193   \n",
       "3                                 64.965398                   87.016575   \n",
       "4                                 58.016148                   80.939227   \n",
       "5                                 55.514706                   81.602210   \n",
       "6                                 68.858131                   80.939227   \n",
       "\n",
       "            giraffes_ada_boost_non_zero_err  zebras_ada_boost_non_zero_err  \\\n",
       "num_images                                                                   \n",
       "2                                 75.141243                          100.0   \n",
       "3                                 49.152542                          100.0   \n",
       "4                                 28.813559                          100.0   \n",
       "5                                 38.229755                          100.0   \n",
       "6                                 41.525424                          100.0   \n",
       "\n",
       "            all_ada_boost_abv_mean_err  giraffes_ada_boost_abv_mean_err  \\\n",
       "num_images                                                                \n",
       "2                            95.276243                        56.214689   \n",
       "3                            94.069982                        52.542373   \n",
       "4                            92.265193                        41.242938   \n",
       "5                            90.607735                        33.709981   \n",
       "6                            93.038674                        48.135593   \n",
       "\n",
       "            zebras_ada_boost_abv_mean_err  \n",
       "num_images                                 \n",
       "2                              100.000000  \n",
       "3                              100.000000  \n",
       "4                              100.000000  \n",
       "5                              100.000000  \n",
       "6                               91.435986  \n",
       "\n",
       "[5 rows x 72 columns]"
      ]
     },
     "execution_count": 41,
     "metadata": {},
     "output_type": "execute_result"
    }
   ],
   "source": [
    "df.head()\n",
    "# df.to_csv(\"../FinalResults/MasterEstimation_KShare.csv\")\n",
    "# figs=[]\n",
    "\n",
    "errorCols = [col for col in df.columns if 'err' in col]\n",
    "\n",
    "df = df[errorCols]\n",
    "df.head()"
   ]
  },
  {
   "cell_type": "code",
   "execution_count": 42,
   "metadata": {
    "collapsed": false
   },
   "outputs": [],
   "source": [
    "figs = []\n",
    "bayes = [col for col in df.columns if 'bayesian' in col]\n",
    "bayesDf = df[bayes]\n",
    "figs.append(bayesDf.iplot(kind='line',title=\"All Bayesian Classifiers\"))"
   ]
  },
  {
   "cell_type": "code",
   "execution_count": 43,
   "metadata": {
    "collapsed": false
   },
   "outputs": [],
   "source": [
    "logistics = [col for col in df.columns if 'logistic' in col]\n",
    "logisticsDf = df[logistics]\n",
    "figs.append(logisticsDf.iplot(kind='line',title=\"All Logistic Classifiers\"))"
   ]
  },
  {
   "cell_type": "code",
   "execution_count": 44,
   "metadata": {
    "collapsed": false
   },
   "outputs": [],
   "source": [
    "svms = [col for col in df.columns if 'svm' in col]\n",
    "svmsDf = df[svms]\n",
    "figs.append(svmsDf.iplot(kind='line',title=\"All SVM Classifiers\"))"
   ]
  },
  {
   "cell_type": "code",
   "execution_count": 45,
   "metadata": {
    "collapsed": false
   },
   "outputs": [],
   "source": [
    "dtrees = [col for col in df.columns if 'dtree' in col]\n",
    "dtreesDf = df[svms]\n",
    "figs.append(dtreesDf.iplot(kind='line',title=\"All Decision Tree Classifiers\"))"
   ]
  },
  {
   "cell_type": "code",
   "execution_count": 46,
   "metadata": {
    "collapsed": false
   },
   "outputs": [],
   "source": [
    "rfs = [col for col in df.columns if 'random_forests' in col]\n",
    "rfsDf = df[rfs]\n",
    "figs.append(rfsDf.iplot(kind='line',title=\"All Random Forest Classifiers\"))"
   ]
  },
  {
   "cell_type": "code",
   "execution_count": 47,
   "metadata": {
    "collapsed": false
   },
   "outputs": [],
   "source": [
    "adbs = [col for col in df.columns if 'ada_boost' in col]\n",
    "adbsDf = df[adbs]\n",
    "figs.append(adbsDf.iplot(kind='line',title=\"All Ada-Boost Classifiers\"))"
   ]
  },
  {
   "cell_type": "code",
   "execution_count": 48,
   "metadata": {
    "collapsed": false
   },
   "outputs": [],
   "source": [
    "sparses = [col for col in df.columns if 'sparse' in col and 'non_sparse' not in col]\n",
    "sparsesDf = df[sparses]\n",
    "figs.append(sparsesDf.iplot(kind='line',title=\"All Sparse Classifiers\"))"
   ]
  },
  {
   "cell_type": "code",
   "execution_count": 49,
   "metadata": {
    "collapsed": false
   },
   "outputs": [],
   "source": [
    "nsparses = [col for col in df.columns if 'non_sparse' in col ]\n",
    "nsparsesDf = df[nsparses]\n",
    "figs.append(nsparsesDf.iplot(kind='line',title=\"All Non-Sparse Classifiers\"))"
   ]
  },
  {
   "cell_type": "code",
   "execution_count": 50,
   "metadata": {
    "collapsed": false
   },
   "outputs": [],
   "source": [
    "nzsparses = [col for col in df.columns if 'non_zero' in col ]\n",
    "nzsparsesDf = df[nzsparses]\n",
    "figs.append(nzsparsesDf.iplot(kind='line',title=\"All Non-Zero IG Classifiers\"))"
   ]
  },
  {
   "cell_type": "code",
   "execution_count": 51,
   "metadata": {
    "collapsed": false
   },
   "outputs": [],
   "source": [
    "abvs = [col for col in df.columns if 'abv_mean' in col ]\n",
    "abvsDf = df[abvs]\n",
    "figs.append(abvsDf.iplot(kind='line',title=\"All Abv-Avg IG Classifiers\"))"
   ]
  },
  {
   "cell_type": "code",
   "execution_count": 52,
   "metadata": {
    "collapsed": false
   },
   "outputs": [
    {
     "name": "stdout",
     "output_type": "stream",
     "text": [
      "<iframe id=\"igraph\" scrolling=\"no\" style=\"border:none;\" seamless=\"seamless\" src=\"https://plot.ly/~smenon8/301.embed\" height=\"525px\" width=\"100%\"></iframe>\n",
      "<iframe id=\"igraph\" scrolling=\"no\" style=\"border:none;\" seamless=\"seamless\" src=\"https://plot.ly/~smenon8/303.embed\" height=\"525px\" width=\"100%\"></iframe>\n",
      "<iframe id=\"igraph\" scrolling=\"no\" style=\"border:none;\" seamless=\"seamless\" src=\"https://plot.ly/~smenon8/305.embed\" height=\"525px\" width=\"100%\"></iframe>\n",
      "<iframe id=\"igraph\" scrolling=\"no\" style=\"border:none;\" seamless=\"seamless\" src=\"https://plot.ly/~smenon8/307.embed\" height=\"525px\" width=\"100%\"></iframe>\n",
      "<iframe id=\"igraph\" scrolling=\"no\" style=\"border:none;\" seamless=\"seamless\" src=\"https://plot.ly/~smenon8/309.embed\" height=\"525px\" width=\"100%\"></iframe>\n",
      "<iframe id=\"igraph\" scrolling=\"no\" style=\"border:none;\" seamless=\"seamless\" src=\"https://plot.ly/~smenon8/311.embed\" height=\"525px\" width=\"100%\"></iframe>\n",
      "<iframe id=\"igraph\" scrolling=\"no\" style=\"border:none;\" seamless=\"seamless\" src=\"https://plot.ly/~smenon8/313.embed\" height=\"525px\" width=\"100%\"></iframe>\n",
      "<iframe id=\"igraph\" scrolling=\"no\" style=\"border:none;\" seamless=\"seamless\" src=\"https://plot.ly/~smenon8/315.embed\" height=\"525px\" width=\"100%\"></iframe>\n",
      "<iframe id=\"igraph\" scrolling=\"no\" style=\"border:none;\" seamless=\"seamless\" src=\"https://plot.ly/~smenon8/317.embed\" height=\"525px\" width=\"100%\"></iframe>\n",
      "<iframe id=\"igraph\" scrolling=\"no\" style=\"border:none;\" seamless=\"seamless\" src=\"https://plot.ly/~smenon8/319.embed\" height=\"525px\" width=\"100%\"></iframe>\n"
     ]
    }
   ],
   "source": [
    "for fig in figs:\n",
    "    print(fig.embed_code)"
   ]
  },
  {
   "cell_type": "code",
   "execution_count": 118,
   "metadata": {
    "collapsed": true
   },
   "outputs": [],
   "source": [
    "import DeriveFinalResultSet as DRS\n",
    "inExifFl,inGidAidMapFl,inAidFtrFl = \"../data/imgs_exif_data_full.json\",\"../data/full_gid_aid_map.json\",\"../data/full_aid_features.json\""
   ]
  },
  {
   "cell_type": "code",
   "execution_count": null,
   "metadata": {
    "collapsed": true
   },
   "outputs": [],
   "source": []
  },
  {
   "cell_type": "code",
   "execution_count": null,
   "metadata": {
    "collapsed": true
   },
   "outputs": [],
   "source": []
  },
  {
   "cell_type": "code",
   "execution_count": null,
   "metadata": {
    "collapsed": true
   },
   "outputs": [],
   "source": []
  },
  {
   "cell_type": "code",
   "execution_count": 84,
   "metadata": {
    "collapsed": false
   },
   "outputs": [],
   "source": [
    "gidContribDct = DRS.getCountingLogic(inGidAidMapFl,inAidFtrFl,'CONTRIBUTOR',False)\n",
    "\n",
    "sdCards = {}\n",
    "for key in gidContribDct.keys():\n",
    "    sdCards[gidContribDct[key][0]] = sdCards.get(gidContribDct[key][0],[]) + [key]"
   ]
  },
  {
   "cell_type": "code",
   "execution_count": 91,
   "metadata": {
    "collapsed": false
   },
   "outputs": [],
   "source": [
    "def kSharesPerContributor(prediction_probabs,inExifFl,inGidAidMapFl,inAidFtrFl,genk):\n",
    "    gidContribDct = DRS.getCountingLogic(inGidAidMapFl,inAidFtrFl,'CONTRIBUTOR',False)\n",
    "    \n",
    "    estimatedPop = []\n",
    "    sdCards = {}\n",
    "    for key in gidContribDct.keys():\n",
    "        sdCards[gidContribDct[key][0]] = sdCards.get(gidContribDct[key][0],[]) + [key]\n",
    "\n",
    "    sdCardSorted = {}\n",
    "    for contrib in sdCards.keys():\n",
    "        sdCardSorted[contrib] = sorted(sdCards[contrib],key=lambda x : prediction_probabs.get(x,0),reverse=True)\n",
    "\n",
    "    # selecting the top k scores as shared\n",
    "    for contrib in sdCardSorted.keys():\n",
    "        predictions_k = {gid : 1 for gid in sdCardSorted[contrib][:genk()]}\n",
    "        estimatedPop.append(PE.estimatePopulation(predictions_k,inExifFl,inGidAidMapFl,inAidFtrFl))\n",
    "\n",
    "    return estimatedPop"
   ]
  },
  {
   "cell_type": "code",
   "execution_count": 116,
   "metadata": {
    "collapsed": false
   },
   "outputs": [
    {
     "name": "stdout",
     "output_type": "stream",
     "text": [
      "Starting to run ada_boost classifer on test data\n",
      "Attribute Selection Method : non_zero\n"
     ]
    },
    {
     "name": "stderr",
     "output_type": "stream",
     "text": [
      "/Users/sreejithmenon/Google Drive/Project/AnimalPhotoBias/script/MarkRecapHelper.py:58: UserWarning:\n",
      "\n",
      "There are no recaptures for this case.\n",
      "\n"
     ]
    }
   ],
   "source": [
    "clfTypes = ['bayesian','logistic','svm','dtree','random_forests','ada_boost']\n",
    "attribTypes = ['sparse','non_sparse','non_zero','abv_mean']\n",
    "\n",
    "clfTypes = ['ada_boost']\n",
    "attribTypes = ['non_zero']\n",
    "\n",
    "for clf in clfTypes:\n",
    "    for attrib in attribTypes:\n",
    "        print(\"Starting to run %s classifer on test data\\nAttribute Selection Method : %s\" %(clf,attrib))\n",
    "        clfObj,predResults = PE.trainTestClf(\"../FinalResults/ImgShrRnkListWithTags.csv\",\n",
    "                             \"../data/full_gid_aid_ftr_agg.csv\",\n",
    "                             clf,\n",
    "                             attrib,\n",
    "                             \"../data/infoGainsExpt2.csv\")\n",
    "\n",
    "        flNm = str(\"../FinalResults/\"+ clf + \"_\" + attrib + \"_kShares\")\n",
    "\n",
    "        prediction_probabs = {list(clfObj.test_x.index)[i] : clfObj.predProbabs[i] for i in range(len(clfObj.test_x.index))}\n",
    "        fixedK = {k : kSharesPerContributor(prediction_probabs,inExifFl,inGidAidMapFl,inAidFtrFl,lambda : k) for k in range(50,51)}"
   ]
  },
  {
   "cell_type": "code",
   "execution_count": 111,
   "metadata": {
    "collapsed": false
   },
   "outputs": [
    {
     "data": {
      "text/plain": [
       "56"
      ]
     },
     "execution_count": 111,
     "metadata": {},
     "output_type": "execute_result"
    }
   ],
   "source": [
    "len(fixedK[20])"
   ]
  },
  {
   "cell_type": "code",
   "execution_count": 119,
   "metadata": {
    "collapsed": false
   },
   "outputs": [],
   "source": [
    "gidContribDct = DRS.getCountingLogic(inGidAidMapFl,inAidFtrFl,'CONTRIBUTOR',False)\n",
    "    \n",
    "estimatedPop = []\n",
    "sdCards = {}\n",
    "for key in gidContribDct.keys():\n",
    "    sdCards[gidContribDct[key][0]] = sdCards.get(gidContribDct[key][0],[]) + [key]\n",
    "    \n"
   ]
  },
  {
   "cell_type": "code",
   "execution_count": 146,
   "metadata": {
    "collapsed": false
   },
   "outputs": [],
   "source": [
    "clfObj,predResults = PE.trainTestClf(\"../FinalResults/ImgShrRnkListWithTags.csv\",\n",
    "                             \"../data/full_gid_aid_ftr_agg.csv\",\n",
    "                             'bayesian',\n",
    "                             'non_zero',\n",
    "                             \"../data/infoGainsExpt2.csv\")"
   ]
  },
  {
   "cell_type": "code",
   "execution_count": 155,
   "metadata": {
    "collapsed": false
   },
   "outputs": [
    {
     "data": {
      "text/plain": [
       "False"
      ]
     },
     "execution_count": 155,
     "metadata": {},
     "output_type": "execute_result"
    }
   ],
   "source": [
    "'3644' in clfObj.test_x.index"
   ]
  },
  {
   "cell_type": "code",
   "execution_count": 156,
   "metadata": {
    "collapsed": false
   },
   "outputs": [],
   "source": [
    "appearanceDays = {}\n",
    "for card in sdCards.keys():\n",
    "    pred_results = {gid : predResults[gid] for gid in sdCards[card] if gid != '3644'}\n",
    "    dfPredRes = pd.DataFrame(pred_results,index=['share']).transpose().reset_index()\n",
    "    dfPredRes.columns = ['GID','share']\n",
    "    appearanceDays[card] = set(pd.DataFrame.merge(dfPredRes,dfGidDays,on='GID').to_dict()['day'].values())"
   ]
  },
  {
   "cell_type": "code",
   "execution_count": 157,
   "metadata": {
    "collapsed": false
   },
   "outputs": [
    {
     "data": {
      "text/plain": [
       "{'GIRM_MUGU_20,hyrule:joncrall:/media/raid/work/GIRM_MUGU_20,,,,,0': set(),\n",
       " \"NNP GZC Car '10WHITE', Person 'A'\": {1},\n",
       " \"NNP GZC Car '11WHITE', Person 'A'\": {1},\n",
       " \"NNP GZC Car '12WHITE', Person 'A'\": {1},\n",
       " \"NNP GZC Car '13WHITE', Person 'A'\": {1},\n",
       " \"NNP GZC Car '13WHITE', Person 'B'\": {1},\n",
       " \"NNP GZC Car '14WHITE', Person 'A'\": {1},\n",
       " \"NNP GZC Car '15WHITE', Person 'A'\": {1},\n",
       " \"NNP GZC Car '15WHITE', Person 'B'\": {1},\n",
       " \"NNP GZC Car '15WHITE', Person 'C'\": {1},\n",
       " \"NNP GZC Car '15WHITE', Person 'D'\": {1},\n",
       " \"NNP GZC Car '16WHITE', Person 'A'\": {1},\n",
       " \"NNP GZC Car '17WHITE', Person 'A'\": {1},\n",
       " \"NNP GZC Car '17WHITE', Person 'C'\": {1},\n",
       " \"NNP GZC Car '1BLUE', Person 'A'\": {1},\n",
       " \"NNP GZC Car '1BLUE', Person 'B'\": {1},\n",
       " \"NNP GZC Car '1BLUE', Person 'C'\": {1},\n",
       " \"NNP GZC Car '1BLUE', Person 'D'\": {1},\n",
       " \"NNP GZC Car '1PURPLE', Person 'A'\": {1},\n",
       " \"NNP GZC Car '1PURPLE', Person 'B'\": {1},\n",
       " \"NNP GZC Car '1PURPLE', Person 'C'\": set(),\n",
       " \"NNP GZC Car '1PURPLE', Person 'D'\": {1},\n",
       " \"NNP GZC Car '1RED', Person 'A'\": {2},\n",
       " \"NNP GZC Car '1RED', Person 'B'\": {2},\n",
       " \"NNP GZC Car '1WHITE', Person 'A'\": {1},\n",
       " \"NNP GZC Car '1WHITE', Person 'B'\": {1},\n",
       " \"NNP GZC Car '1WHITE', Person 'C'\": {1},\n",
       " \"NNP GZC Car '25PURPLE', Person 'A'\": set(),\n",
       " \"NNP GZC Car '2RED', Person 'A'\": {2},\n",
       " \"NNP GZC Car '2RED', Person 'B'\": {2},\n",
       " \"NNP GZC Car '2RED', Person 'C'\": {2},\n",
       " \"NNP GZC Car '2RED', Person 'D'\": {2},\n",
       " \"NNP GZC Car '2RED', Person 'E'\": {2},\n",
       " \"NNP GZC Car '2WHITE', Person 'A'\": {1},\n",
       " \"NNP GZC Car '3PURPLE', Person 'A'\": {1},\n",
       " \"NNP GZC Car '3PURPLE', Person 'B'\": {1},\n",
       " \"NNP GZC Car '3RED', Person 'A'\": {2},\n",
       " \"NNP GZC Car '3RED', Person 'B'\": {2},\n",
       " \"NNP GZC Car '3WHITE', Person 'A'\": {1},\n",
       " \"NNP GZC Car '4RED', Person 'A'\": {2},\n",
       " \"NNP GZC Car '4RED', Person 'B'\": {2},\n",
       " \"NNP GZC Car '4WHITE', Person 'A'\": {1},\n",
       " \"NNP GZC Car '5RED', Person 'A'\": {2},\n",
       " \"NNP GZC Car '5RED', Person 'C'\": {2},\n",
       " \"NNP GZC Car '5WHITE', Person 'A'\": {1},\n",
       " \"NNP GZC Car '6RED', Person 'A'\": {2},\n",
       " \"NNP GZC Car '6RED', Person 'B'\": {2},\n",
       " \"NNP GZC Car '6WHITE', Person 'B'\": {1},\n",
       " \"NNP GZC Car '7WHITE', Person 'A'\": {1},\n",
       " \"NNP GZC Car '7WHITE', Person 'B'\": {1},\n",
       " \"NNP GZC Car '8WHITE', Person 'A'\": {1},\n",
       " \"NNP GZC Car '9WHITE', Person 'A'\": {1},\n",
       " 'NNP_Master,pachy.cs.uic.edu:jonc:/home/shared_ibeis/data/work/NNP_Master,,,,,6': set(),\n",
       " 'PZ_MUGU_18,hyrule:joncrall:/media/raid/work/PZ_MUGU_18,,,,,0': set(),\n",
       " 'PZ_MUGU_19,hyrule:joncrall:/media/raid/work/PZ_MUGU_19,,,,,0': set(),\n",
       " 'PZ_MUGU_20,hyrule:joncrall:/media/raid/work/PZ_MUGU_20,,,,,0': set()}"
      ]
     },
     "execution_count": 157,
     "metadata": {},
     "output_type": "execute_result"
    }
   ],
   "source": [
    "appearanceDays"
   ]
  },
  {
   "cell_type": "code",
   "execution_count": 131,
   "metadata": {
    "collapsed": false
   },
   "outputs": [],
   "source": [
    "def genNidMarkRecapDict(inExifFl,inGidAidMapFl,inAidFtrFl,gidPropMapFl,daysDict,filterBySpecies=None,shareData='proportion',probabThreshold=1):\n",
    "    with open(inExifFl,\"r\") as inpFl:\n",
    "        jsonObj = json.load(inpFl)\n",
    "\n",
    "    # Extract only the date information for all the given images\n",
    "    imgDateDict = {gid : DS.getDateFromStr(jsonObj[gid]['datetime'],'%Y-%m-%d %H:%M:%S','%Y-%m-%d') for gid in jsonObj.keys()}\n",
    "\n",
    "    # filter out only the GIDs that were taken on either of the days specified in the days dictionary\n",
    "    filteredGid = list(filter(lambda x : imgDateDict[x] in daysDict.keys(),imgDateDict.keys()))\n",
    "    \n",
    "    # Logic to handle only the images that are shared\n",
    "    if shareData in {'proportion' , 'classifier' }:\n",
    "        filteredGid = genSharedGids(filteredGid,gidPropMapFl,shareData,probabThreshold)\n",
    "    \n",
    "    # Replace the day with Mark or Recapture\n",
    "    gidsDayNumFull = { gid : daysDict[imgDateDict[gid]] for gid in filteredGid } \n",
    "    return gidsDayNumFull\n",
    "\n",
    "days = {'2015-03-01' : 1,\n",
    "        '2015-03-02' : 2 }\n",
    "\n",
    "gidMarkRecapSet = genNidMarkRecapDict(\"../data/imgs_exif_data_full.json\",\"../data/full_gid_aid_map.json\",\"../data/full_aid_features.json\",\"../FinalResults/rankListImages_expt2.csv\",days,filterBySpecies='giraffe_masai',shareData=None)"
   ]
  },
  {
   "cell_type": "code",
   "execution_count": 132,
   "metadata": {
    "collapsed": false
   },
   "outputs": [
    {
     "data": {
      "text/html": [
       "<div>\n",
       "<table border=\"1\" class=\"dataframe\">\n",
       "  <thead>\n",
       "    <tr style=\"text-align: right;\">\n",
       "      <th></th>\n",
       "      <th>GID</th>\n",
       "      <th>day</th>\n",
       "    </tr>\n",
       "  </thead>\n",
       "  <tbody>\n",
       "    <tr>\n",
       "      <th>0</th>\n",
       "      <td>1</td>\n",
       "      <td>1</td>\n",
       "    </tr>\n",
       "    <tr>\n",
       "      <th>1</th>\n",
       "      <td>10</td>\n",
       "      <td>1</td>\n",
       "    </tr>\n",
       "    <tr>\n",
       "      <th>2</th>\n",
       "      <td>100</td>\n",
       "      <td>1</td>\n",
       "    </tr>\n",
       "    <tr>\n",
       "      <th>3</th>\n",
       "      <td>1000</td>\n",
       "      <td>1</td>\n",
       "    </tr>\n",
       "    <tr>\n",
       "      <th>4</th>\n",
       "      <td>1001</td>\n",
       "      <td>1</td>\n",
       "    </tr>\n",
       "  </tbody>\n",
       "</table>\n",
       "</div>"
      ],
      "text/plain": [
       "    GID  day\n",
       "0     1    1\n",
       "1    10    1\n",
       "2   100    1\n",
       "3  1000    1\n",
       "4  1001    1"
      ]
     },
     "execution_count": 132,
     "metadata": {},
     "output_type": "execute_result"
    }
   ],
   "source": [
    "dfGidDays = pd.DataFrame(gidMarkRecapSet,index=['day']).transpose().reset_index()\n",
    "dfGidDays.columns = ['GID','day']\n",
    "dfGidDays.head()"
   ]
  },
  {
   "cell_type": "code",
   "execution_count": 143,
   "metadata": {
    "collapsed": false
   },
   "outputs": [
    {
     "data": {
      "text/plain": [
       "{1}"
      ]
     },
     "execution_count": 143,
     "metadata": {},
     "output_type": "execute_result"
    }
   ],
   "source": [
    "set(pd.DataFrame.merge(dfPredRes,dfGidDays,on='GID').to_dict()['day'].values())"
   ]
  },
  {
   "cell_type": "code",
   "execution_count": null,
   "metadata": {
    "collapsed": true
   },
   "outputs": [],
   "source": []
  }
 ],
 "metadata": {
  "kernelspec": {
   "display_name": "Python 3",
   "language": "python",
   "name": "python3"
  },
  "language_info": {
   "codemirror_mode": {
    "name": "ipython",
    "version": 3
   },
   "file_extension": ".py",
   "mimetype": "text/x-python",
   "name": "python",
   "nbconvert_exporter": "python",
   "pygments_lexer": "ipython3",
   "version": "3.5.2"
  }
 },
 "nbformat": 4,
 "nbformat_minor": 0
}
