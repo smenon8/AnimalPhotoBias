{
 "cells": [
  {
   "cell_type": "markdown",
   "metadata": {},
   "source": [
    "### Notebook name: MarkRecaptureSim.ipynb\n",
    "#### Author: Sreejith Menon (smenon8@uic.edu)\n",
    "\n",
    "#### Mark Recapture Simulation Notebook\n",
    "\n",
    "Recognize individuals that appeared on day 1 and then on day 2\n",
    "Individuals that appear on day 1 are **marks**.    \n",
    "If the same individuals appear on day 2 then these are **recaptures**\n",
    "\n",
    "*Appeared means the individuals who were photographed on day 1 as well as day 2*\n",
    "\n",
    "To change the behavior of the script only change the values of the dictionary days. Changing days dict can filter out the images to the days the images were clicked. \n",
    "\n",
    "The first level calculations are based on what pictures were clicked and by applying the Pertersen-Lincoln Index calculations\n",
    "\n",
    "The second level calculations will filter out only the images that were shared (only highly shared images with proportion >= 80)."
   ]
  },
  {
   "cell_type": "code",
   "execution_count": 33,
   "metadata": {
    "collapsed": false
   },
   "outputs": [],
   "source": [
    "import json\n",
    "from datetime import datetime\n",
    "import DataStructsHelperAPI as DS\n",
    "import JobsMapResultsFilesToContainerObjs as J\n",
    "import importlib\n",
    "importlib.reload(J)\n",
    "import pandas as pd\n",
    "import cufflinks as cf # this is necessary to link pandas to plotly\n",
    "cf.go_online()\n",
    "from plotly.offline import download_plotlyjs, init_notebook_mode, plot, iplot\n",
    "import MarkRecapHelper as MR\n",
    "import importlib\n",
    "importlib.reload(MR)\n",
    "import DeriveFinalResultSet as DRS\n",
    "from collections import Counter"
   ]
  },
  {
   "cell_type": "code",
   "execution_count": null,
   "metadata": {
    "collapsed": true
   },
   "outputs": [],
   "source": [
    "days = {'2015-02-18' : '2015-02-18',\n",
    " '2015-02-19' : '2015-02-19',\n",
    " '2015-02-20' : '2015-02-20',\n",
    " '2015-02-25' : '2015-02-25',\n",
    " '2015-02-26' : '2015-02-26',\n",
    " '2015-03-01' : '2015-03-01',\n",
    " '2015-03-02' : '2015-03-02'}\n",
    "\n",
    "nidMarkRecapSet = MR.genNidMarkRecapDict(\"../data/imgs_exif_data_full.json\",\"../data/full_gid_aid_map.json\",\"../data/full_aid_features.json\",days)"
   ]
  },
  {
   "cell_type": "markdown",
   "metadata": {},
   "source": [
    "#### Visualizations on how pictures were taken.\n",
    "Visualizations on how individuals were identified across different days of the Great Zebra Count (GZC) rally. There are visuals which show how many individuals were identified on the first day, how many individuals were seen only on that day and how many individuals were first seen on that day."
   ]
  },
  {
   "cell_type": "code",
   "execution_count": null,
   "metadata": {
    "collapsed": false
   },
   "outputs": [],
   "source": [
    "# How many individuals were identified on each day, \n",
    "# i.e. how many different individuals did we see each day?\n",
    "\n",
    "indsPerDay = {}\n",
    "for nid in nidMarkRecapSet:\n",
    "    for day in nidMarkRecapSet[nid]:\n",
    "        indsPerDay[day] = indsPerDay.get(day,0) + 1\n",
    "        \n",
    "df1 = pd.DataFrame(indsPerDay,index=['IndsIdentified']).transpose()\n",
    "\n",
    "fig1 = df1.iplot(kind='bar',filename='Individuals seen per day',title='Individuals seen per day')\n",
    "iframe1 = fig1.embed_code"
   ]
  },
  {
   "cell_type": "code",
   "execution_count": null,
   "metadata": {
    "collapsed": false
   },
   "outputs": [],
   "source": [
    "# How many individuals did we see only on that day, \n",
    "# i.e. how many individuals were only seen that day and not any other day.\n",
    "\n",
    "uniqIndsPerDay = {}\n",
    "for nid in nidMarkRecapSet:\n",
    "    if len(nidMarkRecapSet[nid]) == 1:\n",
    "        uniqIndsPerDay[nidMarkRecapSet[nid][0]] = uniqIndsPerDay.get(nidMarkRecapSet[nid][0],0) + 1\n",
    "        \n",
    "df2 = pd.DataFrame(uniqIndsPerDay,index=['IndsIdentifiedOnlyOnce']).transpose()\n",
    "\n",
    "fig2 = df2.iplot(kind='bar',filename='Individuals seen only that day',title='Individuals seen only that day')\n",
    "iframe2 = fig2.embed_code"
   ]
  },
  {
   "cell_type": "code",
   "execution_count": null,
   "metadata": {
    "collapsed": false
   },
   "outputs": [],
   "source": [
    "# How many individuals were first seen on that day, i.e. the unique number of animals that were identified on that day.\n",
    "# The total number of individuals across all the days is indeed equal to all the unique individuals in the database. We have 1997 identified individuals.\n",
    "indsSeenFirst = {}\n",
    "for nid in nidMarkRecapSet:\n",
    "    indsSeenFirst[min(nidMarkRecapSet[nid])] = indsSeenFirst.get(min(nidMarkRecapSet[nid]),0) + 1\n",
    "    \n",
    "df3 = pd.DataFrame(indsSeenFirst,index=['FirstTimeInds']).transpose()\n",
    "\n",
    "fig3 = df3.iplot(kind='bar',filename='Individuals first seen on that day',title='Individuals first seen on that day')\n",
    "iframe3 = fig3.embed_code"
   ]
  },
  {
   "cell_type": "code",
   "execution_count": null,
   "metadata": {
    "collapsed": false
   },
   "outputs": [],
   "source": [
    "df1['IndsIdentifiedOnlyOnce'] = df2['IndsIdentifiedOnlyOnce']\n",
    "df1['FirstTimeInds'] = df3['FirstTimeInds']\n",
    "\n",
    "df1.columns = ['Total inds seen today','Inds seen only today','Inds first seen today']\n",
    "fig4 = df1.iplot(kind='bar',filename='Distribution of sightings',title='Distribution of sightings')\n",
    "iframe4 = fig4.embed_code"
   ]
  },
  {
   "cell_type": "markdown",
   "metadata": {},
   "source": [
    "### Actual Mark-Recapture Calculations\n",
    "\n",
    "#### The below snippets only consider photos clicked and _NOT_ shared data."
   ]
  },
  {
   "cell_type": "code",
   "execution_count": 4,
   "metadata": {
    "collapsed": true
   },
   "outputs": [],
   "source": [
    "days = {'2015-03-01' : 1,\n",
    "        '2015-03-02' : 2 }"
   ]
  },
  {
   "cell_type": "code",
   "execution_count": 15,
   "metadata": {
    "collapsed": false
   },
   "outputs": [
    {
     "name": "stdout",
     "output_type": "stream",
     "text": [
      "Population of all animals = 3620.930233\n"
     ]
    },
    {
     "data": {
      "text/plain": [
       "(1038, 129)"
      ]
     },
     "execution_count": 15,
     "metadata": {},
     "output_type": "execute_result"
    }
   ],
   "source": [
    "# Entire population estimate (includes giraffes and zebras)\n",
    "nidMarkRecapSet = MR.genNidMarkRecapDict(\"../data/imgs_exif_data_full.json\",\"../data/full_gid_aid_map.json\",\"../data/full_aid_features.json\",\"../FinalResults/rankListImages_expt2.csv\",days,shareData=None)\n",
    "marks,recaptures,population = MR.applyMarkRecap(nidMarkRecapSet)\n",
    "print(\"Population of all animals = %f\" %population)\n",
    "marks,recaptures"
   ]
  },
  {
   "cell_type": "code",
   "execution_count": 16,
   "metadata": {
    "collapsed": false
   },
   "outputs": [
    {
     "name": "stdout",
     "output_type": "stream",
     "text": [
      "Population of zebras = 3468.352941\n"
     ]
    },
    {
     "data": {
      "text/plain": [
       "(951, 119)"
      ]
     },
     "execution_count": 16,
     "metadata": {},
     "output_type": "execute_result"
    }
   ],
   "source": [
    "nidMarkRecapSet_Zebras = MR.genNidMarkRecapDict(\"../data/imgs_exif_data_full.json\",\"../data/full_gid_aid_map.json\",\"../data/full_aid_features.json\",\"../FinalResults/rankListImages_expt2.csv\",days,'zebra_plains',shareData=None)\n",
    "marks,recaptures,population = MR.applyMarkRecap(nidMarkRecapSet_Zebras)\n",
    "print(\"Population of zebras = %f\" %population)\n",
    "marks,recaptures"
   ]
  },
  {
   "cell_type": "code",
   "execution_count": 17,
   "metadata": {
    "collapsed": false
   },
   "outputs": [
    {
     "name": "stdout",
     "output_type": "stream",
     "text": [
      "Population of giraffes = 176.800000\n"
     ]
    },
    {
     "data": {
      "text/plain": [
       "(104, 10)"
      ]
     },
     "execution_count": 17,
     "metadata": {},
     "output_type": "execute_result"
    }
   ],
   "source": [
    "nidMarkRecapSet_Giraffes = MR.genNidMarkRecapDict(\"../data/imgs_exif_data_full.json\",\"../data/full_gid_aid_map.json\",\"../data/full_aid_features.json\",\"../FinalResults/rankListImages_expt2.csv\",days,'giraffe_masai',shareData=None)\n",
    "marks,recaptures,population = MR.applyMarkRecap(nidMarkRecapSet_Giraffes)\n",
    "print(\"Population of giraffes = %f\" %population)\n",
    "marks,recaptures"
   ]
  },
  {
   "cell_type": "markdown",
   "metadata": {
    "collapsed": true
   },
   "source": [
    "#### The below snippets consider the share data"
   ]
  },
  {
   "cell_type": "code",
   "execution_count": 25,
   "metadata": {
    "collapsed": false
   },
   "outputs": [
    {
     "name": "stdout",
     "output_type": "stream",
     "text": [
      "Population of all animals = 2709.000000\n"
     ]
    },
    {
     "data": {
      "text/plain": [
       "(104, 10)"
      ]
     },
     "execution_count": 25,
     "metadata": {},
     "output_type": "execute_result"
    }
   ],
   "source": [
    "nidMarkRecapSet_share = MR.genNidMarkRecapDict(\"../data/imgs_exif_data_full.json\",\n",
    "                       \"../data/full_gid_aid_map.json\",\n",
    "                       \"../data/full_aid_features.json\",\n",
    "                       \"../FinalResults/rankListImages_expt2.csv\",\n",
    "                       days,\n",
    "                       None,\n",
    "                       shareData='proportion')\n",
    "mark,recapture,population = MR.applyMarkRecap(nidMarkRecapSet_share)\n",
    "print(\"Population of all animals = %f\" %population)\n",
    "marks,recaptures"
   ]
  },
  {
   "cell_type": "code",
   "execution_count": 26,
   "metadata": {
    "collapsed": false
   },
   "outputs": [
    {
     "name": "stdout",
     "output_type": "stream",
     "text": [
      "Population of zebras = 0.000000\n"
     ]
    },
    {
     "name": "stderr",
     "output_type": "stream",
     "text": [
      "/Users/sreejithmenon/Google Drive/Project/AnimalPhotoBias/script/MarkRecapHelper.py:58: UserWarning:\n",
      "\n",
      "There are no recaptures for this case.\n",
      "\n"
     ]
    },
    {
     "data": {
      "text/plain": [
       "(104, 10)"
      ]
     },
     "execution_count": 26,
     "metadata": {},
     "output_type": "execute_result"
    }
   ],
   "source": [
    "nidMarkRecapSet_share = MR.genNidMarkRecapDict(\"../data/imgs_exif_data_full.json\",\n",
    "                       \"../data/full_gid_aid_map.json\",\n",
    "                       \"../data/full_aid_features.json\",\n",
    "                       \"../FinalResults/rankListImages_expt2.csv\",\n",
    "                       days,\n",
    "                       'zebra_plains',\n",
    "                       shareData='proportion')\n",
    "mark,recapture,population = MR.applyMarkRecap(nidMarkRecapSet_share)\n",
    "print(\"Population of zebras = %f\" %population)\n",
    "marks,recaptures"
   ]
  },
  {
   "cell_type": "code",
   "execution_count": 27,
   "metadata": {
    "collapsed": false
   },
   "outputs": [
    {
     "name": "stdout",
     "output_type": "stream",
     "text": [
      "Population of giraffes = 69.000000\n"
     ]
    },
    {
     "data": {
      "text/plain": [
       "(104, 10)"
      ]
     },
     "execution_count": 27,
     "metadata": {},
     "output_type": "execute_result"
    }
   ],
   "source": [
    "nidMarkRecapSet_share = MR.genNidMarkRecapDict(\"../data/imgs_exif_data_full.json\",\n",
    "                       \"../data/full_gid_aid_map.json\",\n",
    "                       \"../data/full_aid_features.json\",\n",
    "                       \"../FinalResults/rankListImages_expt2.csv\",\n",
    "                       days,\n",
    "                       'giraffe_masai',\n",
    "                       shareData='proportion')\n",
    "mark,recapture,population = MR.applyMarkRecap(nidMarkRecapSet_share)\n",
    "print(\"Population of giraffes = %f\" %population)\n",
    "marks,recaptures"
   ]
  },
  {
   "cell_type": "code",
   "execution_count": 31,
   "metadata": {
    "collapsed": false
   },
   "outputs": [
    {
     "name": "stdout",
     "output_type": "stream",
     "text": [
      "len(gidsDayNumFull) = 8\n",
      "len(gidNid) = 1578\n",
      "len(gidSpecies) = 1578\n",
      "len(gidsDayNum) = 0\n",
      "0\n",
      "0\n",
      "Estimate for the year : 2004 & 2005\n",
      "Number of marks : 0\n",
      "Number of recaptures : 0\n",
      "Estimated population : 0.000000\n",
      "\n",
      "len(gidsDayNumFull) = 8\n",
      "len(gidNid) = 1578\n",
      "len(gidSpecies) = 1578\n",
      "len(gidsDayNum) = 0\n",
      "0\n",
      "0\n",
      "Estimate for the year : 2005 & 2006\n",
      "Number of marks : 0\n",
      "Number of recaptures : 0\n",
      "Estimated population : 0.000000\n",
      "\n"
     ]
    },
    {
     "name": "stderr",
     "output_type": "stream",
     "text": [
      "/Users/sreejithmenon/Google Drive/CodeBase/AWESOME/script/MarkRecapHelper.py:103: UserWarning:\n",
      "\n",
      "There are no recaptures for this case.\n",
      "\n"
     ]
    },
    {
     "name": "stdout",
     "output_type": "stream",
     "text": [
      "len(gidsDayNumFull) = 7\n",
      "len(gidNid) = 1578\n",
      "len(gidSpecies) = 1578\n",
      "len(gidsDayNum) = 0\n",
      "0\n",
      "0\n",
      "Estimate for the year : 2007 & 2006\n",
      "Number of marks : 0\n",
      "Number of recaptures : 0\n",
      "Estimated population : 0.000000\n",
      "\n",
      "len(gidsDayNumFull) = 9\n",
      "len(gidNid) = 1578\n",
      "len(gidSpecies) = 1578\n",
      "len(gidsDayNum) = 0\n",
      "0\n",
      "0\n",
      "Estimate for the year : 2008 & 2007\n",
      "Number of marks : 0\n",
      "Number of recaptures : 0\n",
      "Estimated population : 0.000000\n",
      "\n",
      "len(gidsDayNumFull) = 15\n",
      "len(gidNid) = 1578\n",
      "len(gidSpecies) = 1578\n",
      "len(gidsDayNum) = 0\n",
      "0\n",
      "0\n",
      "Estimate for the year : 2008 & 2009\n",
      "Number of marks : 0\n",
      "Number of recaptures : 0\n",
      "Estimated population : 0.000000\n",
      "\n",
      "len(gidsDayNumFull) = 27\n",
      "len(gidNid) = 1578\n",
      "len(gidSpecies) = 1578\n",
      "len(gidsDayNum) = 0\n",
      "0\n",
      "0\n",
      "Estimate for the year : 2010 & 2009\n",
      "Number of marks : 0\n",
      "Number of recaptures : 0\n",
      "Estimated population : 0.000000\n",
      "\n",
      "len(gidsDayNumFull) = 37\n",
      "len(gidNid) = 1578\n",
      "len(gidSpecies) = 1578\n",
      "len(gidsDayNum) = 0\n",
      "0\n",
      "0\n",
      "Estimate for the year : 2010 & 2011\n",
      "Number of marks : 0\n",
      "Number of recaptures : 0\n",
      "Estimated population : 0.000000\n",
      "\n",
      "len(gidsDayNumFull) = 142\n",
      "len(gidNid) = 1578\n",
      "len(gidSpecies) = 1578\n",
      "len(gidsDayNum) = 0\n",
      "0\n",
      "0\n",
      "Estimate for the year : 2015 & 2014\n",
      "Number of marks : 0\n",
      "Number of recaptures : 0\n",
      "Estimated population : 0.000000\n",
      "\n"
     ]
    }
   ],
   "source": [
    "days = [{'2004' : 1, '2005' : 2 },{'2005' : 1, '2006' : 2 }, {'2006' : 1, '2007' : 2 }, {'2007' : 1, '2008' : 2 }, {'2008' : 1, '2009' : 2 }, {'2009' : 1, '2010' : 2 }, {'2010' : 1, '2011' : 2 }, {'2014' : 1, '2015' : 2 }] \n",
    "for i in range(len(days)):\n",
    "    nidMarkRecapSet = MR.genNidMarkRecapDict(\"../data/Flickr_Giraffe_EXIF.json\",\n",
    "                                         \"../data/Flickr_IBEIS_Ftrs_gid_aid_map.json\",\n",
    "                                         \"../data/Flickr_IBEIS_Giraffe_Ftrs_aid_features.json\",\n",
    "                                         \"../FinalResults/rankListImages_expt2.csv\", # this is useless\n",
    "                                         days[i],\n",
    "                                         shareData='other',\n",
    "                                        filterBySpecies='giraffe_reticulated')\n",
    "    print(len(nidMarkRecapSet))\n",
    "    marks, recaps, population, confidence = MR.applyMarkRecap(nidMarkRecapSet)\n",
    "      \n",
    "    print(\"Estimate for the year : \"  + ' & '.join(list(days[i].keys())))\n",
    "    print(\"Number of marks : %i\" %marks)\n",
    "    print(\"Number of recaptures : %i\" %recaps)\n",
    "    print(\"Estimated population : %f\" %population)\n",
    "    print()"
   ]
  },
  {
   "cell_type": "code",
   "execution_count": 3,
   "metadata": {
    "collapsed": false
   },
   "outputs": [
    {
     "name": "stdout",
     "output_type": "stream",
     "text": [
      "Number of unique individuals identified : 1355\n"
     ]
    }
   ],
   "source": [
    "inGidAidMapFl, inAidFtrFl = \"../data/Flickr_IBEIS_Ftrs_gid_aid_map.json\", \"../data/Flickr_IBEIS_Ftrs_aid_features.json\",\n",
    "\n",
    "gidNid = DRS.getCountingLogic(inGidAidMapFl,inAidFtrFl,\"NID\",False)\n",
    "flickr_nids = list(gidNid.values())\n",
    "flickr_nids = [item for sublist in flickr_nids for item in sublist]\n",
    "\n",
    "print(\"Number of unique individuals identified : %i\" %len(set(flickr_nids)))"
   ]
  },
  {
   "cell_type": "code",
   "execution_count": 14,
   "metadata": {
    "collapsed": false
   },
   "outputs": [],
   "source": [
    "occurence = Counter(flickr_nids)"
   ]
  },
  {
   "cell_type": "code",
   "execution_count": 2,
   "metadata": {
    "collapsed": false
   },
   "outputs": [],
   "source": [
    "inExifFl = \"../data/Flickr_EXIF_full.json\"\n",
    "with open(inExifFl, \"r\") as fl:\n",
    "    obj = json.load(fl)"
   ]
  },
  {
   "cell_type": "code",
   "execution_count": 19,
   "metadata": {
    "collapsed": false
   },
   "outputs": [],
   "source": [
    "'''\n",
    "lat in between -1.50278 and 1.504953\n",
    "long in between 35.174045 and 38.192836\n",
    "'''\n",
    "\n",
    "gids_geoTagged = [gid for gid in obj.keys() if int(gid) < 1702 and obj[gid]['lat'] != 0 ]\n",
    "gids_nairobi = [gid for gid in obj.keys() if int(gid) <1702 and obj[gid]['lat'] >= -1.50278 and obj[gid]['lat'] <= 1.504953 and obj[gid]['long'] >= 35.174045 and obj[gid]['long'] <= 38.192836 ]\n",
    "gids_zoo = list(set(gids_geoTagged) - set(gids_nairobi))"
   ]
  },
  {
   "cell_type": "code",
   "execution_count": 6,
   "metadata": {
    "collapsed": false
   },
   "outputs": [],
   "source": [
    "import DeriveFinalResultSet as DRS, DataStructsHelperAPI as DS"
   ]
  },
  {
   "cell_type": "code",
   "execution_count": 4,
   "metadata": {
    "collapsed": false
   },
   "outputs": [],
   "source": [
    "inGidAidMapFl, inAidFtrFl = \"../data/Flickr_IBEIS_Ftrs_gid_aid_map.json\", \"../data/Flickr_IBEIS_Ftrs_aid_features.json\",\n",
    "\n",
    "gidNid = DRS.getCountingLogic(inGidAidMapFl,inAidFtrFl,\"NID\",False)"
   ]
  },
  {
   "cell_type": "code",
   "execution_count": 25,
   "metadata": {
    "collapsed": false
   },
   "outputs": [],
   "source": [
    "locs = []\n",
    "for gid in gidNid.keys():\n",
    "    if gid in gids:\n",
    "        for nid in gidNid[gid]:\n",
    "            locs.append((obj[gid]['lat'], obj[gid]['long']))"
   ]
  },
  {
   "cell_type": "code",
   "execution_count": 10,
   "metadata": {
    "collapsed": false
   },
   "outputs": [],
   "source": [
    "nid_gid = DS.flipKeyValue(gidNid)"
   ]
  },
  {
   "cell_type": "code",
   "execution_count": 22,
   "metadata": {
    "collapsed": false
   },
   "outputs": [],
   "source": [
    "nids_zoo = []\n",
    "\n",
    "for gid in gidNid.keys():\n",
    "    if gid in gids_zoo:\n",
    "        nids_zoo.extend(gidNid[gid])"
   ]
  },
  {
   "cell_type": "code",
   "execution_count": 26,
   "metadata": {
    "collapsed": false
   },
   "outputs": [
    {
     "data": {
      "text/plain": [
       "(604, 631)"
      ]
     },
     "execution_count": 26,
     "metadata": {},
     "output_type": "execute_result"
    }
   ],
   "source": [
    "len(gids_zoo), len(nids_zoo)"
   ]
  },
  {
   "cell_type": "code",
   "execution_count": 32,
   "metadata": {
    "collapsed": true
   },
   "outputs": [],
   "source": [
    "# removing all nids that are in zoos, with it you will also remove the other occurences of images in which that individual occurs.\n",
    "nids_only_wild_gid =  {nid : nid_gid[nid] for nid in nid_gid.keys() if nid not in nids_zoo}\n",
    "nids_zoo_wild_gid = {nid : nid_gid[nid] for nid in nid_gid.keys() if nid in nids_zoo}"
   ]
  },
  {
   "cell_type": "code",
   "execution_count": 34,
   "metadata": {
    "collapsed": false
   },
   "outputs": [
    {
     "data": {
      "text/plain": [
       "(901, 454)"
      ]
     },
     "execution_count": 34,
     "metadata": {},
     "output_type": "execute_result"
    }
   ],
   "source": [
    "len(list(nids_only_wild_gid.values())), len(nids_zoo_wild_gid.values())"
   ]
  },
  {
   "cell_type": "code",
   "execution_count": 39,
   "metadata": {
    "collapsed": false
   },
   "outputs": [
    {
     "data": {
      "text/plain": [
       "869"
      ]
     },
     "execution_count": 39,
     "metadata": {},
     "output_type": "execute_result"
    }
   ],
   "source": [
    "len({gid for sublist in list(nids_only_wild_gid.values()) for gid in sublist})"
   ]
  },
  {
   "cell_type": "code",
   "execution_count": 40,
   "metadata": {
    "collapsed": false
   },
   "outputs": [
    {
     "data": {
      "text/plain": [
       "812"
      ]
     },
     "execution_count": 40,
     "metadata": {},
     "output_type": "execute_result"
    }
   ],
   "source": [
    "len({gid for sublist in list(nids_zoo_wild_gid.values()) for gid in sublist})"
   ]
  },
  {
   "cell_type": "code",
   "execution_count": 42,
   "metadata": {
    "collapsed": false
   },
   "outputs": [
    {
     "data": {
      "text/plain": [
       "1701"
      ]
     },
     "execution_count": 42,
     "metadata": {},
     "output_type": "execute_result"
    }
   ],
   "source": [
    "max(list(map(int, list(gidNid.keys()))))"
   ]
  },
  {
   "cell_type": "code",
   "execution_count": 45,
   "metadata": {
    "collapsed": false
   },
   "outputs": [
    {
     "data": {
      "text/plain": [
       "['126']"
      ]
     },
     "execution_count": 45,
     "metadata": {},
     "output_type": "execute_result"
    }
   ],
   "source": [
    "gidNid['110']"
   ]
  },
  {
   "cell_type": "code",
   "execution_count": 47,
   "metadata": {
    "collapsed": true
   },
   "outputs": [],
   "source": [
    "l =[12,12,12,12,12]\n",
    "l.extend([1,2,3])"
   ]
  },
  {
   "cell_type": "code",
   "execution_count": 21,
   "metadata": {
    "collapsed": false
   },
   "outputs": [
    {
     "name": "stdout",
     "output_type": "stream",
     "text": [
      "a = 5\n"
     ]
    }
   ],
   "source": [
    "a = 5\n",
    "\n",
    "print(\"a = %d\" %a)"
   ]
  },
  {
   "cell_type": "code",
   "execution_count": 34,
   "metadata": {
    "collapsed": false
   },
   "outputs": [
    {
     "name": "stdout",
     "output_type": "stream",
     "text": [
      "len(gidsDayNumFull) = 142\n",
      "len(gidNid) = 1578\n",
      "len(gidSpecies) = 1578\n"
     ]
    },
    {
     "data": {
      "text/plain": [
       "{}"
      ]
     },
     "execution_count": 34,
     "metadata": {},
     "output_type": "execute_result"
    }
   ],
   "source": [
    "gidsDayNumFull, gidSpecies = MR.genNidMarkRecapDict(\"../data/Flickr_Giraffe_EXIF.json\",\n",
    "                                         \"../data/Flickr_IBEIS_Ftrs_gid_aid_map.json\",\n",
    "                                         \"../data/Flickr_IBEIS_Giraffe_Ftrs_aid_features.json\",\n",
    "                                         \"../FinalResults/rankListImages_expt2.csv\", # this is useless\n",
    "                                         days[i],\n",
    "                                         shareData='other',\n",
    "                                        filterBySpecies='giraffe_reticulated')"
   ]
  },
  {
   "cell_type": "code",
   "execution_count": null,
   "metadata": {
    "collapsed": true
   },
   "outputs": [],
   "source": []
  }
 ],
 "metadata": {
  "kernelspec": {
   "display_name": "Python 3",
   "language": "python",
   "name": "python3"
  },
  "language_info": {
   "codemirror_mode": {
    "name": "ipython",
    "version": 3
   },
   "file_extension": ".py",
   "mimetype": "text/x-python",
   "name": "python",
   "nbconvert_exporter": "python",
   "pygments_lexer": "ipython3",
   "version": "3.5.2"
  }
 },
 "nbformat": 4,
 "nbformat_minor": 0
}
