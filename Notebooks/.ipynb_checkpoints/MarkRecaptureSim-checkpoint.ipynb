{
 "cells": [
  {
   "cell_type": "markdown",
   "metadata": {},
   "source": [
    "### Notebook name: MarkRecaptureSim.ipynb\n",
    "#### Author: Sreejith Menon (smenon8@uic.edu)\n",
    "\n",
    "#### Mark Recapture Simulation Notebook\n",
    "\n",
    "Recognize individuals that appeared on day 1 and then on day 2\n",
    "Individuals that appear on day 1 are **marks**.    \n",
    "If the same individuals appear on day 2 then these are **recaptures**\n",
    "\n",
    "*By appeared it means the individuals who were photographed on day 1 as well as day 2*\n",
    "\n",
    "To change the behavior of the script only change the values of the dictionary days. Changing days dict can filter out the images to the days the images were clicked. "
   ]
  },
  {
   "cell_type": "code",
   "execution_count": 186,
   "metadata": {
    "collapsed": false
   },
   "outputs": [],
   "source": [
    "import json\n",
    "from datetime import datetime\n",
    "import DataStructsHelperAPI as DS\n",
    "import importlib\n",
    "importlib.reload(DS)\n",
    "import GetPropertiesAPI as GP\n",
    "import BuildConsolidatedFeaturesFile as BCF\n",
    "importlib.reload(BCF)\n",
    "import pandas as pd\n",
    "import cufflinks as cf # this is necessary to link pandas to plotly\n",
    "cf.go_online()\n",
    "from plotly.offline import download_plotlyjs, init_notebook_mode, plot, iplot"
   ]
  },
  {
   "cell_type": "code",
   "execution_count": 73,
   "metadata": {
    "collapsed": true
   },
   "outputs": [],
   "source": [
    "with open(\"../data/imgs_exif_data_full.json\",\"r\") as inpFl:\n",
    "    jsonObj = json.load(inpFl)"
   ]
  },
  {
   "cell_type": "code",
   "execution_count": 121,
   "metadata": {
    "collapsed": false
   },
   "outputs": [],
   "source": [
    "# Extract only the date information for all the given images\n",
    "imgDateDict = {gid : DS.getDateFromStr(jsonObj[gid]['datetime'],'%Y-%m-%d %H:%M:%S','%Y-%m-%d') for gid in jsonObj.keys()}\n",
    "\n",
    "# divide the days into day 1 and day 2 \n",
    "days = {'2015-02-18' : '2015-02-18',\n",
    " '2015-02-19' : '2015-02-19',\n",
    " '2015-02-20' : '2015-02-20',\n",
    " '2015-02-25' : '2015-02-25',\n",
    " '2015-02-26' : '2015-02-26',\n",
    " '2015-03-01' : '2015-03-01',\n",
    " '2015-03-02' : '2015-03-02'}\n",
    "\n",
    "# days = {'2015-03-01' : 1,\n",
    "#         '2015-03-02' : 2 }\n",
    "\n",
    "# filter out only the GIDs that were taken on either day1 on day2\n",
    "filteredGid = filter(lambda x : imgDateDict[x] in days.keys(),imgDateDict.keys())\n",
    "\n",
    "# Replace the day with Mark or Recapture\n",
    "gidsDayNum = { gid : days[imgDateDict[gid]] for gid in filteredGid } "
   ]
  },
  {
   "cell_type": "code",
   "execution_count": 122,
   "metadata": {
    "collapsed": false
   },
   "outputs": [],
   "source": [
    "with open(\"../data/full_gid_aid_map.json\",\"r\") as inpJson:\n",
    "    gidAidMap = json.load(inpJson)\n",
    "\n",
    "# Extract only the GIDs which are either taken on day 1 or day 2 and have a valid annotation\n",
    "gidAidOfInterest = { gid : gidAidMap[gid][0] for gid in gidsDayNum.keys() if len(gidAidMap[gid][0]) != 0}"
   ]
  },
  {
   "cell_type": "code",
   "execution_count": 123,
   "metadata": {
    "collapsed": false
   },
   "outputs": [],
   "source": [
    "with open(\"../data/full_aid_features.json\",\"r\") as inpJson:\n",
    "    aidFtr = json.load(inpJson)\n",
    "    \n",
    "gidNid = { gid : [aidFtr[str(aid)][0] for aid in gidAidOfInterest[gid]] for gid in gidAidOfInterest.keys() }"
   ]
  },
  {
   "cell_type": "code",
   "execution_count": 124,
   "metadata": {
    "collapsed": false
   },
   "outputs": [
    {
     "data": {
      "text/plain": [
       "9285"
      ]
     },
     "execution_count": 124,
     "metadata": {},
     "output_type": "execute_result"
    }
   ],
   "source": [
    "len(gidsDayNum.keys())"
   ]
  },
  {
   "cell_type": "code",
   "execution_count": 125,
   "metadata": {
    "collapsed": false
   },
   "outputs": [
    {
     "data": {
      "text/plain": [
       "6422"
      ]
     },
     "execution_count": 125,
     "metadata": {},
     "output_type": "execute_result"
    }
   ],
   "source": [
    "len(gidNid)"
   ]
  },
  {
   "cell_type": "code",
   "execution_count": 126,
   "metadata": {
    "collapsed": false
   },
   "outputs": [],
   "source": [
    "nidMarkRecap = {}\n",
    "for gid in gidNid.keys():\n",
    "    for nid in gidNid[gid]:\n",
    "        if nid > 0:\n",
    "            nidMarkRecap[nid] = nidMarkRecap.get(nid,[]) + [gidsDayNum[gid]]"
   ]
  },
  {
   "cell_type": "code",
   "execution_count": 101,
   "metadata": {
    "collapsed": false
   },
   "outputs": [],
   "source": [
    "uniqueIndsDay1 = [nid for nid in nidMarkRecap if 1 in nidMarkRecap[nid]]\n",
    "uniqueIndsDay2 = [nid for nid in nidMarkRecap if 2 in nidMarkRecap[nid]]"
   ]
  },
  {
   "cell_type": "code",
   "execution_count": 193,
   "metadata": {
    "collapsed": false
   },
   "outputs": [],
   "source": [
    "len(uniqueIndsDay1),len(uniqueIndsDay2)\n",
    "nidMarkRecapSet = { nid : list(set(nidMarkRecap[nid])) for nid in nidMarkRecap.keys()}"
   ]
  },
  {
   "cell_type": "code",
   "execution_count": 194,
   "metadata": {
    "collapsed": true
   },
   "outputs": [],
   "source": [
    "indsPerDay = {}\n",
    "for nid in nidMarkRecapSet:\n",
    "    for day in nidMarkRecapSet[nid]:\n",
    "        indsPerDay[day] = indsPerDay.get(day,0) + 1"
   ]
  },
  {
   "cell_type": "code",
   "execution_count": 195,
   "metadata": {
    "collapsed": false
   },
   "outputs": [],
   "source": [
    "df1 = pd.DataFrame(indsPerDay,index=['IndsIdentified']).transpose()\n",
    "\n",
    "fig1 = df1.iplot(kind='bar',filename='Individuals seen per day',title='Individuals seen per day')\n",
    "iframe1 = fig1.embed_code"
   ]
  },
  {
   "cell_type": "code",
   "execution_count": 188,
   "metadata": {
    "collapsed": false
   },
   "outputs": [],
   "source": [
    "uniqIndsPerDay = {}\n",
    "for nid in nidMarkRecapSet:\n",
    "    if len(nidMarkRecapSet[nid]) == 1:\n",
    "        uniqIndsPerDay[nidMarkRecapSet[nid][0]] = uniqIndsPerDay.get(nidMarkRecapSet[nid][0],0) + 1"
   ]
  },
  {
   "cell_type": "code",
   "execution_count": 189,
   "metadata": {
    "collapsed": false
   },
   "outputs": [],
   "source": [
    "df2 = pd.DataFrame(uniqIndsPerDay,index=['IndsIdentifiedOnlyOnce']).transpose()\n",
    "\n",
    "fig2 = df2.iplot(kind='bar',filename='Individuals seen only that day',title='Individuals seen only that day')\n",
    "iframe2 = fig2.embed_code"
   ]
  },
  {
   "cell_type": "code",
   "execution_count": 190,
   "metadata": {
    "collapsed": false
   },
   "outputs": [],
   "source": [
    "indsSeenFirst = {}\n",
    "for nid in nidMarkRecapSet:\n",
    "    indsSeenFirst[min(nidMarkRecapSet[nid])] = indsSeenFirst.get(min(nidMarkRecapSet[nid]),0) + 1"
   ]
  },
  {
   "cell_type": "code",
   "execution_count": 191,
   "metadata": {
    "collapsed": false
   },
   "outputs": [],
   "source": [
    "df3 = pd.DataFrame(indsSeenFirst,index=['FirstTimeInds']).transpose()\n",
    "\n",
    "fig3 = df3.iplot(kind='bar',filename='Individuals first seen on that day',title='Individuals first seen on that day')\n",
    "iframe3 = fig3.embed_code"
   ]
  },
  {
   "cell_type": "code",
   "execution_count": 196,
   "metadata": {
    "collapsed": false
   },
   "outputs": [
    {
     "data": {
      "text/plain": [
       "('<iframe id=\"igraph\" scrolling=\"no\" style=\"border:none;\" seamless=\"seamless\" src=\"https://plot.ly/~smenon8/125.embed\" height=\"525px\" width=\"100%\"></iframe>',\n",
       " '<iframe id=\"igraph\" scrolling=\"no\" style=\"border:none;\" seamless=\"seamless\" src=\"https://plot.ly/~smenon8/127.embed\" height=\"525px\" width=\"100%\"></iframe>',\n",
       " '<iframe id=\"igraph\" scrolling=\"no\" style=\"border:none;\" seamless=\"seamless\" src=\"https://plot.ly/~smenon8/129.embed\" height=\"525px\" width=\"100%\"></iframe>')"
      ]
     },
     "execution_count": 196,
     "metadata": {},
     "output_type": "execute_result"
    }
   ],
   "source": [
    "iframe1,iframe2,iframe3"
   ]
  },
  {
   "cell_type": "code",
   "execution_count": null,
   "metadata": {
    "collapsed": true
   },
   "outputs": [],
   "source": []
  }
 ],
 "metadata": {
  "kernelspec": {
   "display_name": "Python 3",
   "language": "python",
   "name": "python3"
  },
  "language_info": {
   "codemirror_mode": {
    "name": "ipython",
    "version": 3
   },
   "file_extension": ".py",
   "mimetype": "text/x-python",
   "name": "python",
   "nbconvert_exporter": "python",
   "pygments_lexer": "ipython3",
   "version": "3.5.2"
  }
 },
 "nbformat": 4,
 "nbformat_minor": 0
}
