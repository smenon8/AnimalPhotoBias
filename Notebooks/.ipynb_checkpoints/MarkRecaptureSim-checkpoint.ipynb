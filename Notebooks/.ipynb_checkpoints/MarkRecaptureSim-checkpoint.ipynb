{
 "cells": [
  {
   "cell_type": "markdown",
   "metadata": {},
   "source": [
    "### Notebook name: MarkRecaptureSim.ipynb\n",
    "#### Author: Sreejith Menon (smenon8@uic.edu)\n",
    "\n",
    "#### Mark Recapture Simulation Notebook\n",
    "\n",
    "Recognize individuals that appeared on day 1 and then on day 2\n",
    "Individuals that appear on day 1 are **marks**.    \n",
    "If the same individuals appear on day 2 then these are **recaptures**\n",
    "\n",
    "*By appeared it means the individuals who were photographed on day 1 as well as day 2*\n",
    "\n",
    "To change the behavior of the script only change the values of the dictionary days. Changing days dict can filter out the images to the days the images were clicked. "
   ]
  },
  {
   "cell_type": "code",
   "execution_count": 46,
   "metadata": {
    "collapsed": false
   },
   "outputs": [
    {
     "data": {
      "text/plain": [
       "<module 'MarkRecapHelper' from '/Users/sreejithmenon/Google Drive/Project/AnimalPhotoBias/script/MarkRecapHelper.py'>"
      ]
     },
     "execution_count": 46,
     "metadata": {},
     "output_type": "execute_result"
    }
   ],
   "source": [
    "import json\n",
    "from datetime import datetime\n",
    "import DataStructsHelperAPI as DS\n",
    "import importlib\n",
    "importlib.reload(DS)\n",
    "import pandas as pd\n",
    "import cufflinks as cf # this is necessary to link pandas to plotly\n",
    "cf.go_online()\n",
    "from plotly.offline import download_plotlyjs, init_notebook_mode, plot, iplot\n",
    "import MarkRecapHelper as MR\n",
    "import importlib\n",
    "importlib.reload(MR)"
   ]
  },
  {
   "cell_type": "markdown",
   "metadata": {},
   "source": [
    "#### Visualizations on how pictures were taken.\n",
    "Visualizations on how individuals were identified across different days of the Great Zebra Count (GZC) rally. There are visuals which show how many individuals were identified on the first day, how many individuals were seen only on that day and how many individuals were first seen on that day."
   ]
  },
  {
   "cell_type": "code",
   "execution_count": null,
   "metadata": {
    "collapsed": true
   },
   "outputs": [],
   "source": [
    "# How many individuals were identified on each day, \n",
    "# i.e. how many different individuals did we see each day?\n",
    "\n",
    "indsPerDay = {}\n",
    "for nid in nidMarkRecapSet:\n",
    "    for day in nidMarkRecapSet[nid]:\n",
    "        indsPerDay[day] = indsPerDay.get(day,0) + 1\n",
    "        \n",
    "df1 = pd.DataFrame(indsPerDay,index=['IndsIdentified']).transpose()\n",
    "\n",
    "fig1 = df1.iplot(kind='bar',filename='Individuals seen per day',title='Individuals seen per day')\n",
    "iframe1 = fig1.embed_code"
   ]
  },
  {
   "cell_type": "code",
   "execution_count": null,
   "metadata": {
    "collapsed": false
   },
   "outputs": [],
   "source": [
    "# How many individuals did we see only on that day, \n",
    "# i.e. how many individuals were only seen that day and not any other day.\n",
    "\n",
    "uniqIndsPerDay = {}\n",
    "for nid in nidMarkRecapSet:\n",
    "    if len(nidMarkRecapSet[nid]) == 1:\n",
    "        uniqIndsPerDay[nidMarkRecapSet[nid][0]] = uniqIndsPerDay.get(nidMarkRecapSet[nid][0],0) + 1\n",
    "        \n",
    "df2 = pd.DataFrame(uniqIndsPerDay,index=['IndsIdentifiedOnlyOnce']).transpose()\n",
    "\n",
    "fig2 = df2.iplot(kind='bar',filename='Individuals seen only that day',title='Individuals seen only that day')\n",
    "iframe2 = fig2.embed_code"
   ]
  },
  {
   "cell_type": "code",
   "execution_count": null,
   "metadata": {
    "collapsed": false
   },
   "outputs": [],
   "source": [
    "# How many individuals were first seen on that day, i.e. the unique number of animals that were identified on that day.\n",
    "# The total number of individuals across all the days is indeed equal to all the unique individuals in the database. We have 1997 identified individuals.\n",
    "indsSeenFirst = {}\n",
    "for nid in nidMarkRecapSet:\n",
    "    indsSeenFirst[min(nidMarkRecapSet[nid])] = indsSeenFirst.get(min(nidMarkRecapSet[nid]),0) + 1\n",
    "    \n",
    "df3 = pd.DataFrame(indsSeenFirst,index=['FirstTimeInds']).transpose()\n",
    "\n",
    "fig3 = df3.iplot(kind='bar',filename='Individuals first seen on that day',title='Individuals first seen on that day')\n",
    "iframe3 = fig3.embed_code"
   ]
  },
  {
   "cell_type": "code",
   "execution_count": null,
   "metadata": {
    "collapsed": false
   },
   "outputs": [],
   "source": [
    "iframe1,iframe2,iframe3"
   ]
  },
  {
   "cell_type": "markdown",
   "metadata": {},
   "source": [
    "### Actual Mark-Recapture Calculations"
   ]
  },
  {
   "cell_type": "code",
   "execution_count": null,
   "metadata": {
    "collapsed": true
   },
   "outputs": [],
   "source": [
    "# days = {'2015-02-18' : '2015-02-18',\n",
    "#  '2015-02-19' : '2015-02-19',\n",
    "#  '2015-02-20' : '2015-02-20',\n",
    "#  '2015-02-25' : '2015-02-25',\n",
    "#  '2015-02-26' : '2015-02-26',\n",
    "#  '2015-03-01' : '2015-03-01',\n",
    "#  '2015-03-02' : '2015-03-02'}\n",
    "\n",
    "days = {'2015-03-01' : 1,\n",
    "        '2015-03-02' : 2 }\n"
   ]
  },
  {
   "cell_type": "code",
   "execution_count": 52,
   "metadata": {
    "collapsed": false
   },
   "outputs": [
    {
     "name": "stdout",
     "output_type": "stream",
     "text": [
      "Population of all animals = 3620.930233\n"
     ]
    }
   ],
   "source": [
    "# Entire population estimate (includes giraffes and zebras)\n",
    "nidMarkRecapSet = MR.genNidMarkRecapDict(\"../data/imgs_exif_data_full.json\",\"../data/full_gid_aid_map.json\",\"../data/full_aid_features.json\",days)\n",
    "population = MR.applyMarkRecap(nidMarkRecapSet)\n",
    "print(\"Population of all animals = %f\" %population)"
   ]
  },
  {
   "cell_type": "code",
   "execution_count": 53,
   "metadata": {
    "collapsed": false
   },
   "outputs": [
    {
     "name": "stdout",
     "output_type": "stream",
     "text": [
      "Population of zebras = 3468.352941\n"
     ]
    }
   ],
   "source": [
    "nidMarkRecapSet_Zebras = MR.genNidMarkRecapDict(\"../data/imgs_exif_data_full.json\",\"../data/full_gid_aid_map.json\",\"../data/full_aid_features.json\",days,'zebra_plains')\n",
    "population = MR.applyMarkRecap(nidMarkRecapSet_Zebras)\n",
    "print(\"Population of zebras = %f\" %population)"
   ]
  },
  {
   "cell_type": "code",
   "execution_count": 54,
   "metadata": {
    "collapsed": false
   },
   "outputs": [
    {
     "name": "stdout",
     "output_type": "stream",
     "text": [
      "Population of giraffes = 176.800000\n"
     ]
    }
   ],
   "source": [
    "nidMarkRecapSet_Giraffes = MR.genNidMarkRecapDict(\"../data/imgs_exif_data_full.json\",\"../data/full_gid_aid_map.json\",\"../data/full_aid_features.json\",days,'giraffe_masai')\n",
    "population = MR.applyMarkRecap(nidMarkRecapSet_Giraffes)\n",
    "print(\"Population of giraffes = %f\" %population)"
   ]
  }
 ],
 "metadata": {
  "kernelspec": {
   "display_name": "Python 3",
   "language": "python",
   "name": "python3"
  },
  "language_info": {
   "codemirror_mode": {
    "name": "ipython",
    "version": 3
   },
   "file_extension": ".py",
   "mimetype": "text/x-python",
   "name": "python",
   "nbconvert_exporter": "python",
   "pygments_lexer": "ipython3",
   "version": "3.5.2"
  }
 },
 "nbformat": 4,
 "nbformat_minor": 0
}
