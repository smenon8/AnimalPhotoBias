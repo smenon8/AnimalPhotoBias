{
 "cells": [
  {
   "cell_type": "code",
   "execution_count": 9,
   "metadata": {
    "collapsed": false
   },
   "outputs": [],
   "source": [
    "import DeriveFinalResultSet as DRS\n",
    "import DataStructsHelperAPI as DS\n",
    "import importlib\n",
    "importlib.reload(DS)\n",
    "import pandas as pd\n",
    "import cufflinks as cf # this is necessary to link pandas to plotly\n",
    "cf.go_online()\n",
    "import plotly.graph_objs as go\n",
    "import numpy as np\n",
    "from plotly.offline import download_plotlyjs, init_notebook_mode, plot, iplot\n",
    "gidAidMapFl = \"../data/full_gid_aid_map.json\"\n",
    "aidFeatureMapFl = \"../data/full_aid_features.json\"\n",
    "\n",
    "layout = go.Layout(\n",
    "    title=\"Number of images taken (X)\",\n",
    "    titlefont = dict(size=15),\n",
    "    xaxis=dict(\n",
    "        title=\"Contributors\",\n",
    "        titlefont = dict(\n",
    "        size=15),\n",
    "        showticklabels=True,\n",
    "        tickangle=35,\n",
    "        tickfont=dict(\n",
    "        size=9,\n",
    "        color='black')\n",
    "        ),\n",
    "    yaxis=dict(\n",
    "        title=\"Number of contributors who took X images\",\n",
    "        titlefont = dict(\n",
    "        size=15),\n",
    "        showticklabels=True,\n",
    "        tickfont=dict(\n",
    "        size=9,\n",
    "        color='black')\n",
    "        )\n",
    "    )\n"
   ]
  },
  {
   "cell_type": "code",
   "execution_count": 13,
   "metadata": {
    "collapsed": false
   },
   "outputs": [],
   "source": [
    "d = DRS.getCountingLogic(gidAidMapFl,aidFeatureMapFl,\"CONTRIBUTOR\",withNumInds=False)\n",
    "contribImgDct = DS.flipKeyValue(d)"
   ]
  },
  {
   "cell_type": "code",
   "execution_count": 16,
   "metadata": {
    "collapsed": false
   },
   "outputs": [
    {
     "data": {
      "text/plain": [
       "{'GIRM_MUGU_20,hyrule:joncrall:/media/raid/work/GIRM_MUGU_20,,,,,0': 40,\n",
       " \"NNP GZC Car '10WHITE', Person 'A'\": 89,\n",
       " \"NNP GZC Car '11WHITE', Person 'A'\": 143,\n",
       " \"NNP GZC Car '12WHITE', Person 'A'\": 62,\n",
       " \"NNP GZC Car '13WHITE', Person 'A'\": 49,\n",
       " \"NNP GZC Car '13WHITE', Person 'B'\": 138,\n",
       " \"NNP GZC Car '14WHITE', Person 'A'\": 129,\n",
       " \"NNP GZC Car '15WHITE', Person 'A'\": 89,\n",
       " \"NNP GZC Car '15WHITE', Person 'B'\": 13,\n",
       " \"NNP GZC Car '15WHITE', Person 'C'\": 19,\n",
       " \"NNP GZC Car '15WHITE', Person 'D'\": 69,\n",
       " \"NNP GZC Car '16WHITE', Person 'A'\": 11,\n",
       " \"NNP GZC Car '17WHITE', Person 'A'\": 28,\n",
       " \"NNP GZC Car '17WHITE', Person 'C'\": 34,\n",
       " \"NNP GZC Car '1BLUE', Person 'A'\": 26,\n",
       " \"NNP GZC Car '1BLUE', Person 'B'\": 37,\n",
       " \"NNP GZC Car '1BLUE', Person 'C'\": 61,\n",
       " \"NNP GZC Car '1BLUE', Person 'D'\": 14,\n",
       " \"NNP GZC Car '1PURPLE', Person 'A'\": 188,\n",
       " \"NNP GZC Car '1PURPLE', Person 'B'\": 267,\n",
       " \"NNP GZC Car '1PURPLE', Person 'C'\": 27,\n",
       " \"NNP GZC Car '1PURPLE', Person 'D'\": 329,\n",
       " \"NNP GZC Car '1RED', Person 'A'\": 171,\n",
       " \"NNP GZC Car '1RED', Person 'B'\": 284,\n",
       " \"NNP GZC Car '1WHITE', Person 'A'\": 86,\n",
       " \"NNP GZC Car '1WHITE', Person 'B'\": 96,\n",
       " \"NNP GZC Car '1WHITE', Person 'C'\": 105,\n",
       " \"NNP GZC Car '25PURPLE', Person 'A'\": 75,\n",
       " \"NNP GZC Car '2RED', Person 'A'\": 200,\n",
       " \"NNP GZC Car '2RED', Person 'B'\": 129,\n",
       " \"NNP GZC Car '2RED', Person 'C'\": 175,\n",
       " \"NNP GZC Car '2RED', Person 'D'\": 58,\n",
       " \"NNP GZC Car '2RED', Person 'E'\": 10,\n",
       " \"NNP GZC Car '2WHITE', Person 'A'\": 51,\n",
       " \"NNP GZC Car '3PURPLE', Person 'A'\": 11,\n",
       " \"NNP GZC Car '3PURPLE', Person 'B'\": 51,\n",
       " \"NNP GZC Car '3RED', Person 'A'\": 116,\n",
       " \"NNP GZC Car '3RED', Person 'B'\": 117,\n",
       " \"NNP GZC Car '3WHITE', Person 'A'\": 172,\n",
       " \"NNP GZC Car '4RED', Person 'A'\": 54,\n",
       " \"NNP GZC Car '4RED', Person 'B'\": 8,\n",
       " \"NNP GZC Car '4WHITE', Person 'A'\": 18,\n",
       " \"NNP GZC Car '5RED', Person 'A'\": 20,\n",
       " \"NNP GZC Car '5RED', Person 'C'\": 9,\n",
       " \"NNP GZC Car '5WHITE', Person 'A'\": 140,\n",
       " \"NNP GZC Car '6RED', Person 'A'\": 145,\n",
       " \"NNP GZC Car '6RED', Person 'B'\": 331,\n",
       " \"NNP GZC Car '6WHITE', Person 'B'\": 143,\n",
       " \"NNP GZC Car '7WHITE', Person 'A'\": 101,\n",
       " \"NNP GZC Car '7WHITE', Person 'B'\": 94,\n",
       " \"NNP GZC Car '8WHITE', Person 'A'\": 189,\n",
       " \"NNP GZC Car '9WHITE', Person 'A'\": 25,\n",
       " 'NNP_Master,pachy.cs.uic.edu:jonc:/home/shared_ibeis/data/work/NNP_Master,,,,,6': 983,\n",
       " 'PZ_MUGU_18,hyrule:joncrall:/media/raid/work/PZ_MUGU_18,,,,,0': 209,\n",
       " 'PZ_MUGU_19,hyrule:joncrall:/media/raid/work/PZ_MUGU_19,,,,,0': 179,\n",
       " 'PZ_MUGU_20,hyrule:joncrall:/media/raid/work/PZ_MUGU_20,,,,,0': 107}"
      ]
     },
     "execution_count": 16,
     "metadata": {},
     "output_type": "execute_result"
    }
   ],
   "source": [
    "numImgsPerContrib = {key : len(contribImgDct[key]) for key in contribImgDct.keys()}\n",
    "numImgsPerContrib"
   ]
  },
  {
   "cell_type": "code",
   "execution_count": 36,
   "metadata": {
    "collapsed": false
   },
   "outputs": [],
   "source": [
    "df = pd.DataFrame(numImgsPerContrib,index=['NumImages']).transpose()\n",
    "df.sort_values(by='NumImages',inplace=True,ascending=False)\n",
    "fig1 = df.iplot(kind='bar',layout=layout)"
   ]
  },
  {
   "cell_type": "code",
   "execution_count": 42,
   "metadata": {
    "collapsed": false
   },
   "outputs": [
    {
     "data": {
      "text/plain": [
       "'<iframe id=\"igraph\" scrolling=\"no\" style=\"border:none;\" seamless=\"seamless\" src=\"https://plot.ly/~kamblenoopur/20.embed\" height=\"525px\" width=\"100%\"></iframe>'"
      ]
     },
     "execution_count": 42,
     "metadata": {},
     "output_type": "execute_result"
    }
   ],
   "source": [
    "fig2.embed_code"
   ]
  },
  {
   "cell_type": "code",
   "execution_count": 41,
   "metadata": {
    "collapsed": false
   },
   "outputs": [
    {
     "data": {
      "text/html": [
       "<iframe id=\"igraph\" scrolling=\"no\" style=\"border:none;\" seamless=\"seamless\" src=\"https://plot.ly/~kamblenoopur/20.embed\" height=\"525px\" width=\"100%\"></iframe>"
      ],
      "text/plain": [
       "<plotly.tools.PlotlyDisplay object>"
      ]
     },
     "execution_count": 41,
     "metadata": {},
     "output_type": "execute_result"
    }
   ],
   "source": [
    "fig2 = df.iplot(kind='histogram',layout=layout)\n",
    "fig2"
   ]
  },
  {
   "cell_type": "code",
   "execution_count": 5,
   "metadata": {
    "collapsed": false
   },
   "outputs": [],
   "source": [
    "import GetPropertiesAPI as GP\n",
    "import json"
   ]
  },
  {
   "cell_type": "code",
   "execution_count": 6,
   "metadata": {
    "collapsed": false
   },
   "outputs": [],
   "source": [
    "def getAdditionalAnnotFeatures(gidAidMap, ftrName, outFlNm='/tmp/getAdditionalAnnotFeatures.dump.json'):\n",
    "    with open(gidAidMap,\"r\") as gidAidMapFl:\n",
    "        gidAidJson = json.load(gidAidMapFl)\n",
    "\n",
    "    additionalFtrDct = {}\n",
    "    i = 0\n",
    "    for gid in gidAidJson.keys():\n",
    "        additionalFtrDct[gid] = additionalFtrDct.get(gid,[]) + [GP.getImageFeature(gidAidJson[gid][0],ftrName)][0]\n",
    "        print(gidAidJson[gid])\n",
    "        i += 1\n",
    "        if i == 25:\n",
    "            break\n",
    "    return additionalFtrDct"
   ]
  },
  {
   "cell_type": "code",
   "execution_count": 7,
   "metadata": {
    "collapsed": false
   },
   "outputs": [
    {
     "name": "stdout",
     "output_type": "stream",
     "text": [
      "[[]]\n",
      "[[]]\n",
      "[[9984]]\n",
      "[[17763, 17764]]\n",
      "[[12561]]\n",
      "[[14007, 14008, 14009]]\n",
      "[[]]\n",
      "[[]]\n",
      "[[11934]]\n",
      "[[17762]]\n",
      "[[]]\n",
      "[[11279]]\n",
      "[[]]\n",
      "[[13345]]\n",
      "[[12786, 12787, 12788, 12789]]\n",
      "[[17745]]\n",
      "[[15705]]\n",
      "[[]]\n",
      "[[12022, 12023, 12024]]\n",
      "[[9215]]\n",
      "[[11567, 11568]]\n",
      "[[17558]]\n",
      "[[]]\n",
      "[[16131, 16132, 16133, 16134]]\n",
      "[[]]\n"
     ]
    },
    {
     "data": {
      "text/plain": [
       "{'1207': [[1257, 888, 2824, 1402]],\n",
       " '1438': [],\n",
       " '149': [[765, 277, 422, 735]],\n",
       " '1618': [[41, 726, 762, 436], [674, 422, 619, 433], [1357, 134, 419, 351]],\n",
       " '2829': [[1157, 377, 3925, 3617]],\n",
       " '3174': [],\n",
       " '3288': [[0, 434, 4259, 2712]],\n",
       " '3750': [],\n",
       " '4524': [],\n",
       " '4680': [],\n",
       " '5352': [[316, 1266, 577, 388],\n",
       "  [1944, 1360, 255, 383],\n",
       "  [2566, 1383, 483, 333],\n",
       "  [3526, 1421, 349, 327]],\n",
       " '539': [[3353, 1852, 945, 781],\n",
       "  [2517, 1907, 1031, 836],\n",
       "  [1000, 1883, 1469, 852],\n",
       "  [39, 1930, 961, 820]],\n",
       " '5421': [],\n",
       " '5508': [],\n",
       " '5931': [[1860, 1303, 1113, 604]],\n",
       " '6306': [[6, 286, 4217, 2557]],\n",
       " '6534': [[945, 1024, 1119, 686], [1832, 1045, 950, 654]],\n",
       " '6560': [[723, 776, 2534, 1510]],\n",
       " '6587': [],\n",
       " '6641': [[1473, 1277, 723, 401]],\n",
       " '8185': [],\n",
       " '8622': [[434, 732, 3613, 1822]],\n",
       " '8846': [[2, 862, 856, 1000], [981, 967, 1162, 868]],\n",
       " '9180': [[1615, 1123, 1106, 1040]],\n",
       " '9257': [[2505, 1142, 780, 987],\n",
       "  [1277, 1190, 1264, 858],\n",
       "  [3151, 374, 810, 743]]}"
      ]
     },
     "execution_count": 7,
     "metadata": {},
     "output_type": "execute_result"
    }
   ],
   "source": [
    "getAdditionalAnnotFeatures(gidAidMapFl,'bbox')"
   ]
  },
  {
   "cell_type": "code",
   "execution_count": 12,
   "metadata": {
    "collapsed": false
   },
   "outputs": [
    {
     "ename": "PlotlyError",
     "evalue": "Invalid 'figure_or_data' argument. Plotly will not be able to properly parse the resulting JSON. If you want to send this 'figure_or_data' to Plotly anyway (not recommended), you can set 'validate=False' as a plot option.\nHere's why you're seeing this error:\n\nInvalid entry found in 'data' at index, '0'\n\nPath To Error: ['data'][0]\n\nValid items for 'data' at path ['data'] under parents ['figure']:\n    ['Scatterternary', 'Area', 'Scatter3d', 'Histogram2dcontour', 'Ohlc',\n    'Pointcloud', 'Scattermapbox', 'Candlestick', 'Histogram',\n    'Histogram2d', 'Bar', 'Mesh3d', 'Scattergeo', 'Heatmap', 'Box',\n    'Contour', 'Choropleth', 'Scattergl', 'Pie', 'Surface', 'Scatter']\n\nEntry should subclass dict.",
     "output_type": "error",
     "traceback": [
      "\u001b[0;31m---------------------------------------------------------------------------\u001b[0m",
      "\u001b[0;31mPlotlyListEntryError\u001b[0m                      Traceback (most recent call last)",
      "\u001b[0;32m/Users/sreejithmenon/anaconda/lib/python3.5/site-packages/plotly/tools.py\u001b[0m in \u001b[0;36mreturn_figure_from_figure_or_data\u001b[0;34m(figure_or_data, validate_figure)\u001b[0m\n\u001b[1;32m   1435\u001b[0m         \u001b[0;32mtry\u001b[0m\u001b[0;34m:\u001b[0m\u001b[0;34m\u001b[0m\u001b[0m\n\u001b[0;32m-> 1436\u001b[0;31m             \u001b[0mgraph_objs\u001b[0m\u001b[0;34m.\u001b[0m\u001b[0mFigure\u001b[0m\u001b[0;34m(\u001b[0m\u001b[0mfigure\u001b[0m\u001b[0;34m)\u001b[0m\u001b[0;34m\u001b[0m\u001b[0m\n\u001b[0m\u001b[1;32m   1437\u001b[0m         \u001b[0;32mexcept\u001b[0m \u001b[0mexceptions\u001b[0m\u001b[0;34m.\u001b[0m\u001b[0mPlotlyError\u001b[0m \u001b[0;32mas\u001b[0m \u001b[0merr\u001b[0m\u001b[0;34m:\u001b[0m\u001b[0;34m\u001b[0m\u001b[0m\n",
      "\u001b[0;32m/Users/sreejithmenon/anaconda/lib/python3.5/site-packages/plotly/graph_objs/graph_objs.py\u001b[0m in \u001b[0;36m__init__\u001b[0;34m(self, *args, **kwargs)\u001b[0m\n\u001b[1;32m    832\u001b[0m     \u001b[0;32mdef\u001b[0m \u001b[0m__init__\u001b[0m\u001b[0;34m(\u001b[0m\u001b[0mself\u001b[0m\u001b[0;34m,\u001b[0m \u001b[0;34m*\u001b[0m\u001b[0margs\u001b[0m\u001b[0;34m,\u001b[0m \u001b[0;34m**\u001b[0m\u001b[0mkwargs\u001b[0m\u001b[0;34m)\u001b[0m\u001b[0;34m:\u001b[0m\u001b[0;34m\u001b[0m\u001b[0m\n\u001b[0;32m--> 833\u001b[0;31m         \u001b[0msuper\u001b[0m\u001b[0;34m(\u001b[0m\u001b[0mfigure_class\u001b[0m\u001b[0;34m,\u001b[0m \u001b[0mself\u001b[0m\u001b[0;34m)\u001b[0m\u001b[0;34m.\u001b[0m\u001b[0m__init__\u001b[0m\u001b[0;34m(\u001b[0m\u001b[0;34m*\u001b[0m\u001b[0margs\u001b[0m\u001b[0;34m,\u001b[0m \u001b[0;34m**\u001b[0m\u001b[0mkwargs\u001b[0m\u001b[0;34m)\u001b[0m\u001b[0;34m\u001b[0m\u001b[0m\n\u001b[0m\u001b[1;32m    834\u001b[0m         \u001b[0;32mif\u001b[0m \u001b[0;34m'data'\u001b[0m \u001b[0;32mnot\u001b[0m \u001b[0;32min\u001b[0m \u001b[0mself\u001b[0m\u001b[0;34m:\u001b[0m\u001b[0;34m\u001b[0m\u001b[0m\n",
      "\u001b[0;32m/Users/sreejithmenon/anaconda/lib/python3.5/site-packages/plotly/graph_objs/graph_objs.py\u001b[0m in \u001b[0;36m__init__\u001b[0;34m(self, *args, **kwargs)\u001b[0m\n\u001b[1;32m    374\u001b[0m         \u001b[0;32mfor\u001b[0m \u001b[0mkey\u001b[0m\u001b[0;34m,\u001b[0m \u001b[0mval\u001b[0m \u001b[0;32min\u001b[0m \u001b[0md\u001b[0m\u001b[0;34m.\u001b[0m\u001b[0mitems\u001b[0m\u001b[0;34m(\u001b[0m\u001b[0;34m)\u001b[0m\u001b[0;34m:\u001b[0m\u001b[0;34m\u001b[0m\u001b[0m\n\u001b[0;32m--> 375\u001b[0;31m             \u001b[0mself\u001b[0m\u001b[0;34m.\u001b[0m\u001b[0m__setitem__\u001b[0m\u001b[0;34m(\u001b[0m\u001b[0mkey\u001b[0m\u001b[0;34m,\u001b[0m \u001b[0mval\u001b[0m\u001b[0;34m,\u001b[0m \u001b[0m_raise\u001b[0m\u001b[0;34m=\u001b[0m\u001b[0m_raise\u001b[0m\u001b[0;34m)\u001b[0m\u001b[0;34m\u001b[0m\u001b[0m\n\u001b[0m\u001b[1;32m    376\u001b[0m \u001b[0;34m\u001b[0m\u001b[0m\n",
      "\u001b[0;32m/Users/sreejithmenon/anaconda/lib/python3.5/site-packages/plotly/graph_objs/graph_objs.py\u001b[0m in \u001b[0;36m__setitem__\u001b[0;34m(self, key, value, _raise)\u001b[0m\n\u001b[1;32m    429\u001b[0m         \u001b[0;32mif\u001b[0m \u001b[0mself\u001b[0m\u001b[0;34m.\u001b[0m\u001b[0m_get_attribute_role\u001b[0m\u001b[0;34m(\u001b[0m\u001b[0mkey\u001b[0m\u001b[0;34m)\u001b[0m \u001b[0;34m==\u001b[0m \u001b[0;34m'object'\u001b[0m\u001b[0;34m:\u001b[0m\u001b[0;34m\u001b[0m\u001b[0m\n\u001b[0;32m--> 430\u001b[0;31m             \u001b[0mvalue\u001b[0m \u001b[0;34m=\u001b[0m \u001b[0mself\u001b[0m\u001b[0;34m.\u001b[0m\u001b[0m_value_to_graph_object\u001b[0m\u001b[0;34m(\u001b[0m\u001b[0mkey\u001b[0m\u001b[0;34m,\u001b[0m \u001b[0mvalue\u001b[0m\u001b[0;34m,\u001b[0m \u001b[0m_raise\u001b[0m\u001b[0;34m=\u001b[0m\u001b[0m_raise\u001b[0m\u001b[0;34m)\u001b[0m\u001b[0;34m\u001b[0m\u001b[0m\n\u001b[0m\u001b[1;32m    431\u001b[0m             \u001b[0;32mif\u001b[0m \u001b[0;32mnot\u001b[0m \u001b[0misinstance\u001b[0m\u001b[0;34m(\u001b[0m\u001b[0mvalue\u001b[0m\u001b[0;34m,\u001b[0m \u001b[0;34m(\u001b[0m\u001b[0mPlotlyDict\u001b[0m\u001b[0;34m,\u001b[0m \u001b[0mPlotlyList\u001b[0m\u001b[0;34m)\u001b[0m\u001b[0;34m)\u001b[0m\u001b[0;34m:\u001b[0m\u001b[0;34m\u001b[0m\u001b[0m\n",
      "\u001b[0;32m/Users/sreejithmenon/anaconda/lib/python3.5/site-packages/plotly/graph_objs/graph_objs.py\u001b[0m in \u001b[0;36m_value_to_graph_object\u001b[0;34m(self, key, value, _raise)\u001b[0m\n\u001b[1;32m    540\u001b[0m         return GraphObjectFactory.create(key, value, _raise=_raise,\n\u001b[0;32m--> 541\u001b[0;31m                                          _parent=self, _parent_key=key)\n\u001b[0m\u001b[1;32m    542\u001b[0m \u001b[0;34m\u001b[0m\u001b[0m\n",
      "\u001b[0;32m/Users/sreejithmenon/anaconda/lib/python3.5/site-packages/plotly/graph_objs/graph_objs.py\u001b[0m in \u001b[0;36mcreate\u001b[0;34m(object_name, *args, **kwargs)\u001b[0m\n\u001b[1;32m    790\u001b[0m         \u001b[0;32mif\u001b[0m \u001b[0mclass_name\u001b[0m \u001b[0;32min\u001b[0m \u001b[0;34m[\u001b[0m\u001b[0;34m'Figure'\u001b[0m\u001b[0;34m,\u001b[0m \u001b[0;34m'Data'\u001b[0m\u001b[0;34m]\u001b[0m\u001b[0;34m:\u001b[0m\u001b[0;34m\u001b[0m\u001b[0m\n\u001b[0;32m--> 791\u001b[0;31m             \u001b[0;32mreturn\u001b[0m \u001b[0mglobals\u001b[0m\u001b[0;34m(\u001b[0m\u001b[0;34m)\u001b[0m\u001b[0;34m[\u001b[0m\u001b[0mclass_name\u001b[0m\u001b[0;34m]\u001b[0m\u001b[0;34m(\u001b[0m\u001b[0;34m*\u001b[0m\u001b[0margs\u001b[0m\u001b[0;34m,\u001b[0m \u001b[0;34m**\u001b[0m\u001b[0mkwargs\u001b[0m\u001b[0;34m)\u001b[0m\u001b[0;34m\u001b[0m\u001b[0m\n\u001b[0m\u001b[1;32m    792\u001b[0m         \u001b[0;32melse\u001b[0m\u001b[0;34m:\u001b[0m\u001b[0;34m\u001b[0m\u001b[0m\n",
      "\u001b[0;32m/Users/sreejithmenon/anaconda/lib/python3.5/site-packages/plotly/graph_objs/graph_objs.py\u001b[0m in \u001b[0;36m__init__\u001b[0;34m(self, *args, **kwargs)\u001b[0m\n\u001b[1;32m    155\u001b[0m         \u001b[0;32mfor\u001b[0m \u001b[0mindex\u001b[0m\u001b[0;34m,\u001b[0m \u001b[0mvalue\u001b[0m \u001b[0;32min\u001b[0m \u001b[0menumerate\u001b[0m\u001b[0;34m(\u001b[0m\u001b[0mlist\u001b[0m\u001b[0;34m(\u001b[0m\u001b[0;34m*\u001b[0m\u001b[0margs\u001b[0m\u001b[0;34m)\u001b[0m\u001b[0;34m)\u001b[0m\u001b[0;34m:\u001b[0m\u001b[0;34m\u001b[0m\u001b[0m\n\u001b[0;32m--> 156\u001b[0;31m             \u001b[0mvalue\u001b[0m \u001b[0;34m=\u001b[0m \u001b[0mself\u001b[0m\u001b[0;34m.\u001b[0m\u001b[0m_value_to_graph_object\u001b[0m\u001b[0;34m(\u001b[0m\u001b[0mindex\u001b[0m\u001b[0;34m,\u001b[0m \u001b[0mvalue\u001b[0m\u001b[0;34m,\u001b[0m \u001b[0m_raise\u001b[0m\u001b[0;34m=\u001b[0m\u001b[0m_raise\u001b[0m\u001b[0;34m)\u001b[0m\u001b[0;34m\u001b[0m\u001b[0m\n\u001b[0m\u001b[1;32m    157\u001b[0m \u001b[0;34m\u001b[0m\u001b[0m\n",
      "\u001b[0;32m/Users/sreejithmenon/anaconda/lib/python3.5/site-packages/plotly/graph_objs/graph_objs.py\u001b[0m in \u001b[0;36m_value_to_graph_object\u001b[0;34m(self, index, value, _raise)\u001b[0m\n\u001b[1;32m    947\u001b[0m                 \u001b[0mpath\u001b[0m \u001b[0;34m=\u001b[0m \u001b[0mself\u001b[0m\u001b[0;34m.\u001b[0m\u001b[0m_get_path\u001b[0m\u001b[0;34m(\u001b[0m\u001b[0;34m)\u001b[0m \u001b[0;34m+\u001b[0m \u001b[0;34m(\u001b[0m\u001b[0mindex\u001b[0m\u001b[0;34m,\u001b[0m \u001b[0;34m)\u001b[0m\u001b[0;34m\u001b[0m\u001b[0m\n\u001b[0;32m--> 948\u001b[0;31m                 \u001b[0;32mraise\u001b[0m \u001b[0mexceptions\u001b[0m\u001b[0;34m.\u001b[0m\u001b[0mPlotlyListEntryError\u001b[0m\u001b[0;34m(\u001b[0m\u001b[0mself\u001b[0m\u001b[0;34m,\u001b[0m \u001b[0mpath\u001b[0m\u001b[0;34m,\u001b[0m \u001b[0mnotes\u001b[0m\u001b[0;34m=\u001b[0m\u001b[0mnotes\u001b[0m\u001b[0;34m)\u001b[0m\u001b[0;34m\u001b[0m\u001b[0m\n\u001b[0m\u001b[1;32m    949\u001b[0m             \u001b[0;32melse\u001b[0m\u001b[0;34m:\u001b[0m\u001b[0;34m\u001b[0m\u001b[0m\n",
      "\u001b[0;31mPlotlyListEntryError\u001b[0m: Invalid entry found in 'data' at index, '0'\n\nPath To Error: ['data'][0]\n\nValid items for 'data' at path ['data'] under parents ['figure']:\n    ['Scatterternary', 'Area', 'Scatter3d', 'Histogram2dcontour', 'Ohlc',\n    'Pointcloud', 'Scattermapbox', 'Candlestick', 'Histogram',\n    'Histogram2d', 'Bar', 'Mesh3d', 'Scattergeo', 'Heatmap', 'Box',\n    'Contour', 'Choropleth', 'Scattergl', 'Pie', 'Surface', 'Scatter']\n\nEntry should subclass dict.",
      "\nDuring handling of the above exception, another exception occurred:\n",
      "\u001b[0;31mPlotlyError\u001b[0m                               Traceback (most recent call last)",
      "\u001b[0;32m<ipython-input-12-feac828b0886>\u001b[0m in \u001b[0;36m<module>\u001b[0;34m()\u001b[0m\n\u001b[1;32m      1\u001b[0m \u001b[0mnrml\u001b[0m \u001b[0;34m=\u001b[0m \u001b[0mnp\u001b[0m\u001b[0;34m.\u001b[0m\u001b[0mrandom\u001b[0m\u001b[0;34m.\u001b[0m\u001b[0mnormal\u001b[0m\u001b[0;34m(\u001b[0m\u001b[0;36m2718.203700\u001b[0m\u001b[0;34m,\u001b[0m\u001b[0;36m911.537326\u001b[0m\u001b[0;34m,\u001b[0m\u001b[0;36m8000\u001b[0m\u001b[0;34m)\u001b[0m\u001b[0;34m\u001b[0m\u001b[0m\n\u001b[1;32m      2\u001b[0m \u001b[0mhist_data\u001b[0m \u001b[0;34m=\u001b[0m \u001b[0mlist\u001b[0m\u001b[0;34m(\u001b[0m\u001b[0mnrml\u001b[0m\u001b[0;34m)\u001b[0m\u001b[0;34m\u001b[0m\u001b[0m\n\u001b[0;32m----> 3\u001b[0;31m \u001b[0miplot\u001b[0m\u001b[0;34m(\u001b[0m\u001b[0mhist_data\u001b[0m\u001b[0;34m,\u001b[0m \u001b[0mvalidate\u001b[0m\u001b[0;34m=\u001b[0m\u001b[0;32mTrue\u001b[0m\u001b[0;34m)\u001b[0m\u001b[0;34m\u001b[0m\u001b[0m\n\u001b[0m",
      "\u001b[0;32m/Users/sreejithmenon/anaconda/lib/python3.5/site-packages/plotly/offline/offline.py\u001b[0m in \u001b[0;36miplot\u001b[0;34m(figure_or_data, show_link, link_text, validate, image, filename, image_width, image_height)\u001b[0m\n\u001b[1;32m    291\u001b[0m     plot_html, plotdivid, width, height = _plot_html(\n\u001b[1;32m    292\u001b[0m         \u001b[0mfigure_or_data\u001b[0m\u001b[0;34m,\u001b[0m \u001b[0mshow_link\u001b[0m\u001b[0;34m,\u001b[0m \u001b[0mlink_text\u001b[0m\u001b[0;34m,\u001b[0m \u001b[0mvalidate\u001b[0m\u001b[0;34m,\u001b[0m\u001b[0;34m\u001b[0m\u001b[0m\n\u001b[0;32m--> 293\u001b[0;31m         '100%', 525, global_requirejs=True)\n\u001b[0m\u001b[1;32m    294\u001b[0m \u001b[0;34m\u001b[0m\u001b[0m\n\u001b[1;32m    295\u001b[0m     \u001b[0mdisplay\u001b[0m\u001b[0;34m(\u001b[0m\u001b[0mHTML\u001b[0m\u001b[0;34m(\u001b[0m\u001b[0mplot_html\u001b[0m\u001b[0;34m)\u001b[0m\u001b[0;34m)\u001b[0m\u001b[0;34m\u001b[0m\u001b[0m\n",
      "\u001b[0;32m/Users/sreejithmenon/anaconda/lib/python3.5/site-packages/plotly/offline/offline.py\u001b[0m in \u001b[0;36m_plot_html\u001b[0;34m(figure_or_data, show_link, link_text, validate, default_width, default_height, global_requirejs)\u001b[0m\n\u001b[1;32m    164\u001b[0m                default_width, default_height, global_requirejs):\n\u001b[1;32m    165\u001b[0m \u001b[0;34m\u001b[0m\u001b[0m\n\u001b[0;32m--> 166\u001b[0;31m     \u001b[0mfigure\u001b[0m \u001b[0;34m=\u001b[0m \u001b[0mtools\u001b[0m\u001b[0;34m.\u001b[0m\u001b[0mreturn_figure_from_figure_or_data\u001b[0m\u001b[0;34m(\u001b[0m\u001b[0mfigure_or_data\u001b[0m\u001b[0;34m,\u001b[0m \u001b[0mvalidate\u001b[0m\u001b[0;34m)\u001b[0m\u001b[0;34m\u001b[0m\u001b[0m\n\u001b[0m\u001b[1;32m    167\u001b[0m \u001b[0;34m\u001b[0m\u001b[0m\n\u001b[1;32m    168\u001b[0m     \u001b[0mwidth\u001b[0m \u001b[0;34m=\u001b[0m \u001b[0mfigure\u001b[0m\u001b[0;34m.\u001b[0m\u001b[0mget\u001b[0m\u001b[0;34m(\u001b[0m\u001b[0;34m'layout'\u001b[0m\u001b[0;34m,\u001b[0m \u001b[0;34m{\u001b[0m\u001b[0;34m}\u001b[0m\u001b[0;34m)\u001b[0m\u001b[0;34m.\u001b[0m\u001b[0mget\u001b[0m\u001b[0;34m(\u001b[0m\u001b[0;34m'width'\u001b[0m\u001b[0;34m,\u001b[0m \u001b[0mdefault_width\u001b[0m\u001b[0;34m)\u001b[0m\u001b[0;34m\u001b[0m\u001b[0m\n",
      "\u001b[0;32m/Users/sreejithmenon/anaconda/lib/python3.5/site-packages/plotly/tools.py\u001b[0m in \u001b[0;36mreturn_figure_from_figure_or_data\u001b[0;34m(figure_or_data, validate_figure)\u001b[0m\n\u001b[1;32m   1444\u001b[0m                                          \u001b[0;34m\"plot option.\\nHere's why you're \"\u001b[0m\u001b[0;34m\u001b[0m\u001b[0m\n\u001b[1;32m   1445\u001b[0m                                          \u001b[0;34m\"seeing this error:\\n\\n{0}\"\u001b[0m\u001b[0;34m\u001b[0m\u001b[0m\n\u001b[0;32m-> 1446\u001b[0;31m                                          \"\".format(err))\n\u001b[0m\u001b[1;32m   1447\u001b[0m         \u001b[0;32mif\u001b[0m \u001b[0;32mnot\u001b[0m \u001b[0mfigure\u001b[0m\u001b[0;34m[\u001b[0m\u001b[0;34m'data'\u001b[0m\u001b[0;34m]\u001b[0m\u001b[0;34m:\u001b[0m\u001b[0;34m\u001b[0m\u001b[0m\n\u001b[1;32m   1448\u001b[0m             raise exceptions.PlotlyEmptyDataError(\n",
      "\u001b[0;31mPlotlyError\u001b[0m: Invalid 'figure_or_data' argument. Plotly will not be able to properly parse the resulting JSON. If you want to send this 'figure_or_data' to Plotly anyway (not recommended), you can set 'validate=False' as a plot option.\nHere's why you're seeing this error:\n\nInvalid entry found in 'data' at index, '0'\n\nPath To Error: ['data'][0]\n\nValid items for 'data' at path ['data'] under parents ['figure']:\n    ['Scatterternary', 'Area', 'Scatter3d', 'Histogram2dcontour', 'Ohlc',\n    'Pointcloud', 'Scattermapbox', 'Candlestick', 'Histogram',\n    'Histogram2d', 'Bar', 'Mesh3d', 'Scattergeo', 'Heatmap', 'Box',\n    'Contour', 'Choropleth', 'Scattergl', 'Pie', 'Surface', 'Scatter']\n\nEntry should subclass dict."
     ]
    }
   ],
   "source": [
    "nrml = np.random.normal(2718.203700,911.537326,8000)\n",
    "hist_data = list(nrml)\n",
    "iplot(hist_data, validate=True)"
   ]
  },
  {
   "cell_type": "code",
   "execution_count": null,
   "metadata": {
    "collapsed": true
   },
   "outputs": [],
   "source": []
  }
 ],
 "metadata": {
  "kernelspec": {
   "display_name": "Python 3",
   "language": "python",
   "name": "python3"
  },
  "language_info": {
   "codemirror_mode": {
    "name": "ipython",
    "version": 3
   },
   "file_extension": ".py",
   "mimetype": "text/x-python",
   "name": "python",
   "nbconvert_exporter": "python",
   "pygments_lexer": "ipython3",
   "version": "3.5.2"
  }
 },
 "nbformat": 4,
 "nbformat_minor": 0
}
