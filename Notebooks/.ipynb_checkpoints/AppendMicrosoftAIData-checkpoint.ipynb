{
 "cells": [
  {
   "cell_type": "markdown",
   "metadata": {
    "collapsed": false
   },
   "source": [
    "### Notebook Name: AppendMicrosoftAIData\n",
    "#### Author: Sreejith Menon (smenon8@uic.edu)\n",
    "\n",
    "### General Description:\n",
    "Microsoft Image Tagging API generates a bag of words that can be used to describe a image.    \n",
    "Think of it as, the words (nouns) you will use to describe the image to a person who cannot see the image. Each word that is returned has an associated __confidence__ associated with the prediction. Tags with __low confidence__ will be not considered(or ignored). For the purpose of experiment 2, the confidence level has hardcoded to 0.5.\n",
    "\n",
    "This notebook has code that will take the API data which has been already parsed into a JSON file and joins it with the share proportion results from Amazon Mechanical Turk albums.     \n",
    "\n",
    "The idea is to check if occurence of a certain word influnces the share rate in any way. "
   ]
  },
  {
   "cell_type": "code",
   "execution_count": 11,
   "metadata": {
    "collapsed": false
   },
   "outputs": [
    {
     "data": {
      "text/plain": [
       "<module 'JobsMapResultsFilesToContainerObjs' from '/Users/sreejithmenon/Google Drive/Project/AnimalPhotoBias/script/JobsMapResultsFilesToContainerObjs.py'>"
      ]
     },
     "execution_count": 11,
     "metadata": {},
     "output_type": "execute_result"
    }
   ],
   "source": [
    "import csv\n",
    "import json\n",
    "import JobsMapResultsFilesToContainerObjs as ImageMap\n",
    "import DeriveFinalResultSet as drs\n",
    "import DataStructsHelper as DS\n",
    "import importlib\n",
    "import pandas as pd\n",
    "import htmltag as HT\n",
    "from collections import OrderedDict\n",
    "#import matplotlib.pyplot as plt\n",
    "import plotly.plotly as py\n",
    "import cufflinks as cf # this is necessary to link pandas to plotly\n",
    "cf.go_online()\n",
    "flName = \"../data/All_Zebra_Count_Tag_Output_Results.txt\"\n",
    "pd.set_option('display.max_colwidth', -1)\n",
    "imgAlbumDict = ImageMap.genImgAlbumDictFromMap(drs.imgJobMap)\n",
    "master = ImageMap.createResultDict(1,100)\n",
    "imgShareNotShareList,noResponse = ImageMap.imgShareCountsPerAlbum(imgAlbumDict,master)\n",
    "importlib.reload(ImageMap)"
   ]
  },
  {
   "cell_type": "code",
   "execution_count": 4,
   "metadata": {
    "collapsed": false
   },
   "outputs": [],
   "source": [
    "taggedData = json.load(open(\"../data/GZC_data_tagged.json\")) # MS AI data parsed and saved into JSON"
   ]
  },
  {
   "cell_type": "markdown",
   "metadata": {},
   "source": [
    "Block of code for building rank list of images shared in the descending order of their share rates \n",
    "Appended with Microsoft Image Tagging API results\n",
    "\n",
    "The output is a rank list of all the images by their share rates along with the tags against every image.\n",
    "There is a capability to display the actual images as well alongside the rank-list.\n",
    "\n",
    "Known issue - The '<' and '>' characters in the HTML tags in URL are often intepreted as is. \n",
    "Future - make sure to add escape logic for these characters in HTML tags. There are opportunities to convert some of these code blocks into methods."
   ]
  },
  {
   "cell_type": "code",
   "execution_count": 19,
   "metadata": {
    "collapsed": false
   },
   "outputs": [
    {
     "name": "stdout",
     "output_type": "stream",
     "text": [
      "['GID', 'Shared', 'Not Shared', 'Total', 'Proportion']\n"
     ]
    }
   ],
   "source": [
    "header,rnkFlLst = DS.genlstTupFrmCsv(\"../FinalResults/rankListImages_expt2.csv\")\n",
    "print(header)\n",
    "rnkListDf = pd.DataFrame(rnkFlLst,columns=header)\n",
    "rnkListDf['Proportion'] = rnkListDf['Proportion'].astype('float')\n",
    "rnkListDf.sort_values(by=\"Proportion\",ascending=False,inplace=True)\n",
    "\n",
    "# create an overall giant csv\n",
    "gidFtrs = ImageMap.genMSAIDataHighConfidenceTags(\"../data/GZC_data_tagged.json\",0.5)\n",
    "        \n",
    "gidFtrsLst = DS.cnvrtDictToLstTup(gidFtrs)\n",
    "df = pd.DataFrame(gidFtrsLst,columns=['GID','tags'])\n",
    "\n",
    "shrPropsTags = pd.merge(rnkListDf,df,left_on='GID',right_on='GID')\n",
    "\n",
    "shrPropsTags.to_csv(\"../FinalResults/resultsExpt2RankList_Tags.csv\",index=False)\n",
    "shrPropsTags['URL'] = '<img src = \"https://socialmediabias.blob.core.windows.net/wildlifephotos/All_Zebra_Count_Images/' + shrPropsTags['GID'] + '.jpeg\" width = \"350\">'\n",
    "\n",
    "shrPropsTags.sort_values(by=['Proportion','GID'],ascending=False,inplace=True)\n",
    "fullFl = HT.html(HT.body(HT.HTML(shrPropsTags.to_html(bold_rows = False,index=False))))\n",
    "\n",
    "fullFl\n",
    "outputFile = open(\"../FinalResults/resultsExpt2RankList_Tags1.html\",\"w\")\n",
    "outputFile.write(fullFl)\n",
    "outputFile.close()"
   ]
  },
  {
   "cell_type": "code",
   "execution_count": 3,
   "metadata": {
    "collapsed": false
   },
   "outputs": [],
   "source": [
    "# create an overall giant csv\n",
    "\n",
    "rnkFlLst = []\n",
    "with open(\"../FinalResults/rankListImages_expt2.csv\",\"r\") as rnkFl:\n",
    "    rnkFlCsv = csv.reader(rnkFl)\n",
    "    header = rnkFlCsv.__next__()\n",
    "    for row in rnkFlCsv:\n",
    "        rnkFlLst.append(row)\n",
    "        \n",
    "        \n",
    "gidFtrs = {}\n",
    "for gid in taggedData:\n",
    "    tgs = taggedData[gid]['tags']\n",
    "    if len(tgs) == 0:\n",
    "        gidFtrs[gid] = [None]\n",
    "    for dic in tgs:\n",
    "        gidFtrs[gid] = gidFtrs.get(gid,[]) + [dic['name']]"
   ]
  },
  {
   "cell_type": "code",
   "execution_count": 4,
   "metadata": {
    "collapsed": false
   },
   "outputs": [],
   "source": [
    "tgsShrNoShrCount = {}\n",
    "for lst in rnkFlLst:\n",
    "    tgs = gidFtrs[lst[0]]\n",
    "    tmpDict = {'share': int(lst[1]), 'not_share': int(lst[2]), 'total' : int(lst[3])}\n",
    "    for tag in tgs:\n",
    "        oldDict ={}\n",
    "        oldDict =  tgsShrNoShrCount.get(tag,{'share' : 0,'not_share' : 0,'total' : 0})\n",
    "        oldDict['share'] = oldDict.get('share',0) + tmpDict['share']\n",
    "        oldDict['not_share'] = oldDict.get('not_share',0) + tmpDict['not_share']\n",
    "        oldDict['total'] = oldDict.get('total',0) + tmpDict['total']\n",
    "\n",
    "        tgsShrNoShrCount[tag] = oldDict"
   ]
  },
  {
   "cell_type": "code",
   "execution_count": 5,
   "metadata": {
    "collapsed": false
   },
   "outputs": [],
   "source": [
    "tgsShrCntDf = pd.DataFrame(tgsShrNoShrCount).transpose()\n",
    "tgsShrCntDf['proportion'] = tgsShrCntDf['share'] * 100 / tgsShrCntDf['total']\n",
    "tgsShrCntDf.sort_values(by=['proportion','share'],ascending=False,inplace=True)\n",
    "tgsShrCntDf = tgsShrCntDf[['share','not_share','total','proportion']]\n",
    "tgsShrCntDf.to_csv(\"../FinalResults/RankListTags.csv\")\n",
    "\n",
    "fullFl = HT.html(HT.body(HT.HTML(tgsShrCntDf.to_html(bold_rows = False))))\n",
    "\n",
    "outputFile = open(\"../FinalResults/RankListTags.html\",\"w\")\n",
    "outputFile.write(fullFl)\n",
    "outputFile.close()"
   ]
  },
  {
   "cell_type": "code",
   "execution_count": 18,
   "metadata": {
    "collapsed": false
   },
   "outputs": [],
   "source": [
    "iFrameBlock = []"
   ]
  },
  {
   "cell_type": "code",
   "execution_count": 20,
   "metadata": {
    "collapsed": false
   },
   "outputs": [],
   "source": [
    "fig = tgsShrCntDf['proportion'].iplot(kind='line',filename=\"All_Tags\",title=\"Distribution of Tags\")\n",
    "iFrameBlock.append(fig.embed_code)\n",
    "#plt.savefig(\"../FinalResults/RankListTags.png\",bbox_inches='tight')"
   ]
  },
  {
   "cell_type": "code",
   "execution_count": 21,
   "metadata": {
    "collapsed": false
   },
   "outputs": [
    {
     "data": {
      "text/plain": [
       "['<iframe id=\"igraph\" scrolling=\"no\" style=\"border:none;\" seamless=\"seamless\" src=\"https://plot.ly/~smenon8/73.embed\" height=\"525px\" width=\"100%\"></iframe>',\n",
       " '<iframe id=\"igraph\" scrolling=\"no\" style=\"border:none;\" seamless=\"seamless\" src=\"https://plot.ly/~smenon8/75.embed\" height=\"525px\" width=\"100%\"></iframe>']"
      ]
     },
     "execution_count": 21,
     "metadata": {},
     "output_type": "execute_result"
    }
   ],
   "source": [
    "iFrameBlock"
   ]
  },
  {
   "cell_type": "code",
   "execution_count": null,
   "metadata": {
    "collapsed": true
   },
   "outputs": [],
   "source": [
    "rnkFlLst,header = []\n",
    "with open(\"../FinalResults/rankListImages_expt2.csv\",\"r\") as rnkFl:\n",
    "    rnkFlCsv = csv.reader(rnkFl)\n",
    "    header = rnkFlCsv.__next__()\n",
    "    for row in rnkFlCsv:\n",
    "        rnkFlLst.append(row)\n",
    "        \n",
    "rnkListDf = pd.DataFrame(rnkFlLst,columns=['GID','Shares','Not Shares','Total','Proportion'])\n",
    "rnkListDf['Proportion'] = rnkListDf['Proportion'].astype('float')\n",
    "rnkListDf.sort_values(by=\"Proportion\",ascending=False,inplace=True)\n",
    "\n",
    "# create an overall giant csv\n",
    "gidFtrs = {}\n",
    "for gid in taggedData:\n",
    "    tgs = taggedData[gid]['tags']\n",
    "    if len(tgs) == 0:\n",
    "        gidFtrs[gid] = [None]\n",
    "    for dic in tgs:\n",
    "        if dic['confidence'] >= 0.5: # added for retaining only high confidence tags\n",
    "            gidFtrs[gid] = gidFtrs.get(gid,[]) + [dic['name']]\n",
    "        \n",
    "gidFtrsLst = [(gid,(gidFtrs[gid])) for gid in gidFtrs]    \n",
    "df = pd.DataFrame(gidFtrsLst,columns=['GID','tags'])\n",
    "\n",
    "shrPropsTags = pd.merge(rnkListDf,df,left_on='GID',right_on='GID')\n",
    "\n",
    "shrPropsTags.to_csv(\"../FinalResults/resultsExpt2RankList_Tags.csv\",index=False)\n",
    "shrPropsTags['URL'] = '<img src = \"https://socialmediabias.blob.core.windows.net/wildlifephotos/All_Zebra_Count_Images/' + shrPropsTags['GID'] + '.jpeg\" width = \"350\">'\n",
    "\n",
    "shrPropsTags.sort_values(by=['Proportion','GID'],ascending=False,inplace=True)\n",
    "fullFl = HT.html(HT.body(HT.HTML(shrPropsTags.to_html(bold_rows = False,index=False))))\n",
    "\n",
    "outputFile = open(\"../FinalResults/resultsExpt2RankList_Tags.html\",\"w\")\n",
    "outputFile.write(fullFl)\n",
    "outputFile.close()"
   ]
  }
 ],
 "metadata": {
  "kernelspec": {
   "display_name": "Python 3",
   "language": "python",
   "name": "python3"
  },
  "language_info": {
   "codemirror_mode": {
    "name": "ipython",
    "version": 3
   },
   "file_extension": ".py",
   "mimetype": "text/x-python",
   "name": "python",
   "nbconvert_exporter": "python",
   "pygments_lexer": "ipython3",
   "version": "3.5.2"
  }
 },
 "nbformat": 4,
 "nbformat_minor": 0
}
