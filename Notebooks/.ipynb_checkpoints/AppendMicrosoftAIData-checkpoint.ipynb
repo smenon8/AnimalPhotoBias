{
 "cells": [
  {
   "cell_type": "code",
   "execution_count": 17,
   "metadata": {
    "collapsed": false
   },
   "outputs": [],
   "source": [
    "# Notebook for extracting Microsoft AI data \n",
    "# Join with share data to see the proportions\n",
    "\n",
    "import csv\n",
    "import json\n",
    "import JobsMapResultsFilesToContainerObjs as ImageMap\n",
    "import DeriveFinalResultSet as drs\n",
    "import importlib\n",
    "import pandas as pd\n",
    "import htmltag as HT\n",
    "from collections import OrderedDict\n",
    "#import matplotlib.pyplot as plt\n",
    "import plotly.plotly as py\n",
    "import cufflinks as cf # this is necessary to link pandas to plotly\n",
    "cf.go_online()\n",
    "flName = \"../data/All_Zebra_Count_Tag_Output_Results.txt\"\n",
    "pd.set_option('display.max_colwidth', -1)\n",
    "imgAlbumDict = ImageMap.genImgAlbumDictFromMap(drs.imgJobMap)\n",
    "master = ImageMap.createResultDict(1,100)\n",
    "imgShareNotShareList,noResponse = ImageMap.imgShareCountsPerAlbum(imgAlbumDict,master)"
   ]
  },
  {
   "cell_type": "code",
   "execution_count": 2,
   "metadata": {
    "collapsed": false
   },
   "outputs": [],
   "source": [
    "taggedData = json.load(open(\"../data/GZC_data_tagged.json\"))"
   ]
  },
  {
   "cell_type": "code",
   "execution_count": null,
   "metadata": {
    "collapsed": false
   },
   "outputs": [],
   "source": [
    "# Block of code for building rank list of images shared in the descending order of their share rates \n",
    "# Appended with Microsoft Image Tagging API results\n",
    "rnkFlLst = []\n",
    "with open(\"../FinalResults/rankListImages_expt2.csv\",\"r\") as rnkFl:\n",
    "    rnkFlCsv = csv.reader(rnkFl)\n",
    "    header = rnkFlCsv.__next__()\n",
    "    for row in rnkFlCsv:\n",
    "        rnkFlLst.append(row)\n",
    "        \n",
    "rnkListDf = pd.DataFrame(rnkFlLst,columns=['GID','Shares','Not Shares','Total','Proportion'])\n",
    "rnkListDf['Proportion'] = rnkListDf['Proportion'].astype('float')\n",
    "rnkListDf.sort_values(by=\"Proportion\",ascending=False,inplace=True)\n",
    "\n",
    "# create an overall giant csv\n",
    "gidFtrs = {}\n",
    "for gid in taggedData:\n",
    "    tgs = taggedData[gid]['tags']\n",
    "    if len(tgs) == 0:\n",
    "        gidFtrs[gid] = [None]\n",
    "    for dic in tgs:\n",
    "        if dic['confidence'] >= 0.5: # added for retaining only high confidence tags\n",
    "            gidFtrs[gid] = gidFtrs.get(gid,[]) + [dic['name']]\n",
    "        \n",
    "gidFtrsLst = []\n",
    "for gid in gidFtrs:\n",
    "    gidFtrsLst.append((gid,(gidFtrs[gid])))\n",
    "    \n",
    "df = pd.DataFrame(gidFtrsLst,columns=['GID','tags'])\n",
    "\n",
    "shrPropsTags = pd.merge(rnkListDf,df,left_on='GID',right_on='GID')\n",
    "\n",
    "shrPropsTags.to_csv(\"../FinalResults/resultsExpt2RankList_Tags.csv\",index=False)\n",
    "shrPropsTags['URL'] = '<img src = \"https://socialmediabias.blob.core.windows.net/wildlifephotos/All_Zebra_Count_Images/' + shrPropsTags['GID'] + '.jpeg\" width = \"350\">'\n",
    "\n",
    "shrPropsTags.sort_values(by=['Proportion','GID'],ascending=False,inplace=True)\n",
    "fullFl = HT.html(HT.body(HT.HTML(shrPropsTags.to_html(bold_rows = False,index=False))))\n",
    "\n",
    "outputFile = open(\"../FinalResults/resultsExpt2RankList_Tags.html\",\"w\")\n",
    "outputFile.write(fullFl)\n",
    "outputFile.close()"
   ]
  },
  {
   "cell_type": "code",
   "execution_count": 3,
   "metadata": {
    "collapsed": false
   },
   "outputs": [],
   "source": [
    "# create an overall giant csv\n",
    "\n",
    "rnkFlLst = []\n",
    "with open(\"../FinalResults/rankListImages_expt2.csv\",\"r\") as rnkFl:\n",
    "    rnkFlCsv = csv.reader(rnkFl)\n",
    "    header = rnkFlCsv.__next__()\n",
    "    for row in rnkFlCsv:\n",
    "        rnkFlLst.append(row)\n",
    "        \n",
    "        \n",
    "gidFtrs = {}\n",
    "for gid in taggedData:\n",
    "    tgs = taggedData[gid]['tags']\n",
    "    if len(tgs) == 0:\n",
    "        gidFtrs[gid] = [None]\n",
    "    for dic in tgs:\n",
    "        gidFtrs[gid] = gidFtrs.get(gid,[]) + [dic['name']]"
   ]
  },
  {
   "cell_type": "code",
   "execution_count": 4,
   "metadata": {
    "collapsed": false
   },
   "outputs": [],
   "source": [
    "tgsShrNoShrCount = {}\n",
    "for lst in rnkFlLst:\n",
    "    tgs = gidFtrs[lst[0]]\n",
    "    tmpDict = {'share': int(lst[1]), 'not_share': int(lst[2]), 'total' : int(lst[3])}\n",
    "    for tag in tgs:\n",
    "        oldDict ={}\n",
    "        oldDict =  tgsShrNoShrCount.get(tag,{'share' : 0,'not_share' : 0,'total' : 0})\n",
    "        oldDict['share'] = oldDict.get('share',0) + tmpDict['share']\n",
    "        oldDict['not_share'] = oldDict.get('not_share',0) + tmpDict['not_share']\n",
    "        oldDict['total'] = oldDict.get('total',0) + tmpDict['total']\n",
    "\n",
    "        tgsShrNoShrCount[tag] = oldDict"
   ]
  },
  {
   "cell_type": "code",
   "execution_count": 5,
   "metadata": {
    "collapsed": false
   },
   "outputs": [],
   "source": [
    "tgsShrCntDf = pd.DataFrame(tgsShrNoShrCount).transpose()\n",
    "tgsShrCntDf['proportion'] = tgsShrCntDf['share'] * 100 / tgsShrCntDf['total']\n",
    "tgsShrCntDf.sort_values(by=['proportion','share'],ascending=False,inplace=True)\n",
    "tgsShrCntDf = tgsShrCntDf[['share','not_share','total','proportion']]\n",
    "tgsShrCntDf.to_csv(\"../FinalResults/RankListTags.csv\")\n",
    "\n",
    "fullFl = HT.html(HT.body(HT.HTML(tgsShrCntDf.to_html(bold_rows = False))))\n",
    "\n",
    "outputFile = open(\"../FinalResults/RankListTags.html\",\"w\")\n",
    "outputFile.write(fullFl)\n",
    "outputFile.close()"
   ]
  },
  {
   "cell_type": "code",
   "execution_count": 18,
   "metadata": {
    "collapsed": false
   },
   "outputs": [],
   "source": [
    "iFrameBlock = []"
   ]
  },
  {
   "cell_type": "code",
   "execution_count": 20,
   "metadata": {
    "collapsed": false
   },
   "outputs": [],
   "source": [
    "fig = tgsShrCntDf['proportion'].iplot(kind='line',filename=\"All_Tags\",title=\"Distribution of Tags\")\n",
    "iFrameBlock.append(fig.embed_code)\n",
    "#plt.savefig(\"../FinalResults/RankListTags.png\",bbox_inches='tight')"
   ]
  },
  {
   "cell_type": "code",
   "execution_count": 21,
   "metadata": {
    "collapsed": false
   },
   "outputs": [
    {
     "data": {
      "text/plain": [
       "['<iframe id=\"igraph\" scrolling=\"no\" style=\"border:none;\" seamless=\"seamless\" src=\"https://plot.ly/~smenon8/73.embed\" height=\"525px\" width=\"100%\"></iframe>',\n",
       " '<iframe id=\"igraph\" scrolling=\"no\" style=\"border:none;\" seamless=\"seamless\" src=\"https://plot.ly/~smenon8/75.embed\" height=\"525px\" width=\"100%\"></iframe>']"
      ]
     },
     "execution_count": 21,
     "metadata": {},
     "output_type": "execute_result"
    }
   ],
   "source": [
    "iFrameBlock"
   ]
  },
  {
   "cell_type": "code",
   "execution_count": null,
   "metadata": {
    "collapsed": true
   },
   "outputs": [],
   "source": []
  }
 ],
 "metadata": {
  "kernelspec": {
   "display_name": "Python 3",
   "language": "python",
   "name": "python3"
  },
  "language_info": {
   "codemirror_mode": {
    "name": "ipython",
    "version": 3
   },
   "file_extension": ".py",
   "mimetype": "text/x-python",
   "name": "python",
   "nbconvert_exporter": "python",
   "pygments_lexer": "ipython3",
   "version": "3.5.1"
  }
 },
 "nbformat": 4,
 "nbformat_minor": 0
}
