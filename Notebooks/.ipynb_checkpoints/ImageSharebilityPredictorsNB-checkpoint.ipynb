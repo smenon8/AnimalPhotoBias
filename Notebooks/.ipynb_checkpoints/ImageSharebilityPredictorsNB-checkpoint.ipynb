{
 "cells": [
  {
   "cell_type": "code",
   "execution_count": null,
   "metadata": {
    "collapsed": false
   },
   "outputs": [],
   "source": [
    "import ClassiferHelperAPI as CH\n",
    "import importlib\n",
    "import numpy as np\n",
    "import pandas as pd\n",
    "importlib.reload(CH)\n",
    "from ast import literal_eval\n",
    "import plotly.plotly as py\n",
    "import htmltag as HT\n",
    "import cufflinks as cf # this is necessary to link pandas to plotly\n",
    "cf.go_offline()\n",
    "from plotly.offline import download_plotlyjs, init_notebook_mode, plot, iplot\n",
    "from collections import Counter\n",
    "import csv\n",
    "import plotly.graph_objs as go"
   ]
  },
  {
   "cell_type": "code",
   "execution_count": null,
   "metadata": {
    "collapsed": false
   },
   "outputs": [],
   "source": [
    "def plot(rgrObj,arr,arr_min,title,flNm,range,errorBar = True):\n",
    "    trace1 = go.Scatter(\n",
    "        x = list(rgrObj.preds),\n",
    "        y = list(rgrObj.test_y),\n",
    "        error_y = dict(\n",
    "            type='data',\n",
    "            symmetric = False,\n",
    "            array = arr,\n",
    "            arrayminus = arr_min,\n",
    "            visible=errorBar\n",
    "        ),\n",
    "        mode = 'markers'\n",
    "    )\n",
    "\n",
    "    layout= go.Layout(\n",
    "        title= title,\n",
    "        xaxis= dict(\n",
    "            title= 'Predicted Share Rate',\n",
    "            ticklen= 5,\n",
    "            zeroline= False,\n",
    "            gridwidth= 2,\n",
    "            range=[-5,110]\n",
    "        ),\n",
    "        yaxis=dict(\n",
    "            title= 'Actual Share rate',\n",
    "            ticklen= 5,\n",
    "            gridwidth= 2,\n",
    "            #range=range\n",
    "        )\n",
    "    )\n",
    "    \n",
    "    data = [trace1]\n",
    "\n",
    "    fig = dict(data=data,layout=layout)\n",
    "    a = py.iplot(fig,filename=flNm)\n",
    "    \n",
    "    return a\n",
    "\n",
    "def runRgr(methodName,attribType):\n",
    "    if attribType = \"beauty\":\n",
    "        inpData = pd.DataFrame.from_csv(\"../data/BeautyFtrVector_GZC.csv\")\n",
    "        inpData.reindex(np.random.permutation(inpData.index))\n",
    "        y = inpData['Proportion']\n",
    "        inpData.drop(['Proportion'],1,inplace=True)\n",
    "        train_x, test_x, train_y, test_y = CH.train_test_split(inpData, y, test_size = 0.4)\n",
    "        rgr = CH.getLearningAlgo(methodName,{'fit_intercept':True})\n",
    "    \n",
    "        rgrObj = RgrCls.RegressionCapsule(rgr,methodName,0.8,train_x,train_y,test_x,test_y)\n",
    "        \n",
    "    else:\n",
    "        train_data_fl = \"../FinalResults/ImgShrRnkListWithTags.csv\"\n",
    "        infoGainFl = \"../data/infoGainsExpt2.csv\"\n",
    "        allAttribs = CH.genAllAttribs(train_data_fl,attribType,infoGainFl)\n",
    "\n",
    "        rgrObj = CH.buildRegrMod(train_data_fl,allAttribs,0.6,methodName,kwargs={'fit_intercept':True})\n",
    "    \n",
    "    rgrObj.runClf(computeMetrics=True,removeOutliers=True)\n",
    "    \n",
    "    x = [i for i in range(len(rgrObj.preds))]\n",
    "    errors = [list(rgrObj.test_y)[i] - list(rgrObj.preds)[i] for i in range(len(rgrObj.preds))]\n",
    "    arr = [-1 * errors[i] if errors[i] < 0 else 0 for i in range(len(errors)) ]\n",
    "    arr_min = [errors[i] if errors[i] > 0 else 0 for i in range(len(errors)) ]\n",
    "    return rgrObj,arr,arr_min"
   ]
  },
  {
   "cell_type": "markdown",
   "metadata": {},
   "source": [
    "## Linear Regression accuracy plots with error bars."
   ]
  },
  {
   "cell_type": "code",
   "execution_count": null,
   "metadata": {
    "collapsed": false
   },
   "outputs": [],
   "source": [
    "attribTypes = ['sparse','non_sparse','non_zero','abv_mean']\n",
    "rgrAlgoTypes = ['linear','ridge','lasso']\n",
    "\n",
    "embedCodes = []\n",
    "for attrib in attribTypes:\n",
    "    code = []\n",
    "    for alg in rgrAlgoTypes:\n",
    "        rgrObj, arr,arr_min = runRgr(alg,attrib)\n",
    "        title = \"%s regression results using %s attributes\" %(alg,attrib)\n",
    "        flNm = \"%s_regession_%s_attributes_%s\" %(alg,attrib,str(True))\n",
    "        a = plot(rgrObj,arr,arr_min,title,flNm,[-100,200],errorBar = True)\n",
    "        code.append(a.embed_code)    \n",
    "    embedCodes.append(code)"
   ]
  },
  {
   "cell_type": "markdown",
   "metadata": {},
   "source": [
    "## Linear Regression plots without error bars"
   ]
  },
  {
   "cell_type": "code",
   "execution_count": null,
   "metadata": {
    "collapsed": false
   },
   "outputs": [],
   "source": [
    "attribTypes = ['sparse','non_sparse','non_zero','abv_mean']\n",
    "rgrAlgoTypes = ['linear','ridge','lasso']\n",
    "\n",
    "embedCodes = []\n",
    "for attrib in attribTypes:\n",
    "    code = []\n",
    "    for alg in rgrAlgoTypes:\n",
    "        rgrObj, _, _ = runRgr(alg,attrib)\n",
    "        title = \"%s regression results using %s attributes\" %(alg,attrib)\n",
    "        flNm = \"%s_regession_%s_attributes_%s\" %(alg,attrib,str(False))\n",
    "        a = plot(rgrObj,errs,[],title,flNm,[-10,110],errorBar = False)\n",
    "        code.append(a.embed_code)\n",
    "    embedCodes.append(code)"
   ]
  },
  {
   "cell_type": "code",
   "execution_count": null,
   "metadata": {
    "collapsed": false
   },
   "outputs": [],
   "source": [
    "for c in embedCodes[3]:\n",
    "    print(c)"
   ]
  },
  {
   "cell_type": "code",
   "execution_count": null,
   "metadata": {
    "collapsed": false
   },
   "outputs": [],
   "source": [
    "rgrObj, arr,arr_min = runRgr('dtree_regressor','non_sparse')"
   ]
  },
  {
   "cell_type": "code",
   "execution_count": null,
   "metadata": {
    "collapsed": false
   },
   "outputs": [],
   "source": [
    "title = \"%s regression results using %s attributes\" %(alg,attrib)\n",
    "flNm = \"%s_regession_%s_attributes_%s\" %(alg,attrib,str(True))\n",
    "a = plot(rgrObj,arr,arr_min,title,flNm,[-100,200],errorBar = True)"
   ]
  },
  {
   "cell_type": "code",
   "execution_count": null,
   "metadata": {
    "collapsed": false
   },
   "outputs": [],
   "source": [
    "attribTypes = ['sparse','non_sparse','non_zero','abv_mean']\n",
    "rgrAlgoTypes = ['linear_svr','svr','dtree_regressor']\n",
    "\n",
    "embedCodes = []\n",
    "for attrib in attribTypes:\n",
    "    code = []\n",
    "    for alg in rgrAlgoTypes:\n",
    "        rgrObj, _, _ = runRgr(alg,attrib)\n",
    "        print(\"Absolute error for %s using %s : %f\" %(alg,attrib,rgrObj.abserr))\n",
    "        print(\"Mean Squared error for %s using %s : %f\" %(alg,attrib,rgrObj.sqerr))\n",
    "        title = \"%s regression results using %s attributes\" %(alg,attrib)\n",
    "        flNm = \"%s_regession_%s_attributes_%s\" %(alg,attrib,str(False))\n",
    "        a = plot(rgrObj,[],[],title,flNm,[-10,110],errorBar = False)\n",
    "        code.append(a.embed_code)\n",
    "    embedCodes.append(code)"
   ]
  },
  {
   "cell_type": "code",
   "execution_count": null,
   "metadata": {
    "collapsed": false
   },
   "outputs": [],
   "source": [
    "len(embedCodes)"
   ]
  },
  {
   "cell_type": "code",
   "execution_count": null,
   "metadata": {
    "collapsed": false
   },
   "outputs": [],
   "source": [
    "attribTypes = ['sparse','non_sparse','non_zero','abv_mean']\n",
    "rgrAlgoTypes = ['linear_svr','svr','dtree_regressor']\n",
    "\n",
    "embedCodes = []\n",
    "for attrib in attribTypes:\n",
    "    code = []\n",
    "    for alg in rgrAlgoTypes:\n",
    "        rgrObj, arr,arr_min = runRgr(alg,attrib)\n",
    "        title = \"%s regression results using %s attributes\" %(alg,attrib)\n",
    "        flNm = \"%s_regession_%s_attributes_%s\" %(alg,attrib,str(True))\n",
    "        a = plot(rgrObj,arr,arr_min,title,flNm,[-100,200],errorBar = True)\n",
    "        code.append(a.embed_code)    \n",
    "    embedCodes.append(code)"
   ]
  },
  {
   "cell_type": "code",
   "execution_count": 4,
   "metadata": {
    "collapsed": false
   },
   "outputs": [],
   "source": [
    "import PopulationEstimatorFromClf as PE\n",
    "import importlib\n",
    "importlib.reload(PE)\n",
    "import ClassiferHelperAPI as CH"
   ]
  },
  {
   "cell_type": "code",
   "execution_count": null,
   "metadata": {
    "collapsed": false
   },
   "outputs": [],
   "source": [
    "train_data_fl = \"../FinalResults/ImgShrRnkListWithTags.csv\"\n",
    "test_data_fl = \"../data/full_gid_aid_ftr_agg.csv\"\n",
    "methodName = \"linear\"\n",
    "attribType = \"non_sparse\"\n",
    "infoGainFl=None\n",
    "regrArgs=kwargsDict\n",
    "obj, pred_results = PE.trainTestRgrs(train_data_fl,\n",
    "                test_data_fl,\n",
    "                methodName,\n",
    "                attribType,\n",
    "                 None,\n",
    "                regrArgs=kwargsDict)"
   ]
  },
  {
   "cell_type": "code",
   "execution_count": null,
   "metadata": {
    "collapsed": true
   },
   "outputs": [],
   "source": []
  }
 ],
 "metadata": {
  "kernelspec": {
   "display_name": "Python 3",
   "language": "python",
   "name": "python3"
  },
  "language_info": {
   "codemirror_mode": {
    "name": "ipython",
    "version": 3
   },
   "file_extension": ".py",
   "mimetype": "text/x-python",
   "name": "python",
   "nbconvert_exporter": "python",
   "pygments_lexer": "ipython3",
   "version": "3.5.2"
  }
 },
 "nbformat": 4,
 "nbformat_minor": 0
}
