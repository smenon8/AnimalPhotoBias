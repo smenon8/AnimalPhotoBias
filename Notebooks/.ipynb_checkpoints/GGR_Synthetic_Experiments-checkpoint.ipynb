{
 "cells": [
  {
   "cell_type": "code",
   "execution_count": null,
   "metadata": {
    "collapsed": true
   },
   "outputs": [],
   "source": []
  },
  {
   "cell_type": "code",
   "execution_count": 183,
   "metadata": {
    "collapsed": false
   },
   "outputs": [
    {
     "data": {
      "text/plain": [
       "<module 'MarkRecapHelper' from '/Users/sreejithmenon/Google Drive/CodeBase/AWESOME/script/MarkRecapHelper.py'>"
      ]
     },
     "execution_count": 183,
     "metadata": {},
     "output_type": "execute_result"
    }
   ],
   "source": [
    "import json, pandas as pd,re\n",
    "import DeriveFinalResultSet as DRS\n",
    "import cufflinks as cf # this is necessary to link pandas to plotly\n",
    "cf.go_online()\n",
    "from plotly.offline import download_plotlyjs, init_notebook_mode, plot, iplot\n",
    "import plotly.plotly as py\n",
    "import ClassiferHelperAPI as CH, PopulationEstimatorAPI as PE\n",
    "import importlib, re\n",
    "importlib.reload(CH)\n",
    "importlib.reload(DRS)\n",
    "importlib.reload(PE)\n",
    "import MarkRecapHelper as MR\n",
    "importlib.reload(MR)"
   ]
  },
  {
   "cell_type": "code",
   "execution_count": 164,
   "metadata": {
    "collapsed": false
   },
   "outputs": [],
   "source": [
    "inExifFl,inGidAidMapFl,inAidFtrFl = \"../data/ggr_gid_uuid_exif_ftr_map.json\",\"../data/ggr_uuid_annot_uuid_map.json\",\"../data/ggr_annot_uuid_ftr_map.json\"\n"
   ]
  },
  {
   "cell_type": "code",
   "execution_count": 88,
   "metadata": {
    "collapsed": false
   },
   "outputs": [],
   "source": [
    "df = CH.construct_feature_vctr_fl(\"../data/GZC_exifs_beauty_full.json\", None, \n",
    "                            \"../data/full_gid_aid_map.json\",\n",
    "                            \"../data/full_aid_features.json\",\n",
    "                            \"../feature_files/GZC_FEATURE_VECTOR.csv\",\n",
    "                            ['arousal', 'contrast', 'dominance', 'pleasure', 'symmetry', \n",
    "                               'height', 'width',\n",
    "                               'hsv_itten_std_h', 'hsv_itten_std_s', 'hsv_itten_std_v', \n",
    "                               'lat', 'long',\n",
    "                               'orientation', \n",
    "                               'day', 'hour',\n",
    "                               'has_zebra'])"
   ]
  },
  {
   "cell_type": "code",
   "execution_count": 78,
   "metadata": {
    "collapsed": false
   },
   "outputs": [],
   "source": [
    "df = CH.construct_feature_vctr_fl(\"../data/GGR_bty_exif_combined.json\", \n",
    "                                  None, \n",
    "                            \"../data/ggr_uuid_annot_uuid_map.json\",\n",
    "                            \"../data/ggr_annot_uuid_ftr_map.json\",\n",
    "                            \"../feature_files/GGR_FEATURE_VECTOR.csv\",\n",
    "                            ['arousal', 'contrast', 'dominance', 'pleasure', 'symmetry', \n",
    "                               'height', 'width',\n",
    "                               'hsv_itten_std_h', 'hsv_itten_std_s', 'hsv_itten_std_v', \n",
    "                               'lat', 'long',\n",
    "                               'orientation', \n",
    "                               'day', 'hour',\n",
    "                               'has_zebra'])"
   ]
  },
  {
   "cell_type": "code",
   "execution_count": 173,
   "metadata": {
    "collapsed": false
   },
   "outputs": [
    {
     "name": "stdout",
     "output_type": "stream",
     "text": [
      "Starting to run elastic_net on test data\n",
      "Attribute Selection Method : beauty\n",
      "Number of outliers identified: 0\n",
      "22440 22440\n",
      "Starting population estimation experiments\n",
      "Population estimation experiments complete\n"
     ]
    },
    {
     "data": {
      "text/html": [
       "<div>\n",
       "<table border=\"1\" class=\"dataframe\">\n",
       "  <thead>\n",
       "    <tr style=\"text-align: right;\">\n",
       "      <th></th>\n",
       "      <th>zebras</th>\n",
       "      <th>Randomized_zebras</th>\n",
       "    </tr>\n",
       "    <tr>\n",
       "      <th>num_images</th>\n",
       "      <th></th>\n",
       "      <th></th>\n",
       "    </tr>\n",
       "  </thead>\n",
       "  <tbody>\n",
       "    <tr>\n",
       "      <th>20</th>\n",
       "      <td>5168.000000</td>\n",
       "      <td>3337.666667</td>\n",
       "    </tr>\n",
       "    <tr>\n",
       "      <th>21</th>\n",
       "      <td>5565.000000</td>\n",
       "      <td>3337.666667</td>\n",
       "    </tr>\n",
       "    <tr>\n",
       "      <th>22</th>\n",
       "      <td>5728.333333</td>\n",
       "      <td>3337.666667</td>\n",
       "    </tr>\n",
       "    <tr>\n",
       "      <th>23</th>\n",
       "      <td>4599.000000</td>\n",
       "      <td>3337.666667</td>\n",
       "    </tr>\n",
       "    <tr>\n",
       "      <th>24</th>\n",
       "      <td>3337.666667</td>\n",
       "      <td>3337.666667</td>\n",
       "    </tr>\n",
       "    <tr>\n",
       "      <th>25</th>\n",
       "      <td>3484.000000</td>\n",
       "      <td>3337.666667</td>\n",
       "    </tr>\n",
       "    <tr>\n",
       "      <th>26</th>\n",
       "      <td>3288.000000</td>\n",
       "      <td>3337.666667</td>\n",
       "    </tr>\n",
       "    <tr>\n",
       "      <th>27</th>\n",
       "      <td>3415.428571</td>\n",
       "      <td>3337.666667</td>\n",
       "    </tr>\n",
       "    <tr>\n",
       "      <th>28</th>\n",
       "      <td>3501.428571</td>\n",
       "      <td>3337.666667</td>\n",
       "    </tr>\n",
       "    <tr>\n",
       "      <th>29</th>\n",
       "      <td>3670.857143</td>\n",
       "      <td>3337.666667</td>\n",
       "    </tr>\n",
       "    <tr>\n",
       "      <th>30</th>\n",
       "      <td>3746.285714</td>\n",
       "      <td>3337.666667</td>\n",
       "    </tr>\n",
       "  </tbody>\n",
       "</table>\n",
       "</div>"
      ],
      "text/plain": [
       "                 zebras  Randomized_zebras\n",
       "num_images                                \n",
       "20          5168.000000        3337.666667\n",
       "21          5565.000000        3337.666667\n",
       "22          5728.333333        3337.666667\n",
       "23          4599.000000        3337.666667\n",
       "24          3337.666667        3337.666667\n",
       "25          3484.000000        3337.666667\n",
       "26          3288.000000        3337.666667\n",
       "27          3415.428571        3337.666667\n",
       "28          3501.428571        3337.666667\n",
       "29          3670.857143        3337.666667\n",
       "30          3746.285714        3337.666667"
      ]
     },
     "execution_count": 173,
     "metadata": {},
     "output_type": "execute_result"
    }
   ],
   "source": [
    "PE.runSyntheticExpts(False, ['elastic_net'], ['beauty'], range(20,31), regrArgs)"
   ]
  },
  {
   "cell_type": "code",
   "execution_count": 175,
   "metadata": {
    "collapsed": false
   },
   "outputs": [
    {
     "name": "stdout",
     "output_type": "stream",
     "text": [
      "Starting to run ada_boost on test data\n",
      "Attribute Selection Method : beauty\n",
      "Starting population estimation experiments\n",
      "2788\n",
      "2919\n",
      "3049\n",
      "3179\n",
      "3309\n",
      "3438\n",
      "3566\n",
      "3694\n",
      "3822\n",
      "3949\n",
      "4075\n",
      "Population estimation experiments complete\n",
      "3433\n"
     ]
    },
    {
     "data": {
      "text/html": [
       "<div>\n",
       "<table border=\"1\" class=\"dataframe\">\n",
       "  <thead>\n",
       "    <tr style=\"text-align: right;\">\n",
       "      <th></th>\n",
       "      <th>zebras</th>\n",
       "      <th>Randomized_zebras</th>\n",
       "    </tr>\n",
       "    <tr>\n",
       "      <th>num_images</th>\n",
       "      <th></th>\n",
       "      <th></th>\n",
       "    </tr>\n",
       "  </thead>\n",
       "  <tbody>\n",
       "    <tr>\n",
       "      <th>20</th>\n",
       "      <td>1967.333333</td>\n",
       "      <td>1880.888889</td>\n",
       "    </tr>\n",
       "    <tr>\n",
       "      <th>21</th>\n",
       "      <td>1809.000000</td>\n",
       "      <td>1880.888889</td>\n",
       "    </tr>\n",
       "    <tr>\n",
       "      <th>22</th>\n",
       "      <td>1747.250000</td>\n",
       "      <td>1880.888889</td>\n",
       "    </tr>\n",
       "    <tr>\n",
       "      <th>23</th>\n",
       "      <td>1878.750000</td>\n",
       "      <td>1880.888889</td>\n",
       "    </tr>\n",
       "    <tr>\n",
       "      <th>24</th>\n",
       "      <td>2056.000000</td>\n",
       "      <td>1880.888889</td>\n",
       "    </tr>\n",
       "    <tr>\n",
       "      <th>25</th>\n",
       "      <td>1994.666667</td>\n",
       "      <td>1880.888889</td>\n",
       "    </tr>\n",
       "    <tr>\n",
       "      <th>26</th>\n",
       "      <td>2115.555556</td>\n",
       "      <td>1880.888889</td>\n",
       "    </tr>\n",
       "    <tr>\n",
       "      <th>27</th>\n",
       "      <td>2064.600000</td>\n",
       "      <td>1880.888889</td>\n",
       "    </tr>\n",
       "    <tr>\n",
       "      <th>28</th>\n",
       "      <td>1982.909091</td>\n",
       "      <td>1880.888889</td>\n",
       "    </tr>\n",
       "    <tr>\n",
       "      <th>29</th>\n",
       "      <td>1815.384615</td>\n",
       "      <td>1880.888889</td>\n",
       "    </tr>\n",
       "    <tr>\n",
       "      <th>30</th>\n",
       "      <td>1870.769231</td>\n",
       "      <td>1880.888889</td>\n",
       "    </tr>\n",
       "  </tbody>\n",
       "</table>\n",
       "</div>"
      ],
      "text/plain": [
       "                 zebras  Randomized_zebras\n",
       "num_images                                \n",
       "20          1967.333333        1880.888889\n",
       "21          1809.000000        1880.888889\n",
       "22          1747.250000        1880.888889\n",
       "23          1878.750000        1880.888889\n",
       "24          2056.000000        1880.888889\n",
       "25          1994.666667        1880.888889\n",
       "26          2115.555556        1880.888889\n",
       "27          2064.600000        1880.888889\n",
       "28          1982.909091        1880.888889\n",
       "29          1815.384615        1880.888889\n",
       "30          1870.769231        1880.888889"
      ]
     },
     "execution_count": 175,
     "metadata": {},
     "output_type": "execute_result"
    }
   ],
   "source": [
    "PE.runSyntheticExpts(True, ['ada_boost'], ['beauty'], range(20,31), clfArgs)"
   ]
  },
  {
   "cell_type": "code",
   "execution_count": 184,
   "metadata": {
    "collapsed": false
   },
   "outputs": [
    {
     "name": "stdout",
     "output_type": "stream",
     "text": [
      "Starting to run logistic on test data\n",
      "Attribute Selection Method : beauty\n",
      "Starting population estimation experiments\n"
     ]
    },
    {
     "ename": "KeyError",
     "evalue": "'[]'",
     "output_type": "error",
     "traceback": [
      "\u001b[0;31m---------------------------------------------------------------------------\u001b[0m",
      "\u001b[0;31mKeyError\u001b[0m                                  Traceback (most recent call last)",
      "\u001b[0;32m<ipython-input-184-fea3165bd622>\u001b[0m in \u001b[0;36m<module>\u001b[0;34m()\u001b[0m\n\u001b[0;32m----> 1\u001b[0;31m \u001b[0mPE\u001b[0m\u001b[0;34m.\u001b[0m\u001b[0mrunSyntheticExpts\u001b[0m\u001b[0;34m(\u001b[0m\u001b[0;32mTrue\u001b[0m\u001b[0;34m,\u001b[0m \u001b[0;34m[\u001b[0m\u001b[0;34m'logistic'\u001b[0m\u001b[0;34m]\u001b[0m\u001b[0;34m,\u001b[0m \u001b[0;34m[\u001b[0m\u001b[0;34m'beauty'\u001b[0m\u001b[0;34m]\u001b[0m\u001b[0;34m,\u001b[0m \u001b[0mrange\u001b[0m\u001b[0;34m(\u001b[0m\u001b[0;36m20\u001b[0m\u001b[0;34m,\u001b[0m\u001b[0;36m31\u001b[0m\u001b[0;34m)\u001b[0m\u001b[0;34m,\u001b[0m \u001b[0mclfArgs\u001b[0m\u001b[0;34m)\u001b[0m\u001b[0;34m\u001b[0m\u001b[0m\n\u001b[0m",
      "\u001b[0;32m/Users/sreejithmenon/Google Drive/CodeBase/AWESOME/script/PopulationEstimatorAPI.py\u001b[0m in \u001b[0;36mrunSyntheticExpts\u001b[0;34m(isClf, methTypes, attribTypes, krange, methArgs, thresholdMeth, randomShare)\u001b[0m\n\u001b[1;32m    292\u001b[0m             \u001b[0mprint\u001b[0m\u001b[0;34m(\u001b[0m\u001b[0;34m\"Starting population estimation experiments\"\u001b[0m\u001b[0;34m)\u001b[0m\u001b[0;34m\u001b[0m\u001b[0m\n\u001b[1;32m    293\u001b[0m \u001b[0;34m\u001b[0m\u001b[0m\n\u001b[0;32m--> 294\u001b[0;31m             \u001b[0mfixedK\u001b[0m \u001b[0;34m=\u001b[0m \u001b[0;34m{\u001b[0m\u001b[0mk\u001b[0m \u001b[0;34m:\u001b[0m \u001b[0msharesMethod\u001b[0m\u001b[0;34m(\u001b[0m\u001b[0mpredictions\u001b[0m\u001b[0;34m,\u001b[0m\u001b[0minExifFl\u001b[0m\u001b[0;34m,\u001b[0m\u001b[0minGidAidMapFl\u001b[0m\u001b[0;34m,\u001b[0m\u001b[0minAidFtrFl\u001b[0m\u001b[0;34m,\u001b[0m\u001b[0;32mlambda\u001b[0m \u001b[0;34m:\u001b[0m \u001b[0mk\u001b[0m\u001b[0;34m,\u001b[0m\u001b[0mrandomShare\u001b[0m\u001b[0;34m=\u001b[0m\u001b[0mrandomShare\u001b[0m\u001b[0;34m)\u001b[0m \u001b[0;32mfor\u001b[0m \u001b[0mk\u001b[0m \u001b[0;32min\u001b[0m \u001b[0mkrange\u001b[0m\u001b[0;34m}\u001b[0m\u001b[0;34m\u001b[0m\u001b[0m\n\u001b[0m\u001b[1;32m    295\u001b[0m             \u001b[0mprint\u001b[0m\u001b[0;34m(\u001b[0m\u001b[0;34m\"Population estimation experiments complete\"\u001b[0m\u001b[0;34m)\u001b[0m\u001b[0;34m\u001b[0m\u001b[0m\n\u001b[1;32m    296\u001b[0m \u001b[0;34m\u001b[0m\u001b[0m\n",
      "\u001b[0;32m/Users/sreejithmenon/Google Drive/CodeBase/AWESOME/script/PopulationEstimatorAPI.py\u001b[0m in \u001b[0;36m<dictcomp>\u001b[0;34m(.0)\u001b[0m\n\u001b[1;32m    292\u001b[0m             \u001b[0mprint\u001b[0m\u001b[0;34m(\u001b[0m\u001b[0;34m\"Starting population estimation experiments\"\u001b[0m\u001b[0;34m)\u001b[0m\u001b[0;34m\u001b[0m\u001b[0m\n\u001b[1;32m    293\u001b[0m \u001b[0;34m\u001b[0m\u001b[0m\n\u001b[0;32m--> 294\u001b[0;31m             \u001b[0mfixedK\u001b[0m \u001b[0;34m=\u001b[0m \u001b[0;34m{\u001b[0m\u001b[0mk\u001b[0m \u001b[0;34m:\u001b[0m \u001b[0msharesMethod\u001b[0m\u001b[0;34m(\u001b[0m\u001b[0mpredictions\u001b[0m\u001b[0;34m,\u001b[0m\u001b[0minExifFl\u001b[0m\u001b[0;34m,\u001b[0m\u001b[0minGidAidMapFl\u001b[0m\u001b[0;34m,\u001b[0m\u001b[0minAidFtrFl\u001b[0m\u001b[0;34m,\u001b[0m\u001b[0;32mlambda\u001b[0m \u001b[0;34m:\u001b[0m \u001b[0mk\u001b[0m\u001b[0;34m,\u001b[0m\u001b[0mrandomShare\u001b[0m\u001b[0;34m=\u001b[0m\u001b[0mrandomShare\u001b[0m\u001b[0;34m)\u001b[0m \u001b[0;32mfor\u001b[0m \u001b[0mk\u001b[0m \u001b[0;32min\u001b[0m \u001b[0mkrange\u001b[0m\u001b[0;34m}\u001b[0m\u001b[0;34m\u001b[0m\u001b[0m\n\u001b[0m\u001b[1;32m    295\u001b[0m             \u001b[0mprint\u001b[0m\u001b[0;34m(\u001b[0m\u001b[0;34m\"Population estimation experiments complete\"\u001b[0m\u001b[0;34m)\u001b[0m\u001b[0;34m\u001b[0m\u001b[0m\n\u001b[1;32m    296\u001b[0m \u001b[0;34m\u001b[0m\u001b[0m\n",
      "\u001b[0;32m/Users/sreejithmenon/Google Drive/CodeBase/AWESOME/script/PopulationEstimatorAPI.py\u001b[0m in \u001b[0;36mkSharesPerContributor\u001b[0;34m(prediction_probabs, inExifFl, inGidAidMapFl, inAidFtrFl, genk, randomShare)\u001b[0m\n\u001b[1;32m    194\u001b[0m         \u001b[0mgidContribDct\u001b[0m \u001b[0;34m=\u001b[0m \u001b[0;34m{\u001b[0m\u001b[0mgid_uuid\u001b[0m \u001b[0;34m:\u001b[0m \u001b[0;34m[\u001b[0m\u001b[0mcontrib_extractor\u001b[0m\u001b[0;34m(\u001b[0m\u001b[0mexif_obj\u001b[0m\u001b[0;34m[\u001b[0m\u001b[0mgid_uuid\u001b[0m\u001b[0;34m]\u001b[0m\u001b[0;34m[\u001b[0m\u001b[0;34m'contributor'\u001b[0m\u001b[0;34m]\u001b[0m\u001b[0;34m)\u001b[0m\u001b[0;34m]\u001b[0m \u001b[0;32mfor\u001b[0m \u001b[0mgid_uuid\u001b[0m \u001b[0;32min\u001b[0m \u001b[0mexif_obj\u001b[0m\u001b[0;34m.\u001b[0m\u001b[0mkeys\u001b[0m\u001b[0;34m(\u001b[0m\u001b[0;34m)\u001b[0m\u001b[0;34m}\u001b[0m \u001b[0;31m# -- the ggr dataset stores the contributor information differently (unlike GZC)\u001b[0m\u001b[0;34m\u001b[0m\u001b[0m\n\u001b[1;32m    195\u001b[0m     \u001b[0;32melse\u001b[0m\u001b[0;34m:\u001b[0m\u001b[0;34m\u001b[0m\u001b[0m\n\u001b[0;32m--> 196\u001b[0;31m         \u001b[0mgidContribDct\u001b[0m \u001b[0;34m=\u001b[0m \u001b[0mDRS\u001b[0m\u001b[0;34m.\u001b[0m\u001b[0mgetCountingLogic\u001b[0m\u001b[0;34m(\u001b[0m\u001b[0minGidAidMapFl\u001b[0m\u001b[0;34m,\u001b[0m\u001b[0minAidFtrFl\u001b[0m\u001b[0;34m,\u001b[0m\u001b[0;34m'CONTRIBUTOR'\u001b[0m\u001b[0;34m,\u001b[0m\u001b[0;32mFalse\u001b[0m\u001b[0;34m)\u001b[0m\u001b[0;34m\u001b[0m\u001b[0m\n\u001b[0m\u001b[1;32m    197\u001b[0m \u001b[0;34m\u001b[0m\u001b[0m\n\u001b[1;32m    198\u001b[0m     \u001b[0msdCards\u001b[0m \u001b[0;34m=\u001b[0m \u001b[0;34m{\u001b[0m\u001b[0;34m}\u001b[0m\u001b[0;34m\u001b[0m\u001b[0m\n",
      "\u001b[0;32m/Users/sreejithmenon/Google Drive/CodeBase/AWESOME/script/DeriveFinalResultSet.py\u001b[0m in \u001b[0;36mgetCountingLogic\u001b[0;34m(gidAidMapFl, aidFeatureMapFl, feature, withNumInds, mode)\u001b[0m\n\u001b[1;32m     62\u001b[0m \u001b[0;31m# In that case, the share counts have to be added to both zebra and giraffe.\u001b[0m\u001b[0;34m\u001b[0m\u001b[0;34m\u001b[0m\u001b[0m\n\u001b[1;32m     63\u001b[0m \u001b[0;32mdef\u001b[0m \u001b[0mgetCountingLogic\u001b[0m\u001b[0;34m(\u001b[0m\u001b[0mgidAidMapFl\u001b[0m\u001b[0;34m,\u001b[0m\u001b[0maidFeatureMapFl\u001b[0m\u001b[0;34m,\u001b[0m\u001b[0mfeature\u001b[0m\u001b[0;34m,\u001b[0m\u001b[0mwithNumInds\u001b[0m\u001b[0;34m=\u001b[0m\u001b[0;32mTrue\u001b[0m\u001b[0;34m,\u001b[0m \u001b[0mmode\u001b[0m\u001b[0;34m=\u001b[0m\u001b[0;34m\"GGR\"\u001b[0m\u001b[0;34m)\u001b[0m\u001b[0;34m:\u001b[0m\u001b[0;34m\u001b[0m\u001b[0m\n\u001b[0;32m---> 64\u001b[0;31m     \u001b[0mfeaturesPerImg\u001b[0m \u001b[0;34m=\u001b[0m \u001b[0mImageMap\u001b[0m\u001b[0;34m.\u001b[0m\u001b[0mextractImageFeaturesFromMap\u001b[0m\u001b[0;34m(\u001b[0m\u001b[0mgidAidMapFl\u001b[0m\u001b[0;34m,\u001b[0m\u001b[0maidFeatureMapFl\u001b[0m\u001b[0;34m,\u001b[0m\u001b[0mfeature\u001b[0m\u001b[0;34m,\u001b[0m \u001b[0mmode\u001b[0m\u001b[0;34m=\u001b[0m\u001b[0mmode\u001b[0m\u001b[0;34m)\u001b[0m\u001b[0;34m\u001b[0m\u001b[0m\n\u001b[0m\u001b[1;32m     65\u001b[0m \u001b[0;34m\u001b[0m\u001b[0m\n\u001b[1;32m     66\u001b[0m     \u001b[0mcountLogic\u001b[0m \u001b[0;34m=\u001b[0m \u001b[0;34m{\u001b[0m\u001b[0;34m}\u001b[0m\u001b[0;34m\u001b[0m\u001b[0m\n",
      "\u001b[0;32m/Users/sreejithmenon/Google Drive/CodeBase/AWESOME/script/JobsMapResultsFilesToContainerObjs.py\u001b[0m in \u001b[0;36mextractImageFeaturesFromMap\u001b[0;34m(gidAidMapFl, aidFtrMapFl, feature, mode)\u001b[0m\n\u001b[1;32m    176\u001b[0m         \u001b[0;32mif\u001b[0m \u001b[0mgidAidDict\u001b[0m\u001b[0;34m[\u001b[0m\u001b[0mgid\u001b[0m\u001b[0;34m]\u001b[0m\u001b[0;34m!=\u001b[0m \u001b[0;32mNone\u001b[0m\u001b[0;34m:\u001b[0m\u001b[0;34m\u001b[0m\u001b[0m\n\u001b[1;32m    177\u001b[0m             \u001b[0;32mfor\u001b[0m \u001b[0maid\u001b[0m \u001b[0;32min\u001b[0m \u001b[0mgidAidDict\u001b[0m\u001b[0;34m[\u001b[0m\u001b[0mgid\u001b[0m\u001b[0;34m]\u001b[0m\u001b[0;34m:\u001b[0m\u001b[0;34m\u001b[0m\u001b[0m\n\u001b[0;32m--> 178\u001b[0;31m                 \u001b[0mgidFtr\u001b[0m\u001b[0;34m[\u001b[0m\u001b[0mgid\u001b[0m\u001b[0;34m]\u001b[0m \u001b[0;34m=\u001b[0m \u001b[0mgidFtr\u001b[0m\u001b[0;34m.\u001b[0m\u001b[0mget\u001b[0m\u001b[0;34m(\u001b[0m\u001b[0mgid\u001b[0m\u001b[0;34m,\u001b[0m\u001b[0;34m[\u001b[0m\u001b[0;34m]\u001b[0m\u001b[0;34m)\u001b[0m \u001b[0;34m+\u001b[0m \u001b[0;34m[\u001b[0m\u001b[0maidFeatureDict\u001b[0m\u001b[0;34m[\u001b[0m\u001b[0mstr\u001b[0m\u001b[0;34m(\u001b[0m\u001b[0maid\u001b[0m\u001b[0;34m)\u001b[0m\u001b[0;34m]\u001b[0m\u001b[0;34m[\u001b[0m\u001b[0mfeature\u001b[0m\u001b[0;34m]\u001b[0m\u001b[0;34m]\u001b[0m\u001b[0;34m\u001b[0m\u001b[0m\n\u001b[0m\u001b[1;32m    179\u001b[0m \u001b[0;34m\u001b[0m\u001b[0m\n\u001b[1;32m    180\u001b[0m     \u001b[0;32mreturn\u001b[0m \u001b[0mgidFtr\u001b[0m\u001b[0;34m\u001b[0m\u001b[0m\n",
      "\u001b[0;31mKeyError\u001b[0m: '[]'"
     ]
    }
   ],
   "source": [
    "PE.runSyntheticExpts(True, ['logistic'], ['beauty'], range(20,31), clfArgs)"
   ]
  },
  {
   "cell_type": "code",
   "execution_count": 169,
   "metadata": {
    "collapsed": true
   },
   "outputs": [],
   "source": [
    "clfArgs = {'dummy' : {'strategy' : 'most_frequent'},\n",
    "            'bayesian' : {'fit_prior' : True},\n",
    "            'logistic' : {'penalty' : 'l2'},\n",
    "            'svm' : {'kernel' : 'rbf','probability' : True},\n",
    "            'dtree' : {'criterion' : 'entropy'},\n",
    "            'random_forests' : {'n_estimators' : 10 },\n",
    "            'ada_boost' : {'n_estimators' : 50 }}\n",
    "\n",
    "regrArgs = {'linear' : {'fit_intercept' : True},\n",
    "            'ridge' : {'fit_intercept' : True},\n",
    "            'lasso' : {'fit_intercept' : True},\n",
    "            'elastic_net' : {'fit_intercept' : True},\n",
    "            'svr' : {'fit_intercept' : True},\n",
    "            'dtree_regressor' : {'fit_intercept' : True}}"
   ]
  },
  {
   "cell_type": "code",
   "execution_count": 131,
   "metadata": {
    "collapsed": false
   },
   "outputs": [],
   "source": [
    "contrib_extractor = lambda x : re.findall(r'GGR,([0-9]+,[A-Z]),.*', x)[0]\n",
    "with open(inExifFl, \"r\") as exif_fl:\n",
    "    exif_obj = json.load(exif_fl)\n",
    "gidContribDct = {gid_uuid : [contrib_extractor(exif_obj[gid_uuid]['contributor'])] for gid_uuid in exif_obj.keys()} "
   ]
  },
  {
   "cell_type": "code",
   "execution_count": 132,
   "metadata": {
    "collapsed": false
   },
   "outputs": [
    {
     "data": {
      "text/plain": [
       "'7,A'"
      ]
     },
     "execution_count": 132,
     "metadata": {},
     "output_type": "execute_result"
    }
   ],
   "source": [
    "contrib_extractor(exif_obj['a7c6379f-ab06-b409-9836-3f696c73e86e']['contributor'])"
   ]
  },
  {
   "cell_type": "code",
   "execution_count": null,
   "metadata": {
    "collapsed": true
   },
   "outputs": [],
   "source": []
  }
 ],
 "metadata": {
  "kernelspec": {
   "display_name": "Python 3",
   "language": "python",
   "name": "python3"
  },
  "language_info": {
   "codemirror_mode": {
    "name": "ipython",
    "version": 3
   },
   "file_extension": ".py",
   "mimetype": "text/x-python",
   "name": "python",
   "nbconvert_exporter": "python",
   "pygments_lexer": "ipython3",
   "version": "3.5.2"
  }
 },
 "nbformat": 4,
 "nbformat_minor": 0
}
