{
 "cells": [
  {
   "cell_type": "code",
   "execution_count": null,
   "metadata": {
    "collapsed": true
   },
   "outputs": [],
   "source": []
  },
  {
   "cell_type": "code",
   "execution_count": 57,
   "metadata": {
    "collapsed": false
   },
   "outputs": [
    {
     "data": {
      "text/plain": [
       "<module 'DeriveFinalResultSet' from '/Users/sreejithmenon/Google Drive/CodeBase/AWESOME/script/DeriveFinalResultSet.py'>"
      ]
     },
     "execution_count": 57,
     "metadata": {},
     "output_type": "execute_result"
    }
   ],
   "source": [
    "import json, pandas as pd,re\n",
    "import DeriveFinalResultSet as DRS\n",
    "import cufflinks as cf # this is necessary to link pandas to plotly\n",
    "cf.go_online()\n",
    "from plotly.offline import download_plotlyjs, init_notebook_mode, plot, iplot\n",
    "import plotly.plotly as py\n",
    "import ClassiferHelperAPI as CH\n",
    "import importlib\n",
    "importlib.reload(CH)\n",
    "importlib.reload(DRS)"
   ]
  },
  {
   "cell_type": "code",
   "execution_count": 19,
   "metadata": {
    "collapsed": false
   },
   "outputs": [],
   "source": [
    "inExifFl,inGidAidMapFl,inAidFtrFl = \"../data/ggr_gid_uuid_exif_ftr_map.json\",\"../data/ggr_uuid_annot_uuid_map.json\",\"../data/ggr_annot_uuid_ftr_map.json\"\n"
   ]
  },
  {
   "cell_type": "code",
   "execution_count": 88,
   "metadata": {
    "collapsed": false
   },
   "outputs": [],
   "source": [
    "df = CH.construct_feature_vctr_fl(\"../data/GZC_exifs_beauty_full.json\", None, \n",
    "                            \"../data/full_gid_aid_map.json\",\n",
    "                            \"../data/full_aid_features.json\",\n",
    "                            \"../feature_files/GZC_FEATURE_VECTOR.csv\",\n",
    "                            ['arousal', 'contrast', 'dominance', 'pleasure', 'symmetry', \n",
    "                               'height', 'width',\n",
    "                               'hsv_itten_std_h', 'hsv_itten_std_s', 'hsv_itten_std_v', \n",
    "                               'lat', 'long',\n",
    "                               'orientation', \n",
    "                               'day', 'hour',\n",
    "                               'has_zebra'])"
   ]
  },
  {
   "cell_type": "code",
   "execution_count": 78,
   "metadata": {
    "collapsed": false
   },
   "outputs": [],
   "source": [
    "df = CH.construct_feature_vctr_fl(\"../data/GGR_bty_exif_combined.json\", None, \n",
    "                            \"../data/ggr_uuid_annot_uuid_map.json\",\n",
    "                            \"../data/ggr_annot_uuid_ftr_map.json\",\n",
    "                            \"../feature_files/GGR_FEATURE_VECTOR.csv\",\n",
    "                            ['arousal', 'contrast', 'dominance', 'pleasure', 'symmetry', \n",
    "                               'height', 'width',\n",
    "                               'hsv_itten_std_h', 'hsv_itten_std_s', 'hsv_itten_std_v', \n",
    "                               'lat', 'long',\n",
    "                               'orientation', \n",
    "                               'day', 'hour',\n",
    "                               'has_zebra'])"
   ]
  },
  {
   "cell_type": "code",
   "execution_count": 92,
   "metadata": {
    "collapsed": true
   },
   "outputs": [],
   "source": [
    "import DataStructsHelperAPI as DS"
   ]
  },
  {
   "cell_type": "code",
   "execution_count": 27,
   "metadata": {
    "collapsed": false
   },
   "outputs": [
    {
     "data": {
      "text/plain": [
       "<module 'JobsMapResultsFilesToContainerObjs' from '/Users/sreejithmenon/Google Drive/CodeBase/AWESOME/script/JobsMapResultsFilesToContainerObjs.py'>"
      ]
     },
     "execution_count": 27,
     "metadata": {},
     "output_type": "execute_result"
    }
   ],
   "source": [
    "import JobsMapResultsFilesToContainerObjs as ImageMap\n",
    "import importlib\n",
    "importlib.reload(ImageMap)"
   ]
  },
  {
   "cell_type": "code",
   "execution_count": null,
   "metadata": {
    "collapsed": true
   },
   "outputs": [],
   "source": []
  }
 ],
 "metadata": {
  "kernelspec": {
   "display_name": "Python 3",
   "language": "python",
   "name": "python3"
  },
  "language_info": {
   "codemirror_mode": {
    "name": "ipython",
    "version": 3
   },
   "file_extension": ".py",
   "mimetype": "text/x-python",
   "name": "python",
   "nbconvert_exporter": "python",
   "pygments_lexer": "ipython3",
   "version": "3.5.2"
  }
 },
 "nbformat": 4,
 "nbformat_minor": 0
}
