{
 "cells": [
  {
   "cell_type": "markdown",
   "metadata": {},
   "source": [
    "image analysis running on the server \"lev\", sharing the basic same data.  presently, the IA port is not exposed, but in interest of time, i am making a \"pass-through\" access to the IA api via a WB api call.  (this is ultimately the model we want to use in production, so that wildbook can handle security and other issues, but as you will see, i have kind of done a very generic hack version of the same concept.)   this consists of a small wb api \"wrapper\" call around the call you actually wish to be making of the IA data.  perhaps examples would demonstrate best:\n",
    "\n",
    "IA call:  /api/annot/image/contributor/tag/json/?annot_uuid_list=[{\"__UUID__\":\"8b595dc0-9c5a-4caf-9703-9f8ff017e824\"}]\n",
    "becomes: http://lev.cs.rpi.edu:8080/ggr/ia?passthru=/api/annot/image/contributor/tag/json/&arg=annot_uuid_list%3D[{%22__UUID__%22:%228b595dc0-9c5a-4caf-9703-9f8ff017e824%22}]\n",
    "\n",
    "IA call:  /api/annot/age/months/json/?annot_uuid_list=[{\"__UUID__\":\"8b595dc0-9c5a-4caf-9703-9f8ff017e824\"}]\n",
    "becomes:  http://lev.cs.rpi.edu:8080/ggr/ia?passthru=/api/annot/age/months/json/&arg=annot_uuid_list%3D[{%22__UUID__%22:%228b595dc0-9c5a-4caf-9703-9f8ff017e824%22}]\n",
    "\n",
    "in other words, you pass two parameters, passthru and arg, which are just uri-encoded strings that represent the two sides of the \"?\" in the original call.  (note that arg is optional.)  the two examples above are \"live\", in the sense that you can click them and should get the json results as expected.\n",
    "\n",
    "this should, technically, get you to any existing IA api call (provided i had jason p turn on all the right ones)... at least the ones that use GET.  if you need any POST queries, let me know and i can pass those through as well."
   ]
  },
  {
   "cell_type": "code",
   "execution_count": 79,
   "metadata": {
    "collapsed": true
   },
   "outputs": [],
   "source": [
    "import requests\n",
    "import urllib\n",
    "from collections import OrderedDict"
   ]
  },
  {
   "cell_type": "code",
   "execution_count": 163,
   "metadata": {
    "collapsed": false
   },
   "outputs": [],
   "source": [
    "## /api/annot/image/contributor/tag/json/?annot_uuid_list=[{\"__UUID__\":\"8b595dc0-9c5a-4caf-9703-9f8ff017e824\"}]\n",
    "\n",
    "baseurl = 'http://lev.cs.rpi.edu:8080/ggr/ia'\n",
    "\n",
    "param = ( dict(annot_uuid_list=[{\"__UUID__\" : \"8b595dc0-9c5a-4caf-9703-9f8ff017e824\"}])) \n",
    "param = (param) \n",
    "\n",
    "payload = OrderedDict([('passthru', u'/api/annot/age/months/json/'), \n",
    "                    ('arg', param)]) \n",
    "response = requests.get(baseurl , \n",
    "                        params = payload \n",
    "                        )"
   ]
  },
  {
   "cell_type": "code",
   "execution_count": 164,
   "metadata": {
    "collapsed": false
   },
   "outputs": [
    {
     "data": {
      "text/plain": [
       "'http://lev.cs.rpi.edu:8080/ggr/ia?passthru=%2Fapi%2Fannot%2Fage%2Fmonths%2Fjson%2F&arg=annot_uuid_list%3D%255B%257B%2527__UUID__%2527%253A%2B%25278b595dc0-9c5a-4caf-9703-9f8ff017e824%2527%257D%255D'"
      ]
     },
     "execution_count": 164,
     "metadata": {},
     "output_type": "execute_result"
    }
   ],
   "source": [
    "response.url"
   ]
  },
  {
   "cell_type": "code",
   "execution_count": 165,
   "metadata": {
    "collapsed": false
   },
   "outputs": [
    {
     "data": {
      "text/plain": [
       "{'results': [[None, None]], 'success': True}"
      ]
     },
     "execution_count": 165,
     "metadata": {},
     "output_type": "execute_result"
    }
   ],
   "source": [
    "response.json()"
   ]
  },
  {
   "cell_type": "code",
   "execution_count": 167,
   "metadata": {
    "collapsed": false
   },
   "outputs": [
    {
     "ename": "NameError",
     "evalue": "name 'unicode' is not defined",
     "output_type": "error",
     "traceback": [
      "\u001b[0;31m---------------------------------------------------------------------------\u001b[0m",
      "\u001b[0;31mNameError\u001b[0m                                 Traceback (most recent call last)",
      "\u001b[0;32m<ipython-input-167-92cf82418878>\u001b[0m in \u001b[0;36m<module>\u001b[0;34m()\u001b[0m\n\u001b[0;32m----> 1\u001b[0;31m \u001b[0municode\u001b[0m\u001b[0;34m(\u001b[0m\u001b[0;34m'__UUID__'\u001b[0m\u001b[0;34m,\u001b[0m\u001b[0;34m'utf-8'\u001b[0m\u001b[0;34m)\u001b[0m\u001b[0;34m\u001b[0m\u001b[0m\n\u001b[0m",
      "\u001b[0;31mNameError\u001b[0m: name 'unicode' is not defined"
     ]
    }
   ],
   "source": [
    "unicode('__UUID__','utf-8')"
   ]
  },
  {
   "cell_type": "code",
   "execution_count": 170,
   "metadata": {
    "collapsed": false
   },
   "outputs": [],
   "source": [
    "s = \"__UUID__\"\n"
   ]
  },
  {
   "cell_type": "code",
   "execution_count": null,
   "metadata": {
    "collapsed": true
   },
   "outputs": [],
   "source": []
  }
 ],
 "metadata": {
  "kernelspec": {
   "display_name": "Python 3",
   "language": "python",
   "name": "python3"
  },
  "language_info": {
   "codemirror_mode": {
    "name": "ipython",
    "version": 3
   },
   "file_extension": ".py",
   "mimetype": "text/x-python",
   "name": "python",
   "nbconvert_exporter": "python",
   "pygments_lexer": "ipython3",
   "version": "3.5.2"
  }
 },
 "nbformat": 4,
 "nbformat_minor": 0
}
