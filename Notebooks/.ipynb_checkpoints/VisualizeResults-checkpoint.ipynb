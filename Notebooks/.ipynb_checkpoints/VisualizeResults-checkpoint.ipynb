{
 "cells": [
  {
   "cell_type": "code",
   "execution_count": 1,
   "metadata": {
    "collapsed": false
   },
   "outputs": [
    {
     "data": {
      "text/plain": [
       "<module 'GetPropertiesAPI' from '/Users/sreejithmenon/Google Drive/Project/AnimalPhotoBias/script/GetPropertiesAPI.py'>"
      ]
     },
     "execution_count": 1,
     "metadata": {},
     "output_type": "execute_result"
    }
   ],
   "source": [
    "import csv\n",
    "import htmltag as HT\n",
    "import DeriveFinalResultSet as drs\n",
    "import JobsMapResultsFilesToContainerObjs as ImageMap\n",
    "import pandas as pd\n",
    "import matplotlib.pyplot as plt\n",
    "import importlib\n",
    "import statistics as s\n",
    "importlib.reload(drs)\n",
    "importlib.reload(ImageMap)\n",
    "pd.set_option('display.max_colwidth', -1)\n",
    "from collections import Counter\n",
    "import plotly.plotly as py\n",
    "import cufflinks as cf\n",
    "import GetPropertiesAPI as GP\n",
    "importlib.reload(GP)"
   ]
  },
  {
   "cell_type": "code",
   "execution_count": null,
   "metadata": {
    "collapsed": true
   },
   "outputs": [],
   "source": [
    "def genHTMLTableFiles(shrCntsObj):\n",
    "    shrPropDict = drs.getShrProp(shrCntsObj)\n",
    "    \n",
    "    df = pd.DataFrame(shrPropDict,index = ['Share Proportion']).transpose()\n",
    "    \n",
    "    return df,df.to_html(bold_rows = False)"
   ]
  },
  {
   "cell_type": "code",
   "execution_count": null,
   "metadata": {
    "collapsed": false
   },
   "outputs": [],
   "source": [
    "# Generate rank list of all images by share proportion\n",
    "rnkFlLst = []\n",
    "with open(\"../FinalResults/rankListImages_expt2.csv\",\"r\") as rnkFl:\n",
    "    rnkFlCsv = csv.reader(rnkFl)\n",
    "    header = rnkFlCsv.__next__()\n",
    "    for row in rnkFlCsv:\n",
    "        rnkFlLst.append(row)\n",
    "        \n",
    "thTgs = []\n",
    "trTgs = []\n",
    "\n",
    "trTgs.append(HT.tr(HT.th(\"GID\"),HT.th(\"Share count\"),HT.th(\"Not Share count\"),\n",
    "                  HT.th(\"Total Count\"),HT.th(\"Share Proportion\"),HT.th(\"Image\")))\n",
    "\n",
    "for tup in rnkFlLst:\n",
    "    tdGid = HT.td(tup[0])\n",
    "    tdShare = HT.td(tup[1])\n",
    "    tdNotShare = HT.td(tup[2])\n",
    "    tdTot = HT.td(tup[3])\n",
    "    tdProp = HT.td(tup[4])\n",
    "    url = \"https://socialmediabias.blob.core.windows.net/wildlifephotos/All_Zebra_Count_Images/\" + tup[0] + \".jpeg\"\n",
    "    tdImg = HT.td(HT.img(src = url,alt = \"Unavailable\",width = \"300\"))\n",
    "    trTgs.append(HT.tr(tdGid,tdShare,tdNotShare,tdTot,tdProp,tdImg))\n",
    "    \n",
    "fullFile = HT.html(HT.body(HT.table(HT.HTML('  \\n'.join(trTgs)),border=\"1\")))\n",
    "\n",
    "outputFile = open(\"../data/resultsExpt2RankList1.html\",\"w\")\n",
    "outputFile.write(fullFile)\n",
    "outputFile.close()"
   ]
  },
  {
   "cell_type": "code",
   "execution_count": null,
   "metadata": {
    "collapsed": false
   },
   "outputs": [],
   "source": [
    "d = drs.ovrallShrCntsByTwoFtrs(drs.gidAidMapFl,drs.aidFeatureMapFl,\"SPECIES\",\"AGE\",drs.imgJobMap,1,100)\n",
    "h3_1 = HT.h3(\"Data-Frame by SPECIES-AGE\")\n",
    "df1,tb1 = genHTMLTableFiles(d)\n",
    "\n",
    "d = drs.ovrallShrCntsByTwoFtrs(drs.gidAidMapFl,drs.aidFeatureMapFl,\"SPECIES\",\"SEX\",drs.imgJobMap,1,100)\n",
    "h3_2 = HT.h3(\"Data-Frame by SPECIES-SEX\")\n",
    "df2,tb2 = genHTMLTableFiles(d)\n",
    "\n",
    "d = drs.ovrallShrCntsByTwoFtrs(drs.gidAidMapFl,drs.aidFeatureMapFl,\"SPECIES\",\"VIEW_POINT\",drs.imgJobMap,1,100)\n",
    "h3_3 = HT.h3(\"Data-Frame by SPECIES-VIEW_POINT\")\n",
    "df3,tb3 = genHTMLTableFiles(d)\n",
    "\n",
    "d = drs.ovrallShrCntsByTwoFtrs(drs.gidAidMapFl,drs.aidFeatureMapFl,\"SPECIES\",\"QUALITY\",drs.imgJobMap,1,100)\n",
    "h3_4 = HT.h3(\"Data-Frame by SPECIES-QUALITY\")\n",
    "df4,tb4 = genHTMLTableFiles(d)\n",
    "\n",
    "d = drs.ovrallShrCntsByTwoFtrs(drs.gidAidMapFl,drs.aidFeatureMapFl,\"SPECIES\",\"EXEMPLAR_FLAG\",drs.imgJobMap,1,100)\n",
    "h3_5 = HT.h3(\"Data-Frame by SPECIES-EXEMPLAR_FLAG\")\n",
    "df5,tb5 = genHTMLTableFiles(d)\n",
    "\n",
    "## *******## *******## *******## *******## *******## *******## *******## *******\n",
    "\n",
    "d = drs.ovrallShrCntsByTwoFtrs(drs.gidAidMapFl,drs.aidFeatureMapFl,\"VIEW_POINT\",\"SPECIES\",drs.imgJobMap,1,100)\n",
    "h3_6 = HT.h3(\"Data-Frame by VIEW_POINT-SPECIES\")\n",
    "df6,tb6 = genHTMLTableFiles(d)\n",
    "\n",
    "d = drs.ovrallShrCntsByTwoFtrs(drs.gidAidMapFl,drs.aidFeatureMapFl,\"VIEW_POINT\",\"AGE\",drs.imgJobMap,1,100)\n",
    "h3_7 = HT.h3(\"Data-Frame by VIEW_POINT-AGE\")\n",
    "df7,tb7 = genHTMLTableFiles(d)\n",
    "\n",
    "d = drs.ovrallShrCntsByTwoFtrs(drs.gidAidMapFl,drs.aidFeatureMapFl,\"VIEW_POINT\",\"SEX\",drs.imgJobMap,1,100)\n",
    "h3_8 = HT.h3(\"Data-Frame by VIEW_POINT-SEX\")\n",
    "df8,tb8 = genHTMLTableFiles(d)\n",
    "\n",
    "d = drs.ovrallShrCntsByTwoFtrs(drs.gidAidMapFl,drs.aidFeatureMapFl,\"VIEW_POINT\",\"QUALITY\",drs.imgJobMap,1,100)\n",
    "h3_9 = HT.h3(\"Data-Frame by VIEW_POINT-QUALITY\")\n",
    "df9,tb9 = genHTMLTableFiles(d)\n",
    "\n",
    "d = drs.ovrallShrCntsByTwoFtrs(drs.gidAidMapFl,drs.aidFeatureMapFl,\"VIEW_POINT\",\"EXEMPLAR_FLAG\",drs.imgJobMap,1,100)\n",
    "h3_10 = HT.h3(\"Data-Frame by VIEW_POINT-EXEMPLAR_FLAG\")\n",
    "df10,tb10 = genHTMLTableFiles(d)\n",
    "\n",
    "## *******## *******## *******## *******## *******## *******## *******## *******\n",
    "d = drs.ovrallShrCntsByTwoFtrs(drs.gidAidMapFl,drs.aidFeatureMapFl,\"SEX\",\"SPECIES\",drs.imgJobMap,1,100)\n",
    "h3_11 = HT.h3(\"Data-Frame by SEX-SPECIES\")\n",
    "df11,tb11 = genHTMLTableFiles(d)\n",
    "\n",
    "d = drs.ovrallShrCntsByTwoFtrs(drs.gidAidMapFl,drs.aidFeatureMapFl,\"SEX\",\"AGE\",drs.imgJobMap,1,100)\n",
    "h3_12 = HT.h3(\"Data-Frame by SEX-AGE\")\n",
    "df12,tb12 = genHTMLTableFiles(d)\n",
    "\n",
    "d = drs.ovrallShrCntsByTwoFtrs(drs.gidAidMapFl,drs.aidFeatureMapFl,\"SEX\",\"QUALITY\",drs.imgJobMap,1,100)\n",
    "h3_13 = HT.h3(\"Data-Frame by SEX-QUALITY\")\n",
    "df13,tb13 = genHTMLTableFiles(d)\n",
    "\n",
    "d = drs.ovrallShrCntsByTwoFtrs(drs.gidAidMapFl,drs.aidFeatureMapFl,\"SEX\",\"EXEMPLAR_FLAG\",drs.imgJobMap,1,100)\n",
    "h3_14 = HT.h3(\"Data-Frame by SEX-EXEMPLAR_FLAG\")\n",
    "df14,tb14 = genHTMLTableFiles(d)\n",
    "\n",
    "d = drs.ovrallShrCntsByTwoFtrs(drs.gidAidMapFl,drs.aidFeatureMapFl,\"SEX\",\"VIEW_POINT\",drs.imgJobMap,1,100)\n",
    "h3_15 = HT.h3(\"Data-Frame by SEX-VIEW_POINT\")\n",
    "df15,tb15 = genHTMLTableFiles(d)\n",
    "\n",
    "## *******## *******## *******## *******## *******## *******## *******## *******\n",
    "d = drs.ovrallShrCntsByTwoFtrs(drs.gidAidMapFl,drs.aidFeatureMapFl,\"AGE\",\"SPECIES\",drs.imgJobMap,1,100)\n",
    "h3_16 = HT.h3(\"Data-Frame by AGE-SPECIES\")\n",
    "df16,tb16 = genHTMLTableFiles(d)\n",
    "\n",
    "d = drs.ovrallShrCntsByTwoFtrs(drs.gidAidMapFl,drs.aidFeatureMapFl,\"AGE\",\"SEX\",drs.imgJobMap,1,100)\n",
    "h3_17 = HT.h3(\"Data-Frame by AGE-SEX\")\n",
    "df17,tb17 = genHTMLTableFiles(d)\n",
    "\n",
    "d = drs.ovrallShrCntsByTwoFtrs(drs.gidAidMapFl,drs.aidFeatureMapFl,\"AGE\",\"QUALITY\",drs.imgJobMap,1,100)\n",
    "h3_18 = HT.h3(\"Data-Frame by AGE-QUALITY\")\n",
    "df18,tb18 = genHTMLTableFiles(d)\n",
    "\n",
    "d = drs.ovrallShrCntsByTwoFtrs(drs.gidAidMapFl,drs.aidFeatureMapFl,\"AGE\",\"EXEMPLAR_FLAG\",drs.imgJobMap,1,100)\n",
    "h3_19 = HT.h3(\"Data-Frame by AGE-EXEMPLAR_FLAG\")\n",
    "df19,tb19 = genHTMLTableFiles(d)\n",
    "\n",
    "d = drs.ovrallShrCntsByTwoFtrs(drs.gidAidMapFl,drs.aidFeatureMapFl,\"AGE\",\"VIEW_POINT\",drs.imgJobMap,1,100)\n",
    "h3_20 = HT.h3(\"Data-Frame by AGE-VIEW_POINT\")\n",
    "df20,tb20 = genHTMLTableFiles(d)\n",
    "\n",
    "\n",
    "\n",
    "fullFl = HT.html(HT.body(HT.HTML(h3_1),HT.HTML(tb1),\n",
    "                        HT.HTML(h3_2),HT.HTML(tb2),\n",
    "                        HT.HTML(h3_3),HT.HTML(tb3),\n",
    "                        HT.HTML(h3_4),HT.HTML(tb4),\n",
    "                        HT.HTML(h3_5),HT.HTML(tb5),\n",
    "                        HT.HTML(h3_6),HT.HTML(tb6),\n",
    "                        HT.HTML(h3_7),HT.HTML(tb7),\n",
    "                        HT.HTML(h3_8),HT.HTML(tb8),\n",
    "                        HT.HTML(h3_9),HT.HTML(tb9),\n",
    "                        HT.HTML(h3_10),HT.HTML(tb10),\n",
    "                        HT.HTML(h3_11),HT.HTML(tb11),\n",
    "                        HT.HTML(h3_12),HT.HTML(tb12),\n",
    "                        HT.HTML(h3_13),HT.HTML(tb13),\n",
    "                        HT.HTML(h3_14),HT.HTML(tb14),\n",
    "                        HT.HTML(h3_15),HT.HTML(tb15),\n",
    "                        HT.HTML(h3_16),HT.HTML(tb16),\n",
    "                        HT.HTML(h3_17),HT.HTML(tb17),\n",
    "                        HT.HTML(h3_18),HT.HTML(tb18),\n",
    "                        HT.HTML(h3_19),HT.HTML(tb19),\n",
    "                        HT.HTML(h3_20),HT.HTML(tb20)\n",
    "                        ))\n",
    "\n",
    "outputFile = open(\"../FinalResults/twoFeatures.html\",\"w\")\n",
    "outputFile.write(fullFl)\n",
    "outputFile.close()"
   ]
  },
  {
   "cell_type": "code",
   "execution_count": null,
   "metadata": {
    "collapsed": true
   },
   "outputs": [],
   "source": [
    "def getHTMLTabForFtr(ftr):\n",
    "    d = drs.ovrallShrCntsByFtr(drs.gidAidMapFl,drs.aidFeatureMapFl,ftr,drs.imgJobMap,1,100)\n",
    "    head3 = HT.h3(\"Data-Frame by \" + ftr)\n",
    "    df1,tb1 = genHTMLTableFiles(d)\n",
    "    \n",
    "    fig = df1.iplot(kind='bar',filename=str(ftr + '_expt2' ))\n",
    "    iframe = fig.embed_code\n",
    "\n",
    "    df1.reset_index(inplace=True)\n",
    "    df1.columns = [ftr,'Share Proportion']\n",
    "    \n",
    "    a,b,c = drs.genObjsForConsistency(drs.gidAidMapFl,drs.aidFeatureMapFl,ftr,drs.imgJobMap)    \n",
    "    consistency = drs.getConsistencyDict(a,b,c)\n",
    "    \n",
    "    df2 = pd.DataFrame(drs.genVarStddevShrPropAcrsAlbms(consistency)).transpose()\n",
    "    df2.reset_index(inplace=True)\n",
    "    df2.columns = [ftr,'mean','standard_deviation','variance']\n",
    "    \n",
    "    df = pd.merge(df1,df2,left_on=ftr,right_on=ftr,how='left')\n",
    "    \n",
    "    return df,head3,df.to_html(bold_rows = False,index=False),iframe"
   ]
  },
  {
   "cell_type": "code",
   "execution_count": null,
   "metadata": {
    "collapsed": false
   },
   "outputs": [],
   "source": [
    "df1,h3_1,tb1,img1 = getHTMLTabForFtr(\"SPECIES\")\n",
    "df2,h3_2,tb2,img2 = getHTMLTabForFtr(\"AGE\")\n",
    "df3,h3_3,tb3,img3 = getHTMLTabForFtr(\"VIEW_POINT\")\n",
    "df4,h3_4,tb4,img4 = getHTMLTabForFtr(\"QUALITY\")\n",
    "df5,h3_5,tb5,img5 = getHTMLTabForFtr(\"EXEMPLAR_FLAG\")\n",
    "df6,h3_6,tb6,img6 = getHTMLTabForFtr(\"CONTRIBUTOR\")\n",
    "fullFl = HT.html(HT.body(HT.HTML(h3_1),HT.HTML(tb1), HT.html(img1),\n",
    "                        HT.HTML(h3_2),HT.HTML(tb2), HT.html(img2),\n",
    "                        HT.HTML(h3_3),HT.HTML(tb3), HT.html(img3),\n",
    "                        HT.HTML(h3_4),HT.HTML(tb4), HT.html(img4),\n",
    "                        HT.HTML(h3_5),HT.HTML(tb5), HT.html(img5),\n",
    "                        HT.HTML(h3_6),HT.HTML(tb6), HT.html(img6)\n",
    "                         ))\n",
    "\n",
    "outputFile = open(\"../FinalResults/oneFeature1.html\",\"w\")\n",
    "outputFile.write(fullFl)\n",
    "outputFile.close()\n",
    "\n",
    "plt.close('all')"
   ]
  },
  {
   "cell_type": "code",
   "execution_count": null,
   "metadata": {
    "collapsed": false
   },
   "outputs": [],
   "source": [
    "df = pd.DataFrame(drs.genAlbmFtrs(drs.gidAidMapFl,drs.aidFeatureMapFl,drs.imgJobMap,['SPECIES','AGE','SEX'])).transpose()\n",
    "fullFl= HT.html(HT.body(HT.HTML(df.to_html(bold_rows = False))))\n",
    "\n",
    "df.to_csv(\"../FinalResults/albumProperties.csv\",index=False)\n",
    "outputFile = open(\"../FinalResults/albumProperties.html\",\"w\")\n",
    "outputFile.write(fullFl)\n",
    "outputFile.close()"
   ]
  },
  {
   "cell_type": "code",
   "execution_count": null,
   "metadata": {
    "collapsed": false
   },
   "outputs": [],
   "source": [
    "# DO NOT RUN AGAIN WITHOUT TAKING BACKUP OF THE HTML FILE\n",
    "imgAlbmShrs,consistency = drs.getShrPropImgsAcrossAlbms(drs.imgJobMap,1,100,\"../FinalResults/shareRateSameImgsAcrossAlbums.json\")\n",
    "df = pd.DataFrame(imgAlbmShrs,index=[\"Share Proportion\"]).transpose()\n",
    "gidShrVarStdDevDict = drs.genVarStddevShrPropAcrsAlbms(consistency)\n",
    "df2 = pd.DataFrame(gidShrVarStdDevDict).transpose()\n",
    "df2.reset_index(inplace=True)\n",
    "df2.columns = ['GID','Standard Deviation','Variance']\n",
    "\n",
    "subindex = df.groupby(level=0).head(1).index\n",
    "subindex2 = df2.groupby(level=0).head(1)['Standard Deviation']\n",
    "subindex3 = df2.groupby(level=0).head(1)['Variance']\n",
    "df.loc[subindex, 'Standard Deviation'] = subindex2.get_values()\n",
    "df.loc[subindex, 'Variance'] = subindex3.get_values()\n",
    "\n",
    "df.to_csv(\"../FinalResults/shareRateSameImgsAcrossAlbums.csv\")\n",
    "\n",
    "df.loc[subindex, 'URL'] = '<img src = \"https://socialmediabias.blob.core.windows.net/wildlifephotos/All_Zebra_Count_Images/' + subindex.get_level_values(0) + '.jpeg\" width = \"350\">'\n",
    "df = df.fillna(\"\")\n",
    "\n",
    "fullFl= HT.html(HT.body(HT.HTML(df.to_html(bold_rows = False))))\n",
    "outputFile = open(\"../FinalResults/shareRateSameImgsAcrossAlbums.html\",\"w\")\n",
    "outputFile.write(fullFl)\n",
    "outputFile.close()\n",
    "\n",
    "df = pd.DataFrame(sorted(gidShrVarStdDevDict.items(),key = lambda x : x[1]['standard_deviation'],reverse=True),columns=['GID','Stats'])\n",
    "df.to_csv(\"../FinalResults/ImgsStdDevDesc.csv\",index=False)"
   ]
  },
  {
   "cell_type": "code",
   "execution_count": null,
   "metadata": {
    "collapsed": false
   },
   "outputs": [],
   "source": [
    "summaryPosCnt = drs.getPosShrProptn(drs.imgJobMap,1,100)\n",
    "\n",
    "df = pd.DataFrame(summaryPosCnt).transpose()\n",
    "cols = ['share','not_share','total','proportion']\n",
    "df = df[cols]\n",
    "# imgTg = HT.img(src=\"images/PositionBias.png\")\n",
    "# df.plot()\n",
    "# plt.savefig(\"../FinalResults/PositionBias.png\",bbox_inches='tight')\n",
    "\n",
    "fig = df.iplot(kind='line',filename=str('Position_bias' + '_expt2' ))\n",
    "iframe = fig.embed_code\n",
    "\n",
    "fullFl= HT.html(HT.body(HT.HTML(df.to_html(bold_rows = False))),HT.HTML(iframe))\n",
    "outputFile = open(\"../FinalResults/PositionBias1.html\",\"w\")\n",
    "outputFile.write(fullFl)\n",
    "outputFile.close()"
   ]
  },
  {
   "cell_type": "code",
   "execution_count": null,
   "metadata": {
    "collapsed": false
   },
   "outputs": [],
   "source": [
    "df[['share','not_share','proportion']].plot()\n",
    "plt.show()"
   ]
  },
  {
   "cell_type": "code",
   "execution_count": null,
   "metadata": {
    "collapsed": false
   },
   "outputs": [],
   "source": [
    "# Overall share statistics ranked by shared proportion of images along with features and tags\n",
    "df = pd.DataFrame.from_csv(\"../data/resultsFeaturesComb_expt2.csv\")\n",
    "df.reset_index(inplace=True)\n",
    "\n",
    "df = df[[ 'GID', 'AID','Album', 'AGE',\n",
    "       'EXEMPLAR_FLAG', 'INDIVIDUAL_NAME', 'NID', 'QUALITY', 'SEX', 'SPECIES',\n",
    "       'VIEW_POINT','CONTRIBUTOR']]\n",
    "\n",
    "df['CONTRIBUTOR'] = df[['CONTRIBUTOR']].applymap(lambda x : x.replace(',',''))\n",
    "\n",
    "df = df.groupby('GID').agg(','.join)\n",
    "df.reset_index(inplace=True)\n",
    "df.GID = df.GID.astype(str)\n",
    "\n",
    "dfRes = pd.DataFrame.from_csv(\"../FinalResults/resultsExpt2RankList_Tags.csv\")\n",
    "dfRes.reset_index(inplace=True)\n",
    "dfRes.GID = dfRes.GID.astype(str)\n",
    "dfRes['URL'] = '<img src = \"https://socialmediabias.blob.core.windows.net/wildlifephotos/All_Zebra_Count_Images/' + dfRes['GID'] + '.jpeg\" width = \"350\">'\n",
    "\n",
    "dfSummary = pd.merge(df,dfRes,left_on ='GID',right_on='GID')\n",
    "dfSummary.sort_values(by='Proportion',ascending=False,inplace=True)\n",
    "dfSummary = dfSummary[['GID','Album','AGE','INDIVIDUAL_NAME','QUALITY','SEX','SPECIES','VIEW_POINT','CONTRIBUTOR','tags','Shares','Not Shares','Total','Proportion','URL']]\n",
    "dfSummary.to_csv(\"../FinalResults/ImgShrRnkListWithTags.csv\",index=False)\n",
    "\n",
    "fullFl= HT.html(HT.body(HT.HTML(dfSummary.to_html(bold_rows = False,index=False))))\n",
    "outputFile = open(\"../FinalResults/ImgShrRnkListWithTags.html\",\"w\")\n",
    "outputFile.write(fullFl)\n",
    "outputFile.close()"
   ]
  },
  {
   "cell_type": "code",
   "execution_count": null,
   "metadata": {
    "collapsed": true
   },
   "outputs": [],
   "source": []
  }
 ],
 "metadata": {
  "kernelspec": {
   "display_name": "Python 3",
   "language": "python",
   "name": "python3"
  },
  "language_info": {
   "codemirror_mode": {
    "name": "ipython",
    "version": 3
   },
   "file_extension": ".py",
   "mimetype": "text/x-python",
   "name": "python",
   "nbconvert_exporter": "python",
   "pygments_lexer": "ipython3",
   "version": "3.5.2"
  }
 },
 "nbformat": 4,
 "nbformat_minor": 0
}
