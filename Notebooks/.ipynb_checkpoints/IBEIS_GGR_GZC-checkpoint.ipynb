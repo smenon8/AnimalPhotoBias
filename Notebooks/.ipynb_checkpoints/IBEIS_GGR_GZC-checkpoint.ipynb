{
 "cells": [
  {
   "cell_type": "markdown",
   "metadata": {},
   "source": [
    "image analysis running on the server \"lev\", sharing the basic same data.  presently, the IA port is not exposed, but in interest of time, i am making a \"pass-through\" access to the IA api via a WB api call.  (this is ultimately the model we want to use in production, so that wildbook can handle security and other issues, but as you will see, i have kind of done a very generic hack version of the same concept.)   this consists of a small wb api \"wrapper\" call around the call you actually wish to be making of the IA data.  perhaps examples would demonstrate best:\n",
    "\n",
    "IA call:  /api/annot/image/contributor/tag/json/?annot_uuid_list=[{\"__UUID__\":\"8b595dc0-9c5a-4caf-9703-9f8ff017e824\"}]\n",
    "becomes: http://lev.cs.rpi.edu:8080/ggr/ia?passthru=/api/annot/image/contributor/tag/json/&arg=annot_uuid_list%3D[{%22__UUID__%22:%228b595dc0-9c5a-4caf-9703-9f8ff017e824%22}]\n",
    "\n",
    "IA call:  /api/annot/age/months/json/?annot_uuid_list=[{\"__UUID__\":\"8b595dc0-9c5a-4caf-9703-9f8ff017e824\"}]\n",
    "becomes:  http://lev.cs.rpi.edu:8080/ggr/ia?passthru=/api/annot/age/months/json/&arg=annot_uuid_list%3D[{%22__UUID__%22:%228b595dc0-9c5a-4caf-9703-9f8ff017e824%22}]\n",
    "\n",
    "in other words, you pass two parameters, passthru and arg, which are just uri-encoded strings that represent the two sides of the \"?\" in the original call.  (note that arg is optional.)  the two examples above are \"live\", in the sense that you can click them and should get the json results as expected.\n",
    "\n",
    "this should, technically, get you to any existing IA api call (provided i had jason p turn on all the right ones)... at least the ones that use GET.  if you need any POST queries, let me know and i can pass those through as well."
   ]
  },
  {
   "cell_type": "code",
   "execution_count": 79,
   "metadata": {
    "collapsed": true
   },
   "outputs": [],
   "source": [
    "import requests\n",
    "import urllib\n",
    "from collections import OrderedDict"
   ]
  },
  {
   "cell_type": "code",
   "execution_count": null,
   "metadata": {
    "collapsed": true
   },
   "outputs": [],
   "source": [
    "## /api/annot/image/contributor/tag/json/?annot_uuid_list=[{\"__UUID__\":\"8b595dc0-9c5a-4caf-9703-9f8ff017e824\"}]\n",
    "\n",
    "DOMAIN = 'http://lev.cs.rpi.edu:8080/ggr//ia'\n",
    "\n",
    "param = urllib.parse.quote('annot_uuid_list=') + '[{' + urllib.parse.quote('\"__UUID__\"') + ':' +urllib.parse.quote('\"8b595dc0-9c5a-4caf-9703-9f8ff017e824\"') + '}]'\n",
    "# param = urllib.parse.urlencode(param) "
   ]
  },
  {
   "cell_type": "code",
   "execution_count": 262,
   "metadata": {
    "collapsed": false
   },
   "outputs": [],
   "source": [
    "payload = OrderedDict([('passthru', u'/apaaaai///annot/age/months/json/'), \n",
    "                ('asdasarg', param)]) \n",
    "response = requests.get(baseurl , \n",
    "                        params = payload \n",
    "                        )"
   ]
  },
  {
   "cell_type": "code",
   "execution_count": 258,
   "metadata": {
    "collapsed": false
   },
   "outputs": [
    {
     "data": {
      "text/plain": [
       "'/ggr/ia?passthru=%2Fapaaaai%2F%2F%2Fannot%2Fage%2Fmonths%2Fjson%2F&asdasarg=annot_uuid_list%253D%5B%7B%2522__UUID__%2522%3A%25228b595dc0-9c5a-4caf-9703-9f8ff017e824%2522%7D%5D'"
      ]
     },
     "execution_count": 258,
     "metadata": {},
     "output_type": "execute_result"
    }
   ],
   "source": [
    "response.request.path_url"
   ]
  },
  {
   "cell_type": "code",
   "execution_count": 277,
   "metadata": {
    "collapsed": false
   },
   "outputs": [],
   "source": [
    "url = DOMAIN + '?passthru=' + '/api/annot/age/months/json/' + '&arg=' + ggr_form_arg(\"8b595dc0-9c5a-4caf-9703-9f8ff017e824\")"
   ]
  },
  {
   "cell_type": "code",
   "execution_count": 279,
   "metadata": {
    "collapsed": false
   },
   "outputs": [],
   "source": [
    "res = requests.get(url)\n"
   ]
  },
  {
   "cell_type": "code",
   "execution_count": 280,
   "metadata": {
    "collapsed": false
   },
   "outputs": [
    {
     "data": {
      "text/plain": [
       "{'results': [[6, 11]], 'success': True}"
      ]
     },
     "execution_count": 280,
     "metadata": {},
     "output_type": "execute_result"
    }
   ],
   "source": [
    "res.json()"
   ]
  },
  {
   "cell_type": "code",
   "execution_count": 251,
   "metadata": {
    "collapsed": true
   },
   "outputs": [],
   "source": [
    "assert response.ok"
   ]
  },
  {
   "cell_type": "code",
   "execution_count": 267,
   "metadata": {
    "collapsed": false
   },
   "outputs": [
    {
     "data": {
      "text/plain": [
       "'\"abcd\"'"
      ]
     },
     "execution_count": 267,
     "metadata": {},
     "output_type": "execute_result"
    }
   ],
   "source": [
    "s = \"abcd\"\n",
    "\n",
    "'\\\"%s\\\"' %s"
   ]
  },
  {
   "cell_type": "code",
   "execution_count": 275,
   "metadata": {
    "collapsed": false
   },
   "outputs": [],
   "source": [
    "ggr_form_arg = lambda x : urllib.parse.quote('annot_uuid_list=') + '[{' + urllib.parse.quote('\"__UUID__\"') + ':' + urllib.parse.quote('\\\"%s\\\"' %x) + '}]'"
   ]
  },
  {
   "cell_type": "code",
   "execution_count": 278,
   "metadata": {
    "collapsed": false
   },
   "outputs": [
    {
     "data": {
      "text/plain": [
       "'http://lev.cs.rpi.edu:8080/ggr//ia?passthru=/api/annot/age/months/json/&arg=annot_uuid_list%3D[{%22__UUID__%22:%228b595dc0-9c5a-4caf-9703-9f8ff017e824%22}]'"
      ]
     },
     "execution_count": 278,
     "metadata": {},
     "output_type": "execute_result"
    }
   ],
   "source": [
    "url"
   ]
  },
  {
   "cell_type": "code",
   "execution_count": null,
   "metadata": {
    "collapsed": true
   },
   "outputs": [],
   "source": []
  },
  {
   "cell_type": "code",
   "execution_count": null,
   "metadata": {
    "collapsed": true
   },
   "outputs": [],
   "source": []
  },
  {
   "cell_type": "code",
   "execution_count": 77,
   "metadata": {
    "collapsed": false
   },
   "outputs": [
    {
     "ename": "ImportError",
     "evalue": "No module named 'urllib2'",
     "output_type": "error",
     "traceback": [
      "\u001b[0;31m---------------------------------------------------------------------------\u001b[0m",
      "\u001b[0;31mImportError\u001b[0m                               Traceback (most recent call last)",
      "\u001b[0;32m<ipython-input-77-44bf6cbd73a7>\u001b[0m in \u001b[0;36m<module>\u001b[0;34m()\u001b[0m\n\u001b[1;32m      1\u001b[0m \u001b[0;32mimport\u001b[0m \u001b[0mUploadAndDetectIBEIS\u001b[0m \u001b[0;32mas\u001b[0m \u001b[0mUD\u001b[0m\u001b[0;34m,\u001b[0m \u001b[0muuid\u001b[0m\u001b[0;34m\u001b[0m\u001b[0m\n\u001b[0;32m----> 2\u001b[0;31m \u001b[0;32mimport\u001b[0m \u001b[0mrequests\u001b[0m\u001b[0;34m,\u001b[0m \u001b[0mjson\u001b[0m\u001b[0;34m,\u001b[0m \u001b[0mdatetime\u001b[0m\u001b[0;34m,\u001b[0m \u001b[0murllib2\u001b[0m\u001b[0;34m,\u001b[0m \u001b[0mimportlib\u001b[0m\u001b[0;34m\u001b[0m\u001b[0m\n\u001b[0m\u001b[1;32m      3\u001b[0m \u001b[0mimportlib\u001b[0m\u001b[0;34m.\u001b[0m\u001b[0mreload\u001b[0m\u001b[0;34m(\u001b[0m\u001b[0mUD\u001b[0m\u001b[0;34m)\u001b[0m\u001b[0;34m\u001b[0m\u001b[0m\n\u001b[1;32m      4\u001b[0m \u001b[0;34m\u001b[0m\u001b[0m\n\u001b[1;32m      5\u001b[0m \u001b[0;32mimport\u001b[0m \u001b[0mGetPropertiesAPI\u001b[0m \u001b[0;32mas\u001b[0m \u001b[0mGP\u001b[0m\u001b[0;34m\u001b[0m\u001b[0m\n",
      "\u001b[0;31mImportError\u001b[0m: No module named 'urllib2'"
     ]
    }
   ],
   "source": [
    "import UploadAndDetectIBEIS as UD, uuid\n",
    "import requests, json, datetime, urllib, importlib\n",
    "importlib.reload(UD)\n",
    "\n",
    "import GetPropertiesAPI as GP\n",
    "importlib.reload(GP)"
   ]
  },
  {
   "cell_type": "code",
   "execution_count": null,
   "metadata": {
    "collapsed": true
   },
   "outputs": [],
   "source": [
    "data_dict = {\n",
    "        'gid_list': [1],\n",
    "    }\n",
    "image_uuid_list = UD.get('api/image/uuid', data_dict)\n",
    "image_uuid_dict = image_uuid_list[0]\n",
    "image_uuid = uuid.UUID(image_uuid_dict['__UUID__'])\n",
    "\n",
    "data_dict = {\n",
    "    'query_annot_uuid_list' : [1],\n",
    "    'query_annot_name_list' : [image_uuid]\n",
    "    \n",
    "}\n",
    "res = requests.get('http://pachy.cs.uic.edu:5000/api/engine/query/graph/', data = data_dict)\n",
    "res.json()"
   ]
  },
  {
   "cell_type": "code",
   "execution_count": 25,
   "metadata": {
    "collapsed": false
   },
   "outputs": [
    {
     "name": "stdout",
     "output_type": "stream",
     "text": [
      "http://pachy.cs.uic.edu:5001/api/image/uuid/\n",
      "{'response': [{'__UUID__': '42165232-f1d6-dcf3-6720-beac4476cb7e'}], 'status': {'cache': -1, 'code': 200, 'message': '', 'success': True}}\n"
     ]
    },
    {
     "data": {
      "text/plain": [
       "[{'__UUID__': '42165232-f1d6-dcf3-6720-beac4476cb7e'}]"
      ]
     },
     "execution_count": 25,
     "metadata": {},
     "output_type": "execute_result"
    }
   ],
   "source": [
    "data_dict = {\n",
    "        'gid_list': [1],\n",
    "    }\n",
    "image_uuid_list = UD.get('api/image/uuid', data_dict)\n",
    "image_uuid_list"
   ]
  },
  {
   "cell_type": "code",
   "execution_count": 36,
   "metadata": {
    "collapsed": false
   },
   "outputs": [
    {
     "name": "stdout",
     "output_type": "stream",
     "text": [
      "{'response': [{'__UUID__': '5acbceed-8cf5-4f4f-bd19-30e1ac96e644'}], 'status': {'cache': -1, 'code': 200, 'message': '', 'success': True}}\n",
      "{'response': [{'__UUID__': '4abaab8a-8ff3-4142-acbb-226fcac615f1'}], 'status': {'cache': -1, 'code': 200, 'message': '', 'success': True}}\n"
     ]
    }
   ],
   "source": [
    "res = requests.get('http://pachy.cs.uic.edu:5000/api/annot/uuid/', \n",
    "                   data = dict(aid_list=['15333']))\n",
    "\n",
    "\n",
    "print(res.json())\n",
    "\n",
    "res = requests.get('http://pachy.cs.uic.edu:5000/api/annot/uuid/', \n",
    "                   data = dict(aid_list=['15441']))\n",
    "\n",
    "\n",
    "print(res.json())"
   ]
  },
  {
   "cell_type": "code",
   "execution_count": 19,
   "metadata": {
    "collapsed": false
   },
   "outputs": [
    {
     "data": {
      "text/plain": [
       "<Response [500]>"
      ]
     },
     "execution_count": 19,
     "metadata": {},
     "output_type": "execute_result"
    }
   ],
   "source": [
    "data_dict = {\n",
    "    \"query_annot_uuid_list\" : [{\"__UUID__\" : \"5acbceed-8cf5-4f4f-bd19-30e1ac96e644\"}]\n",
    "}\n",
    "\n",
    "data_dict = urllib.parse.urlencode(data_dict)\n",
    "res = requests.post('http://pachy.cs.uic.edu:5001/api/engine/query/graph/', data = data_dict)\n",
    "res"
   ]
  },
  {
   "cell_type": "code",
   "execution_count": 39,
   "metadata": {
    "collapsed": false
   },
   "outputs": [
    {
     "data": {
      "text/plain": [
       "'query_annot_uuid_list=%5B%7B%27__UUID__%27%3A+%275acbceed-8cf5-4f4f-bd19-30e1ac96e644%27%7D%5D'"
      ]
     },
     "execution_count": 39,
     "metadata": {},
     "output_type": "execute_result"
    }
   ],
   "source": [
    "payload"
   ]
  },
  {
   "cell_type": "code",
   "execution_count": 17,
   "metadata": {
    "collapsed": false
   },
   "outputs": [
    {
     "data": {
      "text/plain": [
       "'query_annot_uuid_list=%5B%7B%22__UUID__%22+%3A+%222637b5e7-2a41-4aea-9dbd-dfe186cc8c8c%22%7D%5D'"
      ]
     },
     "execution_count": 17,
     "metadata": {},
     "output_type": "execute_result"
    }
   ],
   "source": [
    "\"query_annot_uuid_list=%5B%7B%22__UUID__%22+%3A+%222637b5e7-2a41-4aea-9dbd-dfe186cc8c8c%22%7D%5D\""
   ]
  },
  {
   "cell_type": "code",
   "execution_count": 79,
   "metadata": {
    "collapsed": true
   },
   "outputs": [],
   "source": [
    "import requests\n",
    "\n",
    "url = \"http://pachy.cs.uic.edu:5001/api/engine/query/graph/\"\n",
    "\n",
    "data_dict = {\n",
    "    \"query_annot_uuid_list\" : [{\"__UUID__\" : \"5acbceed-8cf5-4f4f-bd19-30e1ac96e644\"}]\n",
    "}\n",
    "\n",
    "payload = urllib.parse.urlencode(data_dict)\n",
    "\n",
    "headers = {'content-type': 'application/x-www-form-urlencoded'}\n",
    "\n",
    "response = requests.request(\"POST\", url, data=payload, headers=headers)"
   ]
  },
  {
   "cell_type": "code",
   "execution_count": 80,
   "metadata": {
    "collapsed": false
   },
   "outputs": [
    {
     "data": {
      "text/plain": [
       "{'Content-Length': '247', 'Content-Type': 'text/html; charset=utf-8', 'Access-Control-Allow-Origin': '*', 'Server': 'TornadoServer/4.4.1', 'Set-Cookie': '__format__=; Expires=Thu, 01-Jan-1970 00:00:00 GMT; Path=/'}"
      ]
     },
     "execution_count": 80,
     "metadata": {},
     "output_type": "execute_result"
    }
   ],
   "source": [
    "response."
   ]
  },
  {
   "cell_type": "code",
   "execution_count": 46,
   "metadata": {
    "collapsed": true
   },
   "outputs": [],
   "source": [
    "# http://pachy.cs.uic.edu:5001/api/engine/job/result/?jobid=jobid-1711\n",
    "        \n",
    "        \n",
    "url = \"http://pachy.cs.uic.edu:5001/api/engine/job/result/\"        \n",
    "payload = {\"jobid\" : \"jobid-1711\"}\n",
    "payload = urllib.parse.urlencode(payload)\n",
    "\n",
    "response = requests.request(\"GET\", url, data=payload, headers=headers)"
   ]
  },
  {
   "cell_type": "code",
   "execution_count": 47,
   "metadata": {
    "collapsed": false
   },
   "outputs": [
    {
     "data": {
      "text/plain": [
       "{'annot_uuid_list': [{'__UUID__': '50911e26-59ec-477e-adc7-20eac7208cb3'},\n",
       "  {'__UUID__': '2637b5e7-2a41-4aea-9dbd-dfe186cc8c8c'},\n",
       "  {'__UUID__': '814abf6d-9237-45b5-a389-2b8031eb7572'}],\n",
       " 'error_flag_list': [['merge'], ['merge'], ['merge']],\n",
       " 'exemplar_flag_list': [False, True, False],\n",
       " 'new_name_list': ['NEWNAME_1', 'NEWNAME_1', 'NEWNAME_1'],\n",
       " 'orig_name_list': ['NEWNAME_-1796', 'NEWNAME_-1', 'NEWNAME_-1353']}"
      ]
     },
     "execution_count": 47,
     "metadata": {},
     "output_type": "execute_result"
    }
   ],
   "source": [
    "response.json()['response']['json_result']['inference_dict']['cluster_dict']"
   ]
  },
  {
   "cell_type": "code",
   "execution_count": 81,
   "metadata": {
    "collapsed": false
   },
   "outputs": [
    {
     "data": {
      "text/plain": [
       "'query_annot_uuid_list=%5B%7B%27__UUID__%27%3A+%275acbceed-8cf5-4f4f-bd19-30e1ac96e644%27%7D%5D'"
      ]
     },
     "execution_count": 81,
     "metadata": {},
     "output_type": "execute_result"
    }
   ],
   "source": [
    "str(payload)"
   ]
  },
  {
   "cell_type": "code",
   "execution_count": 52,
   "metadata": {
    "collapsed": false
   },
   "outputs": [
    {
     "data": {
      "text/plain": [
       "'query_annot_uuid_list=%5B%7B%22__UUID__%22%20%3A%20%225acbceed-8cf5-4f4f-bd19-30e1ac96e644%22%7D%5D'"
      ]
     },
     "execution_count": 52,
     "metadata": {},
     "output_type": "execute_result"
    }
   ],
   "source": [
    "payload1"
   ]
  },
  {
   "cell_type": "code",
   "execution_count": 78,
   "metadata": {
    "collapsed": false
   },
   "outputs": [
    {
     "data": {
      "text/plain": [
       "'query_annot_uuid_list=%5B%7B%22__UUID__%22%20%3A%20%225acbceed-8cf5-4f4f-bd19-30e1ac96e644%22%7D%5D'"
      ]
     },
     "execution_count": 78,
     "metadata": {},
     "output_type": "execute_result"
    }
   ],
   "source": [
    "\"query_annot_uuid_list=%5B%7B%22__UUID__%22%20%3A%20%225acbceed-8cf5-4f4f-bd19-30e1ac96e644%22%7D%5D\""
   ]
  },
  {
   "cell_type": "code",
   "execution_count": null,
   "metadata": {
    "collapsed": true
   },
   "outputs": [],
   "source": []
  }
 ],
 "metadata": {
  "kernelspec": {
   "display_name": "Python 3",
   "language": "python",
   "name": "python3"
  },
  "language_info": {
   "codemirror_mode": {
    "name": "ipython",
    "version": 3
   },
   "file_extension": ".py",
   "mimetype": "text/x-python",
   "name": "python",
   "nbconvert_exporter": "python",
   "pygments_lexer": "ipython3",
   "version": "3.5.2"
  }
 },
 "nbformat": 4,
 "nbformat_minor": 0
}
