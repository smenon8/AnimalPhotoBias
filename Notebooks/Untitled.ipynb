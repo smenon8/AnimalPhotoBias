{
 "cells": [
  {
   "cell_type": "code",
   "execution_count": 90,
   "metadata": {
    "collapsed": false
   },
   "outputs": [
    {
     "data": {
      "text/plain": [
       "<module 'JobsMapResultsFilesToContainerObjs' from '/Users/sreejithmenon/Google Drive/Project/AnimalPhotoBias/script/JobsMapResultsFilesToContainerObjs.py'>"
      ]
     },
     "execution_count": 90,
     "metadata": {},
     "output_type": "execute_result"
    }
   ],
   "source": [
    "import JobsMapResultsFilesToContainerObjs as a\n",
    "from collections import Counter\n",
    "import importlib\n",
    "importlib.reload(a)"
   ]
  },
  {
   "cell_type": "code",
   "execution_count": 44,
   "metadata": {
    "collapsed": false
   },
   "outputs": [],
   "source": [
    "results = a.createResultDict(1,100)"
   ]
  },
  {
   "cell_type": "code",
   "execution_count": 18,
   "metadata": {
    "collapsed": false
   },
   "outputs": [],
   "source": [
    "q1Answers = [results[album]['Answer.q1'] for album in results.keys()]\n",
    "q2Answers = [results[album]['Answer.q2'] for album in results.keys()]"
   ]
  },
  {
   "cell_type": "code",
   "execution_count": 19,
   "metadata": {
    "collapsed": true
   },
   "outputs": [],
   "source": [
    "q2Answers = [ele for lis in q2Answers for ele in lis]\n",
    "q1Answers = [ele for lis in q1Answers for ele in lis]"
   ]
  },
  {
   "cell_type": "code",
   "execution_count": 22,
   "metadata": {
    "collapsed": false
   },
   "outputs": [
    {
     "data": {
      "text/plain": [
       "Counter({'': 7,\n",
       "         'everyday': 48,\n",
       "         'infrequently': 250,\n",
       "         'never': 40,\n",
       "         'regularly': 203,\n",
       "         'sometimes': 452})"
      ]
     },
     "execution_count": 22,
     "metadata": {},
     "output_type": "execute_result"
    }
   ],
   "source": [
    "Counter(q1Answers)"
   ]
  },
  {
   "cell_type": "code",
   "execution_count": 23,
   "metadata": {
    "collapsed": false
   },
   "outputs": [
    {
     "data": {
      "text/plain": [
       "Counter({'': 6, 'A': 16, 'B': 32, 'C': 105, 'D': 554, 'E': 287})"
      ]
     },
     "execution_count": 23,
     "metadata": {},
     "output_type": "execute_result"
    }
   ],
   "source": [
    "Counter(q2Answers)"
   ]
  },
  {
   "cell_type": "code",
   "execution_count": 26,
   "metadata": {
    "collapsed": true
   },
   "outputs": [],
   "source": [
    "keyList = ['Answer.q1','Answer.q2']\n"
   ]
  },
  {
   "cell_type": "code",
   "execution_count": 29,
   "metadata": {
    "collapsed": false
   },
   "outputs": [],
   "source": [
    "cntrObj = { keyList[i] : Counter(answers[i]) for i in range(len(keyList))}"
   ]
  },
  {
   "cell_type": "code",
   "execution_count": 30,
   "metadata": {
    "collapsed": false
   },
   "outputs": [
    {
     "data": {
      "text/plain": [
       "{'Answer.q1': Counter({'': 7,\n",
       "          'everyday': 48,\n",
       "          'infrequently': 250,\n",
       "          'never': 40,\n",
       "          'regularly': 203,\n",
       "          'sometimes': 452}),\n",
       " 'Answer.q2': Counter({'': 6, 'A': 16, 'B': 32, 'C': 105, 'D': 554, 'E': 287})}"
      ]
     },
     "execution_count": 30,
     "metadata": {},
     "output_type": "execute_result"
    }
   ],
   "source": [
    "cntrObj"
   ]
  },
  {
   "cell_type": "code",
   "execution_count": 46,
   "metadata": {
    "collapsed": false
   },
   "outputs": [
    {
     "data": {
      "text/plain": [
       "{'Answer.q1': Counter({'': 7,\n",
       "          'everyday': 48,\n",
       "          'infrequently': 250,\n",
       "          'never': 40,\n",
       "          'regularly': 203,\n",
       "          'sometimes': 452}),\n",
       " 'Answer.q2': Counter({'': 6, 'A': 16, 'B': 32, 'C': 105, 'D': 554, 'E': 287})}"
      ]
     },
     "execution_count": 46,
     "metadata": {},
     "output_type": "execute_result"
    }
   ],
   "source": [
    "a.genCntrsGenQues(1,100,keyList)"
   ]
  },
  {
   "cell_type": "code",
   "execution_count": 81,
   "metadata": {
    "collapsed": false
   },
   "outputs": [],
   "source": [
    "mapFlName = \"../data/imageGID_job_map_expt2_corrected.csv\""
   ]
  },
  {
   "cell_type": "code",
   "execution_count": 88,
   "metadata": {
    "collapsed": false
   },
   "outputs": [],
   "source": [
    "with open(mapFlName,\"r\") as csvFl:\n",
    "    reader = csv.reader(csvFl)\n",
    "    head = reader.__next__()\n",
    "    data = [row for row in reader]\n",
    "\n",
    "images = [img for row in data for img in row[1:]]\n",
    "\n",
    "uniqueImgs = list(set(images))"
   ]
  },
  {
   "cell_type": "code",
   "execution_count": 84,
   "metadata": {
    "collapsed": true
   },
   "outputs": [],
   "source": [
    "import csv"
   ]
  },
  {
   "cell_type": "code",
   "execution_count": 91,
   "metadata": {
    "collapsed": false
   },
   "outputs": [
    {
     "data": {
      "text/plain": [
       "1610"
      ]
     },
     "execution_count": 91,
     "metadata": {},
     "output_type": "execute_result"
    }
   ],
   "source": [
    "len(a.genUniqueImageListFromMap(mapFlName))"
   ]
  },
  {
   "cell_type": "code",
   "execution_count": null,
   "metadata": {
    "collapsed": true
   },
   "outputs": [],
   "source": []
  }
 ],
 "metadata": {
  "kernelspec": {
   "display_name": "Python 3",
   "language": "python",
   "name": "python3"
  },
  "language_info": {
   "codemirror_mode": {
    "name": "ipython",
    "version": 3
   },
   "file_extension": ".py",
   "mimetype": "text/x-python",
   "name": "python",
   "nbconvert_exporter": "python",
   "pygments_lexer": "ipython3",
   "version": "3.5.2"
  }
 },
 "nbformat": 4,
 "nbformat_minor": 0
}
