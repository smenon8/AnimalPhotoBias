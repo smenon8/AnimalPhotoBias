{
 "cells": [
  {
   "cell_type": "code",
   "execution_count": 1,
   "metadata": {
    "collapsed": false
   },
   "outputs": [
    {
     "data": {
      "text/plain": [
       "<module 'GetPropertiesAPI' from '/Users/sreejithmenon/Google Drive/Project/AnimalPhotoBias/script/GetPropertiesAPI.py'>"
      ]
     },
     "execution_count": 1,
     "metadata": {},
     "output_type": "execute_result"
    }
   ],
   "source": [
    "import JobsMapResultsFilesToContainerObjs as a\n",
    "import GetPropertiesAPI as GP\n",
    "import math\n",
    "import importlib\n",
    "importlib.reload(GP)"
   ]
  },
  {
   "cell_type": "code",
   "execution_count": 2,
   "metadata": {
    "collapsed": true
   },
   "outputs": [],
   "source": [
    "allUniqImgs = a.genUniqueImageListFromMap(\"../data/imageGID_job_map_expt2_corrected.csv\")"
   ]
  },
  {
   "cell_type": "code",
   "execution_count": 3,
   "metadata": {
    "collapsed": false
   },
   "outputs": [],
   "source": [
    "allGID = allUniqImgs"
   ]
  },
  {
   "cell_type": "code",
   "execution_count": 4,
   "metadata": {
    "collapsed": false
   },
   "outputs": [],
   "source": [
    "gidInd = 0\n",
    "GidAidMap = {}\n",
    "for gid in allGID[:10]:\n",
    "    aid = GP.getAnnotID(int(gid))\n",
    "    GidAidMap[gid] = [aid]"
   ]
  },
  {
   "cell_type": "code",
   "execution_count": 5,
   "metadata": {
    "collapsed": false
   },
   "outputs": [],
   "source": [
    "aidList = []\n",
    "for gid in GidAidMap.keys():\n",
    "\tfor aid in filter(lambda x: x != None,GidAidMap[gid]):\n",
    "\t\taidList = aidList + aid"
   ]
  },
  {
   "cell_type": "code",
   "execution_count": 6,
   "metadata": {
    "collapsed": false
   },
   "outputs": [],
   "source": [
    "nids = GP.getImageFeature(aidList,\"name/rowid\")"
   ]
  },
  {
   "cell_type": "code",
   "execution_count": 7,
   "metadata": {
    "collapsed": false
   },
   "outputs": [
    {
     "data": {
      "text/plain": [
       "[-16971,\n",
       " -16972,\n",
       " 1552,\n",
       " 1306,\n",
       " 1814,\n",
       " 1759,\n",
       " 305,\n",
       " 463,\n",
       " 304,\n",
       " -9251,\n",
       " -9252,\n",
       " -13383,\n",
       " 22]"
      ]
     },
     "execution_count": 7,
     "metadata": {},
     "output_type": "execute_result"
    }
   ],
   "source": [
    "nids"
   ]
  },
  {
   "cell_type": "code",
   "execution_count": 10,
   "metadata": {
    "collapsed": true
   },
   "outputs": [],
   "source": [
    "age_months = GP.getImageFeature(aidList,\"age/months\")"
   ]
  },
  {
   "cell_type": "code",
   "execution_count": 12,
   "metadata": {
    "collapsed": false
   },
   "outputs": [
    {
     "data": {
      "text/plain": [
       "['infant',\n",
       " 'infant',\n",
       " 'adult',\n",
       " 'infant',\n",
       " 'adult',\n",
       " 'adult',\n",
       " 'infant',\n",
       " 'infant',\n",
       " 'adult',\n",
       " 'infant',\n",
       " 'infant',\n",
       " 'infant',\n",
       " 'adult']"
      ]
     },
     "execution_count": 12,
     "metadata": {},
     "output_type": "execute_result"
    }
   ],
   "source": [
    "[GP.getAgeFeatureReadableFmt(i) for i in age_months]"
   ]
  },
  {
   "cell_type": "code",
   "execution_count": null,
   "metadata": {
    "collapsed": true
   },
   "outputs": [],
   "source": []
  }
 ],
 "metadata": {
  "kernelspec": {
   "display_name": "Python 3",
   "language": "python",
   "name": "python3"
  },
  "language_info": {
   "codemirror_mode": {
    "name": "ipython",
    "version": 3
   },
   "file_extension": ".py",
   "mimetype": "text/x-python",
   "name": "python",
   "nbconvert_exporter": "python",
   "pygments_lexer": "ipython3",
   "version": "3.5.2"
  }
 },
 "nbformat": 4,
 "nbformat_minor": 0
}
