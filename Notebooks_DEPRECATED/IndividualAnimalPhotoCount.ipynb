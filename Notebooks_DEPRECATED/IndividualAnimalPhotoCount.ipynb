{
 "cells": [
  {
   "cell_type": "raw",
   "metadata": {
    "collapsed": true
   },
   "source": [
    "Script for counting the number of times an animal was photographed\n",
    "Author: Sreejith Menon\n",
    "Date: May 25 2016"
   ]
  },
  {
   "cell_type": "code",
   "execution_count": 3,
   "metadata": {
    "collapsed": false
   },
   "outputs": [],
   "source": [
    "import GetPropertiesAPI as GP\n",
    "from collections import Counter\n",
    "import pandas as pd\n",
    "import importlib\n",
    "importlib.reload(GP)\n",
    "import statistics as s\n",
    "import operator\n",
    "from collections import defaultdict\n",
    "import csv \n",
    "import matplotlib.pyplot as plt"
   ]
  },
  {
   "cell_type": "code",
   "execution_count": 15,
   "metadata": {
    "collapsed": false
   },
   "outputs": [],
   "source": [
    "aid_list = []\n",
    "gidAidDict = {}\n",
    "for gid in range(1,9407):\n",
    "    aid = GP.getAnnotID(gid)\n",
    "    aid_list.append(aid)\n",
    "    gidAidDict[gid] = aid\n",
    "    \n",
    "aid_list = list(filter(lambda x: x != None,aid_list))"
   ]
  },
  {
   "cell_type": "code",
   "execution_count": 16,
   "metadata": {
    "collapsed": false
   },
   "outputs": [],
   "source": [
    "aids = []\n",
    "for aid_l in aid_list:\n",
    "    for aid in aid_l:\n",
    "        aids.append(aid)"
   ]
  },
  {
   "cell_type": "code",
   "execution_count": 20,
   "metadata": {
    "collapsed": false
   },
   "outputs": [],
   "source": [
    "aidContribTupList = []\n",
    "for aid in aids:\n",
    "    contrib = GP.getImageFeature(aid,'image_contributor_tag')\n",
    "    aidContribTupList.append((aid,contrib[0]))"
   ]
  },
  {
   "cell_type": "code",
   "execution_count": 21,
   "metadata": {
    "collapsed": false
   },
   "outputs": [],
   "source": [
    "aidNidMap = {}\n",
    "aidNamesMap = {}\n",
    "aidNidTupList = [] # modified\n",
    "\n",
    "for aid in aids:\n",
    "    nid = GP.getImageFeature(aid,'nids')\n",
    "    aidNidMap[aid] = nid\n",
    "    aidNidTupList.append((aid,nid[0]))"
   ]
  },
  {
   "cell_type": "code",
   "execution_count": 22,
   "metadata": {
    "collapsed": false
   },
   "outputs": [],
   "source": [
    "nids = []\n",
    "for aid in aidNidMap.keys():\n",
    "    nids.append(aidNidMap[aid][0])"
   ]
  },
  {
   "cell_type": "code",
   "execution_count": 23,
   "metadata": {
    "collapsed": false
   },
   "outputs": [],
   "source": [
    "nids = list(filter(lambda x : x > 0,nids))"
   ]
  },
  {
   "cell_type": "code",
   "execution_count": 9,
   "metadata": {
    "collapsed": false
   },
   "outputs": [],
   "source": [
    "counter_nid= Counter(nids)\n"
   ]
  },
  {
   "cell_type": "code",
   "execution_count": 10,
   "metadata": {
    "collapsed": false
   },
   "outputs": [],
   "source": [
    "gidAidDict\n",
    "aidGidTupList = [] # key : aid and value : gid # modified\n",
    "for gid in gidAidDict.keys():\n",
    "    if gidAidDict[gid] != None:\n",
    "        for aid in gidAidDict[gid]:\n",
    "            aidGidTupList.append((aid,gid))"
   ]
  },
  {
   "cell_type": "code",
   "execution_count": 11,
   "metadata": {
    "collapsed": false
   },
   "outputs": [],
   "source": [
    "aidGidDf = pd.DataFrame(aidGidTupList,columns = ['AID','GID']) \n",
    "aidNidDf = pd.DataFrame(aidNidTupList,columns = ['AID','NID']) \n",
    "aidContribDf = pd.DataFrame(aidContribTupList,columns = ['AID','CONTRIBUTOR'])\n",
    "aidNidDf = aidNidDf[(aidNidDf['NID']>0)]"
   ]
  },
  {
   "cell_type": "code",
   "execution_count": 12,
   "metadata": {
    "collapsed": false
   },
   "outputs": [],
   "source": [
    "aidGidNidDf = pd.merge(aidGidDf,aidNidDf,left_on = 'AID',right_on = 'AID')\n",
    "aidGidNidContribDf = pd.merge(aidGidNidDf,aidContribDf,left_on = 'AID',right_on = 'AID')"
   ]
  },
  {
   "cell_type": "code",
   "execution_count": 13,
   "metadata": {
    "collapsed": false
   },
   "outputs": [],
   "source": [
    "aidGidNidContribDf.to_csv('results.csv',index=False)"
   ]
  },
  {
   "cell_type": "code",
   "execution_count": 157,
   "metadata": {
    "collapsed": false
   },
   "outputs": [
    {
     "data": {
      "text/plain": [
       "4948"
      ]
     },
     "execution_count": 157,
     "metadata": {},
     "output_type": "execute_result"
    }
   ],
   "source": [
    "with open('results.csv') as f: # read from csv file into a key : GID and value : CONTRIBUTOR\n",
    "    reader = csv.DictReader(f)\n",
    "    gidContribMap = { line['GID']: line['CONTRIBUTOR'] for line in reader }\n",
    "        \n",
    "len(gidContribMap)"
   ]
  },
  {
   "cell_type": "code",
   "execution_count": 277,
   "metadata": {
    "collapsed": false
   },
   "outputs": [
    {
     "name": "stdout",
     "output_type": "stream",
     "text": [
      "88.35714285714286\n",
      "136.7916037523607\n"
     ]
    }
   ],
   "source": [
    "ContribTotal = {} # dict with key : CONTRIBUTOR and value: Total photos taken\n",
    "\n",
    "for gid,contrib in gidContribMap.items():\n",
    "     ContribTotal[contrib] = ContribTotal.get(contrib,0) + 1\n",
    "\n",
    "print(s.mean(ContribTotal.values()))\n",
    "print(s.stdev(ContribTotal.values()))"
   ]
  },
  {
   "cell_type": "code",
   "execution_count": 3,
   "metadata": {
    "collapsed": false
   },
   "outputs": [],
   "source": [
    "with open('results.csv') as f2: # read from csv file into a Dict with key : AID and value : GID, NID, CONTRIBUTOR\n",
    "    reader2 = csv.DictReader(f2)\n",
    "    aidToGidNidContribMap = { line['AID']: [line['GID'], line['NID'], line['CONTRIBUTOR']] for line in reader2 }"
   ]
  },
  {
   "cell_type": "code",
   "execution_count": 275,
   "metadata": {
    "collapsed": false
   },
   "outputs": [],
   "source": [
    "NidContribTotal = {} # dict with key : NID, CONTRIBUTOR and value: Total photos taken\n",
    "for aid,(gid,nid,contrib) in aidToGidNidContribMap.items():\n",
    "     NidContribTotal[nid,contrib] = NidContribTotal.get((nid,contrib),0) + 1"
   ]
  },
  {
   "cell_type": "code",
   "execution_count": 234,
   "metadata": {
    "collapsed": false
   },
   "outputs": [],
   "source": [
    "csv_out = csv.writer(open('nidtoContributor.csv', 'w')) # rename file, results of Nid to Contributor to Total\n",
    "csv_out.writerow(['NID', 'CONTRIBUTOR', 'TOTAL'])\n",
    "for (Nid, Contrib), value in NidContribTotal.items():\n",
    "   csv_out.writerow([Nid, Contrib, value])"
   ]
  },
  {
   "cell_type": "code",
   "execution_count": 272,
   "metadata": {
    "collapsed": false
   },
   "outputs": [],
   "source": [
    "#from collections import defaultdict\n",
    "\n",
    "averageCountofPictures = defaultdict(list) # dict where key : NID and values: list of pictures taken per photographer\n",
    "\n",
    "for (nid, contrib), total in NidContribTotal.items(): \n",
    "    averageCountofPictures[nid].append(total)\n",
    "       \n",
    "#averageCountofPictures"
   ]
  },
  {
   "cell_type": "code",
   "execution_count": 276,
   "metadata": {
    "collapsed": false
   },
   "outputs": [],
   "source": [
    "countUniquePhotoPerPic = {} # dict where key : NID and values : # of CONTRIBUTERS\n",
    "\n",
    "for (nid, contrib), total in NidContribTotal.items():\n",
    "    countUniquePhotoPerPic[nid] = countUniquePhotoPerPic.get((nid),0) + 1 \n",
    "\n",
    "#countUniquePhotoPerPic['741']"
   ]
  },
  {
   "cell_type": "code",
   "execution_count": null,
   "metadata": {
    "collapsed": true
   },
   "outputs": [],
   "source": []
  },
  {
   "cell_type": "code",
   "execution_count": null,
   "metadata": {
    "collapsed": true
   },
   "outputs": [],
   "source": [
    "#JUST LOOK FROM HERE"
   ]
  },
  {
   "cell_type": "code",
   "execution_count": 60,
   "metadata": {
    "collapsed": false
   },
   "outputs": [],
   "source": [
    "# Arguments : Required Feature\n",
    "# Accepted Features: species_texts, age_months_est, exemplar_flags, sex_texts, yaw_texts, quality_texts,image_contributor_tag\n",
    "# Returns : Returns Dictionary of total feature\n",
    "def getContributorFeature(feature):\n",
    "    \n",
    "    #SHOULD WE HAVE THIS????\n",
    "    with open('results.csv') as f: # read from csv file into a Dict with key : AID and value : GID, NID, CONTRIBUTOR\n",
    "        reader = csv.DictReader(f)\n",
    "        aidToGidNidContribMap = { line['AID']: [line['GID'], line['NID'], line['CONTRIBUTOR']] for line in reader }\n",
    "    \n",
    "    \n",
    "    contribToFeatureMap = defaultdict(list) # dict where key : contributor and values : List of feature\n",
    "    for aid,(gid,nid,contrib) in aidToGidNidContribMap.items():\n",
    "        contribToFeatureMap[contrib].append(GP.getImageFeature(aid, feature)[0])\n",
    "    \n",
    "    contribAnimFeatCount = {} # dict where key : contributor and values : total of specific feature\n",
    "    for key in contribToSexMap.keys():\n",
    "        contribAnimFeatCount[key]=dict(Counter(contribToFeatureMap[key]))\n",
    "    \n",
    "    return contribAnimFeatCount"
   ]
  },
  {
   "cell_type": "code",
   "execution_count": null,
   "metadata": {
    "collapsed": false,
    "scrolled": true
   },
   "outputs": [],
   "source": [
    "#m={}\n",
    "#x={}\n",
    "#m=getContributorFeature(\"species_texts\")\n",
    "#x=getContributorFeature(\"sex_texts\")\n",
    "#print(m)"
   ]
  },
  {
   "cell_type": "code",
   "execution_count": 79,
   "metadata": {
    "collapsed": false
   },
   "outputs": [
    {
     "data": {
      "text/plain": [
       "2505"
      ]
     },
     "execution_count": 79,
     "metadata": {},
     "output_type": "execute_result"
    }
   ],
   "source": [
    "#FOR ALL MALES, FEMALES, UNKNOWN INTO CSV FILE\n",
    "\n",
    "malesTotal={}\n",
    "femaleTotal={}\n",
    "unknownTotal={}\n",
    "\n",
    "for contrib, feature in x.items(): #change x\n",
    "    malesTotal[contrib]=feature.get('Male', 0)\n",
    "    femaleTotal[contrib]=feature.get('Female', 0)\n",
    "    unknownTotal[contrib]=feature.get('UNKNOWN SEX', 0)\n",
    "    \n",
    "maleTotal=(sum(malesTotal.values()))\n",
    "femaleTotal=(sum(femaleTotal.values()))\n",
    "unknownTotal=(sum(unknownTotal.values()))\n",
    "\n",
    "csv_out = csv.writer(open('contribSexTotal.csv', 'w')) # rename file, results of Nid to Contributor to Total\n",
    "csv_out.writerow(['FEATURE', 'MALE', 'FEMALE', 'UNKWOWN SEX'])\n",
    "csv_out.writerow(['sex_texts', malesTotal, femaleTotal, unknownTotal ])"
   ]
  },
  {
   "cell_type": "code",
   "execution_count": 68,
   "metadata": {
    "collapsed": false
   },
   "outputs": [],
   "source": [
    "# Arguments : ContributorToFeatureDict , Required Specific Feature\n",
    "# Accepted Specific Features: sex_texts = \"Male\", \"Female\", \"UNKNOWN SEX\", etc.\n",
    "# Returns : \n",
    "def getContributorSpecificFeature(contribAnimFeatCount, specificfeat):\n",
    "    contribSpecFeatureMap={}\n",
    "    for contrib, feature in contribAnimFeatCount.items():\n",
    "        contribSpecFeatureMap[contrib]=feature.get(specificfeat , 0)\n",
    "    \n",
    "    csv_out = csv.writer(open('contrib'+ specificfeat +'Map.csv', 'w')) #used for plotting later\n",
    "    csv_out.writerow(['CONTRIBUTOR', specificfeat])\n",
    "    for contrib, specfeature in contribSpecFeatureMap.items():\n",
    "       csv_out.writerow([contrib, specfeature])"
   ]
  },
  {
   "cell_type": "code",
   "execution_count": 69,
   "metadata": {
    "collapsed": false
   },
   "outputs": [],
   "source": [
    "\n",
    "#getContributorSpecificFeature(contribAnimSexCount, \"UNKNOWN SEX\")\n",
    "getContributorSpecificFeature(contribAnimSexCount, 'Female')\n"
   ]
  },
  {
   "cell_type": "code",
   "execution_count": 4,
   "metadata": {
    "collapsed": false
   },
   "outputs": [],
   "source": [
    "# Arguments : csv_file , Required Specific Feature\n",
    "# Accepted Specific Features: sex_texts = \"Male\", \"Female\", \"UNKNOWN SEX\", etc.\n",
    "# Returns : NONE\n",
    "def creategraph(csv_file, specific_feature):\n",
    "    data = pd.read_csv(csv_file, sep=',',header=0, index_col =0) #csv_file\n",
    "\n",
    "    data.plot(kind='bar')\n",
    "    plt.ylabel('Number of ' + specific_feature + ' taken')\n",
    "    plt.xlabel('Contributor')\n",
    "    plt.title('Contributor to'+ specific_feature + 'Totals')\n",
    "\n",
    "    plt.show()"
   ]
  },
  {
   "cell_type": "code",
   "execution_count": null,
   "metadata": {
    "collapsed": false
   },
   "outputs": [],
   "source": [
    "#creategraph('contribMaleMap.csv', \"Male\")\n",
    "creategraph('contribFemaleMap.csv', 'Female')"
   ]
  },
  {
   "cell_type": "code",
   "execution_count": null,
   "metadata": {
    "collapsed": true
   },
   "outputs": [],
   "source": []
  }
 ],
 "metadata": {
  "kernelspec": {
   "display_name": "Python 3",
   "language": "python",
   "name": "python3"
  },
  "language_info": {
   "codemirror_mode": {
    "name": "ipython",
    "version": 3
   },
   "file_extension": ".py",
   "mimetype": "text/x-python",
   "name": "python",
   "nbconvert_exporter": "python",
   "pygments_lexer": "ipython3",
   "version": "3.5.1"
  }
 },
 "nbformat": 4,
 "nbformat_minor": 0
}
