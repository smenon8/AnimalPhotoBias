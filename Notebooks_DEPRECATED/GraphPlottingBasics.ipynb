{
 "cells": [
  {
   "cell_type": "code",
   "execution_count": null,
   "metadata": {
    "collapsed": true
   },
   "outputs": [],
   "source": [
    "import matplotlib.pyplot as plt\n",
    "\n",
    "x1 = [1,2,3]\n",
    "y1 = [4,5,6]\n",
    "\n",
    "x2 = [1,2,3]\n",
    "y2 = [10,11,12]\n",
    "\n",
    "plt.xlabel(\"X-axis\")\n",
    "plt.ylabel(\"Y-axis\")\n",
    "plt.title(\"A test graph\")\n",
    "plt.plot(x1,y1,label = 'first line')\n",
    "plt.plot(x2,y2,label = 'second line')\n",
    "\n",
    "plt.legend()\n",
    "plt.show()"
   ]
  },
  {
   "cell_type": "code",
   "execution_count": null,
   "metadata": {
    "collapsed": true
   },
   "outputs": [],
   "source": [
    "# bar charts\n",
    "\n",
    "x = [2,4,6,8,10]\n",
    "y = [7,9,8,1,2]\n",
    "\n",
    "x2 = [1,3,5,7,9]\n",
    "y2 = [4,1,2,9,6]\n",
    "\n",
    "plt.bar(x,y,label='Bar1',color='red')\n",
    "plt.bar(x2,y2,label='Bar2',color='k')\n",
    "plt.xlabel(\"X-axis\")\n",
    "plt.ylabel(\"Y-axis\")\n",
    "plt.title(\"A test graph\")\n",
    "plt.legend()\n",
    "plt.show()"
   ]
  },
  {
   "cell_type": "code",
   "execution_count": null,
   "metadata": {
    "collapsed": false
   },
   "outputs": [],
   "source": [
    "# histograms - generally used to show distributions\n",
    "\n",
    "pop_ages = [21,46,76,45,23,91,9,17,15,14,16,18,99,12,34,45,56,67,78,12,34,13,15,26,19,98,95,82]\n",
    "ids = [x for x in range(len(pop_ages))]\n",
    "\n",
    "# x axis not needed in histogram\n",
    "\n",
    "bins = [0,10,20,30,40,50,60,70,80,90,100,110] #ranges of data\n",
    "\n",
    "plt.hist(pop_ages,bins,histtype='bar',rwidth=0.8)\n",
    "plt.xlabel(\"X-axis\")\n",
    "plt.ylabel(\"Y-axis\")\n",
    "plt.title(\"A test graph\")\n",
    "#plt.legend()\n",
    "plt.show()"
   ]
  },
  {
   "cell_type": "code",
   "execution_count": null,
   "metadata": {
    "collapsed": false
   },
   "outputs": [],
   "source": [
    "# scatter plot - used to show relationship between two types of variables\n",
    "x = [2,4,6,8,10]\n",
    "y = [7,9,8,1,2]\n",
    "\n",
    "plt.scatter(x,y,label='skitscat',color = 'k',marker = 'D',s=100)\n",
    "\n",
    "plt.xlabel(\"X-axis\")\n",
    "plt.ylabel(\"Y-axis\")\n",
    "plt.title(\"A test graph\")\n",
    "plt.legend()\n",
    "plt.show()"
   ]
  },
  {
   "cell_type": "code",
   "execution_count": null,
   "metadata": {
    "collapsed": false
   },
   "outputs": [],
   "source": [
    "# stack plots\n",
    "days = [1,2,3,4,5]\n",
    "\n",
    "slp = [7,8,7,6,11]\n",
    "eat = [5,2,1,1,1]\n",
    "wrk = [7,8,8,8,1]\n",
    "ply = [5,4,3,6,1]\n",
    "plt.plot([],[],color='m',label = 'slp',linewidth=5)\n",
    "plt.plot([],[],color='k',label = 'eat',linewidth=5)\n",
    "plt.plot([],[],color='r',label = 'work',linewidth=5)\n",
    "plt.plot([],[],color='c',label = 'ply',linewidth=5)\n",
    "plt.stackplot(days, slp,eat,wrk,ply,colors=['m','k','r','c'])\n",
    "plt.xlabel(\"X-axis\")\n",
    "plt.ylabel(\"Y-axis\")\n",
    "plt.title(\"A test graph\")\n",
    "plt.legend()\n",
    "plt.show()"
   ]
  },
  {
   "cell_type": "code",
   "execution_count": null,
   "metadata": {
    "collapsed": true
   },
   "outputs": [],
   "source": [
    "# pie charts\n",
    "days = [1,2,3,4,5]\n",
    "\n",
    "slp = [7,8,7,6,11]\n",
    "eat = [5,2,1,1,1]\n",
    "wrk = [7,8,8,8,1]\n",
    "ply = [5,4,3,6,1]\n",
    "\n",
    "slices = [7,2,2,13]\n",
    "activities = ['slp','eat','work','ply']\n",
    "cols = ['m','k','r','c']\n",
    "plt.pie(slices,\n",
    "        labels= activities,\n",
    "        colors = cols,\n",
    "        shadow=True,\n",
    "        explode=(0,0.5,0,0),\n",
    "       autopct='%1.1f%%')\n",
    "# plt.xlabel(\"X-axis\")\n",
    "# plt.ylabel(\"Y-axis\")\n",
    "plt.title(\"A test graph\")\n",
    "plt.legend()\n",
    "plt.show()"
   ]
  },
  {
   "cell_type": "code",
   "execution_count": null,
   "metadata": {
    "collapsed": true
   },
   "outputs": [],
   "source": [
    "x,y = np.loadtxt(\"flnm.csv\",delimiter = ',',unpack= True)"
   ]
  },
  {
   "cell_type": "code",
   "execution_count": 2,
   "metadata": {
    "collapsed": false
   },
   "outputs": [],
   "source": [
    "import matplotlib.pyplot as plt\n",
    "import pandas as pd\n",
    "\n",
    "l = [(1,3),(0,2),(1,4),(0,1),(0,3)]\n",
    "df = pd.DataFrame(l)\n",
    "\n",
    "df.columns = ['a','b']\n",
    "# bins = [0,1,2,3,4,5] #ranges of data\n",
    "# plt.hist(list(df['b']),bins,histtype='bar',rwidth=0.8)"
   ]
  },
  {
   "cell_type": "code",
   "execution_count": null,
   "metadata": {
    "collapsed": true
   },
   "outputs": [],
   "source": [
    "plt.show()"
   ]
  },
  {
   "cell_type": "code",
   "execution_count": 6,
   "metadata": {
    "collapsed": false
   },
   "outputs": [
    {
     "name": "stdout",
     "output_type": "stream",
     "text": [
      "Axes(0.125,0.1;0.775x0.8)\n"
     ]
    }
   ],
   "source": [
    "print(df['b'].value_counts().plot(kind='bar'))"
   ]
  },
  {
   "cell_type": "code",
   "execution_count": 4,
   "metadata": {
    "collapsed": true
   },
   "outputs": [],
   "source": [
    "plt.close()"
   ]
  },
  {
   "cell_type": "code",
   "execution_count": null,
   "metadata": {
    "collapsed": true
   },
   "outputs": [],
   "source": [
    "plt.show()"
   ]
  },
  {
   "cell_type": "code",
   "execution_count": 5,
   "metadata": {
    "collapsed": false
   },
   "outputs": [],
   "source": [
    "import matplotlib.pyplot as plt\n",
    "import pandas as pd\n",
    "l = [(1,3),(0,2),(1,4),(0,1),(0,3)]\n",
    "df = pd.DataFrame(l)\n",
    "df.columns = ['a','b']"
   ]
  },
  {
   "cell_type": "code",
   "execution_count": 9,
   "metadata": {
    "collapsed": false
   },
   "outputs": [
    {
     "data": {
      "text/html": [
       "<div>\n",
       "<table border=\"1\" class=\"dataframe\">\n",
       "  <thead>\n",
       "    <tr style=\"text-align: right;\">\n",
       "      <th></th>\n",
       "      <th>a</th>\n",
       "      <th>b</th>\n",
       "    </tr>\n",
       "  </thead>\n",
       "  <tbody>\n",
       "    <tr>\n",
       "      <th>0</th>\n",
       "      <td>1</td>\n",
       "      <td>3</td>\n",
       "    </tr>\n",
       "    <tr>\n",
       "      <th>1</th>\n",
       "      <td>0</td>\n",
       "      <td>2</td>\n",
       "    </tr>\n",
       "  </tbody>\n",
       "</table>\n",
       "</div>"
      ],
      "text/plain": [
       "   a  b\n",
       "0  1  3\n",
       "1  0  2"
      ]
     },
     "execution_count": 9,
     "metadata": {},
     "output_type": "execute_result"
    }
   ],
   "source": [
    "df.drop_duplicates(subset='a')"
   ]
  },
  {
   "cell_type": "code",
   "execution_count": 10,
   "metadata": {
    "collapsed": true
   },
   "outputs": [],
   "source": [
    "import matplotlib.pyplot as plt\n",
    "%matplotlib inline"
   ]
  },
  {
   "cell_type": "code",
   "execution_count": 11,
   "metadata": {
    "collapsed": false
   },
   "outputs": [
    {
     "data": {
      "image/png": "[encoded data removed]",
      "text/plain": [
       "<matplotlib.figure.Figure at 0x11535a780>"
      ]
     },
     "metadata": {},
     "output_type": "display_data"
    }
   ],
   "source": [
    "bins = [0,1,2,3,4,5] #ranges of data\n",
    "plt.hist(list(df['b']),bins,histtype='bar',rwidth=0.8)\n",
    "plt.show()"
   ]
  },
  {
   "cell_type": "code",
   "execution_count": null,
   "metadata": {
    "collapsed": true
   },
   "outputs": [],
   "source": []
  }
 ],
 "metadata": {
  "kernelspec": {
   "display_name": "Python 3",
   "language": "python",
   "name": "python3"
  },
  "language_info": {
   "codemirror_mode": {
    "name": "ipython",
    "version": 3
   },
   "file_extension": ".py",
   "mimetype": "text/x-python",
   "name": "python",
   "nbconvert_exporter": "python",
   "pygments_lexer": "ipython3",
   "version": "3.5.2"
  }
 },
 "nbformat": 4,
 "nbformat_minor": 0
}
